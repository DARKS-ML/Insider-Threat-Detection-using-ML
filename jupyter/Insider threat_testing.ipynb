{
 "cells": [
  {
   "cell_type": "code",
   "execution_count": 1,
   "metadata": {
    "colab": {
     "base_uri": "https://localhost:8080/"
    },
    "executionInfo": {
     "elapsed": 1005,
     "status": "ok",
     "timestamp": 1632034181488,
     "user": {
      "displayName": "Suraj Sharma",
      "photoUrl": "https://lh3.googleusercontent.com/a/default-user=s64",
      "userId": "04526276601361747492"
     },
     "user_tz": -345
    },
    "id": "wij_6UxvaCgD",
    "outputId": "5ccbb726-7ae7-4767-a9b9-36693f86dba4"
   },
   "outputs": [],
   "source": [
    "# from google.colab import drive\n",
    "# drive.mount('/content/gdrive')\n"
   ]
  },
  {
   "cell_type": "code",
   "execution_count": 2,
   "metadata": {
    "id": "n9Cev7cmaFhr"
   },
   "outputs": [],
   "source": [
    "import pandas as pd\n",
    "import numpy as np"
   ]
  },
  {
   "cell_type": "code",
   "execution_count": 3,
   "metadata": {
    "id": "PcX_UU9igM7J"
   },
   "outputs": [],
   "source": [
    "# path = \"/content/gdrive/MyDrive/dataset/\"\n",
    "path = '../dataset new/'\n"
   ]
  },
  {
   "cell_type": "code",
   "execution_count": 4,
   "metadata": {
    "id": "xOTXUo0-arwM"
   },
   "outputs": [],
   "source": [
    "df_users_full = pd.read_csv(path + \"users.csv\")\n",
    "df_users1 = df_users_full[[\"user_id\",\"functional_unit\",\"department\"]]\n",
    "df_users = df_users1[df_users1.functional_unit == \"2 - ResearchAndEngineering\"]\n",
    "df_users = df_users[(df_users.department != \"1 - Research\")]\n",
    "df_users = pd.DataFrame(df_users)"
   ]
  },
  {
   "cell_type": "code",
   "execution_count": null,
   "metadata": {
    "id": "yj40AovFedSI"
   },
   "outputs": [],
   "source": []
  },
  {
   "cell_type": "code",
   "execution_count": 5,
   "metadata": {
    "colab": {
     "base_uri": "https://localhost:8080/"
    },
    "executionInfo": {
     "elapsed": 33,
     "status": "ok",
     "timestamp": 1632034182609,
     "user": {
      "displayName": "Suraj Sharma",
      "photoUrl": "https://lh3.googleusercontent.com/a/default-user=s64",
      "userId": "04526276601361747492"
     },
     "user_tz": -345
    },
    "id": "eGo4DX9Gczki",
    "outputId": "9ded50c5-8c08-4e31-991f-17b010ecc645"
   },
   "outputs": [
    {
     "name": "stdout",
     "output_type": "stream",
     "text": [
      "<class 'pandas.core.frame.DataFrame'>\n",
      "Int64Index: 3991 entries, 8 to 17333\n",
      "Data columns (total 3 columns):\n",
      " #   Column           Non-Null Count  Dtype \n",
      "---  ------           --------------  ----- \n",
      " 0   user_id          3991 non-null   object\n",
      " 1   functional_unit  3991 non-null   object\n",
      " 2   department       3991 non-null   object\n",
      "dtypes: object(3)\n",
      "memory usage: 124.7+ KB\n"
     ]
    }
   ],
   "source": [
    "df_users = df_users.dropna(axis = 0)\n",
    "df_users.info()"
   ]
  },
  {
   "cell_type": "code",
   "execution_count": 6,
   "metadata": {
    "id": "TU8PLfADepqY"
   },
   "outputs": [],
   "source": [
    "df_device = pd.read_csv(path + \"device.csv\")"
   ]
  },
  {
   "cell_type": "code",
   "execution_count": 7,
   "metadata": {
    "id": "lJekvpRShBh6"
   },
   "outputs": [],
   "source": [
    "df_file = pd.read_csv(path + \"file.csv\")"
   ]
  },
  {
   "cell_type": "code",
   "execution_count": 8,
   "metadata": {
    "id": "in4qMPtahbat"
   },
   "outputs": [],
   "source": [
    "df_logon = pd.read_csv(path + \"logon.csv\")"
   ]
  },
  {
   "cell_type": "code",
   "execution_count": 9,
   "metadata": {
    "id": "eobo2cJxhi7x"
   },
   "outputs": [],
   "source": [
    "df_psychometric = pd.read_csv(path + \"psychometric.csv\")\n",
    "df_psychometric = df_psychometric[['employee_name','user_id','O','C','E', 'A', 'N']]"
   ]
  },
  {
   "cell_type": "code",
   "execution_count": 10,
   "metadata": {
    "id": "Tgn9ocmgiLNY"
   },
   "outputs": [],
   "source": [
    "df_users_clean = df_users.rename(columns= {'user_id':'user'}, inplace=False)"
   ]
  },
  {
   "cell_type": "code",
   "execution_count": 11,
   "metadata": {
    "id": "FmP8jIxvjlLP"
   },
   "outputs": [],
   "source": [
    "df_logon_users = pd.merge(df_logon, df_users_clean, on = 'user')\n",
    "df_logon_users_clean = df_logon_users.drop(columns=['functional_unit', 'department'])\n"
   ]
  },
  {
   "cell_type": "code",
   "execution_count": 12,
   "metadata": {
    "id": "UrMWJ9HxkND6"
   },
   "outputs": [],
   "source": [
    "df_device_users = pd.merge(df_device, df_users_clean, on='user')\n",
    "df_device_users_clean = df_device_users.drop(columns=['functional_unit','department'])"
   ]
  },
  {
   "cell_type": "code",
   "execution_count": 13,
   "metadata": {
    "id": "ANzvOpCzld8Q"
   },
   "outputs": [],
   "source": [
    "df_device_users = pd.merge(df_device, df_users_clean, on = 'user')\n",
    "df_device_users_clean = df_device_users.drop(columns = ['functional_unit', 'department'])\n"
   ]
  },
  {
   "cell_type": "code",
   "execution_count": 14,
   "metadata": {
    "id": "Dxe2BR0Xl63k"
   },
   "outputs": [],
   "source": [
    "df_file_users = pd.merge(df_file, df_users_clean, on = 'user')\n",
    "df_file_users_clean = df_file_users.drop(columns = ['functional_unit', 'department'])\n"
   ]
  },
  {
   "cell_type": "code",
   "execution_count": 15,
   "metadata": {
    "id": "MDykw7I_mSgi"
   },
   "outputs": [],
   "source": [
    "df_psychometric_users = pd.merge(df_psychometric, df_users, on = 'user_id')\n",
    "df_psychometric_users_clean = df_psychometric_users[['employee_name', 'user_id','O', 'C', 'E','A','N']]\n"
   ]
  },
  {
   "cell_type": "code",
   "execution_count": null,
   "metadata": {
    "id": "0hOB8qtTmjmm"
   },
   "outputs": [],
   "source": []
  },
  {
   "cell_type": "code",
   "execution_count": 16,
   "metadata": {
    "id": "bGx9ZX5wnlxv"
   },
   "outputs": [],
   "source": [
    "df_logon_users_clean['date'] = pd.to_datetime(df_logon_users_clean['date'])"
   ]
  },
  {
   "cell_type": "code",
   "execution_count": 17,
   "metadata": {
    "id": "nXDsqIadn6yv"
   },
   "outputs": [],
   "source": [
    "df_logon_users_clean['time'] = df_logon_users_clean['date'].dt.time"
   ]
  },
  {
   "cell_type": "code",
   "execution_count": 18,
   "metadata": {
    "id": "B84oChzUo4Zf"
   },
   "outputs": [],
   "source": [
    "df_user_logon = df_logon_users_clean.loc[df_logon_users_clean['activity'] == 'Logon']"
   ]
  },
  {
   "cell_type": "code",
   "execution_count": 19,
   "metadata": {
    "colab": {
     "base_uri": "https://localhost:8080/"
    },
    "executionInfo": {
     "elapsed": 94,
     "status": "ok",
     "timestamp": 1632034208806,
     "user": {
      "displayName": "Suraj Sharma",
      "photoUrl": "https://lh3.googleusercontent.com/a/default-user=s64",
      "userId": "04526276601361747492"
     },
     "user_tz": -345
    },
    "id": "sxUhfabzpc_l",
    "outputId": "fe54eb07-e900-4850-d958-e4bce08ca08e"
   },
   "outputs": [
    {
     "name": "stderr",
     "output_type": "stream",
     "text": [
      "/tmp/ipykernel_21504/1930962928.py:1: SettingWithCopyWarning: \n",
      "A value is trying to be set on a copy of a slice from a DataFrame.\n",
      "Try using .loc[row_indexer,col_indexer] = value instead\n",
      "\n",
      "See the caveats in the documentation: https://pandas.pydata.org/pandas-docs/stable/user_guide/indexing.html#returning-a-view-versus-a-copy\n",
      "  df_user_logon['hour'] = pd.to_datetime(df_user_logon['date'], format='%H:%M').dt.hour\n"
     ]
    }
   ],
   "source": [
    "df_user_logon['hour'] = pd.to_datetime(df_user_logon['date'], format='%H:%M').dt.hour"
   ]
  },
  {
   "cell_type": "code",
   "execution_count": 20,
   "metadata": {
    "id": "zI1fT9aEp7sJ"
   },
   "outputs": [],
   "source": [
    "df_user_logon_stats = df_user_logon.groupby('user')['time'].agg([min,max]).reset_index()"
   ]
  },
  {
   "cell_type": "code",
   "execution_count": 21,
   "metadata": {
    "id": "0jGuY1JbtKfB"
   },
   "outputs": [],
   "source": [
    "df_logon_mode = df_user_logon.groupby('user')['time'].agg(lambda x: x.value_counts().index[0]).reset_index()"
   ]
  },
  {
   "cell_type": "code",
   "execution_count": null,
   "metadata": {
    "id": "QmSRpebjM9De"
   },
   "outputs": [],
   "source": []
  },
  {
   "cell_type": "code",
   "execution_count": 22,
   "metadata": {
    "id": "3iCK4Py10H_a"
   },
   "outputs": [],
   "source": [
    "df_logon_mean = df_user_logon.groupby('user')['hour'].mean().reset_index()\n",
    "df_logon_mean['hour'].dtype\n",
    "df_logon_mean['hour'] = pd.to_datetime(df_logon_mean['hour'], format='%H').dt.time\n"
   ]
  },
  {
   "cell_type": "code",
   "execution_count": 23,
   "metadata": {
    "id": "ixgjK-gfzTEl"
   },
   "outputs": [],
   "source": [
    "df_user_logon_stats['mode'] = df_logon_mode['time']\n",
    "df_user_logon_stats['mean'] = df_logon_mean['hour']"
   ]
  },
  {
   "cell_type": "code",
   "execution_count": null,
   "metadata": {
    "id": "DyRDg0k7xtdG"
   },
   "outputs": [],
   "source": []
  },
  {
   "cell_type": "code",
   "execution_count": 24,
   "metadata": {
    "id": "CXRtENnN090y"
   },
   "outputs": [],
   "source": [
    "df_user_logoff = df_logon_users_clean.loc[df_logon_users_clean['activity'] == 'Logoff']"
   ]
  },
  {
   "cell_type": "code",
   "execution_count": 25,
   "metadata": {
    "colab": {
     "base_uri": "https://localhost:8080/"
    },
    "executionInfo": {
     "elapsed": 711,
     "status": "ok",
     "timestamp": 1632034212105,
     "user": {
      "displayName": "Suraj Sharma",
      "photoUrl": "https://lh3.googleusercontent.com/a/default-user=s64",
      "userId": "04526276601361747492"
     },
     "user_tz": -345
    },
    "id": "kl2eWWO13BzE",
    "outputId": "6987c4b9-0729-49a1-a187-5f9d7ed94fc7"
   },
   "outputs": [
    {
     "name": "stderr",
     "output_type": "stream",
     "text": [
      "/tmp/ipykernel_21504/636462469.py:1: SettingWithCopyWarning: \n",
      "A value is trying to be set on a copy of a slice from a DataFrame.\n",
      "Try using .loc[row_indexer,col_indexer] = value instead\n",
      "\n",
      "See the caveats in the documentation: https://pandas.pydata.org/pandas-docs/stable/user_guide/indexing.html#returning-a-view-versus-a-copy\n",
      "  df_user_logoff['date'] = pd.to_datetime(df_user_logoff['date'])\n",
      "/tmp/ipykernel_21504/636462469.py:2: SettingWithCopyWarning: \n",
      "A value is trying to be set on a copy of a slice from a DataFrame.\n",
      "Try using .loc[row_indexer,col_indexer] = value instead\n",
      "\n",
      "See the caveats in the documentation: https://pandas.pydata.org/pandas-docs/stable/user_guide/indexing.html#returning-a-view-versus-a-copy\n",
      "  df_user_logoff['time'] = df_user_logoff['date'].dt.time\n"
     ]
    }
   ],
   "source": [
    "df_user_logoff['date'] = pd.to_datetime(df_user_logoff['date'])\n",
    "df_user_logoff['time'] = df_user_logoff['date'].dt.time"
   ]
  },
  {
   "cell_type": "code",
   "execution_count": 26,
   "metadata": {
    "colab": {
     "base_uri": "https://localhost:8080/"
    },
    "executionInfo": {
     "elapsed": 10,
     "status": "ok",
     "timestamp": 1632034212107,
     "user": {
      "displayName": "Suraj Sharma",
      "photoUrl": "https://lh3.googleusercontent.com/a/default-user=s64",
      "userId": "04526276601361747492"
     },
     "user_tz": -345
    },
    "id": "0jt5r6_O1QZW",
    "outputId": "3adc7065-9fcc-4b31-b34b-047c4a606405"
   },
   "outputs": [
    {
     "name": "stderr",
     "output_type": "stream",
     "text": [
      "/tmp/ipykernel_21504/1504136962.py:1: SettingWithCopyWarning: \n",
      "A value is trying to be set on a copy of a slice from a DataFrame.\n",
      "Try using .loc[row_indexer,col_indexer] = value instead\n",
      "\n",
      "See the caveats in the documentation: https://pandas.pydata.org/pandas-docs/stable/user_guide/indexing.html#returning-a-view-versus-a-copy\n",
      "  df_user_logoff['hour'] = pd.to_datetime(df_user_logoff['date'], format='%H:%M').dt.hour\n"
     ]
    }
   ],
   "source": [
    "\n",
    "df_user_logoff['hour'] = pd.to_datetime(df_user_logoff['date'], format='%H:%M').dt.hour"
   ]
  },
  {
   "cell_type": "code",
   "execution_count": 27,
   "metadata": {
    "id": "Drb_zZGC1oNv"
   },
   "outputs": [],
   "source": [
    "df_user_logoff_stats = df_user_logoff.groupby('user')['time'].agg([min,max]).reset_index()"
   ]
  },
  {
   "cell_type": "code",
   "execution_count": 28,
   "metadata": {
    "colab": {
     "base_uri": "https://localhost:8080/",
     "height": 424
    },
    "executionInfo": {
     "elapsed": 104,
     "status": "ok",
     "timestamp": 1632034212871,
     "user": {
      "displayName": "Suraj Sharma",
      "photoUrl": "https://lh3.googleusercontent.com/a/default-user=s64",
      "userId": "04526276601361747492"
     },
     "user_tz": -345
    },
    "id": "8LyVk1oa1aqJ",
    "outputId": "191a1167-fd30-40d1-f7d2-7692c8886b0e"
   },
   "outputs": [
    {
     "data": {
      "text/html": [
       "<div>\n",
       "<style scoped>\n",
       "    .dataframe tbody tr th:only-of-type {\n",
       "        vertical-align: middle;\n",
       "    }\n",
       "\n",
       "    .dataframe tbody tr th {\n",
       "        vertical-align: top;\n",
       "    }\n",
       "\n",
       "    .dataframe thead th {\n",
       "        text-align: right;\n",
       "    }\n",
       "</style>\n",
       "<table border=\"1\" class=\"dataframe\">\n",
       "  <thead>\n",
       "    <tr style=\"text-align: right;\">\n",
       "      <th></th>\n",
       "      <th>user</th>\n",
       "      <th>time</th>\n",
       "    </tr>\n",
       "  </thead>\n",
       "  <tbody>\n",
       "    <tr>\n",
       "      <th>0</th>\n",
       "      <td>AAN0077</td>\n",
       "      <td>16:56:00</td>\n",
       "    </tr>\n",
       "    <tr>\n",
       "      <th>1</th>\n",
       "      <td>AAW0103</td>\n",
       "      <td>16:14:00</td>\n",
       "    </tr>\n",
       "    <tr>\n",
       "      <th>2</th>\n",
       "      <td>ACE0265</td>\n",
       "      <td>16:06:00</td>\n",
       "    </tr>\n",
       "    <tr>\n",
       "      <th>3</th>\n",
       "      <td>ACL0394</td>\n",
       "      <td>17:15:00</td>\n",
       "    </tr>\n",
       "    <tr>\n",
       "      <th>4</th>\n",
       "      <td>ADR0362</td>\n",
       "      <td>16:45:00</td>\n",
       "    </tr>\n",
       "    <tr>\n",
       "      <th>...</th>\n",
       "      <td>...</td>\n",
       "      <td>...</td>\n",
       "    </tr>\n",
       "    <tr>\n",
       "      <th>225</th>\n",
       "      <td>XTM0246</td>\n",
       "      <td>17:00:00</td>\n",
       "    </tr>\n",
       "    <tr>\n",
       "      <th>226</th>\n",
       "      <td>YJT0368</td>\n",
       "      <td>16:45:00</td>\n",
       "    </tr>\n",
       "    <tr>\n",
       "      <th>227</th>\n",
       "      <td>YSB0779</td>\n",
       "      <td>16:45:00</td>\n",
       "    </tr>\n",
       "    <tr>\n",
       "      <th>228</th>\n",
       "      <td>ZBL0379</td>\n",
       "      <td>19:30:00</td>\n",
       "    </tr>\n",
       "    <tr>\n",
       "      <th>229</th>\n",
       "      <td>ZIF0269</td>\n",
       "      <td>16:05:00</td>\n",
       "    </tr>\n",
       "  </tbody>\n",
       "</table>\n",
       "<p>230 rows × 2 columns</p>\n",
       "</div>"
      ],
      "text/plain": [
       "        user      time\n",
       "0    AAN0077  16:56:00\n",
       "1    AAW0103  16:14:00\n",
       "2    ACE0265  16:06:00\n",
       "3    ACL0394  17:15:00\n",
       "4    ADR0362  16:45:00\n",
       "..       ...       ...\n",
       "225  XTM0246  17:00:00\n",
       "226  YJT0368  16:45:00\n",
       "227  YSB0779  16:45:00\n",
       "228  ZBL0379  19:30:00\n",
       "229  ZIF0269  16:05:00\n",
       "\n",
       "[230 rows x 2 columns]"
      ]
     },
     "execution_count": 28,
     "metadata": {},
     "output_type": "execute_result"
    }
   ],
   "source": [
    "df_user_logoff.groupby('user')['time'].agg(pd.Series.mode).reset_index()"
   ]
  },
  {
   "cell_type": "code",
   "execution_count": 29,
   "metadata": {
    "id": "jZiXia-94xGH"
   },
   "outputs": [],
   "source": [
    "df_logoff_mode = df_user_logoff.groupby('user')['time'].agg(lambda x: x.value_counts().index[0]).reset_index()"
   ]
  },
  {
   "cell_type": "code",
   "execution_count": 30,
   "metadata": {
    "id": "mmY8MLkU4hEy"
   },
   "outputs": [],
   "source": [
    "df_logoff_mean = df_user_logoff.groupby('user')['hour'].mean().reset_index()\n",
    "df_logoff_mean['hour'] = df_logoff_mean['hour'].astype(int)\n",
    "df_logoff_mean['hour'] = pd.to_datetime(df_logoff_mean['hour'], format='%H').dt.time\n"
   ]
  },
  {
   "cell_type": "code",
   "execution_count": 31,
   "metadata": {
    "id": "O5sgWyir5stO"
   },
   "outputs": [],
   "source": [
    "df_user_logoff_stats['mode'] = df_logoff_mode['time']\n",
    "df_user_logoff_stats['mean'] = df_logoff_mean['hour']"
   ]
  },
  {
   "cell_type": "code",
   "execution_count": null,
   "metadata": {
    "id": "YruLWKfU6QS6"
   },
   "outputs": [],
   "source": []
  },
  {
   "cell_type": "code",
   "execution_count": 32,
   "metadata": {
    "id": "EmyBAKEu6ccc"
   },
   "outputs": [],
   "source": [
    "df_device_users_clean['time'] = pd.to_datetime(df_device_users_clean['date']).dt.time"
   ]
  },
  {
   "cell_type": "code",
   "execution_count": 33,
   "metadata": {
    "id": "w7HH2UEDEusT"
   },
   "outputs": [],
   "source": [
    "df_device_conn = df_device_users_clean.loc[df_device_users_clean['activity'] == 'Connect']\n",
    "df_device_disconn = df_device_users_clean.loc[df_device_users_clean['activity'] == 'Disconnect']\n"
   ]
  },
  {
   "cell_type": "code",
   "execution_count": 34,
   "metadata": {
    "id": "pDo0AygbFk-T"
   },
   "outputs": [],
   "source": [
    "df_device_conn_stats = df_device_conn.groupby('user')['time'].agg([min, max]).reset_index()"
   ]
  },
  {
   "cell_type": "code",
   "execution_count": 35,
   "metadata": {
    "id": "9IXkVIHgF2iT"
   },
   "outputs": [],
   "source": [
    "df_device_conn_stats_1 = df_device_conn.groupby('user')"
   ]
  },
  {
   "cell_type": "code",
   "execution_count": 36,
   "metadata": {
    "id": "fQGY5MkTGIyG"
   },
   "outputs": [],
   "source": [
    "df_conn_mode = df_device_conn.groupby('user')['time'].agg(lambda x: x.value_counts().index[0]).reset_index()"
   ]
  },
  {
   "cell_type": "code",
   "execution_count": 37,
   "metadata": {
    "colab": {
     "base_uri": "https://localhost:8080/"
    },
    "executionInfo": {
     "elapsed": 6430,
     "status": "ok",
     "timestamp": 1632034233898,
     "user": {
      "displayName": "Suraj Sharma",
      "photoUrl": "https://lh3.googleusercontent.com/a/default-user=s64",
      "userId": "04526276601361747492"
     },
     "user_tz": -345
    },
    "id": "zxgMmpZ5GhV7",
    "outputId": "999dbfd9-392b-4c05-b895-468b5aacf45f"
   },
   "outputs": [
    {
     "name": "stderr",
     "output_type": "stream",
     "text": [
      "/tmp/ipykernel_21504/2737355688.py:1: SettingWithCopyWarning: \n",
      "A value is trying to be set on a copy of a slice from a DataFrame.\n",
      "Try using .loc[row_indexer,col_indexer] = value instead\n",
      "\n",
      "See the caveats in the documentation: https://pandas.pydata.org/pandas-docs/stable/user_guide/indexing.html#returning-a-view-versus-a-copy\n",
      "  df_device_conn['hour'] = pd.to_datetime(df_device_conn['date']).dt.hour\n"
     ]
    }
   ],
   "source": [
    "df_device_conn['hour'] = pd.to_datetime(df_device_conn['date']).dt.hour"
   ]
  },
  {
   "cell_type": "code",
   "execution_count": 38,
   "metadata": {
    "id": "73pQhz86GwYe"
   },
   "outputs": [],
   "source": [
    "df_conn_mean = df_device_conn.groupby('user')['hour'].mean().reset_index()\n",
    "df_conn_mean['hour'] = df_conn_mean['hour'].astype(int)\n",
    "df_conn_mean['hour'] = pd.to_datetime(df_conn_mean['hour'],format=\"%H\").dt.time"
   ]
  },
  {
   "cell_type": "code",
   "execution_count": 39,
   "metadata": {
    "id": "bT2HqZgFHZgg"
   },
   "outputs": [],
   "source": [
    "df_device_conn_stats['mode'] = df_conn_mode['time']\n",
    "df_device_conn_stats['mean'] = df_conn_mean['hour']"
   ]
  },
  {
   "cell_type": "code",
   "execution_count": null,
   "metadata": {
    "id": "rtNHzgLjHrml"
   },
   "outputs": [],
   "source": []
  },
  {
   "cell_type": "code",
   "execution_count": 40,
   "metadata": {
    "id": "SfIGvVXcHvgH"
   },
   "outputs": [],
   "source": [
    "df_device_disconn_stats = df_device_disconn.groupby('user')['time'].agg([min,max]).reset_index()"
   ]
  },
  {
   "cell_type": "code",
   "execution_count": 41,
   "metadata": {
    "id": "uV4V2DK4IC2Q"
   },
   "outputs": [],
   "source": [
    "df_dconn_mode = df_device_disconn.groupby('user')['time'].agg(lambda x: x.value_counts().index[0]).reset_index()\n",
    "\n"
   ]
  },
  {
   "cell_type": "code",
   "execution_count": 42,
   "metadata": {
    "colab": {
     "base_uri": "https://localhost:8080/"
    },
    "executionInfo": {
     "elapsed": 5695,
     "status": "ok",
     "timestamp": 1632034239569,
     "user": {
      "displayName": "Suraj Sharma",
      "photoUrl": "https://lh3.googleusercontent.com/a/default-user=s64",
      "userId": "04526276601361747492"
     },
     "user_tz": -345
    },
    "id": "x7XYhgqQIMdl",
    "outputId": "ae7fecbc-7626-4ed0-b126-fd4cb8226507"
   },
   "outputs": [
    {
     "name": "stderr",
     "output_type": "stream",
     "text": [
      "/tmp/ipykernel_21504/1753353138.py:1: SettingWithCopyWarning: \n",
      "A value is trying to be set on a copy of a slice from a DataFrame.\n",
      "Try using .loc[row_indexer,col_indexer] = value instead\n",
      "\n",
      "See the caveats in the documentation: https://pandas.pydata.org/pandas-docs/stable/user_guide/indexing.html#returning-a-view-versus-a-copy\n",
      "  df_device_disconn['hour'] = pd.to_datetime(df_device_disconn['date']).dt.hour\n"
     ]
    }
   ],
   "source": [
    "df_device_disconn['hour'] = pd.to_datetime(df_device_disconn['date']).dt.hour\n"
   ]
  },
  {
   "cell_type": "code",
   "execution_count": 43,
   "metadata": {
    "id": "kqT1HiLmIS70"
   },
   "outputs": [],
   "source": [
    "df_dconn_mean = df_device_disconn.groupby('user')['hour'].mean().reset_index()\n",
    "df_dconn_mean['hour'] = df_dconn_mean['hour'].astype(int)\n",
    "df_dconn_mean['hour'] = pd.to_datetime(df_dconn_mean['hour'], format='%H').dt.time\n"
   ]
  },
  {
   "cell_type": "code",
   "execution_count": 44,
   "metadata": {
    "colab": {
     "base_uri": "https://localhost:8080/",
     "height": 1000
    },
    "executionInfo": {
     "elapsed": 25,
     "status": "ok",
     "timestamp": 1632034239572,
     "user": {
      "displayName": "Suraj Sharma",
      "photoUrl": "https://lh3.googleusercontent.com/a/default-user=s64",
      "userId": "04526276601361747492"
     },
     "user_tz": -345
    },
    "id": "546-RXFUi1zf",
    "outputId": "e5786a66-2868-437e-b835-986edd8416dd"
   },
   "outputs": [
    {
     "data": {
      "text/html": [
       "<div>\n",
       "<style scoped>\n",
       "    .dataframe tbody tr th:only-of-type {\n",
       "        vertical-align: middle;\n",
       "    }\n",
       "\n",
       "    .dataframe tbody tr th {\n",
       "        vertical-align: top;\n",
       "    }\n",
       "\n",
       "    .dataframe thead th {\n",
       "        text-align: right;\n",
       "    }\n",
       "</style>\n",
       "<table border=\"1\" class=\"dataframe\">\n",
       "  <thead>\n",
       "    <tr style=\"text-align: right;\">\n",
       "      <th></th>\n",
       "      <th>user</th>\n",
       "      <th>hour</th>\n",
       "    </tr>\n",
       "  </thead>\n",
       "  <tbody>\n",
       "    <tr>\n",
       "      <th>0</th>\n",
       "      <td>AJQ0376</td>\n",
       "      <td>14:00:00</td>\n",
       "    </tr>\n",
       "    <tr>\n",
       "      <th>1</th>\n",
       "      <td>AJR0231</td>\n",
       "      <td>11:00:00</td>\n",
       "    </tr>\n",
       "    <tr>\n",
       "      <th>2</th>\n",
       "      <td>AOD0066</td>\n",
       "      <td>12:00:00</td>\n",
       "    </tr>\n",
       "    <tr>\n",
       "      <th>3</th>\n",
       "      <td>ARH0777</td>\n",
       "      <td>12:00:00</td>\n",
       "    </tr>\n",
       "    <tr>\n",
       "      <th>4</th>\n",
       "      <td>BCP0247</td>\n",
       "      <td>12:00:00</td>\n",
       "    </tr>\n",
       "    <tr>\n",
       "      <th>5</th>\n",
       "      <td>BDS0396</td>\n",
       "      <td>13:00:00</td>\n",
       "    </tr>\n",
       "    <tr>\n",
       "      <th>6</th>\n",
       "      <td>BMS0057</td>\n",
       "      <td>15:00:00</td>\n",
       "    </tr>\n",
       "    <tr>\n",
       "      <th>7</th>\n",
       "      <td>BZK0095</td>\n",
       "      <td>11:00:00</td>\n",
       "    </tr>\n",
       "    <tr>\n",
       "      <th>8</th>\n",
       "      <td>CAE0080</td>\n",
       "      <td>12:00:00</td>\n",
       "    </tr>\n",
       "    <tr>\n",
       "      <th>9</th>\n",
       "      <td>CGH0088</td>\n",
       "      <td>12:00:00</td>\n",
       "    </tr>\n",
       "    <tr>\n",
       "      <th>10</th>\n",
       "      <td>CJG0059</td>\n",
       "      <td>11:00:00</td>\n",
       "    </tr>\n",
       "    <tr>\n",
       "      <th>11</th>\n",
       "      <td>CJV0236</td>\n",
       "      <td>12:00:00</td>\n",
       "    </tr>\n",
       "    <tr>\n",
       "      <th>12</th>\n",
       "      <td>CSD0242</td>\n",
       "      <td>12:00:00</td>\n",
       "    </tr>\n",
       "    <tr>\n",
       "      <th>13</th>\n",
       "      <td>DWC0525</td>\n",
       "      <td>13:00:00</td>\n",
       "    </tr>\n",
       "    <tr>\n",
       "      <th>14</th>\n",
       "      <td>FED0275</td>\n",
       "      <td>12:00:00</td>\n",
       "    </tr>\n",
       "    <tr>\n",
       "      <th>15</th>\n",
       "      <td>FKF0235</td>\n",
       "      <td>12:00:00</td>\n",
       "    </tr>\n",
       "    <tr>\n",
       "      <th>16</th>\n",
       "      <td>GGM0530</td>\n",
       "      <td>12:00:00</td>\n",
       "    </tr>\n",
       "    <tr>\n",
       "      <th>17</th>\n",
       "      <td>GJP0098</td>\n",
       "      <td>11:00:00</td>\n",
       "    </tr>\n",
       "    <tr>\n",
       "      <th>18</th>\n",
       "      <td>HBB0090</td>\n",
       "      <td>11:00:00</td>\n",
       "    </tr>\n",
       "    <tr>\n",
       "      <th>19</th>\n",
       "      <td>HNW0537</td>\n",
       "      <td>13:00:00</td>\n",
       "    </tr>\n",
       "    <tr>\n",
       "      <th>20</th>\n",
       "      <td>HOJ0260</td>\n",
       "      <td>11:00:00</td>\n",
       "    </tr>\n",
       "    <tr>\n",
       "      <th>21</th>\n",
       "      <td>IAF0403</td>\n",
       "      <td>13:00:00</td>\n",
       "    </tr>\n",
       "    <tr>\n",
       "      <th>22</th>\n",
       "      <td>IUM0065</td>\n",
       "      <td>11:00:00</td>\n",
       "    </tr>\n",
       "    <tr>\n",
       "      <th>23</th>\n",
       "      <td>JCE0258</td>\n",
       "      <td>12:00:00</td>\n",
       "    </tr>\n",
       "    <tr>\n",
       "      <th>24</th>\n",
       "      <td>JDD0087</td>\n",
       "      <td>13:00:00</td>\n",
       "    </tr>\n",
       "    <tr>\n",
       "      <th>25</th>\n",
       "      <td>JLI0073</td>\n",
       "      <td>12:00:00</td>\n",
       "    </tr>\n",
       "    <tr>\n",
       "      <th>26</th>\n",
       "      <td>JNW0252</td>\n",
       "      <td>13:00:00</td>\n",
       "    </tr>\n",
       "    <tr>\n",
       "      <th>27</th>\n",
       "      <td>JTB0079</td>\n",
       "      <td>12:00:00</td>\n",
       "    </tr>\n",
       "    <tr>\n",
       "      <th>28</th>\n",
       "      <td>LEF0786</td>\n",
       "      <td>12:00:00</td>\n",
       "    </tr>\n",
       "    <tr>\n",
       "      <th>29</th>\n",
       "      <td>LJW0776</td>\n",
       "      <td>12:00:00</td>\n",
       "    </tr>\n",
       "    <tr>\n",
       "      <th>30</th>\n",
       "      <td>LTB0107</td>\n",
       "      <td>12:00:00</td>\n",
       "    </tr>\n",
       "    <tr>\n",
       "      <th>31</th>\n",
       "      <td>LVL0958</td>\n",
       "      <td>13:00:00</td>\n",
       "    </tr>\n",
       "    <tr>\n",
       "      <th>32</th>\n",
       "      <td>LWB0078</td>\n",
       "      <td>12:00:00</td>\n",
       "    </tr>\n",
       "    <tr>\n",
       "      <th>33</th>\n",
       "      <td>MJH0083</td>\n",
       "      <td>13:00:00</td>\n",
       "    </tr>\n",
       "    <tr>\n",
       "      <th>34</th>\n",
       "      <td>MPM0410</td>\n",
       "      <td>13:00:00</td>\n",
       "    </tr>\n",
       "    <tr>\n",
       "      <th>35</th>\n",
       "      <td>MSB0359</td>\n",
       "      <td>12:00:00</td>\n",
       "    </tr>\n",
       "    <tr>\n",
       "      <th>36</th>\n",
       "      <td>ORC0907</td>\n",
       "      <td>13:00:00</td>\n",
       "    </tr>\n",
       "    <tr>\n",
       "      <th>37</th>\n",
       "      <td>QLC0248</td>\n",
       "      <td>13:00:00</td>\n",
       "    </tr>\n",
       "    <tr>\n",
       "      <th>38</th>\n",
       "      <td>RAW0533</td>\n",
       "      <td>13:00:00</td>\n",
       "    </tr>\n",
       "    <tr>\n",
       "      <th>39</th>\n",
       "      <td>REM0274</td>\n",
       "      <td>11:00:00</td>\n",
       "    </tr>\n",
       "    <tr>\n",
       "      <th>40</th>\n",
       "      <td>SBM0063</td>\n",
       "      <td>11:00:00</td>\n",
       "    </tr>\n",
       "    <tr>\n",
       "      <th>41</th>\n",
       "      <td>SHR0369</td>\n",
       "      <td>13:00:00</td>\n",
       "    </tr>\n",
       "    <tr>\n",
       "      <th>42</th>\n",
       "      <td>TOC0528</td>\n",
       "      <td>12:00:00</td>\n",
       "    </tr>\n",
       "    <tr>\n",
       "      <th>43</th>\n",
       "      <td>UMA0072</td>\n",
       "      <td>12:00:00</td>\n",
       "    </tr>\n",
       "    <tr>\n",
       "      <th>44</th>\n",
       "      <td>WMP0272</td>\n",
       "      <td>12:00:00</td>\n",
       "    </tr>\n",
       "    <tr>\n",
       "      <th>45</th>\n",
       "      <td>WXW0044</td>\n",
       "      <td>11:00:00</td>\n",
       "    </tr>\n",
       "    <tr>\n",
       "      <th>46</th>\n",
       "      <td>ZBL0379</td>\n",
       "      <td>14:00:00</td>\n",
       "    </tr>\n",
       "  </tbody>\n",
       "</table>\n",
       "</div>"
      ],
      "text/plain": [
       "       user      hour\n",
       "0   AJQ0376  14:00:00\n",
       "1   AJR0231  11:00:00\n",
       "2   AOD0066  12:00:00\n",
       "3   ARH0777  12:00:00\n",
       "4   BCP0247  12:00:00\n",
       "5   BDS0396  13:00:00\n",
       "6   BMS0057  15:00:00\n",
       "7   BZK0095  11:00:00\n",
       "8   CAE0080  12:00:00\n",
       "9   CGH0088  12:00:00\n",
       "10  CJG0059  11:00:00\n",
       "11  CJV0236  12:00:00\n",
       "12  CSD0242  12:00:00\n",
       "13  DWC0525  13:00:00\n",
       "14  FED0275  12:00:00\n",
       "15  FKF0235  12:00:00\n",
       "16  GGM0530  12:00:00\n",
       "17  GJP0098  11:00:00\n",
       "18  HBB0090  11:00:00\n",
       "19  HNW0537  13:00:00\n",
       "20  HOJ0260  11:00:00\n",
       "21  IAF0403  13:00:00\n",
       "22  IUM0065  11:00:00\n",
       "23  JCE0258  12:00:00\n",
       "24  JDD0087  13:00:00\n",
       "25  JLI0073  12:00:00\n",
       "26  JNW0252  13:00:00\n",
       "27  JTB0079  12:00:00\n",
       "28  LEF0786  12:00:00\n",
       "29  LJW0776  12:00:00\n",
       "30  LTB0107  12:00:00\n",
       "31  LVL0958  13:00:00\n",
       "32  LWB0078  12:00:00\n",
       "33  MJH0083  13:00:00\n",
       "34  MPM0410  13:00:00\n",
       "35  MSB0359  12:00:00\n",
       "36  ORC0907  13:00:00\n",
       "37  QLC0248  13:00:00\n",
       "38  RAW0533  13:00:00\n",
       "39  REM0274  11:00:00\n",
       "40  SBM0063  11:00:00\n",
       "41  SHR0369  13:00:00\n",
       "42  TOC0528  12:00:00\n",
       "43  UMA0072  12:00:00\n",
       "44  WMP0272  12:00:00\n",
       "45  WXW0044  11:00:00\n",
       "46  ZBL0379  14:00:00"
      ]
     },
     "execution_count": 44,
     "metadata": {},
     "output_type": "execute_result"
    }
   ],
   "source": [
    "df_dconn_mean"
   ]
  },
  {
   "cell_type": "code",
   "execution_count": 45,
   "metadata": {
    "id": "i6JMKE4zId9F"
   },
   "outputs": [],
   "source": [
    "df_device_disconn_stats['mode'] = df_dconn_mode['time']\n",
    "df_device_disconn_stats['mean'] = df_dconn_mean['hour']"
   ]
  },
  {
   "cell_type": "code",
   "execution_count": 46,
   "metadata": {
    "id": "4TRrm0ymIlC5"
   },
   "outputs": [],
   "source": [
    "df_file_users_clean['date2'] = pd.to_datetime(df_file_users_clean['date']).dt.date"
   ]
  },
  {
   "cell_type": "code",
   "execution_count": null,
   "metadata": {
    "id": "NWIUut9zJVWL"
   },
   "outputs": [],
   "source": []
  },
  {
   "cell_type": "code",
   "execution_count": 47,
   "metadata": {
    "id": "Pc0B1Eq4JZj5"
   },
   "outputs": [],
   "source": [
    "df_files_per_day = df_file_users_clean.groupby(['user', 'date2']).size().reset_index()"
   ]
  },
  {
   "cell_type": "code",
   "execution_count": null,
   "metadata": {
    "id": "1U4cMT0PJzUh"
   },
   "outputs": [],
   "source": []
  },
  {
   "cell_type": "code",
   "execution_count": 48,
   "metadata": {
    "id": "YYsENT9rJ2ao"
   },
   "outputs": [],
   "source": [
    "df_files_per_day.rename(columns={0:'transfers_per_day'}, inplace=True)\n"
   ]
  },
  {
   "cell_type": "code",
   "execution_count": 49,
   "metadata": {
    "id": "MeKOnj-_Ks_l"
   },
   "outputs": [],
   "source": [
    "df_files_max_per_day = df_files_per_day.groupby('user')['transfers_per_day'].agg(max).reset_index()\n",
    "df_files_max_per_day.rename(columns={'transfers_per_day': \"max_transfers_per_user\"}, inplace=True)"
   ]
  },
  {
   "cell_type": "code",
   "execution_count": 50,
   "metadata": {
    "id": "W7cV_ieELNji"
   },
   "outputs": [],
   "source": [
    "df_files_mode_per_day = df_files_per_day.groupby('user')['transfers_per_day'].agg(lambda x: x.value_counts().index[0]).reset_index()\n",
    "df_files_mode_per_day.rename(columns={'transfers_per_day': \"mode_transfers_per_user\"}, inplace=True)\n"
   ]
  },
  {
   "cell_type": "code",
   "execution_count": 51,
   "metadata": {
    "colab": {
     "base_uri": "https://localhost:8080/",
     "height": 1000
    },
    "executionInfo": {
     "elapsed": 32,
     "status": "ok",
     "timestamp": 1632034254829,
     "user": {
      "displayName": "Suraj Sharma",
      "photoUrl": "https://lh3.googleusercontent.com/a/default-user=s64",
      "userId": "04526276601361747492"
     },
     "user_tz": -345
    },
    "id": "9PnW-5m1-Eiq",
    "outputId": "90538f0d-1040-44b3-c6e6-6e5143e69917"
   },
   "outputs": [
    {
     "data": {
      "text/html": [
       "<div>\n",
       "<style scoped>\n",
       "    .dataframe tbody tr th:only-of-type {\n",
       "        vertical-align: middle;\n",
       "    }\n",
       "\n",
       "    .dataframe tbody tr th {\n",
       "        vertical-align: top;\n",
       "    }\n",
       "\n",
       "    .dataframe thead th {\n",
       "        text-align: right;\n",
       "    }\n",
       "</style>\n",
       "<table border=\"1\" class=\"dataframe\">\n",
       "  <thead>\n",
       "    <tr style=\"text-align: right;\">\n",
       "      <th></th>\n",
       "      <th>user</th>\n",
       "      <th>mode_transfers_per_user</th>\n",
       "    </tr>\n",
       "  </thead>\n",
       "  <tbody>\n",
       "    <tr>\n",
       "      <th>0</th>\n",
       "      <td>AJQ0376</td>\n",
       "      <td>486</td>\n",
       "    </tr>\n",
       "    <tr>\n",
       "      <th>1</th>\n",
       "      <td>AJR0231</td>\n",
       "      <td>90</td>\n",
       "    </tr>\n",
       "    <tr>\n",
       "      <th>2</th>\n",
       "      <td>AOD0066</td>\n",
       "      <td>30</td>\n",
       "    </tr>\n",
       "    <tr>\n",
       "      <th>3</th>\n",
       "      <td>ARH0777</td>\n",
       "      <td>36</td>\n",
       "    </tr>\n",
       "    <tr>\n",
       "      <th>4</th>\n",
       "      <td>BCP0247</td>\n",
       "      <td>54</td>\n",
       "    </tr>\n",
       "    <tr>\n",
       "      <th>5</th>\n",
       "      <td>BDS0396</td>\n",
       "      <td>72</td>\n",
       "    </tr>\n",
       "    <tr>\n",
       "      <th>6</th>\n",
       "      <td>BMS0057</td>\n",
       "      <td>36</td>\n",
       "    </tr>\n",
       "    <tr>\n",
       "      <th>7</th>\n",
       "      <td>BZK0095</td>\n",
       "      <td>486</td>\n",
       "    </tr>\n",
       "    <tr>\n",
       "      <th>8</th>\n",
       "      <td>CAE0080</td>\n",
       "      <td>36</td>\n",
       "    </tr>\n",
       "    <tr>\n",
       "      <th>9</th>\n",
       "      <td>CGH0088</td>\n",
       "      <td>18</td>\n",
       "    </tr>\n",
       "    <tr>\n",
       "      <th>10</th>\n",
       "      <td>CJG0059</td>\n",
       "      <td>36</td>\n",
       "    </tr>\n",
       "    <tr>\n",
       "      <th>11</th>\n",
       "      <td>CJV0236</td>\n",
       "      <td>360</td>\n",
       "    </tr>\n",
       "    <tr>\n",
       "      <th>12</th>\n",
       "      <td>CSD0242</td>\n",
       "      <td>486</td>\n",
       "    </tr>\n",
       "    <tr>\n",
       "      <th>13</th>\n",
       "      <td>DWC0525</td>\n",
       "      <td>18</td>\n",
       "    </tr>\n",
       "    <tr>\n",
       "      <th>14</th>\n",
       "      <td>FED0275</td>\n",
       "      <td>18</td>\n",
       "    </tr>\n",
       "    <tr>\n",
       "      <th>15</th>\n",
       "      <td>FKF0235</td>\n",
       "      <td>8</td>\n",
       "    </tr>\n",
       "    <tr>\n",
       "      <th>16</th>\n",
       "      <td>GGM0530</td>\n",
       "      <td>486</td>\n",
       "    </tr>\n",
       "    <tr>\n",
       "      <th>17</th>\n",
       "      <td>GJP0098</td>\n",
       "      <td>36</td>\n",
       "    </tr>\n",
       "    <tr>\n",
       "      <th>18</th>\n",
       "      <td>HBB0090</td>\n",
       "      <td>486</td>\n",
       "    </tr>\n",
       "    <tr>\n",
       "      <th>19</th>\n",
       "      <td>HNW0537</td>\n",
       "      <td>180</td>\n",
       "    </tr>\n",
       "    <tr>\n",
       "      <th>20</th>\n",
       "      <td>HOJ0260</td>\n",
       "      <td>486</td>\n",
       "    </tr>\n",
       "    <tr>\n",
       "      <th>21</th>\n",
       "      <td>IAF0403</td>\n",
       "      <td>90</td>\n",
       "    </tr>\n",
       "    <tr>\n",
       "      <th>22</th>\n",
       "      <td>IUM0065</td>\n",
       "      <td>36</td>\n",
       "    </tr>\n",
       "    <tr>\n",
       "      <th>23</th>\n",
       "      <td>JCE0258</td>\n",
       "      <td>45</td>\n",
       "    </tr>\n",
       "    <tr>\n",
       "      <th>24</th>\n",
       "      <td>JDD0087</td>\n",
       "      <td>18</td>\n",
       "    </tr>\n",
       "    <tr>\n",
       "      <th>25</th>\n",
       "      <td>JLI0073</td>\n",
       "      <td>72</td>\n",
       "    </tr>\n",
       "    <tr>\n",
       "      <th>26</th>\n",
       "      <td>JNW0252</td>\n",
       "      <td>108</td>\n",
       "    </tr>\n",
       "    <tr>\n",
       "      <th>27</th>\n",
       "      <td>JTB0079</td>\n",
       "      <td>162</td>\n",
       "    </tr>\n",
       "    <tr>\n",
       "      <th>28</th>\n",
       "      <td>LEF0786</td>\n",
       "      <td>90</td>\n",
       "    </tr>\n",
       "    <tr>\n",
       "      <th>29</th>\n",
       "      <td>LJW0776</td>\n",
       "      <td>36</td>\n",
       "    </tr>\n",
       "    <tr>\n",
       "      <th>30</th>\n",
       "      <td>LTB0107</td>\n",
       "      <td>486</td>\n",
       "    </tr>\n",
       "    <tr>\n",
       "      <th>31</th>\n",
       "      <td>LVL0958</td>\n",
       "      <td>486</td>\n",
       "    </tr>\n",
       "    <tr>\n",
       "      <th>32</th>\n",
       "      <td>LWB0078</td>\n",
       "      <td>36</td>\n",
       "    </tr>\n",
       "    <tr>\n",
       "      <th>33</th>\n",
       "      <td>MJH0083</td>\n",
       "      <td>90</td>\n",
       "    </tr>\n",
       "    <tr>\n",
       "      <th>34</th>\n",
       "      <td>MPM0410</td>\n",
       "      <td>72</td>\n",
       "    </tr>\n",
       "    <tr>\n",
       "      <th>35</th>\n",
       "      <td>MSB0359</td>\n",
       "      <td>72</td>\n",
       "    </tr>\n",
       "    <tr>\n",
       "      <th>36</th>\n",
       "      <td>ORC0907</td>\n",
       "      <td>126</td>\n",
       "    </tr>\n",
       "    <tr>\n",
       "      <th>37</th>\n",
       "      <td>QLC0248</td>\n",
       "      <td>486</td>\n",
       "    </tr>\n",
       "    <tr>\n",
       "      <th>38</th>\n",
       "      <td>RAW0533</td>\n",
       "      <td>18</td>\n",
       "    </tr>\n",
       "    <tr>\n",
       "      <th>39</th>\n",
       "      <td>REM0274</td>\n",
       "      <td>486</td>\n",
       "    </tr>\n",
       "    <tr>\n",
       "      <th>40</th>\n",
       "      <td>SBM0063</td>\n",
       "      <td>144</td>\n",
       "    </tr>\n",
       "    <tr>\n",
       "      <th>41</th>\n",
       "      <td>SHR0369</td>\n",
       "      <td>36</td>\n",
       "    </tr>\n",
       "    <tr>\n",
       "      <th>42</th>\n",
       "      <td>TOC0528</td>\n",
       "      <td>180</td>\n",
       "    </tr>\n",
       "    <tr>\n",
       "      <th>43</th>\n",
       "      <td>UMA0072</td>\n",
       "      <td>36</td>\n",
       "    </tr>\n",
       "    <tr>\n",
       "      <th>44</th>\n",
       "      <td>WMP0272</td>\n",
       "      <td>72</td>\n",
       "    </tr>\n",
       "    <tr>\n",
       "      <th>45</th>\n",
       "      <td>WXW0044</td>\n",
       "      <td>486</td>\n",
       "    </tr>\n",
       "    <tr>\n",
       "      <th>46</th>\n",
       "      <td>ZBL0379</td>\n",
       "      <td>72</td>\n",
       "    </tr>\n",
       "  </tbody>\n",
       "</table>\n",
       "</div>"
      ],
      "text/plain": [
       "       user  mode_transfers_per_user\n",
       "0   AJQ0376                      486\n",
       "1   AJR0231                       90\n",
       "2   AOD0066                       30\n",
       "3   ARH0777                       36\n",
       "4   BCP0247                       54\n",
       "5   BDS0396                       72\n",
       "6   BMS0057                       36\n",
       "7   BZK0095                      486\n",
       "8   CAE0080                       36\n",
       "9   CGH0088                       18\n",
       "10  CJG0059                       36\n",
       "11  CJV0236                      360\n",
       "12  CSD0242                      486\n",
       "13  DWC0525                       18\n",
       "14  FED0275                       18\n",
       "15  FKF0235                        8\n",
       "16  GGM0530                      486\n",
       "17  GJP0098                       36\n",
       "18  HBB0090                      486\n",
       "19  HNW0537                      180\n",
       "20  HOJ0260                      486\n",
       "21  IAF0403                       90\n",
       "22  IUM0065                       36\n",
       "23  JCE0258                       45\n",
       "24  JDD0087                       18\n",
       "25  JLI0073                       72\n",
       "26  JNW0252                      108\n",
       "27  JTB0079                      162\n",
       "28  LEF0786                       90\n",
       "29  LJW0776                       36\n",
       "30  LTB0107                      486\n",
       "31  LVL0958                      486\n",
       "32  LWB0078                       36\n",
       "33  MJH0083                       90\n",
       "34  MPM0410                       72\n",
       "35  MSB0359                       72\n",
       "36  ORC0907                      126\n",
       "37  QLC0248                      486\n",
       "38  RAW0533                       18\n",
       "39  REM0274                      486\n",
       "40  SBM0063                      144\n",
       "41  SHR0369                       36\n",
       "42  TOC0528                      180\n",
       "43  UMA0072                       36\n",
       "44  WMP0272                       72\n",
       "45  WXW0044                      486\n",
       "46  ZBL0379                       72"
      ]
     },
     "execution_count": 51,
     "metadata": {},
     "output_type": "execute_result"
    }
   ],
   "source": [
    "df_files_mode_per_day"
   ]
  },
  {
   "cell_type": "code",
   "execution_count": 52,
   "metadata": {
    "id": "jzmjcEa4L2Ff"
   },
   "outputs": [],
   "source": [
    "df_files_stats = df_files_mode_per_day"
   ]
  },
  {
   "cell_type": "code",
   "execution_count": null,
   "metadata": {
    "id": "p7zCA43gMG6C"
   },
   "outputs": [],
   "source": []
  },
  {
   "cell_type": "code",
   "execution_count": 53,
   "metadata": {
    "id": "3oVaUVh2MUbE"
   },
   "outputs": [],
   "source": [
    "df_files_stats_new = pd.DataFrame()\n",
    "df_files_stats_new['user'] = df_files_stats['user']\n",
    "df_files_stats_new['mode_trasfers_per_user'] = df_files_stats['mode_transfers_per_user']\n",
    "df_files_stats_new['max_transfers_per_user'] = df_files_max_per_day['max_transfers_per_user']\n"
   ]
  },
  {
   "cell_type": "code",
   "execution_count": 54,
   "metadata": {
    "id": "7Adb8paENU34"
   },
   "outputs": [],
   "source": [
    "df_user_pc = df_logon_users_clean.groupby(['user','pc',]).agg(pc_visits_per_user_total = pd.NamedAgg(column = 'pc', aggfunc = 'count')).reset_index()\n",
    "df_user_pc['count'] = df_user_pc.groupby(['user'])['pc'].transform('nunique')\n",
    "df_user_pc = df_user_pc.drop(['pc', 'pc_visits_per_user_total'], axis=1)\n",
    "df_user_pc = df_user_pc.drop_duplicates()"
   ]
  },
  {
   "cell_type": "code",
   "execution_count": 55,
   "metadata": {
    "colab": {
     "base_uri": "https://localhost:8080/",
     "height": 424
    },
    "executionInfo": {
     "elapsed": 23,
     "status": "ok",
     "timestamp": 1632034256606,
     "user": {
      "displayName": "Suraj Sharma",
      "photoUrl": "https://lh3.googleusercontent.com/a/default-user=s64",
      "userId": "04526276601361747492"
     },
     "user_tz": -345
    },
    "id": "7x0LyTPcaC1t",
    "outputId": "19ea4199-6b09-4af3-f22f-20b42f91cadd"
   },
   "outputs": [
    {
     "data": {
      "text/html": [
       "<div>\n",
       "<style scoped>\n",
       "    .dataframe tbody tr th:only-of-type {\n",
       "        vertical-align: middle;\n",
       "    }\n",
       "\n",
       "    .dataframe tbody tr th {\n",
       "        vertical-align: top;\n",
       "    }\n",
       "\n",
       "    .dataframe thead th {\n",
       "        text-align: right;\n",
       "    }\n",
       "</style>\n",
       "<table border=\"1\" class=\"dataframe\">\n",
       "  <thead>\n",
       "    <tr style=\"text-align: right;\">\n",
       "      <th></th>\n",
       "      <th>user</th>\n",
       "      <th>count</th>\n",
       "    </tr>\n",
       "  </thead>\n",
       "  <tbody>\n",
       "    <tr>\n",
       "      <th>0</th>\n",
       "      <td>AAN0077</td>\n",
       "      <td>1</td>\n",
       "    </tr>\n",
       "    <tr>\n",
       "      <th>1</th>\n",
       "      <td>AAW0103</td>\n",
       "      <td>1</td>\n",
       "    </tr>\n",
       "    <tr>\n",
       "      <th>2</th>\n",
       "      <td>ACE0265</td>\n",
       "      <td>1</td>\n",
       "    </tr>\n",
       "    <tr>\n",
       "      <th>3</th>\n",
       "      <td>ACL0394</td>\n",
       "      <td>2</td>\n",
       "    </tr>\n",
       "    <tr>\n",
       "      <th>5</th>\n",
       "      <td>ADR0362</td>\n",
       "      <td>1</td>\n",
       "    </tr>\n",
       "    <tr>\n",
       "      <th>...</th>\n",
       "      <td>...</td>\n",
       "      <td>...</td>\n",
       "    </tr>\n",
       "    <tr>\n",
       "      <th>632</th>\n",
       "      <td>XTM0246</td>\n",
       "      <td>1</td>\n",
       "    </tr>\n",
       "    <tr>\n",
       "      <th>633</th>\n",
       "      <td>YJT0368</td>\n",
       "      <td>2</td>\n",
       "    </tr>\n",
       "    <tr>\n",
       "      <th>635</th>\n",
       "      <td>YSB0779</td>\n",
       "      <td>1</td>\n",
       "    </tr>\n",
       "    <tr>\n",
       "      <th>636</th>\n",
       "      <td>ZBL0379</td>\n",
       "      <td>1</td>\n",
       "    </tr>\n",
       "    <tr>\n",
       "      <th>637</th>\n",
       "      <td>ZIF0269</td>\n",
       "      <td>1</td>\n",
       "    </tr>\n",
       "  </tbody>\n",
       "</table>\n",
       "<p>230 rows × 2 columns</p>\n",
       "</div>"
      ],
      "text/plain": [
       "        user  count\n",
       "0    AAN0077      1\n",
       "1    AAW0103      1\n",
       "2    ACE0265      1\n",
       "3    ACL0394      2\n",
       "5    ADR0362      1\n",
       "..       ...    ...\n",
       "632  XTM0246      1\n",
       "633  YJT0368      2\n",
       "635  YSB0779      1\n",
       "636  ZBL0379      1\n",
       "637  ZIF0269      1\n",
       "\n",
       "[230 rows x 2 columns]"
      ]
     },
     "execution_count": 55,
     "metadata": {},
     "output_type": "execute_result"
    }
   ],
   "source": [
    "df_user_pc"
   ]
  },
  {
   "cell_type": "code",
   "execution_count": 56,
   "metadata": {
    "id": "6c_Kvzy7OHGA"
   },
   "outputs": [],
   "source": [
    "# import matplotlib.pyplot as plt\n",
    "from sklearn.ensemble import IsolationForest"
   ]
  },
  {
   "cell_type": "code",
   "execution_count": 57,
   "metadata": {
    "id": "YBGQCn6qgD39"
   },
   "outputs": [],
   "source": [
    "df_user_pc_count = np.array(df_user_pc['count'])"
   ]
  },
  {
   "cell_type": "code",
   "execution_count": 58,
   "metadata": {
    "id": "mfnylg3ZgOE5"
   },
   "outputs": [],
   "source": [
    "df_user_pc_ct = df_user_pc_count.reshape(-1,1)"
   ]
  },
  {
   "cell_type": "code",
   "execution_count": 59,
   "metadata": {
    "id": "TzZe9KlALUgq"
   },
   "outputs": [],
   "source": [
    "import pickle\n",
    "model = pickle.load(open('../pkl/user_pc_ct.pkl', 'rb'))\n",
    "graph_a_score = model.decision_function(df_user_pc_ct)\n",
    "threat = model.predict(df_user_pc_ct)\n"
   ]
  },
  {
   "cell_type": "code",
   "execution_count": 60,
   "metadata": {
    "id": "E5WQPGDuhgAr"
   },
   "outputs": [],
   "source": [
    "#user pc\n",
    "#forest = IsolationForest(bootstrap=False, contamination=0.1,max_features=1.0,\n",
    "#                          max_samples='auto',n_estimators=100, n_jobs=1, random_state=None,\n",
    "#                          verbose=0)\n",
    "# # forest.fit(df_user_pc_ct)\n"
   ]
  },
  {
   "cell_type": "code",
   "execution_count": 61,
   "metadata": {
    "id": "dqGC-D062i7J"
   },
   "outputs": [],
   "source": [
    "# import pickle \n",
    "# with open('user_pc_ct.pkl','wb') as file :\n",
    "#   pickle.dump(forest, file)"
   ]
  },
  {
   "cell_type": "code",
   "execution_count": 62,
   "metadata": {
    "id": "KAVGtzULiOVz"
   },
   "outputs": [],
   "source": [
    "# graph_a_score = forest.decision_function(df_user_pc_ct)\n",
    "# print(graph_a_score[1:10])"
   ]
  },
  {
   "cell_type": "code",
   "execution_count": 63,
   "metadata": {
    "colab": {
     "base_uri": "https://localhost:8080/",
     "height": 424
    },
    "executionInfo": {
     "elapsed": 185,
     "status": "ok",
     "timestamp": 1632034257554,
     "user": {
      "displayName": "Suraj Sharma",
      "photoUrl": "https://lh3.googleusercontent.com/a/default-user=s64",
      "userId": "04526276601361747492"
     },
     "user_tz": -345
    },
    "id": "Pewg2cRzihdw",
    "outputId": "f5d986c9-342a-42d5-f57a-07d5f219fcf6"
   },
   "outputs": [
    {
     "data": {
      "text/html": [
       "<div>\n",
       "<style scoped>\n",
       "    .dataframe tbody tr th:only-of-type {\n",
       "        vertical-align: middle;\n",
       "    }\n",
       "\n",
       "    .dataframe tbody tr th {\n",
       "        vertical-align: top;\n",
       "    }\n",
       "\n",
       "    .dataframe thead th {\n",
       "        text-align: right;\n",
       "    }\n",
       "</style>\n",
       "<table border=\"1\" class=\"dataframe\">\n",
       "  <thead>\n",
       "    <tr style=\"text-align: right;\">\n",
       "      <th></th>\n",
       "      <th>user</th>\n",
       "      <th>ascore</th>\n",
       "      <th>threat</th>\n",
       "    </tr>\n",
       "  </thead>\n",
       "  <tbody>\n",
       "    <tr>\n",
       "      <th>0</th>\n",
       "      <td>AAN0077</td>\n",
       "      <td>0.090545</td>\n",
       "      <td>1</td>\n",
       "    </tr>\n",
       "    <tr>\n",
       "      <th>1</th>\n",
       "      <td>AAW0103</td>\n",
       "      <td>0.090545</td>\n",
       "      <td>1</td>\n",
       "    </tr>\n",
       "    <tr>\n",
       "      <th>2</th>\n",
       "      <td>ACE0265</td>\n",
       "      <td>0.090545</td>\n",
       "      <td>1</td>\n",
       "    </tr>\n",
       "    <tr>\n",
       "      <th>3</th>\n",
       "      <td>ACL0394</td>\n",
       "      <td>0.000000</td>\n",
       "      <td>1</td>\n",
       "    </tr>\n",
       "    <tr>\n",
       "      <th>5</th>\n",
       "      <td>ADR0362</td>\n",
       "      <td>0.090545</td>\n",
       "      <td>1</td>\n",
       "    </tr>\n",
       "    <tr>\n",
       "      <th>...</th>\n",
       "      <td>...</td>\n",
       "      <td>...</td>\n",
       "      <td>...</td>\n",
       "    </tr>\n",
       "    <tr>\n",
       "      <th>632</th>\n",
       "      <td>XTM0246</td>\n",
       "      <td>0.090545</td>\n",
       "      <td>1</td>\n",
       "    </tr>\n",
       "    <tr>\n",
       "      <th>633</th>\n",
       "      <td>YJT0368</td>\n",
       "      <td>0.000000</td>\n",
       "      <td>1</td>\n",
       "    </tr>\n",
       "    <tr>\n",
       "      <th>635</th>\n",
       "      <td>YSB0779</td>\n",
       "      <td>0.090545</td>\n",
       "      <td>1</td>\n",
       "    </tr>\n",
       "    <tr>\n",
       "      <th>636</th>\n",
       "      <td>ZBL0379</td>\n",
       "      <td>0.090545</td>\n",
       "      <td>1</td>\n",
       "    </tr>\n",
       "    <tr>\n",
       "      <th>637</th>\n",
       "      <td>ZIF0269</td>\n",
       "      <td>0.090545</td>\n",
       "      <td>1</td>\n",
       "    </tr>\n",
       "  </tbody>\n",
       "</table>\n",
       "<p>230 rows × 3 columns</p>\n",
       "</div>"
      ],
      "text/plain": [
       "        user    ascore  threat\n",
       "0    AAN0077  0.090545       1\n",
       "1    AAW0103  0.090545       1\n",
       "2    ACE0265  0.090545       1\n",
       "3    ACL0394  0.000000       1\n",
       "5    ADR0362  0.090545       1\n",
       "..       ...       ...     ...\n",
       "632  XTM0246  0.090545       1\n",
       "633  YJT0368  0.000000       1\n",
       "635  YSB0779  0.090545       1\n",
       "636  ZBL0379  0.090545       1\n",
       "637  ZIF0269  0.090545       1\n",
       "\n",
       "[230 rows x 3 columns]"
      ]
     },
     "execution_count": 63,
     "metadata": {},
     "output_type": "execute_result"
    }
   ],
   "source": [
    "graph_result = pd.DataFrame()\n",
    "graph_result['user'] = df_user_pc['user']\n",
    "graph_result['ascore'] = graph_a_score\n",
    "graph_result['threat']= threat\n",
    "graph_result.to_csv('../output/user_pc_ct.csv', index=False)\n",
    "graph_result\n"
   ]
  },
  {
   "cell_type": "code",
   "execution_count": 64,
   "metadata": {
    "colab": {
     "base_uri": "https://localhost:8080/"
    },
    "executionInfo": {
     "elapsed": 184,
     "status": "ok",
     "timestamp": 1632034257555,
     "user": {
      "displayName": "Suraj Sharma",
      "photoUrl": "https://lh3.googleusercontent.com/a/default-user=s64",
      "userId": "04526276601361747492"
     },
     "user_tz": -345
    },
    "id": "s1fOe_9hi_iq",
    "outputId": "e46f59ca-8c5a-4883-e19c-708e06b9d817"
   },
   "outputs": [
    {
     "name": "stdout",
     "output_type": "stream",
     "text": [
      "        user    ascore  threat\n",
      "14   AJR0231 -0.242110      -1\n",
      "54   ALC0100 -0.169568      -1\n",
      "96   ARH0777 -0.168848      -1\n",
      "110  BGZ0902 -0.255862      -1\n",
      "154  CGH0088 -0.168848      -1\n",
      "167  CQS0899 -0.222694      -1\n",
      "205  DNS0397 -0.224169      -1\n",
      "218  EER0383 -0.181953      -1\n",
      "254  FED0275 -0.263095      -1\n",
      "401  LWB0078 -0.356151      -1\n",
      "489  PYT0264 -0.204651      -1\n",
      "580  WJP0386 -0.266216      -1\n",
      "592  WMP0272 -0.190906      -1\n"
     ]
    }
   ],
   "source": [
    "outliers = graph_result.loc[graph_result['ascore'] < 0]\n",
    "print(outliers)"
   ]
  },
  {
   "cell_type": "code",
   "execution_count": 65,
   "metadata": {
    "id": "rHH8qPWWjTJR"
   },
   "outputs": [],
   "source": [
    "def dtt2timestamp(dtt):\n",
    "  time_in_sec = (dtt.hour*60 + dtt.minute) * 60 + dtt.second\n",
    "  return time_in_sec"
   ]
  },
  {
   "cell_type": "code",
   "execution_count": 66,
   "metadata": {
    "id": "NLE_dHZojuO-"
   },
   "outputs": [],
   "source": [
    "df_user_logon_stats_sec = df_user_logon_stats\n"
   ]
  },
  {
   "cell_type": "code",
   "execution_count": null,
   "metadata": {
    "id": "KEgfSjhOkbbR"
   },
   "outputs": [],
   "source": []
  },
  {
   "cell_type": "code",
   "execution_count": 67,
   "metadata": {
    "id": "ZYxl4AMbj4Nw"
   },
   "outputs": [],
   "source": [
    "min_ts = [dtt2timestamp(dtt) for dtt in df_user_logon_stats_sec['min']]\n",
    "max_ts = [dtt2timestamp(dtt) for dtt in df_user_logon_stats_sec['max']]\n",
    "mode_ts = [dtt2timestamp(dtt) for dtt in df_user_logon_stats_sec['mode']]\n",
    "mean_ts = [dtt2timestamp(dtt) for dtt in df_user_logon_stats_sec['mean']]"
   ]
  },
  {
   "cell_type": "code",
   "execution_count": 68,
   "metadata": {
    "id": "mF89Jzhfkp9K"
   },
   "outputs": [],
   "source": [
    "df_user_logon_stats_sec['min_ts'] = min_ts\n",
    "df_user_logon_stats_sec['max_ts'] = max_ts\n",
    "df_user_logon_stats_sec['mode_ts'] = mode_ts\n",
    "df_user_logon_stats_sec['mean_ts'] = mean_ts"
   ]
  },
  {
   "cell_type": "code",
   "execution_count": null,
   "metadata": {
    "id": "x9pa2dh2kzMz"
   },
   "outputs": [],
   "source": []
  },
  {
   "cell_type": "code",
   "execution_count": 69,
   "metadata": {
    "colab": {
     "base_uri": "https://localhost:8080/",
     "height": 424
    },
    "executionInfo": {
     "elapsed": 184,
     "status": "ok",
     "timestamp": 1632034257567,
     "user": {
      "displayName": "Suraj Sharma",
      "photoUrl": "https://lh3.googleusercontent.com/a/default-user=s64",
      "userId": "04526276601361747492"
     },
     "user_tz": -345
    },
    "id": "pvVC-j0pk49N",
    "outputId": "5452d303-e571-486c-9177-4b6f6ca8b676"
   },
   "outputs": [
    {
     "data": {
      "text/html": [
       "<div>\n",
       "<style scoped>\n",
       "    .dataframe tbody tr th:only-of-type {\n",
       "        vertical-align: middle;\n",
       "    }\n",
       "\n",
       "    .dataframe tbody tr th {\n",
       "        vertical-align: top;\n",
       "    }\n",
       "\n",
       "    .dataframe thead th {\n",
       "        text-align: right;\n",
       "    }\n",
       "</style>\n",
       "<table border=\"1\" class=\"dataframe\">\n",
       "  <thead>\n",
       "    <tr style=\"text-align: right;\">\n",
       "      <th></th>\n",
       "      <th>user</th>\n",
       "      <th>min_ts</th>\n",
       "      <th>max_ts</th>\n",
       "      <th>mode_ts</th>\n",
       "      <th>mean_ts</th>\n",
       "    </tr>\n",
       "  </thead>\n",
       "  <tbody>\n",
       "    <tr>\n",
       "      <th>0</th>\n",
       "      <td>AAN0077</td>\n",
       "      <td>27900</td>\n",
       "      <td>29580</td>\n",
       "      <td>29580</td>\n",
       "      <td>25200</td>\n",
       "    </tr>\n",
       "    <tr>\n",
       "      <th>1</th>\n",
       "      <td>AAW0103</td>\n",
       "      <td>25200</td>\n",
       "      <td>26280</td>\n",
       "      <td>26100</td>\n",
       "      <td>25200</td>\n",
       "    </tr>\n",
       "    <tr>\n",
       "      <th>2</th>\n",
       "      <td>ACE0265</td>\n",
       "      <td>28800</td>\n",
       "      <td>30300</td>\n",
       "      <td>29700</td>\n",
       "      <td>28800</td>\n",
       "    </tr>\n",
       "    <tr>\n",
       "      <th>3</th>\n",
       "      <td>ACL0394</td>\n",
       "      <td>32400</td>\n",
       "      <td>60757</td>\n",
       "      <td>33300</td>\n",
       "      <td>32400</td>\n",
       "    </tr>\n",
       "    <tr>\n",
       "      <th>4</th>\n",
       "      <td>ADR0362</td>\n",
       "      <td>27000</td>\n",
       "      <td>28080</td>\n",
       "      <td>28080</td>\n",
       "      <td>25200</td>\n",
       "    </tr>\n",
       "    <tr>\n",
       "      <th>...</th>\n",
       "      <td>...</td>\n",
       "      <td>...</td>\n",
       "      <td>...</td>\n",
       "      <td>...</td>\n",
       "      <td>...</td>\n",
       "    </tr>\n",
       "    <tr>\n",
       "      <th>225</th>\n",
       "      <td>XTM0246</td>\n",
       "      <td>27900</td>\n",
       "      <td>29520</td>\n",
       "      <td>29460</td>\n",
       "      <td>25200</td>\n",
       "    </tr>\n",
       "    <tr>\n",
       "      <th>226</th>\n",
       "      <td>YJT0368</td>\n",
       "      <td>27000</td>\n",
       "      <td>68459</td>\n",
       "      <td>27900</td>\n",
       "      <td>25200</td>\n",
       "    </tr>\n",
       "    <tr>\n",
       "      <th>227</th>\n",
       "      <td>YSB0779</td>\n",
       "      <td>27000</td>\n",
       "      <td>28020</td>\n",
       "      <td>27900</td>\n",
       "      <td>25200</td>\n",
       "    </tr>\n",
       "    <tr>\n",
       "      <th>228</th>\n",
       "      <td>ZBL0379</td>\n",
       "      <td>29700</td>\n",
       "      <td>52585</td>\n",
       "      <td>30600</td>\n",
       "      <td>36000</td>\n",
       "    </tr>\n",
       "    <tr>\n",
       "      <th>229</th>\n",
       "      <td>ZIF0269</td>\n",
       "      <td>25200</td>\n",
       "      <td>26760</td>\n",
       "      <td>26100</td>\n",
       "      <td>25200</td>\n",
       "    </tr>\n",
       "  </tbody>\n",
       "</table>\n",
       "<p>230 rows × 5 columns</p>\n",
       "</div>"
      ],
      "text/plain": [
       "        user  min_ts  max_ts  mode_ts  mean_ts\n",
       "0    AAN0077   27900   29580    29580    25200\n",
       "1    AAW0103   25200   26280    26100    25200\n",
       "2    ACE0265   28800   30300    29700    28800\n",
       "3    ACL0394   32400   60757    33300    32400\n",
       "4    ADR0362   27000   28080    28080    25200\n",
       "..       ...     ...     ...      ...      ...\n",
       "225  XTM0246   27900   29520    29460    25200\n",
       "226  YJT0368   27000   68459    27900    25200\n",
       "227  YSB0779   27000   28020    27900    25200\n",
       "228  ZBL0379   29700   52585    30600    36000\n",
       "229  ZIF0269   25200   26760    26100    25200\n",
       "\n",
       "[230 rows x 5 columns]"
      ]
     },
     "execution_count": 69,
     "metadata": {},
     "output_type": "execute_result"
    }
   ],
   "source": [
    "df_user_logon_stats_sec.drop(['min','max','mode','mean'], axis=1)"
   ]
  },
  {
   "cell_type": "code",
   "execution_count": 70,
   "metadata": {
    "id": "ifvL5-NClHIR"
   },
   "outputs": [],
   "source": [
    "df_user_logoff_stats_sec = df_user_logoff_stats\n"
   ]
  },
  {
   "cell_type": "code",
   "execution_count": null,
   "metadata": {
    "id": "Bf6_0MbYllVB"
   },
   "outputs": [],
   "source": []
  },
  {
   "cell_type": "code",
   "execution_count": 71,
   "metadata": {
    "id": "GN2B0tr2lUEM"
   },
   "outputs": [],
   "source": [
    "min_ts = [dtt2timestamp(dtt) for dtt in df_user_logoff_stats_sec['min']] \n",
    "max_ts = [dtt2timestamp(dtt) for dtt in df_user_logoff_stats_sec['max']]\n",
    "mode_ts = [dtt2timestamp(dtt) for dtt in df_user_logoff_stats_sec['mode']]\n",
    "mean_ts = [dtt2timestamp(dtt) for dtt in df_user_logoff_stats_sec['mean']]"
   ]
  },
  {
   "cell_type": "code",
   "execution_count": 72,
   "metadata": {
    "id": "fs92g2OJlayS"
   },
   "outputs": [],
   "source": [
    "df_user_logoff_stats_sec['min_ts'] = min_ts\n",
    "df_user_logoff_stats_sec['max_ts'] = max_ts\n",
    "df_user_logoff_stats_sec['mode_ts'] = mode_ts\n",
    "df_user_logoff_stats_sec['mean_ts'] = mean_ts"
   ]
  },
  {
   "cell_type": "code",
   "execution_count": 73,
   "metadata": {
    "colab": {
     "base_uri": "https://localhost:8080/",
     "height": 424
    },
    "executionInfo": {
     "elapsed": 183,
     "status": "ok",
     "timestamp": 1632034257572,
     "user": {
      "displayName": "Suraj Sharma",
      "photoUrl": "https://lh3.googleusercontent.com/a/default-user=s64",
      "userId": "04526276601361747492"
     },
     "user_tz": -345
    },
    "id": "00Bl8qoVmQBl",
    "outputId": "7dfea576-0de2-4cbf-d2bd-ada75b5db6d4"
   },
   "outputs": [
    {
     "data": {
      "text/html": [
       "<div>\n",
       "<style scoped>\n",
       "    .dataframe tbody tr th:only-of-type {\n",
       "        vertical-align: middle;\n",
       "    }\n",
       "\n",
       "    .dataframe tbody tr th {\n",
       "        vertical-align: top;\n",
       "    }\n",
       "\n",
       "    .dataframe thead th {\n",
       "        text-align: right;\n",
       "    }\n",
       "</style>\n",
       "<table border=\"1\" class=\"dataframe\">\n",
       "  <thead>\n",
       "    <tr style=\"text-align: right;\">\n",
       "      <th></th>\n",
       "      <th>user</th>\n",
       "      <th>min_ts</th>\n",
       "      <th>max_ts</th>\n",
       "      <th>mode_ts</th>\n",
       "      <th>mean_ts</th>\n",
       "    </tr>\n",
       "  </thead>\n",
       "  <tbody>\n",
       "    <tr>\n",
       "      <th>0</th>\n",
       "      <td>AAN0077</td>\n",
       "      <td>60420</td>\n",
       "      <td>62100</td>\n",
       "      <td>60960</td>\n",
       "      <td>57600</td>\n",
       "    </tr>\n",
       "    <tr>\n",
       "      <th>1</th>\n",
       "      <td>AAW0103</td>\n",
       "      <td>58320</td>\n",
       "      <td>59400</td>\n",
       "      <td>58440</td>\n",
       "      <td>57600</td>\n",
       "    </tr>\n",
       "    <tr>\n",
       "      <th>2</th>\n",
       "      <td>ACE0265</td>\n",
       "      <td>57900</td>\n",
       "      <td>59400</td>\n",
       "      <td>57960</td>\n",
       "      <td>57600</td>\n",
       "    </tr>\n",
       "    <tr>\n",
       "      <th>3</th>\n",
       "      <td>ACL0394</td>\n",
       "      <td>33235</td>\n",
       "      <td>63000</td>\n",
       "      <td>62100</td>\n",
       "      <td>57600</td>\n",
       "    </tr>\n",
       "    <tr>\n",
       "      <th>4</th>\n",
       "      <td>ADR0362</td>\n",
       "      <td>60120</td>\n",
       "      <td>61200</td>\n",
       "      <td>60300</td>\n",
       "      <td>57600</td>\n",
       "    </tr>\n",
       "    <tr>\n",
       "      <th>...</th>\n",
       "      <td>...</td>\n",
       "      <td>...</td>\n",
       "      <td>...</td>\n",
       "      <td>...</td>\n",
       "      <td>...</td>\n",
       "    </tr>\n",
       "    <tr>\n",
       "      <th>225</th>\n",
       "      <td>XTM0246</td>\n",
       "      <td>60480</td>\n",
       "      <td>62100</td>\n",
       "      <td>61200</td>\n",
       "      <td>57600</td>\n",
       "    </tr>\n",
       "    <tr>\n",
       "      <th>226</th>\n",
       "      <td>YJT0368</td>\n",
       "      <td>27293</td>\n",
       "      <td>68732</td>\n",
       "      <td>60300</td>\n",
       "      <td>54000</td>\n",
       "    </tr>\n",
       "    <tr>\n",
       "      <th>227</th>\n",
       "      <td>YSB0779</td>\n",
       "      <td>60180</td>\n",
       "      <td>61200</td>\n",
       "      <td>60300</td>\n",
       "      <td>57600</td>\n",
       "    </tr>\n",
       "    <tr>\n",
       "      <th>228</th>\n",
       "      <td>ZBL0379</td>\n",
       "      <td>69420</td>\n",
       "      <td>71100</td>\n",
       "      <td>70200</td>\n",
       "      <td>68400</td>\n",
       "    </tr>\n",
       "    <tr>\n",
       "      <th>229</th>\n",
       "      <td>ZIF0269</td>\n",
       "      <td>57840</td>\n",
       "      <td>59400</td>\n",
       "      <td>57900</td>\n",
       "      <td>57600</td>\n",
       "    </tr>\n",
       "  </tbody>\n",
       "</table>\n",
       "<p>230 rows × 5 columns</p>\n",
       "</div>"
      ],
      "text/plain": [
       "        user  min_ts  max_ts  mode_ts  mean_ts\n",
       "0    AAN0077   60420   62100    60960    57600\n",
       "1    AAW0103   58320   59400    58440    57600\n",
       "2    ACE0265   57900   59400    57960    57600\n",
       "3    ACL0394   33235   63000    62100    57600\n",
       "4    ADR0362   60120   61200    60300    57600\n",
       "..       ...     ...     ...      ...      ...\n",
       "225  XTM0246   60480   62100    61200    57600\n",
       "226  YJT0368   27293   68732    60300    54000\n",
       "227  YSB0779   60180   61200    60300    57600\n",
       "228  ZBL0379   69420   71100    70200    68400\n",
       "229  ZIF0269   57840   59400    57900    57600\n",
       "\n",
       "[230 rows x 5 columns]"
      ]
     },
     "execution_count": 73,
     "metadata": {},
     "output_type": "execute_result"
    }
   ],
   "source": [
    "df_user_logoff_stats_sec.drop(['min', 'max','mode','mean'], axis=1)"
   ]
  },
  {
   "cell_type": "code",
   "execution_count": 74,
   "metadata": {
    "id": "SX_ib_9SmSpp"
   },
   "outputs": [],
   "source": [
    "df_log_on_off_stats = pd.DataFrame()\n",
    "\n",
    "df_log_on_off_stats['user'] = df_user_logon_stats_sec['user']\n",
    "df_log_on_off_stats['on_min_ts'] = df_user_logon_stats_sec['min_ts']\n",
    "df_log_on_off_stats['on_max_ts'] = df_user_logon_stats_sec['max_ts']\n",
    "df_log_on_off_stats['on_mode_ts'] = df_user_logon_stats_sec['mode_ts']\n",
    "df_log_on_off_stats['on_mean_ts'] = df_user_logon_stats_sec['mean_ts']\n",
    "df_log_on_off_stats['off_min_ts'] = df_user_logon_stats_sec['min_ts']\n",
    "df_log_on_off_stats['off_max_ts'] = df_user_logon_stats_sec['max_ts']\n",
    "df_log_on_off_stats['off_mode_ts'] = df_user_logon_stats_sec['mode_ts']\n",
    "df_log_on_off_stats['off_mean_ts'] = df_user_logon_stats_sec['mean_ts']"
   ]
  },
  {
   "cell_type": "code",
   "execution_count": 75,
   "metadata": {
    "colab": {
     "base_uri": "https://localhost:8080/"
    },
    "executionInfo": {
     "elapsed": 183,
     "status": "ok",
     "timestamp": 1632034257574,
     "user": {
      "displayName": "Suraj Sharma",
      "photoUrl": "https://lh3.googleusercontent.com/a/default-user=s64",
      "userId": "04526276601361747492"
     },
     "user_tz": -345
    },
    "id": "qRZ0eHGhnTjo",
    "outputId": "c7fa4698-f888-4cf6-f9b6-922db59790e2"
   },
   "outputs": [
    {
     "data": {
      "text/plain": [
       "user           object\n",
       "on_min_ts       int64\n",
       "on_max_ts       int64\n",
       "on_mode_ts      int64\n",
       "on_mean_ts      int64\n",
       "off_min_ts      int64\n",
       "off_max_ts      int64\n",
       "off_mode_ts     int64\n",
       "off_mean_ts     int64\n",
       "dtype: object"
      ]
     },
     "execution_count": 75,
     "metadata": {},
     "output_type": "execute_result"
    }
   ],
   "source": [
    "df_log_on_off_stats.dtypes"
   ]
  },
  {
   "cell_type": "code",
   "execution_count": 76,
   "metadata": {
    "colab": {
     "base_uri": "https://localhost:8080/"
    },
    "executionInfo": {
     "elapsed": 151,
     "status": "ok",
     "timestamp": 1632034257575,
     "user": {
      "displayName": "Suraj Sharma",
      "photoUrl": "https://lh3.googleusercontent.com/a/default-user=s64",
      "userId": "04526276601361747492"
     },
     "user_tz": -345
    },
    "id": "uNwVevJVnWw0",
    "outputId": "b926dbd1-e372-4b84-d996-5e9ee9659101"
   },
   "outputs": [
    {
     "name": "stdout",
     "output_type": "stream",
     "text": [
      "[[27900 29580 29580 ... 29580 29580 25200]\n",
      " [25200 26280 26100 ... 26280 26100 25200]\n",
      " [28800 30300 29700 ... 30300 29700 28800]\n",
      " ...\n",
      " [27000 28020 27900 ... 28020 27900 25200]\n",
      " [29700 52585 30600 ... 52585 30600 36000]\n",
      " [25200 26760 26100 ... 26760 26100 25200]]\n"
     ]
    }
   ],
   "source": [
    "log_stats = df_log_on_off_stats.drop(['user'], axis = 1)\n",
    "log_stats_matrix = np.matrix(log_stats)\n",
    "print(log_stats_matrix)"
   ]
  },
  {
   "cell_type": "code",
   "execution_count": 77,
   "metadata": {
    "colab": {
     "base_uri": "https://localhost:8080/"
    },
    "executionInfo": {
     "elapsed": 147,
     "status": "ok",
     "timestamp": 1632034257577,
     "user": {
      "displayName": "Suraj Sharma",
      "photoUrl": "https://lh3.googleusercontent.com/a/default-user=s64",
      "userId": "04526276601361747492"
     },
     "user_tz": -345
    },
    "id": "N9lDES_NLF_b",
    "outputId": "9e6fa1db-36de-4682-8834-8c84778e466a"
   },
   "outputs": [
    {
     "data": {
      "text/plain": [
       "Index(['user', 'on_min_ts', 'on_max_ts', 'on_mode_ts', 'on_mean_ts',\n",
       "       'off_min_ts', 'off_max_ts', 'off_mode_ts', 'off_mean_ts'],\n",
       "      dtype='object')"
      ]
     },
     "execution_count": 77,
     "metadata": {},
     "output_type": "execute_result"
    }
   ],
   "source": [
    "df_log_on_off_stats.columns"
   ]
  },
  {
   "cell_type": "code",
   "execution_count": 78,
   "metadata": {
    "id": "R1nHKRQ9nzaD"
   },
   "outputs": [],
   "source": [
    "# \n",
    "\n",
    "model2 = pickle.load(open('../pkl/log_stats_matrix.pkl', 'rb'))\n",
    "log_ascore = model2.decision_function(log_stats_matrix)\n",
    "threat = model2.predict(log_stats_matrix)\n"
   ]
  },
  {
   "cell_type": "code",
   "execution_count": 79,
   "metadata": {
    "id": "LRYVUCn7ieBH"
   },
   "outputs": [],
   "source": [
    "# # counting the values\n",
    "# df22 = pd.Series(forest.predict(log_stats_matrix))\n",
    "# # df22 = df22.map({1:0, -1:1})\n",
    "# # print(df22.value_counts())"
   ]
  },
  {
   "cell_type": "code",
   "execution_count": 80,
   "metadata": {
    "id": "Au2Q3iu114eB"
   },
   "outputs": [],
   "source": [
    "# import pickle \n",
    "# with open('log_stats_matrix.pkl','wb') as file :\n",
    "#   pickle.dump(forest, file)"
   ]
  },
  {
   "cell_type": "code",
   "execution_count": 81,
   "metadata": {
    "colab": {
     "base_uri": "https://localhost:8080/"
    },
    "executionInfo": {
     "elapsed": 147,
     "status": "ok",
     "timestamp": 1632034257583,
     "user": {
      "displayName": "Suraj Sharma",
      "photoUrl": "https://lh3.googleusercontent.com/a/default-user=s64",
      "userId": "04526276601361747492"
     },
     "user_tz": -345
    },
    "id": "kAUP6ou1n9kp",
    "outputId": "c9fd8409-860d-4f5a-c052-6b36e0aef2ea"
   },
   "outputs": [
    {
     "name": "stdout",
     "output_type": "stream",
     "text": [
      "        user    ascore  threat\n",
      "0    AAN0077  0.039010       1\n",
      "1    AAW0103  0.106512       1\n",
      "2    ACE0265  0.153949       1\n",
      "3    ACL0394  0.033959       1\n",
      "4    ADR0362  0.147203       1\n",
      "..       ...       ...     ...\n",
      "225  XTM0246  0.060684       1\n",
      "226  YJT0368  0.038474       1\n",
      "227  YSB0779  0.192625       1\n",
      "228  ZBL0379  0.111829       1\n",
      "229  ZIF0269  0.092330       1\n",
      "\n",
      "[230 rows x 3 columns]\n"
     ]
    }
   ],
   "source": [
    "df_user_log_result = pd.DataFrame()\n",
    "df_user_log_result['user'] = df_user_logoff_stats_sec['user']\n",
    "df_user_log_result['ascore'] = log_ascore\n",
    "df_user_log_result['threat'] = threat\n",
    "df_user_log_result.to_csv('../output/user_log_result.csv', index=False)\n",
    "print(df_user_log_result)\n"
   ]
  },
  {
   "cell_type": "code",
   "execution_count": 82,
   "metadata": {
    "colab": {
     "base_uri": "https://localhost:8080/",
     "height": 771
    },
    "executionInfo": {
     "elapsed": 143,
     "status": "ok",
     "timestamp": 1632034257584,
     "user": {
      "displayName": "Suraj Sharma",
      "photoUrl": "https://lh3.googleusercontent.com/a/default-user=s64",
      "userId": "04526276601361747492"
     },
     "user_tz": -345
    },
    "id": "Z6JSUpMjoPrm",
    "outputId": "3db4936d-2647-4526-bfa8-8cc4c84ffb33"
   },
   "outputs": [
    {
     "data": {
      "text/html": [
       "<div>\n",
       "<style scoped>\n",
       "    .dataframe tbody tr th:only-of-type {\n",
       "        vertical-align: middle;\n",
       "    }\n",
       "\n",
       "    .dataframe tbody tr th {\n",
       "        vertical-align: top;\n",
       "    }\n",
       "\n",
       "    .dataframe thead th {\n",
       "        text-align: right;\n",
       "    }\n",
       "</style>\n",
       "<table border=\"1\" class=\"dataframe\">\n",
       "  <thead>\n",
       "    <tr style=\"text-align: right;\">\n",
       "      <th></th>\n",
       "      <th>user</th>\n",
       "      <th>ascore</th>\n",
       "      <th>threat</th>\n",
       "    </tr>\n",
       "  </thead>\n",
       "  <tbody>\n",
       "    <tr>\n",
       "      <th>29</th>\n",
       "      <td>BKA0340</td>\n",
       "      <td>-0.026654</td>\n",
       "      <td>-1</td>\n",
       "    </tr>\n",
       "    <tr>\n",
       "      <th>31</th>\n",
       "      <td>BMS0057</td>\n",
       "      <td>-0.011392</td>\n",
       "      <td>-1</td>\n",
       "    </tr>\n",
       "    <tr>\n",
       "      <th>43</th>\n",
       "      <td>BZV0067</td>\n",
       "      <td>-0.015218</td>\n",
       "      <td>-1</td>\n",
       "    </tr>\n",
       "    <tr>\n",
       "      <th>56</th>\n",
       "      <td>CQS0899</td>\n",
       "      <td>-0.119682</td>\n",
       "      <td>-1</td>\n",
       "    </tr>\n",
       "    <tr>\n",
       "      <th>65</th>\n",
       "      <td>DJS0406</td>\n",
       "      <td>-0.030006</td>\n",
       "      <td>-1</td>\n",
       "    </tr>\n",
       "    <tr>\n",
       "      <th>73</th>\n",
       "      <td>EER0383</td>\n",
       "      <td>-0.028553</td>\n",
       "      <td>-1</td>\n",
       "    </tr>\n",
       "    <tr>\n",
       "      <th>77</th>\n",
       "      <td>FED0275</td>\n",
       "      <td>-0.103707</td>\n",
       "      <td>-1</td>\n",
       "    </tr>\n",
       "    <tr>\n",
       "      <th>83</th>\n",
       "      <td>GFM0250</td>\n",
       "      <td>-0.045716</td>\n",
       "      <td>-1</td>\n",
       "    </tr>\n",
       "    <tr>\n",
       "      <th>86</th>\n",
       "      <td>GJP0098</td>\n",
       "      <td>-0.023272</td>\n",
       "      <td>-1</td>\n",
       "    </tr>\n",
       "    <tr>\n",
       "      <th>95</th>\n",
       "      <td>HML0060</td>\n",
       "      <td>-0.041845</td>\n",
       "      <td>-1</td>\n",
       "    </tr>\n",
       "    <tr>\n",
       "      <th>144</th>\n",
       "      <td>LQD0409</td>\n",
       "      <td>-0.031555</td>\n",
       "      <td>-1</td>\n",
       "    </tr>\n",
       "    <tr>\n",
       "      <th>145</th>\n",
       "      <td>LTB0107</td>\n",
       "      <td>-0.039192</td>\n",
       "      <td>-1</td>\n",
       "    </tr>\n",
       "    <tr>\n",
       "      <th>147</th>\n",
       "      <td>LWB0078</td>\n",
       "      <td>-0.032180</td>\n",
       "      <td>-1</td>\n",
       "    </tr>\n",
       "    <tr>\n",
       "      <th>165</th>\n",
       "      <td>NST0254</td>\n",
       "      <td>-0.013321</td>\n",
       "      <td>-1</td>\n",
       "    </tr>\n",
       "    <tr>\n",
       "      <th>178</th>\n",
       "      <td>RAW0533</td>\n",
       "      <td>-0.076945</td>\n",
       "      <td>-1</td>\n",
       "    </tr>\n",
       "    <tr>\n",
       "      <th>180</th>\n",
       "      <td>RCG0105</td>\n",
       "      <td>-0.044372</td>\n",
       "      <td>-1</td>\n",
       "    </tr>\n",
       "    <tr>\n",
       "      <th>201</th>\n",
       "      <td>TBD0276</td>\n",
       "      <td>-0.013312</td>\n",
       "      <td>-1</td>\n",
       "    </tr>\n",
       "    <tr>\n",
       "      <th>210</th>\n",
       "      <td>UMA0072</td>\n",
       "      <td>-0.006927</td>\n",
       "      <td>-1</td>\n",
       "    </tr>\n",
       "    <tr>\n",
       "      <th>214</th>\n",
       "      <td>VLB0069</td>\n",
       "      <td>-0.055408</td>\n",
       "      <td>-1</td>\n",
       "    </tr>\n",
       "    <tr>\n",
       "      <th>220</th>\n",
       "      <td>WMP0272</td>\n",
       "      <td>-0.013466</td>\n",
       "      <td>-1</td>\n",
       "    </tr>\n",
       "    <tr>\n",
       "      <th>221</th>\n",
       "      <td>WXW0044</td>\n",
       "      <td>-0.011420</td>\n",
       "      <td>-1</td>\n",
       "    </tr>\n",
       "    <tr>\n",
       "      <th>223</th>\n",
       "      <td>XCR0407</td>\n",
       "      <td>-0.013603</td>\n",
       "      <td>-1</td>\n",
       "    </tr>\n",
       "  </tbody>\n",
       "</table>\n",
       "</div>"
      ],
      "text/plain": [
       "        user    ascore  threat\n",
       "29   BKA0340 -0.026654      -1\n",
       "31   BMS0057 -0.011392      -1\n",
       "43   BZV0067 -0.015218      -1\n",
       "56   CQS0899 -0.119682      -1\n",
       "65   DJS0406 -0.030006      -1\n",
       "73   EER0383 -0.028553      -1\n",
       "77   FED0275 -0.103707      -1\n",
       "83   GFM0250 -0.045716      -1\n",
       "86   GJP0098 -0.023272      -1\n",
       "95   HML0060 -0.041845      -1\n",
       "144  LQD0409 -0.031555      -1\n",
       "145  LTB0107 -0.039192      -1\n",
       "147  LWB0078 -0.032180      -1\n",
       "165  NST0254 -0.013321      -1\n",
       "178  RAW0533 -0.076945      -1\n",
       "180  RCG0105 -0.044372      -1\n",
       "201  TBD0276 -0.013312      -1\n",
       "210  UMA0072 -0.006927      -1\n",
       "214  VLB0069 -0.055408      -1\n",
       "220  WMP0272 -0.013466      -1\n",
       "221  WXW0044 -0.011420      -1\n",
       "223  XCR0407 -0.013603      -1"
      ]
     },
     "execution_count": 82,
     "metadata": {},
     "output_type": "execute_result"
    }
   ],
   "source": [
    "df_user_log_result.loc[df_user_log_result['ascore'] < 0]"
   ]
  },
  {
   "cell_type": "code",
   "execution_count": 83,
   "metadata": {
    "id": "E1HKkFzzoWx3"
   },
   "outputs": [],
   "source": [
    "df_device_conn_stats_sec = df_device_conn_stats\n",
    "con_min_ts = [dtt2timestamp(dtt) for dtt in df_device_conn_stats_sec['min']]\n",
    "con_max_ts = [dtt2timestamp(dtt) for dtt in df_device_conn_stats_sec['max']]\n",
    "con_mode_ts = [dtt2timestamp(dtt) for dtt in df_device_conn_stats_sec['mode']]\n",
    "con_mean_ts = [dtt2timestamp(dtt) for dtt in df_device_conn_stats_sec['mean']]\n",
    "\n",
    "df_device_conn_stats_sec['min_ts'] = con_min_ts\n",
    "df_device_conn_stats_sec['max_ts'] = con_max_ts\n",
    "df_device_conn_stats_sec['mode_ts'] = con_mode_ts\n",
    "df_device_conn_stats_sec['mean_ts'] = con_mean_ts\n",
    "df_device_conn_stats_sec = df_device_conn_stats_sec.drop(['min', 'max','mode','mean'], axis=1)"
   ]
  },
  {
   "cell_type": "code",
   "execution_count": 84,
   "metadata": {
    "id": "uOwtUMGUoxv8"
   },
   "outputs": [],
   "source": [
    "df_device_disconn_stats_sec = df_device_conn_stats\n",
    "discon_min_ts = [dtt2timestamp(dtt) for dtt in df_device_disconn_stats_sec['min']]\n",
    "discon_max_ts = [dtt2timestamp(dtt) for dtt in df_device_disconn_stats_sec['max']]\n",
    "discon_mode_ts = [dtt2timestamp(dtt) for dtt in df_device_disconn_stats_sec['mode']]\n",
    "discon_mean_ts = [dtt2timestamp(dtt) for dtt in df_device_disconn_stats_sec['mean']]\n",
    "\n",
    "df_device_disconn_stats_sec['min_ts'] = discon_min_ts\n",
    "df_device_disconn_stats_sec['max_ts'] = discon_max_ts\n",
    "df_device_disconn_stats_sec['mode_ts'] = discon_mode_ts\n",
    "df_device_disconn_stats_sec['mean_ts'] = discon_mean_ts\n",
    "df_device_disconn_stats_sec = df_device_disconn_stats_sec.drop(['min', 'max','mode','mean'], axis=1)\n"
   ]
  },
  {
   "cell_type": "code",
   "execution_count": 85,
   "metadata": {
    "id": "Wen5i_JcpJIu"
   },
   "outputs": [],
   "source": [
    "df_device_full = pd.DataFrame()\n",
    "df_device_full['user'] = df_device_conn_stats['user']"
   ]
  },
  {
   "cell_type": "code",
   "execution_count": 86,
   "metadata": {
    "id": "akDuC76Lp31p"
   },
   "outputs": [],
   "source": [
    "df_device_full['con_min_ts'] = df_device_conn_stats_sec['min_ts']\n",
    "df_device_full['con_max_ts'] = df_device_conn_stats_sec['max_ts']\n",
    "df_device_full['con_mode_ts'] = df_device_conn_stats_sec['mode_ts']\n",
    "df_device_full['con_mean_ts'] = df_device_conn_stats_sec['mean_ts']\n",
    "\n",
    "# disconnect stats\n",
    "df_device_full['dcon_min_ts'] = df_device_disconn_stats_sec['min_ts']\n",
    "df_device_full['dcon_max_ts'] = df_device_disconn_stats_sec['max_ts']\n",
    "df_device_full['dcon_mode_ts'] = df_device_disconn_stats_sec['mode_ts']\n",
    "df_device_full['dcon_mean_ts'] = df_device_disconn_stats_sec['mean_ts']\n",
    "\n",
    "# files per day stats\n",
    "df_device_full['file_mode'] = df_files_stats_new['mode_trasfers_per_user']\n",
    "df_device_full['file_max'] = df_files_stats_new['max_transfers_per_user']"
   ]
  },
  {
   "cell_type": "code",
   "execution_count": 87,
   "metadata": {
    "colab": {
     "base_uri": "https://localhost:8080/"
    },
    "executionInfo": {
     "elapsed": 141,
     "status": "ok",
     "timestamp": 1632034257589,
     "user": {
      "displayName": "Suraj Sharma",
      "photoUrl": "https://lh3.googleusercontent.com/a/default-user=s64",
      "userId": "04526276601361747492"
     },
     "user_tz": -345
    },
    "id": "LOWe3yHQqOKB",
    "outputId": "9d2b7531-3c5f-41ff-960c-b0364da4ed44"
   },
   "outputs": [
    {
     "data": {
      "text/plain": [
       "matrix([[30401, 68694, 43193, 43200, 30401, 68694, 43193, 43200,   486,\n",
       "           486],\n",
       "        [27100, 56918, 29523, 36000, 27100, 56918, 29523, 36000,    90,\n",
       "           252],\n",
       "        [27693, 55895, 28247, 36000, 27693, 55895, 28247, 36000,    30,\n",
       "            72],\n",
       "        [27756, 59689, 41949, 39600, 27756, 59689, 41949, 39600,    36,\n",
       "           144],\n",
       "        [ 4870, 84764, 52773, 39600,  4870, 84764, 52773, 39600,    54,\n",
       "           198],\n",
       "        [33007, 61926, 35672, 39600, 33007, 61926, 35672, 39600,    72,\n",
       "           234],\n",
       "        [ 1185, 76882, 57035, 43200,  1185, 76882, 57035, 43200,    36,\n",
       "           234],\n",
       "        [28882, 59022, 45455, 39600, 28882, 59022, 45455, 39600,   486,\n",
       "           486],\n",
       "        [16018, 83814, 33156, 39600, 16018, 83814, 33156, 39600,    36,\n",
       "           198],\n",
       "        [29154, 57723, 32112, 39600, 29154, 57723, 32112, 39600,    18,\n",
       "           198]])"
      ]
     },
     "execution_count": 87,
     "metadata": {},
     "output_type": "execute_result"
    }
   ],
   "source": [
    "device_full_matrix = df_device_full.drop(['user'],axis=1)\n",
    "device_params = np.matrix(device_full_matrix)\n",
    "device_params[:10]"
   ]
  },
  {
   "cell_type": "code",
   "execution_count": 88,
   "metadata": {
    "colab": {
     "base_uri": "https://localhost:8080/"
    },
    "executionInfo": {
     "elapsed": 138,
     "status": "ok",
     "timestamp": 1632034257591,
     "user": {
      "displayName": "Suraj Sharma",
      "photoUrl": "https://lh3.googleusercontent.com/a/default-user=s64",
      "userId": "04526276601361747492"
     },
     "user_tz": -345
    },
    "id": "AQ6-N2pIK4ku",
    "outputId": "3cc7dae3-f7dc-4e40-a148-2bbe5316e035"
   },
   "outputs": [
    {
     "data": {
      "text/plain": [
       "Index(['user', 'con_min_ts', 'con_max_ts', 'con_mode_ts', 'con_mean_ts',\n",
       "       'dcon_min_ts', 'dcon_max_ts', 'dcon_mode_ts', 'dcon_mean_ts',\n",
       "       'file_mode', 'file_max'],\n",
       "      dtype='object')"
      ]
     },
     "execution_count": 88,
     "metadata": {},
     "output_type": "execute_result"
    }
   ],
   "source": [
    "df_device_full.columns"
   ]
  },
  {
   "cell_type": "code",
   "execution_count": 89,
   "metadata": {
    "id": "4HjCKrgbsUbu"
   },
   "outputs": [],
   "source": [
    "# # device (-user)\n",
    "# forest = IsolationForest(bootstrap=False, contamination=0.1, max_features=1.0,\n",
    "#         max_samples='auto', n_estimators=100, n_jobs=1, random_state=None,\n",
    "#         verbose=0)\n",
    "\n",
    "# forest.fit(device_params)\n"
   ]
  },
  {
   "cell_type": "code",
   "execution_count": 90,
   "metadata": {
    "id": "S6r3RY3a2Ae5"
   },
   "outputs": [],
   "source": [
    "# import pickle \n",
    "# with open('device_params.pkl','wb') as file :\n",
    "#   pickle.dump(forest, file)"
   ]
  },
  {
   "cell_type": "code",
   "execution_count": 91,
   "metadata": {
    "id": "YtlBxG8BtL3r"
   },
   "outputs": [],
   "source": [
    "# \n",
    "\n",
    "model3 = pickle.load(open('../pkl/device_params.pkl', 'rb'))\n",
    "log_ascore = model3.decision_function(device_params)\n",
    "threat = model3.predict(device_params)\n"
   ]
  },
  {
   "cell_type": "code",
   "execution_count": 92,
   "metadata": {
    "id": "ByDJGFjbtmGc"
   },
   "outputs": [],
   "source": [
    "df_device_file_full_result = pd.DataFrame()\n",
    "\n",
    "df_device_file_full_result['user'] = df_device_full['user']\n",
    "df_device_file_full_result['ascore'] = log_ascore\n",
    "df_device_file_full_result['threat'] = threat\n",
    "\n",
    "df_device_file_full_result.to_csv('../output/device_file_full_result.csv', index=False)"
   ]
  },
  {
   "cell_type": "code",
   "execution_count": 93,
   "metadata": {
    "colab": {
     "base_uri": "https://localhost:8080/",
     "height": 206
    },
    "executionInfo": {
     "elapsed": 136,
     "status": "ok",
     "timestamp": 1632034257598,
     "user": {
      "displayName": "Suraj Sharma",
      "photoUrl": "https://lh3.googleusercontent.com/a/default-user=s64",
      "userId": "04526276601361747492"
     },
     "user_tz": -345
    },
    "id": "IznVB2FLtpdo",
    "outputId": "2ccbd061-2ff3-4411-cf02-1af6dfd0663e"
   },
   "outputs": [
    {
     "data": {
      "text/html": [
       "<div>\n",
       "<style scoped>\n",
       "    .dataframe tbody tr th:only-of-type {\n",
       "        vertical-align: middle;\n",
       "    }\n",
       "\n",
       "    .dataframe tbody tr th {\n",
       "        vertical-align: top;\n",
       "    }\n",
       "\n",
       "    .dataframe thead th {\n",
       "        text-align: right;\n",
       "    }\n",
       "</style>\n",
       "<table border=\"1\" class=\"dataframe\">\n",
       "  <thead>\n",
       "    <tr style=\"text-align: right;\">\n",
       "      <th></th>\n",
       "      <th>user</th>\n",
       "      <th>ascore</th>\n",
       "      <th>threat</th>\n",
       "    </tr>\n",
       "  </thead>\n",
       "  <tbody>\n",
       "    <tr>\n",
       "      <th>6</th>\n",
       "      <td>BMS0057</td>\n",
       "      <td>-0.055519</td>\n",
       "      <td>-1</td>\n",
       "    </tr>\n",
       "    <tr>\n",
       "      <th>8</th>\n",
       "      <td>CAE0080</td>\n",
       "      <td>-0.010819</td>\n",
       "      <td>-1</td>\n",
       "    </tr>\n",
       "    <tr>\n",
       "      <th>12</th>\n",
       "      <td>CSD0242</td>\n",
       "      <td>-0.068050</td>\n",
       "      <td>-1</td>\n",
       "    </tr>\n",
       "    <tr>\n",
       "      <th>29</th>\n",
       "      <td>LJW0776</td>\n",
       "      <td>-0.050707</td>\n",
       "      <td>-1</td>\n",
       "    </tr>\n",
       "    <tr>\n",
       "      <th>35</th>\n",
       "      <td>MSB0359</td>\n",
       "      <td>-0.031661</td>\n",
       "      <td>-1</td>\n",
       "    </tr>\n",
       "    <tr>\n",
       "      <th>37</th>\n",
       "      <td>QLC0248</td>\n",
       "      <td>-0.084706</td>\n",
       "      <td>-1</td>\n",
       "    </tr>\n",
       "    <tr>\n",
       "      <th>40</th>\n",
       "      <td>SBM0063</td>\n",
       "      <td>-0.111420</td>\n",
       "      <td>-1</td>\n",
       "    </tr>\n",
       "    <tr>\n",
       "      <th>46</th>\n",
       "      <td>ZBL0379</td>\n",
       "      <td>-0.000021</td>\n",
       "      <td>-1</td>\n",
       "    </tr>\n",
       "  </tbody>\n",
       "</table>\n",
       "</div>"
      ],
      "text/plain": [
       "       user    ascore  threat\n",
       "6   BMS0057 -0.055519      -1\n",
       "8   CAE0080 -0.010819      -1\n",
       "12  CSD0242 -0.068050      -1\n",
       "29  LJW0776 -0.050707      -1\n",
       "35  MSB0359 -0.031661      -1\n",
       "37  QLC0248 -0.084706      -1\n",
       "40  SBM0063 -0.111420      -1\n",
       "46  ZBL0379 -0.000021      -1"
      ]
     },
     "execution_count": 93,
     "metadata": {},
     "output_type": "execute_result"
    }
   ],
   "source": [
    "df_device_file_full_result.loc[df_device_file_full_result['ascore'] < 0] "
   ]
  },
  {
   "cell_type": "code",
   "execution_count": 94,
   "metadata": {
    "id": "vfjotkq8t4gt"
   },
   "outputs": [],
   "source": [
    "psychometric_matrix = df_psychometric_users_clean.drop(['user_id', 'employee_name'], axis = 1)\n",
    "psychometric_params = np.matrix(psychometric_matrix)"
   ]
  },
  {
   "cell_type": "code",
   "execution_count": 95,
   "metadata": {
    "id": "e64NduNPuEDN"
   },
   "outputs": [],
   "source": [
    "# # psycho ds \n",
    "# forest = IsolationForest(bootstrap=False, contamination=0.1, max_features=1.0,\n",
    "#         max_samples='auto', n_estimators=100, n_jobs=1, random_state=None,\n",
    "#         verbose=0)\n",
    "# forest.fit(psychometric_params)"
   ]
  },
  {
   "cell_type": "code",
   "execution_count": 96,
   "metadata": {
    "id": "5Li2kLwd2KUv"
   },
   "outputs": [],
   "source": [
    "# import pickle \n",
    "# with open('psychometric_params.pkl','wb') as file :\n",
    "#   pickle.dump(forest, file)"
   ]
  },
  {
   "cell_type": "code",
   "execution_count": 98,
   "metadata": {
    "id": "vV6Myef4uNwX"
   },
   "outputs": [],
   "source": [
    "# \n",
    "\n",
    "model4 = pickle.load(open('../pkl/psychometric_params.pkl', 'rb'))\n",
    "# df2=pd.DataFrame()\n",
    "log_ascore = model4.decision_function(psychometric_params)\n",
    "threat = model4.predict(psychometric_params)\n"
   ]
  },
  {
   "cell_type": "code",
   "execution_count": 99,
   "metadata": {
    "colab": {
     "base_uri": "https://localhost:8080/",
     "height": 424
    },
    "executionInfo": {
     "elapsed": 136,
     "status": "ok",
     "timestamp": 1632034257604,
     "user": {
      "displayName": "Suraj Sharma",
      "photoUrl": "https://lh3.googleusercontent.com/a/default-user=s64",
      "userId": "04526276601361747492"
     },
     "user_tz": -345
    },
    "id": "OrW7ZuzFuSdk",
    "outputId": "5a30a9a2-3591-403e-8207-b4fb892d5615"
   },
   "outputs": [
    {
     "data": {
      "text/html": [
       "<div>\n",
       "<style scoped>\n",
       "    .dataframe tbody tr th:only-of-type {\n",
       "        vertical-align: middle;\n",
       "    }\n",
       "\n",
       "    .dataframe tbody tr th {\n",
       "        vertical-align: top;\n",
       "    }\n",
       "\n",
       "    .dataframe thead th {\n",
       "        text-align: right;\n",
       "    }\n",
       "</style>\n",
       "<table border=\"1\" class=\"dataframe\">\n",
       "  <thead>\n",
       "    <tr style=\"text-align: right;\">\n",
       "      <th></th>\n",
       "      <th>user</th>\n",
       "      <th>ascore</th>\n",
       "      <th>threat</th>\n",
       "    </tr>\n",
       "  </thead>\n",
       "  <tbody>\n",
       "    <tr>\n",
       "      <th>0</th>\n",
       "      <td>HBB0090</td>\n",
       "      <td>0.034275</td>\n",
       "      <td>1</td>\n",
       "    </tr>\n",
       "    <tr>\n",
       "      <th>1</th>\n",
       "      <td>HBB0090</td>\n",
       "      <td>0.034275</td>\n",
       "      <td>1</td>\n",
       "    </tr>\n",
       "    <tr>\n",
       "      <th>2</th>\n",
       "      <td>HBB0090</td>\n",
       "      <td>0.034275</td>\n",
       "      <td>1</td>\n",
       "    </tr>\n",
       "    <tr>\n",
       "      <th>3</th>\n",
       "      <td>HBB0090</td>\n",
       "      <td>0.034275</td>\n",
       "      <td>1</td>\n",
       "    </tr>\n",
       "    <tr>\n",
       "      <th>4</th>\n",
       "      <td>HBB0090</td>\n",
       "      <td>0.034275</td>\n",
       "      <td>1</td>\n",
       "    </tr>\n",
       "    <tr>\n",
       "      <th>...</th>\n",
       "      <td>...</td>\n",
       "      <td>...</td>\n",
       "      <td>...</td>\n",
       "    </tr>\n",
       "    <tr>\n",
       "      <th>3986</th>\n",
       "      <td>GGK0375</td>\n",
       "      <td>0.006880</td>\n",
       "      <td>1</td>\n",
       "    </tr>\n",
       "    <tr>\n",
       "      <th>3987</th>\n",
       "      <td>GGK0375</td>\n",
       "      <td>0.006880</td>\n",
       "      <td>1</td>\n",
       "    </tr>\n",
       "    <tr>\n",
       "      <th>3988</th>\n",
       "      <td>GGK0375</td>\n",
       "      <td>0.006880</td>\n",
       "      <td>1</td>\n",
       "    </tr>\n",
       "    <tr>\n",
       "      <th>3989</th>\n",
       "      <td>GGK0375</td>\n",
       "      <td>0.006880</td>\n",
       "      <td>1</td>\n",
       "    </tr>\n",
       "    <tr>\n",
       "      <th>3990</th>\n",
       "      <td>GGK0375</td>\n",
       "      <td>0.006880</td>\n",
       "      <td>1</td>\n",
       "    </tr>\n",
       "  </tbody>\n",
       "</table>\n",
       "<p>3991 rows × 3 columns</p>\n",
       "</div>"
      ],
      "text/plain": [
       "         user    ascore  threat\n",
       "0     HBB0090  0.034275       1\n",
       "1     HBB0090  0.034275       1\n",
       "2     HBB0090  0.034275       1\n",
       "3     HBB0090  0.034275       1\n",
       "4     HBB0090  0.034275       1\n",
       "...       ...       ...     ...\n",
       "3986  GGK0375  0.006880       1\n",
       "3987  GGK0375  0.006880       1\n",
       "3988  GGK0375  0.006880       1\n",
       "3989  GGK0375  0.006880       1\n",
       "3990  GGK0375  0.006880       1\n",
       "\n",
       "[3991 rows x 3 columns]"
      ]
     },
     "execution_count": 99,
     "metadata": {},
     "output_type": "execute_result"
    }
   ],
   "source": [
    "df_psychometric_result = pd.DataFrame()\n",
    "\n",
    "df_psychometric_result['user'] = df_psychometric_users_clean['user_id']\n",
    "df_psychometric_result['ascore'] = log_ascore\n",
    "df_psychometric_result['threat']= threat\n",
    "df_psychometric_result.to_csv('../output/psychometric_result.csv', index=False)\n",
    "df_psychometric_result"
   ]
  },
  {
   "cell_type": "code",
   "execution_count": 100,
   "metadata": {
    "colab": {
     "base_uri": "https://localhost:8080/",
     "height": 424
    },
    "executionInfo": {
     "elapsed": 134,
     "status": "ok",
     "timestamp": 1632034257605,
     "user": {
      "displayName": "Suraj Sharma",
      "photoUrl": "https://lh3.googleusercontent.com/a/default-user=s64",
      "userId": "04526276601361747492"
     },
     "user_tz": -345
    },
    "id": "rs8lNxnFuV_i",
    "outputId": "e3d4e265-3918-40e7-8092-7ef9260bc1ce"
   },
   "outputs": [
    {
     "data": {
      "text/html": [
       "<div>\n",
       "<style scoped>\n",
       "    .dataframe tbody tr th:only-of-type {\n",
       "        vertical-align: middle;\n",
       "    }\n",
       "\n",
       "    .dataframe tbody tr th {\n",
       "        vertical-align: top;\n",
       "    }\n",
       "\n",
       "    .dataframe thead th {\n",
       "        text-align: right;\n",
       "    }\n",
       "</style>\n",
       "<table border=\"1\" class=\"dataframe\">\n",
       "  <thead>\n",
       "    <tr style=\"text-align: right;\">\n",
       "      <th></th>\n",
       "      <th>user</th>\n",
       "      <th>ascore</th>\n",
       "      <th>threat</th>\n",
       "    </tr>\n",
       "  </thead>\n",
       "  <tbody>\n",
       "    <tr>\n",
       "      <th>203</th>\n",
       "      <td>JAB0249</td>\n",
       "      <td>-0.020013</td>\n",
       "      <td>-1</td>\n",
       "    </tr>\n",
       "    <tr>\n",
       "      <th>204</th>\n",
       "      <td>JAB0249</td>\n",
       "      <td>-0.020013</td>\n",
       "      <td>-1</td>\n",
       "    </tr>\n",
       "    <tr>\n",
       "      <th>205</th>\n",
       "      <td>JAB0249</td>\n",
       "      <td>-0.020013</td>\n",
       "      <td>-1</td>\n",
       "    </tr>\n",
       "    <tr>\n",
       "      <th>206</th>\n",
       "      <td>JAB0249</td>\n",
       "      <td>-0.020013</td>\n",
       "      <td>-1</td>\n",
       "    </tr>\n",
       "    <tr>\n",
       "      <th>207</th>\n",
       "      <td>JAB0249</td>\n",
       "      <td>-0.020013</td>\n",
       "      <td>-1</td>\n",
       "    </tr>\n",
       "    <tr>\n",
       "      <th>...</th>\n",
       "      <td>...</td>\n",
       "      <td>...</td>\n",
       "      <td>...</td>\n",
       "    </tr>\n",
       "    <tr>\n",
       "      <th>3968</th>\n",
       "      <td>QKA0388</td>\n",
       "      <td>-0.014503</td>\n",
       "      <td>-1</td>\n",
       "    </tr>\n",
       "    <tr>\n",
       "      <th>3969</th>\n",
       "      <td>QKA0388</td>\n",
       "      <td>-0.014503</td>\n",
       "      <td>-1</td>\n",
       "    </tr>\n",
       "    <tr>\n",
       "      <th>3970</th>\n",
       "      <td>QKA0388</td>\n",
       "      <td>-0.014503</td>\n",
       "      <td>-1</td>\n",
       "    </tr>\n",
       "    <tr>\n",
       "      <th>3971</th>\n",
       "      <td>QKA0388</td>\n",
       "      <td>-0.014503</td>\n",
       "      <td>-1</td>\n",
       "    </tr>\n",
       "    <tr>\n",
       "      <th>3972</th>\n",
       "      <td>QKA0388</td>\n",
       "      <td>-0.014503</td>\n",
       "      <td>-1</td>\n",
       "    </tr>\n",
       "  </tbody>\n",
       "</table>\n",
       "<p>382 rows × 3 columns</p>\n",
       "</div>"
      ],
      "text/plain": [
       "         user    ascore  threat\n",
       "203   JAB0249 -0.020013      -1\n",
       "204   JAB0249 -0.020013      -1\n",
       "205   JAB0249 -0.020013      -1\n",
       "206   JAB0249 -0.020013      -1\n",
       "207   JAB0249 -0.020013      -1\n",
       "...       ...       ...     ...\n",
       "3968  QKA0388 -0.014503      -1\n",
       "3969  QKA0388 -0.014503      -1\n",
       "3970  QKA0388 -0.014503      -1\n",
       "3971  QKA0388 -0.014503      -1\n",
       "3972  QKA0388 -0.014503      -1\n",
       "\n",
       "[382 rows x 3 columns]"
      ]
     },
     "execution_count": 100,
     "metadata": {},
     "output_type": "execute_result"
    }
   ],
   "source": [
    "df_psychometric_result.loc[df_psychometric_result['ascore'] < 0]"
   ]
  },
  {
   "cell_type": "code",
   "execution_count": null,
   "metadata": {
    "id": "HqqEJFHuuesd"
   },
   "outputs": [],
   "source": []
  },
  {
   "cell_type": "code",
   "execution_count": 101,
   "metadata": {
    "id": "sB2xHREhvzMD"
   },
   "outputs": [],
   "source": [
    "df = pd.merge(df_log_on_off_stats, df_user_pc, on='user')"
   ]
  },
  {
   "cell_type": "code",
   "execution_count": null,
   "metadata": {
    "id": "7UtfQo7ExJLG"
   },
   "outputs": [],
   "source": []
  },
  {
   "cell_type": "code",
   "execution_count": 102,
   "metadata": {
    "id": "hqA4F16Av_nr"
   },
   "outputs": [],
   "source": [
    "df_1 = pd.merge(df, df_psychometric, left_on = 'user', right_on = 'user_id')"
   ]
  },
  {
   "cell_type": "code",
   "execution_count": 103,
   "metadata": {
    "colab": {
     "base_uri": "https://localhost:8080/",
     "height": 313
    },
    "executionInfo": {
     "elapsed": 134,
     "status": "ok",
     "timestamp": 1632034257612,
     "user": {
      "displayName": "Suraj Sharma",
      "photoUrl": "https://lh3.googleusercontent.com/a/default-user=s64",
      "userId": "04526276601361747492"
     },
     "user_tz": -345
    },
    "id": "MJftGvTbgluF",
    "outputId": "b9584110-00a2-4889-cd13-d62e13a20010"
   },
   "outputs": [
    {
     "data": {
      "text/html": [
       "<div>\n",
       "<style scoped>\n",
       "    .dataframe tbody tr th:only-of-type {\n",
       "        vertical-align: middle;\n",
       "    }\n",
       "\n",
       "    .dataframe tbody tr th {\n",
       "        vertical-align: top;\n",
       "    }\n",
       "\n",
       "    .dataframe thead th {\n",
       "        text-align: right;\n",
       "    }\n",
       "</style>\n",
       "<table border=\"1\" class=\"dataframe\">\n",
       "  <thead>\n",
       "    <tr style=\"text-align: right;\">\n",
       "      <th></th>\n",
       "      <th>user</th>\n",
       "      <th>on_min_ts</th>\n",
       "      <th>on_max_ts</th>\n",
       "      <th>on_mode_ts</th>\n",
       "      <th>on_mean_ts</th>\n",
       "      <th>off_min_ts</th>\n",
       "      <th>off_max_ts</th>\n",
       "      <th>off_mode_ts</th>\n",
       "      <th>off_mean_ts</th>\n",
       "      <th>count</th>\n",
       "      <th>employee_name</th>\n",
       "      <th>user_id</th>\n",
       "      <th>O</th>\n",
       "      <th>C</th>\n",
       "      <th>E</th>\n",
       "      <th>A</th>\n",
       "      <th>N</th>\n",
       "    </tr>\n",
       "  </thead>\n",
       "  <tbody>\n",
       "    <tr>\n",
       "      <th>0</th>\n",
       "      <td>AAN0077</td>\n",
       "      <td>27900</td>\n",
       "      <td>29580</td>\n",
       "      <td>29580</td>\n",
       "      <td>25200</td>\n",
       "      <td>27900</td>\n",
       "      <td>29580</td>\n",
       "      <td>29580</td>\n",
       "      <td>25200</td>\n",
       "      <td>1</td>\n",
       "      <td>Allistair Akeem Nichols</td>\n",
       "      <td>AAN0077</td>\n",
       "      <td>42</td>\n",
       "      <td>15</td>\n",
       "      <td>32</td>\n",
       "      <td>22</td>\n",
       "      <td>29</td>\n",
       "    </tr>\n",
       "    <tr>\n",
       "      <th>1</th>\n",
       "      <td>AAW0103</td>\n",
       "      <td>25200</td>\n",
       "      <td>26280</td>\n",
       "      <td>26100</td>\n",
       "      <td>25200</td>\n",
       "      <td>25200</td>\n",
       "      <td>26280</td>\n",
       "      <td>26100</td>\n",
       "      <td>25200</td>\n",
       "      <td>1</td>\n",
       "      <td>Alexa Allegra Walton</td>\n",
       "      <td>AAW0103</td>\n",
       "      <td>39</td>\n",
       "      <td>42</td>\n",
       "      <td>47</td>\n",
       "      <td>39</td>\n",
       "      <td>28</td>\n",
       "    </tr>\n",
       "    <tr>\n",
       "      <th>2</th>\n",
       "      <td>ACE0265</td>\n",
       "      <td>28800</td>\n",
       "      <td>30300</td>\n",
       "      <td>29700</td>\n",
       "      <td>28800</td>\n",
       "      <td>28800</td>\n",
       "      <td>30300</td>\n",
       "      <td>29700</td>\n",
       "      <td>28800</td>\n",
       "      <td>1</td>\n",
       "      <td>Amos Carson Emerson</td>\n",
       "      <td>ACE0265</td>\n",
       "      <td>26</td>\n",
       "      <td>23</td>\n",
       "      <td>14</td>\n",
       "      <td>19</td>\n",
       "      <td>40</td>\n",
       "    </tr>\n",
       "    <tr>\n",
       "      <th>3</th>\n",
       "      <td>ACL0394</td>\n",
       "      <td>32400</td>\n",
       "      <td>60757</td>\n",
       "      <td>33300</td>\n",
       "      <td>32400</td>\n",
       "      <td>32400</td>\n",
       "      <td>60757</td>\n",
       "      <td>33300</td>\n",
       "      <td>32400</td>\n",
       "      <td>2</td>\n",
       "      <td>Adam Clark Lindsey</td>\n",
       "      <td>ACL0394</td>\n",
       "      <td>25</td>\n",
       "      <td>44</td>\n",
       "      <td>18</td>\n",
       "      <td>19</td>\n",
       "      <td>17</td>\n",
       "    </tr>\n",
       "    <tr>\n",
       "      <th>4</th>\n",
       "      <td>ADR0362</td>\n",
       "      <td>27000</td>\n",
       "      <td>28080</td>\n",
       "      <td>28080</td>\n",
       "      <td>25200</td>\n",
       "      <td>27000</td>\n",
       "      <td>28080</td>\n",
       "      <td>28080</td>\n",
       "      <td>25200</td>\n",
       "      <td>1</td>\n",
       "      <td>Amir Damian Rosario</td>\n",
       "      <td>ADR0362</td>\n",
       "      <td>32</td>\n",
       "      <td>42</td>\n",
       "      <td>35</td>\n",
       "      <td>38</td>\n",
       "      <td>26</td>\n",
       "    </tr>\n",
       "  </tbody>\n",
       "</table>\n",
       "</div>"
      ],
      "text/plain": [
       "      user  on_min_ts  on_max_ts  on_mode_ts  on_mean_ts  off_min_ts  \\\n",
       "0  AAN0077      27900      29580       29580       25200       27900   \n",
       "1  AAW0103      25200      26280       26100       25200       25200   \n",
       "2  ACE0265      28800      30300       29700       28800       28800   \n",
       "3  ACL0394      32400      60757       33300       32400       32400   \n",
       "4  ADR0362      27000      28080       28080       25200       27000   \n",
       "\n",
       "   off_max_ts  off_mode_ts  off_mean_ts  count            employee_name  \\\n",
       "0       29580        29580        25200      1  Allistair Akeem Nichols   \n",
       "1       26280        26100        25200      1     Alexa Allegra Walton   \n",
       "2       30300        29700        28800      1      Amos Carson Emerson   \n",
       "3       60757        33300        32400      2       Adam Clark Lindsey   \n",
       "4       28080        28080        25200      1      Amir Damian Rosario   \n",
       "\n",
       "   user_id   O   C   E   A   N  \n",
       "0  AAN0077  42  15  32  22  29  \n",
       "1  AAW0103  39  42  47  39  28  \n",
       "2  ACE0265  26  23  14  19  40  \n",
       "3  ACL0394  25  44  18  19  17  \n",
       "4  ADR0362  32  42  35  38  26  "
      ]
     },
     "execution_count": 103,
     "metadata": {},
     "output_type": "execute_result"
    }
   ],
   "source": [
    "df_1.head()"
   ]
  },
  {
   "cell_type": "code",
   "execution_count": 104,
   "metadata": {
    "id": "RBVsYhZByXpG"
   },
   "outputs": [],
   "source": [
    "df_final = df_1.drop(['employee_name', 'user_id'], axis=1)\n"
   ]
  },
  {
   "cell_type": "code",
   "execution_count": 105,
   "metadata": {
    "id": "TsqN8B6syimi"
   },
   "outputs": [],
   "source": [
    "df_all_parameters = df_final"
   ]
  },
  {
   "cell_type": "code",
   "execution_count": 106,
   "metadata": {
    "id": "m8EvKveVyntR"
   },
   "outputs": [],
   "source": [
    "df_all_parameters_input = df_all_parameters.drop(['user'], axis = 1)"
   ]
  },
  {
   "cell_type": "code",
   "execution_count": 107,
   "metadata": {
    "colab": {
     "base_uri": "https://localhost:8080/"
    },
    "executionInfo": {
     "elapsed": 133,
     "status": "ok",
     "timestamp": 1632034257617,
     "user": {
      "displayName": "Suraj Sharma",
      "photoUrl": "https://lh3.googleusercontent.com/a/default-user=s64",
      "userId": "04526276601361747492"
     },
     "user_tz": -345
    },
    "id": "rl8DnpY4y_vS",
    "outputId": "0cdc1745-a461-4965-b702-86cfb1ad8448"
   },
   "outputs": [
    {
     "name": "stdout",
     "output_type": "stream",
     "text": [
      "     on_min_ts  on_max_ts  on_mode_ts  on_mean_ts  off_min_ts  off_max_ts  \\\n",
      "0        27900      29580       29580       25200       27900       29580   \n",
      "1        25200      26280       26100       25200       25200       26280   \n",
      "2        28800      30300       29700       28800       28800       30300   \n",
      "3        32400      60757       33300       32400       32400       60757   \n",
      "4        27000      28080       28080       25200       27000       28080   \n",
      "..         ...        ...         ...         ...         ...         ...   \n",
      "225      27900      29520       29460       25200       27900       29520   \n",
      "226      27000      68459       27900       25200       27000       68459   \n",
      "227      27000      28020       27900       25200       27000       28020   \n",
      "228      29700      52585       30600       36000       29700       52585   \n",
      "229      25200      26760       26100       25200       25200       26760   \n",
      "\n",
      "     off_mode_ts  off_mean_ts  count   O   C   E   A   N  \n",
      "0          29580        25200      1  42  15  32  22  29  \n",
      "1          26100        25200      1  39  42  47  39  28  \n",
      "2          29700        28800      1  26  23  14  19  40  \n",
      "3          33300        32400      2  25  44  18  19  17  \n",
      "4          28080        25200      1  32  42  35  38  26  \n",
      "..           ...          ...    ...  ..  ..  ..  ..  ..  \n",
      "225        29460        25200      1  49  18  22  29  34  \n",
      "226        27900        25200      2  49  35  23  44  35  \n",
      "227        27900        25200      1  39  46  16  19  40  \n",
      "228        30600        36000      1  30  15  44  42  28  \n",
      "229        26100        25200      1  39  20  17  46  26  \n",
      "\n",
      "[230 rows x 14 columns]\n"
     ]
    }
   ],
   "source": [
    "print(df_all_parameters_input)"
   ]
  },
  {
   "cell_type": "code",
   "execution_count": 108,
   "metadata": {
    "id": "tcx7VO2JziIK"
   },
   "outputs": [],
   "source": [
    "# # psycho logon ds\n",
    "# forest = IsolationForest(bootstrap=False, contamination=0.1, max_features=1.0,\n",
    "#         max_samples='auto', n_estimators=100, n_jobs=1, random_state=None,\n",
    "#         verbose=0)\n",
    "# forest.fit(df_all_parameters_input)"
   ]
  },
  {
   "cell_type": "code",
   "execution_count": 109,
   "metadata": {
    "id": "QUVlE_eu2QfD"
   },
   "outputs": [],
   "source": [
    "# import pickle \n",
    "# with open('all_parameters_input.pkl','wb') as file :\n",
    "#   pickle.dump(forest, file)"
   ]
  },
  {
   "cell_type": "code",
   "execution_count": 111,
   "metadata": {
    "id": "P4_ca2dvztK6"
   },
   "outputs": [],
   "source": [
    "# \n",
    "\n",
    "model5 = pickle.load(open('../pkl/all_parameters_input.pkl', 'rb'))\n",
    "# df2=pd.DataFrame()\n",
    "log_ascore = model5.decision_function(df_all_parameters_input)\n",
    "threat = model5.predict(df_all_parameters_input)\n"
   ]
  },
  {
   "cell_type": "code",
   "execution_count": 112,
   "metadata": {
    "colab": {
     "base_uri": "https://localhost:8080/"
    },
    "executionInfo": {
     "elapsed": 3091,
     "status": "ok",
     "timestamp": 1632034260601,
     "user": {
      "displayName": "Suraj Sharma",
      "photoUrl": "https://lh3.googleusercontent.com/a/default-user=s64",
      "userId": "04526276601361747492"
     },
     "user_tz": -345
    },
    "id": "0J2Yg4qNzxeR",
    "outputId": "43b7ea83-340b-4600-d648-5bf3d3e231b0"
   },
   "outputs": [
    {
     "name": "stdout",
     "output_type": "stream",
     "text": [
      "        user    ascore  threat\n",
      "0    AAN0077  0.083207       1\n",
      "1    AAW0103  0.027089       1\n",
      "2    ACE0265  0.082833       1\n",
      "3    ACL0394 -0.012597      -1\n",
      "4    ADR0362  0.102599       1\n",
      "..       ...       ...     ...\n",
      "225  XTM0246  0.078112       1\n",
      "226  YJT0368  0.026272       1\n",
      "227  YSB0779  0.085627       1\n",
      "228  ZBL0379  0.026624       1\n",
      "229  ZIF0269  0.049846       1\n",
      "\n",
      "[230 rows x 3 columns]\n"
     ]
    }
   ],
   "source": [
    "df_all_parameters_result = pd.DataFrame()\n",
    "\n",
    "df_all_parameters_result['user'] = df_final['user']\n",
    "df_all_parameters_result['ascore'] =log_ascore\n",
    "df_all_parameters_result['threat'] = threat\n",
    "print(df_all_parameters_result)\n",
    "df_all_parameters_result.to_csv('../output/all_parameters_result.csv', index=False)"
   ]
  },
  {
   "cell_type": "code",
   "execution_count": null,
   "metadata": {
    "id": "ovb2P5dLz5IJ"
   },
   "outputs": [],
   "source": []
  },
  {
   "cell_type": "code",
   "execution_count": null,
   "metadata": {
    "id": "fRy5d3t9z-FS"
   },
   "outputs": [],
   "source": []
  }
 ],
 "metadata": {
  "colab": {
   "collapsed_sections": [],
   "name": "Insider threat_testing.ipynb",
   "provenance": [
    {
     "file_id": "11Gq-1OCENZ1bvB12hDskSYbbeHngaeE_",
     "timestamp": 1631975510611
    }
   ]
  },
  "kernelspec": {
   "display_name": "Python 3 (ipykernel)",
   "language": "python",
   "name": "python3"
  },
  "language_info": {
   "codemirror_mode": {
    "name": "ipython",
    "version": 3
   },
   "file_extension": ".py",
   "mimetype": "text/x-python",
   "name": "python",
   "nbconvert_exporter": "python",
   "pygments_lexer": "ipython3",
   "version": "3.9.6"
  }
 },
 "nbformat": 4,
 "nbformat_minor": 1
}
