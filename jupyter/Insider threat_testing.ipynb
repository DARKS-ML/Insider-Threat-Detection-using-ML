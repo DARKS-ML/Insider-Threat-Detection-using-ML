{
 "cells": [
  {
   "cell_type": "code",
   "execution_count": 1,
   "metadata": {
    "colab": {
     "base_uri": "https://localhost:8080/"
    },
    "executionInfo": {
     "elapsed": 1005,
     "status": "ok",
     "timestamp": 1632034181488,
     "user": {
      "displayName": "Suraj Sharma",
      "photoUrl": "https://lh3.googleusercontent.com/a/default-user=s64",
      "userId": "04526276601361747492"
     },
     "user_tz": -345
    },
    "id": "wij_6UxvaCgD",
    "outputId": "5ccbb726-7ae7-4767-a9b9-36693f86dba4"
   },
   "outputs": [],
   "source": [
    "# from google.colab import drive\n",
    "# drive.mount('/content/gdrive')\n"
   ]
  },
  {
   "cell_type": "code",
   "execution_count": 2,
   "metadata": {
    "id": "n9Cev7cmaFhr"
   },
   "outputs": [],
   "source": [
    "import pandas as pd\n",
    "import numpy as np"
   ]
  },
  {
   "cell_type": "code",
   "execution_count": 3,
   "metadata": {
    "id": "PcX_UU9igM7J"
   },
   "outputs": [],
   "source": [
    "# path = \"/content/gdrive/MyDrive/dataset/\"\n",
    "path = '../dataset new/'\n",
    "path1 = '../testing/'\n"
   ]
  },
  {
   "cell_type": "code",
   "execution_count": 4,
   "metadata": {
    "id": "xOTXUo0-arwM"
   },
   "outputs": [],
   "source": [
    "df_users_full = pd.read_csv(path + \"users.csv\")\n",
    "df_users1 = df_users_full[[\"user_id\",\"functional_unit\",\"department\"]]\n",
    "df_users = df_users1[df_users1.functional_unit == \"2 - ResearchAndEngineering\"]\n",
    "df_users = df_users[(df_users.department != \"1 - Research\")]\n",
    "df_users = pd.DataFrame(df_users)"
   ]
  },
  {
   "cell_type": "code",
   "execution_count": null,
   "metadata": {
    "id": "yj40AovFedSI"
   },
   "outputs": [],
   "source": []
  },
  {
   "cell_type": "code",
   "execution_count": 5,
   "metadata": {
    "colab": {
     "base_uri": "https://localhost:8080/"
    },
    "executionInfo": {
     "elapsed": 33,
     "status": "ok",
     "timestamp": 1632034182609,
     "user": {
      "displayName": "Suraj Sharma",
      "photoUrl": "https://lh3.googleusercontent.com/a/default-user=s64",
      "userId": "04526276601361747492"
     },
     "user_tz": -345
    },
    "id": "eGo4DX9Gczki",
    "outputId": "9ded50c5-8c08-4e31-991f-17b010ecc645"
   },
   "outputs": [
    {
     "name": "stdout",
     "output_type": "stream",
     "text": [
      "<class 'pandas.core.frame.DataFrame'>\n",
      "Int64Index: 3991 entries, 8 to 17333\n",
      "Data columns (total 3 columns):\n",
      " #   Column           Non-Null Count  Dtype \n",
      "---  ------           --------------  ----- \n",
      " 0   user_id          3991 non-null   object\n",
      " 1   functional_unit  3991 non-null   object\n",
      " 2   department       3991 non-null   object\n",
      "dtypes: object(3)\n",
      "memory usage: 124.7+ KB\n"
     ]
    }
   ],
   "source": [
    "df_users = df_users.dropna(axis = 0)\n",
    "df_users.info()"
   ]
  },
  {
   "cell_type": "code",
   "execution_count": 6,
   "metadata": {
    "id": "TU8PLfADepqY"
   },
   "outputs": [],
   "source": [
    "df_device = pd.read_csv(path1 + \"device_test.csv\")"
   ]
  },
  {
   "cell_type": "code",
   "execution_count": 7,
   "metadata": {
    "id": "lJekvpRShBh6"
   },
   "outputs": [],
   "source": [
    "df_file = pd.read_csv(path1 + \"file_test.csv\")"
   ]
  },
  {
   "cell_type": "code",
   "execution_count": 8,
   "metadata": {
    "id": "in4qMPtahbat"
   },
   "outputs": [],
   "source": [
    "df_logon = pd.read_csv(path1 + \"logon_test.csv\")"
   ]
  },
  {
   "cell_type": "code",
   "execution_count": 9,
   "metadata": {
    "id": "eobo2cJxhi7x"
   },
   "outputs": [],
   "source": [
    "df_psychometric = pd.read_csv(path1 + \"psychometric_test.csv\")\n",
    "df_psychometric = df_psychometric[['employee_name','user_id','O','C','E', 'A', 'N']]"
   ]
  },
  {
   "cell_type": "code",
   "execution_count": 10,
   "metadata": {
    "id": "Tgn9ocmgiLNY"
   },
   "outputs": [],
   "source": [
    "df_users_clean = df_users.rename(columns= {'user_id':'user'}, inplace=False)"
   ]
  },
  {
   "cell_type": "code",
   "execution_count": 11,
   "metadata": {
    "id": "FmP8jIxvjlLP"
   },
   "outputs": [],
   "source": [
    "df_logon_users = pd.merge(df_logon, df_users_clean, on = 'user')\n",
    "df_logon_users_clean = df_logon_users.drop(columns=['functional_unit', 'department'])\n"
   ]
  },
  {
   "cell_type": "code",
   "execution_count": 12,
   "metadata": {
    "id": "UrMWJ9HxkND6"
   },
   "outputs": [],
   "source": [
    "df_device_users = pd.merge(df_device, df_users_clean, on='user')\n",
    "df_device_users_clean = df_device_users.drop(columns=['functional_unit','department'])"
   ]
  },
  {
   "cell_type": "code",
   "execution_count": 13,
   "metadata": {
    "id": "ANzvOpCzld8Q"
   },
   "outputs": [],
   "source": [
    "df_device_users = pd.merge(df_device, df_users_clean, on = 'user')\n",
    "df_device_users_clean = df_device_users.drop(columns = ['functional_unit', 'department'])\n"
   ]
  },
  {
   "cell_type": "code",
   "execution_count": 14,
   "metadata": {
    "id": "Dxe2BR0Xl63k"
   },
   "outputs": [],
   "source": [
    "df_file_users = pd.merge(df_file, df_users_clean, on = 'user')\n",
    "df_file_users_clean = df_file_users.drop(columns = ['functional_unit', 'department'])\n"
   ]
  },
  {
   "cell_type": "code",
   "execution_count": 15,
   "metadata": {
    "id": "MDykw7I_mSgi"
   },
   "outputs": [],
   "source": [
    "df_psychometric_users = pd.merge(df_psychometric, df_users, on = 'user_id')\n",
    "df_psychometric_users_clean = df_psychometric_users[['employee_name', 'user_id','O', 'C', 'E','A','N']]\n"
   ]
  },
  {
   "cell_type": "code",
   "execution_count": null,
   "metadata": {
    "id": "0hOB8qtTmjmm"
   },
   "outputs": [],
   "source": []
  },
  {
   "cell_type": "code",
   "execution_count": 16,
   "metadata": {
    "id": "bGx9ZX5wnlxv"
   },
   "outputs": [],
   "source": [
    "df_logon_users_clean['date'] = pd.to_datetime(df_logon_users_clean['date'])"
   ]
  },
  {
   "cell_type": "code",
   "execution_count": 17,
   "metadata": {
    "id": "nXDsqIadn6yv"
   },
   "outputs": [],
   "source": [
    "df_logon_users_clean['time'] = df_logon_users_clean['date'].dt.time"
   ]
  },
  {
   "cell_type": "code",
   "execution_count": 18,
   "metadata": {
    "id": "B84oChzUo4Zf"
   },
   "outputs": [],
   "source": [
    "df_user_logon = df_logon_users_clean.loc[df_logon_users_clean['activity'] == 'Logon']"
   ]
  },
  {
   "cell_type": "code",
   "execution_count": 19,
   "metadata": {
    "colab": {
     "base_uri": "https://localhost:8080/"
    },
    "executionInfo": {
     "elapsed": 94,
     "status": "ok",
     "timestamp": 1632034208806,
     "user": {
      "displayName": "Suraj Sharma",
      "photoUrl": "https://lh3.googleusercontent.com/a/default-user=s64",
      "userId": "04526276601361747492"
     },
     "user_tz": -345
    },
    "id": "sxUhfabzpc_l",
    "outputId": "fe54eb07-e900-4850-d958-e4bce08ca08e"
   },
   "outputs": [
    {
     "name": "stderr",
     "output_type": "stream",
     "text": [
      "/tmp/ipykernel_5001/1930962928.py:1: SettingWithCopyWarning: \n",
      "A value is trying to be set on a copy of a slice from a DataFrame.\n",
      "Try using .loc[row_indexer,col_indexer] = value instead\n",
      "\n",
      "See the caveats in the documentation: https://pandas.pydata.org/pandas-docs/stable/user_guide/indexing.html#returning-a-view-versus-a-copy\n",
      "  df_user_logon['hour'] = pd.to_datetime(df_user_logon['date'], format='%H:%M').dt.hour\n"
     ]
    }
   ],
   "source": [
    "df_user_logon['hour'] = pd.to_datetime(df_user_logon['date'], format='%H:%M').dt.hour"
   ]
  },
  {
   "cell_type": "code",
   "execution_count": 20,
   "metadata": {
    "id": "zI1fT9aEp7sJ"
   },
   "outputs": [],
   "source": [
    "df_user_logon_stats = df_user_logon.groupby('user')['time'].agg([min,max]).reset_index()"
   ]
  },
  {
   "cell_type": "code",
   "execution_count": 21,
   "metadata": {
    "id": "0jGuY1JbtKfB"
   },
   "outputs": [],
   "source": [
    "df_logon_mode = df_user_logon.groupby('user')['time'].agg(lambda x: x.value_counts().index[0]).reset_index()"
   ]
  },
  {
   "cell_type": "code",
   "execution_count": null,
   "metadata": {
    "id": "QmSRpebjM9De"
   },
   "outputs": [],
   "source": []
  },
  {
   "cell_type": "code",
   "execution_count": 22,
   "metadata": {
    "id": "3iCK4Py10H_a"
   },
   "outputs": [],
   "source": [
    "df_logon_mean = df_user_logon.groupby('user')['hour'].mean().reset_index()\n",
    "df_logon_mean['hour'].dtype\n",
    "df_logon_mean['hour'] = pd.to_datetime(df_logon_mean['hour'], format='%H').dt.time\n"
   ]
  },
  {
   "cell_type": "code",
   "execution_count": 23,
   "metadata": {
    "id": "ixgjK-gfzTEl"
   },
   "outputs": [],
   "source": [
    "df_user_logon_stats['mode'] = df_logon_mode['time']\n",
    "df_user_logon_stats['mean'] = df_logon_mean['hour']"
   ]
  },
  {
   "cell_type": "code",
   "execution_count": null,
   "metadata": {
    "id": "DyRDg0k7xtdG"
   },
   "outputs": [],
   "source": []
  },
  {
   "cell_type": "code",
   "execution_count": 24,
   "metadata": {
    "id": "CXRtENnN090y"
   },
   "outputs": [],
   "source": [
    "df_user_logoff = df_logon_users_clean.loc[df_logon_users_clean['activity'] == 'Logoff']"
   ]
  },
  {
   "cell_type": "code",
   "execution_count": 25,
   "metadata": {
    "colab": {
     "base_uri": "https://localhost:8080/"
    },
    "executionInfo": {
     "elapsed": 711,
     "status": "ok",
     "timestamp": 1632034212105,
     "user": {
      "displayName": "Suraj Sharma",
      "photoUrl": "https://lh3.googleusercontent.com/a/default-user=s64",
      "userId": "04526276601361747492"
     },
     "user_tz": -345
    },
    "id": "kl2eWWO13BzE",
    "outputId": "6987c4b9-0729-49a1-a187-5f9d7ed94fc7"
   },
   "outputs": [
    {
     "name": "stderr",
     "output_type": "stream",
     "text": [
      "/tmp/ipykernel_5001/636462469.py:1: SettingWithCopyWarning: \n",
      "A value is trying to be set on a copy of a slice from a DataFrame.\n",
      "Try using .loc[row_indexer,col_indexer] = value instead\n",
      "\n",
      "See the caveats in the documentation: https://pandas.pydata.org/pandas-docs/stable/user_guide/indexing.html#returning-a-view-versus-a-copy\n",
      "  df_user_logoff['date'] = pd.to_datetime(df_user_logoff['date'])\n",
      "/tmp/ipykernel_5001/636462469.py:2: SettingWithCopyWarning: \n",
      "A value is trying to be set on a copy of a slice from a DataFrame.\n",
      "Try using .loc[row_indexer,col_indexer] = value instead\n",
      "\n",
      "See the caveats in the documentation: https://pandas.pydata.org/pandas-docs/stable/user_guide/indexing.html#returning-a-view-versus-a-copy\n",
      "  df_user_logoff['time'] = df_user_logoff['date'].dt.time\n"
     ]
    }
   ],
   "source": [
    "df_user_logoff['date'] = pd.to_datetime(df_user_logoff['date'])\n",
    "df_user_logoff['time'] = df_user_logoff['date'].dt.time"
   ]
  },
  {
   "cell_type": "code",
   "execution_count": 26,
   "metadata": {
    "colab": {
     "base_uri": "https://localhost:8080/"
    },
    "executionInfo": {
     "elapsed": 10,
     "status": "ok",
     "timestamp": 1632034212107,
     "user": {
      "displayName": "Suraj Sharma",
      "photoUrl": "https://lh3.googleusercontent.com/a/default-user=s64",
      "userId": "04526276601361747492"
     },
     "user_tz": -345
    },
    "id": "0jt5r6_O1QZW",
    "outputId": "3adc7065-9fcc-4b31-b34b-047c4a606405"
   },
   "outputs": [
    {
     "name": "stderr",
     "output_type": "stream",
     "text": [
      "/tmp/ipykernel_5001/1504136962.py:1: SettingWithCopyWarning: \n",
      "A value is trying to be set on a copy of a slice from a DataFrame.\n",
      "Try using .loc[row_indexer,col_indexer] = value instead\n",
      "\n",
      "See the caveats in the documentation: https://pandas.pydata.org/pandas-docs/stable/user_guide/indexing.html#returning-a-view-versus-a-copy\n",
      "  df_user_logoff['hour'] = pd.to_datetime(df_user_logoff['date'], format='%H:%M').dt.hour\n"
     ]
    }
   ],
   "source": [
    "\n",
    "df_user_logoff['hour'] = pd.to_datetime(df_user_logoff['date'], format='%H:%M').dt.hour"
   ]
  },
  {
   "cell_type": "code",
   "execution_count": 27,
   "metadata": {
    "id": "Drb_zZGC1oNv"
   },
   "outputs": [],
   "source": [
    "df_user_logoff_stats = df_user_logoff.groupby('user')['time'].agg([min,max]).reset_index()"
   ]
  },
  {
   "cell_type": "code",
   "execution_count": 29,
   "metadata": {
    "colab": {
     "base_uri": "https://localhost:8080/",
     "height": 424
    },
    "executionInfo": {
     "elapsed": 104,
     "status": "ok",
     "timestamp": 1632034212871,
     "user": {
      "displayName": "Suraj Sharma",
      "photoUrl": "https://lh3.googleusercontent.com/a/default-user=s64",
      "userId": "04526276601361747492"
     },
     "user_tz": -345
    },
    "id": "8LyVk1oa1aqJ",
    "outputId": "191a1167-fd30-40d1-f7d2-7692c8886b0e"
   },
   "outputs": [],
   "source": [
    "# df_user_logoff.groupby('user')['time'].agg(pd.Series.mode).reset_index()"
   ]
  },
  {
   "cell_type": "code",
   "execution_count": 30,
   "metadata": {
    "id": "jZiXia-94xGH"
   },
   "outputs": [],
   "source": [
    "df_logoff_mode = df_user_logoff.groupby('user')['time'].agg(lambda x: x.value_counts().index[0]).reset_index()"
   ]
  },
  {
   "cell_type": "code",
   "execution_count": 31,
   "metadata": {
    "id": "mmY8MLkU4hEy"
   },
   "outputs": [],
   "source": [
    "df_logoff_mean = df_user_logoff.groupby('user')['hour'].mean().reset_index()\n",
    "df_logoff_mean['hour'] = df_logoff_mean['hour'].astype(int)\n",
    "df_logoff_mean['hour'] = pd.to_datetime(df_logoff_mean['hour'], format='%H').dt.time\n"
   ]
  },
  {
   "cell_type": "code",
   "execution_count": 32,
   "metadata": {
    "id": "O5sgWyir5stO"
   },
   "outputs": [],
   "source": [
    "df_user_logoff_stats['mode'] = df_logoff_mode['time']\n",
    "df_user_logoff_stats['mean'] = df_logoff_mean['hour']"
   ]
  },
  {
   "cell_type": "code",
   "execution_count": null,
   "metadata": {
    "id": "YruLWKfU6QS6"
   },
   "outputs": [],
   "source": []
  },
  {
   "cell_type": "code",
   "execution_count": 33,
   "metadata": {
    "id": "EmyBAKEu6ccc"
   },
   "outputs": [],
   "source": [
    "df_device_users_clean['time'] = pd.to_datetime(df_device_users_clean['date']).dt.time"
   ]
  },
  {
   "cell_type": "code",
   "execution_count": 34,
   "metadata": {
    "id": "w7HH2UEDEusT"
   },
   "outputs": [],
   "source": [
    "df_device_conn = df_device_users_clean.loc[df_device_users_clean['activity'] == 'Connect']\n",
    "df_device_disconn = df_device_users_clean.loc[df_device_users_clean['activity'] == 'Disconnect']\n"
   ]
  },
  {
   "cell_type": "code",
   "execution_count": 35,
   "metadata": {
    "id": "pDo0AygbFk-T"
   },
   "outputs": [],
   "source": [
    "df_device_conn_stats = df_device_conn.groupby('user')['time'].agg([min, max]).reset_index()"
   ]
  },
  {
   "cell_type": "code",
   "execution_count": 36,
   "metadata": {
    "id": "9IXkVIHgF2iT"
   },
   "outputs": [],
   "source": [
    "df_device_conn_stats_1 = df_device_conn.groupby('user')"
   ]
  },
  {
   "cell_type": "code",
   "execution_count": 37,
   "metadata": {
    "id": "fQGY5MkTGIyG"
   },
   "outputs": [],
   "source": [
    "df_conn_mode = df_device_conn.groupby('user')['time'].agg(lambda x: x.value_counts().index[0]).reset_index()"
   ]
  },
  {
   "cell_type": "code",
   "execution_count": 38,
   "metadata": {
    "colab": {
     "base_uri": "https://localhost:8080/"
    },
    "executionInfo": {
     "elapsed": 6430,
     "status": "ok",
     "timestamp": 1632034233898,
     "user": {
      "displayName": "Suraj Sharma",
      "photoUrl": "https://lh3.googleusercontent.com/a/default-user=s64",
      "userId": "04526276601361747492"
     },
     "user_tz": -345
    },
    "id": "zxgMmpZ5GhV7",
    "outputId": "999dbfd9-392b-4c05-b895-468b5aacf45f"
   },
   "outputs": [
    {
     "name": "stderr",
     "output_type": "stream",
     "text": [
      "/tmp/ipykernel_5001/2737355688.py:1: SettingWithCopyWarning: \n",
      "A value is trying to be set on a copy of a slice from a DataFrame.\n",
      "Try using .loc[row_indexer,col_indexer] = value instead\n",
      "\n",
      "See the caveats in the documentation: https://pandas.pydata.org/pandas-docs/stable/user_guide/indexing.html#returning-a-view-versus-a-copy\n",
      "  df_device_conn['hour'] = pd.to_datetime(df_device_conn['date']).dt.hour\n"
     ]
    }
   ],
   "source": [
    "df_device_conn['hour'] = pd.to_datetime(df_device_conn['date']).dt.hour"
   ]
  },
  {
   "cell_type": "code",
   "execution_count": 39,
   "metadata": {
    "id": "73pQhz86GwYe"
   },
   "outputs": [],
   "source": [
    "df_conn_mean = df_device_conn.groupby('user')['hour'].mean().reset_index()\n",
    "df_conn_mean['hour'] = df_conn_mean['hour'].astype(int)\n",
    "df_conn_mean['hour'] = pd.to_datetime(df_conn_mean['hour'],format=\"%H\").dt.time"
   ]
  },
  {
   "cell_type": "code",
   "execution_count": 40,
   "metadata": {
    "id": "bT2HqZgFHZgg"
   },
   "outputs": [],
   "source": [
    "df_device_conn_stats['mode'] = df_conn_mode['time']\n",
    "df_device_conn_stats['mean'] = df_conn_mean['hour']"
   ]
  },
  {
   "cell_type": "code",
   "execution_count": null,
   "metadata": {
    "id": "rtNHzgLjHrml"
   },
   "outputs": [],
   "source": []
  },
  {
   "cell_type": "code",
   "execution_count": 41,
   "metadata": {
    "id": "SfIGvVXcHvgH"
   },
   "outputs": [],
   "source": [
    "df_device_disconn_stats = df_device_disconn.groupby('user')['time'].agg([min,max]).reset_index()"
   ]
  },
  {
   "cell_type": "code",
   "execution_count": 42,
   "metadata": {
    "id": "uV4V2DK4IC2Q"
   },
   "outputs": [],
   "source": [
    "df_dconn_mode = df_device_disconn.groupby('user')['time'].agg(lambda x: x.value_counts().index[0]).reset_index()\n",
    "\n"
   ]
  },
  {
   "cell_type": "code",
   "execution_count": 43,
   "metadata": {
    "colab": {
     "base_uri": "https://localhost:8080/"
    },
    "executionInfo": {
     "elapsed": 5695,
     "status": "ok",
     "timestamp": 1632034239569,
     "user": {
      "displayName": "Suraj Sharma",
      "photoUrl": "https://lh3.googleusercontent.com/a/default-user=s64",
      "userId": "04526276601361747492"
     },
     "user_tz": -345
    },
    "id": "x7XYhgqQIMdl",
    "outputId": "ae7fecbc-7626-4ed0-b126-fd4cb8226507"
   },
   "outputs": [
    {
     "name": "stderr",
     "output_type": "stream",
     "text": [
      "/tmp/ipykernel_5001/1753353138.py:1: SettingWithCopyWarning: \n",
      "A value is trying to be set on a copy of a slice from a DataFrame.\n",
      "Try using .loc[row_indexer,col_indexer] = value instead\n",
      "\n",
      "See the caveats in the documentation: https://pandas.pydata.org/pandas-docs/stable/user_guide/indexing.html#returning-a-view-versus-a-copy\n",
      "  df_device_disconn['hour'] = pd.to_datetime(df_device_disconn['date']).dt.hour\n"
     ]
    }
   ],
   "source": [
    "df_device_disconn['hour'] = pd.to_datetime(df_device_disconn['date']).dt.hour\n"
   ]
  },
  {
   "cell_type": "code",
   "execution_count": 44,
   "metadata": {
    "id": "kqT1HiLmIS70"
   },
   "outputs": [],
   "source": [
    "df_dconn_mean = df_device_disconn.groupby('user')['hour'].mean().reset_index()\n",
    "df_dconn_mean['hour'] = df_dconn_mean['hour'].astype(int)\n",
    "df_dconn_mean['hour'] = pd.to_datetime(df_dconn_mean['hour'], format='%H').dt.time\n"
   ]
  },
  {
   "cell_type": "code",
   "execution_count": 45,
   "metadata": {
    "colab": {
     "base_uri": "https://localhost:8080/",
     "height": 1000
    },
    "executionInfo": {
     "elapsed": 25,
     "status": "ok",
     "timestamp": 1632034239572,
     "user": {
      "displayName": "Suraj Sharma",
      "photoUrl": "https://lh3.googleusercontent.com/a/default-user=s64",
      "userId": "04526276601361747492"
     },
     "user_tz": -345
    },
    "id": "546-RXFUi1zf",
    "outputId": "e5786a66-2868-437e-b835-986edd8416dd"
   },
   "outputs": [
    {
     "data": {
      "text/html": [
       "<div>\n",
       "<style scoped>\n",
       "    .dataframe tbody tr th:only-of-type {\n",
       "        vertical-align: middle;\n",
       "    }\n",
       "\n",
       "    .dataframe tbody tr th {\n",
       "        vertical-align: top;\n",
       "    }\n",
       "\n",
       "    .dataframe thead th {\n",
       "        text-align: right;\n",
       "    }\n",
       "</style>\n",
       "<table border=\"1\" class=\"dataframe\">\n",
       "  <thead>\n",
       "    <tr style=\"text-align: right;\">\n",
       "      <th></th>\n",
       "      <th>user</th>\n",
       "      <th>hour</th>\n",
       "    </tr>\n",
       "  </thead>\n",
       "  <tbody>\n",
       "    <tr>\n",
       "      <th>0</th>\n",
       "      <td>AJQ0376</td>\n",
       "      <td>15:00:00</td>\n",
       "    </tr>\n",
       "    <tr>\n",
       "      <th>1</th>\n",
       "      <td>AJR0231</td>\n",
       "      <td>12:00:00</td>\n",
       "    </tr>\n",
       "    <tr>\n",
       "      <th>2</th>\n",
       "      <td>AOD0066</td>\n",
       "      <td>11:00:00</td>\n",
       "    </tr>\n",
       "    <tr>\n",
       "      <th>3</th>\n",
       "      <td>ARH0777</td>\n",
       "      <td>12:00:00</td>\n",
       "    </tr>\n",
       "    <tr>\n",
       "      <th>4</th>\n",
       "      <td>BCP0247</td>\n",
       "      <td>13:00:00</td>\n",
       "    </tr>\n",
       "    <tr>\n",
       "      <th>5</th>\n",
       "      <td>BDS0396</td>\n",
       "      <td>12:00:00</td>\n",
       "    </tr>\n",
       "    <tr>\n",
       "      <th>6</th>\n",
       "      <td>BMS0057</td>\n",
       "      <td>15:00:00</td>\n",
       "    </tr>\n",
       "    <tr>\n",
       "      <th>7</th>\n",
       "      <td>BZK0095</td>\n",
       "      <td>11:00:00</td>\n",
       "    </tr>\n",
       "    <tr>\n",
       "      <th>8</th>\n",
       "      <td>CAE0080</td>\n",
       "      <td>12:00:00</td>\n",
       "    </tr>\n",
       "    <tr>\n",
       "      <th>9</th>\n",
       "      <td>CGH0088</td>\n",
       "      <td>12:00:00</td>\n",
       "    </tr>\n",
       "    <tr>\n",
       "      <th>10</th>\n",
       "      <td>CJG0059</td>\n",
       "      <td>11:00:00</td>\n",
       "    </tr>\n",
       "    <tr>\n",
       "      <th>11</th>\n",
       "      <td>CJV0236</td>\n",
       "      <td>12:00:00</td>\n",
       "    </tr>\n",
       "    <tr>\n",
       "      <th>12</th>\n",
       "      <td>CSD0242</td>\n",
       "      <td>12:00:00</td>\n",
       "    </tr>\n",
       "    <tr>\n",
       "      <th>13</th>\n",
       "      <td>DWC0525</td>\n",
       "      <td>12:00:00</td>\n",
       "    </tr>\n",
       "    <tr>\n",
       "      <th>14</th>\n",
       "      <td>FED0275</td>\n",
       "      <td>12:00:00</td>\n",
       "    </tr>\n",
       "    <tr>\n",
       "      <th>15</th>\n",
       "      <td>FKF0235</td>\n",
       "      <td>12:00:00</td>\n",
       "    </tr>\n",
       "    <tr>\n",
       "      <th>16</th>\n",
       "      <td>GGM0530</td>\n",
       "      <td>12:00:00</td>\n",
       "    </tr>\n",
       "    <tr>\n",
       "      <th>17</th>\n",
       "      <td>GJP0098</td>\n",
       "      <td>11:00:00</td>\n",
       "    </tr>\n",
       "    <tr>\n",
       "      <th>18</th>\n",
       "      <td>HBB0090</td>\n",
       "      <td>11:00:00</td>\n",
       "    </tr>\n",
       "    <tr>\n",
       "      <th>19</th>\n",
       "      <td>HNW0537</td>\n",
       "      <td>12:00:00</td>\n",
       "    </tr>\n",
       "    <tr>\n",
       "      <th>20</th>\n",
       "      <td>HOJ0260</td>\n",
       "      <td>12:00:00</td>\n",
       "    </tr>\n",
       "    <tr>\n",
       "      <th>21</th>\n",
       "      <td>IAF0403</td>\n",
       "      <td>13:00:00</td>\n",
       "    </tr>\n",
       "    <tr>\n",
       "      <th>22</th>\n",
       "      <td>IUM0065</td>\n",
       "      <td>11:00:00</td>\n",
       "    </tr>\n",
       "    <tr>\n",
       "      <th>23</th>\n",
       "      <td>JCE0258</td>\n",
       "      <td>12:00:00</td>\n",
       "    </tr>\n",
       "    <tr>\n",
       "      <th>24</th>\n",
       "      <td>JDD0087</td>\n",
       "      <td>13:00:00</td>\n",
       "    </tr>\n",
       "    <tr>\n",
       "      <th>25</th>\n",
       "      <td>JLI0073</td>\n",
       "      <td>12:00:00</td>\n",
       "    </tr>\n",
       "    <tr>\n",
       "      <th>26</th>\n",
       "      <td>JNW0252</td>\n",
       "      <td>13:00:00</td>\n",
       "    </tr>\n",
       "    <tr>\n",
       "      <th>27</th>\n",
       "      <td>JTB0079</td>\n",
       "      <td>12:00:00</td>\n",
       "    </tr>\n",
       "    <tr>\n",
       "      <th>28</th>\n",
       "      <td>LEF0786</td>\n",
       "      <td>12:00:00</td>\n",
       "    </tr>\n",
       "    <tr>\n",
       "      <th>29</th>\n",
       "      <td>LJW0776</td>\n",
       "      <td>11:00:00</td>\n",
       "    </tr>\n",
       "    <tr>\n",
       "      <th>30</th>\n",
       "      <td>LTB0107</td>\n",
       "      <td>12:00:00</td>\n",
       "    </tr>\n",
       "    <tr>\n",
       "      <th>31</th>\n",
       "      <td>LVL0958</td>\n",
       "      <td>13:00:00</td>\n",
       "    </tr>\n",
       "    <tr>\n",
       "      <th>32</th>\n",
       "      <td>LWB0078</td>\n",
       "      <td>12:00:00</td>\n",
       "    </tr>\n",
       "    <tr>\n",
       "      <th>33</th>\n",
       "      <td>MJH0083</td>\n",
       "      <td>13:00:00</td>\n",
       "    </tr>\n",
       "    <tr>\n",
       "      <th>34</th>\n",
       "      <td>MPM0410</td>\n",
       "      <td>13:00:00</td>\n",
       "    </tr>\n",
       "    <tr>\n",
       "      <th>35</th>\n",
       "      <td>MSB0359</td>\n",
       "      <td>12:00:00</td>\n",
       "    </tr>\n",
       "    <tr>\n",
       "      <th>36</th>\n",
       "      <td>ORC0907</td>\n",
       "      <td>13:00:00</td>\n",
       "    </tr>\n",
       "    <tr>\n",
       "      <th>37</th>\n",
       "      <td>QLC0248</td>\n",
       "      <td>12:00:00</td>\n",
       "    </tr>\n",
       "    <tr>\n",
       "      <th>38</th>\n",
       "      <td>RAW0533</td>\n",
       "      <td>13:00:00</td>\n",
       "    </tr>\n",
       "    <tr>\n",
       "      <th>39</th>\n",
       "      <td>REM0274</td>\n",
       "      <td>11:00:00</td>\n",
       "    </tr>\n",
       "    <tr>\n",
       "      <th>40</th>\n",
       "      <td>SBM0063</td>\n",
       "      <td>11:00:00</td>\n",
       "    </tr>\n",
       "    <tr>\n",
       "      <th>41</th>\n",
       "      <td>SHR0369</td>\n",
       "      <td>13:00:00</td>\n",
       "    </tr>\n",
       "    <tr>\n",
       "      <th>42</th>\n",
       "      <td>TOC0528</td>\n",
       "      <td>13:00:00</td>\n",
       "    </tr>\n",
       "    <tr>\n",
       "      <th>43</th>\n",
       "      <td>UMA0072</td>\n",
       "      <td>12:00:00</td>\n",
       "    </tr>\n",
       "    <tr>\n",
       "      <th>44</th>\n",
       "      <td>WMP0272</td>\n",
       "      <td>13:00:00</td>\n",
       "    </tr>\n",
       "    <tr>\n",
       "      <th>45</th>\n",
       "      <td>WXW0044</td>\n",
       "      <td>11:00:00</td>\n",
       "    </tr>\n",
       "    <tr>\n",
       "      <th>46</th>\n",
       "      <td>ZBL0379</td>\n",
       "      <td>14:00:00</td>\n",
       "    </tr>\n",
       "  </tbody>\n",
       "</table>\n",
       "</div>"
      ],
      "text/plain": [
       "       user      hour\n",
       "0   AJQ0376  15:00:00\n",
       "1   AJR0231  12:00:00\n",
       "2   AOD0066  11:00:00\n",
       "3   ARH0777  12:00:00\n",
       "4   BCP0247  13:00:00\n",
       "5   BDS0396  12:00:00\n",
       "6   BMS0057  15:00:00\n",
       "7   BZK0095  11:00:00\n",
       "8   CAE0080  12:00:00\n",
       "9   CGH0088  12:00:00\n",
       "10  CJG0059  11:00:00\n",
       "11  CJV0236  12:00:00\n",
       "12  CSD0242  12:00:00\n",
       "13  DWC0525  12:00:00\n",
       "14  FED0275  12:00:00\n",
       "15  FKF0235  12:00:00\n",
       "16  GGM0530  12:00:00\n",
       "17  GJP0098  11:00:00\n",
       "18  HBB0090  11:00:00\n",
       "19  HNW0537  12:00:00\n",
       "20  HOJ0260  12:00:00\n",
       "21  IAF0403  13:00:00\n",
       "22  IUM0065  11:00:00\n",
       "23  JCE0258  12:00:00\n",
       "24  JDD0087  13:00:00\n",
       "25  JLI0073  12:00:00\n",
       "26  JNW0252  13:00:00\n",
       "27  JTB0079  12:00:00\n",
       "28  LEF0786  12:00:00\n",
       "29  LJW0776  11:00:00\n",
       "30  LTB0107  12:00:00\n",
       "31  LVL0958  13:00:00\n",
       "32  LWB0078  12:00:00\n",
       "33  MJH0083  13:00:00\n",
       "34  MPM0410  13:00:00\n",
       "35  MSB0359  12:00:00\n",
       "36  ORC0907  13:00:00\n",
       "37  QLC0248  12:00:00\n",
       "38  RAW0533  13:00:00\n",
       "39  REM0274  11:00:00\n",
       "40  SBM0063  11:00:00\n",
       "41  SHR0369  13:00:00\n",
       "42  TOC0528  13:00:00\n",
       "43  UMA0072  12:00:00\n",
       "44  WMP0272  13:00:00\n",
       "45  WXW0044  11:00:00\n",
       "46  ZBL0379  14:00:00"
      ]
     },
     "execution_count": 45,
     "metadata": {},
     "output_type": "execute_result"
    }
   ],
   "source": [
    "df_dconn_mean"
   ]
  },
  {
   "cell_type": "code",
   "execution_count": 46,
   "metadata": {
    "id": "i6JMKE4zId9F"
   },
   "outputs": [],
   "source": [
    "df_device_disconn_stats['mode'] = df_dconn_mode['time']\n",
    "df_device_disconn_stats['mean'] = df_dconn_mean['hour']"
   ]
  },
  {
   "cell_type": "code",
   "execution_count": 47,
   "metadata": {
    "id": "4TRrm0ymIlC5"
   },
   "outputs": [],
   "source": [
    "df_file_users_clean['date2'] = pd.to_datetime(df_file_users_clean['date']).dt.date"
   ]
  },
  {
   "cell_type": "code",
   "execution_count": null,
   "metadata": {
    "id": "NWIUut9zJVWL"
   },
   "outputs": [],
   "source": []
  },
  {
   "cell_type": "code",
   "execution_count": 48,
   "metadata": {
    "id": "Pc0B1Eq4JZj5"
   },
   "outputs": [],
   "source": [
    "df_files_per_day = df_file_users_clean.groupby(['user', 'date2']).size().reset_index()"
   ]
  },
  {
   "cell_type": "code",
   "execution_count": null,
   "metadata": {
    "id": "1U4cMT0PJzUh"
   },
   "outputs": [],
   "source": []
  },
  {
   "cell_type": "code",
   "execution_count": 49,
   "metadata": {
    "id": "YYsENT9rJ2ao"
   },
   "outputs": [],
   "source": [
    "df_files_per_day.rename(columns={0:'transfers_per_day'}, inplace=True)\n"
   ]
  },
  {
   "cell_type": "code",
   "execution_count": 50,
   "metadata": {
    "id": "MeKOnj-_Ks_l"
   },
   "outputs": [],
   "source": [
    "df_files_max_per_day = df_files_per_day.groupby('user')['transfers_per_day'].agg(max).reset_index()\n",
    "df_files_max_per_day.rename(columns={'transfers_per_day': \"max_transfers_per_user\"}, inplace=True)"
   ]
  },
  {
   "cell_type": "code",
   "execution_count": 51,
   "metadata": {
    "id": "W7cV_ieELNji"
   },
   "outputs": [],
   "source": [
    "df_files_mode_per_day = df_files_per_day.groupby('user')['transfers_per_day'].agg(lambda x: x.value_counts().index[0]).reset_index()\n",
    "df_files_mode_per_day.rename(columns={'transfers_per_day': \"mode_transfers_per_user\"}, inplace=True)\n"
   ]
  },
  {
   "cell_type": "code",
   "execution_count": 52,
   "metadata": {
    "colab": {
     "base_uri": "https://localhost:8080/",
     "height": 1000
    },
    "executionInfo": {
     "elapsed": 32,
     "status": "ok",
     "timestamp": 1632034254829,
     "user": {
      "displayName": "Suraj Sharma",
      "photoUrl": "https://lh3.googleusercontent.com/a/default-user=s64",
      "userId": "04526276601361747492"
     },
     "user_tz": -345
    },
    "id": "9PnW-5m1-Eiq",
    "outputId": "90538f0d-1040-44b3-c6e6-6e5143e69917"
   },
   "outputs": [
    {
     "data": {
      "text/html": [
       "<div>\n",
       "<style scoped>\n",
       "    .dataframe tbody tr th:only-of-type {\n",
       "        vertical-align: middle;\n",
       "    }\n",
       "\n",
       "    .dataframe tbody tr th {\n",
       "        vertical-align: top;\n",
       "    }\n",
       "\n",
       "    .dataframe thead th {\n",
       "        text-align: right;\n",
       "    }\n",
       "</style>\n",
       "<table border=\"1\" class=\"dataframe\">\n",
       "  <thead>\n",
       "    <tr style=\"text-align: right;\">\n",
       "      <th></th>\n",
       "      <th>user</th>\n",
       "      <th>mode_transfers_per_user</th>\n",
       "    </tr>\n",
       "  </thead>\n",
       "  <tbody>\n",
       "    <tr>\n",
       "      <th>0</th>\n",
       "      <td>AJQ0376</td>\n",
       "      <td>72</td>\n",
       "    </tr>\n",
       "    <tr>\n",
       "      <th>1</th>\n",
       "      <td>AJR0231</td>\n",
       "      <td>18</td>\n",
       "    </tr>\n",
       "    <tr>\n",
       "      <th>2</th>\n",
       "      <td>AOD0066</td>\n",
       "      <td>6</td>\n",
       "    </tr>\n",
       "    <tr>\n",
       "      <th>3</th>\n",
       "      <td>ARH0777</td>\n",
       "      <td>18</td>\n",
       "    </tr>\n",
       "    <tr>\n",
       "      <th>4</th>\n",
       "      <td>BCP0247</td>\n",
       "      <td>18</td>\n",
       "    </tr>\n",
       "    <tr>\n",
       "      <th>5</th>\n",
       "      <td>BDS0396</td>\n",
       "      <td>18</td>\n",
       "    </tr>\n",
       "    <tr>\n",
       "      <th>6</th>\n",
       "      <td>BMS0057</td>\n",
       "      <td>18</td>\n",
       "    </tr>\n",
       "    <tr>\n",
       "      <th>7</th>\n",
       "      <td>BZK0095</td>\n",
       "      <td>90</td>\n",
       "    </tr>\n",
       "    <tr>\n",
       "      <th>8</th>\n",
       "      <td>CAE0080</td>\n",
       "      <td>18</td>\n",
       "    </tr>\n",
       "    <tr>\n",
       "      <th>9</th>\n",
       "      <td>CGH0088</td>\n",
       "      <td>18</td>\n",
       "    </tr>\n",
       "    <tr>\n",
       "      <th>10</th>\n",
       "      <td>CJG0059</td>\n",
       "      <td>18</td>\n",
       "    </tr>\n",
       "    <tr>\n",
       "      <th>11</th>\n",
       "      <td>CJV0236</td>\n",
       "      <td>72</td>\n",
       "    </tr>\n",
       "    <tr>\n",
       "      <th>12</th>\n",
       "      <td>CSD0242</td>\n",
       "      <td>72</td>\n",
       "    </tr>\n",
       "    <tr>\n",
       "      <th>13</th>\n",
       "      <td>DWC0525</td>\n",
       "      <td>18</td>\n",
       "    </tr>\n",
       "    <tr>\n",
       "      <th>14</th>\n",
       "      <td>FED0275</td>\n",
       "      <td>18</td>\n",
       "    </tr>\n",
       "    <tr>\n",
       "      <th>15</th>\n",
       "      <td>FKF0235</td>\n",
       "      <td>4</td>\n",
       "    </tr>\n",
       "    <tr>\n",
       "      <th>16</th>\n",
       "      <td>GGM0530</td>\n",
       "      <td>90</td>\n",
       "    </tr>\n",
       "    <tr>\n",
       "      <th>17</th>\n",
       "      <td>GJP0098</td>\n",
       "      <td>18</td>\n",
       "    </tr>\n",
       "    <tr>\n",
       "      <th>18</th>\n",
       "      <td>HBB0090</td>\n",
       "      <td>72</td>\n",
       "    </tr>\n",
       "    <tr>\n",
       "      <th>19</th>\n",
       "      <td>HNW0537</td>\n",
       "      <td>18</td>\n",
       "    </tr>\n",
       "    <tr>\n",
       "      <th>20</th>\n",
       "      <td>HOJ0260</td>\n",
       "      <td>90</td>\n",
       "    </tr>\n",
       "    <tr>\n",
       "      <th>21</th>\n",
       "      <td>IAF0403</td>\n",
       "      <td>18</td>\n",
       "    </tr>\n",
       "    <tr>\n",
       "      <th>22</th>\n",
       "      <td>IUM0065</td>\n",
       "      <td>18</td>\n",
       "    </tr>\n",
       "    <tr>\n",
       "      <th>23</th>\n",
       "      <td>JCE0258</td>\n",
       "      <td>9</td>\n",
       "    </tr>\n",
       "    <tr>\n",
       "      <th>24</th>\n",
       "      <td>JDD0087</td>\n",
       "      <td>18</td>\n",
       "    </tr>\n",
       "    <tr>\n",
       "      <th>25</th>\n",
       "      <td>JLI0073</td>\n",
       "      <td>18</td>\n",
       "    </tr>\n",
       "    <tr>\n",
       "      <th>26</th>\n",
       "      <td>JNW0252</td>\n",
       "      <td>18</td>\n",
       "    </tr>\n",
       "    <tr>\n",
       "      <th>27</th>\n",
       "      <td>JTB0079</td>\n",
       "      <td>18</td>\n",
       "    </tr>\n",
       "    <tr>\n",
       "      <th>28</th>\n",
       "      <td>LEF0786</td>\n",
       "      <td>18</td>\n",
       "    </tr>\n",
       "    <tr>\n",
       "      <th>29</th>\n",
       "      <td>LJW0776</td>\n",
       "      <td>18</td>\n",
       "    </tr>\n",
       "    <tr>\n",
       "      <th>30</th>\n",
       "      <td>LTB0107</td>\n",
       "      <td>54</td>\n",
       "    </tr>\n",
       "    <tr>\n",
       "      <th>31</th>\n",
       "      <td>LVL0958</td>\n",
       "      <td>108</td>\n",
       "    </tr>\n",
       "    <tr>\n",
       "      <th>32</th>\n",
       "      <td>LWB0078</td>\n",
       "      <td>18</td>\n",
       "    </tr>\n",
       "    <tr>\n",
       "      <th>33</th>\n",
       "      <td>MJH0083</td>\n",
       "      <td>18</td>\n",
       "    </tr>\n",
       "    <tr>\n",
       "      <th>34</th>\n",
       "      <td>MPM0410</td>\n",
       "      <td>18</td>\n",
       "    </tr>\n",
       "    <tr>\n",
       "      <th>35</th>\n",
       "      <td>MSB0359</td>\n",
       "      <td>18</td>\n",
       "    </tr>\n",
       "    <tr>\n",
       "      <th>36</th>\n",
       "      <td>ORC0907</td>\n",
       "      <td>18</td>\n",
       "    </tr>\n",
       "    <tr>\n",
       "      <th>37</th>\n",
       "      <td>QLC0248</td>\n",
       "      <td>54</td>\n",
       "    </tr>\n",
       "    <tr>\n",
       "      <th>38</th>\n",
       "      <td>RAW0533</td>\n",
       "      <td>18</td>\n",
       "    </tr>\n",
       "    <tr>\n",
       "      <th>39</th>\n",
       "      <td>REM0274</td>\n",
       "      <td>90</td>\n",
       "    </tr>\n",
       "    <tr>\n",
       "      <th>40</th>\n",
       "      <td>SBM0063</td>\n",
       "      <td>18</td>\n",
       "    </tr>\n",
       "    <tr>\n",
       "      <th>41</th>\n",
       "      <td>SHR0369</td>\n",
       "      <td>18</td>\n",
       "    </tr>\n",
       "    <tr>\n",
       "      <th>42</th>\n",
       "      <td>TOC0528</td>\n",
       "      <td>18</td>\n",
       "    </tr>\n",
       "    <tr>\n",
       "      <th>43</th>\n",
       "      <td>UMA0072</td>\n",
       "      <td>18</td>\n",
       "    </tr>\n",
       "    <tr>\n",
       "      <th>44</th>\n",
       "      <td>WMP0272</td>\n",
       "      <td>18</td>\n",
       "    </tr>\n",
       "    <tr>\n",
       "      <th>45</th>\n",
       "      <td>WXW0044</td>\n",
       "      <td>90</td>\n",
       "    </tr>\n",
       "    <tr>\n",
       "      <th>46</th>\n",
       "      <td>ZBL0379</td>\n",
       "      <td>18</td>\n",
       "    </tr>\n",
       "  </tbody>\n",
       "</table>\n",
       "</div>"
      ],
      "text/plain": [
       "       user  mode_transfers_per_user\n",
       "0   AJQ0376                       72\n",
       "1   AJR0231                       18\n",
       "2   AOD0066                        6\n",
       "3   ARH0777                       18\n",
       "4   BCP0247                       18\n",
       "5   BDS0396                       18\n",
       "6   BMS0057                       18\n",
       "7   BZK0095                       90\n",
       "8   CAE0080                       18\n",
       "9   CGH0088                       18\n",
       "10  CJG0059                       18\n",
       "11  CJV0236                       72\n",
       "12  CSD0242                       72\n",
       "13  DWC0525                       18\n",
       "14  FED0275                       18\n",
       "15  FKF0235                        4\n",
       "16  GGM0530                       90\n",
       "17  GJP0098                       18\n",
       "18  HBB0090                       72\n",
       "19  HNW0537                       18\n",
       "20  HOJ0260                       90\n",
       "21  IAF0403                       18\n",
       "22  IUM0065                       18\n",
       "23  JCE0258                        9\n",
       "24  JDD0087                       18\n",
       "25  JLI0073                       18\n",
       "26  JNW0252                       18\n",
       "27  JTB0079                       18\n",
       "28  LEF0786                       18\n",
       "29  LJW0776                       18\n",
       "30  LTB0107                       54\n",
       "31  LVL0958                      108\n",
       "32  LWB0078                       18\n",
       "33  MJH0083                       18\n",
       "34  MPM0410                       18\n",
       "35  MSB0359                       18\n",
       "36  ORC0907                       18\n",
       "37  QLC0248                       54\n",
       "38  RAW0533                       18\n",
       "39  REM0274                       90\n",
       "40  SBM0063                       18\n",
       "41  SHR0369                       18\n",
       "42  TOC0528                       18\n",
       "43  UMA0072                       18\n",
       "44  WMP0272                       18\n",
       "45  WXW0044                       90\n",
       "46  ZBL0379                       18"
      ]
     },
     "execution_count": 52,
     "metadata": {},
     "output_type": "execute_result"
    }
   ],
   "source": [
    "df_files_mode_per_day"
   ]
  },
  {
   "cell_type": "code",
   "execution_count": 53,
   "metadata": {
    "id": "jzmjcEa4L2Ff"
   },
   "outputs": [],
   "source": [
    "df_files_stats = df_files_mode_per_day"
   ]
  },
  {
   "cell_type": "code",
   "execution_count": null,
   "metadata": {
    "id": "p7zCA43gMG6C"
   },
   "outputs": [],
   "source": []
  },
  {
   "cell_type": "code",
   "execution_count": 54,
   "metadata": {
    "id": "3oVaUVh2MUbE"
   },
   "outputs": [],
   "source": [
    "df_files_stats_new = pd.DataFrame()\n",
    "df_files_stats_new['user'] = df_files_stats['user']\n",
    "df_files_stats_new['mode_trasfers_per_user'] = df_files_stats['mode_transfers_per_user']\n",
    "df_files_stats_new['max_transfers_per_user'] = df_files_max_per_day['max_transfers_per_user']\n"
   ]
  },
  {
   "cell_type": "code",
   "execution_count": 55,
   "metadata": {
    "id": "7Adb8paENU34"
   },
   "outputs": [],
   "source": [
    "df_user_pc = df_logon_users_clean.groupby(['user','pc',]).agg(pc_visits_per_user_total = pd.NamedAgg(column = 'pc', aggfunc = 'count')).reset_index()\n",
    "df_user_pc['count'] = df_user_pc.groupby(['user'])['pc'].transform('nunique')\n",
    "df_user_pc = df_user_pc.drop(['pc', 'pc_visits_per_user_total'], axis=1)\n",
    "df_user_pc = df_user_pc.drop_duplicates()"
   ]
  },
  {
   "cell_type": "code",
   "execution_count": 56,
   "metadata": {
    "colab": {
     "base_uri": "https://localhost:8080/",
     "height": 424
    },
    "executionInfo": {
     "elapsed": 23,
     "status": "ok",
     "timestamp": 1632034256606,
     "user": {
      "displayName": "Suraj Sharma",
      "photoUrl": "https://lh3.googleusercontent.com/a/default-user=s64",
      "userId": "04526276601361747492"
     },
     "user_tz": -345
    },
    "id": "7x0LyTPcaC1t",
    "outputId": "19ea4199-6b09-4af3-f22f-20b42f91cadd"
   },
   "outputs": [
    {
     "data": {
      "text/html": [
       "<div>\n",
       "<style scoped>\n",
       "    .dataframe tbody tr th:only-of-type {\n",
       "        vertical-align: middle;\n",
       "    }\n",
       "\n",
       "    .dataframe tbody tr th {\n",
       "        vertical-align: top;\n",
       "    }\n",
       "\n",
       "    .dataframe thead th {\n",
       "        text-align: right;\n",
       "    }\n",
       "</style>\n",
       "<table border=\"1\" class=\"dataframe\">\n",
       "  <thead>\n",
       "    <tr style=\"text-align: right;\">\n",
       "      <th></th>\n",
       "      <th>user</th>\n",
       "      <th>count</th>\n",
       "    </tr>\n",
       "  </thead>\n",
       "  <tbody>\n",
       "    <tr>\n",
       "      <th>0</th>\n",
       "      <td>AAN0077</td>\n",
       "      <td>1</td>\n",
       "    </tr>\n",
       "    <tr>\n",
       "      <th>1</th>\n",
       "      <td>AAW0103</td>\n",
       "      <td>1</td>\n",
       "    </tr>\n",
       "    <tr>\n",
       "      <th>2</th>\n",
       "      <td>ACE0265</td>\n",
       "      <td>1</td>\n",
       "    </tr>\n",
       "    <tr>\n",
       "      <th>3</th>\n",
       "      <td>ACL0394</td>\n",
       "      <td>2</td>\n",
       "    </tr>\n",
       "    <tr>\n",
       "      <th>5</th>\n",
       "      <td>ADR0362</td>\n",
       "      <td>1</td>\n",
       "    </tr>\n",
       "    <tr>\n",
       "      <th>...</th>\n",
       "      <td>...</td>\n",
       "      <td>...</td>\n",
       "    </tr>\n",
       "    <tr>\n",
       "      <th>425</th>\n",
       "      <td>XTM0246</td>\n",
       "      <td>1</td>\n",
       "    </tr>\n",
       "    <tr>\n",
       "      <th>426</th>\n",
       "      <td>YJT0368</td>\n",
       "      <td>2</td>\n",
       "    </tr>\n",
       "    <tr>\n",
       "      <th>428</th>\n",
       "      <td>YSB0779</td>\n",
       "      <td>1</td>\n",
       "    </tr>\n",
       "    <tr>\n",
       "      <th>429</th>\n",
       "      <td>ZBL0379</td>\n",
       "      <td>1</td>\n",
       "    </tr>\n",
       "    <tr>\n",
       "      <th>430</th>\n",
       "      <td>ZIF0269</td>\n",
       "      <td>1</td>\n",
       "    </tr>\n",
       "  </tbody>\n",
       "</table>\n",
       "<p>230 rows × 2 columns</p>\n",
       "</div>"
      ],
      "text/plain": [
       "        user  count\n",
       "0    AAN0077      1\n",
       "1    AAW0103      1\n",
       "2    ACE0265      1\n",
       "3    ACL0394      2\n",
       "5    ADR0362      1\n",
       "..       ...    ...\n",
       "425  XTM0246      1\n",
       "426  YJT0368      2\n",
       "428  YSB0779      1\n",
       "429  ZBL0379      1\n",
       "430  ZIF0269      1\n",
       "\n",
       "[230 rows x 2 columns]"
      ]
     },
     "execution_count": 56,
     "metadata": {},
     "output_type": "execute_result"
    }
   ],
   "source": [
    "df_user_pc"
   ]
  },
  {
   "cell_type": "code",
   "execution_count": 57,
   "metadata": {
    "id": "6c_Kvzy7OHGA"
   },
   "outputs": [],
   "source": [
    "# import matplotlib.pyplot as plt\n",
    "from sklearn.ensemble import IsolationForest"
   ]
  },
  {
   "cell_type": "code",
   "execution_count": 58,
   "metadata": {
    "id": "YBGQCn6qgD39"
   },
   "outputs": [],
   "source": [
    "df_user_pc_count = np.array(df_user_pc['count'])"
   ]
  },
  {
   "cell_type": "code",
   "execution_count": 59,
   "metadata": {
    "id": "mfnylg3ZgOE5"
   },
   "outputs": [],
   "source": [
    "df_user_pc_ct = df_user_pc_count.reshape(-1,1)"
   ]
  },
  {
   "cell_type": "code",
   "execution_count": 60,
   "metadata": {
    "id": "TzZe9KlALUgq"
   },
   "outputs": [],
   "source": [
    "import pickle\n",
    "model = pickle.load(open('../pkl/user_pc_ct.pkl', 'rb'))\n",
    "graph_a_score = model.decision_function(df_user_pc_ct)\n",
    "threat = model.predict(df_user_pc_ct)\n"
   ]
  },
  {
   "cell_type": "code",
   "execution_count": 61,
   "metadata": {
    "id": "E5WQPGDuhgAr"
   },
   "outputs": [],
   "source": [
    "#user pc\n",
    "#forest = IsolationForest(bootstrap=False, contamination=0.1,max_features=1.0,\n",
    "#                          max_samples='auto',n_estimators=100, n_jobs=1, random_state=None,\n",
    "#                          verbose=0)\n",
    "# # forest.fit(df_user_pc_ct)\n"
   ]
  },
  {
   "cell_type": "code",
   "execution_count": 62,
   "metadata": {
    "id": "dqGC-D062i7J"
   },
   "outputs": [],
   "source": [
    "# import pickle \n",
    "# with open('user_pc_ct.pkl','wb') as file :\n",
    "#   pickle.dump(forest, file)"
   ]
  },
  {
   "cell_type": "code",
   "execution_count": 63,
   "metadata": {
    "id": "KAVGtzULiOVz"
   },
   "outputs": [],
   "source": [
    "# graph_a_score = forest.decision_function(df_user_pc_ct)\n",
    "# print(graph_a_score[1:10])"
   ]
  },
  {
   "cell_type": "code",
   "execution_count": 64,
   "metadata": {
    "colab": {
     "base_uri": "https://localhost:8080/",
     "height": 424
    },
    "executionInfo": {
     "elapsed": 185,
     "status": "ok",
     "timestamp": 1632034257554,
     "user": {
      "displayName": "Suraj Sharma",
      "photoUrl": "https://lh3.googleusercontent.com/a/default-user=s64",
      "userId": "04526276601361747492"
     },
     "user_tz": -345
    },
    "id": "Pewg2cRzihdw",
    "outputId": "f5d986c9-342a-42d5-f57a-07d5f219fcf6"
   },
   "outputs": [
    {
     "data": {
      "text/html": [
       "<div>\n",
       "<style scoped>\n",
       "    .dataframe tbody tr th:only-of-type {\n",
       "        vertical-align: middle;\n",
       "    }\n",
       "\n",
       "    .dataframe tbody tr th {\n",
       "        vertical-align: top;\n",
       "    }\n",
       "\n",
       "    .dataframe thead th {\n",
       "        text-align: right;\n",
       "    }\n",
       "</style>\n",
       "<table border=\"1\" class=\"dataframe\">\n",
       "  <thead>\n",
       "    <tr style=\"text-align: right;\">\n",
       "      <th></th>\n",
       "      <th>user</th>\n",
       "      <th>ascore</th>\n",
       "      <th>threat</th>\n",
       "    </tr>\n",
       "  </thead>\n",
       "  <tbody>\n",
       "    <tr>\n",
       "      <th>0</th>\n",
       "      <td>AAN0077</td>\n",
       "      <td>0.090123</td>\n",
       "      <td>1</td>\n",
       "    </tr>\n",
       "    <tr>\n",
       "      <th>1</th>\n",
       "      <td>AAW0103</td>\n",
       "      <td>0.090123</td>\n",
       "      <td>1</td>\n",
       "    </tr>\n",
       "    <tr>\n",
       "      <th>2</th>\n",
       "      <td>ACE0265</td>\n",
       "      <td>0.090123</td>\n",
       "      <td>1</td>\n",
       "    </tr>\n",
       "    <tr>\n",
       "      <th>3</th>\n",
       "      <td>ACL0394</td>\n",
       "      <td>0.000000</td>\n",
       "      <td>1</td>\n",
       "    </tr>\n",
       "    <tr>\n",
       "      <th>5</th>\n",
       "      <td>ADR0362</td>\n",
       "      <td>0.090123</td>\n",
       "      <td>1</td>\n",
       "    </tr>\n",
       "    <tr>\n",
       "      <th>...</th>\n",
       "      <td>...</td>\n",
       "      <td>...</td>\n",
       "      <td>...</td>\n",
       "    </tr>\n",
       "    <tr>\n",
       "      <th>425</th>\n",
       "      <td>XTM0246</td>\n",
       "      <td>0.090123</td>\n",
       "      <td>1</td>\n",
       "    </tr>\n",
       "    <tr>\n",
       "      <th>426</th>\n",
       "      <td>YJT0368</td>\n",
       "      <td>0.000000</td>\n",
       "      <td>1</td>\n",
       "    </tr>\n",
       "    <tr>\n",
       "      <th>428</th>\n",
       "      <td>YSB0779</td>\n",
       "      <td>0.090123</td>\n",
       "      <td>1</td>\n",
       "    </tr>\n",
       "    <tr>\n",
       "      <th>429</th>\n",
       "      <td>ZBL0379</td>\n",
       "      <td>0.090123</td>\n",
       "      <td>1</td>\n",
       "    </tr>\n",
       "    <tr>\n",
       "      <th>430</th>\n",
       "      <td>ZIF0269</td>\n",
       "      <td>0.090123</td>\n",
       "      <td>1</td>\n",
       "    </tr>\n",
       "  </tbody>\n",
       "</table>\n",
       "<p>230 rows × 3 columns</p>\n",
       "</div>"
      ],
      "text/plain": [
       "        user    ascore  threat\n",
       "0    AAN0077  0.090123       1\n",
       "1    AAW0103  0.090123       1\n",
       "2    ACE0265  0.090123       1\n",
       "3    ACL0394  0.000000       1\n",
       "5    ADR0362  0.090123       1\n",
       "..       ...       ...     ...\n",
       "425  XTM0246  0.090123       1\n",
       "426  YJT0368  0.000000       1\n",
       "428  YSB0779  0.090123       1\n",
       "429  ZBL0379  0.090123       1\n",
       "430  ZIF0269  0.090123       1\n",
       "\n",
       "[230 rows x 3 columns]"
      ]
     },
     "execution_count": 64,
     "metadata": {},
     "output_type": "execute_result"
    }
   ],
   "source": [
    "graph_result = pd.DataFrame()\n",
    "graph_result['user'] = df_user_pc['user']\n",
    "graph_result['ascore'] = graph_a_score\n",
    "graph_result['threat']= threat\n",
    "graph_result.to_csv('../output/user_pc_ct.csv', index=False)\n",
    "graph_result\n"
   ]
  },
  {
   "cell_type": "code",
   "execution_count": 65,
   "metadata": {
    "colab": {
     "base_uri": "https://localhost:8080/"
    },
    "executionInfo": {
     "elapsed": 184,
     "status": "ok",
     "timestamp": 1632034257555,
     "user": {
      "displayName": "Suraj Sharma",
      "photoUrl": "https://lh3.googleusercontent.com/a/default-user=s64",
      "userId": "04526276601361747492"
     },
     "user_tz": -345
    },
    "id": "s1fOe_9hi_iq",
    "outputId": "e46f59ca-8c5a-4883-e19c-708e06b9d817"
   },
   "outputs": [
    {
     "name": "stdout",
     "output_type": "stream",
     "text": [
      "        user    ascore  threat\n",
      "14   AJR0231 -0.270804      -1\n",
      "35   ALC0100 -0.279173      -1\n",
      "57   ARH0777 -0.176816      -1\n",
      "70   BGZ0902 -0.276023      -1\n",
      "114  CQS0899 -0.279173      -1\n",
      "137  DNS0397 -0.082759      -1\n",
      "148  EER0383 -0.278647      -1\n",
      "167  FED0275 -0.279173      -1\n",
      "281  LWB0078 -0.277596      -1\n",
      "330  PYT0264 -0.266654      -1\n",
      "401  WJP0386 -0.082759      -1\n",
      "405  WMP0272 -0.279699      -1\n"
     ]
    }
   ],
   "source": [
    "outliers = graph_result.loc[graph_result['ascore'] < 0]\n",
    "print(outliers)"
   ]
  },
  {
   "cell_type": "code",
   "execution_count": 66,
   "metadata": {
    "id": "rHH8qPWWjTJR"
   },
   "outputs": [],
   "source": [
    "def dtt2timestamp(dtt):\n",
    "  time_in_sec = (dtt.hour*60 + dtt.minute) * 60 + dtt.second\n",
    "  return time_in_sec"
   ]
  },
  {
   "cell_type": "code",
   "execution_count": 67,
   "metadata": {
    "id": "NLE_dHZojuO-"
   },
   "outputs": [],
   "source": [
    "df_user_logon_stats_sec = df_user_logon_stats\n"
   ]
  },
  {
   "cell_type": "code",
   "execution_count": null,
   "metadata": {
    "id": "KEgfSjhOkbbR"
   },
   "outputs": [],
   "source": []
  },
  {
   "cell_type": "code",
   "execution_count": 68,
   "metadata": {
    "id": "ZYxl4AMbj4Nw"
   },
   "outputs": [],
   "source": [
    "min_ts = [dtt2timestamp(dtt) for dtt in df_user_logon_stats_sec['min']]\n",
    "max_ts = [dtt2timestamp(dtt) for dtt in df_user_logon_stats_sec['max']]\n",
    "mode_ts = [dtt2timestamp(dtt) for dtt in df_user_logon_stats_sec['mode']]\n",
    "mean_ts = [dtt2timestamp(dtt) for dtt in df_user_logon_stats_sec['mean']]"
   ]
  },
  {
   "cell_type": "code",
   "execution_count": 69,
   "metadata": {
    "id": "mF89Jzhfkp9K"
   },
   "outputs": [],
   "source": [
    "df_user_logon_stats_sec['min_ts'] = min_ts\n",
    "df_user_logon_stats_sec['max_ts'] = max_ts\n",
    "df_user_logon_stats_sec['mode_ts'] = mode_ts\n",
    "df_user_logon_stats_sec['mean_ts'] = mean_ts"
   ]
  },
  {
   "cell_type": "code",
   "execution_count": null,
   "metadata": {
    "id": "x9pa2dh2kzMz"
   },
   "outputs": [],
   "source": []
  },
  {
   "cell_type": "code",
   "execution_count": 70,
   "metadata": {
    "colab": {
     "base_uri": "https://localhost:8080/",
     "height": 424
    },
    "executionInfo": {
     "elapsed": 184,
     "status": "ok",
     "timestamp": 1632034257567,
     "user": {
      "displayName": "Suraj Sharma",
      "photoUrl": "https://lh3.googleusercontent.com/a/default-user=s64",
      "userId": "04526276601361747492"
     },
     "user_tz": -345
    },
    "id": "pvVC-j0pk49N",
    "outputId": "5452d303-e571-486c-9177-4b6f6ca8b676"
   },
   "outputs": [
    {
     "data": {
      "text/html": [
       "<div>\n",
       "<style scoped>\n",
       "    .dataframe tbody tr th:only-of-type {\n",
       "        vertical-align: middle;\n",
       "    }\n",
       "\n",
       "    .dataframe tbody tr th {\n",
       "        vertical-align: top;\n",
       "    }\n",
       "\n",
       "    .dataframe thead th {\n",
       "        text-align: right;\n",
       "    }\n",
       "</style>\n",
       "<table border=\"1\" class=\"dataframe\">\n",
       "  <thead>\n",
       "    <tr style=\"text-align: right;\">\n",
       "      <th></th>\n",
       "      <th>user</th>\n",
       "      <th>min_ts</th>\n",
       "      <th>max_ts</th>\n",
       "      <th>mode_ts</th>\n",
       "      <th>mean_ts</th>\n",
       "    </tr>\n",
       "  </thead>\n",
       "  <tbody>\n",
       "    <tr>\n",
       "      <th>0</th>\n",
       "      <td>AAN0077</td>\n",
       "      <td>27900</td>\n",
       "      <td>29580</td>\n",
       "      <td>28800</td>\n",
       "      <td>25200</td>\n",
       "    </tr>\n",
       "    <tr>\n",
       "      <th>1</th>\n",
       "      <td>AAW0103</td>\n",
       "      <td>25200</td>\n",
       "      <td>26280</td>\n",
       "      <td>26100</td>\n",
       "      <td>25200</td>\n",
       "    </tr>\n",
       "    <tr>\n",
       "      <th>2</th>\n",
       "      <td>ACE0265</td>\n",
       "      <td>28800</td>\n",
       "      <td>30300</td>\n",
       "      <td>29700</td>\n",
       "      <td>28800</td>\n",
       "    </tr>\n",
       "    <tr>\n",
       "      <th>3</th>\n",
       "      <td>ACL0394</td>\n",
       "      <td>32400</td>\n",
       "      <td>60757</td>\n",
       "      <td>33360</td>\n",
       "      <td>32400</td>\n",
       "    </tr>\n",
       "    <tr>\n",
       "      <th>4</th>\n",
       "      <td>ADR0362</td>\n",
       "      <td>27000</td>\n",
       "      <td>28080</td>\n",
       "      <td>28080</td>\n",
       "      <td>25200</td>\n",
       "    </tr>\n",
       "    <tr>\n",
       "      <th>...</th>\n",
       "      <td>...</td>\n",
       "      <td>...</td>\n",
       "      <td>...</td>\n",
       "      <td>...</td>\n",
       "      <td>...</td>\n",
       "    </tr>\n",
       "    <tr>\n",
       "      <th>225</th>\n",
       "      <td>XTM0246</td>\n",
       "      <td>27900</td>\n",
       "      <td>29520</td>\n",
       "      <td>29460</td>\n",
       "      <td>25200</td>\n",
       "    </tr>\n",
       "    <tr>\n",
       "      <th>226</th>\n",
       "      <td>YJT0368</td>\n",
       "      <td>27000</td>\n",
       "      <td>68459</td>\n",
       "      <td>27900</td>\n",
       "      <td>25200</td>\n",
       "    </tr>\n",
       "    <tr>\n",
       "      <th>227</th>\n",
       "      <td>YSB0779</td>\n",
       "      <td>27000</td>\n",
       "      <td>28020</td>\n",
       "      <td>27900</td>\n",
       "      <td>25200</td>\n",
       "    </tr>\n",
       "    <tr>\n",
       "      <th>228</th>\n",
       "      <td>ZBL0379</td>\n",
       "      <td>29700</td>\n",
       "      <td>52443</td>\n",
       "      <td>30600</td>\n",
       "      <td>32400</td>\n",
       "    </tr>\n",
       "    <tr>\n",
       "      <th>229</th>\n",
       "      <td>ZIF0269</td>\n",
       "      <td>25260</td>\n",
       "      <td>26760</td>\n",
       "      <td>25560</td>\n",
       "      <td>25200</td>\n",
       "    </tr>\n",
       "  </tbody>\n",
       "</table>\n",
       "<p>230 rows × 5 columns</p>\n",
       "</div>"
      ],
      "text/plain": [
       "        user  min_ts  max_ts  mode_ts  mean_ts\n",
       "0    AAN0077   27900   29580    28800    25200\n",
       "1    AAW0103   25200   26280    26100    25200\n",
       "2    ACE0265   28800   30300    29700    28800\n",
       "3    ACL0394   32400   60757    33360    32400\n",
       "4    ADR0362   27000   28080    28080    25200\n",
       "..       ...     ...     ...      ...      ...\n",
       "225  XTM0246   27900   29520    29460    25200\n",
       "226  YJT0368   27000   68459    27900    25200\n",
       "227  YSB0779   27000   28020    27900    25200\n",
       "228  ZBL0379   29700   52443    30600    32400\n",
       "229  ZIF0269   25260   26760    25560    25200\n",
       "\n",
       "[230 rows x 5 columns]"
      ]
     },
     "execution_count": 70,
     "metadata": {},
     "output_type": "execute_result"
    }
   ],
   "source": [
    "df_user_logon_stats_sec.drop(['min','max','mode','mean'], axis=1)"
   ]
  },
  {
   "cell_type": "code",
   "execution_count": 71,
   "metadata": {
    "id": "ifvL5-NClHIR"
   },
   "outputs": [],
   "source": [
    "df_user_logoff_stats_sec = df_user_logoff_stats\n"
   ]
  },
  {
   "cell_type": "code",
   "execution_count": null,
   "metadata": {
    "id": "Bf6_0MbYllVB"
   },
   "outputs": [],
   "source": []
  },
  {
   "cell_type": "code",
   "execution_count": 72,
   "metadata": {
    "id": "GN2B0tr2lUEM"
   },
   "outputs": [],
   "source": [
    "min_ts = [dtt2timestamp(dtt) for dtt in df_user_logoff_stats_sec['min']] \n",
    "max_ts = [dtt2timestamp(dtt) for dtt in df_user_logoff_stats_sec['max']]\n",
    "mode_ts = [dtt2timestamp(dtt) for dtt in df_user_logoff_stats_sec['mode']]\n",
    "mean_ts = [dtt2timestamp(dtt) for dtt in df_user_logoff_stats_sec['mean']]"
   ]
  },
  {
   "cell_type": "code",
   "execution_count": 73,
   "metadata": {
    "id": "fs92g2OJlayS"
   },
   "outputs": [],
   "source": [
    "df_user_logoff_stats_sec['min_ts'] = min_ts\n",
    "df_user_logoff_stats_sec['max_ts'] = max_ts\n",
    "df_user_logoff_stats_sec['mode_ts'] = mode_ts\n",
    "df_user_logoff_stats_sec['mean_ts'] = mean_ts"
   ]
  },
  {
   "cell_type": "code",
   "execution_count": 74,
   "metadata": {
    "colab": {
     "base_uri": "https://localhost:8080/",
     "height": 424
    },
    "executionInfo": {
     "elapsed": 183,
     "status": "ok",
     "timestamp": 1632034257572,
     "user": {
      "displayName": "Suraj Sharma",
      "photoUrl": "https://lh3.googleusercontent.com/a/default-user=s64",
      "userId": "04526276601361747492"
     },
     "user_tz": -345
    },
    "id": "00Bl8qoVmQBl",
    "outputId": "7dfea576-0de2-4cbf-d2bd-ada75b5db6d4"
   },
   "outputs": [
    {
     "data": {
      "text/html": [
       "<div>\n",
       "<style scoped>\n",
       "    .dataframe tbody tr th:only-of-type {\n",
       "        vertical-align: middle;\n",
       "    }\n",
       "\n",
       "    .dataframe tbody tr th {\n",
       "        vertical-align: top;\n",
       "    }\n",
       "\n",
       "    .dataframe thead th {\n",
       "        text-align: right;\n",
       "    }\n",
       "</style>\n",
       "<table border=\"1\" class=\"dataframe\">\n",
       "  <thead>\n",
       "    <tr style=\"text-align: right;\">\n",
       "      <th></th>\n",
       "      <th>user</th>\n",
       "      <th>min_ts</th>\n",
       "      <th>max_ts</th>\n",
       "      <th>mode_ts</th>\n",
       "      <th>mean_ts</th>\n",
       "    </tr>\n",
       "  </thead>\n",
       "  <tbody>\n",
       "    <tr>\n",
       "      <th>0</th>\n",
       "      <td>AAN0077</td>\n",
       "      <td>60420</td>\n",
       "      <td>62040</td>\n",
       "      <td>60960</td>\n",
       "      <td>57600</td>\n",
       "    </tr>\n",
       "    <tr>\n",
       "      <th>1</th>\n",
       "      <td>AAW0103</td>\n",
       "      <td>58320</td>\n",
       "      <td>59340</td>\n",
       "      <td>58320</td>\n",
       "      <td>57600</td>\n",
       "    </tr>\n",
       "    <tr>\n",
       "      <th>2</th>\n",
       "      <td>ACE0265</td>\n",
       "      <td>57900</td>\n",
       "      <td>59400</td>\n",
       "      <td>58620</td>\n",
       "      <td>57600</td>\n",
       "    </tr>\n",
       "    <tr>\n",
       "      <th>3</th>\n",
       "      <td>ACL0394</td>\n",
       "      <td>34279</td>\n",
       "      <td>63000</td>\n",
       "      <td>62100</td>\n",
       "      <td>57600</td>\n",
       "    </tr>\n",
       "    <tr>\n",
       "      <th>4</th>\n",
       "      <td>ADR0362</td>\n",
       "      <td>60120</td>\n",
       "      <td>61200</td>\n",
       "      <td>60300</td>\n",
       "      <td>57600</td>\n",
       "    </tr>\n",
       "    <tr>\n",
       "      <th>...</th>\n",
       "      <td>...</td>\n",
       "      <td>...</td>\n",
       "      <td>...</td>\n",
       "      <td>...</td>\n",
       "      <td>...</td>\n",
       "    </tr>\n",
       "    <tr>\n",
       "      <th>225</th>\n",
       "      <td>XTM0246</td>\n",
       "      <td>60480</td>\n",
       "      <td>62100</td>\n",
       "      <td>61200</td>\n",
       "      <td>57600</td>\n",
       "    </tr>\n",
       "    <tr>\n",
       "      <th>226</th>\n",
       "      <td>YJT0368</td>\n",
       "      <td>59940</td>\n",
       "      <td>68732</td>\n",
       "      <td>60240</td>\n",
       "      <td>57600</td>\n",
       "    </tr>\n",
       "    <tr>\n",
       "      <th>227</th>\n",
       "      <td>YSB0779</td>\n",
       "      <td>60180</td>\n",
       "      <td>61200</td>\n",
       "      <td>60300</td>\n",
       "      <td>57600</td>\n",
       "    </tr>\n",
       "    <tr>\n",
       "      <th>228</th>\n",
       "      <td>ZBL0379</td>\n",
       "      <td>69420</td>\n",
       "      <td>71100</td>\n",
       "      <td>69600</td>\n",
       "      <td>68400</td>\n",
       "    </tr>\n",
       "    <tr>\n",
       "      <th>229</th>\n",
       "      <td>ZIF0269</td>\n",
       "      <td>57840</td>\n",
       "      <td>59400</td>\n",
       "      <td>58020</td>\n",
       "      <td>57600</td>\n",
       "    </tr>\n",
       "  </tbody>\n",
       "</table>\n",
       "<p>230 rows × 5 columns</p>\n",
       "</div>"
      ],
      "text/plain": [
       "        user  min_ts  max_ts  mode_ts  mean_ts\n",
       "0    AAN0077   60420   62040    60960    57600\n",
       "1    AAW0103   58320   59340    58320    57600\n",
       "2    ACE0265   57900   59400    58620    57600\n",
       "3    ACL0394   34279   63000    62100    57600\n",
       "4    ADR0362   60120   61200    60300    57600\n",
       "..       ...     ...     ...      ...      ...\n",
       "225  XTM0246   60480   62100    61200    57600\n",
       "226  YJT0368   59940   68732    60240    57600\n",
       "227  YSB0779   60180   61200    60300    57600\n",
       "228  ZBL0379   69420   71100    69600    68400\n",
       "229  ZIF0269   57840   59400    58020    57600\n",
       "\n",
       "[230 rows x 5 columns]"
      ]
     },
     "execution_count": 74,
     "metadata": {},
     "output_type": "execute_result"
    }
   ],
   "source": [
    "df_user_logoff_stats_sec.drop(['min', 'max','mode','mean'], axis=1)"
   ]
  },
  {
   "cell_type": "code",
   "execution_count": 75,
   "metadata": {
    "id": "SX_ib_9SmSpp"
   },
   "outputs": [],
   "source": [
    "df_log_on_off_stats = pd.DataFrame()\n",
    "\n",
    "df_log_on_off_stats['user'] = df_user_logon_stats_sec['user']\n",
    "df_log_on_off_stats['on_min_ts'] = df_user_logon_stats_sec['min_ts']\n",
    "df_log_on_off_stats['on_max_ts'] = df_user_logon_stats_sec['max_ts']\n",
    "df_log_on_off_stats['on_mode_ts'] = df_user_logon_stats_sec['mode_ts']\n",
    "df_log_on_off_stats['on_mean_ts'] = df_user_logon_stats_sec['mean_ts']\n",
    "df_log_on_off_stats['off_min_ts'] = df_user_logon_stats_sec['min_ts']\n",
    "df_log_on_off_stats['off_max_ts'] = df_user_logon_stats_sec['max_ts']\n",
    "df_log_on_off_stats['off_mode_ts'] = df_user_logon_stats_sec['mode_ts']\n",
    "df_log_on_off_stats['off_mean_ts'] = df_user_logon_stats_sec['mean_ts']"
   ]
  },
  {
   "cell_type": "code",
   "execution_count": 76,
   "metadata": {
    "colab": {
     "base_uri": "https://localhost:8080/"
    },
    "executionInfo": {
     "elapsed": 183,
     "status": "ok",
     "timestamp": 1632034257574,
     "user": {
      "displayName": "Suraj Sharma",
      "photoUrl": "https://lh3.googleusercontent.com/a/default-user=s64",
      "userId": "04526276601361747492"
     },
     "user_tz": -345
    },
    "id": "qRZ0eHGhnTjo",
    "outputId": "c7fa4698-f888-4cf6-f9b6-922db59790e2"
   },
   "outputs": [
    {
     "data": {
      "text/plain": [
       "user           object\n",
       "on_min_ts       int64\n",
       "on_max_ts       int64\n",
       "on_mode_ts      int64\n",
       "on_mean_ts      int64\n",
       "off_min_ts      int64\n",
       "off_max_ts      int64\n",
       "off_mode_ts     int64\n",
       "off_mean_ts     int64\n",
       "dtype: object"
      ]
     },
     "execution_count": 76,
     "metadata": {},
     "output_type": "execute_result"
    }
   ],
   "source": [
    "df_log_on_off_stats.dtypes"
   ]
  },
  {
   "cell_type": "code",
   "execution_count": 77,
   "metadata": {
    "colab": {
     "base_uri": "https://localhost:8080/"
    },
    "executionInfo": {
     "elapsed": 151,
     "status": "ok",
     "timestamp": 1632034257575,
     "user": {
      "displayName": "Suraj Sharma",
      "photoUrl": "https://lh3.googleusercontent.com/a/default-user=s64",
      "userId": "04526276601361747492"
     },
     "user_tz": -345
    },
    "id": "uNwVevJVnWw0",
    "outputId": "b926dbd1-e372-4b84-d996-5e9ee9659101"
   },
   "outputs": [
    {
     "name": "stdout",
     "output_type": "stream",
     "text": [
      "[[27900 29580 28800 ... 29580 28800 25200]\n",
      " [25200 26280 26100 ... 26280 26100 25200]\n",
      " [28800 30300 29700 ... 30300 29700 28800]\n",
      " ...\n",
      " [27000 28020 27900 ... 28020 27900 25200]\n",
      " [29700 52443 30600 ... 52443 30600 32400]\n",
      " [25260 26760 25560 ... 26760 25560 25200]]\n"
     ]
    }
   ],
   "source": [
    "log_stats = df_log_on_off_stats.drop(['user'], axis = 1)\n",
    "log_stats_matrix = np.matrix(log_stats)\n",
    "print(log_stats_matrix)"
   ]
  },
  {
   "cell_type": "code",
   "execution_count": 78,
   "metadata": {
    "colab": {
     "base_uri": "https://localhost:8080/"
    },
    "executionInfo": {
     "elapsed": 147,
     "status": "ok",
     "timestamp": 1632034257577,
     "user": {
      "displayName": "Suraj Sharma",
      "photoUrl": "https://lh3.googleusercontent.com/a/default-user=s64",
      "userId": "04526276601361747492"
     },
     "user_tz": -345
    },
    "id": "N9lDES_NLF_b",
    "outputId": "9e6fa1db-36de-4682-8834-8c84778e466a"
   },
   "outputs": [
    {
     "data": {
      "text/plain": [
       "Index(['user', 'on_min_ts', 'on_max_ts', 'on_mode_ts', 'on_mean_ts',\n",
       "       'off_min_ts', 'off_max_ts', 'off_mode_ts', 'off_mean_ts'],\n",
       "      dtype='object')"
      ]
     },
     "execution_count": 78,
     "metadata": {},
     "output_type": "execute_result"
    }
   ],
   "source": [
    "df_log_on_off_stats.columns"
   ]
  },
  {
   "cell_type": "code",
   "execution_count": 79,
   "metadata": {
    "id": "R1nHKRQ9nzaD"
   },
   "outputs": [],
   "source": [
    "# \n",
    "\n",
    "model2 = pickle.load(open('../pkl/log_stats_matrix.pkl', 'rb'))\n",
    "log_ascore = model2.decision_function(log_stats_matrix)\n",
    "threat = model2.predict(log_stats_matrix)\n"
   ]
  },
  {
   "cell_type": "code",
   "execution_count": 80,
   "metadata": {
    "id": "LRYVUCn7ieBH"
   },
   "outputs": [],
   "source": [
    "# # counting the values\n",
    "# df22 = pd.Series(forest.predict(log_stats_matrix))\n",
    "# # df22 = df22.map({1:0, -1:1})\n",
    "# # print(df22.value_counts())"
   ]
  },
  {
   "cell_type": "code",
   "execution_count": 81,
   "metadata": {
    "id": "Au2Q3iu114eB"
   },
   "outputs": [],
   "source": [
    "# import pickle \n",
    "# with open('log_stats_matrix.pkl','wb') as file :\n",
    "#   pickle.dump(forest, file)"
   ]
  },
  {
   "cell_type": "code",
   "execution_count": 82,
   "metadata": {
    "colab": {
     "base_uri": "https://localhost:8080/"
    },
    "executionInfo": {
     "elapsed": 147,
     "status": "ok",
     "timestamp": 1632034257583,
     "user": {
      "displayName": "Suraj Sharma",
      "photoUrl": "https://lh3.googleusercontent.com/a/default-user=s64",
      "userId": "04526276601361747492"
     },
     "user_tz": -345
    },
    "id": "kAUP6ou1n9kp",
    "outputId": "c9fd8409-860d-4f5a-c052-6b36e0aef2ea"
   },
   "outputs": [
    {
     "name": "stdout",
     "output_type": "stream",
     "text": [
      "        user    ascore  threat\n",
      "0    AAN0077  0.162700       1\n",
      "1    AAW0103  0.098027       1\n",
      "2    ACE0265  0.142234       1\n",
      "3    ACL0394  0.020642       1\n",
      "4    ADR0362  0.137137       1\n",
      "..       ...       ...     ...\n",
      "225  XTM0246  0.091681       1\n",
      "226  YJT0368  0.021580       1\n",
      "227  YSB0779  0.174086       1\n",
      "228  ZBL0379  0.077552       1\n",
      "229  ZIF0269  0.086144       1\n",
      "\n",
      "[230 rows x 3 columns]\n"
     ]
    }
   ],
   "source": [
    "df_user_log_result = pd.DataFrame()\n",
    "df_user_log_result['user'] = df_user_logoff_stats_sec['user']\n",
    "df_user_log_result['ascore'] = log_ascore\n",
    "df_user_log_result['threat'] = threat\n",
    "df_user_log_result.to_csv('../output/user_log_result.csv', index=False)\n",
    "print(df_user_log_result)\n"
   ]
  },
  {
   "cell_type": "code",
   "execution_count": 83,
   "metadata": {
    "colab": {
     "base_uri": "https://localhost:8080/",
     "height": 771
    },
    "executionInfo": {
     "elapsed": 143,
     "status": "ok",
     "timestamp": 1632034257584,
     "user": {
      "displayName": "Suraj Sharma",
      "photoUrl": "https://lh3.googleusercontent.com/a/default-user=s64",
      "userId": "04526276601361747492"
     },
     "user_tz": -345
    },
    "id": "Z6JSUpMjoPrm",
    "outputId": "3db4936d-2647-4526-bfa8-8cc4c84ffb33"
   },
   "outputs": [
    {
     "data": {
      "text/html": [
       "<div>\n",
       "<style scoped>\n",
       "    .dataframe tbody tr th:only-of-type {\n",
       "        vertical-align: middle;\n",
       "    }\n",
       "\n",
       "    .dataframe tbody tr th {\n",
       "        vertical-align: top;\n",
       "    }\n",
       "\n",
       "    .dataframe thead th {\n",
       "        text-align: right;\n",
       "    }\n",
       "</style>\n",
       "<table border=\"1\" class=\"dataframe\">\n",
       "  <thead>\n",
       "    <tr style=\"text-align: right;\">\n",
       "      <th></th>\n",
       "      <th>user</th>\n",
       "      <th>ascore</th>\n",
       "      <th>threat</th>\n",
       "    </tr>\n",
       "  </thead>\n",
       "  <tbody>\n",
       "    <tr>\n",
       "      <th>13</th>\n",
       "      <td>ALC0100</td>\n",
       "      <td>-0.030278</td>\n",
       "      <td>-1</td>\n",
       "    </tr>\n",
       "    <tr>\n",
       "      <th>14</th>\n",
       "      <td>AMR0656</td>\n",
       "      <td>-0.013699</td>\n",
       "      <td>-1</td>\n",
       "    </tr>\n",
       "    <tr>\n",
       "      <th>23</th>\n",
       "      <td>BCP0247</td>\n",
       "      <td>-0.043267</td>\n",
       "      <td>-1</td>\n",
       "    </tr>\n",
       "    <tr>\n",
       "      <th>24</th>\n",
       "      <td>BDS0396</td>\n",
       "      <td>-0.030364</td>\n",
       "      <td>-1</td>\n",
       "    </tr>\n",
       "    <tr>\n",
       "      <th>25</th>\n",
       "      <td>BER0398</td>\n",
       "      <td>-0.041076</td>\n",
       "      <td>-1</td>\n",
       "    </tr>\n",
       "    <tr>\n",
       "      <th>26</th>\n",
       "      <td>BFM0101</td>\n",
       "      <td>-0.021495</td>\n",
       "      <td>-1</td>\n",
       "    </tr>\n",
       "    <tr>\n",
       "      <th>44</th>\n",
       "      <td>CAE0080</td>\n",
       "      <td>-0.018350</td>\n",
       "      <td>-1</td>\n",
       "    </tr>\n",
       "    <tr>\n",
       "      <th>56</th>\n",
       "      <td>CQS0899</td>\n",
       "      <td>-0.105395</td>\n",
       "      <td>-1</td>\n",
       "    </tr>\n",
       "    <tr>\n",
       "      <th>58</th>\n",
       "      <td>CSD0242</td>\n",
       "      <td>-0.027867</td>\n",
       "      <td>-1</td>\n",
       "    </tr>\n",
       "    <tr>\n",
       "      <th>65</th>\n",
       "      <td>DJS0406</td>\n",
       "      <td>-0.006024</td>\n",
       "      <td>-1</td>\n",
       "    </tr>\n",
       "    <tr>\n",
       "      <th>67</th>\n",
       "      <td>DRH0268</td>\n",
       "      <td>-0.010130</td>\n",
       "      <td>-1</td>\n",
       "    </tr>\n",
       "    <tr>\n",
       "      <th>72</th>\n",
       "      <td>EBS0102</td>\n",
       "      <td>-0.002011</td>\n",
       "      <td>-1</td>\n",
       "    </tr>\n",
       "    <tr>\n",
       "      <th>77</th>\n",
       "      <td>FED0275</td>\n",
       "      <td>-0.028346</td>\n",
       "      <td>-1</td>\n",
       "    </tr>\n",
       "    <tr>\n",
       "      <th>83</th>\n",
       "      <td>GFM0250</td>\n",
       "      <td>-0.061290</td>\n",
       "      <td>-1</td>\n",
       "    </tr>\n",
       "    <tr>\n",
       "      <th>95</th>\n",
       "      <td>HML0060</td>\n",
       "      <td>-0.087995</td>\n",
       "      <td>-1</td>\n",
       "    </tr>\n",
       "    <tr>\n",
       "      <th>99</th>\n",
       "      <td>HPL0787</td>\n",
       "      <td>-0.059049</td>\n",
       "      <td>-1</td>\n",
       "    </tr>\n",
       "    <tr>\n",
       "      <th>124</th>\n",
       "      <td>KAP0237</td>\n",
       "      <td>-0.013501</td>\n",
       "      <td>-1</td>\n",
       "    </tr>\n",
       "    <tr>\n",
       "      <th>140</th>\n",
       "      <td>LJW0776</td>\n",
       "      <td>-0.005619</td>\n",
       "      <td>-1</td>\n",
       "    </tr>\n",
       "    <tr>\n",
       "      <th>144</th>\n",
       "      <td>LQD0409</td>\n",
       "      <td>-0.002200</td>\n",
       "      <td>-1</td>\n",
       "    </tr>\n",
       "    <tr>\n",
       "      <th>145</th>\n",
       "      <td>LTB0107</td>\n",
       "      <td>-0.022005</td>\n",
       "      <td>-1</td>\n",
       "    </tr>\n",
       "    <tr>\n",
       "      <th>147</th>\n",
       "      <td>LWB0078</td>\n",
       "      <td>-0.050164</td>\n",
       "      <td>-1</td>\n",
       "    </tr>\n",
       "    <tr>\n",
       "      <th>151</th>\n",
       "      <td>MCB0104</td>\n",
       "      <td>-0.028513</td>\n",
       "      <td>-1</td>\n",
       "    </tr>\n",
       "    <tr>\n",
       "      <th>152</th>\n",
       "      <td>MCL0405</td>\n",
       "      <td>-0.034999</td>\n",
       "      <td>-1</td>\n",
       "    </tr>\n",
       "    <tr>\n",
       "      <th>157</th>\n",
       "      <td>MPM0410</td>\n",
       "      <td>-0.091487</td>\n",
       "      <td>-1</td>\n",
       "    </tr>\n",
       "    <tr>\n",
       "      <th>160</th>\n",
       "      <td>MSB0359</td>\n",
       "      <td>-0.012113</td>\n",
       "      <td>-1</td>\n",
       "    </tr>\n",
       "    <tr>\n",
       "      <th>178</th>\n",
       "      <td>RAW0533</td>\n",
       "      <td>-0.028321</td>\n",
       "      <td>-1</td>\n",
       "    </tr>\n",
       "    <tr>\n",
       "      <th>180</th>\n",
       "      <td>RCG0105</td>\n",
       "      <td>-0.041500</td>\n",
       "      <td>-1</td>\n",
       "    </tr>\n",
       "    <tr>\n",
       "      <th>191</th>\n",
       "      <td>SBM0063</td>\n",
       "      <td>-0.011175</td>\n",
       "      <td>-1</td>\n",
       "    </tr>\n",
       "    <tr>\n",
       "      <th>201</th>\n",
       "      <td>TBD0276</td>\n",
       "      <td>-0.020642</td>\n",
       "      <td>-1</td>\n",
       "    </tr>\n",
       "    <tr>\n",
       "      <th>210</th>\n",
       "      <td>UMA0072</td>\n",
       "      <td>-0.013585</td>\n",
       "      <td>-1</td>\n",
       "    </tr>\n",
       "    <tr>\n",
       "      <th>214</th>\n",
       "      <td>VLB0069</td>\n",
       "      <td>-0.061274</td>\n",
       "      <td>-1</td>\n",
       "    </tr>\n",
       "    <tr>\n",
       "      <th>220</th>\n",
       "      <td>WMP0272</td>\n",
       "      <td>-0.016311</td>\n",
       "      <td>-1</td>\n",
       "    </tr>\n",
       "    <tr>\n",
       "      <th>223</th>\n",
       "      <td>XCR0407</td>\n",
       "      <td>-0.016383</td>\n",
       "      <td>-1</td>\n",
       "    </tr>\n",
       "    <tr>\n",
       "      <th>224</th>\n",
       "      <td>XRE0273</td>\n",
       "      <td>-0.016387</td>\n",
       "      <td>-1</td>\n",
       "    </tr>\n",
       "  </tbody>\n",
       "</table>\n",
       "</div>"
      ],
      "text/plain": [
       "        user    ascore  threat\n",
       "13   ALC0100 -0.030278      -1\n",
       "14   AMR0656 -0.013699      -1\n",
       "23   BCP0247 -0.043267      -1\n",
       "24   BDS0396 -0.030364      -1\n",
       "25   BER0398 -0.041076      -1\n",
       "26   BFM0101 -0.021495      -1\n",
       "44   CAE0080 -0.018350      -1\n",
       "56   CQS0899 -0.105395      -1\n",
       "58   CSD0242 -0.027867      -1\n",
       "65   DJS0406 -0.006024      -1\n",
       "67   DRH0268 -0.010130      -1\n",
       "72   EBS0102 -0.002011      -1\n",
       "77   FED0275 -0.028346      -1\n",
       "83   GFM0250 -0.061290      -1\n",
       "95   HML0060 -0.087995      -1\n",
       "99   HPL0787 -0.059049      -1\n",
       "124  KAP0237 -0.013501      -1\n",
       "140  LJW0776 -0.005619      -1\n",
       "144  LQD0409 -0.002200      -1\n",
       "145  LTB0107 -0.022005      -1\n",
       "147  LWB0078 -0.050164      -1\n",
       "151  MCB0104 -0.028513      -1\n",
       "152  MCL0405 -0.034999      -1\n",
       "157  MPM0410 -0.091487      -1\n",
       "160  MSB0359 -0.012113      -1\n",
       "178  RAW0533 -0.028321      -1\n",
       "180  RCG0105 -0.041500      -1\n",
       "191  SBM0063 -0.011175      -1\n",
       "201  TBD0276 -0.020642      -1\n",
       "210  UMA0072 -0.013585      -1\n",
       "214  VLB0069 -0.061274      -1\n",
       "220  WMP0272 -0.016311      -1\n",
       "223  XCR0407 -0.016383      -1\n",
       "224  XRE0273 -0.016387      -1"
      ]
     },
     "execution_count": 83,
     "metadata": {},
     "output_type": "execute_result"
    }
   ],
   "source": [
    "df_user_log_result.loc[df_user_log_result['ascore'] < 0]"
   ]
  },
  {
   "cell_type": "code",
   "execution_count": 84,
   "metadata": {
    "id": "E1HKkFzzoWx3"
   },
   "outputs": [],
   "source": [
    "df_device_conn_stats_sec = df_device_conn_stats\n",
    "con_min_ts = [dtt2timestamp(dtt) for dtt in df_device_conn_stats_sec['min']]\n",
    "con_max_ts = [dtt2timestamp(dtt) for dtt in df_device_conn_stats_sec['max']]\n",
    "con_mode_ts = [dtt2timestamp(dtt) for dtt in df_device_conn_stats_sec['mode']]\n",
    "con_mean_ts = [dtt2timestamp(dtt) for dtt in df_device_conn_stats_sec['mean']]\n",
    "\n",
    "df_device_conn_stats_sec['min_ts'] = con_min_ts\n",
    "df_device_conn_stats_sec['max_ts'] = con_max_ts\n",
    "df_device_conn_stats_sec['mode_ts'] = con_mode_ts\n",
    "df_device_conn_stats_sec['mean_ts'] = con_mean_ts\n",
    "df_device_conn_stats_sec = df_device_conn_stats_sec.drop(['min', 'max','mode','mean'], axis=1)"
   ]
  },
  {
   "cell_type": "code",
   "execution_count": 85,
   "metadata": {
    "id": "uOwtUMGUoxv8"
   },
   "outputs": [],
   "source": [
    "df_device_disconn_stats_sec = df_device_conn_stats\n",
    "discon_min_ts = [dtt2timestamp(dtt) for dtt in df_device_disconn_stats_sec['min']]\n",
    "discon_max_ts = [dtt2timestamp(dtt) for dtt in df_device_disconn_stats_sec['max']]\n",
    "discon_mode_ts = [dtt2timestamp(dtt) for dtt in df_device_disconn_stats_sec['mode']]\n",
    "discon_mean_ts = [dtt2timestamp(dtt) for dtt in df_device_disconn_stats_sec['mean']]\n",
    "\n",
    "df_device_disconn_stats_sec['min_ts'] = discon_min_ts\n",
    "df_device_disconn_stats_sec['max_ts'] = discon_max_ts\n",
    "df_device_disconn_stats_sec['mode_ts'] = discon_mode_ts\n",
    "df_device_disconn_stats_sec['mean_ts'] = discon_mean_ts\n",
    "df_device_disconn_stats_sec = df_device_disconn_stats_sec.drop(['min', 'max','mode','mean'], axis=1)\n"
   ]
  },
  {
   "cell_type": "code",
   "execution_count": 86,
   "metadata": {
    "id": "Wen5i_JcpJIu"
   },
   "outputs": [],
   "source": [
    "df_device_full = pd.DataFrame()\n",
    "df_device_full['user'] = df_device_conn_stats['user']"
   ]
  },
  {
   "cell_type": "code",
   "execution_count": 87,
   "metadata": {
    "id": "akDuC76Lp31p"
   },
   "outputs": [],
   "source": [
    "df_device_full['con_min_ts'] = df_device_conn_stats_sec['min_ts']\n",
    "df_device_full['con_max_ts'] = df_device_conn_stats_sec['max_ts']\n",
    "df_device_full['con_mode_ts'] = df_device_conn_stats_sec['mode_ts']\n",
    "df_device_full['con_mean_ts'] = df_device_conn_stats_sec['mean_ts']\n",
    "\n",
    "# disconnect stats\n",
    "df_device_full['dcon_min_ts'] = df_device_disconn_stats_sec['min_ts']\n",
    "df_device_full['dcon_max_ts'] = df_device_disconn_stats_sec['max_ts']\n",
    "df_device_full['dcon_mode_ts'] = df_device_disconn_stats_sec['mode_ts']\n",
    "df_device_full['dcon_mean_ts'] = df_device_disconn_stats_sec['mean_ts']\n",
    "\n",
    "# files per day stats\n",
    "df_device_full['file_mode'] = df_files_stats_new['mode_trasfers_per_user']\n",
    "df_device_full['file_max'] = df_files_stats_new['max_transfers_per_user']"
   ]
  },
  {
   "cell_type": "code",
   "execution_count": 88,
   "metadata": {
    "colab": {
     "base_uri": "https://localhost:8080/"
    },
    "executionInfo": {
     "elapsed": 141,
     "status": "ok",
     "timestamp": 1632034257589,
     "user": {
      "displayName": "Suraj Sharma",
      "photoUrl": "https://lh3.googleusercontent.com/a/default-user=s64",
      "userId": "04526276601361747492"
     },
     "user_tz": -345
    },
    "id": "LOWe3yHQqOKB",
    "outputId": "9d2b7531-3c5f-41ff-960c-b0364da4ed44"
   },
   "outputs": [
    {
     "data": {
      "text/plain": [
       "matrix([[30770, 67849, 37742, 43200, 30770, 67849, 37742, 43200,    72,\n",
       "           198],\n",
       "        [27100, 51362, 31751, 32400, 27100, 51362, 31751, 32400,    18,\n",
       "           108],\n",
       "        [28861, 53510, 29633, 36000, 28861, 53510, 29633, 36000,     6,\n",
       "            24],\n",
       "        [27977, 55194, 44891, 39600, 27977, 55194, 44891, 39600,    18,\n",
       "            72],\n",
       "        [15711, 84764, 53558, 43200, 15711, 84764, 53558, 43200,    18,\n",
       "            54],\n",
       "        [33007, 59723, 33631, 43200, 33007, 59723, 33631, 43200,    18,\n",
       "            90],\n",
       "        [29381, 61574, 40653, 43200, 29381, 61574, 40653, 43200,    18,\n",
       "            72],\n",
       "        [29062, 58182, 43065, 39600, 29062, 58182, 43065, 39600,    90,\n",
       "           216],\n",
       "        [29837, 58377, 30403, 39600, 29837, 58377, 30403, 39600,    18,\n",
       "            72],\n",
       "        [29633, 56751, 32112, 39600, 29633, 56751, 32112, 39600,    18,\n",
       "            54]])"
      ]
     },
     "execution_count": 88,
     "metadata": {},
     "output_type": "execute_result"
    }
   ],
   "source": [
    "device_full_matrix = df_device_full.drop(['user'],axis=1)\n",
    "device_params = np.matrix(device_full_matrix)\n",
    "device_params[:10]"
   ]
  },
  {
   "cell_type": "code",
   "execution_count": 89,
   "metadata": {
    "colab": {
     "base_uri": "https://localhost:8080/"
    },
    "executionInfo": {
     "elapsed": 138,
     "status": "ok",
     "timestamp": 1632034257591,
     "user": {
      "displayName": "Suraj Sharma",
      "photoUrl": "https://lh3.googleusercontent.com/a/default-user=s64",
      "userId": "04526276601361747492"
     },
     "user_tz": -345
    },
    "id": "AQ6-N2pIK4ku",
    "outputId": "3cc7dae3-f7dc-4e40-a148-2bbe5316e035"
   },
   "outputs": [
    {
     "data": {
      "text/plain": [
       "Index(['user', 'con_min_ts', 'con_max_ts', 'con_mode_ts', 'con_mean_ts',\n",
       "       'dcon_min_ts', 'dcon_max_ts', 'dcon_mode_ts', 'dcon_mean_ts',\n",
       "       'file_mode', 'file_max'],\n",
       "      dtype='object')"
      ]
     },
     "execution_count": 89,
     "metadata": {},
     "output_type": "execute_result"
    }
   ],
   "source": [
    "df_device_full.columns"
   ]
  },
  {
   "cell_type": "code",
   "execution_count": 90,
   "metadata": {
    "id": "4HjCKrgbsUbu"
   },
   "outputs": [],
   "source": [
    "# # device (-user)\n",
    "# forest = IsolationForest(bootstrap=False, contamination=0.1, max_features=1.0,\n",
    "#         max_samples='auto', n_estimators=100, n_jobs=1, random_state=None,\n",
    "#         verbose=0)\n",
    "\n",
    "# forest.fit(device_params)\n"
   ]
  },
  {
   "cell_type": "code",
   "execution_count": 91,
   "metadata": {
    "id": "S6r3RY3a2Ae5"
   },
   "outputs": [],
   "source": [
    "# import pickle \n",
    "# with open('device_params.pkl','wb') as file :\n",
    "#   pickle.dump(forest, file)"
   ]
  },
  {
   "cell_type": "code",
   "execution_count": 92,
   "metadata": {
    "id": "YtlBxG8BtL3r"
   },
   "outputs": [],
   "source": [
    "# \n",
    "\n",
    "model3 = pickle.load(open('../pkl/device_params.pkl', 'rb'))\n",
    "log_ascore = model3.decision_function(device_params)\n",
    "threat = model3.predict(device_params)\n"
   ]
  },
  {
   "cell_type": "code",
   "execution_count": 93,
   "metadata": {
    "id": "ByDJGFjbtmGc"
   },
   "outputs": [],
   "source": [
    "df_device_file_full_result = pd.DataFrame()\n",
    "\n",
    "df_device_file_full_result['user'] = df_device_full['user']\n",
    "df_device_file_full_result['ascore'] = log_ascore\n",
    "df_device_file_full_result['threat'] = threat\n",
    "\n",
    "df_device_file_full_result.to_csv('../output/device_file_full_result.csv', index=False)"
   ]
  },
  {
   "cell_type": "code",
   "execution_count": 94,
   "metadata": {
    "colab": {
     "base_uri": "https://localhost:8080/",
     "height": 206
    },
    "executionInfo": {
     "elapsed": 136,
     "status": "ok",
     "timestamp": 1632034257598,
     "user": {
      "displayName": "Suraj Sharma",
      "photoUrl": "https://lh3.googleusercontent.com/a/default-user=s64",
      "userId": "04526276601361747492"
     },
     "user_tz": -345
    },
    "id": "IznVB2FLtpdo",
    "outputId": "2ccbd061-2ff3-4411-cf02-1af6dfd0663e"
   },
   "outputs": [
    {
     "data": {
      "text/html": [
       "<div>\n",
       "<style scoped>\n",
       "    .dataframe tbody tr th:only-of-type {\n",
       "        vertical-align: middle;\n",
       "    }\n",
       "\n",
       "    .dataframe tbody tr th {\n",
       "        vertical-align: top;\n",
       "    }\n",
       "\n",
       "    .dataframe thead th {\n",
       "        text-align: right;\n",
       "    }\n",
       "</style>\n",
       "<table border=\"1\" class=\"dataframe\">\n",
       "  <thead>\n",
       "    <tr style=\"text-align: right;\">\n",
       "      <th></th>\n",
       "      <th>user</th>\n",
       "      <th>ascore</th>\n",
       "      <th>threat</th>\n",
       "    </tr>\n",
       "  </thead>\n",
       "  <tbody>\n",
       "    <tr>\n",
       "      <th>4</th>\n",
       "      <td>BCP0247</td>\n",
       "      <td>-0.025266</td>\n",
       "      <td>-1</td>\n",
       "    </tr>\n",
       "    <tr>\n",
       "      <th>29</th>\n",
       "      <td>LJW0776</td>\n",
       "      <td>-0.032163</td>\n",
       "      <td>-1</td>\n",
       "    </tr>\n",
       "    <tr>\n",
       "      <th>40</th>\n",
       "      <td>SBM0063</td>\n",
       "      <td>-0.044742</td>\n",
       "      <td>-1</td>\n",
       "    </tr>\n",
       "    <tr>\n",
       "      <th>46</th>\n",
       "      <td>ZBL0379</td>\n",
       "      <td>-0.034616</td>\n",
       "      <td>-1</td>\n",
       "    </tr>\n",
       "  </tbody>\n",
       "</table>\n",
       "</div>"
      ],
      "text/plain": [
       "       user    ascore  threat\n",
       "4   BCP0247 -0.025266      -1\n",
       "29  LJW0776 -0.032163      -1\n",
       "40  SBM0063 -0.044742      -1\n",
       "46  ZBL0379 -0.034616      -1"
      ]
     },
     "execution_count": 94,
     "metadata": {},
     "output_type": "execute_result"
    }
   ],
   "source": [
    "df_device_file_full_result.loc[df_device_file_full_result['ascore'] < 0] "
   ]
  },
  {
   "cell_type": "code",
   "execution_count": 95,
   "metadata": {
    "id": "vfjotkq8t4gt"
   },
   "outputs": [],
   "source": [
    "psychometric_matrix = df_psychometric_users_clean.drop(['user_id', 'employee_name'], axis = 1)\n",
    "psychometric_params = np.matrix(psychometric_matrix)"
   ]
  },
  {
   "cell_type": "code",
   "execution_count": 96,
   "metadata": {
    "id": "e64NduNPuEDN"
   },
   "outputs": [],
   "source": [
    "# # psycho ds \n",
    "# forest = IsolationForest(bootstrap=False, contamination=0.1, max_features=1.0,\n",
    "#         max_samples='auto', n_estimators=100, n_jobs=1, random_state=None,\n",
    "#         verbose=0)\n",
    "# forest.fit(psychometric_params)"
   ]
  },
  {
   "cell_type": "code",
   "execution_count": 97,
   "metadata": {
    "id": "5Li2kLwd2KUv"
   },
   "outputs": [],
   "source": [
    "# import pickle \n",
    "# with open('psychometric_params.pkl','wb') as file :\n",
    "#   pickle.dump(forest, file)"
   ]
  },
  {
   "cell_type": "code",
   "execution_count": 98,
   "metadata": {
    "id": "vV6Myef4uNwX"
   },
   "outputs": [],
   "source": [
    "# \n",
    "\n",
    "model4 = pickle.load(open('../pkl/psychometric_params.pkl', 'rb'))\n",
    "# df2=pd.DataFrame()\n",
    "log_ascore = model4.decision_function(psychometric_params)\n",
    "threat = model4.predict(psychometric_params)\n"
   ]
  },
  {
   "cell_type": "code",
   "execution_count": 99,
   "metadata": {
    "colab": {
     "base_uri": "https://localhost:8080/",
     "height": 424
    },
    "executionInfo": {
     "elapsed": 136,
     "status": "ok",
     "timestamp": 1632034257604,
     "user": {
      "displayName": "Suraj Sharma",
      "photoUrl": "https://lh3.googleusercontent.com/a/default-user=s64",
      "userId": "04526276601361747492"
     },
     "user_tz": -345
    },
    "id": "OrW7ZuzFuSdk",
    "outputId": "5a30a9a2-3591-403e-8207-b4fb892d5615"
   },
   "outputs": [
    {
     "data": {
      "text/html": [
       "<div>\n",
       "<style scoped>\n",
       "    .dataframe tbody tr th:only-of-type {\n",
       "        vertical-align: middle;\n",
       "    }\n",
       "\n",
       "    .dataframe tbody tr th {\n",
       "        vertical-align: top;\n",
       "    }\n",
       "\n",
       "    .dataframe thead th {\n",
       "        text-align: right;\n",
       "    }\n",
       "</style>\n",
       "<table border=\"1\" class=\"dataframe\">\n",
       "  <thead>\n",
       "    <tr style=\"text-align: right;\">\n",
       "      <th></th>\n",
       "      <th>user</th>\n",
       "      <th>ascore</th>\n",
       "      <th>threat</th>\n",
       "    </tr>\n",
       "  </thead>\n",
       "  <tbody>\n",
       "    <tr>\n",
       "      <th>0</th>\n",
       "      <td>BMT0903</td>\n",
       "      <td>0.055850</td>\n",
       "      <td>1</td>\n",
       "    </tr>\n",
       "    <tr>\n",
       "      <th>1</th>\n",
       "      <td>BMT0903</td>\n",
       "      <td>0.055850</td>\n",
       "      <td>1</td>\n",
       "    </tr>\n",
       "    <tr>\n",
       "      <th>2</th>\n",
       "      <td>BMT0903</td>\n",
       "      <td>0.055850</td>\n",
       "      <td>1</td>\n",
       "    </tr>\n",
       "    <tr>\n",
       "      <th>3</th>\n",
       "      <td>BMT0903</td>\n",
       "      <td>0.055850</td>\n",
       "      <td>1</td>\n",
       "    </tr>\n",
       "    <tr>\n",
       "      <th>4</th>\n",
       "      <td>BMT0903</td>\n",
       "      <td>0.055850</td>\n",
       "      <td>1</td>\n",
       "    </tr>\n",
       "    <tr>\n",
       "      <th>...</th>\n",
       "      <td>...</td>\n",
       "      <td>...</td>\n",
       "      <td>...</td>\n",
       "    </tr>\n",
       "    <tr>\n",
       "      <th>863</th>\n",
       "      <td>QLC0248</td>\n",
       "      <td>0.089814</td>\n",
       "      <td>1</td>\n",
       "    </tr>\n",
       "    <tr>\n",
       "      <th>864</th>\n",
       "      <td>QLC0248</td>\n",
       "      <td>0.089814</td>\n",
       "      <td>1</td>\n",
       "    </tr>\n",
       "    <tr>\n",
       "      <th>865</th>\n",
       "      <td>QLC0248</td>\n",
       "      <td>0.089814</td>\n",
       "      <td>1</td>\n",
       "    </tr>\n",
       "    <tr>\n",
       "      <th>866</th>\n",
       "      <td>QLC0248</td>\n",
       "      <td>0.089814</td>\n",
       "      <td>1</td>\n",
       "    </tr>\n",
       "    <tr>\n",
       "      <th>867</th>\n",
       "      <td>QLC0248</td>\n",
       "      <td>0.089814</td>\n",
       "      <td>1</td>\n",
       "    </tr>\n",
       "  </tbody>\n",
       "</table>\n",
       "<p>868 rows × 3 columns</p>\n",
       "</div>"
      ],
      "text/plain": [
       "        user    ascore  threat\n",
       "0    BMT0903  0.055850       1\n",
       "1    BMT0903  0.055850       1\n",
       "2    BMT0903  0.055850       1\n",
       "3    BMT0903  0.055850       1\n",
       "4    BMT0903  0.055850       1\n",
       "..       ...       ...     ...\n",
       "863  QLC0248  0.089814       1\n",
       "864  QLC0248  0.089814       1\n",
       "865  QLC0248  0.089814       1\n",
       "866  QLC0248  0.089814       1\n",
       "867  QLC0248  0.089814       1\n",
       "\n",
       "[868 rows x 3 columns]"
      ]
     },
     "execution_count": 99,
     "metadata": {},
     "output_type": "execute_result"
    }
   ],
   "source": [
    "df_psychometric_result = pd.DataFrame()\n",
    "\n",
    "df_psychometric_result['user'] = df_psychometric_users_clean['user_id']\n",
    "df_psychometric_result['ascore'] = log_ascore\n",
    "df_psychometric_result['threat']= threat\n",
    "df_psychometric_result.to_csv('../output/psychometric_result.csv', index=False)\n",
    "df_psychometric_result"
   ]
  },
  {
   "cell_type": "code",
   "execution_count": 100,
   "metadata": {
    "colab": {
     "base_uri": "https://localhost:8080/",
     "height": 424
    },
    "executionInfo": {
     "elapsed": 134,
     "status": "ok",
     "timestamp": 1632034257605,
     "user": {
      "displayName": "Suraj Sharma",
      "photoUrl": "https://lh3.googleusercontent.com/a/default-user=s64",
      "userId": "04526276601361747492"
     },
     "user_tz": -345
    },
    "id": "rs8lNxnFuV_i",
    "outputId": "e3d4e265-3918-40e7-8092-7ef9260bc1ce"
   },
   "outputs": [
    {
     "data": {
      "text/html": [
       "<div>\n",
       "<style scoped>\n",
       "    .dataframe tbody tr th:only-of-type {\n",
       "        vertical-align: middle;\n",
       "    }\n",
       "\n",
       "    .dataframe tbody tr th {\n",
       "        vertical-align: top;\n",
       "    }\n",
       "\n",
       "    .dataframe thead th {\n",
       "        text-align: right;\n",
       "    }\n",
       "</style>\n",
       "<table border=\"1\" class=\"dataframe\">\n",
       "  <thead>\n",
       "    <tr style=\"text-align: right;\">\n",
       "      <th></th>\n",
       "      <th>user</th>\n",
       "      <th>ascore</th>\n",
       "      <th>threat</th>\n",
       "    </tr>\n",
       "  </thead>\n",
       "  <tbody>\n",
       "    <tr>\n",
       "      <th>54</th>\n",
       "      <td>JAF0755</td>\n",
       "      <td>-0.010308</td>\n",
       "      <td>-1</td>\n",
       "    </tr>\n",
       "    <tr>\n",
       "      <th>55</th>\n",
       "      <td>JAF0755</td>\n",
       "      <td>-0.010308</td>\n",
       "      <td>-1</td>\n",
       "    </tr>\n",
       "    <tr>\n",
       "      <th>56</th>\n",
       "      <td>JAF0755</td>\n",
       "      <td>-0.010308</td>\n",
       "      <td>-1</td>\n",
       "    </tr>\n",
       "    <tr>\n",
       "      <th>57</th>\n",
       "      <td>JAF0755</td>\n",
       "      <td>-0.010308</td>\n",
       "      <td>-1</td>\n",
       "    </tr>\n",
       "    <tr>\n",
       "      <th>58</th>\n",
       "      <td>JAF0755</td>\n",
       "      <td>-0.010308</td>\n",
       "      <td>-1</td>\n",
       "    </tr>\n",
       "    <tr>\n",
       "      <th>...</th>\n",
       "      <td>...</td>\n",
       "      <td>...</td>\n",
       "      <td>...</td>\n",
       "    </tr>\n",
       "    <tr>\n",
       "      <th>809</th>\n",
       "      <td>DJH0245</td>\n",
       "      <td>-0.000770</td>\n",
       "      <td>-1</td>\n",
       "    </tr>\n",
       "    <tr>\n",
       "      <th>810</th>\n",
       "      <td>DJH0245</td>\n",
       "      <td>-0.000770</td>\n",
       "      <td>-1</td>\n",
       "    </tr>\n",
       "    <tr>\n",
       "      <th>811</th>\n",
       "      <td>DJH0245</td>\n",
       "      <td>-0.000770</td>\n",
       "      <td>-1</td>\n",
       "    </tr>\n",
       "    <tr>\n",
       "      <th>812</th>\n",
       "      <td>DJH0245</td>\n",
       "      <td>-0.000770</td>\n",
       "      <td>-1</td>\n",
       "    </tr>\n",
       "    <tr>\n",
       "      <th>813</th>\n",
       "      <td>DJH0245</td>\n",
       "      <td>-0.000770</td>\n",
       "      <td>-1</td>\n",
       "    </tr>\n",
       "  </tbody>\n",
       "</table>\n",
       "<p>144 rows × 3 columns</p>\n",
       "</div>"
      ],
      "text/plain": [
       "        user    ascore  threat\n",
       "54   JAF0755 -0.010308      -1\n",
       "55   JAF0755 -0.010308      -1\n",
       "56   JAF0755 -0.010308      -1\n",
       "57   JAF0755 -0.010308      -1\n",
       "58   JAF0755 -0.010308      -1\n",
       "..       ...       ...     ...\n",
       "809  DJH0245 -0.000770      -1\n",
       "810  DJH0245 -0.000770      -1\n",
       "811  DJH0245 -0.000770      -1\n",
       "812  DJH0245 -0.000770      -1\n",
       "813  DJH0245 -0.000770      -1\n",
       "\n",
       "[144 rows x 3 columns]"
      ]
     },
     "execution_count": 100,
     "metadata": {},
     "output_type": "execute_result"
    }
   ],
   "source": [
    "df_psychometric_result.loc[df_psychometric_result['ascore'] < 0]"
   ]
  },
  {
   "cell_type": "code",
   "execution_count": null,
   "metadata": {
    "id": "HqqEJFHuuesd"
   },
   "outputs": [],
   "source": []
  },
  {
   "cell_type": "code",
   "execution_count": 101,
   "metadata": {
    "id": "sB2xHREhvzMD"
   },
   "outputs": [],
   "source": [
    "df = pd.merge(df_log_on_off_stats, df_user_pc, on='user')"
   ]
  },
  {
   "cell_type": "code",
   "execution_count": null,
   "metadata": {
    "id": "7UtfQo7ExJLG"
   },
   "outputs": [],
   "source": []
  },
  {
   "cell_type": "code",
   "execution_count": 102,
   "metadata": {
    "id": "hqA4F16Av_nr"
   },
   "outputs": [],
   "source": [
    "df_1 = pd.merge(df, df_psychometric, left_on = 'user', right_on = 'user_id')"
   ]
  },
  {
   "cell_type": "code",
   "execution_count": 103,
   "metadata": {
    "colab": {
     "base_uri": "https://localhost:8080/",
     "height": 313
    },
    "executionInfo": {
     "elapsed": 134,
     "status": "ok",
     "timestamp": 1632034257612,
     "user": {
      "displayName": "Suraj Sharma",
      "photoUrl": "https://lh3.googleusercontent.com/a/default-user=s64",
      "userId": "04526276601361747492"
     },
     "user_tz": -345
    },
    "id": "MJftGvTbgluF",
    "outputId": "b9584110-00a2-4889-cd13-d62e13a20010"
   },
   "outputs": [
    {
     "data": {
      "text/html": [
       "<div>\n",
       "<style scoped>\n",
       "    .dataframe tbody tr th:only-of-type {\n",
       "        vertical-align: middle;\n",
       "    }\n",
       "\n",
       "    .dataframe tbody tr th {\n",
       "        vertical-align: top;\n",
       "    }\n",
       "\n",
       "    .dataframe thead th {\n",
       "        text-align: right;\n",
       "    }\n",
       "</style>\n",
       "<table border=\"1\" class=\"dataframe\">\n",
       "  <thead>\n",
       "    <tr style=\"text-align: right;\">\n",
       "      <th></th>\n",
       "      <th>user</th>\n",
       "      <th>on_min_ts</th>\n",
       "      <th>on_max_ts</th>\n",
       "      <th>on_mode_ts</th>\n",
       "      <th>on_mean_ts</th>\n",
       "      <th>off_min_ts</th>\n",
       "      <th>off_max_ts</th>\n",
       "      <th>off_mode_ts</th>\n",
       "      <th>off_mean_ts</th>\n",
       "      <th>count</th>\n",
       "      <th>employee_name</th>\n",
       "      <th>user_id</th>\n",
       "      <th>O</th>\n",
       "      <th>C</th>\n",
       "      <th>E</th>\n",
       "      <th>A</th>\n",
       "      <th>N</th>\n",
       "    </tr>\n",
       "  </thead>\n",
       "  <tbody>\n",
       "    <tr>\n",
       "      <th>0</th>\n",
       "      <td>ACL0394</td>\n",
       "      <td>32400</td>\n",
       "      <td>60757</td>\n",
       "      <td>33360</td>\n",
       "      <td>32400</td>\n",
       "      <td>32400</td>\n",
       "      <td>60757</td>\n",
       "      <td>33360</td>\n",
       "      <td>32400</td>\n",
       "      <td>2</td>\n",
       "      <td>Adam Clark Lindsey</td>\n",
       "      <td>ACL0394</td>\n",
       "      <td>25</td>\n",
       "      <td>44</td>\n",
       "      <td>18</td>\n",
       "      <td>19</td>\n",
       "      <td>17</td>\n",
       "    </tr>\n",
       "    <tr>\n",
       "      <th>1</th>\n",
       "      <td>AGP0775</td>\n",
       "      <td>27000</td>\n",
       "      <td>28500</td>\n",
       "      <td>27900</td>\n",
       "      <td>25200</td>\n",
       "      <td>27000</td>\n",
       "      <td>28500</td>\n",
       "      <td>27900</td>\n",
       "      <td>25200</td>\n",
       "      <td>1</td>\n",
       "      <td>Alden Gary Puckett</td>\n",
       "      <td>AGP0775</td>\n",
       "      <td>39</td>\n",
       "      <td>22</td>\n",
       "      <td>36</td>\n",
       "      <td>23</td>\n",
       "      <td>28</td>\n",
       "    </tr>\n",
       "    <tr>\n",
       "      <th>2</th>\n",
       "      <td>AJQ0376</td>\n",
       "      <td>29820</td>\n",
       "      <td>30960</td>\n",
       "      <td>30600</td>\n",
       "      <td>28800</td>\n",
       "      <td>29820</td>\n",
       "      <td>30960</td>\n",
       "      <td>30600</td>\n",
       "      <td>28800</td>\n",
       "      <td>1</td>\n",
       "      <td>Aquila Jasper Quinn</td>\n",
       "      <td>AJQ0376</td>\n",
       "      <td>17</td>\n",
       "      <td>35</td>\n",
       "      <td>28</td>\n",
       "      <td>23</td>\n",
       "      <td>30</td>\n",
       "    </tr>\n",
       "    <tr>\n",
       "      <th>3</th>\n",
       "      <td>AJR0231</td>\n",
       "      <td>27060</td>\n",
       "      <td>70714</td>\n",
       "      <td>27900</td>\n",
       "      <td>32400</td>\n",
       "      <td>27060</td>\n",
       "      <td>70714</td>\n",
       "      <td>27900</td>\n",
       "      <td>32400</td>\n",
       "      <td>21</td>\n",
       "      <td>Amethyst Jillian Reed</td>\n",
       "      <td>AJR0231</td>\n",
       "      <td>43</td>\n",
       "      <td>41</td>\n",
       "      <td>13</td>\n",
       "      <td>21</td>\n",
       "      <td>30</td>\n",
       "    </tr>\n",
       "    <tr>\n",
       "      <th>4</th>\n",
       "      <td>ALC0100</td>\n",
       "      <td>25200</td>\n",
       "      <td>67486</td>\n",
       "      <td>26340</td>\n",
       "      <td>32400</td>\n",
       "      <td>25200</td>\n",
       "      <td>67486</td>\n",
       "      <td>26340</td>\n",
       "      <td>32400</td>\n",
       "      <td>14</td>\n",
       "      <td>Arden Leo Chase</td>\n",
       "      <td>ALC0100</td>\n",
       "      <td>11</td>\n",
       "      <td>38</td>\n",
       "      <td>14</td>\n",
       "      <td>48</td>\n",
       "      <td>28</td>\n",
       "    </tr>\n",
       "  </tbody>\n",
       "</table>\n",
       "</div>"
      ],
      "text/plain": [
       "      user  on_min_ts  on_max_ts  on_mode_ts  on_mean_ts  off_min_ts  \\\n",
       "0  ACL0394      32400      60757       33360       32400       32400   \n",
       "1  AGP0775      27000      28500       27900       25200       27000   \n",
       "2  AJQ0376      29820      30960       30600       28800       29820   \n",
       "3  AJR0231      27060      70714       27900       32400       27060   \n",
       "4  ALC0100      25200      67486       26340       32400       25200   \n",
       "\n",
       "   off_max_ts  off_mode_ts  off_mean_ts  count          employee_name  \\\n",
       "0       60757        33360        32400      2     Adam Clark Lindsey   \n",
       "1       28500        27900        25200      1     Alden Gary Puckett   \n",
       "2       30960        30600        28800      1    Aquila Jasper Quinn   \n",
       "3       70714        27900        32400     21  Amethyst Jillian Reed   \n",
       "4       67486        26340        32400     14        Arden Leo Chase   \n",
       "\n",
       "   user_id   O   C   E   A   N  \n",
       "0  ACL0394  25  44  18  19  17  \n",
       "1  AGP0775  39  22  36  23  28  \n",
       "2  AJQ0376  17  35  28  23  30  \n",
       "3  AJR0231  43  41  13  21  30  \n",
       "4  ALC0100  11  38  14  48  28  "
      ]
     },
     "execution_count": 103,
     "metadata": {},
     "output_type": "execute_result"
    }
   ],
   "source": [
    "df_1.head()"
   ]
  },
  {
   "cell_type": "code",
   "execution_count": 104,
   "metadata": {
    "id": "RBVsYhZByXpG"
   },
   "outputs": [],
   "source": [
    "df_final = df_1.drop(['employee_name', 'user_id'], axis=1)\n"
   ]
  },
  {
   "cell_type": "code",
   "execution_count": 105,
   "metadata": {
    "id": "TsqN8B6syimi"
   },
   "outputs": [],
   "source": [
    "df_all_parameters = df_final"
   ]
  },
  {
   "cell_type": "code",
   "execution_count": 106,
   "metadata": {
    "id": "m8EvKveVyntR"
   },
   "outputs": [],
   "source": [
    "df_all_parameters_input = df_all_parameters.drop(['user'], axis = 1)"
   ]
  },
  {
   "cell_type": "code",
   "execution_count": 107,
   "metadata": {
    "colab": {
     "base_uri": "https://localhost:8080/"
    },
    "executionInfo": {
     "elapsed": 133,
     "status": "ok",
     "timestamp": 1632034257617,
     "user": {
      "displayName": "Suraj Sharma",
      "photoUrl": "https://lh3.googleusercontent.com/a/default-user=s64",
      "userId": "04526276601361747492"
     },
     "user_tz": -345
    },
    "id": "rl8DnpY4y_vS",
    "outputId": "0cdc1745-a461-4965-b702-86cfb1ad8448"
   },
   "outputs": [
    {
     "name": "stdout",
     "output_type": "stream",
     "text": [
      "    on_min_ts  on_max_ts  on_mode_ts  on_mean_ts  off_min_ts  off_max_ts  \\\n",
      "0       32400      60757       33360       32400       32400       60757   \n",
      "1       27000      28500       27900       25200       27000       28500   \n",
      "2       29820      30960       30600       28800       29820       30960   \n",
      "3       27060      70714       27900       32400       27060       70714   \n",
      "4       25200      67486       26340       32400       25200       67486   \n",
      "5       27060      28260       28080       25200       27060       28260   \n",
      "6        1190      85217       28800       36000        1190       85217   \n",
      "7       29700      31380       31320       28800       29700       31380   \n",
      "8       27900      50573       28920       32400       27900       50573   \n",
      "9       27000      28080       27900       25200       27000       28080   \n",
      "10       5957      85207       28980       32400        5957       85207   \n",
      "11      27900      50895       28380       32400       27900       50895   \n",
      "12      25260      26340       26100       25200       25260       26340   \n",
      "13      27000      49387       27900       28800       27000       49387   \n",
      "14      27960      29100       28800       25200       27960       29100   \n",
      "15      27900      29580       28440       25200       27900       29580   \n",
      "16      25200      26520       26160       25200       25200       26520   \n",
      "17      27000      63301       28080       36000       27000       63301   \n",
      "18      27900      50045       28800       32400       27900       50045   \n",
      "19      27060      28020       27900       25200       27060       28020   \n",
      "20      27900      29460       29460       25200       27900       29460   \n",
      "21      27000      28020       27900       25200       27000       28020   \n",
      "22      27900      29100       28800       25200       27900       29100   \n",
      "23      27000      28740       28380       25200       27000       28740   \n",
      "24      29700      30900       30600       28800       29700       30900   \n",
      "25      27900      29640       29520       25200       27900       29640   \n",
      "26      30600      60445       31500       36000       30600       60445   \n",
      "27      25200      26400       26100       25200       25200       26400   \n",
      "28      29700      52169       30600       36000       29700       52169   \n",
      "29      25560      26100       26100       25200       25560       26100   \n",
      "30      29700      30780       30780       28800       29700       30780   \n",
      "31      29700      70384       30180       28800       29700       70384   \n",
      "32      27000      28680       28020       25200       27000       28680   \n",
      "33      28800      30240       29820       28800       28800       30240   \n",
      "34      25200      26280       26220       25200       25200       26280   \n",
      "35      27900      28920       28920       25200       27900       28920   \n",
      "36      27900      29400       29040       25200       27900       29400   \n",
      "37      27000      28200       28020       25200       27000       28200   \n",
      "38      30600      47127       31500       28800       30600       47127   \n",
      "39      30600      31800       31500       28800       30600       31800   \n",
      "40      29760      30600       30600       28800       29760       30600   \n",
      "41       1447      85033       29040       32400        1447       85033   \n",
      "42      27900      29460       28860       25200       27900       29460   \n",
      "43      25200      51333       26460       25200       25200       51333   \n",
      "44      29700      52182       30600       36000       29700       52182   \n",
      "45      27000      27900       27900       25200       27000       27900   \n",
      "46      27000      62501       27900       32400       27000       62501   \n",
      "47      32400      33540       33420       32400       32400       33540   \n",
      "48      25200      67815       26100       28800       25200       67815   \n",
      "49      25200      26280       26160       25200       25200       26280   \n",
      "\n",
      "    off_mode_ts  off_mean_ts  count   O   C   E   A   N  \n",
      "0         33360        32400      2  25  44  18  19  17  \n",
      "1         27900        25200      1  39  22  36  23  28  \n",
      "2         30600        28800      1  17  35  28  23  30  \n",
      "3         27900        32400     21  43  41  13  21  30  \n",
      "4         26340        32400     14  11  38  14  48  28  \n",
      "5         28080        25200      1  24  34  26  10  30  \n",
      "6         28800        36000      1  30  34  17  15  23  \n",
      "7         31320        28800      1  19  15  22  20  29  \n",
      "8         28920        32400      1  14  37  23  40  27  \n",
      "9         27900        25200      1  18  43  15  36  25  \n",
      "10        28980        32400      2  32  30  27  36  27  \n",
      "11        28380        32400      1  42  21  16  21  31  \n",
      "12        26100        25200      1  10  39  45  22  35  \n",
      "13        27900        28800      1  19  22  30  24  35  \n",
      "14        28800        25200      1  35  37  18  21  26  \n",
      "15        28440        25200      1  13  13  17  20  30  \n",
      "16        26160        25200      1  41  32  16  14  22  \n",
      "17        28080        36000      2  30  43  40  30  29  \n",
      "18        28800        32400      1  47  38  30  15  27  \n",
      "19        27900        25200      1  48  45  14  30  22  \n",
      "20        29460        25200      1  36  21  37  36  32  \n",
      "21        27900        25200      1  39  44  27  17  31  \n",
      "22        28800        25200      1  38  37  13  18  30  \n",
      "23        28380        25200      1  16  13  22  46  24  \n",
      "24        30600        28800      1  20  36  38  35  13  \n",
      "25        29520        25200      1  42  12  37  33  37  \n",
      "26        31500        36000      2  36  40  39  44  28  \n",
      "27        26100        25200      1  39  37  33  24  29  \n",
      "28        30600        36000      1  41  48  19  23  36  \n",
      "29        26100        25200      1  39  50  22  23  25  \n",
      "30        30780        28800      1  43  43  33  22  31  \n",
      "31        30180        28800      2  14  11  20  34  30  \n",
      "32        28020        25200      1  41  15  21  18  32  \n",
      "33        29820        28800      1  45  26  30  40  20  \n",
      "34        26220        25200      1  23  41  17  27  25  \n",
      "35        28920        25200      1  30  44  39  27  27  \n",
      "36        29040        25200      1  42  23  38  10  24  \n",
      "37        28020        25200      1  40  37  17  22  24  \n",
      "38        31500        28800      2  31  26  24  22  32  \n",
      "39        31500        28800      1  42  37  40  26  30  \n",
      "40        30600        28800      1  42  50  22  20  26  \n",
      "41        29040        32400      2  39  39  26  24  34  \n",
      "42        28860        25200      1  15  21  44  16  44  \n",
      "43        26460        25200      3  34  34  15  23  31  \n",
      "44        30600        36000      1  40  40  15  22  17  \n",
      "45        27900        25200      1  44  50  20  15  27  \n",
      "46        27900        32400      2  38  36  43  29  30  \n",
      "47        33420        32400      1  42  39  10  18  26  \n",
      "48        26100        28800      2  42  10  41  18  29  \n",
      "49        26160        25200      1  40  42  14  10  24  \n"
     ]
    }
   ],
   "source": [
    "print(df_all_parameters_input)"
   ]
  },
  {
   "cell_type": "code",
   "execution_count": 108,
   "metadata": {
    "id": "tcx7VO2JziIK"
   },
   "outputs": [],
   "source": [
    "# # psycho logon ds\n",
    "# forest = IsolationForest(bootstrap=False, contamination=0.1, max_features=1.0,\n",
    "#         max_samples='auto', n_estimators=100, n_jobs=1, random_state=None,\n",
    "#         verbose=0)\n",
    "# forest.fit(df_all_parameters_input)"
   ]
  },
  {
   "cell_type": "code",
   "execution_count": 109,
   "metadata": {
    "id": "QUVlE_eu2QfD"
   },
   "outputs": [],
   "source": [
    "# import pickle \n",
    "# with open('all_parameters_input.pkl','wb') as file :\n",
    "#   pickle.dump(forest, file)"
   ]
  },
  {
   "cell_type": "code",
   "execution_count": 110,
   "metadata": {
    "id": "P4_ca2dvztK6"
   },
   "outputs": [],
   "source": [
    "# \n",
    "\n",
    "model5 = pickle.load(open('../pkl/all_parameters_input.pkl', 'rb'))\n",
    "# df2=pd.DataFrame()\n",
    "log_ascore = model5.decision_function(df_all_parameters_input)\n",
    "threat = model5.predict(df_all_parameters_input)\n"
   ]
  },
  {
   "cell_type": "code",
   "execution_count": 111,
   "metadata": {
    "colab": {
     "base_uri": "https://localhost:8080/"
    },
    "executionInfo": {
     "elapsed": 3091,
     "status": "ok",
     "timestamp": 1632034260601,
     "user": {
      "displayName": "Suraj Sharma",
      "photoUrl": "https://lh3.googleusercontent.com/a/default-user=s64",
      "userId": "04526276601361747492"
     },
     "user_tz": -345
    },
    "id": "0J2Yg4qNzxeR",
    "outputId": "43b7ea83-340b-4600-d648-5bf3d3e231b0"
   },
   "outputs": [
    {
     "name": "stdout",
     "output_type": "stream",
     "text": [
      "       user    ascore  threat\n",
      "0   ACL0394 -0.003225      -1\n",
      "1   AGP0775  0.135238       1\n",
      "2   AJQ0376  0.095480       1\n",
      "3   AJR0231  0.047736       1\n",
      "4   ALC0100 -0.053868      -1\n",
      "5   AWW0784  0.107327       1\n",
      "6   BCP0247 -0.034859      -1\n",
      "7   BMT0903  0.080123       1\n",
      "8   BPH0243  0.095634       1\n",
      "9   BQK0526  0.102748       1\n",
      "10  CAE0080 -0.000947      -1\n",
      "11  CEP0238  0.108498       1\n",
      "12  CGP0271 -0.021654      -1\n",
      "13  CJG0059  0.082087       1\n",
      "14  CJV0236  0.130765       1\n",
      "15  DJH0245  0.084275       1\n",
      "16  DRH0268  0.009309       1\n",
      "17  DWC0525  0.059508       1\n",
      "18  EAD0651  0.109488       1\n",
      "19  ETK0783  0.084516       1\n",
      "20  GOG0650  0.113461       1\n",
      "21  HKK0363  0.127950       1\n",
      "22  HOA0074  0.125071       1\n",
      "23  JAF0755  0.075980       1\n",
      "24  JEC0387  0.060099       1\n",
      "25  JMT0232  0.066355       1\n",
      "26  JNW0252  0.040094       1\n",
      "27  KCS0267  0.060643       1\n",
      "28  KMJ0392  0.057290       1\n",
      "29  KSM0099  0.030667       1\n",
      "30  KTP0385  0.114525       1\n",
      "31  KWH0391  0.025535       1\n",
      "32  LDC0229  0.120197       1\n",
      "33  LML0259  0.088691       1\n",
      "34  MCB0104  0.017097       1\n",
      "35  MHH0652  0.120518       1\n",
      "36  MLG0658  0.103628       1\n",
      "37  NGF0226  0.133623       1\n",
      "38  NST0254  0.064782       1\n",
      "39  NXG0085  0.083417       1\n",
      "40  QCF0390  0.099479       1\n",
      "41  QLC0248  0.024725       1\n",
      "42  RBH0654  0.058867       1\n",
      "43  RCG0105  0.008591       1\n",
      "44  RMA0911  0.039280       1\n",
      "45  SAB0372  0.098163       1\n",
      "46  SVM0538  0.114853       1\n",
      "47  WAF0395  0.025157       1\n",
      "48  WXW0044  0.002057       1\n",
      "49  XRE0273  0.001448       1\n"
     ]
    }
   ],
   "source": [
    "df_all_parameters_result = pd.DataFrame()\n",
    "\n",
    "df_all_parameters_result['user'] = df_final['user']\n",
    "df_all_parameters_result['ascore'] =log_ascore\n",
    "df_all_parameters_result['threat'] = threat\n",
    "print(df_all_parameters_result)\n",
    "df_all_parameters_result.to_csv('../output/all_parameters_result.csv', index=False)"
   ]
  },
  {
   "cell_type": "code",
   "execution_count": null,
   "metadata": {
    "id": "ovb2P5dLz5IJ"
   },
   "outputs": [],
   "source": []
  },
  {
   "cell_type": "code",
   "execution_count": null,
   "metadata": {
    "id": "fRy5d3t9z-FS"
   },
   "outputs": [],
   "source": []
  }
 ],
 "metadata": {
  "colab": {
   "collapsed_sections": [],
   "name": "Insider threat_testing.ipynb",
   "provenance": [
    {
     "file_id": "11Gq-1OCENZ1bvB12hDskSYbbeHngaeE_",
     "timestamp": 1631975510611
    }
   ]
  },
  "kernelspec": {
   "display_name": "Python 3 (ipykernel)",
   "language": "python",
   "name": "python3"
  },
  "language_info": {
   "codemirror_mode": {
    "name": "ipython",
    "version": 3
   },
   "file_extension": ".py",
   "mimetype": "text/x-python",
   "name": "python",
   "nbconvert_exporter": "python",
   "pygments_lexer": "ipython3",
   "version": "3.9.6"
  }
 },
 "nbformat": 4,
 "nbformat_minor": 1
}
