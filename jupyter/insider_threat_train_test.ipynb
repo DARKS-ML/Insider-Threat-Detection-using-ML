{
 "cells": [
  {
   "cell_type": "code",
   "execution_count": 1,
   "metadata": {
    "colab": {
     "base_uri": "https://localhost:8080/"
    },
    "executionInfo": {
     "elapsed": 188007,
     "status": "ok",
     "timestamp": 1631974575691,
     "user": {
      "displayName": "Suraj Sharma",
      "photoUrl": "https://lh3.googleusercontent.com/a/default-user=s64",
      "userId": "04526276601361747492"
     },
     "user_tz": -345
    },
    "id": "wij_6UxvaCgD",
    "outputId": "745b439f-1222-4c2b-bdb0-00adc91919b6"
   },
   "outputs": [],
   "source": [
    "# from google.colab import drive\n",
    "# drive.mount('/content/gdrive')\n"
   ]
  },
  {
   "cell_type": "code",
   "execution_count": 2,
   "metadata": {
    "executionInfo": {
     "elapsed": 43,
     "status": "ok",
     "timestamp": 1631974575697,
     "user": {
      "displayName": "Suraj Sharma",
      "photoUrl": "https://lh3.googleusercontent.com/a/default-user=s64",
      "userId": "04526276601361747492"
     },
     "user_tz": -345
    },
    "id": "n9Cev7cmaFhr"
   },
   "outputs": [],
   "source": [
    "import pandas as pd\n",
    "import numpy as np\n",
    "from sklearn.model_selection import train_test_split"
   ]
  },
  {
   "cell_type": "code",
   "execution_count": 3,
   "metadata": {
    "executionInfo": {
     "elapsed": 35,
     "status": "ok",
     "timestamp": 1631974575699,
     "user": {
      "displayName": "Suraj Sharma",
      "photoUrl": "https://lh3.googleusercontent.com/a/default-user=s64",
      "userId": "04526276601361747492"
     },
     "user_tz": -345
    },
    "id": "PcX_UU9igM7J"
   },
   "outputs": [],
   "source": [
    "# path = \"/content/gdrive/MyDrive/dataset/\"\n",
    "path=\"../dataset new/\""
   ]
  },
  {
   "cell_type": "code",
   "execution_count": 4,
   "metadata": {
    "executionInfo": {
     "elapsed": 2025,
     "status": "ok",
     "timestamp": 1631974577694,
     "user": {
      "displayName": "Suraj Sharma",
      "photoUrl": "https://lh3.googleusercontent.com/a/default-user=s64",
      "userId": "04526276601361747492"
     },
     "user_tz": -345
    },
    "id": "xOTXUo0-arwM"
   },
   "outputs": [],
   "source": [
    "df_users_full = pd.read_csv(path + \"users.csv\")\n",
    "df_users1 = df_users_full[[\"user_id\",\"functional_unit\",\"department\"]]\n",
    "df_users = df_users1[df_users1.functional_unit == \"2 - ResearchAndEngineering\"]\n",
    "df_users = df_users[(df_users.department != \"1 - Research\")]\n",
    "df_users = pd.DataFrame(df_users)"
   ]
  },
  {
   "cell_type": "code",
   "execution_count": 5,
   "metadata": {
    "colab": {
     "base_uri": "https://localhost:8080/",
     "height": 424
    },
    "executionInfo": {
     "elapsed": 70,
     "status": "ok",
     "timestamp": 1631974577698,
     "user": {
      "displayName": "Suraj Sharma",
      "photoUrl": "https://lh3.googleusercontent.com/a/default-user=s64",
      "userId": "04526276601361747492"
     },
     "user_tz": -345
    },
    "id": "yj40AovFedSI",
    "outputId": "74e412df-6e8d-4fac-dbeb-25349a8c73d4"
   },
   "outputs": [
    {
     "data": {
      "text/html": [
       "<div>\n",
       "<style scoped>\n",
       "    .dataframe tbody tr th:only-of-type {\n",
       "        vertical-align: middle;\n",
       "    }\n",
       "\n",
       "    .dataframe tbody tr th {\n",
       "        vertical-align: top;\n",
       "    }\n",
       "\n",
       "    .dataframe thead th {\n",
       "        text-align: right;\n",
       "    }\n",
       "</style>\n",
       "<table border=\"1\" class=\"dataframe\">\n",
       "  <thead>\n",
       "    <tr style=\"text-align: right;\">\n",
       "      <th></th>\n",
       "      <th>user_id</th>\n",
       "      <th>functional_unit</th>\n",
       "      <th>department</th>\n",
       "    </tr>\n",
       "  </thead>\n",
       "  <tbody>\n",
       "    <tr>\n",
       "      <th>8</th>\n",
       "      <td>HBB0090</td>\n",
       "      <td>2 - ResearchAndEngineering</td>\n",
       "      <td>3 - Engineering</td>\n",
       "    </tr>\n",
       "    <tr>\n",
       "      <th>10</th>\n",
       "      <td>QCF0390</td>\n",
       "      <td>2 - ResearchAndEngineering</td>\n",
       "      <td>3 - Engineering</td>\n",
       "    </tr>\n",
       "    <tr>\n",
       "      <th>11</th>\n",
       "      <td>JDD0087</td>\n",
       "      <td>2 - ResearchAndEngineering</td>\n",
       "      <td>3 - Engineering</td>\n",
       "    </tr>\n",
       "    <tr>\n",
       "      <th>12</th>\n",
       "      <td>AAN0077</td>\n",
       "      <td>2 - ResearchAndEngineering</td>\n",
       "      <td>3 - Engineering</td>\n",
       "    </tr>\n",
       "    <tr>\n",
       "      <th>13</th>\n",
       "      <td>GJP0098</td>\n",
       "      <td>2 - ResearchAndEngineering</td>\n",
       "      <td>3 - Engineering</td>\n",
       "    </tr>\n",
       "    <tr>\n",
       "      <th>...</th>\n",
       "      <td>...</td>\n",
       "      <td>...</td>\n",
       "      <td>...</td>\n",
       "    </tr>\n",
       "    <tr>\n",
       "      <th>17318</th>\n",
       "      <td>KRM0241</td>\n",
       "      <td>2 - ResearchAndEngineering</td>\n",
       "      <td>3 - Engineering</td>\n",
       "    </tr>\n",
       "    <tr>\n",
       "      <th>17320</th>\n",
       "      <td>ORC0907</td>\n",
       "      <td>2 - ResearchAndEngineering</td>\n",
       "      <td>2 - SoftwareManagement</td>\n",
       "    </tr>\n",
       "    <tr>\n",
       "      <th>17325</th>\n",
       "      <td>REM0274</td>\n",
       "      <td>2 - ResearchAndEngineering</td>\n",
       "      <td>3 - Engineering</td>\n",
       "    </tr>\n",
       "    <tr>\n",
       "      <th>17332</th>\n",
       "      <td>QKA0388</td>\n",
       "      <td>2 - ResearchAndEngineering</td>\n",
       "      <td>3 - Engineering</td>\n",
       "    </tr>\n",
       "    <tr>\n",
       "      <th>17333</th>\n",
       "      <td>GGK0375</td>\n",
       "      <td>2 - ResearchAndEngineering</td>\n",
       "      <td>3 - Engineering</td>\n",
       "    </tr>\n",
       "  </tbody>\n",
       "</table>\n",
       "<p>4027 rows × 3 columns</p>\n",
       "</div>"
      ],
      "text/plain": [
       "       user_id             functional_unit              department\n",
       "8      HBB0090  2 - ResearchAndEngineering         3 - Engineering\n",
       "10     QCF0390  2 - ResearchAndEngineering         3 - Engineering\n",
       "11     JDD0087  2 - ResearchAndEngineering         3 - Engineering\n",
       "12     AAN0077  2 - ResearchAndEngineering         3 - Engineering\n",
       "13     GJP0098  2 - ResearchAndEngineering         3 - Engineering\n",
       "...        ...                         ...                     ...\n",
       "17318  KRM0241  2 - ResearchAndEngineering         3 - Engineering\n",
       "17320  ORC0907  2 - ResearchAndEngineering  2 - SoftwareManagement\n",
       "17325  REM0274  2 - ResearchAndEngineering         3 - Engineering\n",
       "17332  QKA0388  2 - ResearchAndEngineering         3 - Engineering\n",
       "17333  GGK0375  2 - ResearchAndEngineering         3 - Engineering\n",
       "\n",
       "[4027 rows x 3 columns]"
      ]
     },
     "execution_count": 5,
     "metadata": {},
     "output_type": "execute_result"
    }
   ],
   "source": [
    "df_users"
   ]
  },
  {
   "cell_type": "code",
   "execution_count": 6,
   "metadata": {
    "colab": {
     "base_uri": "https://localhost:8080/"
    },
    "executionInfo": {
     "elapsed": 60,
     "status": "ok",
     "timestamp": 1631974577702,
     "user": {
      "displayName": "Suraj Sharma",
      "photoUrl": "https://lh3.googleusercontent.com/a/default-user=s64",
      "userId": "04526276601361747492"
     },
     "user_tz": -345
    },
    "id": "eGo4DX9Gczki",
    "outputId": "48c3e3f7-3b4e-4d17-8701-65af7dd013ef"
   },
   "outputs": [
    {
     "name": "stdout",
     "output_type": "stream",
     "text": [
      "<class 'pandas.core.frame.DataFrame'>\n",
      "Int64Index: 3991 entries, 8 to 17333\n",
      "Data columns (total 3 columns):\n",
      " #   Column           Non-Null Count  Dtype \n",
      "---  ------           --------------  ----- \n",
      " 0   user_id          3991 non-null   object\n",
      " 1   functional_unit  3991 non-null   object\n",
      " 2   department       3991 non-null   object\n",
      "dtypes: object(3)\n",
      "memory usage: 124.7+ KB\n"
     ]
    }
   ],
   "source": [
    "df_users = df_users.dropna(axis = 0)\n",
    "df_users.info()"
   ]
  },
  {
   "cell_type": "code",
   "execution_count": 7,
   "metadata": {
    "executionInfo": {
     "elapsed": 47,
     "status": "ok",
     "timestamp": 1631974577706,
     "user": {
      "displayName": "Suraj Sharma",
      "photoUrl": "https://lh3.googleusercontent.com/a/default-user=s64",
      "userId": "04526276601361747492"
     },
     "user_tz": -345
    },
    "id": "TU8PLfADepqY"
   },
   "outputs": [],
   "source": [
    "df_device_init = pd.read_csv(path + \"device.csv\")\n",
    "df_device, df_device_test = train_test_split(df_device_init,test_size=0.2, random_state=42)\n",
    "df_device_test.to_csv('../testing/device_test.csv')"
   ]
  },
  {
   "cell_type": "code",
   "execution_count": 8,
   "metadata": {
    "executionInfo": {
     "elapsed": 6725,
     "status": "ok",
     "timestamp": 1631974584393,
     "user": {
      "displayName": "Suraj Sharma",
      "photoUrl": "https://lh3.googleusercontent.com/a/default-user=s64",
      "userId": "04526276601361747492"
     },
     "user_tz": -345
    },
    "id": "lJekvpRShBh6"
   },
   "outputs": [],
   "source": [
    "df_file_init = pd.read_csv(path + \"file.csv\")\n",
    "df_file, df_file_test = train_test_split(df_file_init,test_size=0.2, random_state=42)\n",
    "df_file_test.to_csv('../testing/file_test.csv')"
   ]
  },
  {
   "cell_type": "code",
   "execution_count": 9,
   "metadata": {
    "executionInfo": {
     "elapsed": 1187,
     "status": "ok",
     "timestamp": 1631974585574,
     "user": {
      "displayName": "Suraj Sharma",
      "photoUrl": "https://lh3.googleusercontent.com/a/default-user=s64",
      "userId": "04526276601361747492"
     },
     "user_tz": -345
    },
    "id": "in4qMPtahbat"
   },
   "outputs": [],
   "source": [
    "df_logon_init = pd.read_csv(path + \"logon.csv\")\n",
    "df_logon, df_logon_test = train_test_split(df_logon_init,test_size=0.2, random_state=42)\n",
    "df_logon_test.to_csv('../testing/logon_test.csv')"
   ]
  },
  {
   "cell_type": "code",
   "execution_count": 10,
   "metadata": {
    "executionInfo": {
     "elapsed": 1332,
     "status": "ok",
     "timestamp": 1631974586892,
     "user": {
      "displayName": "Suraj Sharma",
      "photoUrl": "https://lh3.googleusercontent.com/a/default-user=s64",
      "userId": "04526276601361747492"
     },
     "user_tz": -345
    },
    "id": "eobo2cJxhi7x"
   },
   "outputs": [],
   "source": [
    "df_psychometric_init = pd.read_csv(path + \"psychometric.csv\")\n",
    "df_psychometric_init = df_psychometric_init[['employee_name','user_id','O','C','E', 'A', 'N']]\n",
    "df_psychometric, df_psychometric_test = train_test_split(df_psychometric_init,test_size=0.2, random_state=42)\n",
    "df_psychometric_test.to_csv('../testing/psychometric_test.csv')"
   ]
  },
  {
   "cell_type": "code",
   "execution_count": 11,
   "metadata": {
    "executionInfo": {
     "elapsed": 19,
     "status": "ok",
     "timestamp": 1631974586894,
     "user": {
      "displayName": "Suraj Sharma",
      "photoUrl": "https://lh3.googleusercontent.com/a/default-user=s64",
      "userId": "04526276601361747492"
     },
     "user_tz": -345
    },
    "id": "Tgn9ocmgiLNY"
   },
   "outputs": [],
   "source": [
    "df_users_clean = df_users.rename(columns= {'user_id':'user'}, inplace=False)"
   ]
  },
  {
   "cell_type": "code",
   "execution_count": 12,
   "metadata": {
    "executionInfo": {
     "elapsed": 18,
     "status": "ok",
     "timestamp": 1631974586898,
     "user": {
      "displayName": "Suraj Sharma",
      "photoUrl": "https://lh3.googleusercontent.com/a/default-user=s64",
      "userId": "04526276601361747492"
     },
     "user_tz": -345
    },
    "id": "FmP8jIxvjlLP"
   },
   "outputs": [],
   "source": [
    "df_logon_users = pd.merge(df_logon, df_users_clean, on = 'user')\n",
    "df_logon_users_clean = df_logon_users.drop(columns=['functional_unit', 'department'])\n"
   ]
  },
  {
   "cell_type": "code",
   "execution_count": 13,
   "metadata": {
    "executionInfo": {
     "elapsed": 868,
     "status": "ok",
     "timestamp": 1631974587751,
     "user": {
      "displayName": "Suraj Sharma",
      "photoUrl": "https://lh3.googleusercontent.com/a/default-user=s64",
      "userId": "04526276601361747492"
     },
     "user_tz": -345
    },
    "id": "UrMWJ9HxkND6"
   },
   "outputs": [],
   "source": [
    "df_device_users = pd.merge(df_device, df_users_clean, on='user')\n",
    "df_device_users_clean = df_device_users.drop(columns=['functional_unit','department'])"
   ]
  },
  {
   "cell_type": "code",
   "execution_count": 14,
   "metadata": {
    "executionInfo": {
     "elapsed": 1657,
     "status": "ok",
     "timestamp": 1631974589399,
     "user": {
      "displayName": "Suraj Sharma",
      "photoUrl": "https://lh3.googleusercontent.com/a/default-user=s64",
      "userId": "04526276601361747492"
     },
     "user_tz": -345
    },
    "id": "ANzvOpCzld8Q"
   },
   "outputs": [],
   "source": [
    "df_device_users = pd.merge(df_device, df_users_clean, on = 'user')\n",
    "df_device_users_clean = df_device_users.drop(columns = ['functional_unit', 'department'])\n"
   ]
  },
  {
   "cell_type": "code",
   "execution_count": 15,
   "metadata": {
    "executionInfo": {
     "elapsed": 23,
     "status": "ok",
     "timestamp": 1631974589401,
     "user": {
      "displayName": "Suraj Sharma",
      "photoUrl": "https://lh3.googleusercontent.com/a/default-user=s64",
      "userId": "04526276601361747492"
     },
     "user_tz": -345
    },
    "id": "Dxe2BR0Xl63k"
   },
   "outputs": [],
   "source": [
    "df_file_users = pd.merge(df_file, df_users_clean, on = 'user')\n",
    "df_file_users_clean = df_file_users.drop(columns = ['functional_unit', 'department'])\n"
   ]
  },
  {
   "cell_type": "code",
   "execution_count": 16,
   "metadata": {
    "executionInfo": {
     "elapsed": 21,
     "status": "ok",
     "timestamp": 1631974589403,
     "user": {
      "displayName": "Suraj Sharma",
      "photoUrl": "https://lh3.googleusercontent.com/a/default-user=s64",
      "userId": "04526276601361747492"
     },
     "user_tz": -345
    },
    "id": "MDykw7I_mSgi"
   },
   "outputs": [],
   "source": [
    "df_psychometric_users = pd.merge(df_psychometric, df_users, on = 'user_id')\n",
    "df_psychometric_users_clean = df_psychometric_users[['employee_name', 'user_id','O', 'C', 'E','A','N']]\n"
   ]
  },
  {
   "cell_type": "code",
   "execution_count": null,
   "metadata": {
    "executionInfo": {
     "elapsed": 21,
     "status": "ok",
     "timestamp": 1631974589405,
     "user": {
      "displayName": "Suraj Sharma",
      "photoUrl": "https://lh3.googleusercontent.com/a/default-user=s64",
      "userId": "04526276601361747492"
     },
     "user_tz": -345
    },
    "id": "0hOB8qtTmjmm"
   },
   "outputs": [],
   "source": []
  },
  {
   "cell_type": "code",
   "execution_count": 17,
   "metadata": {
    "executionInfo": {
     "elapsed": 11555,
     "status": "ok",
     "timestamp": 1631974600941,
     "user": {
      "displayName": "Suraj Sharma",
      "photoUrl": "https://lh3.googleusercontent.com/a/default-user=s64",
      "userId": "04526276601361747492"
     },
     "user_tz": -345
    },
    "id": "bGx9ZX5wnlxv"
   },
   "outputs": [],
   "source": [
    "df_logon_users_clean['date'] = pd.to_datetime(df_logon_users_clean['date'])"
   ]
  },
  {
   "cell_type": "code",
   "execution_count": 18,
   "metadata": {
    "executionInfo": {
     "elapsed": 1924,
     "status": "ok",
     "timestamp": 1631974602837,
     "user": {
      "displayName": "Suraj Sharma",
      "photoUrl": "https://lh3.googleusercontent.com/a/default-user=s64",
      "userId": "04526276601361747492"
     },
     "user_tz": -345
    },
    "id": "nXDsqIadn6yv"
   },
   "outputs": [],
   "source": [
    "df_logon_users_clean['time'] = df_logon_users_clean['date'].dt.time"
   ]
  },
  {
   "cell_type": "code",
   "execution_count": 19,
   "metadata": {
    "executionInfo": {
     "elapsed": 1275,
     "status": "ok",
     "timestamp": 1631974604106,
     "user": {
      "displayName": "Suraj Sharma",
      "photoUrl": "https://lh3.googleusercontent.com/a/default-user=s64",
      "userId": "04526276601361747492"
     },
     "user_tz": -345
    },
    "id": "B84oChzUo4Zf"
   },
   "outputs": [],
   "source": [
    "df_user_logon = df_logon_users_clean.loc[df_logon_users_clean['activity'] == 'Logon']"
   ]
  },
  {
   "cell_type": "code",
   "execution_count": 20,
   "metadata": {
    "colab": {
     "base_uri": "https://localhost:8080/"
    },
    "executionInfo": {
     "elapsed": 37,
     "status": "ok",
     "timestamp": 1631974604109,
     "user": {
      "displayName": "Suraj Sharma",
      "photoUrl": "https://lh3.googleusercontent.com/a/default-user=s64",
      "userId": "04526276601361747492"
     },
     "user_tz": -345
    },
    "id": "sxUhfabzpc_l",
    "outputId": "b45a857f-3057-4f54-f4db-13a4d5b2b7f3"
   },
   "outputs": [
    {
     "name": "stderr",
     "output_type": "stream",
     "text": [
      "/tmp/ipykernel_4818/1930962928.py:1: SettingWithCopyWarning: \n",
      "A value is trying to be set on a copy of a slice from a DataFrame.\n",
      "Try using .loc[row_indexer,col_indexer] = value instead\n",
      "\n",
      "See the caveats in the documentation: https://pandas.pydata.org/pandas-docs/stable/user_guide/indexing.html#returning-a-view-versus-a-copy\n",
      "  df_user_logon['hour'] = pd.to_datetime(df_user_logon['date'], format='%H:%M').dt.hour\n"
     ]
    }
   ],
   "source": [
    "df_user_logon['hour'] = pd.to_datetime(df_user_logon['date'], format='%H:%M').dt.hour"
   ]
  },
  {
   "cell_type": "code",
   "execution_count": 21,
   "metadata": {
    "executionInfo": {
     "elapsed": 18,
     "status": "ok",
     "timestamp": 1631974604112,
     "user": {
      "displayName": "Suraj Sharma",
      "photoUrl": "https://lh3.googleusercontent.com/a/default-user=s64",
      "userId": "04526276601361747492"
     },
     "user_tz": -345
    },
    "id": "zI1fT9aEp7sJ"
   },
   "outputs": [],
   "source": [
    "df_user_logon_stats = df_user_logon.groupby('user')['time'].agg([min,max]).reset_index()"
   ]
  },
  {
   "cell_type": "code",
   "execution_count": 22,
   "metadata": {
    "executionInfo": {
     "elapsed": 698,
     "status": "ok",
     "timestamp": 1631974604796,
     "user": {
      "displayName": "Suraj Sharma",
      "photoUrl": "https://lh3.googleusercontent.com/a/default-user=s64",
      "userId": "04526276601361747492"
     },
     "user_tz": -345
    },
    "id": "0jGuY1JbtKfB"
   },
   "outputs": [],
   "source": [
    "df_logon_mode = df_user_logon.groupby('user')['time'].agg(lambda x: x.value_counts().index[0]).reset_index()"
   ]
  },
  {
   "cell_type": "code",
   "execution_count": null,
   "metadata": {
    "executionInfo": {
     "elapsed": 24,
     "status": "ok",
     "timestamp": 1631974604798,
     "user": {
      "displayName": "Suraj Sharma",
      "photoUrl": "https://lh3.googleusercontent.com/a/default-user=s64",
      "userId": "04526276601361747492"
     },
     "user_tz": -345
    },
    "id": "QmSRpebjM9De"
   },
   "outputs": [],
   "source": []
  },
  {
   "cell_type": "code",
   "execution_count": 23,
   "metadata": {
    "executionInfo": {
     "elapsed": 25,
     "status": "ok",
     "timestamp": 1631974604802,
     "user": {
      "displayName": "Suraj Sharma",
      "photoUrl": "https://lh3.googleusercontent.com/a/default-user=s64",
      "userId": "04526276601361747492"
     },
     "user_tz": -345
    },
    "id": "3iCK4Py10H_a"
   },
   "outputs": [],
   "source": [
    "df_logon_mean = df_user_logon.groupby('user')['hour'].mean().reset_index()\n",
    "df_logon_mean['hour'].dtype\n",
    "df_logon_mean['hour'] = pd.to_datetime(df_logon_mean['hour'], format='%H').dt.time\n"
   ]
  },
  {
   "cell_type": "code",
   "execution_count": 24,
   "metadata": {
    "executionInfo": {
     "elapsed": 21,
     "status": "ok",
     "timestamp": 1631974604803,
     "user": {
      "displayName": "Suraj Sharma",
      "photoUrl": "https://lh3.googleusercontent.com/a/default-user=s64",
      "userId": "04526276601361747492"
     },
     "user_tz": -345
    },
    "id": "ixgjK-gfzTEl"
   },
   "outputs": [],
   "source": [
    "df_user_logon_stats['mode'] = df_logon_mode['time']\n",
    "df_user_logon_stats['mean'] = df_logon_mean['hour']"
   ]
  },
  {
   "cell_type": "code",
   "execution_count": null,
   "metadata": {
    "executionInfo": {
     "elapsed": 19,
     "status": "ok",
     "timestamp": 1631974604804,
     "user": {
      "displayName": "Suraj Sharma",
      "photoUrl": "https://lh3.googleusercontent.com/a/default-user=s64",
      "userId": "04526276601361747492"
     },
     "user_tz": -345
    },
    "id": "DyRDg0k7xtdG"
   },
   "outputs": [],
   "source": []
  },
  {
   "cell_type": "code",
   "execution_count": 25,
   "metadata": {
    "executionInfo": {
     "elapsed": 29,
     "status": "ok",
     "timestamp": 1631974605401,
     "user": {
      "displayName": "Suraj Sharma",
      "photoUrl": "https://lh3.googleusercontent.com/a/default-user=s64",
      "userId": "04526276601361747492"
     },
     "user_tz": -345
    },
    "id": "CXRtENnN090y"
   },
   "outputs": [],
   "source": [
    "df_user_logoff = df_logon_users_clean.loc[df_logon_users_clean['activity'] == 'Logoff']"
   ]
  },
  {
   "cell_type": "code",
   "execution_count": 26,
   "metadata": {
    "colab": {
     "base_uri": "https://localhost:8080/"
    },
    "executionInfo": {
     "elapsed": 769,
     "status": "ok",
     "timestamp": 1631974606148,
     "user": {
      "displayName": "Suraj Sharma",
      "photoUrl": "https://lh3.googleusercontent.com/a/default-user=s64",
      "userId": "04526276601361747492"
     },
     "user_tz": -345
    },
    "id": "kl2eWWO13BzE",
    "outputId": "c81b3d12-ab08-4f50-c457-f3edfbf7e901"
   },
   "outputs": [
    {
     "name": "stderr",
     "output_type": "stream",
     "text": [
      "/tmp/ipykernel_4818/636462469.py:1: SettingWithCopyWarning: \n",
      "A value is trying to be set on a copy of a slice from a DataFrame.\n",
      "Try using .loc[row_indexer,col_indexer] = value instead\n",
      "\n",
      "See the caveats in the documentation: https://pandas.pydata.org/pandas-docs/stable/user_guide/indexing.html#returning-a-view-versus-a-copy\n",
      "  df_user_logoff['date'] = pd.to_datetime(df_user_logoff['date'])\n",
      "/tmp/ipykernel_4818/636462469.py:2: SettingWithCopyWarning: \n",
      "A value is trying to be set on a copy of a slice from a DataFrame.\n",
      "Try using .loc[row_indexer,col_indexer] = value instead\n",
      "\n",
      "See the caveats in the documentation: https://pandas.pydata.org/pandas-docs/stable/user_guide/indexing.html#returning-a-view-versus-a-copy\n",
      "  df_user_logoff['time'] = df_user_logoff['date'].dt.time\n"
     ]
    }
   ],
   "source": [
    "df_user_logoff['date'] = pd.to_datetime(df_user_logoff['date'])\n",
    "df_user_logoff['time'] = df_user_logoff['date'].dt.time"
   ]
  },
  {
   "cell_type": "code",
   "execution_count": 27,
   "metadata": {
    "colab": {
     "base_uri": "https://localhost:8080/"
    },
    "executionInfo": {
     "elapsed": 436,
     "status": "ok",
     "timestamp": 1631974606569,
     "user": {
      "displayName": "Suraj Sharma",
      "photoUrl": "https://lh3.googleusercontent.com/a/default-user=s64",
      "userId": "04526276601361747492"
     },
     "user_tz": -345
    },
    "id": "0jt5r6_O1QZW",
    "outputId": "c2bbb7dc-aa52-4b4f-a66a-d07b5906359a"
   },
   "outputs": [
    {
     "name": "stderr",
     "output_type": "stream",
     "text": [
      "/tmp/ipykernel_4818/1504136962.py:1: SettingWithCopyWarning: \n",
      "A value is trying to be set on a copy of a slice from a DataFrame.\n",
      "Try using .loc[row_indexer,col_indexer] = value instead\n",
      "\n",
      "See the caveats in the documentation: https://pandas.pydata.org/pandas-docs/stable/user_guide/indexing.html#returning-a-view-versus-a-copy\n",
      "  df_user_logoff['hour'] = pd.to_datetime(df_user_logoff['date'], format='%H:%M').dt.hour\n"
     ]
    }
   ],
   "source": [
    "\n",
    "df_user_logoff['hour'] = pd.to_datetime(df_user_logoff['date'], format='%H:%M').dt.hour"
   ]
  },
  {
   "cell_type": "code",
   "execution_count": 28,
   "metadata": {
    "executionInfo": {
     "elapsed": 13,
     "status": "ok",
     "timestamp": 1631974606571,
     "user": {
      "displayName": "Suraj Sharma",
      "photoUrl": "https://lh3.googleusercontent.com/a/default-user=s64",
      "userId": "04526276601361747492"
     },
     "user_tz": -345
    },
    "id": "Drb_zZGC1oNv"
   },
   "outputs": [],
   "source": [
    "df_user_logoff_stats = df_user_logoff.groupby('user')['time'].agg([min,max]).reset_index()"
   ]
  },
  {
   "cell_type": "code",
   "execution_count": 29,
   "metadata": {
    "colab": {
     "base_uri": "https://localhost:8080/",
     "height": 424
    },
    "executionInfo": {
     "elapsed": 369,
     "status": "ok",
     "timestamp": 1631974606931,
     "user": {
      "displayName": "Suraj Sharma",
      "photoUrl": "https://lh3.googleusercontent.com/a/default-user=s64",
      "userId": "04526276601361747492"
     },
     "user_tz": -345
    },
    "id": "8LyVk1oa1aqJ",
    "outputId": "bc52c5b8-42de-4c6d-d0cc-f318a94e588e"
   },
   "outputs": [
    {
     "data": {
      "text/html": [
       "<div>\n",
       "<style scoped>\n",
       "    .dataframe tbody tr th:only-of-type {\n",
       "        vertical-align: middle;\n",
       "    }\n",
       "\n",
       "    .dataframe tbody tr th {\n",
       "        vertical-align: top;\n",
       "    }\n",
       "\n",
       "    .dataframe thead th {\n",
       "        text-align: right;\n",
       "    }\n",
       "</style>\n",
       "<table border=\"1\" class=\"dataframe\">\n",
       "  <thead>\n",
       "    <tr style=\"text-align: right;\">\n",
       "      <th></th>\n",
       "      <th>user</th>\n",
       "      <th>time</th>\n",
       "    </tr>\n",
       "  </thead>\n",
       "  <tbody>\n",
       "    <tr>\n",
       "      <th>0</th>\n",
       "      <td>AAN0077</td>\n",
       "      <td>17:00:00</td>\n",
       "    </tr>\n",
       "    <tr>\n",
       "      <th>1</th>\n",
       "      <td>AAW0103</td>\n",
       "      <td>16:14:00</td>\n",
       "    </tr>\n",
       "    <tr>\n",
       "      <th>2</th>\n",
       "      <td>ACE0265</td>\n",
       "      <td>16:06:00</td>\n",
       "    </tr>\n",
       "    <tr>\n",
       "      <th>3</th>\n",
       "      <td>ACL0394</td>\n",
       "      <td>17:15:00</td>\n",
       "    </tr>\n",
       "    <tr>\n",
       "      <th>4</th>\n",
       "      <td>ADR0362</td>\n",
       "      <td>16:45:00</td>\n",
       "    </tr>\n",
       "    <tr>\n",
       "      <th>...</th>\n",
       "      <td>...</td>\n",
       "      <td>...</td>\n",
       "    </tr>\n",
       "    <tr>\n",
       "      <th>225</th>\n",
       "      <td>XTM0246</td>\n",
       "      <td>17:00:00</td>\n",
       "    </tr>\n",
       "    <tr>\n",
       "      <th>226</th>\n",
       "      <td>YJT0368</td>\n",
       "      <td>16:45:00</td>\n",
       "    </tr>\n",
       "    <tr>\n",
       "      <th>227</th>\n",
       "      <td>YSB0779</td>\n",
       "      <td>16:45:00</td>\n",
       "    </tr>\n",
       "    <tr>\n",
       "      <th>228</th>\n",
       "      <td>ZBL0379</td>\n",
       "      <td>19:30:00</td>\n",
       "    </tr>\n",
       "    <tr>\n",
       "      <th>229</th>\n",
       "      <td>ZIF0269</td>\n",
       "      <td>16:15:00</td>\n",
       "    </tr>\n",
       "  </tbody>\n",
       "</table>\n",
       "<p>230 rows × 2 columns</p>\n",
       "</div>"
      ],
      "text/plain": [
       "        user      time\n",
       "0    AAN0077  17:00:00\n",
       "1    AAW0103  16:14:00\n",
       "2    ACE0265  16:06:00\n",
       "3    ACL0394  17:15:00\n",
       "4    ADR0362  16:45:00\n",
       "..       ...       ...\n",
       "225  XTM0246  17:00:00\n",
       "226  YJT0368  16:45:00\n",
       "227  YSB0779  16:45:00\n",
       "228  ZBL0379  19:30:00\n",
       "229  ZIF0269  16:15:00\n",
       "\n",
       "[230 rows x 2 columns]"
      ]
     },
     "execution_count": 29,
     "metadata": {},
     "output_type": "execute_result"
    }
   ],
   "source": [
    "df_user_logoff.groupby('user')['time'].agg(pd.Series.mode).reset_index()"
   ]
  },
  {
   "cell_type": "code",
   "execution_count": 30,
   "metadata": {
    "executionInfo": {
     "elapsed": 1059,
     "status": "ok",
     "timestamp": 1631974607979,
     "user": {
      "displayName": "Suraj Sharma",
      "photoUrl": "https://lh3.googleusercontent.com/a/default-user=s64",
      "userId": "04526276601361747492"
     },
     "user_tz": -345
    },
    "id": "jZiXia-94xGH"
   },
   "outputs": [],
   "source": [
    "df_logoff_mode = df_user_logoff.groupby('user')['time'].agg(lambda x: x.value_counts().index[0]).reset_index()"
   ]
  },
  {
   "cell_type": "code",
   "execution_count": 31,
   "metadata": {
    "executionInfo": {
     "elapsed": 786,
     "status": "ok",
     "timestamp": 1631974608759,
     "user": {
      "displayName": "Suraj Sharma",
      "photoUrl": "https://lh3.googleusercontent.com/a/default-user=s64",
      "userId": "04526276601361747492"
     },
     "user_tz": -345
    },
    "id": "mmY8MLkU4hEy"
   },
   "outputs": [],
   "source": [
    "df_logoff_mean = df_user_logoff.groupby('user')['hour'].mean().reset_index()\n",
    "df_logoff_mean['hour'] = df_logoff_mean['hour'].astype(int)\n",
    "df_logoff_mean['hour'] = pd.to_datetime(df_logoff_mean['hour'], format='%H').dt.time\n"
   ]
  },
  {
   "cell_type": "code",
   "execution_count": 32,
   "metadata": {
    "executionInfo": {
     "elapsed": 8,
     "status": "ok",
     "timestamp": 1631974608760,
     "user": {
      "displayName": "Suraj Sharma",
      "photoUrl": "https://lh3.googleusercontent.com/a/default-user=s64",
      "userId": "04526276601361747492"
     },
     "user_tz": -345
    },
    "id": "O5sgWyir5stO"
   },
   "outputs": [],
   "source": [
    "df_user_logoff_stats['mode'] = df_logoff_mode['time']\n",
    "df_user_logoff_stats['mean'] = df_logoff_mean['hour']"
   ]
  },
  {
   "cell_type": "code",
   "execution_count": null,
   "metadata": {
    "executionInfo": {
     "elapsed": 9,
     "status": "ok",
     "timestamp": 1631974608762,
     "user": {
      "displayName": "Suraj Sharma",
      "photoUrl": "https://lh3.googleusercontent.com/a/default-user=s64",
      "userId": "04526276601361747492"
     },
     "user_tz": -345
    },
    "id": "YruLWKfU6QS6"
   },
   "outputs": [],
   "source": []
  },
  {
   "cell_type": "code",
   "execution_count": 33,
   "metadata": {
    "executionInfo": {
     "elapsed": 11000,
     "status": "ok",
     "timestamp": 1631974619754,
     "user": {
      "displayName": "Suraj Sharma",
      "photoUrl": "https://lh3.googleusercontent.com/a/default-user=s64",
      "userId": "04526276601361747492"
     },
     "user_tz": -345
    },
    "id": "EmyBAKEu6ccc"
   },
   "outputs": [],
   "source": [
    "df_device_users_clean['time'] = pd.to_datetime(df_device_users_clean['date']).dt.time"
   ]
  },
  {
   "cell_type": "code",
   "execution_count": 34,
   "metadata": {
    "executionInfo": {
     "elapsed": 669,
     "status": "ok",
     "timestamp": 1631974620407,
     "user": {
      "displayName": "Suraj Sharma",
      "photoUrl": "https://lh3.googleusercontent.com/a/default-user=s64",
      "userId": "04526276601361747492"
     },
     "user_tz": -345
    },
    "id": "w7HH2UEDEusT"
   },
   "outputs": [],
   "source": [
    "df_device_conn = df_device_users_clean.loc[df_device_users_clean['activity'] == 'Connect']\n",
    "df_device_disconn = df_device_users_clean.loc[df_device_users_clean['activity'] == 'Disconnect']\n"
   ]
  },
  {
   "cell_type": "code",
   "execution_count": 35,
   "metadata": {
    "executionInfo": {
     "elapsed": 10,
     "status": "ok",
     "timestamp": 1631974620408,
     "user": {
      "displayName": "Suraj Sharma",
      "photoUrl": "https://lh3.googleusercontent.com/a/default-user=s64",
      "userId": "04526276601361747492"
     },
     "user_tz": -345
    },
    "id": "pDo0AygbFk-T"
   },
   "outputs": [],
   "source": [
    "df_device_conn_stats = df_device_conn.groupby('user')['time'].agg([min, max]).reset_index()"
   ]
  },
  {
   "cell_type": "code",
   "execution_count": 36,
   "metadata": {
    "executionInfo": {
     "elapsed": 9,
     "status": "ok",
     "timestamp": 1631974620409,
     "user": {
      "displayName": "Suraj Sharma",
      "photoUrl": "https://lh3.googleusercontent.com/a/default-user=s64",
      "userId": "04526276601361747492"
     },
     "user_tz": -345
    },
    "id": "9IXkVIHgF2iT"
   },
   "outputs": [],
   "source": [
    "df_device_conn_stats_1 = df_device_conn.groupby('user')"
   ]
  },
  {
   "cell_type": "code",
   "execution_count": 37,
   "metadata": {
    "executionInfo": {
     "elapsed": 475,
     "status": "ok",
     "timestamp": 1631974620876,
     "user": {
      "displayName": "Suraj Sharma",
      "photoUrl": "https://lh3.googleusercontent.com/a/default-user=s64",
      "userId": "04526276601361747492"
     },
     "user_tz": -345
    },
    "id": "fQGY5MkTGIyG"
   },
   "outputs": [],
   "source": [
    "df_conn_mode = df_device_conn.groupby('user')['time'].agg(lambda x: x.value_counts().index[0]).reset_index()"
   ]
  },
  {
   "cell_type": "code",
   "execution_count": 38,
   "metadata": {
    "colab": {
     "base_uri": "https://localhost:8080/"
    },
    "executionInfo": {
     "elapsed": 5700,
     "status": "ok",
     "timestamp": 1631974626570,
     "user": {
      "displayName": "Suraj Sharma",
      "photoUrl": "https://lh3.googleusercontent.com/a/default-user=s64",
      "userId": "04526276601361747492"
     },
     "user_tz": -345
    },
    "id": "zxgMmpZ5GhV7",
    "outputId": "e563646f-2841-4402-f389-6d1f9dd046bc"
   },
   "outputs": [
    {
     "name": "stderr",
     "output_type": "stream",
     "text": [
      "/tmp/ipykernel_4818/2737355688.py:1: SettingWithCopyWarning: \n",
      "A value is trying to be set on a copy of a slice from a DataFrame.\n",
      "Try using .loc[row_indexer,col_indexer] = value instead\n",
      "\n",
      "See the caveats in the documentation: https://pandas.pydata.org/pandas-docs/stable/user_guide/indexing.html#returning-a-view-versus-a-copy\n",
      "  df_device_conn['hour'] = pd.to_datetime(df_device_conn['date']).dt.hour\n"
     ]
    }
   ],
   "source": [
    "df_device_conn['hour'] = pd.to_datetime(df_device_conn['date']).dt.hour"
   ]
  },
  {
   "cell_type": "code",
   "execution_count": 39,
   "metadata": {
    "executionInfo": {
     "elapsed": 46,
     "status": "ok",
     "timestamp": 1631974626577,
     "user": {
      "displayName": "Suraj Sharma",
      "photoUrl": "https://lh3.googleusercontent.com/a/default-user=s64",
      "userId": "04526276601361747492"
     },
     "user_tz": -345
    },
    "id": "73pQhz86GwYe"
   },
   "outputs": [],
   "source": [
    "df_conn_mean = df_device_conn.groupby('user')['hour'].mean().reset_index()\n",
    "df_conn_mean['hour'] = df_conn_mean['hour'].astype(int)\n",
    "df_conn_mean['hour'] = pd.to_datetime(df_conn_mean['hour'],format=\"%H\").dt.time"
   ]
  },
  {
   "cell_type": "code",
   "execution_count": 40,
   "metadata": {
    "executionInfo": {
     "elapsed": 43,
     "status": "ok",
     "timestamp": 1631974626581,
     "user": {
      "displayName": "Suraj Sharma",
      "photoUrl": "https://lh3.googleusercontent.com/a/default-user=s64",
      "userId": "04526276601361747492"
     },
     "user_tz": -345
    },
    "id": "bT2HqZgFHZgg"
   },
   "outputs": [],
   "source": [
    "df_device_conn_stats['mode'] = df_conn_mode['time']\n",
    "df_device_conn_stats['mean'] = df_conn_mean['hour']"
   ]
  },
  {
   "cell_type": "code",
   "execution_count": null,
   "metadata": {
    "executionInfo": {
     "elapsed": 39,
     "status": "ok",
     "timestamp": 1631974626583,
     "user": {
      "displayName": "Suraj Sharma",
      "photoUrl": "https://lh3.googleusercontent.com/a/default-user=s64",
      "userId": "04526276601361747492"
     },
     "user_tz": -345
    },
    "id": "rtNHzgLjHrml"
   },
   "outputs": [],
   "source": []
  },
  {
   "cell_type": "code",
   "execution_count": 41,
   "metadata": {
    "executionInfo": {
     "elapsed": 703,
     "status": "ok",
     "timestamp": 1631974627251,
     "user": {
      "displayName": "Suraj Sharma",
      "photoUrl": "https://lh3.googleusercontent.com/a/default-user=s64",
      "userId": "04526276601361747492"
     },
     "user_tz": -345
    },
    "id": "SfIGvVXcHvgH"
   },
   "outputs": [],
   "source": [
    "df_device_disconn_stats = df_device_disconn.groupby('user')['time'].agg([min,max]).reset_index()"
   ]
  },
  {
   "cell_type": "code",
   "execution_count": 42,
   "metadata": {
    "executionInfo": {
     "elapsed": 7,
     "status": "ok",
     "timestamp": 1631974627251,
     "user": {
      "displayName": "Suraj Sharma",
      "photoUrl": "https://lh3.googleusercontent.com/a/default-user=s64",
      "userId": "04526276601361747492"
     },
     "user_tz": -345
    },
    "id": "uV4V2DK4IC2Q"
   },
   "outputs": [],
   "source": [
    "df_dconn_mode = df_device_disconn.groupby('user')['time'].agg(lambda x: x.value_counts().index[0]).reset_index()\n",
    "\n"
   ]
  },
  {
   "cell_type": "code",
   "execution_count": 43,
   "metadata": {
    "colab": {
     "base_uri": "https://localhost:8080/"
    },
    "executionInfo": {
     "elapsed": 5492,
     "status": "ok",
     "timestamp": 1631974632738,
     "user": {
      "displayName": "Suraj Sharma",
      "photoUrl": "https://lh3.googleusercontent.com/a/default-user=s64",
      "userId": "04526276601361747492"
     },
     "user_tz": -345
    },
    "id": "x7XYhgqQIMdl",
    "outputId": "35240903-bc1e-4818-8e6f-8d4365186467"
   },
   "outputs": [
    {
     "name": "stderr",
     "output_type": "stream",
     "text": [
      "/tmp/ipykernel_4818/1753353138.py:1: SettingWithCopyWarning: \n",
      "A value is trying to be set on a copy of a slice from a DataFrame.\n",
      "Try using .loc[row_indexer,col_indexer] = value instead\n",
      "\n",
      "See the caveats in the documentation: https://pandas.pydata.org/pandas-docs/stable/user_guide/indexing.html#returning-a-view-versus-a-copy\n",
      "  df_device_disconn['hour'] = pd.to_datetime(df_device_disconn['date']).dt.hour\n"
     ]
    }
   ],
   "source": [
    "df_device_disconn['hour'] = pd.to_datetime(df_device_disconn['date']).dt.hour\n"
   ]
  },
  {
   "cell_type": "code",
   "execution_count": 44,
   "metadata": {
    "executionInfo": {
     "elapsed": 22,
     "status": "ok",
     "timestamp": 1631974632741,
     "user": {
      "displayName": "Suraj Sharma",
      "photoUrl": "https://lh3.googleusercontent.com/a/default-user=s64",
      "userId": "04526276601361747492"
     },
     "user_tz": -345
    },
    "id": "kqT1HiLmIS70"
   },
   "outputs": [],
   "source": [
    "df_dconn_mean = df_device_disconn.groupby('user')['hour'].mean().reset_index()\n",
    "df_dconn_mean['hour'] = df_dconn_mean['hour'].astype(int)\n",
    "df_dconn_mean['hour'] = pd.to_datetime(df_dconn_mean['hour'], format='%H').dt.time\n"
   ]
  },
  {
   "cell_type": "code",
   "execution_count": 45,
   "metadata": {
    "colab": {
     "base_uri": "https://localhost:8080/",
     "height": 1000
    },
    "executionInfo": {
     "elapsed": 21,
     "status": "ok",
     "timestamp": 1631974632742,
     "user": {
      "displayName": "Suraj Sharma",
      "photoUrl": "https://lh3.googleusercontent.com/a/default-user=s64",
      "userId": "04526276601361747492"
     },
     "user_tz": -345
    },
    "id": "546-RXFUi1zf",
    "outputId": "96ebbad3-fda1-4c18-8065-5e3b2a13cede"
   },
   "outputs": [
    {
     "data": {
      "text/html": [
       "<div>\n",
       "<style scoped>\n",
       "    .dataframe tbody tr th:only-of-type {\n",
       "        vertical-align: middle;\n",
       "    }\n",
       "\n",
       "    .dataframe tbody tr th {\n",
       "        vertical-align: top;\n",
       "    }\n",
       "\n",
       "    .dataframe thead th {\n",
       "        text-align: right;\n",
       "    }\n",
       "</style>\n",
       "<table border=\"1\" class=\"dataframe\">\n",
       "  <thead>\n",
       "    <tr style=\"text-align: right;\">\n",
       "      <th></th>\n",
       "      <th>user</th>\n",
       "      <th>hour</th>\n",
       "    </tr>\n",
       "  </thead>\n",
       "  <tbody>\n",
       "    <tr>\n",
       "      <th>0</th>\n",
       "      <td>AJQ0376</td>\n",
       "      <td>14:00:00</td>\n",
       "    </tr>\n",
       "    <tr>\n",
       "      <th>1</th>\n",
       "      <td>AJR0231</td>\n",
       "      <td>11:00:00</td>\n",
       "    </tr>\n",
       "    <tr>\n",
       "      <th>2</th>\n",
       "      <td>AOD0066</td>\n",
       "      <td>12:00:00</td>\n",
       "    </tr>\n",
       "    <tr>\n",
       "      <th>3</th>\n",
       "      <td>ARH0777</td>\n",
       "      <td>12:00:00</td>\n",
       "    </tr>\n",
       "    <tr>\n",
       "      <th>4</th>\n",
       "      <td>BCP0247</td>\n",
       "      <td>12:00:00</td>\n",
       "    </tr>\n",
       "    <tr>\n",
       "      <th>5</th>\n",
       "      <td>BDS0396</td>\n",
       "      <td>13:00:00</td>\n",
       "    </tr>\n",
       "    <tr>\n",
       "      <th>6</th>\n",
       "      <td>BMS0057</td>\n",
       "      <td>14:00:00</td>\n",
       "    </tr>\n",
       "    <tr>\n",
       "      <th>7</th>\n",
       "      <td>BZK0095</td>\n",
       "      <td>11:00:00</td>\n",
       "    </tr>\n",
       "    <tr>\n",
       "      <th>8</th>\n",
       "      <td>CAE0080</td>\n",
       "      <td>13:00:00</td>\n",
       "    </tr>\n",
       "    <tr>\n",
       "      <th>9</th>\n",
       "      <td>CGH0088</td>\n",
       "      <td>12:00:00</td>\n",
       "    </tr>\n",
       "    <tr>\n",
       "      <th>10</th>\n",
       "      <td>CJG0059</td>\n",
       "      <td>11:00:00</td>\n",
       "    </tr>\n",
       "    <tr>\n",
       "      <th>11</th>\n",
       "      <td>CJV0236</td>\n",
       "      <td>12:00:00</td>\n",
       "    </tr>\n",
       "    <tr>\n",
       "      <th>12</th>\n",
       "      <td>CSD0242</td>\n",
       "      <td>12:00:00</td>\n",
       "    </tr>\n",
       "    <tr>\n",
       "      <th>13</th>\n",
       "      <td>DWC0525</td>\n",
       "      <td>13:00:00</td>\n",
       "    </tr>\n",
       "    <tr>\n",
       "      <th>14</th>\n",
       "      <td>FED0275</td>\n",
       "      <td>12:00:00</td>\n",
       "    </tr>\n",
       "    <tr>\n",
       "      <th>15</th>\n",
       "      <td>FKF0235</td>\n",
       "      <td>12:00:00</td>\n",
       "    </tr>\n",
       "    <tr>\n",
       "      <th>16</th>\n",
       "      <td>GGM0530</td>\n",
       "      <td>12:00:00</td>\n",
       "    </tr>\n",
       "    <tr>\n",
       "      <th>17</th>\n",
       "      <td>GJP0098</td>\n",
       "      <td>11:00:00</td>\n",
       "    </tr>\n",
       "    <tr>\n",
       "      <th>18</th>\n",
       "      <td>HBB0090</td>\n",
       "      <td>11:00:00</td>\n",
       "    </tr>\n",
       "    <tr>\n",
       "      <th>19</th>\n",
       "      <td>HNW0537</td>\n",
       "      <td>13:00:00</td>\n",
       "    </tr>\n",
       "    <tr>\n",
       "      <th>20</th>\n",
       "      <td>HOJ0260</td>\n",
       "      <td>11:00:00</td>\n",
       "    </tr>\n",
       "    <tr>\n",
       "      <th>21</th>\n",
       "      <td>IAF0403</td>\n",
       "      <td>13:00:00</td>\n",
       "    </tr>\n",
       "    <tr>\n",
       "      <th>22</th>\n",
       "      <td>IUM0065</td>\n",
       "      <td>11:00:00</td>\n",
       "    </tr>\n",
       "    <tr>\n",
       "      <th>23</th>\n",
       "      <td>JCE0258</td>\n",
       "      <td>12:00:00</td>\n",
       "    </tr>\n",
       "    <tr>\n",
       "      <th>24</th>\n",
       "      <td>JDD0087</td>\n",
       "      <td>13:00:00</td>\n",
       "    </tr>\n",
       "    <tr>\n",
       "      <th>25</th>\n",
       "      <td>JLI0073</td>\n",
       "      <td>12:00:00</td>\n",
       "    </tr>\n",
       "    <tr>\n",
       "      <th>26</th>\n",
       "      <td>JNW0252</td>\n",
       "      <td>13:00:00</td>\n",
       "    </tr>\n",
       "    <tr>\n",
       "      <th>27</th>\n",
       "      <td>JTB0079</td>\n",
       "      <td>12:00:00</td>\n",
       "    </tr>\n",
       "    <tr>\n",
       "      <th>28</th>\n",
       "      <td>LEF0786</td>\n",
       "      <td>12:00:00</td>\n",
       "    </tr>\n",
       "    <tr>\n",
       "      <th>29</th>\n",
       "      <td>LJW0776</td>\n",
       "      <td>12:00:00</td>\n",
       "    </tr>\n",
       "    <tr>\n",
       "      <th>30</th>\n",
       "      <td>LTB0107</td>\n",
       "      <td>12:00:00</td>\n",
       "    </tr>\n",
       "    <tr>\n",
       "      <th>31</th>\n",
       "      <td>LVL0958</td>\n",
       "      <td>13:00:00</td>\n",
       "    </tr>\n",
       "    <tr>\n",
       "      <th>32</th>\n",
       "      <td>LWB0078</td>\n",
       "      <td>12:00:00</td>\n",
       "    </tr>\n",
       "    <tr>\n",
       "      <th>33</th>\n",
       "      <td>MJH0083</td>\n",
       "      <td>13:00:00</td>\n",
       "    </tr>\n",
       "    <tr>\n",
       "      <th>34</th>\n",
       "      <td>MPM0410</td>\n",
       "      <td>13:00:00</td>\n",
       "    </tr>\n",
       "    <tr>\n",
       "      <th>35</th>\n",
       "      <td>MSB0359</td>\n",
       "      <td>12:00:00</td>\n",
       "    </tr>\n",
       "    <tr>\n",
       "      <th>36</th>\n",
       "      <td>ORC0907</td>\n",
       "      <td>13:00:00</td>\n",
       "    </tr>\n",
       "    <tr>\n",
       "      <th>37</th>\n",
       "      <td>QLC0248</td>\n",
       "      <td>13:00:00</td>\n",
       "    </tr>\n",
       "    <tr>\n",
       "      <th>38</th>\n",
       "      <td>RAW0533</td>\n",
       "      <td>13:00:00</td>\n",
       "    </tr>\n",
       "    <tr>\n",
       "      <th>39</th>\n",
       "      <td>REM0274</td>\n",
       "      <td>11:00:00</td>\n",
       "    </tr>\n",
       "    <tr>\n",
       "      <th>40</th>\n",
       "      <td>SBM0063</td>\n",
       "      <td>11:00:00</td>\n",
       "    </tr>\n",
       "    <tr>\n",
       "      <th>41</th>\n",
       "      <td>SHR0369</td>\n",
       "      <td>13:00:00</td>\n",
       "    </tr>\n",
       "    <tr>\n",
       "      <th>42</th>\n",
       "      <td>TOC0528</td>\n",
       "      <td>12:00:00</td>\n",
       "    </tr>\n",
       "    <tr>\n",
       "      <th>43</th>\n",
       "      <td>UMA0072</td>\n",
       "      <td>12:00:00</td>\n",
       "    </tr>\n",
       "    <tr>\n",
       "      <th>44</th>\n",
       "      <td>WMP0272</td>\n",
       "      <td>12:00:00</td>\n",
       "    </tr>\n",
       "    <tr>\n",
       "      <th>45</th>\n",
       "      <td>WXW0044</td>\n",
       "      <td>11:00:00</td>\n",
       "    </tr>\n",
       "    <tr>\n",
       "      <th>46</th>\n",
       "      <td>ZBL0379</td>\n",
       "      <td>14:00:00</td>\n",
       "    </tr>\n",
       "  </tbody>\n",
       "</table>\n",
       "</div>"
      ],
      "text/plain": [
       "       user      hour\n",
       "0   AJQ0376  14:00:00\n",
       "1   AJR0231  11:00:00\n",
       "2   AOD0066  12:00:00\n",
       "3   ARH0777  12:00:00\n",
       "4   BCP0247  12:00:00\n",
       "5   BDS0396  13:00:00\n",
       "6   BMS0057  14:00:00\n",
       "7   BZK0095  11:00:00\n",
       "8   CAE0080  13:00:00\n",
       "9   CGH0088  12:00:00\n",
       "10  CJG0059  11:00:00\n",
       "11  CJV0236  12:00:00\n",
       "12  CSD0242  12:00:00\n",
       "13  DWC0525  13:00:00\n",
       "14  FED0275  12:00:00\n",
       "15  FKF0235  12:00:00\n",
       "16  GGM0530  12:00:00\n",
       "17  GJP0098  11:00:00\n",
       "18  HBB0090  11:00:00\n",
       "19  HNW0537  13:00:00\n",
       "20  HOJ0260  11:00:00\n",
       "21  IAF0403  13:00:00\n",
       "22  IUM0065  11:00:00\n",
       "23  JCE0258  12:00:00\n",
       "24  JDD0087  13:00:00\n",
       "25  JLI0073  12:00:00\n",
       "26  JNW0252  13:00:00\n",
       "27  JTB0079  12:00:00\n",
       "28  LEF0786  12:00:00\n",
       "29  LJW0776  12:00:00\n",
       "30  LTB0107  12:00:00\n",
       "31  LVL0958  13:00:00\n",
       "32  LWB0078  12:00:00\n",
       "33  MJH0083  13:00:00\n",
       "34  MPM0410  13:00:00\n",
       "35  MSB0359  12:00:00\n",
       "36  ORC0907  13:00:00\n",
       "37  QLC0248  13:00:00\n",
       "38  RAW0533  13:00:00\n",
       "39  REM0274  11:00:00\n",
       "40  SBM0063  11:00:00\n",
       "41  SHR0369  13:00:00\n",
       "42  TOC0528  12:00:00\n",
       "43  UMA0072  12:00:00\n",
       "44  WMP0272  12:00:00\n",
       "45  WXW0044  11:00:00\n",
       "46  ZBL0379  14:00:00"
      ]
     },
     "execution_count": 45,
     "metadata": {},
     "output_type": "execute_result"
    }
   ],
   "source": [
    "df_dconn_mean"
   ]
  },
  {
   "cell_type": "code",
   "execution_count": 46,
   "metadata": {
    "executionInfo": {
     "elapsed": 18,
     "status": "ok",
     "timestamp": 1631974632744,
     "user": {
      "displayName": "Suraj Sharma",
      "photoUrl": "https://lh3.googleusercontent.com/a/default-user=s64",
      "userId": "04526276601361747492"
     },
     "user_tz": -345
    },
    "id": "i6JMKE4zId9F"
   },
   "outputs": [],
   "source": [
    "df_device_disconn_stats['mode'] = df_dconn_mode['time']\n",
    "df_device_disconn_stats['mean'] = df_dconn_mean['hour']"
   ]
  },
  {
   "cell_type": "code",
   "execution_count": 47,
   "metadata": {
    "id": "4TRrm0ymIlC5"
   },
   "outputs": [],
   "source": [
    "df_file_users_clean['date2'] = pd.to_datetime(df_file_users_clean['date']).dt.date"
   ]
  },
  {
   "cell_type": "code",
   "execution_count": null,
   "metadata": {
    "id": "NWIUut9zJVWL"
   },
   "outputs": [],
   "source": []
  },
  {
   "cell_type": "code",
   "execution_count": 48,
   "metadata": {
    "id": "Pc0B1Eq4JZj5"
   },
   "outputs": [],
   "source": [
    "df_files_per_day = df_file_users_clean.groupby(['user', 'date2']).size().reset_index()"
   ]
  },
  {
   "cell_type": "code",
   "execution_count": null,
   "metadata": {
    "id": "1U4cMT0PJzUh"
   },
   "outputs": [],
   "source": []
  },
  {
   "cell_type": "code",
   "execution_count": 49,
   "metadata": {
    "id": "YYsENT9rJ2ao"
   },
   "outputs": [],
   "source": [
    "df_files_per_day.rename(columns={0:'transfers_per_day'}, inplace=True)\n"
   ]
  },
  {
   "cell_type": "code",
   "execution_count": 50,
   "metadata": {
    "id": "MeKOnj-_Ks_l"
   },
   "outputs": [],
   "source": [
    "df_files_max_per_day = df_files_per_day.groupby('user')['transfers_per_day'].agg(max).reset_index()\n",
    "df_files_max_per_day.rename(columns={'transfers_per_day': \"max_transfers_per_user\"}, inplace=True)"
   ]
  },
  {
   "cell_type": "code",
   "execution_count": 51,
   "metadata": {
    "id": "W7cV_ieELNji"
   },
   "outputs": [],
   "source": [
    "df_files_mode_per_day = df_files_per_day.groupby('user')['transfers_per_day'].agg(lambda x: x.value_counts().index[0]).reset_index()\n",
    "df_files_mode_per_day.rename(columns={'transfers_per_day': \"mode_transfers_per_user\"}, inplace=True)\n"
   ]
  },
  {
   "cell_type": "code",
   "execution_count": 52,
   "metadata": {
    "id": "9PnW-5m1-Eiq"
   },
   "outputs": [
    {
     "data": {
      "text/html": [
       "<div>\n",
       "<style scoped>\n",
       "    .dataframe tbody tr th:only-of-type {\n",
       "        vertical-align: middle;\n",
       "    }\n",
       "\n",
       "    .dataframe tbody tr th {\n",
       "        vertical-align: top;\n",
       "    }\n",
       "\n",
       "    .dataframe thead th {\n",
       "        text-align: right;\n",
       "    }\n",
       "</style>\n",
       "<table border=\"1\" class=\"dataframe\">\n",
       "  <thead>\n",
       "    <tr style=\"text-align: right;\">\n",
       "      <th></th>\n",
       "      <th>user</th>\n",
       "      <th>mode_transfers_per_user</th>\n",
       "    </tr>\n",
       "  </thead>\n",
       "  <tbody>\n",
       "    <tr>\n",
       "      <th>0</th>\n",
       "      <td>AJQ0376</td>\n",
       "      <td>342</td>\n",
       "    </tr>\n",
       "    <tr>\n",
       "      <th>1</th>\n",
       "      <td>AJR0231</td>\n",
       "      <td>54</td>\n",
       "    </tr>\n",
       "    <tr>\n",
       "      <th>2</th>\n",
       "      <td>AOD0066</td>\n",
       "      <td>24</td>\n",
       "    </tr>\n",
       "    <tr>\n",
       "      <th>3</th>\n",
       "      <td>ARH0777</td>\n",
       "      <td>36</td>\n",
       "    </tr>\n",
       "    <tr>\n",
       "      <th>4</th>\n",
       "      <td>BCP0247</td>\n",
       "      <td>54</td>\n",
       "    </tr>\n",
       "    <tr>\n",
       "      <th>5</th>\n",
       "      <td>BDS0396</td>\n",
       "      <td>36</td>\n",
       "    </tr>\n",
       "    <tr>\n",
       "      <th>6</th>\n",
       "      <td>BMS0057</td>\n",
       "      <td>36</td>\n",
       "    </tr>\n",
       "    <tr>\n",
       "      <th>7</th>\n",
       "      <td>BZK0095</td>\n",
       "      <td>396</td>\n",
       "    </tr>\n",
       "    <tr>\n",
       "      <th>8</th>\n",
       "      <td>CAE0080</td>\n",
       "      <td>36</td>\n",
       "    </tr>\n",
       "    <tr>\n",
       "      <th>9</th>\n",
       "      <td>CGH0088</td>\n",
       "      <td>18</td>\n",
       "    </tr>\n",
       "    <tr>\n",
       "      <th>10</th>\n",
       "      <td>CJG0059</td>\n",
       "      <td>36</td>\n",
       "    </tr>\n",
       "    <tr>\n",
       "      <th>11</th>\n",
       "      <td>CJV0236</td>\n",
       "      <td>306</td>\n",
       "    </tr>\n",
       "    <tr>\n",
       "      <th>12</th>\n",
       "      <td>CSD0242</td>\n",
       "      <td>378</td>\n",
       "    </tr>\n",
       "    <tr>\n",
       "      <th>13</th>\n",
       "      <td>DWC0525</td>\n",
       "      <td>18</td>\n",
       "    </tr>\n",
       "    <tr>\n",
       "      <th>14</th>\n",
       "      <td>FED0275</td>\n",
       "      <td>18</td>\n",
       "    </tr>\n",
       "    <tr>\n",
       "      <th>15</th>\n",
       "      <td>FKF0235</td>\n",
       "      <td>8</td>\n",
       "    </tr>\n",
       "    <tr>\n",
       "      <th>16</th>\n",
       "      <td>GGM0530</td>\n",
       "      <td>360</td>\n",
       "    </tr>\n",
       "    <tr>\n",
       "      <th>17</th>\n",
       "      <td>GJP0098</td>\n",
       "      <td>36</td>\n",
       "    </tr>\n",
       "    <tr>\n",
       "      <th>18</th>\n",
       "      <td>HBB0090</td>\n",
       "      <td>378</td>\n",
       "    </tr>\n",
       "    <tr>\n",
       "      <th>19</th>\n",
       "      <td>HNW0537</td>\n",
       "      <td>126</td>\n",
       "    </tr>\n",
       "    <tr>\n",
       "      <th>20</th>\n",
       "      <td>HOJ0260</td>\n",
       "      <td>360</td>\n",
       "    </tr>\n",
       "    <tr>\n",
       "      <th>21</th>\n",
       "      <td>IAF0403</td>\n",
       "      <td>72</td>\n",
       "    </tr>\n",
       "    <tr>\n",
       "      <th>22</th>\n",
       "      <td>IUM0065</td>\n",
       "      <td>18</td>\n",
       "    </tr>\n",
       "    <tr>\n",
       "      <th>23</th>\n",
       "      <td>JCE0258</td>\n",
       "      <td>18</td>\n",
       "    </tr>\n",
       "    <tr>\n",
       "      <th>24</th>\n",
       "      <td>JDD0087</td>\n",
       "      <td>18</td>\n",
       "    </tr>\n",
       "    <tr>\n",
       "      <th>25</th>\n",
       "      <td>JLI0073</td>\n",
       "      <td>54</td>\n",
       "    </tr>\n",
       "    <tr>\n",
       "      <th>26</th>\n",
       "      <td>JNW0252</td>\n",
       "      <td>72</td>\n",
       "    </tr>\n",
       "    <tr>\n",
       "      <th>27</th>\n",
       "      <td>JTB0079</td>\n",
       "      <td>108</td>\n",
       "    </tr>\n",
       "    <tr>\n",
       "      <th>28</th>\n",
       "      <td>LEF0786</td>\n",
       "      <td>54</td>\n",
       "    </tr>\n",
       "    <tr>\n",
       "      <th>29</th>\n",
       "      <td>LJW0776</td>\n",
       "      <td>18</td>\n",
       "    </tr>\n",
       "    <tr>\n",
       "      <th>30</th>\n",
       "      <td>LTB0107</td>\n",
       "      <td>378</td>\n",
       "    </tr>\n",
       "    <tr>\n",
       "      <th>31</th>\n",
       "      <td>LVL0958</td>\n",
       "      <td>378</td>\n",
       "    </tr>\n",
       "    <tr>\n",
       "      <th>32</th>\n",
       "      <td>LWB0078</td>\n",
       "      <td>36</td>\n",
       "    </tr>\n",
       "    <tr>\n",
       "      <th>33</th>\n",
       "      <td>MJH0083</td>\n",
       "      <td>54</td>\n",
       "    </tr>\n",
       "    <tr>\n",
       "      <th>34</th>\n",
       "      <td>MPM0410</td>\n",
       "      <td>54</td>\n",
       "    </tr>\n",
       "    <tr>\n",
       "      <th>35</th>\n",
       "      <td>MSB0359</td>\n",
       "      <td>72</td>\n",
       "    </tr>\n",
       "    <tr>\n",
       "      <th>36</th>\n",
       "      <td>ORC0907</td>\n",
       "      <td>90</td>\n",
       "    </tr>\n",
       "    <tr>\n",
       "      <th>37</th>\n",
       "      <td>QLC0248</td>\n",
       "      <td>216</td>\n",
       "    </tr>\n",
       "    <tr>\n",
       "      <th>38</th>\n",
       "      <td>RAW0533</td>\n",
       "      <td>36</td>\n",
       "    </tr>\n",
       "    <tr>\n",
       "      <th>39</th>\n",
       "      <td>REM0274</td>\n",
       "      <td>378</td>\n",
       "    </tr>\n",
       "    <tr>\n",
       "      <th>40</th>\n",
       "      <td>SBM0063</td>\n",
       "      <td>126</td>\n",
       "    </tr>\n",
       "    <tr>\n",
       "      <th>41</th>\n",
       "      <td>SHR0369</td>\n",
       "      <td>36</td>\n",
       "    </tr>\n",
       "    <tr>\n",
       "      <th>42</th>\n",
       "      <td>TOC0528</td>\n",
       "      <td>144</td>\n",
       "    </tr>\n",
       "    <tr>\n",
       "      <th>43</th>\n",
       "      <td>UMA0072</td>\n",
       "      <td>36</td>\n",
       "    </tr>\n",
       "    <tr>\n",
       "      <th>44</th>\n",
       "      <td>WMP0272</td>\n",
       "      <td>54</td>\n",
       "    </tr>\n",
       "    <tr>\n",
       "      <th>45</th>\n",
       "      <td>WXW0044</td>\n",
       "      <td>360</td>\n",
       "    </tr>\n",
       "    <tr>\n",
       "      <th>46</th>\n",
       "      <td>ZBL0379</td>\n",
       "      <td>54</td>\n",
       "    </tr>\n",
       "  </tbody>\n",
       "</table>\n",
       "</div>"
      ],
      "text/plain": [
       "       user  mode_transfers_per_user\n",
       "0   AJQ0376                      342\n",
       "1   AJR0231                       54\n",
       "2   AOD0066                       24\n",
       "3   ARH0777                       36\n",
       "4   BCP0247                       54\n",
       "5   BDS0396                       36\n",
       "6   BMS0057                       36\n",
       "7   BZK0095                      396\n",
       "8   CAE0080                       36\n",
       "9   CGH0088                       18\n",
       "10  CJG0059                       36\n",
       "11  CJV0236                      306\n",
       "12  CSD0242                      378\n",
       "13  DWC0525                       18\n",
       "14  FED0275                       18\n",
       "15  FKF0235                        8\n",
       "16  GGM0530                      360\n",
       "17  GJP0098                       36\n",
       "18  HBB0090                      378\n",
       "19  HNW0537                      126\n",
       "20  HOJ0260                      360\n",
       "21  IAF0403                       72\n",
       "22  IUM0065                       18\n",
       "23  JCE0258                       18\n",
       "24  JDD0087                       18\n",
       "25  JLI0073                       54\n",
       "26  JNW0252                       72\n",
       "27  JTB0079                      108\n",
       "28  LEF0786                       54\n",
       "29  LJW0776                       18\n",
       "30  LTB0107                      378\n",
       "31  LVL0958                      378\n",
       "32  LWB0078                       36\n",
       "33  MJH0083                       54\n",
       "34  MPM0410                       54\n",
       "35  MSB0359                       72\n",
       "36  ORC0907                       90\n",
       "37  QLC0248                      216\n",
       "38  RAW0533                       36\n",
       "39  REM0274                      378\n",
       "40  SBM0063                      126\n",
       "41  SHR0369                       36\n",
       "42  TOC0528                      144\n",
       "43  UMA0072                       36\n",
       "44  WMP0272                       54\n",
       "45  WXW0044                      360\n",
       "46  ZBL0379                       54"
      ]
     },
     "execution_count": 52,
     "metadata": {},
     "output_type": "execute_result"
    }
   ],
   "source": [
    "df_files_mode_per_day"
   ]
  },
  {
   "cell_type": "code",
   "execution_count": 53,
   "metadata": {
    "id": "jzmjcEa4L2Ff"
   },
   "outputs": [],
   "source": [
    "df_files_stats = df_files_mode_per_day"
   ]
  },
  {
   "cell_type": "code",
   "execution_count": null,
   "metadata": {
    "id": "p7zCA43gMG6C"
   },
   "outputs": [],
   "source": []
  },
  {
   "cell_type": "code",
   "execution_count": 54,
   "metadata": {
    "id": "3oVaUVh2MUbE"
   },
   "outputs": [],
   "source": [
    "df_files_stats_new = pd.DataFrame()\n",
    "df_files_stats_new['user'] = df_files_stats['user']\n",
    "df_files_stats_new['mode_trasfers_per_user'] = df_files_stats['mode_transfers_per_user']\n",
    "df_files_stats_new['max_transfers_per_user'] = df_files_max_per_day['max_transfers_per_user']\n"
   ]
  },
  {
   "cell_type": "code",
   "execution_count": 55,
   "metadata": {
    "id": "7Adb8paENU34"
   },
   "outputs": [],
   "source": [
    "df_user_pc = df_logon_users_clean.groupby(['user','pc',]).agg(pc_visits_per_user_total = pd.NamedAgg(column = 'pc', aggfunc = 'count')).reset_index()\n",
    "df_user_pc['count'] = df_user_pc.groupby(['user'])['pc'].transform('nunique')\n",
    "df_user_pc = df_user_pc.drop(['pc', 'pc_visits_per_user_total'], axis=1)\n",
    "df_user_pc = df_user_pc.drop_duplicates()"
   ]
  },
  {
   "cell_type": "code",
   "execution_count": 56,
   "metadata": {
    "id": "7x0LyTPcaC1t"
   },
   "outputs": [
    {
     "data": {
      "text/html": [
       "<div>\n",
       "<style scoped>\n",
       "    .dataframe tbody tr th:only-of-type {\n",
       "        vertical-align: middle;\n",
       "    }\n",
       "\n",
       "    .dataframe tbody tr th {\n",
       "        vertical-align: top;\n",
       "    }\n",
       "\n",
       "    .dataframe thead th {\n",
       "        text-align: right;\n",
       "    }\n",
       "</style>\n",
       "<table border=\"1\" class=\"dataframe\">\n",
       "  <thead>\n",
       "    <tr style=\"text-align: right;\">\n",
       "      <th></th>\n",
       "      <th>user</th>\n",
       "      <th>count</th>\n",
       "    </tr>\n",
       "  </thead>\n",
       "  <tbody>\n",
       "    <tr>\n",
       "      <th>0</th>\n",
       "      <td>AAN0077</td>\n",
       "      <td>1</td>\n",
       "    </tr>\n",
       "    <tr>\n",
       "      <th>1</th>\n",
       "      <td>AAW0103</td>\n",
       "      <td>1</td>\n",
       "    </tr>\n",
       "    <tr>\n",
       "      <th>2</th>\n",
       "      <td>ACE0265</td>\n",
       "      <td>1</td>\n",
       "    </tr>\n",
       "    <tr>\n",
       "      <th>3</th>\n",
       "      <td>ACL0394</td>\n",
       "      <td>2</td>\n",
       "    </tr>\n",
       "    <tr>\n",
       "      <th>5</th>\n",
       "      <td>ADR0362</td>\n",
       "      <td>1</td>\n",
       "    </tr>\n",
       "    <tr>\n",
       "      <th>...</th>\n",
       "      <td>...</td>\n",
       "      <td>...</td>\n",
       "    </tr>\n",
       "    <tr>\n",
       "      <th>622</th>\n",
       "      <td>XTM0246</td>\n",
       "      <td>1</td>\n",
       "    </tr>\n",
       "    <tr>\n",
       "      <th>623</th>\n",
       "      <td>YJT0368</td>\n",
       "      <td>2</td>\n",
       "    </tr>\n",
       "    <tr>\n",
       "      <th>625</th>\n",
       "      <td>YSB0779</td>\n",
       "      <td>1</td>\n",
       "    </tr>\n",
       "    <tr>\n",
       "      <th>626</th>\n",
       "      <td>ZBL0379</td>\n",
       "      <td>1</td>\n",
       "    </tr>\n",
       "    <tr>\n",
       "      <th>627</th>\n",
       "      <td>ZIF0269</td>\n",
       "      <td>1</td>\n",
       "    </tr>\n",
       "  </tbody>\n",
       "</table>\n",
       "<p>230 rows × 2 columns</p>\n",
       "</div>"
      ],
      "text/plain": [
       "        user  count\n",
       "0    AAN0077      1\n",
       "1    AAW0103      1\n",
       "2    ACE0265      1\n",
       "3    ACL0394      2\n",
       "5    ADR0362      1\n",
       "..       ...    ...\n",
       "622  XTM0246      1\n",
       "623  YJT0368      2\n",
       "625  YSB0779      1\n",
       "626  ZBL0379      1\n",
       "627  ZIF0269      1\n",
       "\n",
       "[230 rows x 2 columns]"
      ]
     },
     "execution_count": 56,
     "metadata": {},
     "output_type": "execute_result"
    }
   ],
   "source": [
    "df_user_pc"
   ]
  },
  {
   "cell_type": "code",
   "execution_count": 57,
   "metadata": {
    "id": "6c_Kvzy7OHGA"
   },
   "outputs": [],
   "source": [
    "import matplotlib.pyplot as plt\n",
    "from sklearn.ensemble import IsolationForest"
   ]
  },
  {
   "cell_type": "code",
   "execution_count": 58,
   "metadata": {
    "id": "YBGQCn6qgD39"
   },
   "outputs": [],
   "source": [
    "df_user_pc_count = np.array(df_user_pc['count'])"
   ]
  },
  {
   "cell_type": "code",
   "execution_count": 59,
   "metadata": {
    "id": "mfnylg3ZgOE5"
   },
   "outputs": [],
   "source": [
    "df_user_pc_ct = df_user_pc_count.reshape(-1,1)"
   ]
  },
  {
   "cell_type": "code",
   "execution_count": 60,
   "metadata": {
    "id": "TzZe9KlALUgq"
   },
   "outputs": [
    {
     "data": {
      "text/plain": [
       "Index(['user', 'count'], dtype='object')"
      ]
     },
     "execution_count": 60,
     "metadata": {},
     "output_type": "execute_result"
    }
   ],
   "source": [
    "df_user_pc.columns"
   ]
  },
  {
   "cell_type": "code",
   "execution_count": 61,
   "metadata": {
    "id": "E5WQPGDuhgAr"
   },
   "outputs": [
    {
     "data": {
      "text/plain": [
       "IsolationForest(contamination=0.1, n_jobs=1)"
      ]
     },
     "execution_count": 61,
     "metadata": {},
     "output_type": "execute_result"
    }
   ],
   "source": [
    "#user pc\n",
    "forest = IsolationForest(bootstrap=False, contamination=0.1,max_features=1.0,\n",
    "                         max_samples='auto',n_estimators=100, n_jobs=1, random_state=None,\n",
    "                         verbose=0)\n",
    "forest.fit(df_user_pc_ct)\n"
   ]
  },
  {
   "cell_type": "code",
   "execution_count": 62,
   "metadata": {
    "id": "dqGC-D062i7J"
   },
   "outputs": [],
   "source": [
    "import pickle \n",
    "with open('../pkl/user_pc_ct.pkl','wb') as file :\n",
    "  pickle.dump(forest, file)"
   ]
  },
  {
   "cell_type": "code",
   "execution_count": 63,
   "metadata": {
    "id": "KAVGtzULiOVz"
   },
   "outputs": [
    {
     "name": "stdout",
     "output_type": "stream",
     "text": [
      "[0.09012279 0.09012279 0.         0.09012279 0.09012279 0.09012279\n",
      " 0.09012279 0.09012279 0.09012279]\n"
     ]
    }
   ],
   "source": [
    "graph_a_score = forest.decision_function(df_user_pc_ct)\n",
    "print(graph_a_score[1:10])"
   ]
  },
  {
   "cell_type": "code",
   "execution_count": 64,
   "metadata": {
    "id": "Pewg2cRzihdw"
   },
   "outputs": [
    {
     "name": "stdout",
     "output_type": "stream",
     "text": [
      "        user    ascore\n",
      "0    AAN0077  0.090123\n",
      "1    AAW0103  0.090123\n",
      "2    ACE0265  0.090123\n",
      "3    ACL0394  0.000000\n",
      "5    ADR0362  0.090123\n",
      "..       ...       ...\n",
      "622  XTM0246  0.090123\n",
      "623  YJT0368  0.000000\n",
      "625  YSB0779  0.090123\n",
      "626  ZBL0379  0.090123\n",
      "627  ZIF0269  0.090123\n",
      "\n",
      "[230 rows x 2 columns]\n"
     ]
    }
   ],
   "source": [
    "graph_result = pd.DataFrame()\n",
    "graph_result['user'] = df_user_pc['user']\n",
    "graph_result['ascore'] = graph_a_score\n",
    "# graph_result.to_csv('user_pc_ct.csv')\n",
    "print(graph_result)"
   ]
  },
  {
   "cell_type": "code",
   "execution_count": 65,
   "metadata": {
    "id": "s1fOe_9hi_iq"
   },
   "outputs": [
    {
     "name": "stdout",
     "output_type": "stream",
     "text": [
      "        user    ascore\n",
      "14   AJR0231 -0.235827\n",
      "52   ALC0100 -0.145159\n",
      "93   ARH0777 -0.176816\n",
      "107  BGZ0902 -0.277596\n",
      "149  CGH0088 -0.176816\n",
      "162  CQS0899 -0.254850\n",
      "199  DNS0397 -0.239234\n",
      "212  EER0383 -0.145159\n",
      "248  FED0275 -0.275500\n",
      "394  LWB0078 -0.361718\n",
      "480  PYT0264 -0.217535\n",
      "571  WJP0386 -0.284980\n",
      "583  WMP0272 -0.197126\n"
     ]
    }
   ],
   "source": [
    "outliers = graph_result.loc[graph_result['ascore'] < 0]\n",
    "print(outliers)"
   ]
  },
  {
   "cell_type": "code",
   "execution_count": 66,
   "metadata": {
    "id": "rHH8qPWWjTJR"
   },
   "outputs": [],
   "source": [
    "def dtt2timestamp(dtt):\n",
    "  time_in_sec = (dtt.hour*60 + dtt.minute) * 60 + dtt.second\n",
    "  return time_in_sec"
   ]
  },
  {
   "cell_type": "code",
   "execution_count": 67,
   "metadata": {
    "id": "NLE_dHZojuO-"
   },
   "outputs": [],
   "source": [
    "df_user_logon_stats_sec = df_user_logon_stats\n"
   ]
  },
  {
   "cell_type": "code",
   "execution_count": null,
   "metadata": {
    "id": "KEgfSjhOkbbR"
   },
   "outputs": [],
   "source": []
  },
  {
   "cell_type": "code",
   "execution_count": 68,
   "metadata": {
    "id": "ZYxl4AMbj4Nw"
   },
   "outputs": [],
   "source": [
    "min_ts = [dtt2timestamp(dtt) for dtt in df_user_logon_stats_sec['min']]\n",
    "max_ts = [dtt2timestamp(dtt) for dtt in df_user_logon_stats_sec['max']]\n",
    "mode_ts = [dtt2timestamp(dtt) for dtt in df_user_logon_stats_sec['mode']]\n",
    "mean_ts = [dtt2timestamp(dtt) for dtt in df_user_logon_stats_sec['mean']]"
   ]
  },
  {
   "cell_type": "code",
   "execution_count": 69,
   "metadata": {
    "id": "mF89Jzhfkp9K"
   },
   "outputs": [],
   "source": [
    "df_user_logon_stats_sec['min_ts'] = min_ts\n",
    "df_user_logon_stats_sec['max_ts'] = max_ts\n",
    "df_user_logon_stats_sec['mode_ts'] = mode_ts\n",
    "df_user_logon_stats_sec['mean_ts'] = mean_ts"
   ]
  },
  {
   "cell_type": "code",
   "execution_count": null,
   "metadata": {
    "id": "x9pa2dh2kzMz"
   },
   "outputs": [],
   "source": []
  },
  {
   "cell_type": "code",
   "execution_count": 70,
   "metadata": {
    "id": "pvVC-j0pk49N"
   },
   "outputs": [
    {
     "data": {
      "text/html": [
       "<div>\n",
       "<style scoped>\n",
       "    .dataframe tbody tr th:only-of-type {\n",
       "        vertical-align: middle;\n",
       "    }\n",
       "\n",
       "    .dataframe tbody tr th {\n",
       "        vertical-align: top;\n",
       "    }\n",
       "\n",
       "    .dataframe thead th {\n",
       "        text-align: right;\n",
       "    }\n",
       "</style>\n",
       "<table border=\"1\" class=\"dataframe\">\n",
       "  <thead>\n",
       "    <tr style=\"text-align: right;\">\n",
       "      <th></th>\n",
       "      <th>user</th>\n",
       "      <th>min_ts</th>\n",
       "      <th>max_ts</th>\n",
       "      <th>mode_ts</th>\n",
       "      <th>mean_ts</th>\n",
       "    </tr>\n",
       "  </thead>\n",
       "  <tbody>\n",
       "    <tr>\n",
       "      <th>0</th>\n",
       "      <td>AAN0077</td>\n",
       "      <td>27900</td>\n",
       "      <td>29580</td>\n",
       "      <td>29220</td>\n",
       "      <td>25200</td>\n",
       "    </tr>\n",
       "    <tr>\n",
       "      <th>1</th>\n",
       "      <td>AAW0103</td>\n",
       "      <td>25200</td>\n",
       "      <td>26280</td>\n",
       "      <td>26100</td>\n",
       "      <td>25200</td>\n",
       "    </tr>\n",
       "    <tr>\n",
       "      <th>2</th>\n",
       "      <td>ACE0265</td>\n",
       "      <td>28800</td>\n",
       "      <td>30300</td>\n",
       "      <td>30240</td>\n",
       "      <td>28800</td>\n",
       "    </tr>\n",
       "    <tr>\n",
       "      <th>3</th>\n",
       "      <td>ACL0394</td>\n",
       "      <td>32400</td>\n",
       "      <td>59289</td>\n",
       "      <td>33300</td>\n",
       "      <td>32400</td>\n",
       "    </tr>\n",
       "    <tr>\n",
       "      <th>4</th>\n",
       "      <td>ADR0362</td>\n",
       "      <td>27000</td>\n",
       "      <td>28080</td>\n",
       "      <td>28080</td>\n",
       "      <td>25200</td>\n",
       "    </tr>\n",
       "    <tr>\n",
       "      <th>...</th>\n",
       "      <td>...</td>\n",
       "      <td>...</td>\n",
       "      <td>...</td>\n",
       "      <td>...</td>\n",
       "      <td>...</td>\n",
       "    </tr>\n",
       "    <tr>\n",
       "      <th>225</th>\n",
       "      <td>XTM0246</td>\n",
       "      <td>27900</td>\n",
       "      <td>29520</td>\n",
       "      <td>28800</td>\n",
       "      <td>25200</td>\n",
       "    </tr>\n",
       "    <tr>\n",
       "      <th>226</th>\n",
       "      <td>YJT0368</td>\n",
       "      <td>27000</td>\n",
       "      <td>66246</td>\n",
       "      <td>27900</td>\n",
       "      <td>25200</td>\n",
       "    </tr>\n",
       "    <tr>\n",
       "      <th>227</th>\n",
       "      <td>YSB0779</td>\n",
       "      <td>27000</td>\n",
       "      <td>28020</td>\n",
       "      <td>27900</td>\n",
       "      <td>25200</td>\n",
       "    </tr>\n",
       "    <tr>\n",
       "      <th>228</th>\n",
       "      <td>ZBL0379</td>\n",
       "      <td>29700</td>\n",
       "      <td>52585</td>\n",
       "      <td>30600</td>\n",
       "      <td>36000</td>\n",
       "    </tr>\n",
       "    <tr>\n",
       "      <th>229</th>\n",
       "      <td>ZIF0269</td>\n",
       "      <td>25200</td>\n",
       "      <td>26760</td>\n",
       "      <td>26100</td>\n",
       "      <td>25200</td>\n",
       "    </tr>\n",
       "  </tbody>\n",
       "</table>\n",
       "<p>230 rows × 5 columns</p>\n",
       "</div>"
      ],
      "text/plain": [
       "        user  min_ts  max_ts  mode_ts  mean_ts\n",
       "0    AAN0077   27900   29580    29220    25200\n",
       "1    AAW0103   25200   26280    26100    25200\n",
       "2    ACE0265   28800   30300    30240    28800\n",
       "3    ACL0394   32400   59289    33300    32400\n",
       "4    ADR0362   27000   28080    28080    25200\n",
       "..       ...     ...     ...      ...      ...\n",
       "225  XTM0246   27900   29520    28800    25200\n",
       "226  YJT0368   27000   66246    27900    25200\n",
       "227  YSB0779   27000   28020    27900    25200\n",
       "228  ZBL0379   29700   52585    30600    36000\n",
       "229  ZIF0269   25200   26760    26100    25200\n",
       "\n",
       "[230 rows x 5 columns]"
      ]
     },
     "execution_count": 70,
     "metadata": {},
     "output_type": "execute_result"
    }
   ],
   "source": [
    "df_user_logon_stats_sec.drop(['min','max','mode','mean'], axis=1)"
   ]
  },
  {
   "cell_type": "code",
   "execution_count": 71,
   "metadata": {
    "id": "ifvL5-NClHIR"
   },
   "outputs": [],
   "source": [
    "df_user_logoff_stats_sec = df_user_logoff_stats\n"
   ]
  },
  {
   "cell_type": "code",
   "execution_count": null,
   "metadata": {
    "id": "Bf6_0MbYllVB"
   },
   "outputs": [],
   "source": []
  },
  {
   "cell_type": "code",
   "execution_count": 72,
   "metadata": {
    "id": "GN2B0tr2lUEM"
   },
   "outputs": [],
   "source": [
    "min_ts = [dtt2timestamp(dtt) for dtt in df_user_logoff_stats_sec['min']] \n",
    "max_ts = [dtt2timestamp(dtt) for dtt in df_user_logoff_stats_sec['max']]\n",
    "mode_ts = [dtt2timestamp(dtt) for dtt in df_user_logoff_stats_sec['mode']]\n",
    "mean_ts = [dtt2timestamp(dtt) for dtt in df_user_logoff_stats_sec['mean']]"
   ]
  },
  {
   "cell_type": "code",
   "execution_count": 73,
   "metadata": {
    "id": "fs92g2OJlayS"
   },
   "outputs": [],
   "source": [
    "df_user_logoff_stats_sec['min_ts'] = min_ts\n",
    "df_user_logoff_stats_sec['max_ts'] = max_ts\n",
    "df_user_logoff_stats_sec['mode_ts'] = mode_ts\n",
    "df_user_logoff_stats_sec['mean_ts'] = mean_ts"
   ]
  },
  {
   "cell_type": "code",
   "execution_count": 74,
   "metadata": {
    "id": "00Bl8qoVmQBl"
   },
   "outputs": [
    {
     "data": {
      "text/html": [
       "<div>\n",
       "<style scoped>\n",
       "    .dataframe tbody tr th:only-of-type {\n",
       "        vertical-align: middle;\n",
       "    }\n",
       "\n",
       "    .dataframe tbody tr th {\n",
       "        vertical-align: top;\n",
       "    }\n",
       "\n",
       "    .dataframe thead th {\n",
       "        text-align: right;\n",
       "    }\n",
       "</style>\n",
       "<table border=\"1\" class=\"dataframe\">\n",
       "  <thead>\n",
       "    <tr style=\"text-align: right;\">\n",
       "      <th></th>\n",
       "      <th>user</th>\n",
       "      <th>min_ts</th>\n",
       "      <th>max_ts</th>\n",
       "      <th>mode_ts</th>\n",
       "      <th>mean_ts</th>\n",
       "    </tr>\n",
       "  </thead>\n",
       "  <tbody>\n",
       "    <tr>\n",
       "      <th>0</th>\n",
       "      <td>AAN0077</td>\n",
       "      <td>60420</td>\n",
       "      <td>62100</td>\n",
       "      <td>61200</td>\n",
       "      <td>57600</td>\n",
       "    </tr>\n",
       "    <tr>\n",
       "      <th>1</th>\n",
       "      <td>AAW0103</td>\n",
       "      <td>58320</td>\n",
       "      <td>59400</td>\n",
       "      <td>58440</td>\n",
       "      <td>57600</td>\n",
       "    </tr>\n",
       "    <tr>\n",
       "      <th>2</th>\n",
       "      <td>ACE0265</td>\n",
       "      <td>57900</td>\n",
       "      <td>59400</td>\n",
       "      <td>57960</td>\n",
       "      <td>57600</td>\n",
       "    </tr>\n",
       "    <tr>\n",
       "      <th>3</th>\n",
       "      <td>ACL0394</td>\n",
       "      <td>33235</td>\n",
       "      <td>63000</td>\n",
       "      <td>62100</td>\n",
       "      <td>57600</td>\n",
       "    </tr>\n",
       "    <tr>\n",
       "      <th>4</th>\n",
       "      <td>ADR0362</td>\n",
       "      <td>60120</td>\n",
       "      <td>61200</td>\n",
       "      <td>60300</td>\n",
       "      <td>57600</td>\n",
       "    </tr>\n",
       "    <tr>\n",
       "      <th>...</th>\n",
       "      <td>...</td>\n",
       "      <td>...</td>\n",
       "      <td>...</td>\n",
       "      <td>...</td>\n",
       "      <td>...</td>\n",
       "    </tr>\n",
       "    <tr>\n",
       "      <th>225</th>\n",
       "      <td>XTM0246</td>\n",
       "      <td>60480</td>\n",
       "      <td>62100</td>\n",
       "      <td>61200</td>\n",
       "      <td>57600</td>\n",
       "    </tr>\n",
       "    <tr>\n",
       "      <th>226</th>\n",
       "      <td>YJT0368</td>\n",
       "      <td>27293</td>\n",
       "      <td>66362</td>\n",
       "      <td>60300</td>\n",
       "      <td>54000</td>\n",
       "    </tr>\n",
       "    <tr>\n",
       "      <th>227</th>\n",
       "      <td>YSB0779</td>\n",
       "      <td>60180</td>\n",
       "      <td>61200</td>\n",
       "      <td>60300</td>\n",
       "      <td>57600</td>\n",
       "    </tr>\n",
       "    <tr>\n",
       "      <th>228</th>\n",
       "      <td>ZBL0379</td>\n",
       "      <td>69420</td>\n",
       "      <td>71100</td>\n",
       "      <td>70200</td>\n",
       "      <td>68400</td>\n",
       "    </tr>\n",
       "    <tr>\n",
       "      <th>229</th>\n",
       "      <td>ZIF0269</td>\n",
       "      <td>57840</td>\n",
       "      <td>59400</td>\n",
       "      <td>58500</td>\n",
       "      <td>57600</td>\n",
       "    </tr>\n",
       "  </tbody>\n",
       "</table>\n",
       "<p>230 rows × 5 columns</p>\n",
       "</div>"
      ],
      "text/plain": [
       "        user  min_ts  max_ts  mode_ts  mean_ts\n",
       "0    AAN0077   60420   62100    61200    57600\n",
       "1    AAW0103   58320   59400    58440    57600\n",
       "2    ACE0265   57900   59400    57960    57600\n",
       "3    ACL0394   33235   63000    62100    57600\n",
       "4    ADR0362   60120   61200    60300    57600\n",
       "..       ...     ...     ...      ...      ...\n",
       "225  XTM0246   60480   62100    61200    57600\n",
       "226  YJT0368   27293   66362    60300    54000\n",
       "227  YSB0779   60180   61200    60300    57600\n",
       "228  ZBL0379   69420   71100    70200    68400\n",
       "229  ZIF0269   57840   59400    58500    57600\n",
       "\n",
       "[230 rows x 5 columns]"
      ]
     },
     "execution_count": 74,
     "metadata": {},
     "output_type": "execute_result"
    }
   ],
   "source": [
    "df_user_logoff_stats_sec.drop(['min', 'max','mode','mean'], axis=1)"
   ]
  },
  {
   "cell_type": "code",
   "execution_count": 75,
   "metadata": {
    "id": "SX_ib_9SmSpp"
   },
   "outputs": [],
   "source": [
    "df_log_on_off_stats = pd.DataFrame()\n",
    "\n",
    "df_log_on_off_stats['user'] = df_user_logon_stats_sec['user']\n",
    "df_log_on_off_stats['on_min_ts'] = df_user_logon_stats_sec['min_ts']\n",
    "df_log_on_off_stats['on_max_ts'] = df_user_logon_stats_sec['max_ts']\n",
    "df_log_on_off_stats['on_mode_ts'] = df_user_logon_stats_sec['mode_ts']\n",
    "df_log_on_off_stats['on_mean_ts'] = df_user_logon_stats_sec['mean_ts']\n",
    "df_log_on_off_stats['off_min_ts'] = df_user_logon_stats_sec['min_ts']\n",
    "df_log_on_off_stats['off_max_ts'] = df_user_logon_stats_sec['max_ts']\n",
    "df_log_on_off_stats['off_mode_ts'] = df_user_logon_stats_sec['mode_ts']\n",
    "df_log_on_off_stats['off_mean_ts'] = df_user_logon_stats_sec['mean_ts']"
   ]
  },
  {
   "cell_type": "code",
   "execution_count": 76,
   "metadata": {
    "id": "qRZ0eHGhnTjo"
   },
   "outputs": [
    {
     "data": {
      "text/plain": [
       "user           object\n",
       "on_min_ts       int64\n",
       "on_max_ts       int64\n",
       "on_mode_ts      int64\n",
       "on_mean_ts      int64\n",
       "off_min_ts      int64\n",
       "off_max_ts      int64\n",
       "off_mode_ts     int64\n",
       "off_mean_ts     int64\n",
       "dtype: object"
      ]
     },
     "execution_count": 76,
     "metadata": {},
     "output_type": "execute_result"
    }
   ],
   "source": [
    "df_log_on_off_stats.dtypes"
   ]
  },
  {
   "cell_type": "code",
   "execution_count": 77,
   "metadata": {
    "id": "uNwVevJVnWw0"
   },
   "outputs": [
    {
     "name": "stdout",
     "output_type": "stream",
     "text": [
      "[[27900 29580 29220 ... 29580 29220 25200]\n",
      " [25200 26280 26100 ... 26280 26100 25200]\n",
      " [28800 30300 30240 ... 30300 30240 28800]\n",
      " ...\n",
      " [27000 28020 27900 ... 28020 27900 25200]\n",
      " [29700 52585 30600 ... 52585 30600 36000]\n",
      " [25200 26760 26100 ... 26760 26100 25200]]\n"
     ]
    }
   ],
   "source": [
    "log_stats = df_log_on_off_stats.drop(['user'], axis = 1)\n",
    "log_stats_matrix = np.matrix(log_stats)\n",
    "print(log_stats_matrix)"
   ]
  },
  {
   "cell_type": "code",
   "execution_count": 78,
   "metadata": {
    "id": "N9lDES_NLF_b"
   },
   "outputs": [
    {
     "data": {
      "text/plain": [
       "Index(['user', 'on_min_ts', 'on_max_ts', 'on_mode_ts', 'on_mean_ts',\n",
       "       'off_min_ts', 'off_max_ts', 'off_mode_ts', 'off_mean_ts'],\n",
       "      dtype='object')"
      ]
     },
     "execution_count": 78,
     "metadata": {},
     "output_type": "execute_result"
    }
   ],
   "source": [
    "df_log_on_off_stats.columns"
   ]
  },
  {
   "cell_type": "code",
   "execution_count": 79,
   "metadata": {
    "id": "R1nHKRQ9nzaD"
   },
   "outputs": [
    {
     "data": {
      "text/plain": [
       "array([0.08320784, 0.09802686, 0.10074721, 0.02524947, 0.13713674,\n",
       "       0.17745041, 0.15477641, 0.16289324, 0.13325635, 0.055631  ])"
      ]
     },
     "execution_count": 79,
     "metadata": {},
     "output_type": "execute_result"
    }
   ],
   "source": [
    "#logon\n",
    "forest = IsolationForest(bootstrap=False, contamination= 0.1 , max_features=1.0,\n",
    "        max_samples='auto', n_estimators=100, n_jobs=1, random_state=0,\n",
    "        verbose=0)\n",
    "forest.fit(log_stats_matrix)\n",
    "log_ascore = forest.decision_function(log_stats_matrix)\n",
    "log_ascore[:10]"
   ]
  },
  {
   "cell_type": "code",
   "execution_count": 80,
   "metadata": {
    "id": "LRYVUCn7ieBH"
   },
   "outputs": [
    {
     "name": "stdout",
     "output_type": "stream",
     "text": [
      "0    207\n",
      "1     23\n",
      "dtype: int64\n"
     ]
    }
   ],
   "source": [
    "# counting the values\n",
    "df22 = pd.Series(forest.predict(log_stats_matrix))\n",
    "df22 = df22.map({1:0, -1:1})\n",
    "print(df22.value_counts())"
   ]
  },
  {
   "cell_type": "code",
   "execution_count": 81,
   "metadata": {
    "id": "Au2Q3iu114eB"
   },
   "outputs": [],
   "source": [
    "import pickle \n",
    "with open('../pkl/log_stats_matrix.pkl','wb') as file :\n",
    "  pickle.dump(forest, file)"
   ]
  },
  {
   "cell_type": "code",
   "execution_count": 82,
   "metadata": {
    "id": "kAUP6ou1n9kp"
   },
   "outputs": [
    {
     "name": "stdout",
     "output_type": "stream",
     "text": [
      "        user    ascore\n",
      "0    AAN0077  0.083208\n",
      "1    AAW0103  0.098027\n",
      "2    ACE0265  0.100747\n",
      "3    ACL0394  0.025249\n",
      "4    ADR0362  0.137137\n",
      "..       ...       ...\n",
      "225  XTM0246  0.165602\n",
      "226  YJT0368  0.019951\n",
      "227  YSB0779  0.174086\n",
      "228  ZBL0379  0.115757\n",
      "229  ZIF0269  0.086144\n",
      "\n",
      "[230 rows x 2 columns]\n"
     ]
    }
   ],
   "source": [
    "df_user_log_result = pd.DataFrame()\n",
    "df_user_log_result['user'] = df_user_logoff_stats_sec['user']\n",
    "df_user_log_result['ascore'] = log_ascore\n",
    "# df_user_log_result.to_csv('user_log_result.csv')\n",
    "print(df_user_log_result)\n"
   ]
  },
  {
   "cell_type": "code",
   "execution_count": 83,
   "metadata": {
    "id": "Z6JSUpMjoPrm"
   },
   "outputs": [
    {
     "data": {
      "text/html": [
       "<div>\n",
       "<style scoped>\n",
       "    .dataframe tbody tr th:only-of-type {\n",
       "        vertical-align: middle;\n",
       "    }\n",
       "\n",
       "    .dataframe tbody tr th {\n",
       "        vertical-align: top;\n",
       "    }\n",
       "\n",
       "    .dataframe thead th {\n",
       "        text-align: right;\n",
       "    }\n",
       "</style>\n",
       "<table border=\"1\" class=\"dataframe\">\n",
       "  <thead>\n",
       "    <tr style=\"text-align: right;\">\n",
       "      <th></th>\n",
       "      <th>user</th>\n",
       "      <th>ascore</th>\n",
       "    </tr>\n",
       "  </thead>\n",
       "  <tbody>\n",
       "    <tr>\n",
       "      <th>14</th>\n",
       "      <td>AMR0656</td>\n",
       "      <td>-0.002597</td>\n",
       "    </tr>\n",
       "    <tr>\n",
       "      <th>29</th>\n",
       "      <td>BKA0340</td>\n",
       "      <td>-0.001159</td>\n",
       "    </tr>\n",
       "    <tr>\n",
       "      <th>31</th>\n",
       "      <td>BMS0057</td>\n",
       "      <td>-0.010898</td>\n",
       "    </tr>\n",
       "    <tr>\n",
       "      <th>43</th>\n",
       "      <td>BZV0067</td>\n",
       "      <td>-0.016387</td>\n",
       "    </tr>\n",
       "    <tr>\n",
       "      <th>56</th>\n",
       "      <td>CQS0899</td>\n",
       "      <td>-0.112930</td>\n",
       "    </tr>\n",
       "    <tr>\n",
       "      <th>65</th>\n",
       "      <td>DJS0406</td>\n",
       "      <td>-0.041076</td>\n",
       "    </tr>\n",
       "    <tr>\n",
       "      <th>73</th>\n",
       "      <td>EER0383</td>\n",
       "      <td>-0.033583</td>\n",
       "    </tr>\n",
       "    <tr>\n",
       "      <th>77</th>\n",
       "      <td>FED0275</td>\n",
       "      <td>-0.113881</td>\n",
       "    </tr>\n",
       "    <tr>\n",
       "      <th>83</th>\n",
       "      <td>GFM0250</td>\n",
       "      <td>-0.051130</td>\n",
       "    </tr>\n",
       "    <tr>\n",
       "      <th>86</th>\n",
       "      <td>GJP0098</td>\n",
       "      <td>-0.023753</td>\n",
       "    </tr>\n",
       "    <tr>\n",
       "      <th>95</th>\n",
       "      <td>HML0060</td>\n",
       "      <td>-0.084166</td>\n",
       "    </tr>\n",
       "    <tr>\n",
       "      <th>144</th>\n",
       "      <td>LQD0409</td>\n",
       "      <td>-0.100517</td>\n",
       "    </tr>\n",
       "    <tr>\n",
       "      <th>145</th>\n",
       "      <td>LTB0107</td>\n",
       "      <td>-0.043406</td>\n",
       "    </tr>\n",
       "    <tr>\n",
       "      <th>147</th>\n",
       "      <td>LWB0078</td>\n",
       "      <td>-0.046083</td>\n",
       "    </tr>\n",
       "    <tr>\n",
       "      <th>165</th>\n",
       "      <td>NST0254</td>\n",
       "      <td>-0.022221</td>\n",
       "    </tr>\n",
       "    <tr>\n",
       "      <th>178</th>\n",
       "      <td>RAW0533</td>\n",
       "      <td>-0.094586</td>\n",
       "    </tr>\n",
       "    <tr>\n",
       "      <th>180</th>\n",
       "      <td>RCG0105</td>\n",
       "      <td>-0.050467</td>\n",
       "    </tr>\n",
       "    <tr>\n",
       "      <th>201</th>\n",
       "      <td>TBD0276</td>\n",
       "      <td>-0.008988</td>\n",
       "    </tr>\n",
       "    <tr>\n",
       "      <th>210</th>\n",
       "      <td>UMA0072</td>\n",
       "      <td>-0.012776</td>\n",
       "    </tr>\n",
       "    <tr>\n",
       "      <th>214</th>\n",
       "      <td>VLB0069</td>\n",
       "      <td>-0.055590</td>\n",
       "    </tr>\n",
       "    <tr>\n",
       "      <th>220</th>\n",
       "      <td>WMP0272</td>\n",
       "      <td>-0.013380</td>\n",
       "    </tr>\n",
       "    <tr>\n",
       "      <th>221</th>\n",
       "      <td>WXW0044</td>\n",
       "      <td>-0.018717</td>\n",
       "    </tr>\n",
       "    <tr>\n",
       "      <th>223</th>\n",
       "      <td>XCR0407</td>\n",
       "      <td>-0.094866</td>\n",
       "    </tr>\n",
       "  </tbody>\n",
       "</table>\n",
       "</div>"
      ],
      "text/plain": [
       "        user    ascore\n",
       "14   AMR0656 -0.002597\n",
       "29   BKA0340 -0.001159\n",
       "31   BMS0057 -0.010898\n",
       "43   BZV0067 -0.016387\n",
       "56   CQS0899 -0.112930\n",
       "65   DJS0406 -0.041076\n",
       "73   EER0383 -0.033583\n",
       "77   FED0275 -0.113881\n",
       "83   GFM0250 -0.051130\n",
       "86   GJP0098 -0.023753\n",
       "95   HML0060 -0.084166\n",
       "144  LQD0409 -0.100517\n",
       "145  LTB0107 -0.043406\n",
       "147  LWB0078 -0.046083\n",
       "165  NST0254 -0.022221\n",
       "178  RAW0533 -0.094586\n",
       "180  RCG0105 -0.050467\n",
       "201  TBD0276 -0.008988\n",
       "210  UMA0072 -0.012776\n",
       "214  VLB0069 -0.055590\n",
       "220  WMP0272 -0.013380\n",
       "221  WXW0044 -0.018717\n",
       "223  XCR0407 -0.094866"
      ]
     },
     "execution_count": 83,
     "metadata": {},
     "output_type": "execute_result"
    }
   ],
   "source": [
    "df_user_log_result.loc[df_user_log_result['ascore'] < 0]"
   ]
  },
  {
   "cell_type": "code",
   "execution_count": 84,
   "metadata": {
    "id": "E1HKkFzzoWx3"
   },
   "outputs": [],
   "source": [
    "df_device_conn_stats_sec = df_device_conn_stats\n",
    "con_min_ts = [dtt2timestamp(dtt) for dtt in df_device_conn_stats_sec['min']]\n",
    "con_max_ts = [dtt2timestamp(dtt) for dtt in df_device_conn_stats_sec['max']]\n",
    "con_mode_ts = [dtt2timestamp(dtt) for dtt in df_device_conn_stats_sec['mode']]\n",
    "con_mean_ts = [dtt2timestamp(dtt) for dtt in df_device_conn_stats_sec['mean']]\n",
    "\n",
    "df_device_conn_stats_sec['min_ts'] = con_min_ts\n",
    "df_device_conn_stats_sec['max_ts'] = con_max_ts\n",
    "df_device_conn_stats_sec['mode_ts'] = con_mode_ts\n",
    "df_device_conn_stats_sec['mean_ts'] = con_mean_ts\n",
    "df_device_conn_stats_sec = df_device_conn_stats_sec.drop(['min', 'max','mode','mean'], axis=1)"
   ]
  },
  {
   "cell_type": "code",
   "execution_count": 85,
   "metadata": {
    "id": "uOwtUMGUoxv8"
   },
   "outputs": [],
   "source": [
    "df_device_disconn_stats_sec = df_device_conn_stats\n",
    "discon_min_ts = [dtt2timestamp(dtt) for dtt in df_device_disconn_stats_sec['min']]\n",
    "discon_max_ts = [dtt2timestamp(dtt) for dtt in df_device_disconn_stats_sec['max']]\n",
    "discon_mode_ts = [dtt2timestamp(dtt) for dtt in df_device_disconn_stats_sec['mode']]\n",
    "discon_mean_ts = [dtt2timestamp(dtt) for dtt in df_device_disconn_stats_sec['mean']]\n",
    "\n",
    "df_device_disconn_stats_sec['min_ts'] = discon_min_ts\n",
    "df_device_disconn_stats_sec['max_ts'] = discon_max_ts\n",
    "df_device_disconn_stats_sec['mode_ts'] = discon_mode_ts\n",
    "df_device_disconn_stats_sec['mean_ts'] = discon_mean_ts\n",
    "df_device_disconn_stats_sec = df_device_disconn_stats_sec.drop(['min', 'max','mode','mean'], axis=1)\n"
   ]
  },
  {
   "cell_type": "code",
   "execution_count": 86,
   "metadata": {
    "id": "Wen5i_JcpJIu"
   },
   "outputs": [],
   "source": [
    "df_device_full = pd.DataFrame()\n",
    "df_device_full['user'] = df_device_conn_stats['user']"
   ]
  },
  {
   "cell_type": "code",
   "execution_count": 87,
   "metadata": {
    "id": "akDuC76Lp31p"
   },
   "outputs": [],
   "source": [
    "df_device_full['con_min_ts'] = df_device_conn_stats_sec['min_ts']\n",
    "df_device_full['con_max_ts'] = df_device_conn_stats_sec['max_ts']\n",
    "df_device_full['con_mode_ts'] = df_device_conn_stats_sec['mode_ts']\n",
    "df_device_full['con_mean_ts'] = df_device_conn_stats_sec['mean_ts']\n",
    "\n",
    "# disconnect stats\n",
    "df_device_full['dcon_min_ts'] = df_device_disconn_stats_sec['min_ts']\n",
    "df_device_full['dcon_max_ts'] = df_device_disconn_stats_sec['max_ts']\n",
    "df_device_full['dcon_mode_ts'] = df_device_disconn_stats_sec['mode_ts']\n",
    "df_device_full['dcon_mean_ts'] = df_device_disconn_stats_sec['mean_ts']\n",
    "\n",
    "# files per day stats\n",
    "df_device_full['file_mode'] = df_files_stats_new['mode_trasfers_per_user']\n",
    "df_device_full['file_max'] = df_files_stats_new['max_transfers_per_user']"
   ]
  },
  {
   "cell_type": "code",
   "execution_count": 88,
   "metadata": {
    "id": "LOWe3yHQqOKB"
   },
   "outputs": [
    {
     "data": {
      "text/plain": [
       "matrix([[30401, 68694, 52097, 43200, 30401, 68694, 52097, 43200,   342,\n",
       "           468],\n",
       "        [27463, 56918, 30520, 36000, 27463, 56918, 30520, 36000,    54,\n",
       "           234],\n",
       "        [27693, 55895, 31210, 36000, 27693, 55895, 31210, 36000,    24,\n",
       "            72],\n",
       "        [27756, 59689, 51140, 39600, 27756, 59689, 51140, 39600,    36,\n",
       "           126],\n",
       "        [ 4870, 83480, 31609, 39600,  4870, 83480, 31609, 39600,    54,\n",
       "           198],\n",
       "        [33496, 61926, 35672, 39600, 33496, 61926, 35672, 39600,    36,\n",
       "           216],\n",
       "        [ 1185, 76882, 56810, 46800,  1185, 76882, 56810, 46800,    36,\n",
       "           162],\n",
       "        [28882, 59022, 44564, 39600, 28882, 59022, 44564, 39600,   396,\n",
       "           486],\n",
       "        [16018, 83814, 44991, 39600, 16018, 83814, 44991, 39600,    36,\n",
       "           198],\n",
       "        [29154, 57723, 45511, 39600, 29154, 57723, 45511, 39600,    18,\n",
       "           144]])"
      ]
     },
     "execution_count": 88,
     "metadata": {},
     "output_type": "execute_result"
    }
   ],
   "source": [
    "device_full_matrix = df_device_full.drop(['user'],axis=1)\n",
    "device_params = np.matrix(device_full_matrix)\n",
    "device_params[:10]"
   ]
  },
  {
   "cell_type": "code",
   "execution_count": 89,
   "metadata": {
    "id": "AQ6-N2pIK4ku"
   },
   "outputs": [
    {
     "data": {
      "text/plain": [
       "Index(['user', 'con_min_ts', 'con_max_ts', 'con_mode_ts', 'con_mean_ts',\n",
       "       'dcon_min_ts', 'dcon_max_ts', 'dcon_mode_ts', 'dcon_mean_ts',\n",
       "       'file_mode', 'file_max'],\n",
       "      dtype='object')"
      ]
     },
     "execution_count": 89,
     "metadata": {},
     "output_type": "execute_result"
    }
   ],
   "source": [
    "df_device_full.columns"
   ]
  },
  {
   "cell_type": "code",
   "execution_count": 90,
   "metadata": {
    "id": "4HjCKrgbsUbu"
   },
   "outputs": [
    {
     "data": {
      "text/plain": [
       "IsolationForest(contamination=0.1, n_jobs=1)"
      ]
     },
     "execution_count": 90,
     "metadata": {},
     "output_type": "execute_result"
    }
   ],
   "source": [
    "# device (-user)\n",
    "forest = IsolationForest(bootstrap=False, contamination=0.1, max_features=1.0,\n",
    "        max_samples='auto', n_estimators=100, n_jobs=1, random_state=None,\n",
    "        verbose=0)\n",
    "forest.fit(device_params)\n"
   ]
  },
  {
   "cell_type": "code",
   "execution_count": 91,
   "metadata": {
    "id": "S6r3RY3a2Ae5"
   },
   "outputs": [],
   "source": [
    "import pickle \n",
    "with open('../pkl/device_params.pkl','wb') as file :\n",
    "  pickle.dump(forest, file)"
   ]
  },
  {
   "cell_type": "code",
   "execution_count": 92,
   "metadata": {
    "id": "YtlBxG8BtL3r"
   },
   "outputs": [
    {
     "name": "stdout",
     "output_type": "stream",
     "text": [
      "[ 0.02617247  0.09579629  0.06739464  0.13371792  0.0390894   0.10504114\n",
      " -0.06573056  0.08901924  0.03211036  0.13514658  0.100216    0.08405237\n",
      " -0.07381876  0.10881404  0.0460145   0.10827872  0.02783885  0.07989495\n",
      "  0.10041519  0.03925224  0.0924164   0.09402688  0.10937815  0.11088547\n",
      "  0.07908424  0.142889    0.07725592  0.14549368  0.15214872  0.00459125\n",
      "  0.01040068  0.0332669   0.02117226  0.08988692  0.05246347  0.03548873\n",
      "  0.0672734  -0.12831842  0.07890999  0.04728251 -0.05407012  0.07042304\n",
      "  0.10641446  0.10338182  0.10113314  0.05124619 -0.00688688]\n"
     ]
    }
   ],
   "source": [
    "\n",
    "dev_file_ascore = forest.decision_function(device_params)\n",
    "print(dev_file_ascore)"
   ]
  },
  {
   "cell_type": "code",
   "execution_count": 93,
   "metadata": {
    "id": "ByDJGFjbtmGc"
   },
   "outputs": [],
   "source": [
    "df_device_file_full_result = pd.DataFrame()\n",
    "\n",
    "df_device_file_full_result['user'] = df_device_full['user']\n",
    "df_device_file_full_result['ascore'] = dev_file_ascore\n",
    "# df_device_file_full_result.to_csv('device_file_full_result.csv')"
   ]
  },
  {
   "cell_type": "code",
   "execution_count": 94,
   "metadata": {
    "id": "IznVB2FLtpdo"
   },
   "outputs": [
    {
     "data": {
      "text/html": [
       "<div>\n",
       "<style scoped>\n",
       "    .dataframe tbody tr th:only-of-type {\n",
       "        vertical-align: middle;\n",
       "    }\n",
       "\n",
       "    .dataframe tbody tr th {\n",
       "        vertical-align: top;\n",
       "    }\n",
       "\n",
       "    .dataframe thead th {\n",
       "        text-align: right;\n",
       "    }\n",
       "</style>\n",
       "<table border=\"1\" class=\"dataframe\">\n",
       "  <thead>\n",
       "    <tr style=\"text-align: right;\">\n",
       "      <th></th>\n",
       "      <th>user</th>\n",
       "      <th>ascore</th>\n",
       "    </tr>\n",
       "  </thead>\n",
       "  <tbody>\n",
       "    <tr>\n",
       "      <th>6</th>\n",
       "      <td>BMS0057</td>\n",
       "      <td>-0.065731</td>\n",
       "    </tr>\n",
       "    <tr>\n",
       "      <th>12</th>\n",
       "      <td>CSD0242</td>\n",
       "      <td>-0.073819</td>\n",
       "    </tr>\n",
       "    <tr>\n",
       "      <th>37</th>\n",
       "      <td>QLC0248</td>\n",
       "      <td>-0.128318</td>\n",
       "    </tr>\n",
       "    <tr>\n",
       "      <th>40</th>\n",
       "      <td>SBM0063</td>\n",
       "      <td>-0.054070</td>\n",
       "    </tr>\n",
       "    <tr>\n",
       "      <th>46</th>\n",
       "      <td>ZBL0379</td>\n",
       "      <td>-0.006887</td>\n",
       "    </tr>\n",
       "  </tbody>\n",
       "</table>\n",
       "</div>"
      ],
      "text/plain": [
       "       user    ascore\n",
       "6   BMS0057 -0.065731\n",
       "12  CSD0242 -0.073819\n",
       "37  QLC0248 -0.128318\n",
       "40  SBM0063 -0.054070\n",
       "46  ZBL0379 -0.006887"
      ]
     },
     "execution_count": 94,
     "metadata": {},
     "output_type": "execute_result"
    }
   ],
   "source": [
    "df_device_file_full_result.loc[df_device_file_full_result['ascore'] < 0] "
   ]
  },
  {
   "cell_type": "code",
   "execution_count": 95,
   "metadata": {
    "id": "vfjotkq8t4gt"
   },
   "outputs": [],
   "source": [
    "psychometric_matrix = df_psychometric_users_clean.drop(['user_id', 'employee_name'], axis = 1)\n",
    "psychometric_params = np.matrix(psychometric_matrix)"
   ]
  },
  {
   "cell_type": "code",
   "execution_count": 96,
   "metadata": {
    "id": "e64NduNPuEDN"
   },
   "outputs": [
    {
     "data": {
      "text/plain": [
       "IsolationForest(contamination=0.1, n_jobs=1)"
      ]
     },
     "execution_count": 96,
     "metadata": {},
     "output_type": "execute_result"
    }
   ],
   "source": [
    "# psycho ds \n",
    "forest = IsolationForest(bootstrap=False, contamination=0.1, max_features=1.0,\n",
    "        max_samples='auto', n_estimators=100, n_jobs=1, random_state=None,\n",
    "        verbose=0)\n",
    "forest.fit(psychometric_params)"
   ]
  },
  {
   "cell_type": "code",
   "execution_count": 97,
   "metadata": {
    "id": "5Li2kLwd2KUv"
   },
   "outputs": [],
   "source": [
    "import pickle \n",
    "with open('../pkl/psychometric_params.pkl','wb') as file :\n",
    "  pickle.dump(forest, file)"
   ]
  },
  {
   "cell_type": "code",
   "execution_count": 98,
   "metadata": {
    "id": "vV6Myef4uNwX"
   },
   "outputs": [
    {
     "data": {
      "text/plain": [
       "array([-0.03225943, -0.03225943, -0.03225943, -0.03225943, -0.03225943,\n",
       "       -0.03225943, -0.03225943, -0.03225943, -0.03225943, -0.03225943])"
      ]
     },
     "execution_count": 98,
     "metadata": {},
     "output_type": "execute_result"
    }
   ],
   "source": [
    "psych_ascore = forest.decision_function(psychometric_params)\n",
    "psych_ascore[:10]"
   ]
  },
  {
   "cell_type": "code",
   "execution_count": 99,
   "metadata": {
    "id": "OrW7ZuzFuSdk"
   },
   "outputs": [],
   "source": [
    "df_psychometric_result = pd.DataFrame()\n",
    "\n",
    "df_psychometric_result['user'] = df_psychometric_users_clean['user_id']\n",
    "df_psychometric_result['ascore'] = psych_ascore\n",
    "# df_psychometric_result.to_csv('psychometric_result.csv')"
   ]
  },
  {
   "cell_type": "code",
   "execution_count": 100,
   "metadata": {
    "id": "rs8lNxnFuV_i"
   },
   "outputs": [
    {
     "data": {
      "text/html": [
       "<div>\n",
       "<style scoped>\n",
       "    .dataframe tbody tr th:only-of-type {\n",
       "        vertical-align: middle;\n",
       "    }\n",
       "\n",
       "    .dataframe tbody tr th {\n",
       "        vertical-align: top;\n",
       "    }\n",
       "\n",
       "    .dataframe thead th {\n",
       "        text-align: right;\n",
       "    }\n",
       "</style>\n",
       "<table border=\"1\" class=\"dataframe\">\n",
       "  <thead>\n",
       "    <tr style=\"text-align: right;\">\n",
       "      <th></th>\n",
       "      <th>user</th>\n",
       "      <th>ascore</th>\n",
       "    </tr>\n",
       "  </thead>\n",
       "  <tbody>\n",
       "    <tr>\n",
       "      <th>0</th>\n",
       "      <td>HPL0787</td>\n",
       "      <td>-0.032259</td>\n",
       "    </tr>\n",
       "    <tr>\n",
       "      <th>1</th>\n",
       "      <td>HPL0787</td>\n",
       "      <td>-0.032259</td>\n",
       "    </tr>\n",
       "    <tr>\n",
       "      <th>2</th>\n",
       "      <td>HPL0787</td>\n",
       "      <td>-0.032259</td>\n",
       "    </tr>\n",
       "    <tr>\n",
       "      <th>3</th>\n",
       "      <td>HPL0787</td>\n",
       "      <td>-0.032259</td>\n",
       "    </tr>\n",
       "    <tr>\n",
       "      <th>4</th>\n",
       "      <td>HPL0787</td>\n",
       "      <td>-0.032259</td>\n",
       "    </tr>\n",
       "    <tr>\n",
       "      <th>...</th>\n",
       "      <td>...</td>\n",
       "      <td>...</td>\n",
       "    </tr>\n",
       "    <tr>\n",
       "      <th>3118</th>\n",
       "      <td>QEB0780</td>\n",
       "      <td>-0.008165</td>\n",
       "    </tr>\n",
       "    <tr>\n",
       "      <th>3119</th>\n",
       "      <td>QEB0780</td>\n",
       "      <td>-0.008165</td>\n",
       "    </tr>\n",
       "    <tr>\n",
       "      <th>3120</th>\n",
       "      <td>QEB0780</td>\n",
       "      <td>-0.008165</td>\n",
       "    </tr>\n",
       "    <tr>\n",
       "      <th>3121</th>\n",
       "      <td>QEB0780</td>\n",
       "      <td>-0.008165</td>\n",
       "    </tr>\n",
       "    <tr>\n",
       "      <th>3122</th>\n",
       "      <td>QEB0780</td>\n",
       "      <td>-0.008165</td>\n",
       "    </tr>\n",
       "  </tbody>\n",
       "</table>\n",
       "<p>306 rows × 2 columns</p>\n",
       "</div>"
      ],
      "text/plain": [
       "         user    ascore\n",
       "0     HPL0787 -0.032259\n",
       "1     HPL0787 -0.032259\n",
       "2     HPL0787 -0.032259\n",
       "3     HPL0787 -0.032259\n",
       "4     HPL0787 -0.032259\n",
       "...       ...       ...\n",
       "3118  QEB0780 -0.008165\n",
       "3119  QEB0780 -0.008165\n",
       "3120  QEB0780 -0.008165\n",
       "3121  QEB0780 -0.008165\n",
       "3122  QEB0780 -0.008165\n",
       "\n",
       "[306 rows x 2 columns]"
      ]
     },
     "execution_count": 100,
     "metadata": {},
     "output_type": "execute_result"
    }
   ],
   "source": [
    "df_psychometric_result.loc[df_psychometric_result['ascore'] < 0]"
   ]
  },
  {
   "cell_type": "code",
   "execution_count": null,
   "metadata": {
    "id": "HqqEJFHuuesd"
   },
   "outputs": [],
   "source": []
  },
  {
   "cell_type": "code",
   "execution_count": 101,
   "metadata": {
    "id": "sB2xHREhvzMD"
   },
   "outputs": [],
   "source": [
    "df = pd.merge(df_log_on_off_stats, df_user_pc, on='user')"
   ]
  },
  {
   "cell_type": "code",
   "execution_count": null,
   "metadata": {
    "id": "7UtfQo7ExJLG"
   },
   "outputs": [],
   "source": []
  },
  {
   "cell_type": "code",
   "execution_count": 102,
   "metadata": {
    "id": "hqA4F16Av_nr"
   },
   "outputs": [],
   "source": [
    "df_1 = pd.merge(df, df_psychometric, left_on = 'user', right_on = 'user_id')"
   ]
  },
  {
   "cell_type": "code",
   "execution_count": 103,
   "metadata": {
    "id": "MJftGvTbgluF"
   },
   "outputs": [
    {
     "data": {
      "text/html": [
       "<div>\n",
       "<style scoped>\n",
       "    .dataframe tbody tr th:only-of-type {\n",
       "        vertical-align: middle;\n",
       "    }\n",
       "\n",
       "    .dataframe tbody tr th {\n",
       "        vertical-align: top;\n",
       "    }\n",
       "\n",
       "    .dataframe thead th {\n",
       "        text-align: right;\n",
       "    }\n",
       "</style>\n",
       "<table border=\"1\" class=\"dataframe\">\n",
       "  <thead>\n",
       "    <tr style=\"text-align: right;\">\n",
       "      <th></th>\n",
       "      <th>user</th>\n",
       "      <th>on_min_ts</th>\n",
       "      <th>on_max_ts</th>\n",
       "      <th>on_mode_ts</th>\n",
       "      <th>on_mean_ts</th>\n",
       "      <th>off_min_ts</th>\n",
       "      <th>off_max_ts</th>\n",
       "      <th>off_mode_ts</th>\n",
       "      <th>off_mean_ts</th>\n",
       "      <th>count</th>\n",
       "      <th>employee_name</th>\n",
       "      <th>user_id</th>\n",
       "      <th>O</th>\n",
       "      <th>C</th>\n",
       "      <th>E</th>\n",
       "      <th>A</th>\n",
       "      <th>N</th>\n",
       "    </tr>\n",
       "  </thead>\n",
       "  <tbody>\n",
       "    <tr>\n",
       "      <th>0</th>\n",
       "      <td>AAN0077</td>\n",
       "      <td>27900</td>\n",
       "      <td>29580</td>\n",
       "      <td>29220</td>\n",
       "      <td>25200</td>\n",
       "      <td>27900</td>\n",
       "      <td>29580</td>\n",
       "      <td>29220</td>\n",
       "      <td>25200</td>\n",
       "      <td>1</td>\n",
       "      <td>Allistair Akeem Nichols</td>\n",
       "      <td>AAN0077</td>\n",
       "      <td>42</td>\n",
       "      <td>15</td>\n",
       "      <td>32</td>\n",
       "      <td>22</td>\n",
       "      <td>29</td>\n",
       "    </tr>\n",
       "    <tr>\n",
       "      <th>1</th>\n",
       "      <td>AAW0103</td>\n",
       "      <td>25200</td>\n",
       "      <td>26280</td>\n",
       "      <td>26100</td>\n",
       "      <td>25200</td>\n",
       "      <td>25200</td>\n",
       "      <td>26280</td>\n",
       "      <td>26100</td>\n",
       "      <td>25200</td>\n",
       "      <td>1</td>\n",
       "      <td>Alexa Allegra Walton</td>\n",
       "      <td>AAW0103</td>\n",
       "      <td>39</td>\n",
       "      <td>42</td>\n",
       "      <td>47</td>\n",
       "      <td>39</td>\n",
       "      <td>28</td>\n",
       "    </tr>\n",
       "    <tr>\n",
       "      <th>2</th>\n",
       "      <td>ACE0265</td>\n",
       "      <td>28800</td>\n",
       "      <td>30300</td>\n",
       "      <td>30240</td>\n",
       "      <td>28800</td>\n",
       "      <td>28800</td>\n",
       "      <td>30300</td>\n",
       "      <td>30240</td>\n",
       "      <td>28800</td>\n",
       "      <td>1</td>\n",
       "      <td>Amos Carson Emerson</td>\n",
       "      <td>ACE0265</td>\n",
       "      <td>26</td>\n",
       "      <td>23</td>\n",
       "      <td>14</td>\n",
       "      <td>19</td>\n",
       "      <td>40</td>\n",
       "    </tr>\n",
       "    <tr>\n",
       "      <th>3</th>\n",
       "      <td>ADR0362</td>\n",
       "      <td>27000</td>\n",
       "      <td>28080</td>\n",
       "      <td>28080</td>\n",
       "      <td>25200</td>\n",
       "      <td>27000</td>\n",
       "      <td>28080</td>\n",
       "      <td>28080</td>\n",
       "      <td>25200</td>\n",
       "      <td>1</td>\n",
       "      <td>Amir Damian Rosario</td>\n",
       "      <td>ADR0362</td>\n",
       "      <td>32</td>\n",
       "      <td>42</td>\n",
       "      <td>35</td>\n",
       "      <td>38</td>\n",
       "      <td>26</td>\n",
       "    </tr>\n",
       "    <tr>\n",
       "      <th>4</th>\n",
       "      <td>AEA0062</td>\n",
       "      <td>27000</td>\n",
       "      <td>28080</td>\n",
       "      <td>27900</td>\n",
       "      <td>25200</td>\n",
       "      <td>27000</td>\n",
       "      <td>28080</td>\n",
       "      <td>27900</td>\n",
       "      <td>25200</td>\n",
       "      <td>1</td>\n",
       "      <td>Angela Emerald Ashley</td>\n",
       "      <td>AEA0062</td>\n",
       "      <td>40</td>\n",
       "      <td>42</td>\n",
       "      <td>25</td>\n",
       "      <td>29</td>\n",
       "      <td>29</td>\n",
       "    </tr>\n",
       "  </tbody>\n",
       "</table>\n",
       "</div>"
      ],
      "text/plain": [
       "      user  on_min_ts  on_max_ts  on_mode_ts  on_mean_ts  off_min_ts  \\\n",
       "0  AAN0077      27900      29580       29220       25200       27900   \n",
       "1  AAW0103      25200      26280       26100       25200       25200   \n",
       "2  ACE0265      28800      30300       30240       28800       28800   \n",
       "3  ADR0362      27000      28080       28080       25200       27000   \n",
       "4  AEA0062      27000      28080       27900       25200       27000   \n",
       "\n",
       "   off_max_ts  off_mode_ts  off_mean_ts  count            employee_name  \\\n",
       "0       29580        29220        25200      1  Allistair Akeem Nichols   \n",
       "1       26280        26100        25200      1     Alexa Allegra Walton   \n",
       "2       30300        30240        28800      1      Amos Carson Emerson   \n",
       "3       28080        28080        25200      1      Amir Damian Rosario   \n",
       "4       28080        27900        25200      1    Angela Emerald Ashley   \n",
       "\n",
       "   user_id   O   C   E   A   N  \n",
       "0  AAN0077  42  15  32  22  29  \n",
       "1  AAW0103  39  42  47  39  28  \n",
       "2  ACE0265  26  23  14  19  40  \n",
       "3  ADR0362  32  42  35  38  26  \n",
       "4  AEA0062  40  42  25  29  29  "
      ]
     },
     "execution_count": 103,
     "metadata": {},
     "output_type": "execute_result"
    }
   ],
   "source": [
    "df_1.head()"
   ]
  },
  {
   "cell_type": "code",
   "execution_count": 104,
   "metadata": {
    "id": "RBVsYhZByXpG"
   },
   "outputs": [],
   "source": [
    "df_final = df_1.drop(['employee_name', 'user_id'], axis=1)\n"
   ]
  },
  {
   "cell_type": "code",
   "execution_count": 105,
   "metadata": {
    "id": "TsqN8B6syimi"
   },
   "outputs": [],
   "source": [
    "df_all_parameters = df_final"
   ]
  },
  {
   "cell_type": "code",
   "execution_count": 106,
   "metadata": {
    "id": "m8EvKveVyntR"
   },
   "outputs": [],
   "source": [
    "df_all_parameters_input = df_all_parameters.drop(['user'], axis = 1)"
   ]
  },
  {
   "cell_type": "code",
   "execution_count": 107,
   "metadata": {
    "id": "rl8DnpY4y_vS"
   },
   "outputs": [
    {
     "name": "stdout",
     "output_type": "stream",
     "text": [
      "     on_min_ts  on_max_ts  on_mode_ts  on_mean_ts  off_min_ts  off_max_ts  \\\n",
      "0        27900      29580       29220       25200       27900       29580   \n",
      "1        25200      26280       26100       25200       25200       26280   \n",
      "2        28800      30300       30240       28800       28800       30300   \n",
      "3        27000      28080       28080       25200       27000       28080   \n",
      "4        27000      28080       27900       25200       27000       28080   \n",
      "..         ...        ...         ...         ...         ...         ...   \n",
      "175      27900      29520       28800       25200       27900       29520   \n",
      "176      27000      66246       27900       25200       27000       66246   \n",
      "177      27000      28020       27900       25200       27000       28020   \n",
      "178      29700      52585       30600       36000       29700       52585   \n",
      "179      25200      26760       26100       25200       25200       26760   \n",
      "\n",
      "     off_mode_ts  off_mean_ts  count   O   C   E   A   N  \n",
      "0          29220        25200      1  42  15  32  22  29  \n",
      "1          26100        25200      1  39  42  47  39  28  \n",
      "2          30240        28800      1  26  23  14  19  40  \n",
      "3          28080        25200      1  32  42  35  38  26  \n",
      "4          27900        25200      1  40  42  25  29  29  \n",
      "..           ...          ...    ...  ..  ..  ..  ..  ..  \n",
      "175        28800        25200      1  49  18  22  29  34  \n",
      "176        27900        25200      2  49  35  23  44  35  \n",
      "177        27900        25200      1  39  46  16  19  40  \n",
      "178        30600        36000      1  30  15  44  42  28  \n",
      "179        26100        25200      1  39  20  17  46  26  \n",
      "\n",
      "[180 rows x 14 columns]\n"
     ]
    }
   ],
   "source": [
    "print(df_all_parameters_input)"
   ]
  },
  {
   "cell_type": "code",
   "execution_count": 108,
   "metadata": {
    "id": "tcx7VO2JziIK"
   },
   "outputs": [
    {
     "data": {
      "text/plain": [
       "IsolationForest(contamination=0.1, n_jobs=1)"
      ]
     },
     "execution_count": 108,
     "metadata": {},
     "output_type": "execute_result"
    }
   ],
   "source": [
    "# psycho logon ds\n",
    "forest = IsolationForest(bootstrap=False, contamination=0.1, max_features=1.0,\n",
    "        max_samples='auto', n_estimators=100, n_jobs=1, random_state=None,\n",
    "        verbose=0)\n",
    "forest.fit(df_all_parameters_input)"
   ]
  },
  {
   "cell_type": "code",
   "execution_count": 109,
   "metadata": {
    "id": "QUVlE_eu2QfD"
   },
   "outputs": [],
   "source": [
    "import pickle \n",
    "with open('../pkl/all_parameters_input.pkl','wb') as file :\n",
    "  pickle.dump(forest, file)"
   ]
  },
  {
   "cell_type": "code",
   "execution_count": 110,
   "metadata": {
    "id": "P4_ca2dvztK6"
   },
   "outputs": [
    {
     "name": "stdout",
     "output_type": "stream",
     "text": [
      "[0.11529512 0.02668994 0.06975173 0.12321361 0.13742748 0.09718043\n",
      " 0.13437682 0.04995594 0.11030782 0.03625894]\n"
     ]
    }
   ],
   "source": [
    "all_parameters_ascore = forest.decision_function(df_all_parameters_input)\n",
    "print(all_parameters_ascore[:10])"
   ]
  },
  {
   "cell_type": "code",
   "execution_count": 111,
   "metadata": {
    "id": "0J2Yg4qNzxeR"
   },
   "outputs": [
    {
     "name": "stdout",
     "output_type": "stream",
     "text": [
      "        user    ascore\n",
      "0    AAN0077  0.115295\n",
      "1    AAW0103  0.026690\n",
      "2    ACE0265  0.069752\n",
      "3    ADR0362  0.123214\n",
      "4    AEA0062  0.137427\n",
      "..       ...       ...\n",
      "175  XTM0246  0.108765\n",
      "176  YJT0368  0.061755\n",
      "177  YSB0779  0.088046\n",
      "178  ZBL0379  0.054427\n",
      "179  ZIF0269  0.038898\n",
      "\n",
      "[180 rows x 2 columns]\n"
     ]
    }
   ],
   "source": [
    "df_all_parameters_result = pd.DataFrame()\n",
    "\n",
    "df_all_parameters_result['user'] = df_final['user']\n",
    "df_all_parameters_result['ascore'] = all_parameters_ascore\n",
    "print(df_all_parameters_result)\n",
    "# df_all_parameters_result.to_csv('all_parameters_result.csv')"
   ]
  },
  {
   "cell_type": "code",
   "execution_count": 112,
   "metadata": {
    "id": "ovb2P5dLz5IJ"
   },
   "outputs": [
    {
     "data": {
      "text/html": [
       "<div>\n",
       "<style scoped>\n",
       "    .dataframe tbody tr th:only-of-type {\n",
       "        vertical-align: middle;\n",
       "    }\n",
       "\n",
       "    .dataframe tbody tr th {\n",
       "        vertical-align: top;\n",
       "    }\n",
       "\n",
       "    .dataframe thead th {\n",
       "        text-align: right;\n",
       "    }\n",
       "</style>\n",
       "<table border=\"1\" class=\"dataframe\">\n",
       "  <thead>\n",
       "    <tr style=\"text-align: right;\">\n",
       "      <th></th>\n",
       "      <th>user</th>\n",
       "      <th>ascore</th>\n",
       "    </tr>\n",
       "  </thead>\n",
       "  <tbody>\n",
       "    <tr>\n",
       "      <th>15</th>\n",
       "      <td>ASH0413</td>\n",
       "      <td>-0.001493</td>\n",
       "    </tr>\n",
       "    <tr>\n",
       "      <th>41</th>\n",
       "      <td>CQS0899</td>\n",
       "      <td>-0.076026</td>\n",
       "    </tr>\n",
       "    <tr>\n",
       "      <th>43</th>\n",
       "      <td>CSD0242</td>\n",
       "      <td>-0.007034</td>\n",
       "    </tr>\n",
       "    <tr>\n",
       "      <th>50</th>\n",
       "      <td>DNS0397</td>\n",
       "      <td>-0.011894</td>\n",
       "    </tr>\n",
       "    <tr>\n",
       "      <th>51</th>\n",
       "      <td>DYB0399</td>\n",
       "      <td>-0.011379</td>\n",
       "    </tr>\n",
       "    <tr>\n",
       "      <th>54</th>\n",
       "      <td>EER0383</td>\n",
       "      <td>-0.038199</td>\n",
       "    </tr>\n",
       "    <tr>\n",
       "      <th>57</th>\n",
       "      <td>FED0275</td>\n",
       "      <td>-0.101307</td>\n",
       "    </tr>\n",
       "    <tr>\n",
       "      <th>63</th>\n",
       "      <td>GFM0250</td>\n",
       "      <td>-0.048790</td>\n",
       "    </tr>\n",
       "    <tr>\n",
       "      <th>73</th>\n",
       "      <td>HML0060</td>\n",
       "      <td>-0.009584</td>\n",
       "    </tr>\n",
       "    <tr>\n",
       "      <th>76</th>\n",
       "      <td>HPL0787</td>\n",
       "      <td>-0.042799</td>\n",
       "    </tr>\n",
       "    <tr>\n",
       "      <th>107</th>\n",
       "      <td>LJW0776</td>\n",
       "      <td>-0.043666</td>\n",
       "    </tr>\n",
       "    <tr>\n",
       "      <th>110</th>\n",
       "      <td>LQD0409</td>\n",
       "      <td>-0.082111</td>\n",
       "    </tr>\n",
       "    <tr>\n",
       "      <th>113</th>\n",
       "      <td>LWB0078</td>\n",
       "      <td>-0.120823</td>\n",
       "    </tr>\n",
       "    <tr>\n",
       "      <th>123</th>\n",
       "      <td>MSB0359</td>\n",
       "      <td>-0.023310</td>\n",
       "    </tr>\n",
       "    <tr>\n",
       "      <th>136</th>\n",
       "      <td>RAW0533</td>\n",
       "      <td>-0.007888</td>\n",
       "    </tr>\n",
       "    <tr>\n",
       "      <th>167</th>\n",
       "      <td>VLB0069</td>\n",
       "      <td>-0.015563</td>\n",
       "    </tr>\n",
       "    <tr>\n",
       "      <th>172</th>\n",
       "      <td>WMP0272</td>\n",
       "      <td>-0.055086</td>\n",
       "    </tr>\n",
       "    <tr>\n",
       "      <th>174</th>\n",
       "      <td>XCR0407</td>\n",
       "      <td>-0.073847</td>\n",
       "    </tr>\n",
       "  </tbody>\n",
       "</table>\n",
       "</div>"
      ],
      "text/plain": [
       "        user    ascore\n",
       "15   ASH0413 -0.001493\n",
       "41   CQS0899 -0.076026\n",
       "43   CSD0242 -0.007034\n",
       "50   DNS0397 -0.011894\n",
       "51   DYB0399 -0.011379\n",
       "54   EER0383 -0.038199\n",
       "57   FED0275 -0.101307\n",
       "63   GFM0250 -0.048790\n",
       "73   HML0060 -0.009584\n",
       "76   HPL0787 -0.042799\n",
       "107  LJW0776 -0.043666\n",
       "110  LQD0409 -0.082111\n",
       "113  LWB0078 -0.120823\n",
       "123  MSB0359 -0.023310\n",
       "136  RAW0533 -0.007888\n",
       "167  VLB0069 -0.015563\n",
       "172  WMP0272 -0.055086\n",
       "174  XCR0407 -0.073847"
      ]
     },
     "execution_count": 112,
     "metadata": {},
     "output_type": "execute_result"
    }
   ],
   "source": [
    "df_all_parameters_result.loc[df_all_parameters_result['ascore'] < 0]"
   ]
  },
  {
   "cell_type": "code",
   "execution_count": null,
   "metadata": {
    "id": "fRy5d3t9z-FS"
   },
   "outputs": [],
   "source": []
  },
  {
   "cell_type": "code",
   "execution_count": 113,
   "metadata": {
    "id": "C8KEbM8nzgPi"
   },
   "outputs": [
    {
     "data": {
      "text/html": [
       "<div>\n",
       "<style scoped>\n",
       "    .dataframe tbody tr th:only-of-type {\n",
       "        vertical-align: middle;\n",
       "    }\n",
       "\n",
       "    .dataframe tbody tr th {\n",
       "        vertical-align: top;\n",
       "    }\n",
       "\n",
       "    .dataframe thead th {\n",
       "        text-align: right;\n",
       "    }\n",
       "</style>\n",
       "<table border=\"1\" class=\"dataframe\">\n",
       "  <thead>\n",
       "    <tr style=\"text-align: right;\">\n",
       "      <th></th>\n",
       "      <th>user</th>\n",
       "      <th>ascore</th>\n",
       "    </tr>\n",
       "  </thead>\n",
       "  <tbody>\n",
       "    <tr>\n",
       "      <th>0</th>\n",
       "      <td>AAN0077</td>\n",
       "      <td>0.083208</td>\n",
       "    </tr>\n",
       "    <tr>\n",
       "      <th>1</th>\n",
       "      <td>AAW0103</td>\n",
       "      <td>0.098027</td>\n",
       "    </tr>\n",
       "    <tr>\n",
       "      <th>2</th>\n",
       "      <td>ACE0265</td>\n",
       "      <td>0.100747</td>\n",
       "    </tr>\n",
       "    <tr>\n",
       "      <th>3</th>\n",
       "      <td>ACL0394</td>\n",
       "      <td>0.025249</td>\n",
       "    </tr>\n",
       "    <tr>\n",
       "      <th>4</th>\n",
       "      <td>ADR0362</td>\n",
       "      <td>0.137137</td>\n",
       "    </tr>\n",
       "  </tbody>\n",
       "</table>\n",
       "</div>"
      ],
      "text/plain": [
       "      user    ascore\n",
       "0  AAN0077  0.083208\n",
       "1  AAW0103  0.098027\n",
       "2  ACE0265  0.100747\n",
       "3  ACL0394  0.025249\n",
       "4  ADR0362  0.137137"
      ]
     },
     "execution_count": 113,
     "metadata": {},
     "output_type": "execute_result"
    }
   ],
   "source": [
    "df_user_log_result.head()"
   ]
  },
  {
   "cell_type": "code",
   "execution_count": 114,
   "metadata": {
    "id": "8VPYuMd0uvwm"
   },
   "outputs": [
    {
     "data": {
      "text/plain": [
       "array([[<AxesSubplot:title={'center':'ascore'}>]], dtype=object)"
      ]
     },
     "execution_count": 114,
     "metadata": {},
     "output_type": "execute_result"
    },
    {
     "data": {
      "image/png": "[encoded data removed]",
      "text/plain": [
       "<Figure size 432x288 with 1 Axes>"
      ]
     },
     "metadata": {
      "needs_background": "light"
     },
     "output_type": "display_data"
    }
   ],
   "source": [
    "df_user_log_result.hist()"
   ]
  },
  {
   "cell_type": "code",
   "execution_count": 115,
   "metadata": {
    "id": "M9aZLrErHAah"
   },
   "outputs": [
    {
     "data": {
      "text/html": [
       "<div>\n",
       "<style scoped>\n",
       "    .dataframe tbody tr th:only-of-type {\n",
       "        vertical-align: middle;\n",
       "    }\n",
       "\n",
       "    .dataframe tbody tr th {\n",
       "        vertical-align: top;\n",
       "    }\n",
       "\n",
       "    .dataframe thead th {\n",
       "        text-align: right;\n",
       "    }\n",
       "</style>\n",
       "<table border=\"1\" class=\"dataframe\">\n",
       "  <thead>\n",
       "    <tr style=\"text-align: right;\">\n",
       "      <th></th>\n",
       "      <th>user</th>\n",
       "      <th>ascore</th>\n",
       "    </tr>\n",
       "  </thead>\n",
       "  <tbody>\n",
       "    <tr>\n",
       "      <th>0</th>\n",
       "      <td>AJQ0376</td>\n",
       "      <td>0.026172</td>\n",
       "    </tr>\n",
       "    <tr>\n",
       "      <th>1</th>\n",
       "      <td>AJR0231</td>\n",
       "      <td>0.095796</td>\n",
       "    </tr>\n",
       "    <tr>\n",
       "      <th>2</th>\n",
       "      <td>AOD0066</td>\n",
       "      <td>0.067395</td>\n",
       "    </tr>\n",
       "    <tr>\n",
       "      <th>3</th>\n",
       "      <td>ARH0777</td>\n",
       "      <td>0.133718</td>\n",
       "    </tr>\n",
       "    <tr>\n",
       "      <th>4</th>\n",
       "      <td>BCP0247</td>\n",
       "      <td>0.039089</td>\n",
       "    </tr>\n",
       "  </tbody>\n",
       "</table>\n",
       "</div>"
      ],
      "text/plain": [
       "      user    ascore\n",
       "0  AJQ0376  0.026172\n",
       "1  AJR0231  0.095796\n",
       "2  AOD0066  0.067395\n",
       "3  ARH0777  0.133718\n",
       "4  BCP0247  0.039089"
      ]
     },
     "execution_count": 115,
     "metadata": {},
     "output_type": "execute_result"
    }
   ],
   "source": [
    "df_device_file_full_result.head()"
   ]
  },
  {
   "cell_type": "code",
   "execution_count": 116,
   "metadata": {
    "id": "whsrUChUu_62"
   },
   "outputs": [
    {
     "data": {
      "text/plain": [
       "array([[<AxesSubplot:title={'center':'ascore'}>]], dtype=object)"
      ]
     },
     "execution_count": 116,
     "metadata": {},
     "output_type": "execute_result"
    },
    {
     "data": {
      "image/png": "[encoded data removed]",
      "text/plain": [
       "<Figure size 432x288 with 1 Axes>"
      ]
     },
     "metadata": {
      "needs_background": "light"
     },
     "output_type": "display_data"
    }
   ],
   "source": [
    "# df_device_file_full_result.hist(bins = 15)\n",
    "df_device_file_full_result.hist()"
   ]
  },
  {
   "cell_type": "code",
   "execution_count": 117,
   "metadata": {
    "id": "UAAFPFyEHJeL"
   },
   "outputs": [
    {
     "data": {
      "text/html": [
       "<div>\n",
       "<style scoped>\n",
       "    .dataframe tbody tr th:only-of-type {\n",
       "        vertical-align: middle;\n",
       "    }\n",
       "\n",
       "    .dataframe tbody tr th {\n",
       "        vertical-align: top;\n",
       "    }\n",
       "\n",
       "    .dataframe thead th {\n",
       "        text-align: right;\n",
       "    }\n",
       "</style>\n",
       "<table border=\"1\" class=\"dataframe\">\n",
       "  <thead>\n",
       "    <tr style=\"text-align: right;\">\n",
       "      <th></th>\n",
       "      <th>user</th>\n",
       "      <th>ascore</th>\n",
       "    </tr>\n",
       "  </thead>\n",
       "  <tbody>\n",
       "    <tr>\n",
       "      <th>0</th>\n",
       "      <td>HPL0787</td>\n",
       "      <td>-0.032259</td>\n",
       "    </tr>\n",
       "    <tr>\n",
       "      <th>1</th>\n",
       "      <td>HPL0787</td>\n",
       "      <td>-0.032259</td>\n",
       "    </tr>\n",
       "    <tr>\n",
       "      <th>2</th>\n",
       "      <td>HPL0787</td>\n",
       "      <td>-0.032259</td>\n",
       "    </tr>\n",
       "    <tr>\n",
       "      <th>3</th>\n",
       "      <td>HPL0787</td>\n",
       "      <td>-0.032259</td>\n",
       "    </tr>\n",
       "    <tr>\n",
       "      <th>4</th>\n",
       "      <td>HPL0787</td>\n",
       "      <td>-0.032259</td>\n",
       "    </tr>\n",
       "  </tbody>\n",
       "</table>\n",
       "</div>"
      ],
      "text/plain": [
       "      user    ascore\n",
       "0  HPL0787 -0.032259\n",
       "1  HPL0787 -0.032259\n",
       "2  HPL0787 -0.032259\n",
       "3  HPL0787 -0.032259\n",
       "4  HPL0787 -0.032259"
      ]
     },
     "execution_count": 117,
     "metadata": {},
     "output_type": "execute_result"
    }
   ],
   "source": [
    "df_psychometric_result.head()"
   ]
  },
  {
   "cell_type": "code",
   "execution_count": 118,
   "metadata": {
    "id": "No2GNIZevI60"
   },
   "outputs": [
    {
     "data": {
      "text/plain": [
       "array([[<AxesSubplot:title={'center':'ascore'}>]], dtype=object)"
      ]
     },
     "execution_count": 118,
     "metadata": {},
     "output_type": "execute_result"
    },
    {
     "data": {
      "image/png": "[encoded data removed]",
      "text/plain": [
       "<Figure size 432x288 with 1 Axes>"
      ]
     },
     "metadata": {
      "needs_background": "light"
     },
     "output_type": "display_data"
    }
   ],
   "source": [
    "df_psychometric_result.hist()"
   ]
  },
  {
   "cell_type": "code",
   "execution_count": 119,
   "metadata": {
    "id": "B43P_J8xHSzD"
   },
   "outputs": [
    {
     "data": {
      "text/html": [
       "<div>\n",
       "<style scoped>\n",
       "    .dataframe tbody tr th:only-of-type {\n",
       "        vertical-align: middle;\n",
       "    }\n",
       "\n",
       "    .dataframe tbody tr th {\n",
       "        vertical-align: top;\n",
       "    }\n",
       "\n",
       "    .dataframe thead th {\n",
       "        text-align: right;\n",
       "    }\n",
       "</style>\n",
       "<table border=\"1\" class=\"dataframe\">\n",
       "  <thead>\n",
       "    <tr style=\"text-align: right;\">\n",
       "      <th></th>\n",
       "      <th>user</th>\n",
       "      <th>ascore</th>\n",
       "    </tr>\n",
       "  </thead>\n",
       "  <tbody>\n",
       "    <tr>\n",
       "      <th>0</th>\n",
       "      <td>AAN0077</td>\n",
       "      <td>0.115295</td>\n",
       "    </tr>\n",
       "    <tr>\n",
       "      <th>1</th>\n",
       "      <td>AAW0103</td>\n",
       "      <td>0.026690</td>\n",
       "    </tr>\n",
       "    <tr>\n",
       "      <th>2</th>\n",
       "      <td>ACE0265</td>\n",
       "      <td>0.069752</td>\n",
       "    </tr>\n",
       "    <tr>\n",
       "      <th>3</th>\n",
       "      <td>ADR0362</td>\n",
       "      <td>0.123214</td>\n",
       "    </tr>\n",
       "    <tr>\n",
       "      <th>4</th>\n",
       "      <td>AEA0062</td>\n",
       "      <td>0.137427</td>\n",
       "    </tr>\n",
       "  </tbody>\n",
       "</table>\n",
       "</div>"
      ],
      "text/plain": [
       "      user    ascore\n",
       "0  AAN0077  0.115295\n",
       "1  AAW0103  0.026690\n",
       "2  ACE0265  0.069752\n",
       "3  ADR0362  0.123214\n",
       "4  AEA0062  0.137427"
      ]
     },
     "execution_count": 119,
     "metadata": {},
     "output_type": "execute_result"
    }
   ],
   "source": [
    "df_all_parameters_result.head()"
   ]
  },
  {
   "cell_type": "code",
   "execution_count": 120,
   "metadata": {
    "id": "WxnOHx1_3KMz"
   },
   "outputs": [
    {
     "data": {
      "text/plain": [
       "array([[<AxesSubplot:title={'center':'ascore'}>]], dtype=object)"
      ]
     },
     "execution_count": 120,
     "metadata": {},
     "output_type": "execute_result"
    },
    {
     "data": {
      "image/png": "[encoded data removed]",
      "text/plain": [
       "<Figure size 432x288 with 1 Axes>"
      ]
     },
     "metadata": {
      "needs_background": "light"
     },
     "output_type": "display_data"
    }
   ],
   "source": [
    "df_all_parameters_result.hist()"
   ]
  },
  {
   "cell_type": "code",
   "execution_count": 121,
   "metadata": {
    "id": "9l5qYulB3YDJ"
   },
   "outputs": [
    {
     "data": {
      "text/plain": [
       "array([[<AxesSubplot:title={'center':'ascore'}>]], dtype=object)"
      ]
     },
     "execution_count": 121,
     "metadata": {},
     "output_type": "execute_result"
    },
    {
     "data": {
      "image/png": "[encoded data removed]",
      "text/plain": [
       "<Figure size 432x288 with 1 Axes>"
      ]
     },
     "metadata": {
      "needs_background": "light"
     },
     "output_type": "display_data"
    }
   ],
   "source": [
    "df_all_parameters_result.loc[df_all_parameters_result['ascore'] < 0].hist()"
   ]
  },
  {
   "cell_type": "code",
   "execution_count": 122,
   "metadata": {
    "id": "efth97H04HMR"
   },
   "outputs": [
    {
     "name": "stdout",
     "output_type": "stream",
     "text": [
      "        user    ascore\n",
      "41   CQS0899 -0.076026\n",
      "57   FED0275 -0.101307\n",
      "110  LQD0409 -0.082111\n",
      "113  LWB0078 -0.120823\n",
      "174  XCR0407 -0.073847\n"
     ]
    }
   ],
   "source": [
    "df_threat_users_all_params = df_all_parameters_result.loc[df_all_parameters_result['ascore'] < -0.065]\n",
    "print(df_threat_users_all_params)"
   ]
  },
  {
   "cell_type": "code",
   "execution_count": 123,
   "metadata": {
    "id": "MiG6E3Qe4TW5"
   },
   "outputs": [
    {
     "data": {
      "text/html": [
       "<div>\n",
       "<style scoped>\n",
       "    .dataframe tbody tr th:only-of-type {\n",
       "        vertical-align: middle;\n",
       "    }\n",
       "\n",
       "    .dataframe tbody tr th {\n",
       "        vertical-align: top;\n",
       "    }\n",
       "\n",
       "    .dataframe thead th {\n",
       "        text-align: right;\n",
       "    }\n",
       "</style>\n",
       "<table border=\"1\" class=\"dataframe\">\n",
       "  <thead>\n",
       "    <tr style=\"text-align: right;\">\n",
       "      <th></th>\n",
       "      <th>user</th>\n",
       "      <th>on_min_ts</th>\n",
       "      <th>on_max_ts</th>\n",
       "      <th>on_mode_ts</th>\n",
       "      <th>on_mean_ts</th>\n",
       "      <th>off_min_ts</th>\n",
       "      <th>off_max_ts</th>\n",
       "      <th>off_mode_ts</th>\n",
       "      <th>off_mean_ts</th>\n",
       "      <th>count</th>\n",
       "      <th>O</th>\n",
       "      <th>C</th>\n",
       "      <th>E</th>\n",
       "      <th>A</th>\n",
       "      <th>N</th>\n",
       "    </tr>\n",
       "  </thead>\n",
       "  <tbody>\n",
       "    <tr>\n",
       "      <th>41</th>\n",
       "      <td>CQS0899</td>\n",
       "      <td>606</td>\n",
       "      <td>85229</td>\n",
       "      <td>30600</td>\n",
       "      <td>36000</td>\n",
       "      <td>606</td>\n",
       "      <td>85229</td>\n",
       "      <td>30600</td>\n",
       "      <td>36000</td>\n",
       "      <td>26</td>\n",
       "      <td>41</td>\n",
       "      <td>38</td>\n",
       "      <td>41</td>\n",
       "      <td>24</td>\n",
       "      <td>36</td>\n",
       "    </tr>\n",
       "    <tr>\n",
       "      <th>57</th>\n",
       "      <td>FED0275</td>\n",
       "      <td>2462</td>\n",
       "      <td>81960</td>\n",
       "      <td>26400</td>\n",
       "      <td>28800</td>\n",
       "      <td>2462</td>\n",
       "      <td>81960</td>\n",
       "      <td>26400</td>\n",
       "      <td>28800</td>\n",
       "      <td>42</td>\n",
       "      <td>26</td>\n",
       "      <td>16</td>\n",
       "      <td>28</td>\n",
       "      <td>13</td>\n",
       "      <td>30</td>\n",
       "    </tr>\n",
       "    <tr>\n",
       "      <th>110</th>\n",
       "      <td>LQD0409</td>\n",
       "      <td>32400</td>\n",
       "      <td>72791</td>\n",
       "      <td>33300</td>\n",
       "      <td>39600</td>\n",
       "      <td>32400</td>\n",
       "      <td>72791</td>\n",
       "      <td>33300</td>\n",
       "      <td>39600</td>\n",
       "      <td>3</td>\n",
       "      <td>37</td>\n",
       "      <td>38</td>\n",
       "      <td>42</td>\n",
       "      <td>41</td>\n",
       "      <td>33</td>\n",
       "    </tr>\n",
       "    <tr>\n",
       "      <th>113</th>\n",
       "      <td>LWB0078</td>\n",
       "      <td>1104</td>\n",
       "      <td>86213</td>\n",
       "      <td>28920</td>\n",
       "      <td>28800</td>\n",
       "      <td>1104</td>\n",
       "      <td>86213</td>\n",
       "      <td>28920</td>\n",
       "      <td>28800</td>\n",
       "      <td>53</td>\n",
       "      <td>50</td>\n",
       "      <td>38</td>\n",
       "      <td>48</td>\n",
       "      <td>30</td>\n",
       "      <td>28</td>\n",
       "    </tr>\n",
       "    <tr>\n",
       "      <th>174</th>\n",
       "      <td>XCR0407</td>\n",
       "      <td>32400</td>\n",
       "      <td>54992</td>\n",
       "      <td>33420</td>\n",
       "      <td>39600</td>\n",
       "      <td>32400</td>\n",
       "      <td>54992</td>\n",
       "      <td>33420</td>\n",
       "      <td>39600</td>\n",
       "      <td>1</td>\n",
       "      <td>35</td>\n",
       "      <td>40</td>\n",
       "      <td>45</td>\n",
       "      <td>39</td>\n",
       "      <td>31</td>\n",
       "    </tr>\n",
       "  </tbody>\n",
       "</table>\n",
       "</div>"
      ],
      "text/plain": [
       "        user  on_min_ts  on_max_ts  on_mode_ts  on_mean_ts  off_min_ts  \\\n",
       "41   CQS0899        606      85229       30600       36000         606   \n",
       "57   FED0275       2462      81960       26400       28800        2462   \n",
       "110  LQD0409      32400      72791       33300       39600       32400   \n",
       "113  LWB0078       1104      86213       28920       28800        1104   \n",
       "174  XCR0407      32400      54992       33420       39600       32400   \n",
       "\n",
       "     off_max_ts  off_mode_ts  off_mean_ts  count   O   C   E   A   N  \n",
       "41        85229        30600        36000     26  41  38  41  24  36  \n",
       "57        81960        26400        28800     42  26  16  28  13  30  \n",
       "110       72791        33300        39600      3  37  38  42  41  33  \n",
       "113       86213        28920        28800     53  50  38  48  30  28  \n",
       "174       54992        33420        39600      1  35  40  45  39  31  "
      ]
     },
     "execution_count": 123,
     "metadata": {},
     "output_type": "execute_result"
    }
   ],
   "source": [
    "df_all_parameters[df_all_parameters.user.isin(df_threat_users_all_params.user)]"
   ]
  },
  {
   "cell_type": "code",
   "execution_count": 124,
   "metadata": {
    "id": "Ia49ZZl2Hspz"
   },
   "outputs": [
    {
     "data": {
      "text/html": [
       "<div>\n",
       "<style scoped>\n",
       "    .dataframe tbody tr th:only-of-type {\n",
       "        vertical-align: middle;\n",
       "    }\n",
       "\n",
       "    .dataframe tbody tr th {\n",
       "        vertical-align: top;\n",
       "    }\n",
       "\n",
       "    .dataframe thead th {\n",
       "        text-align: right;\n",
       "    }\n",
       "</style>\n",
       "<table border=\"1\" class=\"dataframe\">\n",
       "  <thead>\n",
       "    <tr style=\"text-align: right;\">\n",
       "      <th></th>\n",
       "      <th>user</th>\n",
       "      <th>ascore</th>\n",
       "    </tr>\n",
       "  </thead>\n",
       "  <tbody>\n",
       "    <tr>\n",
       "      <th>0</th>\n",
       "      <td>AJQ0376</td>\n",
       "      <td>0.026172</td>\n",
       "    </tr>\n",
       "    <tr>\n",
       "      <th>1</th>\n",
       "      <td>AJR0231</td>\n",
       "      <td>0.095796</td>\n",
       "    </tr>\n",
       "    <tr>\n",
       "      <th>2</th>\n",
       "      <td>AOD0066</td>\n",
       "      <td>0.067395</td>\n",
       "    </tr>\n",
       "    <tr>\n",
       "      <th>3</th>\n",
       "      <td>ARH0777</td>\n",
       "      <td>0.133718</td>\n",
       "    </tr>\n",
       "    <tr>\n",
       "      <th>4</th>\n",
       "      <td>BCP0247</td>\n",
       "      <td>0.039089</td>\n",
       "    </tr>\n",
       "  </tbody>\n",
       "</table>\n",
       "</div>"
      ],
      "text/plain": [
       "      user    ascore\n",
       "0  AJQ0376  0.026172\n",
       "1  AJR0231  0.095796\n",
       "2  AOD0066  0.067395\n",
       "3  ARH0777  0.133718\n",
       "4  BCP0247  0.039089"
      ]
     },
     "execution_count": 124,
     "metadata": {},
     "output_type": "execute_result"
    }
   ],
   "source": [
    "df_device_file_full_result.head()"
   ]
  },
  {
   "cell_type": "code",
   "execution_count": 125,
   "metadata": {
    "id": "SfpZOhD-5iMQ"
   },
   "outputs": [
    {
     "data": {
      "text/plain": [
       "array([[<AxesSubplot:title={'center':'ascore'}>]], dtype=object)"
      ]
     },
     "execution_count": 125,
     "metadata": {},
     "output_type": "execute_result"
    },
    {
     "data": {
      "image/png": "[encoded data removed]",
      "text/plain": [
       "<Figure size 432x288 with 1 Axes>"
      ]
     },
     "metadata": {
      "needs_background": "light"
     },
     "output_type": "display_data"
    }
   ],
   "source": [
    "df_device_file_full_result.loc[df_device_file_full_result['ascore'] < 0].hist()"
   ]
  },
  {
   "cell_type": "code",
   "execution_count": 126,
   "metadata": {
    "id": "x8MWf2f55irQ"
   },
   "outputs": [
    {
     "name": "stdout",
     "output_type": "stream",
     "text": [
      "       user    ascore\n",
      "6   BMS0057 -0.065731\n",
      "12  CSD0242 -0.073819\n",
      "37  QLC0248 -0.128318\n",
      "40  SBM0063 -0.054070\n",
      "46  ZBL0379 -0.006887\n"
     ]
    }
   ],
   "source": [
    "df_threat_users_device_file = df_device_file_full_result.loc[df_device_file_full_result['ascore'] <= 0]\n",
    "print(df_threat_users_device_file)\n"
   ]
  },
  {
   "cell_type": "code",
   "execution_count": 127,
   "metadata": {
    "id": "jCJmJ9Ht5jIA"
   },
   "outputs": [
    {
     "data": {
      "text/html": [
       "<div>\n",
       "<style scoped>\n",
       "    .dataframe tbody tr th:only-of-type {\n",
       "        vertical-align: middle;\n",
       "    }\n",
       "\n",
       "    .dataframe tbody tr th {\n",
       "        vertical-align: top;\n",
       "    }\n",
       "\n",
       "    .dataframe thead th {\n",
       "        text-align: right;\n",
       "    }\n",
       "</style>\n",
       "<table border=\"1\" class=\"dataframe\">\n",
       "  <thead>\n",
       "    <tr style=\"text-align: right;\">\n",
       "      <th></th>\n",
       "      <th>user</th>\n",
       "      <th>con_min_ts</th>\n",
       "      <th>con_max_ts</th>\n",
       "      <th>con_mode_ts</th>\n",
       "      <th>con_mean_ts</th>\n",
       "      <th>dcon_min_ts</th>\n",
       "      <th>dcon_max_ts</th>\n",
       "      <th>dcon_mode_ts</th>\n",
       "      <th>dcon_mean_ts</th>\n",
       "      <th>file_mode</th>\n",
       "      <th>file_max</th>\n",
       "    </tr>\n",
       "  </thead>\n",
       "  <tbody>\n",
       "    <tr>\n",
       "      <th>6</th>\n",
       "      <td>BMS0057</td>\n",
       "      <td>1185</td>\n",
       "      <td>76882</td>\n",
       "      <td>56810</td>\n",
       "      <td>46800</td>\n",
       "      <td>1185</td>\n",
       "      <td>76882</td>\n",
       "      <td>56810</td>\n",
       "      <td>46800</td>\n",
       "      <td>36</td>\n",
       "      <td>162</td>\n",
       "    </tr>\n",
       "    <tr>\n",
       "      <th>12</th>\n",
       "      <td>CSD0242</td>\n",
       "      <td>514</td>\n",
       "      <td>86209</td>\n",
       "      <td>55868</td>\n",
       "      <td>39600</td>\n",
       "      <td>514</td>\n",
       "      <td>86209</td>\n",
       "      <td>55868</td>\n",
       "      <td>39600</td>\n",
       "      <td>378</td>\n",
       "      <td>594</td>\n",
       "    </tr>\n",
       "    <tr>\n",
       "      <th>37</th>\n",
       "      <td>QLC0248</td>\n",
       "      <td>8753</td>\n",
       "      <td>83989</td>\n",
       "      <td>82053</td>\n",
       "      <td>43200</td>\n",
       "      <td>8753</td>\n",
       "      <td>83989</td>\n",
       "      <td>82053</td>\n",
       "      <td>43200</td>\n",
       "      <td>216</td>\n",
       "      <td>468</td>\n",
       "    </tr>\n",
       "    <tr>\n",
       "      <th>40</th>\n",
       "      <td>SBM0063</td>\n",
       "      <td>34</td>\n",
       "      <td>85234</td>\n",
       "      <td>52145</td>\n",
       "      <td>36000</td>\n",
       "      <td>34</td>\n",
       "      <td>85234</td>\n",
       "      <td>52145</td>\n",
       "      <td>36000</td>\n",
       "      <td>126</td>\n",
       "      <td>270</td>\n",
       "    </tr>\n",
       "    <tr>\n",
       "      <th>46</th>\n",
       "      <td>ZBL0379</td>\n",
       "      <td>30142</td>\n",
       "      <td>69372</td>\n",
       "      <td>52348</td>\n",
       "      <td>46800</td>\n",
       "      <td>30142</td>\n",
       "      <td>69372</td>\n",
       "      <td>52348</td>\n",
       "      <td>46800</td>\n",
       "      <td>54</td>\n",
       "      <td>180</td>\n",
       "    </tr>\n",
       "  </tbody>\n",
       "</table>\n",
       "</div>"
      ],
      "text/plain": [
       "       user  con_min_ts  con_max_ts  con_mode_ts  con_mean_ts  dcon_min_ts  \\\n",
       "6   BMS0057        1185       76882        56810        46800         1185   \n",
       "12  CSD0242         514       86209        55868        39600          514   \n",
       "37  QLC0248        8753       83989        82053        43200         8753   \n",
       "40  SBM0063          34       85234        52145        36000           34   \n",
       "46  ZBL0379       30142       69372        52348        46800        30142   \n",
       "\n",
       "    dcon_max_ts  dcon_mode_ts  dcon_mean_ts  file_mode  file_max  \n",
       "6         76882         56810         46800         36       162  \n",
       "12        86209         55868         39600        378       594  \n",
       "37        83989         82053         43200        216       468  \n",
       "40        85234         52145         36000        126       270  \n",
       "46        69372         52348         46800         54       180  "
      ]
     },
     "execution_count": 127,
     "metadata": {},
     "output_type": "execute_result"
    }
   ],
   "source": [
    "df_device_full[df_device_full.user.isin(df_threat_users_device_file.user)]"
   ]
  },
  {
   "cell_type": "code",
   "execution_count": 128,
   "metadata": {
    "id": "wHUrO_iV5z5Y"
   },
   "outputs": [
    {
     "data": {
      "text/plain": [
       "array([[<AxesSubplot:title={'center':'ascore'}>]], dtype=object)"
      ]
     },
     "execution_count": 128,
     "metadata": {},
     "output_type": "execute_result"
    },
    {
     "data": {
      "image/png": "[encoded data removed]",
      "text/plain": [
       "<Figure size 432x288 with 1 Axes>"
      ]
     },
     "metadata": {
      "needs_background": "light"
     },
     "output_type": "display_data"
    }
   ],
   "source": [
    "df_user_log_result.head()\n",
    "df_user_log_result.loc[df_user_log_result['ascore'] < 0].hist()"
   ]
  },
  {
   "cell_type": "code",
   "execution_count": 129,
   "metadata": {
    "id": "Kfmhtpxx50Sg"
   },
   "outputs": [
    {
     "name": "stdout",
     "output_type": "stream",
     "text": [
      "        user    ascore\n",
      "56   CQS0899 -0.112930\n",
      "65   DJS0406 -0.041076\n",
      "77   FED0275 -0.113881\n",
      "83   GFM0250 -0.051130\n",
      "95   HML0060 -0.084166\n",
      "144  LQD0409 -0.100517\n",
      "145  LTB0107 -0.043406\n",
      "147  LWB0078 -0.046083\n",
      "178  RAW0533 -0.094586\n",
      "180  RCG0105 -0.050467\n",
      "214  VLB0069 -0.055590\n",
      "223  XCR0407 -0.094866\n"
     ]
    }
   ],
   "source": [
    "df_threat_users_log = df_user_log_result.loc[df_user_log_result['ascore'] <= -0.04]\n",
    "print(df_threat_users_log)"
   ]
  },
  {
   "cell_type": "code",
   "execution_count": 130,
   "metadata": {
    "id": "Gv8cbTvr50n3"
   },
   "outputs": [
    {
     "data": {
      "text/html": [
       "<div>\n",
       "<style scoped>\n",
       "    .dataframe tbody tr th:only-of-type {\n",
       "        vertical-align: middle;\n",
       "    }\n",
       "\n",
       "    .dataframe tbody tr th {\n",
       "        vertical-align: top;\n",
       "    }\n",
       "\n",
       "    .dataframe thead th {\n",
       "        text-align: right;\n",
       "    }\n",
       "</style>\n",
       "<table border=\"1\" class=\"dataframe\">\n",
       "  <thead>\n",
       "    <tr style=\"text-align: right;\">\n",
       "      <th></th>\n",
       "      <th>user</th>\n",
       "      <th>on_min_ts</th>\n",
       "      <th>on_max_ts</th>\n",
       "      <th>on_mode_ts</th>\n",
       "      <th>on_mean_ts</th>\n",
       "      <th>off_min_ts</th>\n",
       "      <th>off_max_ts</th>\n",
       "      <th>off_mode_ts</th>\n",
       "      <th>off_mean_ts</th>\n",
       "    </tr>\n",
       "  </thead>\n",
       "  <tbody>\n",
       "    <tr>\n",
       "      <th>56</th>\n",
       "      <td>CQS0899</td>\n",
       "      <td>606</td>\n",
       "      <td>85229</td>\n",
       "      <td>30600</td>\n",
       "      <td>36000</td>\n",
       "      <td>606</td>\n",
       "      <td>85229</td>\n",
       "      <td>30600</td>\n",
       "      <td>36000</td>\n",
       "    </tr>\n",
       "    <tr>\n",
       "      <th>65</th>\n",
       "      <td>DJS0406</td>\n",
       "      <td>32400</td>\n",
       "      <td>33960</td>\n",
       "      <td>33720</td>\n",
       "      <td>32400</td>\n",
       "      <td>32400</td>\n",
       "      <td>33960</td>\n",
       "      <td>33720</td>\n",
       "      <td>32400</td>\n",
       "    </tr>\n",
       "    <tr>\n",
       "      <th>77</th>\n",
       "      <td>FED0275</td>\n",
       "      <td>2462</td>\n",
       "      <td>81960</td>\n",
       "      <td>26400</td>\n",
       "      <td>28800</td>\n",
       "      <td>2462</td>\n",
       "      <td>81960</td>\n",
       "      <td>26400</td>\n",
       "      <td>28800</td>\n",
       "    </tr>\n",
       "    <tr>\n",
       "      <th>83</th>\n",
       "      <td>GFM0250</td>\n",
       "      <td>464</td>\n",
       "      <td>85232</td>\n",
       "      <td>28800</td>\n",
       "      <td>25200</td>\n",
       "      <td>464</td>\n",
       "      <td>85232</td>\n",
       "      <td>28800</td>\n",
       "      <td>25200</td>\n",
       "    </tr>\n",
       "    <tr>\n",
       "      <th>95</th>\n",
       "      <td>HML0060</td>\n",
       "      <td>6952</td>\n",
       "      <td>84931</td>\n",
       "      <td>27900</td>\n",
       "      <td>25200</td>\n",
       "      <td>6952</td>\n",
       "      <td>84931</td>\n",
       "      <td>27900</td>\n",
       "      <td>25200</td>\n",
       "    </tr>\n",
       "    <tr>\n",
       "      <th>144</th>\n",
       "      <td>LQD0409</td>\n",
       "      <td>32400</td>\n",
       "      <td>72791</td>\n",
       "      <td>33300</td>\n",
       "      <td>39600</td>\n",
       "      <td>32400</td>\n",
       "      <td>72791</td>\n",
       "      <td>33300</td>\n",
       "      <td>39600</td>\n",
       "    </tr>\n",
       "    <tr>\n",
       "      <th>145</th>\n",
       "      <td>LTB0107</td>\n",
       "      <td>25200</td>\n",
       "      <td>48447</td>\n",
       "      <td>26700</td>\n",
       "      <td>28800</td>\n",
       "      <td>25200</td>\n",
       "      <td>48447</td>\n",
       "      <td>26700</td>\n",
       "      <td>28800</td>\n",
       "    </tr>\n",
       "    <tr>\n",
       "      <th>147</th>\n",
       "      <td>LWB0078</td>\n",
       "      <td>1104</td>\n",
       "      <td>86213</td>\n",
       "      <td>28920</td>\n",
       "      <td>28800</td>\n",
       "      <td>1104</td>\n",
       "      <td>86213</td>\n",
       "      <td>28920</td>\n",
       "      <td>28800</td>\n",
       "    </tr>\n",
       "    <tr>\n",
       "      <th>178</th>\n",
       "      <td>RAW0533</td>\n",
       "      <td>1401</td>\n",
       "      <td>71230</td>\n",
       "      <td>27900</td>\n",
       "      <td>25200</td>\n",
       "      <td>1401</td>\n",
       "      <td>71230</td>\n",
       "      <td>27900</td>\n",
       "      <td>25200</td>\n",
       "    </tr>\n",
       "    <tr>\n",
       "      <th>180</th>\n",
       "      <td>RCG0105</td>\n",
       "      <td>25200</td>\n",
       "      <td>58840</td>\n",
       "      <td>26400</td>\n",
       "      <td>25200</td>\n",
       "      <td>25200</td>\n",
       "      <td>58840</td>\n",
       "      <td>26400</td>\n",
       "      <td>25200</td>\n",
       "    </tr>\n",
       "    <tr>\n",
       "      <th>214</th>\n",
       "      <td>VLB0069</td>\n",
       "      <td>2059</td>\n",
       "      <td>83319</td>\n",
       "      <td>28800</td>\n",
       "      <td>25200</td>\n",
       "      <td>2059</td>\n",
       "      <td>83319</td>\n",
       "      <td>28800</td>\n",
       "      <td>25200</td>\n",
       "    </tr>\n",
       "    <tr>\n",
       "      <th>223</th>\n",
       "      <td>XCR0407</td>\n",
       "      <td>32400</td>\n",
       "      <td>54992</td>\n",
       "      <td>33420</td>\n",
       "      <td>39600</td>\n",
       "      <td>32400</td>\n",
       "      <td>54992</td>\n",
       "      <td>33420</td>\n",
       "      <td>39600</td>\n",
       "    </tr>\n",
       "  </tbody>\n",
       "</table>\n",
       "</div>"
      ],
      "text/plain": [
       "        user  on_min_ts  on_max_ts  on_mode_ts  on_mean_ts  off_min_ts  \\\n",
       "56   CQS0899        606      85229       30600       36000         606   \n",
       "65   DJS0406      32400      33960       33720       32400       32400   \n",
       "77   FED0275       2462      81960       26400       28800        2462   \n",
       "83   GFM0250        464      85232       28800       25200         464   \n",
       "95   HML0060       6952      84931       27900       25200        6952   \n",
       "144  LQD0409      32400      72791       33300       39600       32400   \n",
       "145  LTB0107      25200      48447       26700       28800       25200   \n",
       "147  LWB0078       1104      86213       28920       28800        1104   \n",
       "178  RAW0533       1401      71230       27900       25200        1401   \n",
       "180  RCG0105      25200      58840       26400       25200       25200   \n",
       "214  VLB0069       2059      83319       28800       25200        2059   \n",
       "223  XCR0407      32400      54992       33420       39600       32400   \n",
       "\n",
       "     off_max_ts  off_mode_ts  off_mean_ts  \n",
       "56        85229        30600        36000  \n",
       "65        33960        33720        32400  \n",
       "77        81960        26400        28800  \n",
       "83        85232        28800        25200  \n",
       "95        84931        27900        25200  \n",
       "144       72791        33300        39600  \n",
       "145       48447        26700        28800  \n",
       "147       86213        28920        28800  \n",
       "178       71230        27900        25200  \n",
       "180       58840        26400        25200  \n",
       "214       83319        28800        25200  \n",
       "223       54992        33420        39600  "
      ]
     },
     "execution_count": 130,
     "metadata": {},
     "output_type": "execute_result"
    }
   ],
   "source": [
    "df_log_on_off_stats[df_log_on_off_stats.user.isin(df_threat_users_log.user)]"
   ]
  },
  {
   "cell_type": "code",
   "execution_count": 131,
   "metadata": {
    "id": "lfpzOHjmH-5m"
   },
   "outputs": [
    {
     "data": {
      "text/html": [
       "<div>\n",
       "<style scoped>\n",
       "    .dataframe tbody tr th:only-of-type {\n",
       "        vertical-align: middle;\n",
       "    }\n",
       "\n",
       "    .dataframe tbody tr th {\n",
       "        vertical-align: top;\n",
       "    }\n",
       "\n",
       "    .dataframe thead th {\n",
       "        text-align: right;\n",
       "    }\n",
       "</style>\n",
       "<table border=\"1\" class=\"dataframe\">\n",
       "  <thead>\n",
       "    <tr style=\"text-align: right;\">\n",
       "      <th></th>\n",
       "      <th>user</th>\n",
       "      <th>ascore</th>\n",
       "    </tr>\n",
       "  </thead>\n",
       "  <tbody>\n",
       "    <tr>\n",
       "      <th>0</th>\n",
       "      <td>HPL0787</td>\n",
       "      <td>-0.032259</td>\n",
       "    </tr>\n",
       "    <tr>\n",
       "      <th>1</th>\n",
       "      <td>HPL0787</td>\n",
       "      <td>-0.032259</td>\n",
       "    </tr>\n",
       "    <tr>\n",
       "      <th>2</th>\n",
       "      <td>HPL0787</td>\n",
       "      <td>-0.032259</td>\n",
       "    </tr>\n",
       "    <tr>\n",
       "      <th>3</th>\n",
       "      <td>HPL0787</td>\n",
       "      <td>-0.032259</td>\n",
       "    </tr>\n",
       "    <tr>\n",
       "      <th>4</th>\n",
       "      <td>HPL0787</td>\n",
       "      <td>-0.032259</td>\n",
       "    </tr>\n",
       "  </tbody>\n",
       "</table>\n",
       "</div>"
      ],
      "text/plain": [
       "      user    ascore\n",
       "0  HPL0787 -0.032259\n",
       "1  HPL0787 -0.032259\n",
       "2  HPL0787 -0.032259\n",
       "3  HPL0787 -0.032259\n",
       "4  HPL0787 -0.032259"
      ]
     },
     "execution_count": 131,
     "metadata": {},
     "output_type": "execute_result"
    }
   ],
   "source": [
    "df_psychometric_result.head()"
   ]
  },
  {
   "cell_type": "code",
   "execution_count": 132,
   "metadata": {
    "id": "EI4J62A15jbh"
   },
   "outputs": [
    {
     "data": {
      "text/plain": [
       "array([[<AxesSubplot:title={'center':'ascore'}>]], dtype=object)"
      ]
     },
     "execution_count": 132,
     "metadata": {},
     "output_type": "execute_result"
    },
    {
     "data": {
      "image/png": "[encoded data removed]",
      "text/plain": [
       "<Figure size 432x288 with 1 Axes>"
      ]
     },
     "metadata": {
      "needs_background": "light"
     },
     "output_type": "display_data"
    }
   ],
   "source": [
    "df_psychometric_result.loc[df_psychometric_result['ascore'] < 0].hist()"
   ]
  },
  {
   "cell_type": "code",
   "execution_count": 133,
   "metadata": {
    "id": "2zb5sPjt6wGq"
   },
   "outputs": [],
   "source": [
    "df_threat_psycho = df_psychometric_result.loc[df_psychometric_result['ascore'] <= -0.04]\n"
   ]
  },
  {
   "cell_type": "code",
   "execution_count": 134,
   "metadata": {
    "id": "hunvxGO76wq4"
   },
   "outputs": [
    {
     "data": {
      "text/html": [
       "<div>\n",
       "<style scoped>\n",
       "    .dataframe tbody tr th:only-of-type {\n",
       "        vertical-align: middle;\n",
       "    }\n",
       "\n",
       "    .dataframe tbody tr th {\n",
       "        vertical-align: top;\n",
       "    }\n",
       "\n",
       "    .dataframe thead th {\n",
       "        text-align: right;\n",
       "    }\n",
       "</style>\n",
       "<table border=\"1\" class=\"dataframe\">\n",
       "  <thead>\n",
       "    <tr style=\"text-align: right;\">\n",
       "      <th></th>\n",
       "      <th>employee_name</th>\n",
       "      <th>user_id</th>\n",
       "      <th>O</th>\n",
       "      <th>C</th>\n",
       "      <th>E</th>\n",
       "      <th>A</th>\n",
       "      <th>N</th>\n",
       "    </tr>\n",
       "  </thead>\n",
       "  <tbody>\n",
       "    <tr>\n",
       "      <th>848</th>\n",
       "      <td>Ariana Orla Padilla</td>\n",
       "      <td>AOP0898</td>\n",
       "      <td>12</td>\n",
       "      <td>17</td>\n",
       "      <td>50</td>\n",
       "      <td>23</td>\n",
       "      <td>31</td>\n",
       "    </tr>\n",
       "    <tr>\n",
       "      <th>849</th>\n",
       "      <td>Ariana Orla Padilla</td>\n",
       "      <td>AOP0898</td>\n",
       "      <td>12</td>\n",
       "      <td>17</td>\n",
       "      <td>50</td>\n",
       "      <td>23</td>\n",
       "      <td>31</td>\n",
       "    </tr>\n",
       "    <tr>\n",
       "      <th>850</th>\n",
       "      <td>Ariana Orla Padilla</td>\n",
       "      <td>AOP0898</td>\n",
       "      <td>12</td>\n",
       "      <td>17</td>\n",
       "      <td>50</td>\n",
       "      <td>23</td>\n",
       "      <td>31</td>\n",
       "    </tr>\n",
       "    <tr>\n",
       "      <th>851</th>\n",
       "      <td>Ariana Orla Padilla</td>\n",
       "      <td>AOP0898</td>\n",
       "      <td>12</td>\n",
       "      <td>17</td>\n",
       "      <td>50</td>\n",
       "      <td>23</td>\n",
       "      <td>31</td>\n",
       "    </tr>\n",
       "    <tr>\n",
       "      <th>852</th>\n",
       "      <td>Ariana Orla Padilla</td>\n",
       "      <td>AOP0898</td>\n",
       "      <td>12</td>\n",
       "      <td>17</td>\n",
       "      <td>50</td>\n",
       "      <td>23</td>\n",
       "      <td>31</td>\n",
       "    </tr>\n",
       "    <tr>\n",
       "      <th>853</th>\n",
       "      <td>Ariana Orla Padilla</td>\n",
       "      <td>AOP0898</td>\n",
       "      <td>12</td>\n",
       "      <td>17</td>\n",
       "      <td>50</td>\n",
       "      <td>23</td>\n",
       "      <td>31</td>\n",
       "    </tr>\n",
       "    <tr>\n",
       "      <th>854</th>\n",
       "      <td>Ariana Orla Padilla</td>\n",
       "      <td>AOP0898</td>\n",
       "      <td>12</td>\n",
       "      <td>17</td>\n",
       "      <td>50</td>\n",
       "      <td>23</td>\n",
       "      <td>31</td>\n",
       "    </tr>\n",
       "    <tr>\n",
       "      <th>855</th>\n",
       "      <td>Ariana Orla Padilla</td>\n",
       "      <td>AOP0898</td>\n",
       "      <td>12</td>\n",
       "      <td>17</td>\n",
       "      <td>50</td>\n",
       "      <td>23</td>\n",
       "      <td>31</td>\n",
       "    </tr>\n",
       "    <tr>\n",
       "      <th>856</th>\n",
       "      <td>Ariana Orla Padilla</td>\n",
       "      <td>AOP0898</td>\n",
       "      <td>12</td>\n",
       "      <td>17</td>\n",
       "      <td>50</td>\n",
       "      <td>23</td>\n",
       "      <td>31</td>\n",
       "    </tr>\n",
       "    <tr>\n",
       "      <th>857</th>\n",
       "      <td>Ariana Orla Padilla</td>\n",
       "      <td>AOP0898</td>\n",
       "      <td>12</td>\n",
       "      <td>17</td>\n",
       "      <td>50</td>\n",
       "      <td>23</td>\n",
       "      <td>31</td>\n",
       "    </tr>\n",
       "    <tr>\n",
       "      <th>858</th>\n",
       "      <td>Ariana Orla Padilla</td>\n",
       "      <td>AOP0898</td>\n",
       "      <td>12</td>\n",
       "      <td>17</td>\n",
       "      <td>50</td>\n",
       "      <td>23</td>\n",
       "      <td>31</td>\n",
       "    </tr>\n",
       "    <tr>\n",
       "      <th>859</th>\n",
       "      <td>Ariana Orla Padilla</td>\n",
       "      <td>AOP0898</td>\n",
       "      <td>12</td>\n",
       "      <td>17</td>\n",
       "      <td>50</td>\n",
       "      <td>23</td>\n",
       "      <td>31</td>\n",
       "    </tr>\n",
       "    <tr>\n",
       "      <th>860</th>\n",
       "      <td>Ariana Orla Padilla</td>\n",
       "      <td>AOP0898</td>\n",
       "      <td>12</td>\n",
       "      <td>17</td>\n",
       "      <td>50</td>\n",
       "      <td>23</td>\n",
       "      <td>31</td>\n",
       "    </tr>\n",
       "    <tr>\n",
       "      <th>861</th>\n",
       "      <td>Ariana Orla Padilla</td>\n",
       "      <td>AOP0898</td>\n",
       "      <td>12</td>\n",
       "      <td>17</td>\n",
       "      <td>50</td>\n",
       "      <td>23</td>\n",
       "      <td>31</td>\n",
       "    </tr>\n",
       "    <tr>\n",
       "      <th>862</th>\n",
       "      <td>Ariana Orla Padilla</td>\n",
       "      <td>AOP0898</td>\n",
       "      <td>12</td>\n",
       "      <td>17</td>\n",
       "      <td>50</td>\n",
       "      <td>23</td>\n",
       "      <td>31</td>\n",
       "    </tr>\n",
       "    <tr>\n",
       "      <th>863</th>\n",
       "      <td>Ariana Orla Padilla</td>\n",
       "      <td>AOP0898</td>\n",
       "      <td>12</td>\n",
       "      <td>17</td>\n",
       "      <td>50</td>\n",
       "      <td>23</td>\n",
       "      <td>31</td>\n",
       "    </tr>\n",
       "    <tr>\n",
       "      <th>864</th>\n",
       "      <td>Ariana Orla Padilla</td>\n",
       "      <td>AOP0898</td>\n",
       "      <td>12</td>\n",
       "      <td>17</td>\n",
       "      <td>50</td>\n",
       "      <td>23</td>\n",
       "      <td>31</td>\n",
       "    </tr>\n",
       "    <tr>\n",
       "      <th>865</th>\n",
       "      <td>Ariana Orla Padilla</td>\n",
       "      <td>AOP0898</td>\n",
       "      <td>12</td>\n",
       "      <td>17</td>\n",
       "      <td>50</td>\n",
       "      <td>23</td>\n",
       "      <td>31</td>\n",
       "    </tr>\n",
       "  </tbody>\n",
       "</table>\n",
       "</div>"
      ],
      "text/plain": [
       "           employee_name  user_id   O   C   E   A   N\n",
       "848  Ariana Orla Padilla  AOP0898  12  17  50  23  31\n",
       "849  Ariana Orla Padilla  AOP0898  12  17  50  23  31\n",
       "850  Ariana Orla Padilla  AOP0898  12  17  50  23  31\n",
       "851  Ariana Orla Padilla  AOP0898  12  17  50  23  31\n",
       "852  Ariana Orla Padilla  AOP0898  12  17  50  23  31\n",
       "853  Ariana Orla Padilla  AOP0898  12  17  50  23  31\n",
       "854  Ariana Orla Padilla  AOP0898  12  17  50  23  31\n",
       "855  Ariana Orla Padilla  AOP0898  12  17  50  23  31\n",
       "856  Ariana Orla Padilla  AOP0898  12  17  50  23  31\n",
       "857  Ariana Orla Padilla  AOP0898  12  17  50  23  31\n",
       "858  Ariana Orla Padilla  AOP0898  12  17  50  23  31\n",
       "859  Ariana Orla Padilla  AOP0898  12  17  50  23  31\n",
       "860  Ariana Orla Padilla  AOP0898  12  17  50  23  31\n",
       "861  Ariana Orla Padilla  AOP0898  12  17  50  23  31\n",
       "862  Ariana Orla Padilla  AOP0898  12  17  50  23  31\n",
       "863  Ariana Orla Padilla  AOP0898  12  17  50  23  31\n",
       "864  Ariana Orla Padilla  AOP0898  12  17  50  23  31\n",
       "865  Ariana Orla Padilla  AOP0898  12  17  50  23  31"
      ]
     },
     "execution_count": 134,
     "metadata": {},
     "output_type": "execute_result"
    }
   ],
   "source": [
    "df_psychometric_users_clean[df_psychometric_users_clean.user_id.isin(df_threat_psycho.user)]"
   ]
  },
  {
   "cell_type": "code",
   "execution_count": null,
   "metadata": {
    "id": "32LeexjN6xQA"
   },
   "outputs": [],
   "source": []
  },
  {
   "cell_type": "code",
   "execution_count": 135,
   "metadata": {
    "id": "jVK9S1JxvPfA"
   },
   "outputs": [],
   "source": [
    "import matplotlib.pyplot as plt\n",
    "import numpy as np\n",
    "import pandas as pd\n",
    "import seaborn as sns"
   ]
  },
  {
   "cell_type": "code",
   "execution_count": 136,
   "metadata": {
    "colab": {
     "background_save": true
    },
    "id": "EeW4MdzE0TMP"
   },
   "outputs": [
    {
     "data": {
      "image/png": "[encoded data removed]",
      "text/plain": [
       "<Figure size 1440x720 with 1 Axes>"
      ]
     },
     "metadata": {
      "needs_background": "light"
     },
     "output_type": "display_data"
    }
   ],
   "source": [
    "f, ax = plt.subplots(figsize = (20,10))\n",
    "x_col='user'\n",
    "y_col = 'ascore'\n",
    "sns.set_theme(style=\"darkgrid\")\n",
    "sns.pointplot(ax=ax,x=x_col,y=y_col,data=df_all_parameters_result,color='purple')\n",
    "sns.pointplot(ax=ax,x=x_col,y=y_col,data=df_user_log_result,color='grey')\n",
    "sns.pointplot(ax=ax,x=x_col,y=y_col,data=df_psychometric_result,color='brown')\n",
    "sns.pointplot(ax=ax,x=x_col,y=y_col,data=df_device_file_full_result,color='darkorange')\n",
    "\n",
    "ax.legend(handles=ax.lines[::len(df_all_parameters_result)+1], labels=[\"All\",\"Logon/Logoff\",\"Psychometric\",\"Removable Media\"])\n",
    "#ax.set_xtickslabels(rotation = 45)\n",
    "ax.axhline(0, ls='-')\n",
    "ax.set_title('Anomaly score for different set of parameters ', size = 20)\n",
    "plt.rcParams[\"axes.labelsize\"] = 25\n",
    "plt.xticks(rotation = 45, fontsize = 10)\n",
    "plt.yticks(fontsize = 10)\n",
    "plt.show()"
   ]
  },
  {
   "cell_type": "code",
   "execution_count": 137,
   "metadata": {
    "colab": {
     "background_save": true
    },
    "id": "NVDdbFrWvZmK"
   },
   "outputs": [],
   "source": [
    "# df_files_stats_new.to_csv('file_stats_new')     #CHARTJS"
   ]
  },
  {
   "cell_type": "code",
   "execution_count": 138,
   "metadata": {
    "colab": {
     "background_save": true
    },
    "id": "X-B4FkUd0ipm"
   },
   "outputs": [
    {
     "data": {
      "image/png": "[encoded data removed]",
      "text/plain": [
       "<Figure size 1800x1080 with 1 Axes>"
      ]
     },
     "metadata": {},
     "output_type": "display_data"
    }
   ],
   "source": [
    "f, ax = plt.subplots(figsize = (25,15))\n",
    "x_col='user'\n",
    "\n",
    "sns.pointplot(ax=ax,x=x_col,y='mode_trasfers_per_user',data=df_files_stats_new, color='orange')\n",
    "sns.pointplot(ax=ax,x=x_col,y='max_transfers_per_user',data=df_files_stats_new,color='blue')\n",
    "\n",
    "ax.legend(handles=ax.lines[::len(df_files_stats)+1], labels=[\"mode\", \"max\"], fontsize = 20)\n",
    "\n",
    "ax.set_title('File transfers per user', size = 30)\n",
    "plt.rcParams[\"axes.labelsize\"] = 25\n",
    "plt.ylabel(\"Number of files\")\n",
    "plt.xticks(rotation = 45, fontsize = 10)\n",
    "plt.yticks(fontsize = 10)\n",
    "# plt.legend(fontsize=20)\n",
    "plt.show()"
   ]
  },
  {
   "cell_type": "code",
   "execution_count": null,
   "metadata": {
    "colab": {
     "background_save": true
    },
    "id": "oCkXxP-BNnl0"
   },
   "outputs": [],
   "source": []
  }
 ],
 "metadata": {
  "colab": {
   "collapsed_sections": [],
   "name": "insider_threat1.ipynb",
   "version": ""
  },
  "kernelspec": {
   "display_name": "Python 3 (ipykernel)",
   "language": "python",
   "name": "python3"
  },
  "language_info": {
   "codemirror_mode": {
    "name": "ipython",
    "version": 3
   },
   "file_extension": ".py",
   "mimetype": "text/x-python",
   "name": "python",
   "nbconvert_exporter": "python",
   "pygments_lexer": "ipython3",
   "version": "3.9.6"
  }
 },
 "nbformat": 4,
 "nbformat_minor": 1
}
