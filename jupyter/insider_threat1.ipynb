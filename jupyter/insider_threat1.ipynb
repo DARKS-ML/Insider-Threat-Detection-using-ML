{
 "cells": [
  {
   "cell_type": "code",
   "execution_count": 1,
   "metadata": {
    "colab": {
     "base_uri": "https://localhost:8080/"
    },
    "executionInfo": {
     "elapsed": 188007,
     "status": "ok",
     "timestamp": 1631974575691,
     "user": {
      "displayName": "Suraj Sharma",
      "photoUrl": "https://lh3.googleusercontent.com/a/default-user=s64",
      "userId": "04526276601361747492"
     },
     "user_tz": -345
    },
    "id": "wij_6UxvaCgD",
    "outputId": "745b439f-1222-4c2b-bdb0-00adc91919b6"
   },
   "outputs": [],
   "source": [
    "# from google.colab import drive\n",
    "# drive.mount('/content/gdrive')\n"
   ]
  },
  {
   "cell_type": "code",
   "execution_count": 2,
   "metadata": {
    "executionInfo": {
     "elapsed": 43,
     "status": "ok",
     "timestamp": 1631974575697,
     "user": {
      "displayName": "Suraj Sharma",
      "photoUrl": "https://lh3.googleusercontent.com/a/default-user=s64",
      "userId": "04526276601361747492"
     },
     "user_tz": -345
    },
    "id": "n9Cev7cmaFhr"
   },
   "outputs": [],
   "source": [
    "import pandas as pd\n",
    "import numpy as np"
   ]
  },
  {
   "cell_type": "code",
   "execution_count": 3,
   "metadata": {
    "executionInfo": {
     "elapsed": 35,
     "status": "ok",
     "timestamp": 1631974575699,
     "user": {
      "displayName": "Suraj Sharma",
      "photoUrl": "https://lh3.googleusercontent.com/a/default-user=s64",
      "userId": "04526276601361747492"
     },
     "user_tz": -345
    },
    "id": "PcX_UU9igM7J"
   },
   "outputs": [],
   "source": [
    "# path = \"/content/gdrive/MyDrive/dataset/\"\n",
    "path=\"../dataset new/\""
   ]
  },
  {
   "cell_type": "code",
   "execution_count": 4,
   "metadata": {
    "executionInfo": {
     "elapsed": 2025,
     "status": "ok",
     "timestamp": 1631974577694,
     "user": {
      "displayName": "Suraj Sharma",
      "photoUrl": "https://lh3.googleusercontent.com/a/default-user=s64",
      "userId": "04526276601361747492"
     },
     "user_tz": -345
    },
    "id": "xOTXUo0-arwM"
   },
   "outputs": [],
   "source": [
    "df_users_full = pd.read_csv(path + \"users.csv\")\n",
    "df_users1 = df_users_full[[\"user_id\",\"functional_unit\",\"department\"]]\n",
    "df_users = df_users1[df_users1.functional_unit == \"2 - ResearchAndEngineering\"]\n",
    "df_users = df_users[(df_users.department != \"1 - Research\")]\n",
    "df_users = pd.DataFrame(df_users)"
   ]
  },
  {
   "cell_type": "code",
   "execution_count": 5,
   "metadata": {
    "colab": {
     "base_uri": "https://localhost:8080/",
     "height": 424
    },
    "executionInfo": {
     "elapsed": 70,
     "status": "ok",
     "timestamp": 1631974577698,
     "user": {
      "displayName": "Suraj Sharma",
      "photoUrl": "https://lh3.googleusercontent.com/a/default-user=s64",
      "userId": "04526276601361747492"
     },
     "user_tz": -345
    },
    "id": "yj40AovFedSI",
    "outputId": "74e412df-6e8d-4fac-dbeb-25349a8c73d4"
   },
   "outputs": [
    {
     "data": {
      "text/html": [
       "<div>\n",
       "<style scoped>\n",
       "    .dataframe tbody tr th:only-of-type {\n",
       "        vertical-align: middle;\n",
       "    }\n",
       "\n",
       "    .dataframe tbody tr th {\n",
       "        vertical-align: top;\n",
       "    }\n",
       "\n",
       "    .dataframe thead th {\n",
       "        text-align: right;\n",
       "    }\n",
       "</style>\n",
       "<table border=\"1\" class=\"dataframe\">\n",
       "  <thead>\n",
       "    <tr style=\"text-align: right;\">\n",
       "      <th></th>\n",
       "      <th>user_id</th>\n",
       "      <th>functional_unit</th>\n",
       "      <th>department</th>\n",
       "    </tr>\n",
       "  </thead>\n",
       "  <tbody>\n",
       "    <tr>\n",
       "      <th>8</th>\n",
       "      <td>HBB0090</td>\n",
       "      <td>2 - ResearchAndEngineering</td>\n",
       "      <td>3 - Engineering</td>\n",
       "    </tr>\n",
       "    <tr>\n",
       "      <th>10</th>\n",
       "      <td>QCF0390</td>\n",
       "      <td>2 - ResearchAndEngineering</td>\n",
       "      <td>3 - Engineering</td>\n",
       "    </tr>\n",
       "    <tr>\n",
       "      <th>11</th>\n",
       "      <td>JDD0087</td>\n",
       "      <td>2 - ResearchAndEngineering</td>\n",
       "      <td>3 - Engineering</td>\n",
       "    </tr>\n",
       "    <tr>\n",
       "      <th>12</th>\n",
       "      <td>AAN0077</td>\n",
       "      <td>2 - ResearchAndEngineering</td>\n",
       "      <td>3 - Engineering</td>\n",
       "    </tr>\n",
       "    <tr>\n",
       "      <th>13</th>\n",
       "      <td>GJP0098</td>\n",
       "      <td>2 - ResearchAndEngineering</td>\n",
       "      <td>3 - Engineering</td>\n",
       "    </tr>\n",
       "    <tr>\n",
       "      <th>...</th>\n",
       "      <td>...</td>\n",
       "      <td>...</td>\n",
       "      <td>...</td>\n",
       "    </tr>\n",
       "    <tr>\n",
       "      <th>17318</th>\n",
       "      <td>KRM0241</td>\n",
       "      <td>2 - ResearchAndEngineering</td>\n",
       "      <td>3 - Engineering</td>\n",
       "    </tr>\n",
       "    <tr>\n",
       "      <th>17320</th>\n",
       "      <td>ORC0907</td>\n",
       "      <td>2 - ResearchAndEngineering</td>\n",
       "      <td>2 - SoftwareManagement</td>\n",
       "    </tr>\n",
       "    <tr>\n",
       "      <th>17325</th>\n",
       "      <td>REM0274</td>\n",
       "      <td>2 - ResearchAndEngineering</td>\n",
       "      <td>3 - Engineering</td>\n",
       "    </tr>\n",
       "    <tr>\n",
       "      <th>17332</th>\n",
       "      <td>QKA0388</td>\n",
       "      <td>2 - ResearchAndEngineering</td>\n",
       "      <td>3 - Engineering</td>\n",
       "    </tr>\n",
       "    <tr>\n",
       "      <th>17333</th>\n",
       "      <td>GGK0375</td>\n",
       "      <td>2 - ResearchAndEngineering</td>\n",
       "      <td>3 - Engineering</td>\n",
       "    </tr>\n",
       "  </tbody>\n",
       "</table>\n",
       "<p>4027 rows × 3 columns</p>\n",
       "</div>"
      ],
      "text/plain": [
       "       user_id             functional_unit              department\n",
       "8      HBB0090  2 - ResearchAndEngineering         3 - Engineering\n",
       "10     QCF0390  2 - ResearchAndEngineering         3 - Engineering\n",
       "11     JDD0087  2 - ResearchAndEngineering         3 - Engineering\n",
       "12     AAN0077  2 - ResearchAndEngineering         3 - Engineering\n",
       "13     GJP0098  2 - ResearchAndEngineering         3 - Engineering\n",
       "...        ...                         ...                     ...\n",
       "17318  KRM0241  2 - ResearchAndEngineering         3 - Engineering\n",
       "17320  ORC0907  2 - ResearchAndEngineering  2 - SoftwareManagement\n",
       "17325  REM0274  2 - ResearchAndEngineering         3 - Engineering\n",
       "17332  QKA0388  2 - ResearchAndEngineering         3 - Engineering\n",
       "17333  GGK0375  2 - ResearchAndEngineering         3 - Engineering\n",
       "\n",
       "[4027 rows x 3 columns]"
      ]
     },
     "execution_count": 5,
     "metadata": {},
     "output_type": "execute_result"
    }
   ],
   "source": [
    "df_users"
   ]
  },
  {
   "cell_type": "code",
   "execution_count": 6,
   "metadata": {
    "colab": {
     "base_uri": "https://localhost:8080/"
    },
    "executionInfo": {
     "elapsed": 60,
     "status": "ok",
     "timestamp": 1631974577702,
     "user": {
      "displayName": "Suraj Sharma",
      "photoUrl": "https://lh3.googleusercontent.com/a/default-user=s64",
      "userId": "04526276601361747492"
     },
     "user_tz": -345
    },
    "id": "eGo4DX9Gczki",
    "outputId": "48c3e3f7-3b4e-4d17-8701-65af7dd013ef"
   },
   "outputs": [
    {
     "name": "stdout",
     "output_type": "stream",
     "text": [
      "<class 'pandas.core.frame.DataFrame'>\n",
      "Int64Index: 3991 entries, 8 to 17333\n",
      "Data columns (total 3 columns):\n",
      " #   Column           Non-Null Count  Dtype \n",
      "---  ------           --------------  ----- \n",
      " 0   user_id          3991 non-null   object\n",
      " 1   functional_unit  3991 non-null   object\n",
      " 2   department       3991 non-null   object\n",
      "dtypes: object(3)\n",
      "memory usage: 124.7+ KB\n"
     ]
    }
   ],
   "source": [
    "df_users = df_users.dropna(axis = 0)\n",
    "df_users.info()"
   ]
  },
  {
   "cell_type": "code",
   "execution_count": 7,
   "metadata": {
    "executionInfo": {
     "elapsed": 47,
     "status": "ok",
     "timestamp": 1631974577706,
     "user": {
      "displayName": "Suraj Sharma",
      "photoUrl": "https://lh3.googleusercontent.com/a/default-user=s64",
      "userId": "04526276601361747492"
     },
     "user_tz": -345
    },
    "id": "TU8PLfADepqY"
   },
   "outputs": [],
   "source": [
    "df_device = pd.read_csv(path + \"device.csv\")"
   ]
  },
  {
   "cell_type": "code",
   "execution_count": 8,
   "metadata": {
    "executionInfo": {
     "elapsed": 6725,
     "status": "ok",
     "timestamp": 1631974584393,
     "user": {
      "displayName": "Suraj Sharma",
      "photoUrl": "https://lh3.googleusercontent.com/a/default-user=s64",
      "userId": "04526276601361747492"
     },
     "user_tz": -345
    },
    "id": "lJekvpRShBh6"
   },
   "outputs": [],
   "source": [
    "df_file = pd.read_csv(path + \"file.csv\")"
   ]
  },
  {
   "cell_type": "code",
   "execution_count": 9,
   "metadata": {
    "executionInfo": {
     "elapsed": 1187,
     "status": "ok",
     "timestamp": 1631974585574,
     "user": {
      "displayName": "Suraj Sharma",
      "photoUrl": "https://lh3.googleusercontent.com/a/default-user=s64",
      "userId": "04526276601361747492"
     },
     "user_tz": -345
    },
    "id": "in4qMPtahbat"
   },
   "outputs": [],
   "source": [
    "df_logon = pd.read_csv(path + \"logon.csv\")"
   ]
  },
  {
   "cell_type": "code",
   "execution_count": 10,
   "metadata": {
    "executionInfo": {
     "elapsed": 1332,
     "status": "ok",
     "timestamp": 1631974586892,
     "user": {
      "displayName": "Suraj Sharma",
      "photoUrl": "https://lh3.googleusercontent.com/a/default-user=s64",
      "userId": "04526276601361747492"
     },
     "user_tz": -345
    },
    "id": "eobo2cJxhi7x"
   },
   "outputs": [],
   "source": [
    "df_psychometric = pd.read_csv(path + \"psychometric.csv\")\n",
    "df_psychometric = df_psychometric[['employee_name','user_id','O','C','E', 'A', 'N']]"
   ]
  },
  {
   "cell_type": "code",
   "execution_count": 11,
   "metadata": {
    "executionInfo": {
     "elapsed": 19,
     "status": "ok",
     "timestamp": 1631974586894,
     "user": {
      "displayName": "Suraj Sharma",
      "photoUrl": "https://lh3.googleusercontent.com/a/default-user=s64",
      "userId": "04526276601361747492"
     },
     "user_tz": -345
    },
    "id": "Tgn9ocmgiLNY"
   },
   "outputs": [],
   "source": [
    "df_users_clean = df_users.rename(columns= {'user_id':'user'}, inplace=False)"
   ]
  },
  {
   "cell_type": "code",
   "execution_count": 12,
   "metadata": {
    "executionInfo": {
     "elapsed": 18,
     "status": "ok",
     "timestamp": 1631974586898,
     "user": {
      "displayName": "Suraj Sharma",
      "photoUrl": "https://lh3.googleusercontent.com/a/default-user=s64",
      "userId": "04526276601361747492"
     },
     "user_tz": -345
    },
    "id": "FmP8jIxvjlLP"
   },
   "outputs": [],
   "source": [
    "df_logon_users = pd.merge(df_logon, df_users_clean, on = 'user')\n",
    "df_logon_users_clean = df_logon_users.drop(columns=['functional_unit', 'department'])\n"
   ]
  },
  {
   "cell_type": "code",
   "execution_count": 13,
   "metadata": {
    "executionInfo": {
     "elapsed": 868,
     "status": "ok",
     "timestamp": 1631974587751,
     "user": {
      "displayName": "Suraj Sharma",
      "photoUrl": "https://lh3.googleusercontent.com/a/default-user=s64",
      "userId": "04526276601361747492"
     },
     "user_tz": -345
    },
    "id": "UrMWJ9HxkND6"
   },
   "outputs": [],
   "source": [
    "df_device_users = pd.merge(df_device, df_users_clean, on='user')\n",
    "df_device_users_clean = df_device_users.drop(columns=['functional_unit','department'])"
   ]
  },
  {
   "cell_type": "code",
   "execution_count": 14,
   "metadata": {
    "executionInfo": {
     "elapsed": 1657,
     "status": "ok",
     "timestamp": 1631974589399,
     "user": {
      "displayName": "Suraj Sharma",
      "photoUrl": "https://lh3.googleusercontent.com/a/default-user=s64",
      "userId": "04526276601361747492"
     },
     "user_tz": -345
    },
    "id": "ANzvOpCzld8Q"
   },
   "outputs": [],
   "source": [
    "df_device_users = pd.merge(df_device, df_users_clean, on = 'user')\n",
    "df_device_users_clean = df_device_users.drop(columns = ['functional_unit', 'department'])\n"
   ]
  },
  {
   "cell_type": "code",
   "execution_count": 15,
   "metadata": {
    "executionInfo": {
     "elapsed": 23,
     "status": "ok",
     "timestamp": 1631974589401,
     "user": {
      "displayName": "Suraj Sharma",
      "photoUrl": "https://lh3.googleusercontent.com/a/default-user=s64",
      "userId": "04526276601361747492"
     },
     "user_tz": -345
    },
    "id": "Dxe2BR0Xl63k"
   },
   "outputs": [],
   "source": [
    "df_file_users = pd.merge(df_file, df_users_clean, on = 'user')\n",
    "df_file_users_clean = df_file_users.drop(columns = ['functional_unit', 'department'])\n"
   ]
  },
  {
   "cell_type": "code",
   "execution_count": 16,
   "metadata": {
    "executionInfo": {
     "elapsed": 21,
     "status": "ok",
     "timestamp": 1631974589403,
     "user": {
      "displayName": "Suraj Sharma",
      "photoUrl": "https://lh3.googleusercontent.com/a/default-user=s64",
      "userId": "04526276601361747492"
     },
     "user_tz": -345
    },
    "id": "MDykw7I_mSgi"
   },
   "outputs": [],
   "source": [
    "df_psychometric_users = pd.merge(df_psychometric, df_users, on = 'user_id')\n",
    "df_psychometric_users_clean = df_psychometric_users[['employee_name', 'user_id','O', 'C', 'E','A','N']]\n"
   ]
  },
  {
   "cell_type": "code",
   "execution_count": null,
   "metadata": {
    "executionInfo": {
     "elapsed": 21,
     "status": "ok",
     "timestamp": 1631974589405,
     "user": {
      "displayName": "Suraj Sharma",
      "photoUrl": "https://lh3.googleusercontent.com/a/default-user=s64",
      "userId": "04526276601361747492"
     },
     "user_tz": -345
    },
    "id": "0hOB8qtTmjmm"
   },
   "outputs": [],
   "source": []
  },
  {
   "cell_type": "code",
   "execution_count": 17,
   "metadata": {
    "executionInfo": {
     "elapsed": 11555,
     "status": "ok",
     "timestamp": 1631974600941,
     "user": {
      "displayName": "Suraj Sharma",
      "photoUrl": "https://lh3.googleusercontent.com/a/default-user=s64",
      "userId": "04526276601361747492"
     },
     "user_tz": -345
    },
    "id": "bGx9ZX5wnlxv"
   },
   "outputs": [],
   "source": [
    "df_logon_users_clean['date'] = pd.to_datetime(df_logon_users_clean['date'])"
   ]
  },
  {
   "cell_type": "code",
   "execution_count": 18,
   "metadata": {
    "executionInfo": {
     "elapsed": 1924,
     "status": "ok",
     "timestamp": 1631974602837,
     "user": {
      "displayName": "Suraj Sharma",
      "photoUrl": "https://lh3.googleusercontent.com/a/default-user=s64",
      "userId": "04526276601361747492"
     },
     "user_tz": -345
    },
    "id": "nXDsqIadn6yv"
   },
   "outputs": [],
   "source": [
    "df_logon_users_clean['time'] = df_logon_users_clean['date'].dt.time"
   ]
  },
  {
   "cell_type": "code",
   "execution_count": 19,
   "metadata": {
    "executionInfo": {
     "elapsed": 1275,
     "status": "ok",
     "timestamp": 1631974604106,
     "user": {
      "displayName": "Suraj Sharma",
      "photoUrl": "https://lh3.googleusercontent.com/a/default-user=s64",
      "userId": "04526276601361747492"
     },
     "user_tz": -345
    },
    "id": "B84oChzUo4Zf"
   },
   "outputs": [],
   "source": [
    "df_user_logon = df_logon_users_clean.loc[df_logon_users_clean['activity'] == 'Logon']"
   ]
  },
  {
   "cell_type": "code",
   "execution_count": 20,
   "metadata": {
    "colab": {
     "base_uri": "https://localhost:8080/"
    },
    "executionInfo": {
     "elapsed": 37,
     "status": "ok",
     "timestamp": 1631974604109,
     "user": {
      "displayName": "Suraj Sharma",
      "photoUrl": "https://lh3.googleusercontent.com/a/default-user=s64",
      "userId": "04526276601361747492"
     },
     "user_tz": -345
    },
    "id": "sxUhfabzpc_l",
    "outputId": "b45a857f-3057-4f54-f4db-13a4d5b2b7f3"
   },
   "outputs": [
    {
     "name": "stderr",
     "output_type": "stream",
     "text": [
      "/tmp/ipykernel_10589/1930962928.py:1: SettingWithCopyWarning: \n",
      "A value is trying to be set on a copy of a slice from a DataFrame.\n",
      "Try using .loc[row_indexer,col_indexer] = value instead\n",
      "\n",
      "See the caveats in the documentation: https://pandas.pydata.org/pandas-docs/stable/user_guide/indexing.html#returning-a-view-versus-a-copy\n",
      "  df_user_logon['hour'] = pd.to_datetime(df_user_logon['date'], format='%H:%M').dt.hour\n"
     ]
    }
   ],
   "source": [
    "df_user_logon['hour'] = pd.to_datetime(df_user_logon['date'], format='%H:%M').dt.hour"
   ]
  },
  {
   "cell_type": "code",
   "execution_count": 21,
   "metadata": {
    "executionInfo": {
     "elapsed": 18,
     "status": "ok",
     "timestamp": 1631974604112,
     "user": {
      "displayName": "Suraj Sharma",
      "photoUrl": "https://lh3.googleusercontent.com/a/default-user=s64",
      "userId": "04526276601361747492"
     },
     "user_tz": -345
    },
    "id": "zI1fT9aEp7sJ"
   },
   "outputs": [],
   "source": [
    "df_user_logon_stats = df_user_logon.groupby('user')['time'].agg([min,max]).reset_index()"
   ]
  },
  {
   "cell_type": "code",
   "execution_count": 22,
   "metadata": {
    "executionInfo": {
     "elapsed": 698,
     "status": "ok",
     "timestamp": 1631974604796,
     "user": {
      "displayName": "Suraj Sharma",
      "photoUrl": "https://lh3.googleusercontent.com/a/default-user=s64",
      "userId": "04526276601361747492"
     },
     "user_tz": -345
    },
    "id": "0jGuY1JbtKfB"
   },
   "outputs": [],
   "source": [
    "df_logon_mode = df_user_logon.groupby('user')['time'].agg(lambda x: x.value_counts().index[0]).reset_index()"
   ]
  },
  {
   "cell_type": "code",
   "execution_count": null,
   "metadata": {
    "executionInfo": {
     "elapsed": 24,
     "status": "ok",
     "timestamp": 1631974604798,
     "user": {
      "displayName": "Suraj Sharma",
      "photoUrl": "https://lh3.googleusercontent.com/a/default-user=s64",
      "userId": "04526276601361747492"
     },
     "user_tz": -345
    },
    "id": "QmSRpebjM9De"
   },
   "outputs": [],
   "source": []
  },
  {
   "cell_type": "code",
   "execution_count": 23,
   "metadata": {
    "executionInfo": {
     "elapsed": 25,
     "status": "ok",
     "timestamp": 1631974604802,
     "user": {
      "displayName": "Suraj Sharma",
      "photoUrl": "https://lh3.googleusercontent.com/a/default-user=s64",
      "userId": "04526276601361747492"
     },
     "user_tz": -345
    },
    "id": "3iCK4Py10H_a"
   },
   "outputs": [],
   "source": [
    "df_logon_mean = df_user_logon.groupby('user')['hour'].mean().reset_index()\n",
    "df_logon_mean['hour'].dtype\n",
    "df_logon_mean['hour'] = pd.to_datetime(df_logon_mean['hour'], format='%H').dt.time\n"
   ]
  },
  {
   "cell_type": "code",
   "execution_count": 24,
   "metadata": {
    "executionInfo": {
     "elapsed": 21,
     "status": "ok",
     "timestamp": 1631974604803,
     "user": {
      "displayName": "Suraj Sharma",
      "photoUrl": "https://lh3.googleusercontent.com/a/default-user=s64",
      "userId": "04526276601361747492"
     },
     "user_tz": -345
    },
    "id": "ixgjK-gfzTEl"
   },
   "outputs": [],
   "source": [
    "df_user_logon_stats['mode'] = df_logon_mode['time']\n",
    "df_user_logon_stats['mean'] = df_logon_mean['hour']"
   ]
  },
  {
   "cell_type": "code",
   "execution_count": null,
   "metadata": {
    "executionInfo": {
     "elapsed": 19,
     "status": "ok",
     "timestamp": 1631974604804,
     "user": {
      "displayName": "Suraj Sharma",
      "photoUrl": "https://lh3.googleusercontent.com/a/default-user=s64",
      "userId": "04526276601361747492"
     },
     "user_tz": -345
    },
    "id": "DyRDg0k7xtdG"
   },
   "outputs": [],
   "source": []
  },
  {
   "cell_type": "code",
   "execution_count": 25,
   "metadata": {
    "executionInfo": {
     "elapsed": 29,
     "status": "ok",
     "timestamp": 1631974605401,
     "user": {
      "displayName": "Suraj Sharma",
      "photoUrl": "https://lh3.googleusercontent.com/a/default-user=s64",
      "userId": "04526276601361747492"
     },
     "user_tz": -345
    },
    "id": "CXRtENnN090y"
   },
   "outputs": [],
   "source": [
    "df_user_logoff = df_logon_users_clean.loc[df_logon_users_clean['activity'] == 'Logoff']"
   ]
  },
  {
   "cell_type": "code",
   "execution_count": 26,
   "metadata": {
    "colab": {
     "base_uri": "https://localhost:8080/"
    },
    "executionInfo": {
     "elapsed": 769,
     "status": "ok",
     "timestamp": 1631974606148,
     "user": {
      "displayName": "Suraj Sharma",
      "photoUrl": "https://lh3.googleusercontent.com/a/default-user=s64",
      "userId": "04526276601361747492"
     },
     "user_tz": -345
    },
    "id": "kl2eWWO13BzE",
    "outputId": "c81b3d12-ab08-4f50-c457-f3edfbf7e901"
   },
   "outputs": [
    {
     "name": "stderr",
     "output_type": "stream",
     "text": [
      "/tmp/ipykernel_10589/636462469.py:1: SettingWithCopyWarning: \n",
      "A value is trying to be set on a copy of a slice from a DataFrame.\n",
      "Try using .loc[row_indexer,col_indexer] = value instead\n",
      "\n",
      "See the caveats in the documentation: https://pandas.pydata.org/pandas-docs/stable/user_guide/indexing.html#returning-a-view-versus-a-copy\n",
      "  df_user_logoff['date'] = pd.to_datetime(df_user_logoff['date'])\n",
      "/tmp/ipykernel_10589/636462469.py:2: SettingWithCopyWarning: \n",
      "A value is trying to be set on a copy of a slice from a DataFrame.\n",
      "Try using .loc[row_indexer,col_indexer] = value instead\n",
      "\n",
      "See the caveats in the documentation: https://pandas.pydata.org/pandas-docs/stable/user_guide/indexing.html#returning-a-view-versus-a-copy\n",
      "  df_user_logoff['time'] = df_user_logoff['date'].dt.time\n"
     ]
    }
   ],
   "source": [
    "df_user_logoff['date'] = pd.to_datetime(df_user_logoff['date'])\n",
    "df_user_logoff['time'] = df_user_logoff['date'].dt.time"
   ]
  },
  {
   "cell_type": "code",
   "execution_count": 27,
   "metadata": {
    "colab": {
     "base_uri": "https://localhost:8080/"
    },
    "executionInfo": {
     "elapsed": 436,
     "status": "ok",
     "timestamp": 1631974606569,
     "user": {
      "displayName": "Suraj Sharma",
      "photoUrl": "https://lh3.googleusercontent.com/a/default-user=s64",
      "userId": "04526276601361747492"
     },
     "user_tz": -345
    },
    "id": "0jt5r6_O1QZW",
    "outputId": "c2bbb7dc-aa52-4b4f-a66a-d07b5906359a"
   },
   "outputs": [
    {
     "name": "stderr",
     "output_type": "stream",
     "text": [
      "/tmp/ipykernel_10589/1504136962.py:1: SettingWithCopyWarning: \n",
      "A value is trying to be set on a copy of a slice from a DataFrame.\n",
      "Try using .loc[row_indexer,col_indexer] = value instead\n",
      "\n",
      "See the caveats in the documentation: https://pandas.pydata.org/pandas-docs/stable/user_guide/indexing.html#returning-a-view-versus-a-copy\n",
      "  df_user_logoff['hour'] = pd.to_datetime(df_user_logoff['date'], format='%H:%M').dt.hour\n"
     ]
    }
   ],
   "source": [
    "\n",
    "df_user_logoff['hour'] = pd.to_datetime(df_user_logoff['date'], format='%H:%M').dt.hour"
   ]
  },
  {
   "cell_type": "code",
   "execution_count": 28,
   "metadata": {
    "executionInfo": {
     "elapsed": 13,
     "status": "ok",
     "timestamp": 1631974606571,
     "user": {
      "displayName": "Suraj Sharma",
      "photoUrl": "https://lh3.googleusercontent.com/a/default-user=s64",
      "userId": "04526276601361747492"
     },
     "user_tz": -345
    },
    "id": "Drb_zZGC1oNv"
   },
   "outputs": [],
   "source": [
    "df_user_logoff_stats = df_user_logoff.groupby('user')['time'].agg([min,max]).reset_index()"
   ]
  },
  {
   "cell_type": "code",
   "execution_count": 29,
   "metadata": {
    "colab": {
     "base_uri": "https://localhost:8080/",
     "height": 424
    },
    "executionInfo": {
     "elapsed": 369,
     "status": "ok",
     "timestamp": 1631974606931,
     "user": {
      "displayName": "Suraj Sharma",
      "photoUrl": "https://lh3.googleusercontent.com/a/default-user=s64",
      "userId": "04526276601361747492"
     },
     "user_tz": -345
    },
    "id": "8LyVk1oa1aqJ",
    "outputId": "bc52c5b8-42de-4c6d-d0cc-f318a94e588e"
   },
   "outputs": [
    {
     "data": {
      "text/html": [
       "<div>\n",
       "<style scoped>\n",
       "    .dataframe tbody tr th:only-of-type {\n",
       "        vertical-align: middle;\n",
       "    }\n",
       "\n",
       "    .dataframe tbody tr th {\n",
       "        vertical-align: top;\n",
       "    }\n",
       "\n",
       "    .dataframe thead th {\n",
       "        text-align: right;\n",
       "    }\n",
       "</style>\n",
       "<table border=\"1\" class=\"dataframe\">\n",
       "  <thead>\n",
       "    <tr style=\"text-align: right;\">\n",
       "      <th></th>\n",
       "      <th>user</th>\n",
       "      <th>time</th>\n",
       "    </tr>\n",
       "  </thead>\n",
       "  <tbody>\n",
       "    <tr>\n",
       "      <th>0</th>\n",
       "      <td>AAN0077</td>\n",
       "      <td>16:56:00</td>\n",
       "    </tr>\n",
       "    <tr>\n",
       "      <th>1</th>\n",
       "      <td>AAW0103</td>\n",
       "      <td>16:14:00</td>\n",
       "    </tr>\n",
       "    <tr>\n",
       "      <th>2</th>\n",
       "      <td>ACE0265</td>\n",
       "      <td>16:06:00</td>\n",
       "    </tr>\n",
       "    <tr>\n",
       "      <th>3</th>\n",
       "      <td>ACL0394</td>\n",
       "      <td>17:15:00</td>\n",
       "    </tr>\n",
       "    <tr>\n",
       "      <th>4</th>\n",
       "      <td>ADR0362</td>\n",
       "      <td>16:45:00</td>\n",
       "    </tr>\n",
       "    <tr>\n",
       "      <th>...</th>\n",
       "      <td>...</td>\n",
       "      <td>...</td>\n",
       "    </tr>\n",
       "    <tr>\n",
       "      <th>225</th>\n",
       "      <td>XTM0246</td>\n",
       "      <td>17:00:00</td>\n",
       "    </tr>\n",
       "    <tr>\n",
       "      <th>226</th>\n",
       "      <td>YJT0368</td>\n",
       "      <td>16:45:00</td>\n",
       "    </tr>\n",
       "    <tr>\n",
       "      <th>227</th>\n",
       "      <td>YSB0779</td>\n",
       "      <td>16:45:00</td>\n",
       "    </tr>\n",
       "    <tr>\n",
       "      <th>228</th>\n",
       "      <td>ZBL0379</td>\n",
       "      <td>19:30:00</td>\n",
       "    </tr>\n",
       "    <tr>\n",
       "      <th>229</th>\n",
       "      <td>ZIF0269</td>\n",
       "      <td>16:05:00</td>\n",
       "    </tr>\n",
       "  </tbody>\n",
       "</table>\n",
       "<p>230 rows × 2 columns</p>\n",
       "</div>"
      ],
      "text/plain": [
       "        user      time\n",
       "0    AAN0077  16:56:00\n",
       "1    AAW0103  16:14:00\n",
       "2    ACE0265  16:06:00\n",
       "3    ACL0394  17:15:00\n",
       "4    ADR0362  16:45:00\n",
       "..       ...       ...\n",
       "225  XTM0246  17:00:00\n",
       "226  YJT0368  16:45:00\n",
       "227  YSB0779  16:45:00\n",
       "228  ZBL0379  19:30:00\n",
       "229  ZIF0269  16:05:00\n",
       "\n",
       "[230 rows x 2 columns]"
      ]
     },
     "execution_count": 29,
     "metadata": {},
     "output_type": "execute_result"
    }
   ],
   "source": [
    "df_user_logoff.groupby('user')['time'].agg(pd.Series.mode).reset_index()"
   ]
  },
  {
   "cell_type": "code",
   "execution_count": 30,
   "metadata": {
    "executionInfo": {
     "elapsed": 1059,
     "status": "ok",
     "timestamp": 1631974607979,
     "user": {
      "displayName": "Suraj Sharma",
      "photoUrl": "https://lh3.googleusercontent.com/a/default-user=s64",
      "userId": "04526276601361747492"
     },
     "user_tz": -345
    },
    "id": "jZiXia-94xGH"
   },
   "outputs": [],
   "source": [
    "df_logoff_mode = df_user_logoff.groupby('user')['time'].agg(lambda x: x.value_counts().index[0]).reset_index()"
   ]
  },
  {
   "cell_type": "code",
   "execution_count": 31,
   "metadata": {
    "executionInfo": {
     "elapsed": 786,
     "status": "ok",
     "timestamp": 1631974608759,
     "user": {
      "displayName": "Suraj Sharma",
      "photoUrl": "https://lh3.googleusercontent.com/a/default-user=s64",
      "userId": "04526276601361747492"
     },
     "user_tz": -345
    },
    "id": "mmY8MLkU4hEy"
   },
   "outputs": [],
   "source": [
    "df_logoff_mean = df_user_logoff.groupby('user')['hour'].mean().reset_index()\n",
    "df_logoff_mean['hour'] = df_logoff_mean['hour'].astype(int)\n",
    "df_logoff_mean['hour'] = pd.to_datetime(df_logoff_mean['hour'], format='%H').dt.time\n"
   ]
  },
  {
   "cell_type": "code",
   "execution_count": 32,
   "metadata": {
    "executionInfo": {
     "elapsed": 8,
     "status": "ok",
     "timestamp": 1631974608760,
     "user": {
      "displayName": "Suraj Sharma",
      "photoUrl": "https://lh3.googleusercontent.com/a/default-user=s64",
      "userId": "04526276601361747492"
     },
     "user_tz": -345
    },
    "id": "O5sgWyir5stO"
   },
   "outputs": [],
   "source": [
    "df_user_logoff_stats['mode'] = df_logoff_mode['time']\n",
    "df_user_logoff_stats['mean'] = df_logoff_mean['hour']"
   ]
  },
  {
   "cell_type": "code",
   "execution_count": null,
   "metadata": {
    "executionInfo": {
     "elapsed": 9,
     "status": "ok",
     "timestamp": 1631974608762,
     "user": {
      "displayName": "Suraj Sharma",
      "photoUrl": "https://lh3.googleusercontent.com/a/default-user=s64",
      "userId": "04526276601361747492"
     },
     "user_tz": -345
    },
    "id": "YruLWKfU6QS6"
   },
   "outputs": [],
   "source": []
  },
  {
   "cell_type": "code",
   "execution_count": 33,
   "metadata": {
    "executionInfo": {
     "elapsed": 11000,
     "status": "ok",
     "timestamp": 1631974619754,
     "user": {
      "displayName": "Suraj Sharma",
      "photoUrl": "https://lh3.googleusercontent.com/a/default-user=s64",
      "userId": "04526276601361747492"
     },
     "user_tz": -345
    },
    "id": "EmyBAKEu6ccc"
   },
   "outputs": [],
   "source": [
    "df_device_users_clean['time'] = pd.to_datetime(df_device_users_clean['date']).dt.time"
   ]
  },
  {
   "cell_type": "code",
   "execution_count": 34,
   "metadata": {
    "executionInfo": {
     "elapsed": 669,
     "status": "ok",
     "timestamp": 1631974620407,
     "user": {
      "displayName": "Suraj Sharma",
      "photoUrl": "https://lh3.googleusercontent.com/a/default-user=s64",
      "userId": "04526276601361747492"
     },
     "user_tz": -345
    },
    "id": "w7HH2UEDEusT"
   },
   "outputs": [],
   "source": [
    "df_device_conn = df_device_users_clean.loc[df_device_users_clean['activity'] == 'Connect']\n",
    "df_device_disconn = df_device_users_clean.loc[df_device_users_clean['activity'] == 'Disconnect']\n"
   ]
  },
  {
   "cell_type": "code",
   "execution_count": 35,
   "metadata": {
    "executionInfo": {
     "elapsed": 10,
     "status": "ok",
     "timestamp": 1631974620408,
     "user": {
      "displayName": "Suraj Sharma",
      "photoUrl": "https://lh3.googleusercontent.com/a/default-user=s64",
      "userId": "04526276601361747492"
     },
     "user_tz": -345
    },
    "id": "pDo0AygbFk-T"
   },
   "outputs": [],
   "source": [
    "df_device_conn_stats = df_device_conn.groupby('user')['time'].agg([min, max]).reset_index()"
   ]
  },
  {
   "cell_type": "code",
   "execution_count": 36,
   "metadata": {
    "executionInfo": {
     "elapsed": 9,
     "status": "ok",
     "timestamp": 1631974620409,
     "user": {
      "displayName": "Suraj Sharma",
      "photoUrl": "https://lh3.googleusercontent.com/a/default-user=s64",
      "userId": "04526276601361747492"
     },
     "user_tz": -345
    },
    "id": "9IXkVIHgF2iT"
   },
   "outputs": [],
   "source": [
    "df_device_conn_stats_1 = df_device_conn.groupby('user')"
   ]
  },
  {
   "cell_type": "code",
   "execution_count": 37,
   "metadata": {
    "executionInfo": {
     "elapsed": 475,
     "status": "ok",
     "timestamp": 1631974620876,
     "user": {
      "displayName": "Suraj Sharma",
      "photoUrl": "https://lh3.googleusercontent.com/a/default-user=s64",
      "userId": "04526276601361747492"
     },
     "user_tz": -345
    },
    "id": "fQGY5MkTGIyG"
   },
   "outputs": [],
   "source": [
    "df_conn_mode = df_device_conn.groupby('user')['time'].agg(lambda x: x.value_counts().index[0]).reset_index()"
   ]
  },
  {
   "cell_type": "code",
   "execution_count": 38,
   "metadata": {
    "colab": {
     "base_uri": "https://localhost:8080/"
    },
    "executionInfo": {
     "elapsed": 5700,
     "status": "ok",
     "timestamp": 1631974626570,
     "user": {
      "displayName": "Suraj Sharma",
      "photoUrl": "https://lh3.googleusercontent.com/a/default-user=s64",
      "userId": "04526276601361747492"
     },
     "user_tz": -345
    },
    "id": "zxgMmpZ5GhV7",
    "outputId": "e563646f-2841-4402-f389-6d1f9dd046bc"
   },
   "outputs": [
    {
     "name": "stderr",
     "output_type": "stream",
     "text": [
      "/tmp/ipykernel_10589/2737355688.py:1: SettingWithCopyWarning: \n",
      "A value is trying to be set on a copy of a slice from a DataFrame.\n",
      "Try using .loc[row_indexer,col_indexer] = value instead\n",
      "\n",
      "See the caveats in the documentation: https://pandas.pydata.org/pandas-docs/stable/user_guide/indexing.html#returning-a-view-versus-a-copy\n",
      "  df_device_conn['hour'] = pd.to_datetime(df_device_conn['date']).dt.hour\n"
     ]
    }
   ],
   "source": [
    "df_device_conn['hour'] = pd.to_datetime(df_device_conn['date']).dt.hour"
   ]
  },
  {
   "cell_type": "code",
   "execution_count": 39,
   "metadata": {
    "executionInfo": {
     "elapsed": 46,
     "status": "ok",
     "timestamp": 1631974626577,
     "user": {
      "displayName": "Suraj Sharma",
      "photoUrl": "https://lh3.googleusercontent.com/a/default-user=s64",
      "userId": "04526276601361747492"
     },
     "user_tz": -345
    },
    "id": "73pQhz86GwYe"
   },
   "outputs": [],
   "source": [
    "df_conn_mean = df_device_conn.groupby('user')['hour'].mean().reset_index()\n",
    "df_conn_mean['hour'] = df_conn_mean['hour'].astype(int)\n",
    "df_conn_mean['hour'] = pd.to_datetime(df_conn_mean['hour'],format=\"%H\").dt.time"
   ]
  },
  {
   "cell_type": "code",
   "execution_count": 40,
   "metadata": {
    "executionInfo": {
     "elapsed": 43,
     "status": "ok",
     "timestamp": 1631974626581,
     "user": {
      "displayName": "Suraj Sharma",
      "photoUrl": "https://lh3.googleusercontent.com/a/default-user=s64",
      "userId": "04526276601361747492"
     },
     "user_tz": -345
    },
    "id": "bT2HqZgFHZgg"
   },
   "outputs": [],
   "source": [
    "df_device_conn_stats['mode'] = df_conn_mode['time']\n",
    "df_device_conn_stats['mean'] = df_conn_mean['hour']"
   ]
  },
  {
   "cell_type": "code",
   "execution_count": null,
   "metadata": {
    "executionInfo": {
     "elapsed": 39,
     "status": "ok",
     "timestamp": 1631974626583,
     "user": {
      "displayName": "Suraj Sharma",
      "photoUrl": "https://lh3.googleusercontent.com/a/default-user=s64",
      "userId": "04526276601361747492"
     },
     "user_tz": -345
    },
    "id": "rtNHzgLjHrml"
   },
   "outputs": [],
   "source": []
  },
  {
   "cell_type": "code",
   "execution_count": 41,
   "metadata": {
    "executionInfo": {
     "elapsed": 703,
     "status": "ok",
     "timestamp": 1631974627251,
     "user": {
      "displayName": "Suraj Sharma",
      "photoUrl": "https://lh3.googleusercontent.com/a/default-user=s64",
      "userId": "04526276601361747492"
     },
     "user_tz": -345
    },
    "id": "SfIGvVXcHvgH"
   },
   "outputs": [],
   "source": [
    "df_device_disconn_stats = df_device_disconn.groupby('user')['time'].agg([min,max]).reset_index()"
   ]
  },
  {
   "cell_type": "code",
   "execution_count": 42,
   "metadata": {
    "executionInfo": {
     "elapsed": 7,
     "status": "ok",
     "timestamp": 1631974627251,
     "user": {
      "displayName": "Suraj Sharma",
      "photoUrl": "https://lh3.googleusercontent.com/a/default-user=s64",
      "userId": "04526276601361747492"
     },
     "user_tz": -345
    },
    "id": "uV4V2DK4IC2Q"
   },
   "outputs": [],
   "source": [
    "df_dconn_mode = df_device_disconn.groupby('user')['time'].agg(lambda x: x.value_counts().index[0]).reset_index()\n",
    "\n"
   ]
  },
  {
   "cell_type": "code",
   "execution_count": 43,
   "metadata": {
    "colab": {
     "base_uri": "https://localhost:8080/"
    },
    "executionInfo": {
     "elapsed": 5492,
     "status": "ok",
     "timestamp": 1631974632738,
     "user": {
      "displayName": "Suraj Sharma",
      "photoUrl": "https://lh3.googleusercontent.com/a/default-user=s64",
      "userId": "04526276601361747492"
     },
     "user_tz": -345
    },
    "id": "x7XYhgqQIMdl",
    "outputId": "35240903-bc1e-4818-8e6f-8d4365186467"
   },
   "outputs": [
    {
     "name": "stderr",
     "output_type": "stream",
     "text": [
      "/tmp/ipykernel_10589/1753353138.py:1: SettingWithCopyWarning: \n",
      "A value is trying to be set on a copy of a slice from a DataFrame.\n",
      "Try using .loc[row_indexer,col_indexer] = value instead\n",
      "\n",
      "See the caveats in the documentation: https://pandas.pydata.org/pandas-docs/stable/user_guide/indexing.html#returning-a-view-versus-a-copy\n",
      "  df_device_disconn['hour'] = pd.to_datetime(df_device_disconn['date']).dt.hour\n"
     ]
    }
   ],
   "source": [
    "df_device_disconn['hour'] = pd.to_datetime(df_device_disconn['date']).dt.hour\n"
   ]
  },
  {
   "cell_type": "code",
   "execution_count": 44,
   "metadata": {
    "executionInfo": {
     "elapsed": 22,
     "status": "ok",
     "timestamp": 1631974632741,
     "user": {
      "displayName": "Suraj Sharma",
      "photoUrl": "https://lh3.googleusercontent.com/a/default-user=s64",
      "userId": "04526276601361747492"
     },
     "user_tz": -345
    },
    "id": "kqT1HiLmIS70"
   },
   "outputs": [],
   "source": [
    "df_dconn_mean = df_device_disconn.groupby('user')['hour'].mean().reset_index()\n",
    "df_dconn_mean['hour'] = df_dconn_mean['hour'].astype(int)\n",
    "df_dconn_mean['hour'] = pd.to_datetime(df_dconn_mean['hour'], format='%H').dt.time\n"
   ]
  },
  {
   "cell_type": "code",
   "execution_count": 45,
   "metadata": {
    "colab": {
     "base_uri": "https://localhost:8080/",
     "height": 1000
    },
    "executionInfo": {
     "elapsed": 21,
     "status": "ok",
     "timestamp": 1631974632742,
     "user": {
      "displayName": "Suraj Sharma",
      "photoUrl": "https://lh3.googleusercontent.com/a/default-user=s64",
      "userId": "04526276601361747492"
     },
     "user_tz": -345
    },
    "id": "546-RXFUi1zf",
    "outputId": "96ebbad3-fda1-4c18-8065-5e3b2a13cede"
   },
   "outputs": [
    {
     "data": {
      "text/html": [
       "<div>\n",
       "<style scoped>\n",
       "    .dataframe tbody tr th:only-of-type {\n",
       "        vertical-align: middle;\n",
       "    }\n",
       "\n",
       "    .dataframe tbody tr th {\n",
       "        vertical-align: top;\n",
       "    }\n",
       "\n",
       "    .dataframe thead th {\n",
       "        text-align: right;\n",
       "    }\n",
       "</style>\n",
       "<table border=\"1\" class=\"dataframe\">\n",
       "  <thead>\n",
       "    <tr style=\"text-align: right;\">\n",
       "      <th></th>\n",
       "      <th>user</th>\n",
       "      <th>hour</th>\n",
       "    </tr>\n",
       "  </thead>\n",
       "  <tbody>\n",
       "    <tr>\n",
       "      <th>0</th>\n",
       "      <td>AJQ0376</td>\n",
       "      <td>14:00:00</td>\n",
       "    </tr>\n",
       "    <tr>\n",
       "      <th>1</th>\n",
       "      <td>AJR0231</td>\n",
       "      <td>11:00:00</td>\n",
       "    </tr>\n",
       "    <tr>\n",
       "      <th>2</th>\n",
       "      <td>AOD0066</td>\n",
       "      <td>12:00:00</td>\n",
       "    </tr>\n",
       "    <tr>\n",
       "      <th>3</th>\n",
       "      <td>ARH0777</td>\n",
       "      <td>12:00:00</td>\n",
       "    </tr>\n",
       "    <tr>\n",
       "      <th>4</th>\n",
       "      <td>BCP0247</td>\n",
       "      <td>12:00:00</td>\n",
       "    </tr>\n",
       "    <tr>\n",
       "      <th>5</th>\n",
       "      <td>BDS0396</td>\n",
       "      <td>13:00:00</td>\n",
       "    </tr>\n",
       "    <tr>\n",
       "      <th>6</th>\n",
       "      <td>BMS0057</td>\n",
       "      <td>15:00:00</td>\n",
       "    </tr>\n",
       "    <tr>\n",
       "      <th>7</th>\n",
       "      <td>BZK0095</td>\n",
       "      <td>11:00:00</td>\n",
       "    </tr>\n",
       "    <tr>\n",
       "      <th>8</th>\n",
       "      <td>CAE0080</td>\n",
       "      <td>12:00:00</td>\n",
       "    </tr>\n",
       "    <tr>\n",
       "      <th>9</th>\n",
       "      <td>CGH0088</td>\n",
       "      <td>12:00:00</td>\n",
       "    </tr>\n",
       "    <tr>\n",
       "      <th>10</th>\n",
       "      <td>CJG0059</td>\n",
       "      <td>11:00:00</td>\n",
       "    </tr>\n",
       "    <tr>\n",
       "      <th>11</th>\n",
       "      <td>CJV0236</td>\n",
       "      <td>12:00:00</td>\n",
       "    </tr>\n",
       "    <tr>\n",
       "      <th>12</th>\n",
       "      <td>CSD0242</td>\n",
       "      <td>12:00:00</td>\n",
       "    </tr>\n",
       "    <tr>\n",
       "      <th>13</th>\n",
       "      <td>DWC0525</td>\n",
       "      <td>13:00:00</td>\n",
       "    </tr>\n",
       "    <tr>\n",
       "      <th>14</th>\n",
       "      <td>FED0275</td>\n",
       "      <td>12:00:00</td>\n",
       "    </tr>\n",
       "    <tr>\n",
       "      <th>15</th>\n",
       "      <td>FKF0235</td>\n",
       "      <td>12:00:00</td>\n",
       "    </tr>\n",
       "    <tr>\n",
       "      <th>16</th>\n",
       "      <td>GGM0530</td>\n",
       "      <td>12:00:00</td>\n",
       "    </tr>\n",
       "    <tr>\n",
       "      <th>17</th>\n",
       "      <td>GJP0098</td>\n",
       "      <td>11:00:00</td>\n",
       "    </tr>\n",
       "    <tr>\n",
       "      <th>18</th>\n",
       "      <td>HBB0090</td>\n",
       "      <td>11:00:00</td>\n",
       "    </tr>\n",
       "    <tr>\n",
       "      <th>19</th>\n",
       "      <td>HNW0537</td>\n",
       "      <td>13:00:00</td>\n",
       "    </tr>\n",
       "    <tr>\n",
       "      <th>20</th>\n",
       "      <td>HOJ0260</td>\n",
       "      <td>11:00:00</td>\n",
       "    </tr>\n",
       "    <tr>\n",
       "      <th>21</th>\n",
       "      <td>IAF0403</td>\n",
       "      <td>13:00:00</td>\n",
       "    </tr>\n",
       "    <tr>\n",
       "      <th>22</th>\n",
       "      <td>IUM0065</td>\n",
       "      <td>11:00:00</td>\n",
       "    </tr>\n",
       "    <tr>\n",
       "      <th>23</th>\n",
       "      <td>JCE0258</td>\n",
       "      <td>12:00:00</td>\n",
       "    </tr>\n",
       "    <tr>\n",
       "      <th>24</th>\n",
       "      <td>JDD0087</td>\n",
       "      <td>13:00:00</td>\n",
       "    </tr>\n",
       "    <tr>\n",
       "      <th>25</th>\n",
       "      <td>JLI0073</td>\n",
       "      <td>12:00:00</td>\n",
       "    </tr>\n",
       "    <tr>\n",
       "      <th>26</th>\n",
       "      <td>JNW0252</td>\n",
       "      <td>13:00:00</td>\n",
       "    </tr>\n",
       "    <tr>\n",
       "      <th>27</th>\n",
       "      <td>JTB0079</td>\n",
       "      <td>12:00:00</td>\n",
       "    </tr>\n",
       "    <tr>\n",
       "      <th>28</th>\n",
       "      <td>LEF0786</td>\n",
       "      <td>12:00:00</td>\n",
       "    </tr>\n",
       "    <tr>\n",
       "      <th>29</th>\n",
       "      <td>LJW0776</td>\n",
       "      <td>12:00:00</td>\n",
       "    </tr>\n",
       "    <tr>\n",
       "      <th>30</th>\n",
       "      <td>LTB0107</td>\n",
       "      <td>12:00:00</td>\n",
       "    </tr>\n",
       "    <tr>\n",
       "      <th>31</th>\n",
       "      <td>LVL0958</td>\n",
       "      <td>13:00:00</td>\n",
       "    </tr>\n",
       "    <tr>\n",
       "      <th>32</th>\n",
       "      <td>LWB0078</td>\n",
       "      <td>12:00:00</td>\n",
       "    </tr>\n",
       "    <tr>\n",
       "      <th>33</th>\n",
       "      <td>MJH0083</td>\n",
       "      <td>13:00:00</td>\n",
       "    </tr>\n",
       "    <tr>\n",
       "      <th>34</th>\n",
       "      <td>MPM0410</td>\n",
       "      <td>13:00:00</td>\n",
       "    </tr>\n",
       "    <tr>\n",
       "      <th>35</th>\n",
       "      <td>MSB0359</td>\n",
       "      <td>12:00:00</td>\n",
       "    </tr>\n",
       "    <tr>\n",
       "      <th>36</th>\n",
       "      <td>ORC0907</td>\n",
       "      <td>13:00:00</td>\n",
       "    </tr>\n",
       "    <tr>\n",
       "      <th>37</th>\n",
       "      <td>QLC0248</td>\n",
       "      <td>13:00:00</td>\n",
       "    </tr>\n",
       "    <tr>\n",
       "      <th>38</th>\n",
       "      <td>RAW0533</td>\n",
       "      <td>13:00:00</td>\n",
       "    </tr>\n",
       "    <tr>\n",
       "      <th>39</th>\n",
       "      <td>REM0274</td>\n",
       "      <td>11:00:00</td>\n",
       "    </tr>\n",
       "    <tr>\n",
       "      <th>40</th>\n",
       "      <td>SBM0063</td>\n",
       "      <td>11:00:00</td>\n",
       "    </tr>\n",
       "    <tr>\n",
       "      <th>41</th>\n",
       "      <td>SHR0369</td>\n",
       "      <td>13:00:00</td>\n",
       "    </tr>\n",
       "    <tr>\n",
       "      <th>42</th>\n",
       "      <td>TOC0528</td>\n",
       "      <td>12:00:00</td>\n",
       "    </tr>\n",
       "    <tr>\n",
       "      <th>43</th>\n",
       "      <td>UMA0072</td>\n",
       "      <td>12:00:00</td>\n",
       "    </tr>\n",
       "    <tr>\n",
       "      <th>44</th>\n",
       "      <td>WMP0272</td>\n",
       "      <td>12:00:00</td>\n",
       "    </tr>\n",
       "    <tr>\n",
       "      <th>45</th>\n",
       "      <td>WXW0044</td>\n",
       "      <td>11:00:00</td>\n",
       "    </tr>\n",
       "    <tr>\n",
       "      <th>46</th>\n",
       "      <td>ZBL0379</td>\n",
       "      <td>14:00:00</td>\n",
       "    </tr>\n",
       "  </tbody>\n",
       "</table>\n",
       "</div>"
      ],
      "text/plain": [
       "       user      hour\n",
       "0   AJQ0376  14:00:00\n",
       "1   AJR0231  11:00:00\n",
       "2   AOD0066  12:00:00\n",
       "3   ARH0777  12:00:00\n",
       "4   BCP0247  12:00:00\n",
       "5   BDS0396  13:00:00\n",
       "6   BMS0057  15:00:00\n",
       "7   BZK0095  11:00:00\n",
       "8   CAE0080  12:00:00\n",
       "9   CGH0088  12:00:00\n",
       "10  CJG0059  11:00:00\n",
       "11  CJV0236  12:00:00\n",
       "12  CSD0242  12:00:00\n",
       "13  DWC0525  13:00:00\n",
       "14  FED0275  12:00:00\n",
       "15  FKF0235  12:00:00\n",
       "16  GGM0530  12:00:00\n",
       "17  GJP0098  11:00:00\n",
       "18  HBB0090  11:00:00\n",
       "19  HNW0537  13:00:00\n",
       "20  HOJ0260  11:00:00\n",
       "21  IAF0403  13:00:00\n",
       "22  IUM0065  11:00:00\n",
       "23  JCE0258  12:00:00\n",
       "24  JDD0087  13:00:00\n",
       "25  JLI0073  12:00:00\n",
       "26  JNW0252  13:00:00\n",
       "27  JTB0079  12:00:00\n",
       "28  LEF0786  12:00:00\n",
       "29  LJW0776  12:00:00\n",
       "30  LTB0107  12:00:00\n",
       "31  LVL0958  13:00:00\n",
       "32  LWB0078  12:00:00\n",
       "33  MJH0083  13:00:00\n",
       "34  MPM0410  13:00:00\n",
       "35  MSB0359  12:00:00\n",
       "36  ORC0907  13:00:00\n",
       "37  QLC0248  13:00:00\n",
       "38  RAW0533  13:00:00\n",
       "39  REM0274  11:00:00\n",
       "40  SBM0063  11:00:00\n",
       "41  SHR0369  13:00:00\n",
       "42  TOC0528  12:00:00\n",
       "43  UMA0072  12:00:00\n",
       "44  WMP0272  12:00:00\n",
       "45  WXW0044  11:00:00\n",
       "46  ZBL0379  14:00:00"
      ]
     },
     "execution_count": 45,
     "metadata": {},
     "output_type": "execute_result"
    }
   ],
   "source": [
    "df_dconn_mean"
   ]
  },
  {
   "cell_type": "code",
   "execution_count": 46,
   "metadata": {
    "executionInfo": {
     "elapsed": 18,
     "status": "ok",
     "timestamp": 1631974632744,
     "user": {
      "displayName": "Suraj Sharma",
      "photoUrl": "https://lh3.googleusercontent.com/a/default-user=s64",
      "userId": "04526276601361747492"
     },
     "user_tz": -345
    },
    "id": "i6JMKE4zId9F"
   },
   "outputs": [],
   "source": [
    "df_device_disconn_stats['mode'] = df_dconn_mode['time']\n",
    "df_device_disconn_stats['mean'] = df_dconn_mean['hour']"
   ]
  },
  {
   "cell_type": "code",
   "execution_count": 47,
   "metadata": {
    "id": "4TRrm0ymIlC5"
   },
   "outputs": [],
   "source": [
    "df_file_users_clean['date2'] = pd.to_datetime(df_file_users_clean['date']).dt.date"
   ]
  },
  {
   "cell_type": "code",
   "execution_count": null,
   "metadata": {
    "id": "NWIUut9zJVWL"
   },
   "outputs": [],
   "source": []
  },
  {
   "cell_type": "code",
   "execution_count": 48,
   "metadata": {
    "id": "Pc0B1Eq4JZj5"
   },
   "outputs": [],
   "source": [
    "df_files_per_day = df_file_users_clean.groupby(['user', 'date2']).size().reset_index()"
   ]
  },
  {
   "cell_type": "code",
   "execution_count": null,
   "metadata": {
    "id": "1U4cMT0PJzUh"
   },
   "outputs": [],
   "source": []
  },
  {
   "cell_type": "code",
   "execution_count": 49,
   "metadata": {
    "id": "YYsENT9rJ2ao"
   },
   "outputs": [],
   "source": [
    "df_files_per_day.rename(columns={0:'transfers_per_day'}, inplace=True)\n"
   ]
  },
  {
   "cell_type": "code",
   "execution_count": 50,
   "metadata": {
    "id": "MeKOnj-_Ks_l"
   },
   "outputs": [],
   "source": [
    "df_files_max_per_day = df_files_per_day.groupby('user')['transfers_per_day'].agg(max).reset_index()\n",
    "df_files_max_per_day.rename(columns={'transfers_per_day': \"max_transfers_per_user\"}, inplace=True)"
   ]
  },
  {
   "cell_type": "code",
   "execution_count": 51,
   "metadata": {
    "id": "W7cV_ieELNji"
   },
   "outputs": [],
   "source": [
    "df_files_mode_per_day = df_files_per_day.groupby('user')['transfers_per_day'].agg(lambda x: x.value_counts().index[0]).reset_index()\n",
    "df_files_mode_per_day.rename(columns={'transfers_per_day': \"mode_transfers_per_user\"}, inplace=True)\n"
   ]
  },
  {
   "cell_type": "code",
   "execution_count": 52,
   "metadata": {
    "id": "9PnW-5m1-Eiq"
   },
   "outputs": [
    {
     "data": {
      "text/html": [
       "<div>\n",
       "<style scoped>\n",
       "    .dataframe tbody tr th:only-of-type {\n",
       "        vertical-align: middle;\n",
       "    }\n",
       "\n",
       "    .dataframe tbody tr th {\n",
       "        vertical-align: top;\n",
       "    }\n",
       "\n",
       "    .dataframe thead th {\n",
       "        text-align: right;\n",
       "    }\n",
       "</style>\n",
       "<table border=\"1\" class=\"dataframe\">\n",
       "  <thead>\n",
       "    <tr style=\"text-align: right;\">\n",
       "      <th></th>\n",
       "      <th>user</th>\n",
       "      <th>mode_transfers_per_user</th>\n",
       "    </tr>\n",
       "  </thead>\n",
       "  <tbody>\n",
       "    <tr>\n",
       "      <th>0</th>\n",
       "      <td>AJQ0376</td>\n",
       "      <td>486</td>\n",
       "    </tr>\n",
       "    <tr>\n",
       "      <th>1</th>\n",
       "      <td>AJR0231</td>\n",
       "      <td>90</td>\n",
       "    </tr>\n",
       "    <tr>\n",
       "      <th>2</th>\n",
       "      <td>AOD0066</td>\n",
       "      <td>30</td>\n",
       "    </tr>\n",
       "    <tr>\n",
       "      <th>3</th>\n",
       "      <td>ARH0777</td>\n",
       "      <td>36</td>\n",
       "    </tr>\n",
       "    <tr>\n",
       "      <th>4</th>\n",
       "      <td>BCP0247</td>\n",
       "      <td>54</td>\n",
       "    </tr>\n",
       "    <tr>\n",
       "      <th>5</th>\n",
       "      <td>BDS0396</td>\n",
       "      <td>72</td>\n",
       "    </tr>\n",
       "    <tr>\n",
       "      <th>6</th>\n",
       "      <td>BMS0057</td>\n",
       "      <td>36</td>\n",
       "    </tr>\n",
       "    <tr>\n",
       "      <th>7</th>\n",
       "      <td>BZK0095</td>\n",
       "      <td>486</td>\n",
       "    </tr>\n",
       "    <tr>\n",
       "      <th>8</th>\n",
       "      <td>CAE0080</td>\n",
       "      <td>36</td>\n",
       "    </tr>\n",
       "    <tr>\n",
       "      <th>9</th>\n",
       "      <td>CGH0088</td>\n",
       "      <td>18</td>\n",
       "    </tr>\n",
       "    <tr>\n",
       "      <th>10</th>\n",
       "      <td>CJG0059</td>\n",
       "      <td>36</td>\n",
       "    </tr>\n",
       "    <tr>\n",
       "      <th>11</th>\n",
       "      <td>CJV0236</td>\n",
       "      <td>360</td>\n",
       "    </tr>\n",
       "    <tr>\n",
       "      <th>12</th>\n",
       "      <td>CSD0242</td>\n",
       "      <td>486</td>\n",
       "    </tr>\n",
       "    <tr>\n",
       "      <th>13</th>\n",
       "      <td>DWC0525</td>\n",
       "      <td>18</td>\n",
       "    </tr>\n",
       "    <tr>\n",
       "      <th>14</th>\n",
       "      <td>FED0275</td>\n",
       "      <td>18</td>\n",
       "    </tr>\n",
       "    <tr>\n",
       "      <th>15</th>\n",
       "      <td>FKF0235</td>\n",
       "      <td>8</td>\n",
       "    </tr>\n",
       "    <tr>\n",
       "      <th>16</th>\n",
       "      <td>GGM0530</td>\n",
       "      <td>486</td>\n",
       "    </tr>\n",
       "    <tr>\n",
       "      <th>17</th>\n",
       "      <td>GJP0098</td>\n",
       "      <td>36</td>\n",
       "    </tr>\n",
       "    <tr>\n",
       "      <th>18</th>\n",
       "      <td>HBB0090</td>\n",
       "      <td>486</td>\n",
       "    </tr>\n",
       "    <tr>\n",
       "      <th>19</th>\n",
       "      <td>HNW0537</td>\n",
       "      <td>180</td>\n",
       "    </tr>\n",
       "    <tr>\n",
       "      <th>20</th>\n",
       "      <td>HOJ0260</td>\n",
       "      <td>486</td>\n",
       "    </tr>\n",
       "    <tr>\n",
       "      <th>21</th>\n",
       "      <td>IAF0403</td>\n",
       "      <td>90</td>\n",
       "    </tr>\n",
       "    <tr>\n",
       "      <th>22</th>\n",
       "      <td>IUM0065</td>\n",
       "      <td>36</td>\n",
       "    </tr>\n",
       "    <tr>\n",
       "      <th>23</th>\n",
       "      <td>JCE0258</td>\n",
       "      <td>45</td>\n",
       "    </tr>\n",
       "    <tr>\n",
       "      <th>24</th>\n",
       "      <td>JDD0087</td>\n",
       "      <td>18</td>\n",
       "    </tr>\n",
       "    <tr>\n",
       "      <th>25</th>\n",
       "      <td>JLI0073</td>\n",
       "      <td>72</td>\n",
       "    </tr>\n",
       "    <tr>\n",
       "      <th>26</th>\n",
       "      <td>JNW0252</td>\n",
       "      <td>108</td>\n",
       "    </tr>\n",
       "    <tr>\n",
       "      <th>27</th>\n",
       "      <td>JTB0079</td>\n",
       "      <td>162</td>\n",
       "    </tr>\n",
       "    <tr>\n",
       "      <th>28</th>\n",
       "      <td>LEF0786</td>\n",
       "      <td>90</td>\n",
       "    </tr>\n",
       "    <tr>\n",
       "      <th>29</th>\n",
       "      <td>LJW0776</td>\n",
       "      <td>36</td>\n",
       "    </tr>\n",
       "    <tr>\n",
       "      <th>30</th>\n",
       "      <td>LTB0107</td>\n",
       "      <td>486</td>\n",
       "    </tr>\n",
       "    <tr>\n",
       "      <th>31</th>\n",
       "      <td>LVL0958</td>\n",
       "      <td>486</td>\n",
       "    </tr>\n",
       "    <tr>\n",
       "      <th>32</th>\n",
       "      <td>LWB0078</td>\n",
       "      <td>36</td>\n",
       "    </tr>\n",
       "    <tr>\n",
       "      <th>33</th>\n",
       "      <td>MJH0083</td>\n",
       "      <td>90</td>\n",
       "    </tr>\n",
       "    <tr>\n",
       "      <th>34</th>\n",
       "      <td>MPM0410</td>\n",
       "      <td>72</td>\n",
       "    </tr>\n",
       "    <tr>\n",
       "      <th>35</th>\n",
       "      <td>MSB0359</td>\n",
       "      <td>72</td>\n",
       "    </tr>\n",
       "    <tr>\n",
       "      <th>36</th>\n",
       "      <td>ORC0907</td>\n",
       "      <td>126</td>\n",
       "    </tr>\n",
       "    <tr>\n",
       "      <th>37</th>\n",
       "      <td>QLC0248</td>\n",
       "      <td>486</td>\n",
       "    </tr>\n",
       "    <tr>\n",
       "      <th>38</th>\n",
       "      <td>RAW0533</td>\n",
       "      <td>18</td>\n",
       "    </tr>\n",
       "    <tr>\n",
       "      <th>39</th>\n",
       "      <td>REM0274</td>\n",
       "      <td>486</td>\n",
       "    </tr>\n",
       "    <tr>\n",
       "      <th>40</th>\n",
       "      <td>SBM0063</td>\n",
       "      <td>144</td>\n",
       "    </tr>\n",
       "    <tr>\n",
       "      <th>41</th>\n",
       "      <td>SHR0369</td>\n",
       "      <td>36</td>\n",
       "    </tr>\n",
       "    <tr>\n",
       "      <th>42</th>\n",
       "      <td>TOC0528</td>\n",
       "      <td>180</td>\n",
       "    </tr>\n",
       "    <tr>\n",
       "      <th>43</th>\n",
       "      <td>UMA0072</td>\n",
       "      <td>36</td>\n",
       "    </tr>\n",
       "    <tr>\n",
       "      <th>44</th>\n",
       "      <td>WMP0272</td>\n",
       "      <td>72</td>\n",
       "    </tr>\n",
       "    <tr>\n",
       "      <th>45</th>\n",
       "      <td>WXW0044</td>\n",
       "      <td>486</td>\n",
       "    </tr>\n",
       "    <tr>\n",
       "      <th>46</th>\n",
       "      <td>ZBL0379</td>\n",
       "      <td>72</td>\n",
       "    </tr>\n",
       "  </tbody>\n",
       "</table>\n",
       "</div>"
      ],
      "text/plain": [
       "       user  mode_transfers_per_user\n",
       "0   AJQ0376                      486\n",
       "1   AJR0231                       90\n",
       "2   AOD0066                       30\n",
       "3   ARH0777                       36\n",
       "4   BCP0247                       54\n",
       "5   BDS0396                       72\n",
       "6   BMS0057                       36\n",
       "7   BZK0095                      486\n",
       "8   CAE0080                       36\n",
       "9   CGH0088                       18\n",
       "10  CJG0059                       36\n",
       "11  CJV0236                      360\n",
       "12  CSD0242                      486\n",
       "13  DWC0525                       18\n",
       "14  FED0275                       18\n",
       "15  FKF0235                        8\n",
       "16  GGM0530                      486\n",
       "17  GJP0098                       36\n",
       "18  HBB0090                      486\n",
       "19  HNW0537                      180\n",
       "20  HOJ0260                      486\n",
       "21  IAF0403                       90\n",
       "22  IUM0065                       36\n",
       "23  JCE0258                       45\n",
       "24  JDD0087                       18\n",
       "25  JLI0073                       72\n",
       "26  JNW0252                      108\n",
       "27  JTB0079                      162\n",
       "28  LEF0786                       90\n",
       "29  LJW0776                       36\n",
       "30  LTB0107                      486\n",
       "31  LVL0958                      486\n",
       "32  LWB0078                       36\n",
       "33  MJH0083                       90\n",
       "34  MPM0410                       72\n",
       "35  MSB0359                       72\n",
       "36  ORC0907                      126\n",
       "37  QLC0248                      486\n",
       "38  RAW0533                       18\n",
       "39  REM0274                      486\n",
       "40  SBM0063                      144\n",
       "41  SHR0369                       36\n",
       "42  TOC0528                      180\n",
       "43  UMA0072                       36\n",
       "44  WMP0272                       72\n",
       "45  WXW0044                      486\n",
       "46  ZBL0379                       72"
      ]
     },
     "execution_count": 52,
     "metadata": {},
     "output_type": "execute_result"
    }
   ],
   "source": [
    "df_files_mode_per_day"
   ]
  },
  {
   "cell_type": "code",
   "execution_count": 53,
   "metadata": {
    "id": "jzmjcEa4L2Ff"
   },
   "outputs": [],
   "source": [
    "df_files_stats = df_files_mode_per_day"
   ]
  },
  {
   "cell_type": "code",
   "execution_count": null,
   "metadata": {
    "id": "p7zCA43gMG6C"
   },
   "outputs": [],
   "source": []
  },
  {
   "cell_type": "code",
   "execution_count": 54,
   "metadata": {
    "id": "3oVaUVh2MUbE"
   },
   "outputs": [],
   "source": [
    "df_files_stats_new = pd.DataFrame()\n",
    "df_files_stats_new['user'] = df_files_stats['user']\n",
    "df_files_stats_new['mode_trasfers_per_user'] = df_files_stats['mode_transfers_per_user']\n",
    "df_files_stats_new['max_transfers_per_user'] = df_files_max_per_day['max_transfers_per_user']\n"
   ]
  },
  {
   "cell_type": "code",
   "execution_count": 55,
   "metadata": {
    "id": "7Adb8paENU34"
   },
   "outputs": [],
   "source": [
    "df_user_pc = df_logon_users_clean.groupby(['user','pc',]).agg(pc_visits_per_user_total = pd.NamedAgg(column = 'pc', aggfunc = 'count')).reset_index()\n",
    "df_user_pc['count'] = df_user_pc.groupby(['user'])['pc'].transform('nunique')\n",
    "df_user_pc = df_user_pc.drop(['pc', 'pc_visits_per_user_total'], axis=1)\n",
    "df_user_pc = df_user_pc.drop_duplicates()"
   ]
  },
  {
   "cell_type": "code",
   "execution_count": 56,
   "metadata": {
    "id": "7x0LyTPcaC1t"
   },
   "outputs": [
    {
     "data": {
      "text/html": [
       "<div>\n",
       "<style scoped>\n",
       "    .dataframe tbody tr th:only-of-type {\n",
       "        vertical-align: middle;\n",
       "    }\n",
       "\n",
       "    .dataframe tbody tr th {\n",
       "        vertical-align: top;\n",
       "    }\n",
       "\n",
       "    .dataframe thead th {\n",
       "        text-align: right;\n",
       "    }\n",
       "</style>\n",
       "<table border=\"1\" class=\"dataframe\">\n",
       "  <thead>\n",
       "    <tr style=\"text-align: right;\">\n",
       "      <th></th>\n",
       "      <th>user</th>\n",
       "      <th>count</th>\n",
       "    </tr>\n",
       "  </thead>\n",
       "  <tbody>\n",
       "    <tr>\n",
       "      <th>0</th>\n",
       "      <td>AAN0077</td>\n",
       "      <td>1</td>\n",
       "    </tr>\n",
       "    <tr>\n",
       "      <th>1</th>\n",
       "      <td>AAW0103</td>\n",
       "      <td>1</td>\n",
       "    </tr>\n",
       "    <tr>\n",
       "      <th>2</th>\n",
       "      <td>ACE0265</td>\n",
       "      <td>1</td>\n",
       "    </tr>\n",
       "    <tr>\n",
       "      <th>3</th>\n",
       "      <td>ACL0394</td>\n",
       "      <td>2</td>\n",
       "    </tr>\n",
       "    <tr>\n",
       "      <th>5</th>\n",
       "      <td>ADR0362</td>\n",
       "      <td>1</td>\n",
       "    </tr>\n",
       "    <tr>\n",
       "      <th>...</th>\n",
       "      <td>...</td>\n",
       "      <td>...</td>\n",
       "    </tr>\n",
       "    <tr>\n",
       "      <th>632</th>\n",
       "      <td>XTM0246</td>\n",
       "      <td>1</td>\n",
       "    </tr>\n",
       "    <tr>\n",
       "      <th>633</th>\n",
       "      <td>YJT0368</td>\n",
       "      <td>2</td>\n",
       "    </tr>\n",
       "    <tr>\n",
       "      <th>635</th>\n",
       "      <td>YSB0779</td>\n",
       "      <td>1</td>\n",
       "    </tr>\n",
       "    <tr>\n",
       "      <th>636</th>\n",
       "      <td>ZBL0379</td>\n",
       "      <td>1</td>\n",
       "    </tr>\n",
       "    <tr>\n",
       "      <th>637</th>\n",
       "      <td>ZIF0269</td>\n",
       "      <td>1</td>\n",
       "    </tr>\n",
       "  </tbody>\n",
       "</table>\n",
       "<p>230 rows × 2 columns</p>\n",
       "</div>"
      ],
      "text/plain": [
       "        user  count\n",
       "0    AAN0077      1\n",
       "1    AAW0103      1\n",
       "2    ACE0265      1\n",
       "3    ACL0394      2\n",
       "5    ADR0362      1\n",
       "..       ...    ...\n",
       "632  XTM0246      1\n",
       "633  YJT0368      2\n",
       "635  YSB0779      1\n",
       "636  ZBL0379      1\n",
       "637  ZIF0269      1\n",
       "\n",
       "[230 rows x 2 columns]"
      ]
     },
     "execution_count": 56,
     "metadata": {},
     "output_type": "execute_result"
    }
   ],
   "source": [
    "df_user_pc"
   ]
  },
  {
   "cell_type": "code",
   "execution_count": null,
   "metadata": {
    "id": "6c_Kvzy7OHGA"
   },
   "outputs": [],
   "source": [
    "import matplotlib.pyplot as plt\n",
    "from sklearn.ensemble import IsolationForest"
   ]
  },
  {
   "cell_type": "code",
   "execution_count": null,
   "metadata": {
    "id": "YBGQCn6qgD39"
   },
   "outputs": [],
   "source": [
    "df_user_pc_count = np.array(df_user_pc['count'])"
   ]
  },
  {
   "cell_type": "code",
   "execution_count": null,
   "metadata": {
    "id": "mfnylg3ZgOE5"
   },
   "outputs": [],
   "source": [
    "df_user_pc_ct = df_user_pc_count.reshape(-1,1)"
   ]
  },
  {
   "cell_type": "code",
   "execution_count": null,
   "metadata": {
    "id": "TzZe9KlALUgq"
   },
   "outputs": [],
   "source": [
    "df_user_pc.columns"
   ]
  },
  {
   "cell_type": "code",
   "execution_count": null,
   "metadata": {
    "id": "E5WQPGDuhgAr"
   },
   "outputs": [],
   "source": [
    "#user pc\n",
    "forest = IsolationForest(bootstrap=False, contamination=0.1,max_features=1.0,\n",
    "                         max_samples='auto',n_estimators=100, n_jobs=1, random_state=None,\n",
    "                         verbose=0)\n",
    "forest.fit(df_user_pc_ct)\n"
   ]
  },
  {
   "cell_type": "code",
   "execution_count": null,
   "metadata": {
    "id": "dqGC-D062i7J"
   },
   "outputs": [],
   "source": [
    "import pickle \n",
    "with open('../pkl/user_pc_ct.pkl','wb') as file :\n",
    "  pickle.dump(forest, file)"
   ]
  },
  {
   "cell_type": "code",
   "execution_count": null,
   "metadata": {
    "id": "KAVGtzULiOVz"
   },
   "outputs": [],
   "source": [
    "graph_a_score = forest.decision_function(df_user_pc_ct)\n",
    "print(graph_a_score[1:10])"
   ]
  },
  {
   "cell_type": "code",
   "execution_count": null,
   "metadata": {
    "id": "Pewg2cRzihdw"
   },
   "outputs": [],
   "source": [
    "graph_result = pd.DataFrame()\n",
    "graph_result['user'] = df_user_pc['user']\n",
    "graph_result['ascore'] = graph_a_score\n",
    "# graph_result.to_csv('user_pc_ct.csv')\n",
    "print(graph_result)"
   ]
  },
  {
   "cell_type": "code",
   "execution_count": null,
   "metadata": {
    "id": "s1fOe_9hi_iq"
   },
   "outputs": [],
   "source": [
    "outliers = graph_result.loc[graph_result['ascore'] < 0]\n",
    "print(outliers)"
   ]
  },
  {
   "cell_type": "code",
   "execution_count": null,
   "metadata": {
    "id": "rHH8qPWWjTJR"
   },
   "outputs": [],
   "source": [
    "def dtt2timestamp(dtt):\n",
    "  time_in_sec = (dtt.hour*60 + dtt.minute) * 60 + dtt.second\n",
    "  return time_in_sec"
   ]
  },
  {
   "cell_type": "code",
   "execution_count": null,
   "metadata": {
    "id": "NLE_dHZojuO-"
   },
   "outputs": [],
   "source": [
    "df_user_logon_stats_sec = df_user_logon_stats\n"
   ]
  },
  {
   "cell_type": "code",
   "execution_count": null,
   "metadata": {
    "id": "KEgfSjhOkbbR"
   },
   "outputs": [],
   "source": []
  },
  {
   "cell_type": "code",
   "execution_count": null,
   "metadata": {
    "id": "ZYxl4AMbj4Nw"
   },
   "outputs": [],
   "source": [
    "min_ts = [dtt2timestamp(dtt) for dtt in df_user_logon_stats_sec['min']]\n",
    "max_ts = [dtt2timestamp(dtt) for dtt in df_user_logon_stats_sec['max']]\n",
    "mode_ts = [dtt2timestamp(dtt) for dtt in df_user_logon_stats_sec['mode']]\n",
    "mean_ts = [dtt2timestamp(dtt) for dtt in df_user_logon_stats_sec['mean']]"
   ]
  },
  {
   "cell_type": "code",
   "execution_count": null,
   "metadata": {
    "id": "mF89Jzhfkp9K"
   },
   "outputs": [],
   "source": [
    "df_user_logon_stats_sec['min_ts'] = min_ts\n",
    "df_user_logon_stats_sec['max_ts'] = max_ts\n",
    "df_user_logon_stats_sec['mode_ts'] = mode_ts\n",
    "df_user_logon_stats_sec['mean_ts'] = mean_ts"
   ]
  },
  {
   "cell_type": "code",
   "execution_count": null,
   "metadata": {
    "id": "x9pa2dh2kzMz"
   },
   "outputs": [],
   "source": []
  },
  {
   "cell_type": "code",
   "execution_count": null,
   "metadata": {
    "id": "pvVC-j0pk49N"
   },
   "outputs": [],
   "source": [
    "df_user_logon_stats_sec.drop(['min','max','mode','mean'], axis=1)"
   ]
  },
  {
   "cell_type": "code",
   "execution_count": null,
   "metadata": {
    "id": "ifvL5-NClHIR"
   },
   "outputs": [],
   "source": [
    "df_user_logoff_stats_sec = df_user_logoff_stats\n"
   ]
  },
  {
   "cell_type": "code",
   "execution_count": null,
   "metadata": {
    "id": "Bf6_0MbYllVB"
   },
   "outputs": [],
   "source": []
  },
  {
   "cell_type": "code",
   "execution_count": null,
   "metadata": {
    "id": "GN2B0tr2lUEM"
   },
   "outputs": [],
   "source": [
    "min_ts = [dtt2timestamp(dtt) for dtt in df_user_logoff_stats_sec['min']] \n",
    "max_ts = [dtt2timestamp(dtt) for dtt in df_user_logoff_stats_sec['max']]\n",
    "mode_ts = [dtt2timestamp(dtt) for dtt in df_user_logoff_stats_sec['mode']]\n",
    "mean_ts = [dtt2timestamp(dtt) for dtt in df_user_logoff_stats_sec['mean']]"
   ]
  },
  {
   "cell_type": "code",
   "execution_count": null,
   "metadata": {
    "id": "fs92g2OJlayS"
   },
   "outputs": [],
   "source": [
    "df_user_logoff_stats_sec['min_ts'] = min_ts\n",
    "df_user_logoff_stats_sec['max_ts'] = max_ts\n",
    "df_user_logoff_stats_sec['mode_ts'] = mode_ts\n",
    "df_user_logoff_stats_sec['mean_ts'] = mean_ts"
   ]
  },
  {
   "cell_type": "code",
   "execution_count": null,
   "metadata": {
    "id": "00Bl8qoVmQBl"
   },
   "outputs": [],
   "source": [
    "df_user_logoff_stats_sec.drop(['min', 'max','mode','mean'], axis=1)"
   ]
  },
  {
   "cell_type": "code",
   "execution_count": null,
   "metadata": {
    "id": "SX_ib_9SmSpp"
   },
   "outputs": [],
   "source": [
    "df_log_on_off_stats = pd.DataFrame()\n",
    "\n",
    "df_log_on_off_stats['user'] = df_user_logon_stats_sec['user']\n",
    "df_log_on_off_stats['on_min_ts'] = df_user_logon_stats_sec['min_ts']\n",
    "df_log_on_off_stats['on_max_ts'] = df_user_logon_stats_sec['max_ts']\n",
    "df_log_on_off_stats['on_mode_ts'] = df_user_logon_stats_sec['mode_ts']\n",
    "df_log_on_off_stats['on_mean_ts'] = df_user_logon_stats_sec['mean_ts']\n",
    "df_log_on_off_stats['off_min_ts'] = df_user_logon_stats_sec['min_ts']\n",
    "df_log_on_off_stats['off_max_ts'] = df_user_logon_stats_sec['max_ts']\n",
    "df_log_on_off_stats['off_mode_ts'] = df_user_logon_stats_sec['mode_ts']\n",
    "df_log_on_off_stats['off_mean_ts'] = df_user_logon_stats_sec['mean_ts']"
   ]
  },
  {
   "cell_type": "code",
   "execution_count": null,
   "metadata": {
    "id": "qRZ0eHGhnTjo"
   },
   "outputs": [],
   "source": [
    "df_log_on_off_stats.dtypes"
   ]
  },
  {
   "cell_type": "code",
   "execution_count": null,
   "metadata": {
    "id": "uNwVevJVnWw0"
   },
   "outputs": [],
   "source": [
    "log_stats = df_log_on_off_stats.drop(['user'], axis = 1)\n",
    "log_stats_matrix = np.matrix(log_stats)\n",
    "print(log_stats_matrix)"
   ]
  },
  {
   "cell_type": "code",
   "execution_count": null,
   "metadata": {
    "id": "N9lDES_NLF_b"
   },
   "outputs": [],
   "source": [
    "df_log_on_off_stats.columns"
   ]
  },
  {
   "cell_type": "code",
   "execution_count": null,
   "metadata": {
    "id": "R1nHKRQ9nzaD"
   },
   "outputs": [],
   "source": [
    "#logon\n",
    "forest = IsolationForest(bootstrap=False, contamination= 0.1 , max_features=1.0,\n",
    "        max_samples='auto', n_estimators=100, n_jobs=1, random_state=0,\n",
    "        verbose=0)\n",
    "forest.fit(log_stats_matrix)\n",
    "log_ascore = forest.decision_function(log_stats_matrix)\n",
    "log_ascore[:10]"
   ]
  },
  {
   "cell_type": "code",
   "execution_count": null,
   "metadata": {
    "id": "LRYVUCn7ieBH"
   },
   "outputs": [],
   "source": [
    "# counting the values\n",
    "df22 = pd.Series(forest.predict(log_stats_matrix))\n",
    "df22 = df22.map({1:0, -1:1})\n",
    "print(df22.value_counts())"
   ]
  },
  {
   "cell_type": "code",
   "execution_count": null,
   "metadata": {
    "id": "Au2Q3iu114eB"
   },
   "outputs": [],
   "source": [
    "import pickle \n",
    "with open('../pkl/log_stats_matrix.pkl','wb') as file :\n",
    "  pickle.dump(forest, file)"
   ]
  },
  {
   "cell_type": "code",
   "execution_count": null,
   "metadata": {
    "id": "kAUP6ou1n9kp"
   },
   "outputs": [],
   "source": [
    "df_user_log_result = pd.DataFrame()\n",
    "df_user_log_result['user'] = df_user_logoff_stats_sec['user']\n",
    "df_user_log_result['ascore'] = log_ascore\n",
    "# df_user_log_result.to_csv('user_log_result.csv')\n",
    "print(df_user_log_result)\n"
   ]
  },
  {
   "cell_type": "code",
   "execution_count": null,
   "metadata": {
    "id": "Z6JSUpMjoPrm"
   },
   "outputs": [],
   "source": [
    "df_user_log_result.loc[df_user_log_result['ascore'] < 0]"
   ]
  },
  {
   "cell_type": "code",
   "execution_count": null,
   "metadata": {
    "id": "E1HKkFzzoWx3"
   },
   "outputs": [],
   "source": [
    "df_device_conn_stats_sec = df_device_conn_stats\n",
    "con_min_ts = [dtt2timestamp(dtt) for dtt in df_device_conn_stats_sec['min']]\n",
    "con_max_ts = [dtt2timestamp(dtt) for dtt in df_device_conn_stats_sec['max']]\n",
    "con_mode_ts = [dtt2timestamp(dtt) for dtt in df_device_conn_stats_sec['mode']]\n",
    "con_mean_ts = [dtt2timestamp(dtt) for dtt in df_device_conn_stats_sec['mean']]\n",
    "\n",
    "df_device_conn_stats_sec['min_ts'] = con_min_ts\n",
    "df_device_conn_stats_sec['max_ts'] = con_max_ts\n",
    "df_device_conn_stats_sec['mode_ts'] = con_mode_ts\n",
    "df_device_conn_stats_sec['mean_ts'] = con_mean_ts\n",
    "df_device_conn_stats_sec = df_device_conn_stats_sec.drop(['min', 'max','mode','mean'], axis=1)"
   ]
  },
  {
   "cell_type": "code",
   "execution_count": null,
   "metadata": {
    "id": "uOwtUMGUoxv8"
   },
   "outputs": [],
   "source": [
    "df_device_disconn_stats_sec = df_device_conn_stats\n",
    "discon_min_ts = [dtt2timestamp(dtt) for dtt in df_device_disconn_stats_sec['min']]\n",
    "discon_max_ts = [dtt2timestamp(dtt) for dtt in df_device_disconn_stats_sec['max']]\n",
    "discon_mode_ts = [dtt2timestamp(dtt) for dtt in df_device_disconn_stats_sec['mode']]\n",
    "discon_mean_ts = [dtt2timestamp(dtt) for dtt in df_device_disconn_stats_sec['mean']]\n",
    "\n",
    "df_device_disconn_stats_sec['min_ts'] = discon_min_ts\n",
    "df_device_disconn_stats_sec['max_ts'] = discon_max_ts\n",
    "df_device_disconn_stats_sec['mode_ts'] = discon_mode_ts\n",
    "df_device_disconn_stats_sec['mean_ts'] = discon_mean_ts\n",
    "df_device_disconn_stats_sec = df_device_disconn_stats_sec.drop(['min', 'max','mode','mean'], axis=1)\n"
   ]
  },
  {
   "cell_type": "code",
   "execution_count": null,
   "metadata": {
    "id": "Wen5i_JcpJIu"
   },
   "outputs": [],
   "source": [
    "df_device_full = pd.DataFrame()\n",
    "df_device_full['user'] = df_device_conn_stats['user']"
   ]
  },
  {
   "cell_type": "code",
   "execution_count": null,
   "metadata": {
    "id": "akDuC76Lp31p"
   },
   "outputs": [],
   "source": [
    "df_device_full['con_min_ts'] = df_device_conn_stats_sec['min_ts']\n",
    "df_device_full['con_max_ts'] = df_device_conn_stats_sec['max_ts']\n",
    "df_device_full['con_mode_ts'] = df_device_conn_stats_sec['mode_ts']\n",
    "df_device_full['con_mean_ts'] = df_device_conn_stats_sec['mean_ts']\n",
    "\n",
    "# disconnect stats\n",
    "df_device_full['dcon_min_ts'] = df_device_disconn_stats_sec['min_ts']\n",
    "df_device_full['dcon_max_ts'] = df_device_disconn_stats_sec['max_ts']\n",
    "df_device_full['dcon_mode_ts'] = df_device_disconn_stats_sec['mode_ts']\n",
    "df_device_full['dcon_mean_ts'] = df_device_disconn_stats_sec['mean_ts']\n",
    "\n",
    "# files per day stats\n",
    "df_device_full['file_mode'] = df_files_stats_new['mode_trasfers_per_user']\n",
    "df_device_full['file_max'] = df_files_stats_new['max_transfers_per_user']"
   ]
  },
  {
   "cell_type": "code",
   "execution_count": null,
   "metadata": {
    "id": "LOWe3yHQqOKB"
   },
   "outputs": [],
   "source": [
    "device_full_matrix = df_device_full.drop(['user'],axis=1)\n",
    "device_params = np.matrix(device_full_matrix)\n",
    "device_params[:10]"
   ]
  },
  {
   "cell_type": "code",
   "execution_count": null,
   "metadata": {
    "id": "AQ6-N2pIK4ku"
   },
   "outputs": [],
   "source": [
    "df_device_full.columns"
   ]
  },
  {
   "cell_type": "code",
   "execution_count": null,
   "metadata": {
    "id": "4HjCKrgbsUbu"
   },
   "outputs": [],
   "source": [
    "# device (-user)\n",
    "forest = IsolationForest(bootstrap=False, contamination=0.1, max_features=1.0,\n",
    "        max_samples='auto', n_estimators=100, n_jobs=1, random_state=None,\n",
    "        verbose=0)\n",
    "forest.fit(device_params)\n"
   ]
  },
  {
   "cell_type": "code",
   "execution_count": null,
   "metadata": {
    "id": "S6r3RY3a2Ae5"
   },
   "outputs": [],
   "source": [
    "import pickle \n",
    "with open('../pkl/device_params.pkl','wb') as file :\n",
    "  pickle.dump(forest, file)"
   ]
  },
  {
   "cell_type": "code",
   "execution_count": null,
   "metadata": {
    "id": "YtlBxG8BtL3r"
   },
   "outputs": [],
   "source": [
    "\n",
    "dev_file_ascore = forest.decision_function(device_params)\n",
    "print(dev_file_ascore)"
   ]
  },
  {
   "cell_type": "code",
   "execution_count": null,
   "metadata": {
    "id": "ByDJGFjbtmGc"
   },
   "outputs": [],
   "source": [
    "df_device_file_full_result = pd.DataFrame()\n",
    "\n",
    "df_device_file_full_result['user'] = df_device_full['user']\n",
    "df_device_file_full_result['ascore'] = dev_file_ascore\n",
    "# df_device_file_full_result.to_csv('device_file_full_result.csv')"
   ]
  },
  {
   "cell_type": "code",
   "execution_count": null,
   "metadata": {
    "id": "IznVB2FLtpdo"
   },
   "outputs": [],
   "source": [
    "df_device_file_full_result.loc[df_device_file_full_result['ascore'] < 0] "
   ]
  },
  {
   "cell_type": "code",
   "execution_count": null,
   "metadata": {
    "id": "vfjotkq8t4gt"
   },
   "outputs": [],
   "source": [
    "psychometric_matrix = df_psychometric_users_clean.drop(['user_id', 'employee_name'], axis = 1)\n",
    "psychometric_params = np.matrix(psychometric_matrix)"
   ]
  },
  {
   "cell_type": "code",
   "execution_count": null,
   "metadata": {
    "id": "e64NduNPuEDN"
   },
   "outputs": [],
   "source": [
    "# psycho ds \n",
    "forest = IsolationForest(bootstrap=False, contamination=0.1, max_features=1.0,\n",
    "        max_samples='auto', n_estimators=100, n_jobs=1, random_state=None,\n",
    "        verbose=0)\n",
    "forest.fit(psychometric_params)"
   ]
  },
  {
   "cell_type": "code",
   "execution_count": null,
   "metadata": {
    "id": "5Li2kLwd2KUv"
   },
   "outputs": [],
   "source": [
    "import pickle \n",
    "with open('../pkl/psychometric_params.pkl','wb') as file :\n",
    "  pickle.dump(forest, file)"
   ]
  },
  {
   "cell_type": "code",
   "execution_count": null,
   "metadata": {
    "id": "vV6Myef4uNwX"
   },
   "outputs": [],
   "source": [
    "psych_ascore = forest.decision_function(psychometric_params)\n",
    "psych_ascore[:10]"
   ]
  },
  {
   "cell_type": "code",
   "execution_count": null,
   "metadata": {
    "id": "OrW7ZuzFuSdk"
   },
   "outputs": [],
   "source": [
    "df_psychometric_result = pd.DataFrame()\n",
    "\n",
    "df_psychometric_result['user'] = df_psychometric_users_clean['user_id']\n",
    "df_psychometric_result['ascore'] = psych_ascore\n",
    "# df_psychometric_result.to_csv('psychometric_result.csv')"
   ]
  },
  {
   "cell_type": "code",
   "execution_count": null,
   "metadata": {
    "id": "rs8lNxnFuV_i"
   },
   "outputs": [],
   "source": [
    "df_psychometric_result.loc[df_psychometric_result['ascore'] < 0]"
   ]
  },
  {
   "cell_type": "code",
   "execution_count": null,
   "metadata": {
    "id": "HqqEJFHuuesd"
   },
   "outputs": [],
   "source": []
  },
  {
   "cell_type": "code",
   "execution_count": null,
   "metadata": {
    "id": "sB2xHREhvzMD"
   },
   "outputs": [],
   "source": [
    "df = pd.merge(df_log_on_off_stats, df_user_pc, on='user')"
   ]
  },
  {
   "cell_type": "code",
   "execution_count": null,
   "metadata": {
    "id": "7UtfQo7ExJLG"
   },
   "outputs": [],
   "source": []
  },
  {
   "cell_type": "code",
   "execution_count": null,
   "metadata": {
    "id": "hqA4F16Av_nr"
   },
   "outputs": [],
   "source": [
    "df_1 = pd.merge(df, df_psychometric, left_on = 'user', right_on = 'user_id')"
   ]
  },
  {
   "cell_type": "code",
   "execution_count": null,
   "metadata": {
    "id": "MJftGvTbgluF"
   },
   "outputs": [],
   "source": [
    "df_1.head()"
   ]
  },
  {
   "cell_type": "code",
   "execution_count": null,
   "metadata": {
    "id": "RBVsYhZByXpG"
   },
   "outputs": [],
   "source": [
    "df_final = df_1.drop(['employee_name', 'user_id'], axis=1)\n"
   ]
  },
  {
   "cell_type": "code",
   "execution_count": null,
   "metadata": {
    "id": "TsqN8B6syimi"
   },
   "outputs": [],
   "source": [
    "df_all_parameters = df_final"
   ]
  },
  {
   "cell_type": "code",
   "execution_count": null,
   "metadata": {
    "id": "m8EvKveVyntR"
   },
   "outputs": [],
   "source": [
    "df_all_parameters_input = df_all_parameters.drop(['user'], axis = 1)"
   ]
  },
  {
   "cell_type": "code",
   "execution_count": null,
   "metadata": {
    "id": "rl8DnpY4y_vS"
   },
   "outputs": [],
   "source": [
    "print(df_all_parameters_input)"
   ]
  },
  {
   "cell_type": "code",
   "execution_count": null,
   "metadata": {
    "id": "tcx7VO2JziIK"
   },
   "outputs": [],
   "source": [
    "# psycho logon ds\n",
    "forest = IsolationForest(bootstrap=False, contamination=0.1, max_features=1.0,\n",
    "        max_samples='auto', n_estimators=100, n_jobs=1, random_state=None,\n",
    "        verbose=0)\n",
    "forest.fit(df_all_parameters_input)"
   ]
  },
  {
   "cell_type": "code",
   "execution_count": null,
   "metadata": {
    "id": "QUVlE_eu2QfD"
   },
   "outputs": [],
   "source": [
    "import pickle \n",
    "with open('../pkl/all_parameters_input.pkl','wb') as file :\n",
    "  pickle.dump(forest, file)"
   ]
  },
  {
   "cell_type": "code",
   "execution_count": null,
   "metadata": {
    "id": "P4_ca2dvztK6"
   },
   "outputs": [],
   "source": [
    "all_parameters_ascore = forest.decision_function(df_all_parameters_input)\n",
    "print(all_parameters_ascore[:10])"
   ]
  },
  {
   "cell_type": "code",
   "execution_count": null,
   "metadata": {
    "id": "0J2Yg4qNzxeR"
   },
   "outputs": [],
   "source": [
    "df_all_parameters_result = pd.DataFrame()\n",
    "\n",
    "df_all_parameters_result['user'] = df_final['user']\n",
    "df_all_parameters_result['ascore'] = all_parameters_ascore\n",
    "print(df_all_parameters_result)\n",
    "# df_all_parameters_result.to_csv('all_parameters_result.csv')"
   ]
  },
  {
   "cell_type": "code",
   "execution_count": null,
   "metadata": {
    "id": "ovb2P5dLz5IJ"
   },
   "outputs": [],
   "source": [
    "df_all_parameters_result.loc[df_all_parameters_result['ascore'] < 0]"
   ]
  },
  {
   "cell_type": "code",
   "execution_count": null,
   "metadata": {
    "id": "fRy5d3t9z-FS"
   },
   "outputs": [],
   "source": []
  },
  {
   "cell_type": "code",
   "execution_count": null,
   "metadata": {
    "id": "C8KEbM8nzgPi"
   },
   "outputs": [],
   "source": [
    "df_user_log_result.head()"
   ]
  },
  {
   "cell_type": "code",
   "execution_count": null,
   "metadata": {
    "id": "8VPYuMd0uvwm"
   },
   "outputs": [],
   "source": [
    "df_user_log_result.hist()"
   ]
  },
  {
   "cell_type": "code",
   "execution_count": null,
   "metadata": {
    "id": "M9aZLrErHAah"
   },
   "outputs": [],
   "source": [
    "df_device_file_full_result.head()"
   ]
  },
  {
   "cell_type": "code",
   "execution_count": null,
   "metadata": {
    "id": "whsrUChUu_62"
   },
   "outputs": [],
   "source": [
    "# df_device_file_full_result.hist(bins = 15)\n",
    "df_device_file_full_result.hist()"
   ]
  },
  {
   "cell_type": "code",
   "execution_count": null,
   "metadata": {
    "id": "UAAFPFyEHJeL"
   },
   "outputs": [],
   "source": [
    "df_psychometric_result.head()"
   ]
  },
  {
   "cell_type": "code",
   "execution_count": null,
   "metadata": {
    "id": "No2GNIZevI60"
   },
   "outputs": [],
   "source": [
    "df_psychometric_result.hist()"
   ]
  },
  {
   "cell_type": "code",
   "execution_count": null,
   "metadata": {
    "id": "B43P_J8xHSzD"
   },
   "outputs": [],
   "source": [
    "df_all_parameters_result.head()"
   ]
  },
  {
   "cell_type": "code",
   "execution_count": null,
   "metadata": {
    "id": "WxnOHx1_3KMz"
   },
   "outputs": [],
   "source": [
    "df_all_parameters_result.hist()"
   ]
  },
  {
   "cell_type": "code",
   "execution_count": null,
   "metadata": {
    "id": "9l5qYulB3YDJ"
   },
   "outputs": [],
   "source": [
    "df_all_parameters_result.loc[df_all_parameters_result['ascore'] < 0].hist()"
   ]
  },
  {
   "cell_type": "code",
   "execution_count": null,
   "metadata": {
    "id": "efth97H04HMR"
   },
   "outputs": [],
   "source": [
    "df_threat_users_all_params = df_all_parameters_result.loc[df_all_parameters_result['ascore'] < -0.065]\n",
    "print(df_threat_users_all_params)"
   ]
  },
  {
   "cell_type": "code",
   "execution_count": null,
   "metadata": {
    "id": "MiG6E3Qe4TW5"
   },
   "outputs": [],
   "source": [
    "df_all_parameters[df_all_parameters.user.isin(df_threat_users_all_params.user)]"
   ]
  },
  {
   "cell_type": "code",
   "execution_count": null,
   "metadata": {
    "id": "Ia49ZZl2Hspz"
   },
   "outputs": [],
   "source": [
    "df_device_file_full_result.head()"
   ]
  },
  {
   "cell_type": "code",
   "execution_count": null,
   "metadata": {
    "id": "SfpZOhD-5iMQ"
   },
   "outputs": [],
   "source": [
    "df_device_file_full_result.loc[df_device_file_full_result['ascore'] < 0].hist()"
   ]
  },
  {
   "cell_type": "code",
   "execution_count": null,
   "metadata": {
    "id": "x8MWf2f55irQ"
   },
   "outputs": [],
   "source": [
    "df_threat_users_device_file = df_device_file_full_result.loc[df_device_file_full_result['ascore'] <= 0]\n",
    "print(df_threat_users_device_file)\n"
   ]
  },
  {
   "cell_type": "code",
   "execution_count": null,
   "metadata": {
    "id": "jCJmJ9Ht5jIA"
   },
   "outputs": [],
   "source": [
    "df_device_full[df_device_full.user.isin(df_threat_users_device_file.user)]"
   ]
  },
  {
   "cell_type": "code",
   "execution_count": null,
   "metadata": {
    "id": "wHUrO_iV5z5Y"
   },
   "outputs": [],
   "source": [
    "df_user_log_result.head()\n",
    "df_user_log_result.loc[df_user_log_result['ascore'] < 0].hist()"
   ]
  },
  {
   "cell_type": "code",
   "execution_count": null,
   "metadata": {
    "id": "Kfmhtpxx50Sg"
   },
   "outputs": [],
   "source": [
    "df_threat_users_log = df_user_log_result.loc[df_user_log_result['ascore'] <= -0.04]\n",
    "print(df_threat_users_log)"
   ]
  },
  {
   "cell_type": "code",
   "execution_count": null,
   "metadata": {
    "id": "Gv8cbTvr50n3"
   },
   "outputs": [],
   "source": [
    "df_log_on_off_stats[df_log_on_off_stats.user.isin(df_threat_users_log.user)]"
   ]
  },
  {
   "cell_type": "code",
   "execution_count": null,
   "metadata": {
    "id": "lfpzOHjmH-5m"
   },
   "outputs": [],
   "source": [
    "df_psychometric_result.head()"
   ]
  },
  {
   "cell_type": "code",
   "execution_count": null,
   "metadata": {
    "id": "EI4J62A15jbh"
   },
   "outputs": [],
   "source": [
    "df_psychometric_result.loc[df_psychometric_result['ascore'] < 0].hist()"
   ]
  },
  {
   "cell_type": "code",
   "execution_count": null,
   "metadata": {
    "id": "2zb5sPjt6wGq"
   },
   "outputs": [],
   "source": [
    "df_threat_psycho = df_psychometric_result.loc[df_psychometric_result['ascore'] <= -0.04]\n"
   ]
  },
  {
   "cell_type": "code",
   "execution_count": null,
   "metadata": {
    "id": "hunvxGO76wq4"
   },
   "outputs": [],
   "source": [
    "df_psychometric_users_clean[df_psychometric_users_clean.user_id.isin(df_threat_psycho.user)]"
   ]
  },
  {
   "cell_type": "code",
   "execution_count": null,
   "metadata": {
    "id": "32LeexjN6xQA"
   },
   "outputs": [],
   "source": []
  },
  {
   "cell_type": "code",
   "execution_count": null,
   "metadata": {
    "id": "jVK9S1JxvPfA"
   },
   "outputs": [],
   "source": [
    "import matplotlib.pyplot as plt\n",
    "import numpy as np\n",
    "import pandas as pd\n",
    "import seaborn as sns"
   ]
  },
  {
   "cell_type": "code",
   "execution_count": null,
   "metadata": {
    "colab": {
     "background_save": true
    },
    "id": "EeW4MdzE0TMP"
   },
   "outputs": [],
   "source": [
    "f, ax = plt.subplots(figsize = (20,10))\n",
    "x_col='user'\n",
    "y_col = 'ascore'\n",
    "sns.set_theme(style=\"darkgrid\")\n",
    "sns.pointplot(ax=ax,x=x_col,y=y_col,data=df_all_parameters_result,color='purple')\n",
    "sns.pointplot(ax=ax,x=x_col,y=y_col,data=df_user_log_result,color='grey')\n",
    "sns.pointplot(ax=ax,x=x_col,y=y_col,data=df_psychometric_result,color='brown')\n",
    "sns.pointplot(ax=ax,x=x_col,y=y_col,data=df_device_file_full_result,color='darkorange')\n",
    "\n",
    "ax.legend(handles=ax.lines[::len(df_all_parameters_result)+1], labels=[\"All\",\"Logon/Logoff\",\"Psychometric\",\"Removable Media\"])\n",
    "#ax.set_xtickslabels(rotation = 45)\n",
    "ax.axhline(0, ls='-')\n",
    "ax.set_title('Anomaly score for different set of parameters ', size = 20)\n",
    "plt.rcParams[\"axes.labelsize\"] = 25\n",
    "plt.xticks(rotation = 45, fontsize = 10)\n",
    "plt.yticks(fontsize = 10)\n",
    "plt.show()"
   ]
  },
  {
   "cell_type": "code",
   "execution_count": null,
   "metadata": {
    "colab": {
     "background_save": true
    },
    "id": "NVDdbFrWvZmK"
   },
   "outputs": [],
   "source": [
    "# df_files_stats_new.to_csv('file_stats_new')     #CHARTJS"
   ]
  },
  {
   "cell_type": "code",
   "execution_count": null,
   "metadata": {
    "colab": {
     "background_save": true
    },
    "id": "X-B4FkUd0ipm"
   },
   "outputs": [],
   "source": [
    "f, ax = plt.subplots(figsize = (25,15))\n",
    "x_col='user'\n",
    "\n",
    "sns.pointplot(ax=ax,x=x_col,y='mode_trasfers_per_user',data=df_files_stats_new, color='orange')\n",
    "sns.pointplot(ax=ax,x=x_col,y='max_transfers_per_user',data=df_files_stats_new,color='blue')\n",
    "\n",
    "ax.legend(handles=ax.lines[::len(df_files_stats)+1], labels=[\"mode\", \"max\"], fontsize = 20)\n",
    "\n",
    "ax.set_title('File transfers per user', size = 30)\n",
    "plt.rcParams[\"axes.labelsize\"] = 25\n",
    "plt.ylabel(\"Number of files\")\n",
    "plt.xticks(rotation = 45, fontsize = 10)\n",
    "plt.yticks(fontsize = 10)\n",
    "# plt.legend(fontsize=20)\n",
    "plt.show()"
   ]
  },
  {
   "cell_type": "code",
   "execution_count": null,
   "metadata": {
    "colab": {
     "background_save": true
    },
    "id": "oCkXxP-BNnl0"
   },
   "outputs": [],
   "source": []
  }
 ],
 "metadata": {
  "colab": {
   "collapsed_sections": [],
   "name": "insider_threat1.ipynb",
   "version": ""
  },
  "kernelspec": {
   "display_name": "Python 3 (ipykernel)",
   "language": "python",
   "name": "python3"
  },
  "language_info": {
   "codemirror_mode": {
    "name": "ipython",
    "version": 3
   },
   "file_extension": ".py",
   "mimetype": "text/x-python",
   "name": "python",
   "nbconvert_exporter": "python",
   "pygments_lexer": "ipython3",
   "version": "3.9.6"
  }
 },
 "nbformat": 4,
 "nbformat_minor": 1
}
