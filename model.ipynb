{
 "metadata": {
  "language_info": {
   "codemirror_mode": {
    "name": "ipython",
    "version": 3
   },
   "file_extension": ".py",
   "mimetype": "text/x-python",
   "name": "python",
   "nbconvert_exporter": "python",
   "pygments_lexer": "ipython3",
   "version": "3.8.5"
  },
  "orig_nbformat": 2,
  "kernelspec": {
   "name": "python385jvsc74a57bd0ab0324588304f2ed5b26c97520db2fc9af5ba38080667094e5e234b12006a44b",
   "display_name": "Python 3.8.5 64-bit ('myvenv': conda)"
  }
 },
 "nbformat": 4,
 "nbformat_minor": 2,
 "cells": [
  {
   "cell_type": "code",
   "execution_count": 171,
   "metadata": {},
   "outputs": [],
   "source": [
    "import numpy as np \n",
    "import pandas as pd\n",
    "from sklearn.model_selection import train_test_split\n",
    "from sklearn.linear_model import LogisticRegression\n",
    "from sklearn.cluster import KMeans\n",
    "from sklearn import preprocessing\n",
    "from sklearn.metrics import accuracy_score\n",
    "from sklearn.preprocessing import StandardScaler"
   ]
  },
  {
   "cell_type": "code",
   "execution_count": 210,
   "metadata": {},
   "outputs": [],
   "source": [
    "class clust():\n",
    "    def _load_data(self, sklearn_load_ds):\n",
    "        data = sklearn_load_ds\n",
    "        X = data.drop('insiderthreat', axis=1)\n",
    "        Y = data['insiderthreat']\n",
    "        \n",
    "        self.X_train, self.X_test, self.Y_train, self.Y_test = train_test_split(X, Y, test_size=0.3, random_state=42)\n",
    "    \n",
    "    def __init__(self, sklearn_load_ds):\n",
    "        self._load_data(sklearn_load_ds)\n",
    "    \n",
    "    def classify(self, model=LogisticRegression(penalty='l1', C=1.0, solver='liblinear')):\n",
    "        scaler = StandardScaler()\n",
    "        X_train = scaler.fit_transform(self.X_train)\n",
    "        X_test = scaler.fit_transform(self.X_test)\n",
    "        model.fit(X_train, self.Y_train)\n",
    "        y_pred = model.predict(X_test)\n",
    "        print('Accuracy: {}'.format(accuracy_score(self.Y_test, y_pred)))\n",
    "\n",
    "    def kmeans(self, output='add'):\n",
    "        n_clusters = len(np.unique(self.Y_train))\n",
    "        clf = KMeans(n_clusters=n_clusters, random_state=42)\n",
    "        clf.fit(self.X_train)\n",
    "        y_labels_train = clf.labels_\n",
    "        y_labels_test = clf.predict(self.X_test)\n",
    "        if output == 'add':\n",
    "            self.X_train['km_clust'] = y_labels_train\n",
    "            self.X_test['km_clust'] = y_labels_test\n",
    "        \n",
    "        elif output == 'replace':\n",
    "            self.X_train = y_labels_train[:, np.newaxis]\n",
    "            self.X_test = y_labels_test[:, np.newaxis]\n",
    "            \n",
    "\n",
    "        else:\n",
    "            raise ValueError('output should be either add or replace')\n",
    "        return self\n",
    "\n"
   ]
  },
  {
   "cell_type": "code",
   "execution_count": 211,
   "metadata": {},
   "outputs": [],
   "source": [
    "df = pd.read_csv(\"scenario2-training-dataset-transformed-tf.csv\")\n",
    "label_encoding = preprocessing.LabelEncoder()\n",
    "df['user'] = label_encoding.fit_transform(df['user'])\n",
    "df['source'] = label_encoding.fit_transform(df['source'])\n",
    "df['action'] = label_encoding.fit_transform(df['action'].astype(str))\n"
   ]
  },
  {
   "cell_type": "code",
   "execution_count": 212,
   "metadata": {},
   "outputs": [
    {
     "output_type": "stream",
     "name": "stdout",
     "text": [
      "Accuracy: 1.0\n"
     ]
    }
   ],
   "source": [
    "clust(df).kmeans(output='add').classify()"
   ]
  },
  {
   "cell_type": "code",
   "execution_count": 213,
   "metadata": {},
   "outputs": [
    {
     "output_type": "stream",
     "name": "stdout",
     "text": [
      "Accuracy: 1.0\n"
     ]
    }
   ],
   "source": [
    "clust(df).classify()"
   ]
  },
  {
   "cell_type": "code",
   "execution_count": null,
   "metadata": {},
   "outputs": [],
   "source": []
  }
 ]
}