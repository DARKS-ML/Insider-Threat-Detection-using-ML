{
 "cells": [
  {
   "cell_type": "markdown",
   "metadata": {},
   "source": [
    "# For Logon"
   ]
  },
  {
   "cell_type": "code",
   "execution_count": 1,
   "metadata": {},
   "outputs": [],
   "source": [
    "from Modules import modules as md\n",
    "from Modules import usermodules as um\n",
    "import pandas as pd"
   ]
  },
  {
   "cell_type": "code",
   "execution_count": 2,
   "metadata": {},
   "outputs": [],
   "source": [
    "df = md.ReadDataset('r4.2/logon')"
   ]
  },
  {
   "cell_type": "code",
   "execution_count": 3,
   "metadata": {},
   "outputs": [
    {
     "data": {
      "text/plain": [
       "(854859, 5)"
      ]
     },
     "metadata": {},
     "output_type": "display_data"
    },
    {
     "data": {
      "text/html": [
       "<div>\n",
       "<style scoped>\n",
       "    .dataframe tbody tr th:only-of-type {\n",
       "        vertical-align: middle;\n",
       "    }\n",
       "\n",
       "    .dataframe tbody tr th {\n",
       "        vertical-align: top;\n",
       "    }\n",
       "\n",
       "    .dataframe thead th {\n",
       "        text-align: right;\n",
       "    }\n",
       "</style>\n",
       "<table border=\"1\" class=\"dataframe\">\n",
       "  <thead>\n",
       "    <tr style=\"text-align: right;\">\n",
       "      <th></th>\n",
       "      <th>id</th>\n",
       "      <th>date</th>\n",
       "      <th>user</th>\n",
       "      <th>pc</th>\n",
       "      <th>activity</th>\n",
       "    </tr>\n",
       "  </thead>\n",
       "  <tbody>\n",
       "    <tr>\n",
       "      <th>0</th>\n",
       "      <td>{X1D9-S0ES98JV-5357PWMI}</td>\n",
       "      <td>01/02/2010 06:49:00</td>\n",
       "      <td>NGF0157</td>\n",
       "      <td>PC-6056</td>\n",
       "      <td>Logon</td>\n",
       "    </tr>\n",
       "    <tr>\n",
       "      <th>1</th>\n",
       "      <td>{G2B3-L6EJ61GT-2222RKSO}</td>\n",
       "      <td>01/02/2010 06:50:00</td>\n",
       "      <td>LRR0148</td>\n",
       "      <td>PC-4275</td>\n",
       "      <td>Logon</td>\n",
       "    </tr>\n",
       "    <tr>\n",
       "      <th>2</th>\n",
       "      <td>{U6Q3-U0WE70UA-3770UREL}</td>\n",
       "      <td>01/02/2010 06:53:04</td>\n",
       "      <td>LRR0148</td>\n",
       "      <td>PC-4124</td>\n",
       "      <td>Logon</td>\n",
       "    </tr>\n",
       "    <tr>\n",
       "      <th>3</th>\n",
       "      <td>{I0N5-R7NA26TG-6263KNGM}</td>\n",
       "      <td>01/02/2010 07:00:00</td>\n",
       "      <td>IRM0931</td>\n",
       "      <td>PC-7188</td>\n",
       "      <td>Logon</td>\n",
       "    </tr>\n",
       "    <tr>\n",
       "      <th>4</th>\n",
       "      <td>{D1S0-N6FH62BT-5398KANK}</td>\n",
       "      <td>01/02/2010 07:00:00</td>\n",
       "      <td>MOH0273</td>\n",
       "      <td>PC-6699</td>\n",
       "      <td>Logon</td>\n",
       "    </tr>\n",
       "  </tbody>\n",
       "</table>\n",
       "</div>"
      ],
      "text/plain": [
       "                         id                 date     user       pc activity\n",
       "0  {X1D9-S0ES98JV-5357PWMI}  01/02/2010 06:49:00  NGF0157  PC-6056    Logon\n",
       "1  {G2B3-L6EJ61GT-2222RKSO}  01/02/2010 06:50:00  LRR0148  PC-4275    Logon\n",
       "2  {U6Q3-U0WE70UA-3770UREL}  01/02/2010 06:53:04  LRR0148  PC-4124    Logon\n",
       "3  {I0N5-R7NA26TG-6263KNGM}  01/02/2010 07:00:00  IRM0931  PC-7188    Logon\n",
       "4  {D1S0-N6FH62BT-5398KANK}  01/02/2010 07:00:00  MOH0273  PC-6699    Logon"
      ]
     },
     "metadata": {},
     "output_type": "display_data"
    },
    {
     "data": {
      "text/html": [
       "<div>\n",
       "<style scoped>\n",
       "    .dataframe tbody tr th:only-of-type {\n",
       "        vertical-align: middle;\n",
       "    }\n",
       "\n",
       "    .dataframe tbody tr th {\n",
       "        vertical-align: top;\n",
       "    }\n",
       "\n",
       "    .dataframe thead th {\n",
       "        text-align: right;\n",
       "    }\n",
       "</style>\n",
       "<table border=\"1\" class=\"dataframe\">\n",
       "  <thead>\n",
       "    <tr style=\"text-align: right;\">\n",
       "      <th></th>\n",
       "      <th>id</th>\n",
       "      <th>date</th>\n",
       "      <th>user</th>\n",
       "      <th>pc</th>\n",
       "      <th>activity</th>\n",
       "    </tr>\n",
       "  </thead>\n",
       "  <tbody>\n",
       "    <tr>\n",
       "      <th>854854</th>\n",
       "      <td>{J8R2-H0FA17MQ-9304VEVQ}</td>\n",
       "      <td>05/17/2011 04:40:33</td>\n",
       "      <td>JDF0593</td>\n",
       "      <td>PC-6301</td>\n",
       "      <td>Logoff</td>\n",
       "    </tr>\n",
       "    <tr>\n",
       "      <th>854855</th>\n",
       "      <td>{P3L5-A2AC53JU-4012GIRD}</td>\n",
       "      <td>05/17/2011 05:21:58</td>\n",
       "      <td>MLM0950</td>\n",
       "      <td>PC-9787</td>\n",
       "      <td>Logoff</td>\n",
       "    </tr>\n",
       "    <tr>\n",
       "      <th>854856</th>\n",
       "      <td>{P2S0-P1JS62IF-2767BEPH}</td>\n",
       "      <td>05/17/2011 05:25:33</td>\n",
       "      <td>IRM0931</td>\n",
       "      <td>PC-7188</td>\n",
       "      <td>Logon</td>\n",
       "    </tr>\n",
       "    <tr>\n",
       "      <th>854857</th>\n",
       "      <td>{Z2U6-I8MA03NC-4963HKBH}</td>\n",
       "      <td>05/17/2011 06:23:48</td>\n",
       "      <td>IRM0931</td>\n",
       "      <td>PC-7188</td>\n",
       "      <td>Logoff</td>\n",
       "    </tr>\n",
       "    <tr>\n",
       "      <th>854858</th>\n",
       "      <td>{T0U1-P7DT83QQ-7295ICZR}</td>\n",
       "      <td>05/17/2011 06:43:35</td>\n",
       "      <td>BJM0111</td>\n",
       "      <td>PC-6866</td>\n",
       "      <td>Logoff</td>\n",
       "    </tr>\n",
       "  </tbody>\n",
       "</table>\n",
       "</div>"
      ],
      "text/plain": [
       "                              id                 date     user       pc  \\\n",
       "854854  {J8R2-H0FA17MQ-9304VEVQ}  05/17/2011 04:40:33  JDF0593  PC-6301   \n",
       "854855  {P3L5-A2AC53JU-4012GIRD}  05/17/2011 05:21:58  MLM0950  PC-9787   \n",
       "854856  {P2S0-P1JS62IF-2767BEPH}  05/17/2011 05:25:33  IRM0931  PC-7188   \n",
       "854857  {Z2U6-I8MA03NC-4963HKBH}  05/17/2011 06:23:48  IRM0931  PC-7188   \n",
       "854858  {T0U1-P7DT83QQ-7295ICZR}  05/17/2011 06:43:35  BJM0111  PC-6866   \n",
       "\n",
       "       activity  \n",
       "854854   Logoff  \n",
       "854855   Logoff  \n",
       "854856    Logon  \n",
       "854857   Logoff  \n",
       "854858   Logoff  "
      ]
     },
     "metadata": {},
     "output_type": "display_data"
    }
   ],
   "source": [
    "display(df.shape)\n",
    "display(df.head())\n",
    "display(df.tail())"
   ]
  },
  {
   "cell_type": "code",
   "execution_count": 4,
   "metadata": {},
   "outputs": [
    {
     "name": "stdout",
     "output_type": "stream",
     "text": [
      "                         id                date     user       pc activity\n",
      "0  {X1D9-S0ES98JV-5357PWMI} 2010-01-02 06:49:00  NGF0157  PC-6056    Logon\n",
      "1  {G2B3-L6EJ61GT-2222RKSO} 2010-01-02 06:50:00  LRR0148  PC-4275    Logon\n",
      "2  {U6Q3-U0WE70UA-3770UREL} 2010-01-02 06:53:04  LRR0148  PC-4124    Logon\n",
      "3  {I0N5-R7NA26TG-6263KNGM} 2010-01-02 07:00:00  IRM0931  PC-7188    Logon\n",
      "4  {D1S0-N6FH62BT-5398KANK} 2010-01-02 07:00:00  MOH0273  PC-6699    Logon\n"
     ]
    }
   ],
   "source": [
    "#conver to date time\n",
    "um.convertToDateTime(df,'date')"
   ]
  },
  {
   "cell_type": "code",
   "execution_count": 5,
   "metadata": {},
   "outputs": [
    {
     "data": {
      "text/plain": [
       "(854859, 5)"
      ]
     },
     "metadata": {},
     "output_type": "display_data"
    },
    {
     "data": {
      "text/html": [
       "<div>\n",
       "<style scoped>\n",
       "    .dataframe tbody tr th:only-of-type {\n",
       "        vertical-align: middle;\n",
       "    }\n",
       "\n",
       "    .dataframe tbody tr th {\n",
       "        vertical-align: top;\n",
       "    }\n",
       "\n",
       "    .dataframe thead th {\n",
       "        text-align: right;\n",
       "    }\n",
       "</style>\n",
       "<table border=\"1\" class=\"dataframe\">\n",
       "  <thead>\n",
       "    <tr style=\"text-align: right;\">\n",
       "      <th></th>\n",
       "      <th>id</th>\n",
       "      <th>date</th>\n",
       "      <th>user</th>\n",
       "      <th>pc</th>\n",
       "      <th>activity</th>\n",
       "    </tr>\n",
       "  </thead>\n",
       "  <tbody>\n",
       "    <tr>\n",
       "      <th>0</th>\n",
       "      <td>{X1D9-S0ES98JV-5357PWMI}</td>\n",
       "      <td>2010-01-02 06:49:00</td>\n",
       "      <td>NGF0157</td>\n",
       "      <td>PC-6056</td>\n",
       "      <td>Logon</td>\n",
       "    </tr>\n",
       "    <tr>\n",
       "      <th>1</th>\n",
       "      <td>{G2B3-L6EJ61GT-2222RKSO}</td>\n",
       "      <td>2010-01-02 06:50:00</td>\n",
       "      <td>LRR0148</td>\n",
       "      <td>PC-4275</td>\n",
       "      <td>Logon</td>\n",
       "    </tr>\n",
       "    <tr>\n",
       "      <th>2</th>\n",
       "      <td>{U6Q3-U0WE70UA-3770UREL}</td>\n",
       "      <td>2010-01-02 06:53:04</td>\n",
       "      <td>LRR0148</td>\n",
       "      <td>PC-4124</td>\n",
       "      <td>Logon</td>\n",
       "    </tr>\n",
       "    <tr>\n",
       "      <th>3</th>\n",
       "      <td>{I0N5-R7NA26TG-6263KNGM}</td>\n",
       "      <td>2010-01-02 07:00:00</td>\n",
       "      <td>IRM0931</td>\n",
       "      <td>PC-7188</td>\n",
       "      <td>Logon</td>\n",
       "    </tr>\n",
       "    <tr>\n",
       "      <th>4</th>\n",
       "      <td>{D1S0-N6FH62BT-5398KANK}</td>\n",
       "      <td>2010-01-02 07:00:00</td>\n",
       "      <td>MOH0273</td>\n",
       "      <td>PC-6699</td>\n",
       "      <td>Logon</td>\n",
       "    </tr>\n",
       "  </tbody>\n",
       "</table>\n",
       "</div>"
      ],
      "text/plain": [
       "                         id                date     user       pc activity\n",
       "0  {X1D9-S0ES98JV-5357PWMI} 2010-01-02 06:49:00  NGF0157  PC-6056    Logon\n",
       "1  {G2B3-L6EJ61GT-2222RKSO} 2010-01-02 06:50:00  LRR0148  PC-4275    Logon\n",
       "2  {U6Q3-U0WE70UA-3770UREL} 2010-01-02 06:53:04  LRR0148  PC-4124    Logon\n",
       "3  {I0N5-R7NA26TG-6263KNGM} 2010-01-02 07:00:00  IRM0931  PC-7188    Logon\n",
       "4  {D1S0-N6FH62BT-5398KANK} 2010-01-02 07:00:00  MOH0273  PC-6699    Logon"
      ]
     },
     "metadata": {},
     "output_type": "display_data"
    },
    {
     "data": {
      "text/html": [
       "<div>\n",
       "<style scoped>\n",
       "    .dataframe tbody tr th:only-of-type {\n",
       "        vertical-align: middle;\n",
       "    }\n",
       "\n",
       "    .dataframe tbody tr th {\n",
       "        vertical-align: top;\n",
       "    }\n",
       "\n",
       "    .dataframe thead th {\n",
       "        text-align: right;\n",
       "    }\n",
       "</style>\n",
       "<table border=\"1\" class=\"dataframe\">\n",
       "  <thead>\n",
       "    <tr style=\"text-align: right;\">\n",
       "      <th></th>\n",
       "      <th>id</th>\n",
       "      <th>date</th>\n",
       "      <th>user</th>\n",
       "      <th>pc</th>\n",
       "      <th>activity</th>\n",
       "    </tr>\n",
       "  </thead>\n",
       "  <tbody>\n",
       "    <tr>\n",
       "      <th>854854</th>\n",
       "      <td>{J8R2-H0FA17MQ-9304VEVQ}</td>\n",
       "      <td>2011-05-17 04:40:33</td>\n",
       "      <td>JDF0593</td>\n",
       "      <td>PC-6301</td>\n",
       "      <td>Logoff</td>\n",
       "    </tr>\n",
       "    <tr>\n",
       "      <th>854855</th>\n",
       "      <td>{P3L5-A2AC53JU-4012GIRD}</td>\n",
       "      <td>2011-05-17 05:21:58</td>\n",
       "      <td>MLM0950</td>\n",
       "      <td>PC-9787</td>\n",
       "      <td>Logoff</td>\n",
       "    </tr>\n",
       "    <tr>\n",
       "      <th>854856</th>\n",
       "      <td>{P2S0-P1JS62IF-2767BEPH}</td>\n",
       "      <td>2011-05-17 05:25:33</td>\n",
       "      <td>IRM0931</td>\n",
       "      <td>PC-7188</td>\n",
       "      <td>Logon</td>\n",
       "    </tr>\n",
       "    <tr>\n",
       "      <th>854857</th>\n",
       "      <td>{Z2U6-I8MA03NC-4963HKBH}</td>\n",
       "      <td>2011-05-17 06:23:48</td>\n",
       "      <td>IRM0931</td>\n",
       "      <td>PC-7188</td>\n",
       "      <td>Logoff</td>\n",
       "    </tr>\n",
       "    <tr>\n",
       "      <th>854858</th>\n",
       "      <td>{T0U1-P7DT83QQ-7295ICZR}</td>\n",
       "      <td>2011-05-17 06:43:35</td>\n",
       "      <td>BJM0111</td>\n",
       "      <td>PC-6866</td>\n",
       "      <td>Logoff</td>\n",
       "    </tr>\n",
       "  </tbody>\n",
       "</table>\n",
       "</div>"
      ],
      "text/plain": [
       "                              id                date     user       pc  \\\n",
       "854854  {J8R2-H0FA17MQ-9304VEVQ} 2011-05-17 04:40:33  JDF0593  PC-6301   \n",
       "854855  {P3L5-A2AC53JU-4012GIRD} 2011-05-17 05:21:58  MLM0950  PC-9787   \n",
       "854856  {P2S0-P1JS62IF-2767BEPH} 2011-05-17 05:25:33  IRM0931  PC-7188   \n",
       "854857  {Z2U6-I8MA03NC-4963HKBH} 2011-05-17 06:23:48  IRM0931  PC-7188   \n",
       "854858  {T0U1-P7DT83QQ-7295ICZR} 2011-05-17 06:43:35  BJM0111  PC-6866   \n",
       "\n",
       "       activity  \n",
       "854854   Logoff  \n",
       "854855   Logoff  \n",
       "854856    Logon  \n",
       "854857   Logoff  \n",
       "854858   Logoff  "
      ]
     },
     "metadata": {},
     "output_type": "display_data"
    }
   ],
   "source": [
    "#re visualize\n",
    "display(df.shape)\n",
    "display(df.head())\n",
    "display(df.tail())"
   ]
  },
  {
   "cell_type": "code",
   "execution_count": 6,
   "metadata": {},
   "outputs": [],
   "source": [
    "df1 = df.copy()"
   ]
  },
  {
   "cell_type": "code",
   "execution_count": 7,
   "metadata": {},
   "outputs": [],
   "source": [
    "df1['year'] = df1['date'].dt.year"
   ]
  },
  {
   "cell_type": "code",
   "execution_count": 9,
   "metadata": {},
   "outputs": [
    {
     "data": {
      "text/plain": [
       "array([2010, 2011])"
      ]
     },
     "execution_count": 9,
     "metadata": {},
     "output_type": "execute_result"
    }
   ],
   "source": [
    "df1.year.unique()"
   ]
  },
  {
   "cell_type": "code",
   "execution_count": 10,
   "metadata": {},
   "outputs": [
    {
     "data": {
      "text/plain": [
       "(854859, 6)"
      ]
     },
     "metadata": {},
     "output_type": "display_data"
    },
    {
     "data": {
      "text/html": [
       "<div>\n",
       "<style scoped>\n",
       "    .dataframe tbody tr th:only-of-type {\n",
       "        vertical-align: middle;\n",
       "    }\n",
       "\n",
       "    .dataframe tbody tr th {\n",
       "        vertical-align: top;\n",
       "    }\n",
       "\n",
       "    .dataframe thead th {\n",
       "        text-align: right;\n",
       "    }\n",
       "</style>\n",
       "<table border=\"1\" class=\"dataframe\">\n",
       "  <thead>\n",
       "    <tr style=\"text-align: right;\">\n",
       "      <th></th>\n",
       "      <th>id</th>\n",
       "      <th>date</th>\n",
       "      <th>user</th>\n",
       "      <th>pc</th>\n",
       "      <th>activity</th>\n",
       "      <th>year</th>\n",
       "    </tr>\n",
       "  </thead>\n",
       "  <tbody>\n",
       "    <tr>\n",
       "      <th>0</th>\n",
       "      <td>{X1D9-S0ES98JV-5357PWMI}</td>\n",
       "      <td>2010-01-02 06:49:00</td>\n",
       "      <td>NGF0157</td>\n",
       "      <td>PC-6056</td>\n",
       "      <td>Logon</td>\n",
       "      <td>2010</td>\n",
       "    </tr>\n",
       "    <tr>\n",
       "      <th>1</th>\n",
       "      <td>{G2B3-L6EJ61GT-2222RKSO}</td>\n",
       "      <td>2010-01-02 06:50:00</td>\n",
       "      <td>LRR0148</td>\n",
       "      <td>PC-4275</td>\n",
       "      <td>Logon</td>\n",
       "      <td>2010</td>\n",
       "    </tr>\n",
       "    <tr>\n",
       "      <th>2</th>\n",
       "      <td>{U6Q3-U0WE70UA-3770UREL}</td>\n",
       "      <td>2010-01-02 06:53:04</td>\n",
       "      <td>LRR0148</td>\n",
       "      <td>PC-4124</td>\n",
       "      <td>Logon</td>\n",
       "      <td>2010</td>\n",
       "    </tr>\n",
       "    <tr>\n",
       "      <th>3</th>\n",
       "      <td>{I0N5-R7NA26TG-6263KNGM}</td>\n",
       "      <td>2010-01-02 07:00:00</td>\n",
       "      <td>IRM0931</td>\n",
       "      <td>PC-7188</td>\n",
       "      <td>Logon</td>\n",
       "      <td>2010</td>\n",
       "    </tr>\n",
       "    <tr>\n",
       "      <th>4</th>\n",
       "      <td>{D1S0-N6FH62BT-5398KANK}</td>\n",
       "      <td>2010-01-02 07:00:00</td>\n",
       "      <td>MOH0273</td>\n",
       "      <td>PC-6699</td>\n",
       "      <td>Logon</td>\n",
       "      <td>2010</td>\n",
       "    </tr>\n",
       "  </tbody>\n",
       "</table>\n",
       "</div>"
      ],
      "text/plain": [
       "                         id                date     user       pc activity  \\\n",
       "0  {X1D9-S0ES98JV-5357PWMI} 2010-01-02 06:49:00  NGF0157  PC-6056    Logon   \n",
       "1  {G2B3-L6EJ61GT-2222RKSO} 2010-01-02 06:50:00  LRR0148  PC-4275    Logon   \n",
       "2  {U6Q3-U0WE70UA-3770UREL} 2010-01-02 06:53:04  LRR0148  PC-4124    Logon   \n",
       "3  {I0N5-R7NA26TG-6263KNGM} 2010-01-02 07:00:00  IRM0931  PC-7188    Logon   \n",
       "4  {D1S0-N6FH62BT-5398KANK} 2010-01-02 07:00:00  MOH0273  PC-6699    Logon   \n",
       "\n",
       "   year  \n",
       "0  2010  \n",
       "1  2010  \n",
       "2  2010  \n",
       "3  2010  \n",
       "4  2010  "
      ]
     },
     "metadata": {},
     "output_type": "display_data"
    },
    {
     "data": {
      "text/html": [
       "<div>\n",
       "<style scoped>\n",
       "    .dataframe tbody tr th:only-of-type {\n",
       "        vertical-align: middle;\n",
       "    }\n",
       "\n",
       "    .dataframe tbody tr th {\n",
       "        vertical-align: top;\n",
       "    }\n",
       "\n",
       "    .dataframe thead th {\n",
       "        text-align: right;\n",
       "    }\n",
       "</style>\n",
       "<table border=\"1\" class=\"dataframe\">\n",
       "  <thead>\n",
       "    <tr style=\"text-align: right;\">\n",
       "      <th></th>\n",
       "      <th>id</th>\n",
       "      <th>date</th>\n",
       "      <th>user</th>\n",
       "      <th>pc</th>\n",
       "      <th>activity</th>\n",
       "      <th>year</th>\n",
       "    </tr>\n",
       "  </thead>\n",
       "  <tbody>\n",
       "    <tr>\n",
       "      <th>854854</th>\n",
       "      <td>{J8R2-H0FA17MQ-9304VEVQ}</td>\n",
       "      <td>2011-05-17 04:40:33</td>\n",
       "      <td>JDF0593</td>\n",
       "      <td>PC-6301</td>\n",
       "      <td>Logoff</td>\n",
       "      <td>2011</td>\n",
       "    </tr>\n",
       "    <tr>\n",
       "      <th>854855</th>\n",
       "      <td>{P3L5-A2AC53JU-4012GIRD}</td>\n",
       "      <td>2011-05-17 05:21:58</td>\n",
       "      <td>MLM0950</td>\n",
       "      <td>PC-9787</td>\n",
       "      <td>Logoff</td>\n",
       "      <td>2011</td>\n",
       "    </tr>\n",
       "    <tr>\n",
       "      <th>854856</th>\n",
       "      <td>{P2S0-P1JS62IF-2767BEPH}</td>\n",
       "      <td>2011-05-17 05:25:33</td>\n",
       "      <td>IRM0931</td>\n",
       "      <td>PC-7188</td>\n",
       "      <td>Logon</td>\n",
       "      <td>2011</td>\n",
       "    </tr>\n",
       "    <tr>\n",
       "      <th>854857</th>\n",
       "      <td>{Z2U6-I8MA03NC-4963HKBH}</td>\n",
       "      <td>2011-05-17 06:23:48</td>\n",
       "      <td>IRM0931</td>\n",
       "      <td>PC-7188</td>\n",
       "      <td>Logoff</td>\n",
       "      <td>2011</td>\n",
       "    </tr>\n",
       "    <tr>\n",
       "      <th>854858</th>\n",
       "      <td>{T0U1-P7DT83QQ-7295ICZR}</td>\n",
       "      <td>2011-05-17 06:43:35</td>\n",
       "      <td>BJM0111</td>\n",
       "      <td>PC-6866</td>\n",
       "      <td>Logoff</td>\n",
       "      <td>2011</td>\n",
       "    </tr>\n",
       "  </tbody>\n",
       "</table>\n",
       "</div>"
      ],
      "text/plain": [
       "                              id                date     user       pc  \\\n",
       "854854  {J8R2-H0FA17MQ-9304VEVQ} 2011-05-17 04:40:33  JDF0593  PC-6301   \n",
       "854855  {P3L5-A2AC53JU-4012GIRD} 2011-05-17 05:21:58  MLM0950  PC-9787   \n",
       "854856  {P2S0-P1JS62IF-2767BEPH} 2011-05-17 05:25:33  IRM0931  PC-7188   \n",
       "854857  {Z2U6-I8MA03NC-4963HKBH} 2011-05-17 06:23:48  IRM0931  PC-7188   \n",
       "854858  {T0U1-P7DT83QQ-7295ICZR} 2011-05-17 06:43:35  BJM0111  PC-6866   \n",
       "\n",
       "       activity  year  \n",
       "854854   Logoff  2011  \n",
       "854855   Logoff  2011  \n",
       "854856    Logon  2011  \n",
       "854857   Logoff  2011  \n",
       "854858   Logoff  2011  "
      ]
     },
     "metadata": {},
     "output_type": "display_data"
    }
   ],
   "source": [
    "display(df1.shape)\n",
    "display(df1.head())\n",
    "display(df1.tail())"
   ]
  },
  {
   "cell_type": "code",
   "execution_count": 11,
   "metadata": {},
   "outputs": [
    {
     "name": "stdout",
     "output_type": "stream",
     "text": [
      "<class 'pandas.core.frame.DataFrame'>\n",
      "RangeIndex: 854859 entries, 0 to 854858\n",
      "Data columns (total 6 columns):\n",
      " #   Column    Non-Null Count   Dtype         \n",
      "---  ------    --------------   -----         \n",
      " 0   id        854859 non-null  object        \n",
      " 1   date      854859 non-null  datetime64[ns]\n",
      " 2   user      854859 non-null  object        \n",
      " 3   pc        854859 non-null  object        \n",
      " 4   activity  854859 non-null  object        \n",
      " 5   year      854859 non-null  int64         \n",
      "dtypes: datetime64[ns](1), int64(1), object(4)\n",
      "memory usage: 39.1+ MB\n"
     ]
    }
   ],
   "source": [
    "df1.info()"
   ]
  },
  {
   "cell_type": "code",
   "execution_count": 12,
   "metadata": {},
   "outputs": [],
   "source": [
    "new_df = df1[df1['date'].dt.year == 2010]"
   ]
  },
  {
   "cell_type": "code",
   "execution_count": null,
   "metadata": {},
   "outputs": [],
   "source": [
    "display(new_df.shape)\n",
    "display(new_df.head())\n",
    "display(new_df.tail())"
   ]
  },
  {
   "cell_type": "code",
   "execution_count": null,
   "metadata": {},
   "outputs": [],
   "source": [
    "del df1['id']\n",
    "del df1['year']"
   ]
  },
  {
   "cell_type": "code",
   "execution_count": null,
   "metadata": {},
   "outputs": [],
   "source": [
    "#export new data frame\n",
    "um.exportFile(new_df,'device')"
   ]
  },
  {
   "cell_type": "markdown",
   "metadata": {},
   "source": [
    "# New Instance"
   ]
  },
  {
   "cell_type": "code",
   "execution_count": 5,
   "metadata": {},
   "outputs": [],
   "source": [
    "import sys\n",
    "sys.path.append('../Modules/')"
   ]
  },
  {
   "cell_type": "code",
   "execution_count": 6,
   "metadata": {},
   "outputs": [],
   "source": [
    "import modules as md\n",
    "import usermodules as um\n",
    "import pandas as pd"
   ]
  },
  {
   "cell_type": "code",
   "execution_count": 7,
   "metadata": {},
   "outputs": [],
   "source": [
    "df1 = md.ReadDataset('logon_copy')"
   ]
  },
  {
   "cell_type": "code",
   "execution_count": 8,
   "metadata": {},
   "outputs": [
    {
     "data": {
      "text/html": [
       "<div>\n",
       "<style scoped>\n",
       "    .dataframe tbody tr th:only-of-type {\n",
       "        vertical-align: middle;\n",
       "    }\n",
       "\n",
       "    .dataframe tbody tr th {\n",
       "        vertical-align: top;\n",
       "    }\n",
       "\n",
       "    .dataframe thead th {\n",
       "        text-align: right;\n",
       "    }\n",
       "</style>\n",
       "<table border=\"1\" class=\"dataframe\">\n",
       "  <thead>\n",
       "    <tr style=\"text-align: right;\">\n",
       "      <th></th>\n",
       "      <th>date</th>\n",
       "      <th>user</th>\n",
       "      <th>pc</th>\n",
       "      <th>activity</th>\n",
       "    </tr>\n",
       "  </thead>\n",
       "  <tbody>\n",
       "    <tr>\n",
       "      <th>0</th>\n",
       "      <td>2010-01-02 06:49:00</td>\n",
       "      <td>NGF0157</td>\n",
       "      <td>PC-6056</td>\n",
       "      <td>Logon</td>\n",
       "    </tr>\n",
       "    <tr>\n",
       "      <th>1</th>\n",
       "      <td>2010-01-02 06:50:00</td>\n",
       "      <td>LRR0148</td>\n",
       "      <td>PC-4275</td>\n",
       "      <td>Logon</td>\n",
       "    </tr>\n",
       "    <tr>\n",
       "      <th>2</th>\n",
       "      <td>2010-01-02 06:53:04</td>\n",
       "      <td>LRR0148</td>\n",
       "      <td>PC-4124</td>\n",
       "      <td>Logon</td>\n",
       "    </tr>\n",
       "    <tr>\n",
       "      <th>3</th>\n",
       "      <td>2010-01-02 07:00:00</td>\n",
       "      <td>IRM0931</td>\n",
       "      <td>PC-7188</td>\n",
       "      <td>Logon</td>\n",
       "    </tr>\n",
       "    <tr>\n",
       "      <th>4</th>\n",
       "      <td>2010-01-02 07:00:00</td>\n",
       "      <td>MOH0273</td>\n",
       "      <td>PC-6699</td>\n",
       "      <td>Logon</td>\n",
       "    </tr>\n",
       "  </tbody>\n",
       "</table>\n",
       "</div>"
      ],
      "text/plain": [
       "                  date     user       pc activity\n",
       "0  2010-01-02 06:49:00  NGF0157  PC-6056    Logon\n",
       "1  2010-01-02 06:50:00  LRR0148  PC-4275    Logon\n",
       "2  2010-01-02 06:53:04  LRR0148  PC-4124    Logon\n",
       "3  2010-01-02 07:00:00  IRM0931  PC-7188    Logon\n",
       "4  2010-01-02 07:00:00  MOH0273  PC-6699    Logon"
      ]
     },
     "execution_count": 8,
     "metadata": {},
     "output_type": "execute_result"
    }
   ],
   "source": [
    "df1.head()"
   ]
  },
  {
   "cell_type": "code",
   "execution_count": null,
   "metadata": {},
   "outputs": [],
   "source": [
    "start_date = '2010-03'\n",
    "end_date = '2010-11'\n",
    "df2 = md.ChooseDataBetweenTwoDate(df1,start_date,end_date)"
   ]
  },
  {
   "cell_type": "code",
   "execution_count": null,
   "metadata": {},
   "outputs": [],
   "source": [
    "display(df2.shape)\n",
    "display(df2.head())\n",
    "display(df2.tail())"
   ]
  },
  {
   "cell_type": "code",
   "execution_count": null,
   "metadata": {},
   "outputs": [],
   "source": []
  }
 ],
 "metadata": {
  "kernelspec": {
   "display_name": "Python 3",
   "language": "python",
   "name": "python3"
  },
  "language_info": {
   "codemirror_mode": {
    "name": "ipython",
    "version": 3
   },
   "file_extension": ".py",
   "mimetype": "text/x-python",
   "name": "python",
   "nbconvert_exporter": "python",
   "pygments_lexer": "ipython3",
   "version": "3.7.3"
  }
 },
 "nbformat": 4,
 "nbformat_minor": 2
}
