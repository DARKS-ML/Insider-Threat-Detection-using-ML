{
 "cells": [
  {
   "cell_type": "code",
   "execution_count": 1,
   "metadata": {
    "colab": {
     "base_uri": "https://localhost:8080/"
    },
    "id": "wij_6UxvaCgD",
    "outputId": "740aa2cf-1f9a-4b7c-8f25-2c140f75f50d"
   },
   "outputs": [],
   "source": [
    "# from google.colab import drive\n",
    "# drive.mount('/content/gdrive')"
   ]
  },
  {
   "cell_type": "code",
   "execution_count": 2,
   "metadata": {
    "id": "n9Cev7cmaFhr"
   },
   "outputs": [],
   "source": [
    "import pandas as pd\n",
    "import numpy as np\n",
    "import warnings\n",
    "warnings.filterwarnings('ignore')"
   ]
  },
  {
   "cell_type": "code",
   "execution_count": 3,
   "metadata": {
    "id": "PcX_UU9igM7J"
   },
   "outputs": [],
   "source": [
    "# path = \"/content/gdrive/MyDrive/Colab Notebooks/dataset/\"\n",
    "path = '../../Dataset/'"
   ]
  },
  {
   "cell_type": "code",
   "execution_count": 4,
   "metadata": {
    "id": "xOTXUo0-arwM"
   },
   "outputs": [],
   "source": [
    "df_users_full = pd.read_csv(path + \"users.csv\")\n",
    "df_users1 = df_users_full[[\"user_id\",\"functional_unit\",\"department\"]]\n",
    "df_users = df_users1[df_users1.functional_unit == \"2 - ResearchAndEngineering\"]\n",
    "df_users = df_users[(df_users.department != \"1 - Research\")]\n",
    "df_users = pd.DataFrame(df_users)\n",
    "df_users = df_users.dropna(axis=0)"
   ]
  },
  {
   "cell_type": "code",
   "execution_count": 5,
   "metadata": {},
   "outputs": [
    {
     "data": {
      "text/plain": [
       "(3991, 3)"
      ]
     },
     "metadata": {},
     "output_type": "display_data"
    }
   ],
   "source": [
    "display(df_users.shape)"
   ]
  },
  {
   "cell_type": "code",
   "execution_count": 6,
   "metadata": {
    "id": "TU8PLfADepqY"
   },
   "outputs": [
    {
     "data": {
      "text/plain": [
       "(407908, 5)"
      ]
     },
     "execution_count": 6,
     "metadata": {},
     "output_type": "execute_result"
    }
   ],
   "source": [
    "#read device\n",
    "df_device = pd.read_csv(path + \"device.csv\")\n",
    "df_device.shape"
   ]
  },
  {
   "cell_type": "code",
   "execution_count": 7,
   "metadata": {
    "id": "lJekvpRShBh6"
   },
   "outputs": [
    {
     "data": {
      "text/plain": [
       "(434769, 6)"
      ]
     },
     "execution_count": 7,
     "metadata": {},
     "output_type": "execute_result"
    }
   ],
   "source": [
    "#read file\n",
    "df_file = pd.read_csv(path + \"file.csv\")\n",
    "df_file.shape"
   ]
  },
  {
   "cell_type": "code",
   "execution_count": 8,
   "metadata": {
    "id": "in4qMPtahbat"
   },
   "outputs": [
    {
     "data": {
      "text/plain": [
       "(845351, 5)"
      ]
     },
     "execution_count": 8,
     "metadata": {},
     "output_type": "execute_result"
    }
   ],
   "source": [
    "#read logon\n",
    "df_logon = pd.read_csv(path + \"logon.csv\")\n",
    "df_logon.shape"
   ]
  },
  {
   "cell_type": "code",
   "execution_count": 9,
   "metadata": {
    "id": "eobo2cJxhi7x"
   },
   "outputs": [
    {
     "data": {
      "text/plain": [
       "(1000, 7)"
      ]
     },
     "execution_count": 9,
     "metadata": {},
     "output_type": "execute_result"
    }
   ],
   "source": [
    "# read psychometric\n",
    "df_psychometric = pd.read_csv(path + \"psychometric.csv\")\n",
    "df_psychometric = df_psychometric[['employee_name','user_id','O','C','E', 'A', 'N']]\n",
    "df_psychometric.shape"
   ]
  },
  {
   "cell_type": "markdown",
   "metadata": {},
   "source": [
    "### Cleaning and merging"
   ]
  },
  {
   "cell_type": "code",
   "execution_count": 10,
   "metadata": {
    "id": "Tgn9ocmgiLNY"
   },
   "outputs": [
    {
     "data": {
      "text/plain": [
       "(3991, 3)"
      ]
     },
     "execution_count": 10,
     "metadata": {},
     "output_type": "execute_result"
    }
   ],
   "source": [
    "# clean user\n",
    "df_users_clean = df_users.rename(columns= {'user_id':'user'}, inplace=False)\n",
    "df_users_clean.shape"
   ]
  },
  {
   "cell_type": "code",
   "execution_count": 11,
   "metadata": {
    "id": "FmP8jIxvjlLP"
   },
   "outputs": [
    {
     "data": {
      "text/plain": [
       "(3277929, 5)"
      ]
     },
     "execution_count": 11,
     "metadata": {},
     "output_type": "execute_result"
    }
   ],
   "source": [
    "# logon user clean\n",
    "df_logon_users = pd.merge(df_logon, df_users_clean, on = 'user')\n",
    "df_logon_users_clean = df_logon_users.drop(columns=['functional_unit', 'department'])\n",
    "df_logon_users_clean.shape"
   ]
  },
  {
   "cell_type": "code",
   "execution_count": 12,
   "metadata": {
    "id": "UrMWJ9HxkND6"
   },
   "outputs": [
    {
     "data": {
      "text/plain": [
       "(1864450, 5)"
      ]
     },
     "execution_count": 12,
     "metadata": {},
     "output_type": "execute_result"
    }
   ],
   "source": [
    "# device user clean\n",
    "df_device_users = pd.merge(df_device, df_users_clean, on='user')\n",
    "df_device_users_clean = df_device_users.drop(columns=['functional_unit','department'])\n",
    "df_device_users_clean.shape"
   ]
  },
  {
   "cell_type": "code",
   "execution_count": 13,
   "metadata": {
    "id": "Dxe2BR0Xl63k"
   },
   "outputs": [
    {
     "data": {
      "text/plain": [
       "(2347631, 6)"
      ]
     },
     "execution_count": 13,
     "metadata": {},
     "output_type": "execute_result"
    }
   ],
   "source": [
    "# file user clean\n",
    "df_file_users = pd.merge(df_file, df_users_clean, on = 'user')\n",
    "df_file_users_clean = df_file_users.drop(columns = ['functional_unit', 'department'])\n",
    "df_file_users_clean.shape"
   ]
  },
  {
   "cell_type": "code",
   "execution_count": 14,
   "metadata": {
    "id": "MDykw7I_mSgi"
   },
   "outputs": [
    {
     "data": {
      "text/plain": [
       "(3991, 7)"
      ]
     },
     "execution_count": 14,
     "metadata": {},
     "output_type": "execute_result"
    }
   ],
   "source": [
    "# psychometric users clean\n",
    "df_psychometric_users = pd.merge(df_psychometric, df_users, on = 'user_id')\n",
    "df_psychometric_users_clean = df_psychometric_users[['employee_name', 'user_id','O', 'C', 'E','A','N']]\n",
    "df_psychometric_users_clean.shape"
   ]
  },
  {
   "cell_type": "markdown",
   "metadata": {},
   "source": [
    "### Section - 03 : Feature Engineering"
   ]
  },
  {
   "cell_type": "code",
   "execution_count": 15,
   "metadata": {
    "id": "bGx9ZX5wnlxv"
   },
   "outputs": [],
   "source": [
    "#parsing date column to datetime\n",
    "df_logon_users_clean['date'] = pd.to_datetime(df_logon_users_clean['date'])"
   ]
  },
  {
   "cell_type": "code",
   "execution_count": 16,
   "metadata": {
    "id": "nXDsqIadn6yv"
   },
   "outputs": [
    {
     "data": {
      "text/html": [
       "<div>\n",
       "<style scoped>\n",
       "    .dataframe tbody tr th:only-of-type {\n",
       "        vertical-align: middle;\n",
       "    }\n",
       "\n",
       "    .dataframe tbody tr th {\n",
       "        vertical-align: top;\n",
       "    }\n",
       "\n",
       "    .dataframe thead th {\n",
       "        text-align: right;\n",
       "    }\n",
       "</style>\n",
       "<table border=\"1\" class=\"dataframe\">\n",
       "  <thead>\n",
       "    <tr style=\"text-align: right;\">\n",
       "      <th></th>\n",
       "      <th>id</th>\n",
       "      <th>date</th>\n",
       "      <th>user</th>\n",
       "      <th>pc</th>\n",
       "      <th>activity</th>\n",
       "      <th>time</th>\n",
       "    </tr>\n",
       "  </thead>\n",
       "  <tbody>\n",
       "    <tr>\n",
       "      <th>0</th>\n",
       "      <td>{D5B1-I6BP26NF-3845HZNZ}</td>\n",
       "      <td>2010-01-01 07:23:00</td>\n",
       "      <td>WXW0044</td>\n",
       "      <td>PC-9422</td>\n",
       "      <td>Logon</td>\n",
       "      <td>07:23:00</td>\n",
       "    </tr>\n",
       "    <tr>\n",
       "      <th>1</th>\n",
       "      <td>{D5B1-I6BP26NF-3845HZNZ}</td>\n",
       "      <td>2010-01-01 07:23:00</td>\n",
       "      <td>WXW0044</td>\n",
       "      <td>PC-9422</td>\n",
       "      <td>Logon</td>\n",
       "      <td>07:23:00</td>\n",
       "    </tr>\n",
       "    <tr>\n",
       "      <th>2</th>\n",
       "      <td>{D5B1-I6BP26NF-3845HZNZ}</td>\n",
       "      <td>2010-01-01 07:23:00</td>\n",
       "      <td>WXW0044</td>\n",
       "      <td>PC-9422</td>\n",
       "      <td>Logon</td>\n",
       "      <td>07:23:00</td>\n",
       "    </tr>\n",
       "    <tr>\n",
       "      <th>3</th>\n",
       "      <td>{D5B1-I6BP26NF-3845HZNZ}</td>\n",
       "      <td>2010-01-01 07:23:00</td>\n",
       "      <td>WXW0044</td>\n",
       "      <td>PC-9422</td>\n",
       "      <td>Logon</td>\n",
       "      <td>07:23:00</td>\n",
       "    </tr>\n",
       "    <tr>\n",
       "      <th>4</th>\n",
       "      <td>{D5B1-I6BP26NF-3845HZNZ}</td>\n",
       "      <td>2010-01-01 07:23:00</td>\n",
       "      <td>WXW0044</td>\n",
       "      <td>PC-9422</td>\n",
       "      <td>Logon</td>\n",
       "      <td>07:23:00</td>\n",
       "    </tr>\n",
       "  </tbody>\n",
       "</table>\n",
       "</div>"
      ],
      "text/plain": [
       "                         id                date     user       pc activity  \\\n",
       "0  {D5B1-I6BP26NF-3845HZNZ} 2010-01-01 07:23:00  WXW0044  PC-9422    Logon   \n",
       "1  {D5B1-I6BP26NF-3845HZNZ} 2010-01-01 07:23:00  WXW0044  PC-9422    Logon   \n",
       "2  {D5B1-I6BP26NF-3845HZNZ} 2010-01-01 07:23:00  WXW0044  PC-9422    Logon   \n",
       "3  {D5B1-I6BP26NF-3845HZNZ} 2010-01-01 07:23:00  WXW0044  PC-9422    Logon   \n",
       "4  {D5B1-I6BP26NF-3845HZNZ} 2010-01-01 07:23:00  WXW0044  PC-9422    Logon   \n",
       "\n",
       "       time  \n",
       "0  07:23:00  \n",
       "1  07:23:00  \n",
       "2  07:23:00  \n",
       "3  07:23:00  \n",
       "4  07:23:00  "
      ]
     },
     "metadata": {},
     "output_type": "display_data"
    }
   ],
   "source": [
    "# extract the time from date column add and store in a new column\n",
    "df_logon_users_clean['time'] = df_logon_users_clean['date'].dt.time\n",
    "display(df_logon_users_clean.head())"
   ]
  },
  {
   "cell_type": "code",
   "execution_count": 17,
   "metadata": {
    "id": "B84oChzUo4Zf"
   },
   "outputs": [
    {
     "data": {
      "text/html": [
       "<div>\n",
       "<style scoped>\n",
       "    .dataframe tbody tr th:only-of-type {\n",
       "        vertical-align: middle;\n",
       "    }\n",
       "\n",
       "    .dataframe tbody tr th {\n",
       "        vertical-align: top;\n",
       "    }\n",
       "\n",
       "    .dataframe thead th {\n",
       "        text-align: right;\n",
       "    }\n",
       "</style>\n",
       "<table border=\"1\" class=\"dataframe\">\n",
       "  <thead>\n",
       "    <tr style=\"text-align: right;\">\n",
       "      <th></th>\n",
       "      <th>id</th>\n",
       "      <th>date</th>\n",
       "      <th>user</th>\n",
       "      <th>pc</th>\n",
       "      <th>activity</th>\n",
       "      <th>time</th>\n",
       "    </tr>\n",
       "  </thead>\n",
       "  <tbody>\n",
       "    <tr>\n",
       "      <th>0</th>\n",
       "      <td>{D5B1-I6BP26NF-3845HZNZ}</td>\n",
       "      <td>2010-01-01 07:23:00</td>\n",
       "      <td>WXW0044</td>\n",
       "      <td>PC-9422</td>\n",
       "      <td>Logon</td>\n",
       "      <td>07:23:00</td>\n",
       "    </tr>\n",
       "    <tr>\n",
       "      <th>1</th>\n",
       "      <td>{D5B1-I6BP26NF-3845HZNZ}</td>\n",
       "      <td>2010-01-01 07:23:00</td>\n",
       "      <td>WXW0044</td>\n",
       "      <td>PC-9422</td>\n",
       "      <td>Logon</td>\n",
       "      <td>07:23:00</td>\n",
       "    </tr>\n",
       "    <tr>\n",
       "      <th>2</th>\n",
       "      <td>{D5B1-I6BP26NF-3845HZNZ}</td>\n",
       "      <td>2010-01-01 07:23:00</td>\n",
       "      <td>WXW0044</td>\n",
       "      <td>PC-9422</td>\n",
       "      <td>Logon</td>\n",
       "      <td>07:23:00</td>\n",
       "    </tr>\n",
       "    <tr>\n",
       "      <th>3</th>\n",
       "      <td>{D5B1-I6BP26NF-3845HZNZ}</td>\n",
       "      <td>2010-01-01 07:23:00</td>\n",
       "      <td>WXW0044</td>\n",
       "      <td>PC-9422</td>\n",
       "      <td>Logon</td>\n",
       "      <td>07:23:00</td>\n",
       "    </tr>\n",
       "    <tr>\n",
       "      <th>4</th>\n",
       "      <td>{D5B1-I6BP26NF-3845HZNZ}</td>\n",
       "      <td>2010-01-01 07:23:00</td>\n",
       "      <td>WXW0044</td>\n",
       "      <td>PC-9422</td>\n",
       "      <td>Logon</td>\n",
       "      <td>07:23:00</td>\n",
       "    </tr>\n",
       "  </tbody>\n",
       "</table>\n",
       "</div>"
      ],
      "text/plain": [
       "                         id                date     user       pc activity  \\\n",
       "0  {D5B1-I6BP26NF-3845HZNZ} 2010-01-01 07:23:00  WXW0044  PC-9422    Logon   \n",
       "1  {D5B1-I6BP26NF-3845HZNZ} 2010-01-01 07:23:00  WXW0044  PC-9422    Logon   \n",
       "2  {D5B1-I6BP26NF-3845HZNZ} 2010-01-01 07:23:00  WXW0044  PC-9422    Logon   \n",
       "3  {D5B1-I6BP26NF-3845HZNZ} 2010-01-01 07:23:00  WXW0044  PC-9422    Logon   \n",
       "4  {D5B1-I6BP26NF-3845HZNZ} 2010-01-01 07:23:00  WXW0044  PC-9422    Logon   \n",
       "\n",
       "       time  \n",
       "0  07:23:00  \n",
       "1  07:23:00  \n",
       "2  07:23:00  \n",
       "3  07:23:00  \n",
       "4  07:23:00  "
      ]
     },
     "metadata": {},
     "output_type": "display_data"
    }
   ],
   "source": [
    "# Subsetting all records for 'Logon' activity\n",
    "df_user_logon = df_logon_users_clean.loc[df_logon_users_clean['activity'] == 'Logon']\n",
    "display(df_user_logon.head())"
   ]
  },
  {
   "cell_type": "code",
   "execution_count": 18,
   "metadata": {
    "colab": {
     "base_uri": "https://localhost:8080/"
    },
    "id": "sxUhfabzpc_l",
    "outputId": "5cc87d3c-9f15-46a6-cbe9-8a853a20040f"
   },
   "outputs": [
    {
     "name": "stderr",
     "output_type": "stream",
     "text": [
      "<ipython-input-18-cb58596d7ce4>:3: SettingWithCopyWarning: \n",
      "A value is trying to be set on a copy of a slice from a DataFrame.\n",
      "Try using .loc[row_indexer,col_indexer] = value instead\n",
      "\n",
      "See the caveats in the documentation: https://pandas.pydata.org/pandas-docs/stable/user_guide/indexing.html#returning-a-view-versus-a-copy\n",
      "  df_user_logon['hour'] = pd.to_datetime(df_user_logon['date'], format='%H:%M').dt.hour\n"
     ]
    },
    {
     "data": {
      "text/html": [
       "<div>\n",
       "<style scoped>\n",
       "    .dataframe tbody tr th:only-of-type {\n",
       "        vertical-align: middle;\n",
       "    }\n",
       "\n",
       "    .dataframe tbody tr th {\n",
       "        vertical-align: top;\n",
       "    }\n",
       "\n",
       "    .dataframe thead th {\n",
       "        text-align: right;\n",
       "    }\n",
       "</style>\n",
       "<table border=\"1\" class=\"dataframe\">\n",
       "  <thead>\n",
       "    <tr style=\"text-align: right;\">\n",
       "      <th></th>\n",
       "      <th>id</th>\n",
       "      <th>date</th>\n",
       "      <th>user</th>\n",
       "      <th>pc</th>\n",
       "      <th>activity</th>\n",
       "      <th>time</th>\n",
       "      <th>hour</th>\n",
       "    </tr>\n",
       "  </thead>\n",
       "  <tbody>\n",
       "    <tr>\n",
       "      <th>0</th>\n",
       "      <td>{D5B1-I6BP26NF-3845HZNZ}</td>\n",
       "      <td>2010-01-01 07:23:00</td>\n",
       "      <td>WXW0044</td>\n",
       "      <td>PC-9422</td>\n",
       "      <td>Logon</td>\n",
       "      <td>07:23:00</td>\n",
       "      <td>7</td>\n",
       "    </tr>\n",
       "    <tr>\n",
       "      <th>1</th>\n",
       "      <td>{D5B1-I6BP26NF-3845HZNZ}</td>\n",
       "      <td>2010-01-01 07:23:00</td>\n",
       "      <td>WXW0044</td>\n",
       "      <td>PC-9422</td>\n",
       "      <td>Logon</td>\n",
       "      <td>07:23:00</td>\n",
       "      <td>7</td>\n",
       "    </tr>\n",
       "    <tr>\n",
       "      <th>2</th>\n",
       "      <td>{D5B1-I6BP26NF-3845HZNZ}</td>\n",
       "      <td>2010-01-01 07:23:00</td>\n",
       "      <td>WXW0044</td>\n",
       "      <td>PC-9422</td>\n",
       "      <td>Logon</td>\n",
       "      <td>07:23:00</td>\n",
       "      <td>7</td>\n",
       "    </tr>\n",
       "    <tr>\n",
       "      <th>3</th>\n",
       "      <td>{D5B1-I6BP26NF-3845HZNZ}</td>\n",
       "      <td>2010-01-01 07:23:00</td>\n",
       "      <td>WXW0044</td>\n",
       "      <td>PC-9422</td>\n",
       "      <td>Logon</td>\n",
       "      <td>07:23:00</td>\n",
       "      <td>7</td>\n",
       "    </tr>\n",
       "    <tr>\n",
       "      <th>4</th>\n",
       "      <td>{D5B1-I6BP26NF-3845HZNZ}</td>\n",
       "      <td>2010-01-01 07:23:00</td>\n",
       "      <td>WXW0044</td>\n",
       "      <td>PC-9422</td>\n",
       "      <td>Logon</td>\n",
       "      <td>07:23:00</td>\n",
       "      <td>7</td>\n",
       "    </tr>\n",
       "  </tbody>\n",
       "</table>\n",
       "</div>"
      ],
      "text/plain": [
       "                         id                date     user       pc activity  \\\n",
       "0  {D5B1-I6BP26NF-3845HZNZ} 2010-01-01 07:23:00  WXW0044  PC-9422    Logon   \n",
       "1  {D5B1-I6BP26NF-3845HZNZ} 2010-01-01 07:23:00  WXW0044  PC-9422    Logon   \n",
       "2  {D5B1-I6BP26NF-3845HZNZ} 2010-01-01 07:23:00  WXW0044  PC-9422    Logon   \n",
       "3  {D5B1-I6BP26NF-3845HZNZ} 2010-01-01 07:23:00  WXW0044  PC-9422    Logon   \n",
       "4  {D5B1-I6BP26NF-3845HZNZ} 2010-01-01 07:23:00  WXW0044  PC-9422    Logon   \n",
       "\n",
       "       time  hour  \n",
       "0  07:23:00     7  \n",
       "1  07:23:00     7  \n",
       "2  07:23:00     7  \n",
       "3  07:23:00     7  \n",
       "4  07:23:00     7  "
      ]
     },
     "metadata": {},
     "output_type": "display_data"
    }
   ],
   "source": [
    "# add another column 'hour' for calculating mean Logon time \n",
    "# time column is an object type and cannot be used for calculating mean\n",
    "df_user_logon['hour'] = pd.to_datetime(df_user_logon['date'], format='%H:%M').dt.hour\n",
    "display(df_user_logon.head())"
   ]
  },
  {
   "cell_type": "code",
   "execution_count": 19,
   "metadata": {
    "id": "zI1fT9aEp7sJ"
   },
   "outputs": [],
   "source": [
    "# min and max login time of each user\n",
    "#user_logon_stats_1 = user_logon.groupby\n",
    "df_user_logon_stats = df_user_logon.groupby('user')['time'].agg([min,max]).reset_index()"
   ]
  },
  {
   "cell_type": "code",
   "execution_count": 20,
   "metadata": {
    "colab": {
     "base_uri": "https://localhost:8080/",
     "height": 419
    },
    "id": "52TbO_wfsBh1",
    "outputId": "9b6b1f98-8c33-4cc1-a0fd-755ea899b6d2"
   },
   "outputs": [
    {
     "data": {
      "text/html": [
       "<div>\n",
       "<style scoped>\n",
       "    .dataframe tbody tr th:only-of-type {\n",
       "        vertical-align: middle;\n",
       "    }\n",
       "\n",
       "    .dataframe tbody tr th {\n",
       "        vertical-align: top;\n",
       "    }\n",
       "\n",
       "    .dataframe thead th {\n",
       "        text-align: right;\n",
       "    }\n",
       "</style>\n",
       "<table border=\"1\" class=\"dataframe\">\n",
       "  <thead>\n",
       "    <tr style=\"text-align: right;\">\n",
       "      <th></th>\n",
       "      <th>id</th>\n",
       "      <th>date</th>\n",
       "      <th>user</th>\n",
       "      <th>pc</th>\n",
       "      <th>activity</th>\n",
       "      <th>time</th>\n",
       "      <th>hour</th>\n",
       "    </tr>\n",
       "  </thead>\n",
       "  <tbody>\n",
       "    <tr>\n",
       "      <th>0</th>\n",
       "      <td>{D5B1-I6BP26NF-3845HZNZ}</td>\n",
       "      <td>2010-01-01 07:23:00</td>\n",
       "      <td>WXW0044</td>\n",
       "      <td>PC-9422</td>\n",
       "      <td>Logon</td>\n",
       "      <td>07:23:00</td>\n",
       "      <td>7</td>\n",
       "    </tr>\n",
       "    <tr>\n",
       "      <th>1</th>\n",
       "      <td>{D5B1-I6BP26NF-3845HZNZ}</td>\n",
       "      <td>2010-01-01 07:23:00</td>\n",
       "      <td>WXW0044</td>\n",
       "      <td>PC-9422</td>\n",
       "      <td>Logon</td>\n",
       "      <td>07:23:00</td>\n",
       "      <td>7</td>\n",
       "    </tr>\n",
       "    <tr>\n",
       "      <th>2</th>\n",
       "      <td>{D5B1-I6BP26NF-3845HZNZ}</td>\n",
       "      <td>2010-01-01 07:23:00</td>\n",
       "      <td>WXW0044</td>\n",
       "      <td>PC-9422</td>\n",
       "      <td>Logon</td>\n",
       "      <td>07:23:00</td>\n",
       "      <td>7</td>\n",
       "    </tr>\n",
       "    <tr>\n",
       "      <th>3</th>\n",
       "      <td>{D5B1-I6BP26NF-3845HZNZ}</td>\n",
       "      <td>2010-01-01 07:23:00</td>\n",
       "      <td>WXW0044</td>\n",
       "      <td>PC-9422</td>\n",
       "      <td>Logon</td>\n",
       "      <td>07:23:00</td>\n",
       "      <td>7</td>\n",
       "    </tr>\n",
       "    <tr>\n",
       "      <th>4</th>\n",
       "      <td>{D5B1-I6BP26NF-3845HZNZ}</td>\n",
       "      <td>2010-01-01 07:23:00</td>\n",
       "      <td>WXW0044</td>\n",
       "      <td>PC-9422</td>\n",
       "      <td>Logon</td>\n",
       "      <td>07:23:00</td>\n",
       "      <td>7</td>\n",
       "    </tr>\n",
       "  </tbody>\n",
       "</table>\n",
       "</div>"
      ],
      "text/plain": [
       "                         id                date     user       pc activity  \\\n",
       "0  {D5B1-I6BP26NF-3845HZNZ} 2010-01-01 07:23:00  WXW0044  PC-9422    Logon   \n",
       "1  {D5B1-I6BP26NF-3845HZNZ} 2010-01-01 07:23:00  WXW0044  PC-9422    Logon   \n",
       "2  {D5B1-I6BP26NF-3845HZNZ} 2010-01-01 07:23:00  WXW0044  PC-9422    Logon   \n",
       "3  {D5B1-I6BP26NF-3845HZNZ} 2010-01-01 07:23:00  WXW0044  PC-9422    Logon   \n",
       "4  {D5B1-I6BP26NF-3845HZNZ} 2010-01-01 07:23:00  WXW0044  PC-9422    Logon   \n",
       "\n",
       "       time  hour  \n",
       "0  07:23:00     7  \n",
       "1  07:23:00     7  \n",
       "2  07:23:00     7  \n",
       "3  07:23:00     7  \n",
       "4  07:23:00     7  "
      ]
     },
     "metadata": {},
     "output_type": "display_data"
    }
   ],
   "source": [
    "df_user_logon_result = df_user_logon.groupby('user')['time'].agg(pd.Series.mode).reset_index()\n",
    "display(df_user_logon.head())"
   ]
  },
  {
   "cell_type": "code",
   "execution_count": 21,
   "metadata": {
    "id": "0jGuY1JbtKfB"
   },
   "outputs": [
    {
     "data": {
      "text/plain": [
       "(230, 2)"
      ]
     },
     "metadata": {},
     "output_type": "display_data"
    }
   ],
   "source": [
    "# To handle the multi-modal situation\n",
    "## value_counts arranged in descending order so you want to grab the index of the first row\n",
    "df_logon_mode = df_user_logon.groupby('user')['time'].agg(lambda x: x.value_counts().index[0]).reset_index()\n",
    "display(df_logon_mode.shape)"
   ]
  },
  {
   "cell_type": "code",
   "execution_count": 22,
   "metadata": {
    "id": "3iCK4Py10H_a"
   },
   "outputs": [
    {
     "data": {
      "text/html": [
       "<div>\n",
       "<style scoped>\n",
       "    .dataframe tbody tr th:only-of-type {\n",
       "        vertical-align: middle;\n",
       "    }\n",
       "\n",
       "    .dataframe tbody tr th {\n",
       "        vertical-align: top;\n",
       "    }\n",
       "\n",
       "    .dataframe thead th {\n",
       "        text-align: right;\n",
       "    }\n",
       "</style>\n",
       "<table border=\"1\" class=\"dataframe\">\n",
       "  <thead>\n",
       "    <tr style=\"text-align: right;\">\n",
       "      <th></th>\n",
       "      <th>user</th>\n",
       "      <th>hour</th>\n",
       "    </tr>\n",
       "  </thead>\n",
       "  <tbody>\n",
       "    <tr>\n",
       "      <th>0</th>\n",
       "      <td>AAN0077</td>\n",
       "      <td>07:00:00</td>\n",
       "    </tr>\n",
       "    <tr>\n",
       "      <th>1</th>\n",
       "      <td>AAW0103</td>\n",
       "      <td>07:00:00</td>\n",
       "    </tr>\n",
       "    <tr>\n",
       "      <th>2</th>\n",
       "      <td>ACE0265</td>\n",
       "      <td>08:00:00</td>\n",
       "    </tr>\n",
       "    <tr>\n",
       "      <th>3</th>\n",
       "      <td>ACL0394</td>\n",
       "      <td>09:00:00</td>\n",
       "    </tr>\n",
       "    <tr>\n",
       "      <th>4</th>\n",
       "      <td>ADR0362</td>\n",
       "      <td>07:00:00</td>\n",
       "    </tr>\n",
       "  </tbody>\n",
       "</table>\n",
       "</div>"
      ],
      "text/plain": [
       "      user      hour\n",
       "0  AAN0077  07:00:00\n",
       "1  AAW0103  07:00:00\n",
       "2  ACE0265  08:00:00\n",
       "3  ACL0394  09:00:00\n",
       "4  ADR0362  07:00:00"
      ]
     },
     "metadata": {},
     "output_type": "display_data"
    },
    {
     "data": {
      "text/plain": [
       "(230, 2)"
      ]
     },
     "metadata": {},
     "output_type": "display_data"
    }
   ],
   "source": [
    "# calculate average (mean) logon time for each user\n",
    "\n",
    "df_logon_mean = df_user_logon.groupby('user')['hour'].mean().reset_index()\n",
    "df_logon_mean['hour'].dtype\n",
    "df_logon_mean['hour'] = pd.to_datetime(df_logon_mean['hour'], format='%H').dt.time\n",
    "display(df_logon_mean.head())\n",
    "display(df_logon_mean.shape)"
   ]
  },
  {
   "cell_type": "code",
   "execution_count": 23,
   "metadata": {
    "id": "ixgjK-gfzTEl"
   },
   "outputs": [
    {
     "data": {
      "text/html": [
       "<div>\n",
       "<style scoped>\n",
       "    .dataframe tbody tr th:only-of-type {\n",
       "        vertical-align: middle;\n",
       "    }\n",
       "\n",
       "    .dataframe tbody tr th {\n",
       "        vertical-align: top;\n",
       "    }\n",
       "\n",
       "    .dataframe thead th {\n",
       "        text-align: right;\n",
       "    }\n",
       "</style>\n",
       "<table border=\"1\" class=\"dataframe\">\n",
       "  <thead>\n",
       "    <tr style=\"text-align: right;\">\n",
       "      <th></th>\n",
       "      <th>user</th>\n",
       "      <th>min</th>\n",
       "      <th>max</th>\n",
       "      <th>mode</th>\n",
       "      <th>mean</th>\n",
       "    </tr>\n",
       "  </thead>\n",
       "  <tbody>\n",
       "    <tr>\n",
       "      <th>0</th>\n",
       "      <td>AAN0077</td>\n",
       "      <td>07:45:00</td>\n",
       "      <td>08:13:00</td>\n",
       "      <td>08:13:00</td>\n",
       "      <td>07:00:00</td>\n",
       "    </tr>\n",
       "    <tr>\n",
       "      <th>1</th>\n",
       "      <td>AAW0103</td>\n",
       "      <td>07:00:00</td>\n",
       "      <td>07:18:00</td>\n",
       "      <td>07:15:00</td>\n",
       "      <td>07:00:00</td>\n",
       "    </tr>\n",
       "    <tr>\n",
       "      <th>2</th>\n",
       "      <td>ACE0265</td>\n",
       "      <td>08:00:00</td>\n",
       "      <td>08:25:00</td>\n",
       "      <td>08:15:00</td>\n",
       "      <td>08:00:00</td>\n",
       "    </tr>\n",
       "    <tr>\n",
       "      <th>3</th>\n",
       "      <td>ACL0394</td>\n",
       "      <td>09:00:00</td>\n",
       "      <td>16:52:37</td>\n",
       "      <td>09:15:00</td>\n",
       "      <td>09:00:00</td>\n",
       "    </tr>\n",
       "    <tr>\n",
       "      <th>4</th>\n",
       "      <td>ADR0362</td>\n",
       "      <td>07:30:00</td>\n",
       "      <td>07:48:00</td>\n",
       "      <td>07:48:00</td>\n",
       "      <td>07:00:00</td>\n",
       "    </tr>\n",
       "  </tbody>\n",
       "</table>\n",
       "</div>"
      ],
      "text/plain": [
       "      user       min       max      mode      mean\n",
       "0  AAN0077  07:45:00  08:13:00  08:13:00  07:00:00\n",
       "1  AAW0103  07:00:00  07:18:00  07:15:00  07:00:00\n",
       "2  ACE0265  08:00:00  08:25:00  08:15:00  08:00:00\n",
       "3  ACL0394  09:00:00  16:52:37  09:15:00  09:00:00\n",
       "4  ADR0362  07:30:00  07:48:00  07:48:00  07:00:00"
      ]
     },
     "metadata": {},
     "output_type": "display_data"
    },
    {
     "data": {
      "text/plain": [
       "(230, 5)"
      ]
     },
     "metadata": {},
     "output_type": "display_data"
    }
   ],
   "source": [
    "# Adding mode and mean data to user_logon_stats\n",
    "df_user_logon_stats['mode'] = df_logon_mode['time']\n",
    "df_user_logon_stats['mean'] = df_logon_mean['hour']\n",
    "display(df_user_logon_stats.head())\n",
    "display(df_user_logon_stats.shape)"
   ]
  },
  {
   "cell_type": "code",
   "execution_count": 24,
   "metadata": {
    "id": "CXRtENnN090y"
   },
   "outputs": [
    {
     "data": {
      "text/plain": [
       "(1455358, 6)"
      ]
     },
     "metadata": {},
     "output_type": "display_data"
    }
   ],
   "source": [
    "#for logoff activity\n",
    "df_user_logoff = df_logon_users_clean.loc[df_logon_users_clean['activity'] == 'Logoff']\n",
    "display(df_user_logoff.shape)"
   ]
  },
  {
   "cell_type": "code",
   "execution_count": 25,
   "metadata": {
    "colab": {
     "base_uri": "https://localhost:8080/"
    },
    "id": "kl2eWWO13BzE",
    "outputId": "be7e6723-48d7-4cdd-fc56-7ac9f49c2eba"
   },
   "outputs": [
    {
     "name": "stderr",
     "output_type": "stream",
     "text": [
      "<ipython-input-25-73cb9c414980>:1: SettingWithCopyWarning: \n",
      "A value is trying to be set on a copy of a slice from a DataFrame.\n",
      "Try using .loc[row_indexer,col_indexer] = value instead\n",
      "\n",
      "See the caveats in the documentation: https://pandas.pydata.org/pandas-docs/stable/user_guide/indexing.html#returning-a-view-versus-a-copy\n",
      "  df_user_logoff['date'] = pd.to_datetime(df_user_logoff['date'])\n",
      "<ipython-input-25-73cb9c414980>:2: SettingWithCopyWarning: \n",
      "A value is trying to be set on a copy of a slice from a DataFrame.\n",
      "Try using .loc[row_indexer,col_indexer] = value instead\n",
      "\n",
      "See the caveats in the documentation: https://pandas.pydata.org/pandas-docs/stable/user_guide/indexing.html#returning-a-view-versus-a-copy\n",
      "  df_user_logoff['time'] = df_user_logoff['date'].dt.time\n",
      "<ipython-input-25-73cb9c414980>:3: SettingWithCopyWarning: \n",
      "A value is trying to be set on a copy of a slice from a DataFrame.\n",
      "Try using .loc[row_indexer,col_indexer] = value instead\n",
      "\n",
      "See the caveats in the documentation: https://pandas.pydata.org/pandas-docs/stable/user_guide/indexing.html#returning-a-view-versus-a-copy\n",
      "  df_user_logoff['hour'] = pd.to_datetime(df_user_logoff['date'], format='%H:%M').dt.hour\n"
     ]
    },
    {
     "data": {
      "text/html": [
       "<div>\n",
       "<style scoped>\n",
       "    .dataframe tbody tr th:only-of-type {\n",
       "        vertical-align: middle;\n",
       "    }\n",
       "\n",
       "    .dataframe tbody tr th {\n",
       "        vertical-align: top;\n",
       "    }\n",
       "\n",
       "    .dataframe thead th {\n",
       "        text-align: right;\n",
       "    }\n",
       "</style>\n",
       "<table border=\"1\" class=\"dataframe\">\n",
       "  <thead>\n",
       "    <tr style=\"text-align: right;\">\n",
       "      <th></th>\n",
       "      <th>id</th>\n",
       "      <th>date</th>\n",
       "      <th>user</th>\n",
       "      <th>pc</th>\n",
       "      <th>activity</th>\n",
       "      <th>time</th>\n",
       "      <th>hour</th>\n",
       "    </tr>\n",
       "  </thead>\n",
       "  <tbody>\n",
       "    <tr>\n",
       "      <th>18</th>\n",
       "      <td>{Y4I4-U4IO24KV-8727TSIT}</td>\n",
       "      <td>2010-01-01 16:16:00</td>\n",
       "      <td>WXW0044</td>\n",
       "      <td>PC-9422</td>\n",
       "      <td>Logoff</td>\n",
       "      <td>16:16:00</td>\n",
       "      <td>16</td>\n",
       "    </tr>\n",
       "    <tr>\n",
       "      <th>19</th>\n",
       "      <td>{Y4I4-U4IO24KV-8727TSIT}</td>\n",
       "      <td>2010-01-01 16:16:00</td>\n",
       "      <td>WXW0044</td>\n",
       "      <td>PC-9422</td>\n",
       "      <td>Logoff</td>\n",
       "      <td>16:16:00</td>\n",
       "      <td>16</td>\n",
       "    </tr>\n",
       "    <tr>\n",
       "      <th>20</th>\n",
       "      <td>{Y4I4-U4IO24KV-8727TSIT}</td>\n",
       "      <td>2010-01-01 16:16:00</td>\n",
       "      <td>WXW0044</td>\n",
       "      <td>PC-9422</td>\n",
       "      <td>Logoff</td>\n",
       "      <td>16:16:00</td>\n",
       "      <td>16</td>\n",
       "    </tr>\n",
       "    <tr>\n",
       "      <th>21</th>\n",
       "      <td>{Y4I4-U4IO24KV-8727TSIT}</td>\n",
       "      <td>2010-01-01 16:16:00</td>\n",
       "      <td>WXW0044</td>\n",
       "      <td>PC-9422</td>\n",
       "      <td>Logoff</td>\n",
       "      <td>16:16:00</td>\n",
       "      <td>16</td>\n",
       "    </tr>\n",
       "    <tr>\n",
       "      <th>22</th>\n",
       "      <td>{Y4I4-U4IO24KV-8727TSIT}</td>\n",
       "      <td>2010-01-01 16:16:00</td>\n",
       "      <td>WXW0044</td>\n",
       "      <td>PC-9422</td>\n",
       "      <td>Logoff</td>\n",
       "      <td>16:16:00</td>\n",
       "      <td>16</td>\n",
       "    </tr>\n",
       "  </tbody>\n",
       "</table>\n",
       "</div>"
      ],
      "text/plain": [
       "                          id                date     user       pc activity  \\\n",
       "18  {Y4I4-U4IO24KV-8727TSIT} 2010-01-01 16:16:00  WXW0044  PC-9422   Logoff   \n",
       "19  {Y4I4-U4IO24KV-8727TSIT} 2010-01-01 16:16:00  WXW0044  PC-9422   Logoff   \n",
       "20  {Y4I4-U4IO24KV-8727TSIT} 2010-01-01 16:16:00  WXW0044  PC-9422   Logoff   \n",
       "21  {Y4I4-U4IO24KV-8727TSIT} 2010-01-01 16:16:00  WXW0044  PC-9422   Logoff   \n",
       "22  {Y4I4-U4IO24KV-8727TSIT} 2010-01-01 16:16:00  WXW0044  PC-9422   Logoff   \n",
       "\n",
       "        time  hour  \n",
       "18  16:16:00    16  \n",
       "19  16:16:00    16  \n",
       "20  16:16:00    16  \n",
       "21  16:16:00    16  \n",
       "22  16:16:00    16  "
      ]
     },
     "metadata": {},
     "output_type": "display_data"
    }
   ],
   "source": [
    "df_user_logoff['date'] = pd.to_datetime(df_user_logoff['date'])\n",
    "df_user_logoff['time'] = df_user_logoff['date'].dt.time\n",
    "df_user_logoff['hour'] = pd.to_datetime(df_user_logoff['date'], format='%H:%M').dt.hour\n",
    "display(df_user_logoff.head())"
   ]
  },
  {
   "cell_type": "code",
   "execution_count": 26,
   "metadata": {
    "id": "Drb_zZGC1oNv"
   },
   "outputs": [
    {
     "data": {
      "text/plain": [
       "(230, 3)"
      ]
     },
     "metadata": {},
     "output_type": "display_data"
    }
   ],
   "source": [
    "# min and max logoff time of each user\n",
    "df_user_logoff_stats = df_user_logoff.groupby('user')['time'].agg([min,max]).reset_index()\n",
    "display(df_user_logoff_stats.shape)"
   ]
  },
  {
   "cell_type": "code",
   "execution_count": 27,
   "metadata": {
    "colab": {
     "base_uri": "https://localhost:8080/",
     "height": 419
    },
    "id": "8LyVk1oa1aqJ",
    "outputId": "1f47cf02-c4d4-4b75-c83e-0762c544aaee"
   },
   "outputs": [
    {
     "data": {
      "text/plain": [
       "(230, 2)"
      ]
     },
     "metadata": {},
     "output_type": "display_data"
    }
   ],
   "source": [
    "#mode logoff time for each user\n",
    "df_user_logoff.groupby('user')['time'].agg(pd.Series.mode).reset_index()\n",
    "\n",
    "## value_counts arranged in descending order so you want to grab the index of the first row\n",
    "df_logoff_mode = df_user_logoff.groupby('user')['time'].agg(lambda x: x.value_counts().index[0]).reset_index()\n",
    "display(df_logoff_mode.shape)"
   ]
  },
  {
   "cell_type": "code",
   "execution_count": 28,
   "metadata": {
    "id": "mmY8MLkU4hEy"
   },
   "outputs": [
    {
     "data": {
      "text/plain": [
       "(230, 2)"
      ]
     },
     "metadata": {},
     "output_type": "display_data"
    }
   ],
   "source": [
    "# Calculate mean logff\n",
    "df_logoff_mean = df_user_logoff.groupby('user')['hour'].mean().reset_index()\n",
    "df_logoff_mean['hour'] = df_logoff_mean['hour'].astype(int)\n",
    "df_logoff_mean['hour'] = pd.to_datetime(df_logoff_mean['hour'], format='%H').dt.time\n",
    "display(df_logoff_mean.shape)"
   ]
  },
  {
   "cell_type": "code",
   "execution_count": 29,
   "metadata": {
    "id": "O5sgWyir5stO"
   },
   "outputs": [
    {
     "data": {
      "text/plain": [
       "(230, 5)"
      ]
     },
     "metadata": {},
     "output_type": "display_data"
    },
    {
     "data": {
      "text/html": [
       "<div>\n",
       "<style scoped>\n",
       "    .dataframe tbody tr th:only-of-type {\n",
       "        vertical-align: middle;\n",
       "    }\n",
       "\n",
       "    .dataframe tbody tr th {\n",
       "        vertical-align: top;\n",
       "    }\n",
       "\n",
       "    .dataframe thead th {\n",
       "        text-align: right;\n",
       "    }\n",
       "</style>\n",
       "<table border=\"1\" class=\"dataframe\">\n",
       "  <thead>\n",
       "    <tr style=\"text-align: right;\">\n",
       "      <th></th>\n",
       "      <th>user</th>\n",
       "      <th>min</th>\n",
       "      <th>max</th>\n",
       "      <th>mode</th>\n",
       "      <th>mean</th>\n",
       "    </tr>\n",
       "  </thead>\n",
       "  <tbody>\n",
       "    <tr>\n",
       "      <th>0</th>\n",
       "      <td>AAN0077</td>\n",
       "      <td>16:47:00</td>\n",
       "      <td>17:15:00</td>\n",
       "      <td>16:56:00</td>\n",
       "      <td>16:00:00</td>\n",
       "    </tr>\n",
       "    <tr>\n",
       "      <th>1</th>\n",
       "      <td>AAW0103</td>\n",
       "      <td>16:12:00</td>\n",
       "      <td>16:30:00</td>\n",
       "      <td>16:14:00</td>\n",
       "      <td>16:00:00</td>\n",
       "    </tr>\n",
       "    <tr>\n",
       "      <th>2</th>\n",
       "      <td>ACE0265</td>\n",
       "      <td>16:05:00</td>\n",
       "      <td>16:30:00</td>\n",
       "      <td>16:06:00</td>\n",
       "      <td>16:00:00</td>\n",
       "    </tr>\n",
       "    <tr>\n",
       "      <th>3</th>\n",
       "      <td>ACL0394</td>\n",
       "      <td>09:13:55</td>\n",
       "      <td>17:30:00</td>\n",
       "      <td>17:15:00</td>\n",
       "      <td>16:00:00</td>\n",
       "    </tr>\n",
       "    <tr>\n",
       "      <th>4</th>\n",
       "      <td>ADR0362</td>\n",
       "      <td>16:42:00</td>\n",
       "      <td>17:00:00</td>\n",
       "      <td>16:45:00</td>\n",
       "      <td>16:00:00</td>\n",
       "    </tr>\n",
       "  </tbody>\n",
       "</table>\n",
       "</div>"
      ],
      "text/plain": [
       "      user       min       max      mode      mean\n",
       "0  AAN0077  16:47:00  17:15:00  16:56:00  16:00:00\n",
       "1  AAW0103  16:12:00  16:30:00  16:14:00  16:00:00\n",
       "2  ACE0265  16:05:00  16:30:00  16:06:00  16:00:00\n",
       "3  ACL0394  09:13:55  17:30:00  17:15:00  16:00:00\n",
       "4  ADR0362  16:42:00  17:00:00  16:45:00  16:00:00"
      ]
     },
     "metadata": {},
     "output_type": "display_data"
    }
   ],
   "source": [
    "# Adding mode and mean data to user_logoff_stats\n",
    "df_user_logoff_stats['mode'] = df_logoff_mode['time']\n",
    "df_user_logoff_stats['mean'] = df_logoff_mean['hour']\n",
    "display(df_user_logoff_stats.shape)\n",
    "display(df_user_logoff_stats.head())"
   ]
  },
  {
   "cell_type": "markdown",
   "metadata": {},
   "source": [
    "### Device Feature Engineering"
   ]
  },
  {
   "cell_type": "code",
   "execution_count": 30,
   "metadata": {
    "id": "EmyBAKEu6ccc"
   },
   "outputs": [
    {
     "data": {
      "text/plain": [
       "(1864450, 6)"
      ]
     },
     "metadata": {},
     "output_type": "display_data"
    }
   ],
   "source": [
    "# extract time from date column and mutate a new column\n",
    "df_device_users_clean['time'] = pd.to_datetime(df_device_users_clean['date']).dt.time\n",
    "display(df_device_users_clean.shape)"
   ]
  },
  {
   "cell_type": "code",
   "execution_count": 31,
   "metadata": {
    "id": "w7HH2UEDEusT"
   },
   "outputs": [
    {
     "data": {
      "text/plain": [
       "(942901, 6)"
      ]
     },
     "metadata": {},
     "output_type": "display_data"
    },
    {
     "data": {
      "text/plain": [
       "(921549, 6)"
      ]
     },
     "metadata": {},
     "output_type": "display_data"
    }
   ],
   "source": [
    "# Subset records of Connect & Diconnect activities\n",
    "df_device_conn = df_device_users_clean.loc[df_device_users_clean['activity'] == 'Connect']\n",
    "df_device_disconn = df_device_users_clean.loc[df_device_users_clean['activity'] == 'Disconnect']\n",
    "display(df_device_conn.shape)\n",
    "display(df_device_disconn.shape)"
   ]
  },
  {
   "cell_type": "code",
   "execution_count": 32,
   "metadata": {
    "id": "pDo0AygbFk-T"
   },
   "outputs": [
    {
     "data": {
      "text/html": [
       "<div>\n",
       "<style scoped>\n",
       "    .dataframe tbody tr th:only-of-type {\n",
       "        vertical-align: middle;\n",
       "    }\n",
       "\n",
       "    .dataframe tbody tr th {\n",
       "        vertical-align: top;\n",
       "    }\n",
       "\n",
       "    .dataframe thead th {\n",
       "        text-align: right;\n",
       "    }\n",
       "</style>\n",
       "<table border=\"1\" class=\"dataframe\">\n",
       "  <thead>\n",
       "    <tr style=\"text-align: right;\">\n",
       "      <th></th>\n",
       "      <th>user</th>\n",
       "      <th>min</th>\n",
       "      <th>max</th>\n",
       "    </tr>\n",
       "  </thead>\n",
       "  <tbody>\n",
       "    <tr>\n",
       "      <th>0</th>\n",
       "      <td>AJQ0376</td>\n",
       "      <td>08:26:41</td>\n",
       "      <td>19:04:54</td>\n",
       "    </tr>\n",
       "    <tr>\n",
       "      <th>1</th>\n",
       "      <td>AJR0231</td>\n",
       "      <td>07:31:40</td>\n",
       "      <td>15:48:38</td>\n",
       "    </tr>\n",
       "    <tr>\n",
       "      <th>2</th>\n",
       "      <td>AOD0066</td>\n",
       "      <td>07:41:33</td>\n",
       "      <td>15:31:35</td>\n",
       "    </tr>\n",
       "    <tr>\n",
       "      <th>3</th>\n",
       "      <td>ARH0777</td>\n",
       "      <td>07:42:36</td>\n",
       "      <td>16:34:49</td>\n",
       "    </tr>\n",
       "    <tr>\n",
       "      <th>4</th>\n",
       "      <td>BCP0247</td>\n",
       "      <td>01:21:10</td>\n",
       "      <td>23:32:44</td>\n",
       "    </tr>\n",
       "  </tbody>\n",
       "</table>\n",
       "</div>"
      ],
      "text/plain": [
       "      user       min       max\n",
       "0  AJQ0376  08:26:41  19:04:54\n",
       "1  AJR0231  07:31:40  15:48:38\n",
       "2  AOD0066  07:41:33  15:31:35\n",
       "3  ARH0777  07:42:36  16:34:49\n",
       "4  BCP0247  01:21:10  23:32:44"
      ]
     },
     "metadata": {},
     "output_type": "display_data"
    }
   ],
   "source": [
    "# min max time for connect for each user\n",
    "df_device_conn_stats = df_device_conn.groupby('user')['time'].agg([min, max]).reset_index()\n",
    "display(df_device_conn_stats.head())"
   ]
  },
  {
   "cell_type": "code",
   "execution_count": 33,
   "metadata": {
    "id": "9IXkVIHgF2iT"
   },
   "outputs": [],
   "source": [
    "#\n",
    "df_device_conn_stats_1 = df_device_conn.groupby('user')"
   ]
  },
  {
   "cell_type": "code",
   "execution_count": 34,
   "metadata": {
    "id": "fQGY5MkTGIyG"
   },
   "outputs": [],
   "source": [
    "## for mode: multimodel issue\n",
    "df_conn_mode = df_device_conn.groupby('user')['time'].agg(lambda x: x.value_counts().index[0]).reset_index()"
   ]
  },
  {
   "cell_type": "code",
   "execution_count": 35,
   "metadata": {
    "colab": {
     "base_uri": "https://localhost:8080/"
    },
    "id": "zxgMmpZ5GhV7",
    "outputId": "876a85ac-0f68-4b6c-f616-59232705caa8"
   },
   "outputs": [
    {
     "name": "stderr",
     "output_type": "stream",
     "text": [
      "<ipython-input-35-7284846e181d>:3: SettingWithCopyWarning: \n",
      "A value is trying to be set on a copy of a slice from a DataFrame.\n",
      "Try using .loc[row_indexer,col_indexer] = value instead\n",
      "\n",
      "See the caveats in the documentation: https://pandas.pydata.org/pandas-docs/stable/user_guide/indexing.html#returning-a-view-versus-a-copy\n",
      "  df_device_conn['hour'] = pd.to_datetime(df_device_conn['date']).dt.hour\n"
     ]
    },
    {
     "data": {
      "text/html": [
       "<div>\n",
       "<style scoped>\n",
       "    .dataframe tbody tr th:only-of-type {\n",
       "        vertical-align: middle;\n",
       "    }\n",
       "\n",
       "    .dataframe tbody tr th {\n",
       "        vertical-align: top;\n",
       "    }\n",
       "\n",
       "    .dataframe thead th {\n",
       "        text-align: right;\n",
       "    }\n",
       "</style>\n",
       "<table border=\"1\" class=\"dataframe\">\n",
       "  <thead>\n",
       "    <tr style=\"text-align: right;\">\n",
       "      <th></th>\n",
       "      <th>id</th>\n",
       "      <th>date</th>\n",
       "      <th>user</th>\n",
       "      <th>pc</th>\n",
       "      <th>activity</th>\n",
       "      <th>time</th>\n",
       "      <th>hour</th>\n",
       "    </tr>\n",
       "  </thead>\n",
       "  <tbody>\n",
       "    <tr>\n",
       "      <th>0</th>\n",
       "      <td>{U7O7-D2ZJ25RP-9120NPLP}</td>\n",
       "      <td>01/01/2010 08:02:14</td>\n",
       "      <td>WXW0044</td>\n",
       "      <td>PC-9422</td>\n",
       "      <td>Connect</td>\n",
       "      <td>08:02:14</td>\n",
       "      <td>8</td>\n",
       "    </tr>\n",
       "    <tr>\n",
       "      <th>1</th>\n",
       "      <td>{U7O7-D2ZJ25RP-9120NPLP}</td>\n",
       "      <td>01/01/2010 08:02:14</td>\n",
       "      <td>WXW0044</td>\n",
       "      <td>PC-9422</td>\n",
       "      <td>Connect</td>\n",
       "      <td>08:02:14</td>\n",
       "      <td>8</td>\n",
       "    </tr>\n",
       "    <tr>\n",
       "      <th>2</th>\n",
       "      <td>{U7O7-D2ZJ25RP-9120NPLP}</td>\n",
       "      <td>01/01/2010 08:02:14</td>\n",
       "      <td>WXW0044</td>\n",
       "      <td>PC-9422</td>\n",
       "      <td>Connect</td>\n",
       "      <td>08:02:14</td>\n",
       "      <td>8</td>\n",
       "    </tr>\n",
       "    <tr>\n",
       "      <th>3</th>\n",
       "      <td>{U7O7-D2ZJ25RP-9120NPLP}</td>\n",
       "      <td>01/01/2010 08:02:14</td>\n",
       "      <td>WXW0044</td>\n",
       "      <td>PC-9422</td>\n",
       "      <td>Connect</td>\n",
       "      <td>08:02:14</td>\n",
       "      <td>8</td>\n",
       "    </tr>\n",
       "    <tr>\n",
       "      <th>4</th>\n",
       "      <td>{U7O7-D2ZJ25RP-9120NPLP}</td>\n",
       "      <td>01/01/2010 08:02:14</td>\n",
       "      <td>WXW0044</td>\n",
       "      <td>PC-9422</td>\n",
       "      <td>Connect</td>\n",
       "      <td>08:02:14</td>\n",
       "      <td>8</td>\n",
       "    </tr>\n",
       "  </tbody>\n",
       "</table>\n",
       "</div>"
      ],
      "text/plain": [
       "                         id                 date     user       pc activity  \\\n",
       "0  {U7O7-D2ZJ25RP-9120NPLP}  01/01/2010 08:02:14  WXW0044  PC-9422  Connect   \n",
       "1  {U7O7-D2ZJ25RP-9120NPLP}  01/01/2010 08:02:14  WXW0044  PC-9422  Connect   \n",
       "2  {U7O7-D2ZJ25RP-9120NPLP}  01/01/2010 08:02:14  WXW0044  PC-9422  Connect   \n",
       "3  {U7O7-D2ZJ25RP-9120NPLP}  01/01/2010 08:02:14  WXW0044  PC-9422  Connect   \n",
       "4  {U7O7-D2ZJ25RP-9120NPLP}  01/01/2010 08:02:14  WXW0044  PC-9422  Connect   \n",
       "\n",
       "       time  hour  \n",
       "0  08:02:14     8  \n",
       "1  08:02:14     8  \n",
       "2  08:02:14     8  \n",
       "3  08:02:14     8  \n",
       "4  08:02:14     8  "
      ]
     },
     "metadata": {},
     "output_type": "display_data"
    }
   ],
   "source": [
    "# Add extract hour and add a new column to device_conn in order to calculate average 'connect' time\n",
    "\n",
    "df_device_conn['hour'] = pd.to_datetime(df_device_conn['date']).dt.hour\n",
    "display(df_device_conn.head())"
   ]
  },
  {
   "cell_type": "code",
   "execution_count": 36,
   "metadata": {
    "id": "73pQhz86GwYe"
   },
   "outputs": [
    {
     "data": {
      "text/plain": [
       "(47, 2)"
      ]
     },
     "metadata": {},
     "output_type": "display_data"
    }
   ],
   "source": [
    "# mean 'connect'\n",
    "df_conn_mean = df_device_conn.groupby('user')['hour'].mean().reset_index()\n",
    "df_conn_mean['hour'] = df_conn_mean['hour'].astype(int)\n",
    "df_conn_mean['hour'] = pd.to_datetime(df_conn_mean['hour'],format=\"%H\").dt.time\n",
    "display(df_conn_mean.shape)"
   ]
  },
  {
   "cell_type": "code",
   "execution_count": 37,
   "metadata": {
    "id": "bT2HqZgFHZgg"
   },
   "outputs": [],
   "source": [
    "# Add mode and mean to device_conn_stats\n",
    "df_device_conn_stats['mode'] = df_conn_mode['time']\n",
    "df_device_conn_stats['mean'] = df_conn_mean['hour']"
   ]
  },
  {
   "cell_type": "code",
   "execution_count": 38,
   "metadata": {
    "id": "SfIGvVXcHvgH"
   },
   "outputs": [
    {
     "data": {
      "text/plain": [
       "(47, 3)"
      ]
     },
     "metadata": {},
     "output_type": "display_data"
    }
   ],
   "source": [
    "#Device Disconnect Record\n",
    "df_device_disconn_stats = df_device_disconn.groupby('user')['time'].agg([min,max]).reset_index()\n",
    "display(df_device_disconn_stats.shape)"
   ]
  },
  {
   "cell_type": "code",
   "execution_count": 39,
   "metadata": {
    "id": "uV4V2DK4IC2Q"
   },
   "outputs": [
    {
     "data": {
      "text/plain": [
       "(47, 2)"
      ]
     },
     "metadata": {},
     "output_type": "display_data"
    }
   ],
   "source": [
    "##correction below\n",
    "df_dconn_mode = df_device_disconn.groupby('user')['time'].agg(lambda x: x.value_counts().index[0]).reset_index()\n",
    "display(df_dconn_mode.shape)"
   ]
  },
  {
   "cell_type": "code",
   "execution_count": 40,
   "metadata": {
    "colab": {
     "base_uri": "https://localhost:8080/"
    },
    "id": "x7XYhgqQIMdl",
    "outputId": "78473dd1-904c-49b7-99b4-9115016a20c5"
   },
   "outputs": [
    {
     "name": "stderr",
     "output_type": "stream",
     "text": [
      "<ipython-input-40-e7d4e50544a6>:2: SettingWithCopyWarning: \n",
      "A value is trying to be set on a copy of a slice from a DataFrame.\n",
      "Try using .loc[row_indexer,col_indexer] = value instead\n",
      "\n",
      "See the caveats in the documentation: https://pandas.pydata.org/pandas-docs/stable/user_guide/indexing.html#returning-a-view-versus-a-copy\n",
      "  df_device_disconn['hour'] = pd.to_datetime(df_device_disconn['date']).dt.hour\n"
     ]
    },
    {
     "data": {
      "text/plain": [
       "(921549, 7)"
      ]
     },
     "metadata": {},
     "output_type": "display_data"
    }
   ],
   "source": [
    "# Extracting hour and adding hour column to calculate average time in device_disconn\n",
    "df_device_disconn['hour'] = pd.to_datetime(df_device_disconn['date']).dt.hour\n",
    "display(df_device_disconn.shape)"
   ]
  },
  {
   "cell_type": "code",
   "execution_count": 41,
   "metadata": {
    "id": "kqT1HiLmIS70"
   },
   "outputs": [
    {
     "data": {
      "text/plain": [
       "(47, 2)"
      ]
     },
     "metadata": {},
     "output_type": "display_data"
    }
   ],
   "source": [
    "df_dconn_mean = df_device_disconn.groupby('user')['hour'].mean().reset_index()\n",
    "df_dconn_mean['hour'] = df_dconn_mean['hour'].astype(int)\n",
    "df_dconn_mean['hour'] = pd.to_datetime(df_dconn_mean['hour'], format='%H').dt.time\n",
    "display(df_dconn_mean.shape)"
   ]
  },
  {
   "cell_type": "code",
   "execution_count": 42,
   "metadata": {
    "id": "i6JMKE4zId9F"
   },
   "outputs": [],
   "source": [
    "# Adding mode and mean to device_disconn_stats\n",
    "\n",
    "df_device_disconn_stats['mode'] = df_dconn_mode['time']\n",
    "df_device_disconn_stats['mean'] = df_dconn_mean['hour']"
   ]
  },
  {
   "cell_type": "markdown",
   "metadata": {},
   "source": [
    "### File"
   ]
  },
  {
   "cell_type": "code",
   "execution_count": 43,
   "metadata": {
    "id": "4TRrm0ymIlC5"
   },
   "outputs": [
    {
     "data": {
      "text/plain": [
       "(2347631, 7)"
      ]
     },
     "metadata": {},
     "output_type": "display_data"
    }
   ],
   "source": [
    "# Extract date (day) and add a new column to calculate max and mode files copy pey day for each user\n",
    "# Each user has a normal number of files copy per day\n",
    "\n",
    "df_file_users_clean['date2'] = pd.to_datetime(df_file_users_clean['date']).dt.date\n",
    "display(df_file_users_clean.shape)"
   ]
  },
  {
   "cell_type": "code",
   "execution_count": 44,
   "metadata": {
    "id": "Pc0B1Eq4JZj5"
   },
   "outputs": [
    {
     "data": {
      "text/plain": [
       "(10617, 3)"
      ]
     },
     "metadata": {},
     "output_type": "display_data"
    }
   ],
   "source": [
    "# to figure out the number of files transfered by a single user per day\n",
    "\n",
    "df_files_per_day = df_file_users_clean.groupby(['user', 'date2']).size().reset_index()\n",
    "display(df_files_per_day.shape)"
   ]
  },
  {
   "cell_type": "code",
   "execution_count": 45,
   "metadata": {
    "id": "YYsENT9rJ2ao"
   },
   "outputs": [],
   "source": [
    "df_files_per_day.rename(columns={0:'transfers_per_day'}, inplace=True)"
   ]
  },
  {
   "cell_type": "code",
   "execution_count": 46,
   "metadata": {
    "id": "MeKOnj-_Ks_l"
   },
   "outputs": [
    {
     "data": {
      "text/plain": [
       "(47, 2)"
      ]
     },
     "metadata": {},
     "output_type": "display_data"
    }
   ],
   "source": [
    "# Max file transfers per day\n",
    "df_files_max_per_day = df_files_per_day.groupby('user')['transfers_per_day'].agg(max).reset_index()\n",
    "df_files_max_per_day.rename(columns={'transfers_per_day': \"max_transfers_per_user\"}, inplace=True)\n",
    "display(df_files_max_per_day.shape)"
   ]
  },
  {
   "cell_type": "code",
   "execution_count": 47,
   "metadata": {
    "id": "W7cV_ieELNji"
   },
   "outputs": [],
   "source": [
    "##problem of multi-modal records\n",
    "##to handle multi modal records, we do the following\n",
    "df_files_mode_per_day = df_files_per_day.groupby('user')['transfers_per_day'].agg(lambda x: x.value_counts().index[0]).reset_index()\n",
    "df_files_mode_per_day.rename(columns={'transfers_per_day': \"mode_transfers_per_user\"}, inplace=True)"
   ]
  },
  {
   "cell_type": "code",
   "execution_count": 48,
   "metadata": {
    "id": "jzmjcEa4L2Ff"
   },
   "outputs": [
    {
     "data": {
      "text/html": [
       "<div>\n",
       "<style scoped>\n",
       "    .dataframe tbody tr th:only-of-type {\n",
       "        vertical-align: middle;\n",
       "    }\n",
       "\n",
       "    .dataframe tbody tr th {\n",
       "        vertical-align: top;\n",
       "    }\n",
       "\n",
       "    .dataframe thead th {\n",
       "        text-align: right;\n",
       "    }\n",
       "</style>\n",
       "<table border=\"1\" class=\"dataframe\">\n",
       "  <thead>\n",
       "    <tr style=\"text-align: right;\">\n",
       "      <th></th>\n",
       "      <th>user</th>\n",
       "      <th>mode_transfers_per_user</th>\n",
       "    </tr>\n",
       "  </thead>\n",
       "  <tbody>\n",
       "    <tr>\n",
       "      <th>0</th>\n",
       "      <td>AJQ0376</td>\n",
       "      <td>486</td>\n",
       "    </tr>\n",
       "    <tr>\n",
       "      <th>1</th>\n",
       "      <td>AJR0231</td>\n",
       "      <td>90</td>\n",
       "    </tr>\n",
       "    <tr>\n",
       "      <th>2</th>\n",
       "      <td>AOD0066</td>\n",
       "      <td>30</td>\n",
       "    </tr>\n",
       "    <tr>\n",
       "      <th>3</th>\n",
       "      <td>ARH0777</td>\n",
       "      <td>36</td>\n",
       "    </tr>\n",
       "    <tr>\n",
       "      <th>4</th>\n",
       "      <td>BCP0247</td>\n",
       "      <td>54</td>\n",
       "    </tr>\n",
       "  </tbody>\n",
       "</table>\n",
       "</div>"
      ],
      "text/plain": [
       "      user  mode_transfers_per_user\n",
       "0  AJQ0376                      486\n",
       "1  AJR0231                       90\n",
       "2  AOD0066                       30\n",
       "3  ARH0777                       36\n",
       "4  BCP0247                       54"
      ]
     },
     "metadata": {},
     "output_type": "display_data"
    }
   ],
   "source": [
    "# file copy stats for each user\n",
    "df_files_stats = df_files_mode_per_day\n",
    "display(df_files_stats.head())"
   ]
  },
  {
   "cell_type": "code",
   "execution_count": 49,
   "metadata": {
    "id": "3oVaUVh2MUbE"
   },
   "outputs": [
    {
     "data": {
      "text/plain": [
       "(47, 3)"
      ]
     },
     "metadata": {},
     "output_type": "display_data"
    }
   ],
   "source": [
    "\n",
    "df_files_stats_new = pd.DataFrame()\n",
    "df_files_stats_new['user'] = df_files_stats['user']\n",
    "df_files_stats_new['mode_trasfers_per_user'] = df_files_stats['mode_transfers_per_user']\n",
    "df_files_stats_new['max_transfers_per_user'] = df_files_max_per_day['max_transfers_per_user']\n",
    "display(df_files_stats_new.shape)"
   ]
  },
  {
   "cell_type": "code",
   "execution_count": 50,
   "metadata": {
    "id": "IljqrEt2QYTD"
   },
   "outputs": [],
   "source": [
    "# #for user pc relation (tehi alxi lagne wala)\n",
    "# df_user_pc = df_logon_users_clean.groupby(['user','pc',]).agg(pc_visits_per_user_total = pd.NamedAgg(column = 'pc', aggfunc = 'count'))\n",
    "# df_user_pc.reset_index(level=1, inplace=True)\n",
    "# df_user_pc.reset_index(level=0, inplace=True)\n",
    "# df_user_pc['count'] = df_user_pc.groupby(['user'])['pc'].transform('nunique')\n",
    "# display(df_user_pc.shape)"
   ]
  },
  {
   "cell_type": "code",
   "execution_count": 51,
   "metadata": {},
   "outputs": [
    {
     "data": {
      "text/html": [
       "<div>\n",
       "<style scoped>\n",
       "    .dataframe tbody tr th:only-of-type {\n",
       "        vertical-align: middle;\n",
       "    }\n",
       "\n",
       "    .dataframe tbody tr th {\n",
       "        vertical-align: top;\n",
       "    }\n",
       "\n",
       "    .dataframe thead th {\n",
       "        text-align: right;\n",
       "    }\n",
       "</style>\n",
       "<table border=\"1\" class=\"dataframe\">\n",
       "  <thead>\n",
       "    <tr style=\"text-align: right;\">\n",
       "      <th></th>\n",
       "      <th></th>\n",
       "      <th>pc_visits_per_user_total</th>\n",
       "    </tr>\n",
       "    <tr>\n",
       "      <th>user</th>\n",
       "      <th>pc</th>\n",
       "      <th></th>\n",
       "    </tr>\n",
       "  </thead>\n",
       "  <tbody>\n",
       "    <tr>\n",
       "      <th>AAN0077</th>\n",
       "      <th>PC-9130</th>\n",
       "      <td>11560</td>\n",
       "    </tr>\n",
       "    <tr>\n",
       "      <th>AAW0103</th>\n",
       "      <th>PC-5914</th>\n",
       "      <td>12420</td>\n",
       "    </tr>\n",
       "    <tr>\n",
       "      <th>ACE0265</th>\n",
       "      <th>PC-2723</th>\n",
       "      <td>12420</td>\n",
       "    </tr>\n",
       "    <tr>\n",
       "      <th rowspan=\"2\" valign=\"top\">ACL0394</th>\n",
       "      <th>PC-6394</th>\n",
       "      <td>12420</td>\n",
       "    </tr>\n",
       "    <tr>\n",
       "      <th>PC-7496</th>\n",
       "      <td>972</td>\n",
       "    </tr>\n",
       "  </tbody>\n",
       "</table>\n",
       "</div>"
      ],
      "text/plain": [
       "                 pc_visits_per_user_total\n",
       "user    pc                               \n",
       "AAN0077 PC-9130                     11560\n",
       "AAW0103 PC-5914                     12420\n",
       "ACE0265 PC-2723                     12420\n",
       "ACL0394 PC-6394                     12420\n",
       "        PC-7496                       972"
      ]
     },
     "metadata": {},
     "output_type": "display_data"
    }
   ],
   "source": [
    "df_total_user_pc = df_logon_users_clean.groupby(['user','pc',]).agg(pc_visits_per_user_total = pd.NamedAgg(column = 'pc', aggfunc = 'count'))\n",
    "display(df_total_user_pc.head())"
   ]
  },
  {
   "cell_type": "code",
   "execution_count": 52,
   "metadata": {},
   "outputs": [
    {
     "data": {
      "text/html": [
       "<div>\n",
       "<style scoped>\n",
       "    .dataframe tbody tr th:only-of-type {\n",
       "        vertical-align: middle;\n",
       "    }\n",
       "\n",
       "    .dataframe tbody tr th {\n",
       "        vertical-align: top;\n",
       "    }\n",
       "\n",
       "    .dataframe thead th {\n",
       "        text-align: right;\n",
       "    }\n",
       "</style>\n",
       "<table border=\"1\" class=\"dataframe\">\n",
       "  <thead>\n",
       "    <tr style=\"text-align: right;\">\n",
       "      <th></th>\n",
       "      <th>user</th>\n",
       "      <th>pc</th>\n",
       "      <th>pc_visits_per_user_total</th>\n",
       "    </tr>\n",
       "  </thead>\n",
       "  <tbody>\n",
       "    <tr>\n",
       "      <th>0</th>\n",
       "      <td>AAN0077</td>\n",
       "      <td>PC-9130</td>\n",
       "      <td>11560</td>\n",
       "    </tr>\n",
       "    <tr>\n",
       "      <th>1</th>\n",
       "      <td>AAW0103</td>\n",
       "      <td>PC-5914</td>\n",
       "      <td>12420</td>\n",
       "    </tr>\n",
       "    <tr>\n",
       "      <th>2</th>\n",
       "      <td>ACE0265</td>\n",
       "      <td>PC-2723</td>\n",
       "      <td>12420</td>\n",
       "    </tr>\n",
       "    <tr>\n",
       "      <th>3</th>\n",
       "      <td>ACL0394</td>\n",
       "      <td>PC-6394</td>\n",
       "      <td>12420</td>\n",
       "    </tr>\n",
       "    <tr>\n",
       "      <th>4</th>\n",
       "      <td>ACL0394</td>\n",
       "      <td>PC-7496</td>\n",
       "      <td>972</td>\n",
       "    </tr>\n",
       "  </tbody>\n",
       "</table>\n",
       "</div>"
      ],
      "text/plain": [
       "      user       pc  pc_visits_per_user_total\n",
       "0  AAN0077  PC-9130                     11560\n",
       "1  AAW0103  PC-5914                     12420\n",
       "2  ACE0265  PC-2723                     12420\n",
       "3  ACL0394  PC-6394                     12420\n",
       "4  ACL0394  PC-7496                       972"
      ]
     },
     "metadata": {},
     "output_type": "display_data"
    }
   ],
   "source": [
    "df_total_user_pc.reset_index(level=1, inplace=True)\n",
    "df_total_user_pc.reset_index(level=0, inplace=True)\n",
    "display(df_total_user_pc.head())"
   ]
  },
  {
   "cell_type": "code",
   "execution_count": 53,
   "metadata": {},
   "outputs": [
    {
     "data": {
      "text/plain": [
       "230"
      ]
     },
     "metadata": {},
     "output_type": "display_data"
    }
   ],
   "source": [
    "display(len(df_total_user_pc.user.unique()))"
   ]
  },
  {
   "cell_type": "code",
   "execution_count": 54,
   "metadata": {},
   "outputs": [
    {
     "data": {
      "text/html": [
       "<div>\n",
       "<style scoped>\n",
       "    .dataframe tbody tr th:only-of-type {\n",
       "        vertical-align: middle;\n",
       "    }\n",
       "\n",
       "    .dataframe tbody tr th {\n",
       "        vertical-align: top;\n",
       "    }\n",
       "\n",
       "    .dataframe thead th {\n",
       "        text-align: right;\n",
       "    }\n",
       "</style>\n",
       "<table border=\"1\" class=\"dataframe\">\n",
       "  <thead>\n",
       "    <tr style=\"text-align: right;\">\n",
       "      <th></th>\n",
       "      <th>user</th>\n",
       "      <th>pc</th>\n",
       "      <th>pc_visits_per_user_total</th>\n",
       "      <th>count</th>\n",
       "    </tr>\n",
       "  </thead>\n",
       "  <tbody>\n",
       "    <tr>\n",
       "      <th>0</th>\n",
       "      <td>AAN0077</td>\n",
       "      <td>PC-9130</td>\n",
       "      <td>11560</td>\n",
       "      <td>1</td>\n",
       "    </tr>\n",
       "    <tr>\n",
       "      <th>1</th>\n",
       "      <td>AAW0103</td>\n",
       "      <td>PC-5914</td>\n",
       "      <td>12420</td>\n",
       "      <td>1</td>\n",
       "    </tr>\n",
       "    <tr>\n",
       "      <th>2</th>\n",
       "      <td>ACE0265</td>\n",
       "      <td>PC-2723</td>\n",
       "      <td>12420</td>\n",
       "      <td>1</td>\n",
       "    </tr>\n",
       "    <tr>\n",
       "      <th>3</th>\n",
       "      <td>ACL0394</td>\n",
       "      <td>PC-6394</td>\n",
       "      <td>12420</td>\n",
       "      <td>2</td>\n",
       "    </tr>\n",
       "    <tr>\n",
       "      <th>4</th>\n",
       "      <td>ACL0394</td>\n",
       "      <td>PC-7496</td>\n",
       "      <td>972</td>\n",
       "      <td>2</td>\n",
       "    </tr>\n",
       "    <tr>\n",
       "      <th>...</th>\n",
       "      <td>...</td>\n",
       "      <td>...</td>\n",
       "      <td>...</td>\n",
       "      <td>...</td>\n",
       "    </tr>\n",
       "    <tr>\n",
       "      <th>633</th>\n",
       "      <td>YJT0368</td>\n",
       "      <td>PC-4330</td>\n",
       "      <td>12420</td>\n",
       "      <td>2</td>\n",
       "    </tr>\n",
       "    <tr>\n",
       "      <th>634</th>\n",
       "      <td>YJT0368</td>\n",
       "      <td>PC-7496</td>\n",
       "      <td>540</td>\n",
       "      <td>2</td>\n",
       "    </tr>\n",
       "    <tr>\n",
       "      <th>635</th>\n",
       "      <td>YSB0779</td>\n",
       "      <td>PC-6341</td>\n",
       "      <td>15228</td>\n",
       "      <td>1</td>\n",
       "    </tr>\n",
       "    <tr>\n",
       "      <th>636</th>\n",
       "      <td>ZBL0379</td>\n",
       "      <td>PC-4473</td>\n",
       "      <td>21456</td>\n",
       "      <td>1</td>\n",
       "    </tr>\n",
       "    <tr>\n",
       "      <th>637</th>\n",
       "      <td>ZIF0269</td>\n",
       "      <td>PC-0265</td>\n",
       "      <td>12420</td>\n",
       "      <td>1</td>\n",
       "    </tr>\n",
       "  </tbody>\n",
       "</table>\n",
       "<p>638 rows × 4 columns</p>\n",
       "</div>"
      ],
      "text/plain": [
       "        user       pc  pc_visits_per_user_total  count\n",
       "0    AAN0077  PC-9130                     11560      1\n",
       "1    AAW0103  PC-5914                     12420      1\n",
       "2    ACE0265  PC-2723                     12420      1\n",
       "3    ACL0394  PC-6394                     12420      2\n",
       "4    ACL0394  PC-7496                       972      2\n",
       "..       ...      ...                       ...    ...\n",
       "633  YJT0368  PC-4330                     12420      2\n",
       "634  YJT0368  PC-7496                       540      2\n",
       "635  YSB0779  PC-6341                     15228      1\n",
       "636  ZBL0379  PC-4473                     21456      1\n",
       "637  ZIF0269  PC-0265                     12420      1\n",
       "\n",
       "[638 rows x 4 columns]"
      ]
     },
     "metadata": {},
     "output_type": "display_data"
    }
   ],
   "source": [
    "df_total_user_pc['count'] = df_total_user_pc.groupby(['user'])['pc'].transform('nunique')\n",
    "display(df_total_user_pc)"
   ]
  },
  {
   "cell_type": "code",
   "execution_count": 55,
   "metadata": {},
   "outputs": [
    {
     "data": {
      "text/html": [
       "<div>\n",
       "<style scoped>\n",
       "    .dataframe tbody tr th:only-of-type {\n",
       "        vertical-align: middle;\n",
       "    }\n",
       "\n",
       "    .dataframe tbody tr th {\n",
       "        vertical-align: top;\n",
       "    }\n",
       "\n",
       "    .dataframe thead th {\n",
       "        text-align: right;\n",
       "    }\n",
       "</style>\n",
       "<table border=\"1\" class=\"dataframe\">\n",
       "  <thead>\n",
       "    <tr style=\"text-align: right;\">\n",
       "      <th></th>\n",
       "      <th>user</th>\n",
       "      <th>count</th>\n",
       "    </tr>\n",
       "  </thead>\n",
       "  <tbody>\n",
       "    <tr>\n",
       "      <th>0</th>\n",
       "      <td>AAN0077</td>\n",
       "      <td>1</td>\n",
       "    </tr>\n",
       "    <tr>\n",
       "      <th>1</th>\n",
       "      <td>AAW0103</td>\n",
       "      <td>1</td>\n",
       "    </tr>\n",
       "    <tr>\n",
       "      <th>2</th>\n",
       "      <td>ACE0265</td>\n",
       "      <td>1</td>\n",
       "    </tr>\n",
       "    <tr>\n",
       "      <th>3</th>\n",
       "      <td>ACL0394</td>\n",
       "      <td>2</td>\n",
       "    </tr>\n",
       "    <tr>\n",
       "      <th>4</th>\n",
       "      <td>ACL0394</td>\n",
       "      <td>2</td>\n",
       "    </tr>\n",
       "  </tbody>\n",
       "</table>\n",
       "</div>"
      ],
      "text/plain": [
       "      user  count\n",
       "0  AAN0077      1\n",
       "1  AAW0103      1\n",
       "2  ACE0265      1\n",
       "3  ACL0394      2\n",
       "4  ACL0394      2"
      ]
     },
     "metadata": {},
     "output_type": "display_data"
    },
    {
     "data": {
      "text/plain": [
       "(638, 2)"
      ]
     },
     "metadata": {},
     "output_type": "display_data"
    },
    {
     "data": {
      "text/plain": [
       "230"
      ]
     },
     "metadata": {},
     "output_type": "display_data"
    }
   ],
   "source": [
    "# user pc relation\n",
    "df22 = df_total_user_pc[['user','count']]\n",
    "display(df22.head())\n",
    "display(df22.shape)\n",
    "display(len(df22.user.unique()))"
   ]
  },
  {
   "cell_type": "code",
   "execution_count": 56,
   "metadata": {},
   "outputs": [],
   "source": [
    "## dropping duplicate values\n",
    "df22 = df22.drop_duplicates()"
   ]
  },
  {
   "cell_type": "code",
   "execution_count": 57,
   "metadata": {},
   "outputs": [
    {
     "data": {
      "text/html": [
       "<div>\n",
       "<style scoped>\n",
       "    .dataframe tbody tr th:only-of-type {\n",
       "        vertical-align: middle;\n",
       "    }\n",
       "\n",
       "    .dataframe tbody tr th {\n",
       "        vertical-align: top;\n",
       "    }\n",
       "\n",
       "    .dataframe thead th {\n",
       "        text-align: right;\n",
       "    }\n",
       "</style>\n",
       "<table border=\"1\" class=\"dataframe\">\n",
       "  <thead>\n",
       "    <tr style=\"text-align: right;\">\n",
       "      <th></th>\n",
       "      <th>user</th>\n",
       "      <th>count</th>\n",
       "    </tr>\n",
       "  </thead>\n",
       "  <tbody>\n",
       "    <tr>\n",
       "      <th>0</th>\n",
       "      <td>AAN0077</td>\n",
       "      <td>1</td>\n",
       "    </tr>\n",
       "    <tr>\n",
       "      <th>1</th>\n",
       "      <td>AAW0103</td>\n",
       "      <td>1</td>\n",
       "    </tr>\n",
       "    <tr>\n",
       "      <th>2</th>\n",
       "      <td>ACE0265</td>\n",
       "      <td>1</td>\n",
       "    </tr>\n",
       "    <tr>\n",
       "      <th>3</th>\n",
       "      <td>ACL0394</td>\n",
       "      <td>2</td>\n",
       "    </tr>\n",
       "    <tr>\n",
       "      <th>5</th>\n",
       "      <td>ADR0362</td>\n",
       "      <td>1</td>\n",
       "    </tr>\n",
       "  </tbody>\n",
       "</table>\n",
       "</div>"
      ],
      "text/plain": [
       "      user  count\n",
       "0  AAN0077      1\n",
       "1  AAW0103      1\n",
       "2  ACE0265      1\n",
       "3  ACL0394      2\n",
       "5  ADR0362      1"
      ]
     },
     "metadata": {},
     "output_type": "display_data"
    },
    {
     "data": {
      "text/plain": [
       "(230, 2)"
      ]
     },
     "metadata": {},
     "output_type": "display_data"
    }
   ],
   "source": [
    "display(df22.head())\n",
    "display(df22.shape)"
   ]
  },
  {
   "cell_type": "code",
   "execution_count": 58,
   "metadata": {},
   "outputs": [],
   "source": [
    "df_user_pc = df22.copy()"
   ]
  },
  {
   "cell_type": "code",
   "execution_count": 59,
   "metadata": {},
   "outputs": [
    {
     "data": {
      "text/html": [
       "<div>\n",
       "<style scoped>\n",
       "    .dataframe tbody tr th:only-of-type {\n",
       "        vertical-align: middle;\n",
       "    }\n",
       "\n",
       "    .dataframe tbody tr th {\n",
       "        vertical-align: top;\n",
       "    }\n",
       "\n",
       "    .dataframe thead th {\n",
       "        text-align: right;\n",
       "    }\n",
       "</style>\n",
       "<table border=\"1\" class=\"dataframe\">\n",
       "  <thead>\n",
       "    <tr style=\"text-align: right;\">\n",
       "      <th></th>\n",
       "      <th>user</th>\n",
       "      <th>count</th>\n",
       "    </tr>\n",
       "  </thead>\n",
       "  <tbody>\n",
       "    <tr>\n",
       "      <th>0</th>\n",
       "      <td>AAN0077</td>\n",
       "      <td>1</td>\n",
       "    </tr>\n",
       "    <tr>\n",
       "      <th>1</th>\n",
       "      <td>AAW0103</td>\n",
       "      <td>1</td>\n",
       "    </tr>\n",
       "    <tr>\n",
       "      <th>2</th>\n",
       "      <td>ACE0265</td>\n",
       "      <td>1</td>\n",
       "    </tr>\n",
       "    <tr>\n",
       "      <th>3</th>\n",
       "      <td>ACL0394</td>\n",
       "      <td>2</td>\n",
       "    </tr>\n",
       "    <tr>\n",
       "      <th>5</th>\n",
       "      <td>ADR0362</td>\n",
       "      <td>1</td>\n",
       "    </tr>\n",
       "  </tbody>\n",
       "</table>\n",
       "</div>"
      ],
      "text/plain": [
       "      user  count\n",
       "0  AAN0077      1\n",
       "1  AAW0103      1\n",
       "2  ACE0265      1\n",
       "3  ACL0394      2\n",
       "5  ADR0362      1"
      ]
     },
     "metadata": {},
     "output_type": "display_data"
    }
   ],
   "source": [
    "display(df_user_pc.head())"
   ]
  },
  {
   "cell_type": "code",
   "execution_count": 60,
   "metadata": {
    "scrolled": true
   },
   "outputs": [
    {
     "data": {
      "text/plain": [
       "array([ 1,  2, 40, 34,  3,  5, 20, 27,  6, 33, 43, 55, 30, 12, 35])"
      ]
     },
     "metadata": {},
     "output_type": "display_data"
    }
   ],
   "source": [
    "display(df_user_pc['count'].unique())"
   ]
  },
  {
   "cell_type": "markdown",
   "metadata": {},
   "source": [
    "### Insider Threat Detection"
   ]
  },
  {
   "cell_type": "markdown",
   "metadata": {},
   "source": [
    "### Anomaly Detection using Isolation Forests"
   ]
  },
  {
   "cell_type": "code",
   "execution_count": 61,
   "metadata": {},
   "outputs": [],
   "source": [
    "import numpy as np\n",
    "import pandas as pd\n",
    "import matplotlib.pyplot as plt\n",
    "from sklearn.ensemble import IsolationForest"
   ]
  },
  {
   "cell_type": "code",
   "execution_count": 62,
   "metadata": {
    "id": "YBGQCn6qgD39"
   },
   "outputs": [],
   "source": [
    "# display(df_user_pc_count)\n",
    "df_user_pc_count = np.array(df_user_pc['count'])"
   ]
  },
  {
   "cell_type": "code",
   "execution_count": 63,
   "metadata": {
    "id": "mfnylg3ZgOE5"
   },
   "outputs": [],
   "source": [
    "#Now trying to reshape with (-1, 1) . We have provided column as 1 but rows as unknown\n",
    "df_user_pc_ct = df_user_pc_count.reshape(-1,1)"
   ]
  },
  {
   "cell_type": "code",
   "execution_count": 64,
   "metadata": {
    "colab": {
     "base_uri": "https://localhost:8080/"
    },
    "id": "E5WQPGDuhgAr",
    "outputId": "c5114b44-90b7-45fa-dde8-28fb899a5330"
   },
   "outputs": [
    {
     "data": {
      "text/plain": [
       "IsolationForest(contamination=0.1, n_jobs=1)"
      ]
     },
     "execution_count": 64,
     "metadata": {},
     "output_type": "execute_result"
    }
   ],
   "source": [
    "### Modeling user_pc relationship using Isolation Forests\n",
    "forest = IsolationForest(bootstrap=False, contamination=0.1,max_features=1.0,\n",
    "                         max_samples='auto',n_estimators=100, n_jobs=1, random_state=None,\n",
    "                         verbose=0)\n",
    "forest.fit(df_user_pc_ct)\n"
   ]
  },
  {
   "cell_type": "code",
   "execution_count": null,
   "metadata": {},
   "outputs": [],
   "source": [
    "# predictions\n",
    "# user_pc_predict = forest.predict(df_user_pc_ct)\n",
    "# pred_outliers = forest.predict(?)\n",
    "# scores = forest.score_samples(df_user_pc_ct)"
   ]
  },
  {
   "cell_type": "code",
   "execution_count": null,
   "metadata": {},
   "outputs": [],
   "source": [
    "# # new, 'normal' observations ----\n",
    "# print(\"Accuracy:\", list(y_pred_test).count(1)/y_pred_test.shape[0])\n",
    "# # Accuracy: 0.93\n",
    "# # outliers ----\n",
    "# print(\"Accuracy:\", list(y_pred_outliers).count(-1)/y_pred_outliers.shape[0])\n",
    "# # Accuracy: 0.96"
   ]
  },
  {
   "cell_type": "code",
   "execution_count": 65,
   "metadata": {},
   "outputs": [
    {
     "data": {
      "text/plain": [
       "(230, 1)"
      ]
     },
     "metadata": {},
     "output_type": "display_data"
    }
   ],
   "source": [
    "display(df_user_pc_ct.shape)"
   ]
  },
  {
   "cell_type": "code",
   "execution_count": 66,
   "metadata": {
    "colab": {
     "base_uri": "https://localhost:8080/"
    },
    "id": "KAVGtzULiOVz",
    "outputId": "d06cde91-5255-4bf5-9ec9-4b5a81209327"
   },
   "outputs": [
    {
     "data": {
      "text/plain": [
       "array([0.0906358, 0.0906358, 0.0015438, 0.0906358, 0.0906358, 0.0906358,\n",
       "       0.0906358, 0.0906358, 0.0906358])"
      ]
     },
     "metadata": {},
     "output_type": "display_data"
    }
   ],
   "source": [
    "graph_a_score = forest.decision_function(df_user_pc_ct)\n",
    "display(graph_a_score[1:10])"
   ]
  },
  {
   "cell_type": "code",
   "execution_count": 67,
   "metadata": {
    "colab": {
     "base_uri": "https://localhost:8080/"
    },
    "id": "Pewg2cRzihdw",
    "outputId": "4abf1938-a4c9-4590-8372-ba3c5e95a76e"
   },
   "outputs": [
    {
     "data": {
      "text/html": [
       "<div>\n",
       "<style scoped>\n",
       "    .dataframe tbody tr th:only-of-type {\n",
       "        vertical-align: middle;\n",
       "    }\n",
       "\n",
       "    .dataframe tbody tr th {\n",
       "        vertical-align: top;\n",
       "    }\n",
       "\n",
       "    .dataframe thead th {\n",
       "        text-align: right;\n",
       "    }\n",
       "</style>\n",
       "<table border=\"1\" class=\"dataframe\">\n",
       "  <thead>\n",
       "    <tr style=\"text-align: right;\">\n",
       "      <th></th>\n",
       "      <th>user</th>\n",
       "      <th>ascore</th>\n",
       "    </tr>\n",
       "  </thead>\n",
       "  <tbody>\n",
       "    <tr>\n",
       "      <th>0</th>\n",
       "      <td>AAN0077</td>\n",
       "      <td>0.090636</td>\n",
       "    </tr>\n",
       "    <tr>\n",
       "      <th>1</th>\n",
       "      <td>AAW0103</td>\n",
       "      <td>0.090636</td>\n",
       "    </tr>\n",
       "    <tr>\n",
       "      <th>2</th>\n",
       "      <td>ACE0265</td>\n",
       "      <td>0.090636</td>\n",
       "    </tr>\n",
       "    <tr>\n",
       "      <th>3</th>\n",
       "      <td>ACL0394</td>\n",
       "      <td>0.001544</td>\n",
       "    </tr>\n",
       "    <tr>\n",
       "      <th>5</th>\n",
       "      <td>ADR0362</td>\n",
       "      <td>0.090636</td>\n",
       "    </tr>\n",
       "    <tr>\n",
       "      <th>...</th>\n",
       "      <td>...</td>\n",
       "      <td>...</td>\n",
       "    </tr>\n",
       "    <tr>\n",
       "      <th>632</th>\n",
       "      <td>XTM0246</td>\n",
       "      <td>0.090636</td>\n",
       "    </tr>\n",
       "    <tr>\n",
       "      <th>633</th>\n",
       "      <td>YJT0368</td>\n",
       "      <td>0.001544</td>\n",
       "    </tr>\n",
       "    <tr>\n",
       "      <th>635</th>\n",
       "      <td>YSB0779</td>\n",
       "      <td>0.090636</td>\n",
       "    </tr>\n",
       "    <tr>\n",
       "      <th>636</th>\n",
       "      <td>ZBL0379</td>\n",
       "      <td>0.090636</td>\n",
       "    </tr>\n",
       "    <tr>\n",
       "      <th>637</th>\n",
       "      <td>ZIF0269</td>\n",
       "      <td>0.090636</td>\n",
       "    </tr>\n",
       "  </tbody>\n",
       "</table>\n",
       "<p>230 rows × 2 columns</p>\n",
       "</div>"
      ],
      "text/plain": [
       "        user    ascore\n",
       "0    AAN0077  0.090636\n",
       "1    AAW0103  0.090636\n",
       "2    ACE0265  0.090636\n",
       "3    ACL0394  0.001544\n",
       "5    ADR0362  0.090636\n",
       "..       ...       ...\n",
       "632  XTM0246  0.090636\n",
       "633  YJT0368  0.001544\n",
       "635  YSB0779  0.090636\n",
       "636  ZBL0379  0.090636\n",
       "637  ZIF0269  0.090636\n",
       "\n",
       "[230 rows x 2 columns]"
      ]
     },
     "metadata": {},
     "output_type": "display_data"
    }
   ],
   "source": [
    "graph_result = pd.DataFrame()\n",
    "graph_result['user'] = df_user_pc['user']\n",
    "graph_result['ascore'] = graph_a_score\n",
    "display(graph_result)"
   ]
  },
  {
   "cell_type": "code",
   "execution_count": 68,
   "metadata": {
    "colab": {
     "base_uri": "https://localhost:8080/"
    },
    "id": "s1fOe_9hi_iq",
    "outputId": "fa71f2bf-8557-429d-e349-ca13166fd53a"
   },
   "outputs": [
    {
     "data": {
      "text/html": [
       "<div>\n",
       "<style scoped>\n",
       "    .dataframe tbody tr th:only-of-type {\n",
       "        vertical-align: middle;\n",
       "    }\n",
       "\n",
       "    .dataframe tbody tr th {\n",
       "        vertical-align: top;\n",
       "    }\n",
       "\n",
       "    .dataframe thead th {\n",
       "        text-align: right;\n",
       "    }\n",
       "</style>\n",
       "<table border=\"1\" class=\"dataframe\">\n",
       "  <thead>\n",
       "    <tr style=\"text-align: right;\">\n",
       "      <th></th>\n",
       "      <th>user</th>\n",
       "      <th>ascore</th>\n",
       "    </tr>\n",
       "  </thead>\n",
       "  <tbody>\n",
       "    <tr>\n",
       "      <th>14</th>\n",
       "      <td>AJR0231</td>\n",
       "      <td>-0.258116</td>\n",
       "    </tr>\n",
       "    <tr>\n",
       "      <th>54</th>\n",
       "      <td>ALC0100</td>\n",
       "      <td>-0.171603</td>\n",
       "    </tr>\n",
       "    <tr>\n",
       "      <th>96</th>\n",
       "      <td>ARH0777</td>\n",
       "      <td>-0.171788</td>\n",
       "    </tr>\n",
       "    <tr>\n",
       "      <th>110</th>\n",
       "      <td>BGZ0902</td>\n",
       "      <td>-0.275572</td>\n",
       "    </tr>\n",
       "    <tr>\n",
       "      <th>154</th>\n",
       "      <td>CGH0088</td>\n",
       "      <td>-0.171788</td>\n",
       "    </tr>\n",
       "  </tbody>\n",
       "</table>\n",
       "</div>"
      ],
      "text/plain": [
       "        user    ascore\n",
       "14   AJR0231 -0.258116\n",
       "54   ALC0100 -0.171603\n",
       "96   ARH0777 -0.171788\n",
       "110  BGZ0902 -0.275572\n",
       "154  CGH0088 -0.171788"
      ]
     },
     "metadata": {},
     "output_type": "display_data"
    },
    {
     "data": {
      "text/plain": [
       "(13, 2)"
      ]
     },
     "metadata": {},
     "output_type": "display_data"
    }
   ],
   "source": [
    "#outliers.describe()\n",
    "#graph_result.sort_values('ascore')\n",
    "outliers = graph_result.loc[graph_result['ascore'] < 0]\n",
    "display(outliers.head())\n",
    "display(outliers.shape)"
   ]
  },
  {
   "cell_type": "markdown",
   "metadata": {},
   "source": [
    "#### Anomaly detection for log on/log off using Isolation Forests"
   ]
  },
  {
   "cell_type": "code",
   "execution_count": 69,
   "metadata": {},
   "outputs": [
    {
     "data": {
      "text/html": [
       "<div>\n",
       "<style scoped>\n",
       "    .dataframe tbody tr th:only-of-type {\n",
       "        vertical-align: middle;\n",
       "    }\n",
       "\n",
       "    .dataframe tbody tr th {\n",
       "        vertical-align: top;\n",
       "    }\n",
       "\n",
       "    .dataframe thead th {\n",
       "        text-align: right;\n",
       "    }\n",
       "</style>\n",
       "<table border=\"1\" class=\"dataframe\">\n",
       "  <thead>\n",
       "    <tr style=\"text-align: right;\">\n",
       "      <th></th>\n",
       "      <th>user</th>\n",
       "      <th>min</th>\n",
       "      <th>max</th>\n",
       "      <th>mode</th>\n",
       "      <th>mean</th>\n",
       "    </tr>\n",
       "  </thead>\n",
       "  <tbody>\n",
       "    <tr>\n",
       "      <th>0</th>\n",
       "      <td>AAN0077</td>\n",
       "      <td>07:45:00</td>\n",
       "      <td>08:13:00</td>\n",
       "      <td>08:13:00</td>\n",
       "      <td>07:00:00</td>\n",
       "    </tr>\n",
       "    <tr>\n",
       "      <th>1</th>\n",
       "      <td>AAW0103</td>\n",
       "      <td>07:00:00</td>\n",
       "      <td>07:18:00</td>\n",
       "      <td>07:15:00</td>\n",
       "      <td>07:00:00</td>\n",
       "    </tr>\n",
       "    <tr>\n",
       "      <th>2</th>\n",
       "      <td>ACE0265</td>\n",
       "      <td>08:00:00</td>\n",
       "      <td>08:25:00</td>\n",
       "      <td>08:15:00</td>\n",
       "      <td>08:00:00</td>\n",
       "    </tr>\n",
       "    <tr>\n",
       "      <th>3</th>\n",
       "      <td>ACL0394</td>\n",
       "      <td>09:00:00</td>\n",
       "      <td>16:52:37</td>\n",
       "      <td>09:15:00</td>\n",
       "      <td>09:00:00</td>\n",
       "    </tr>\n",
       "    <tr>\n",
       "      <th>4</th>\n",
       "      <td>ADR0362</td>\n",
       "      <td>07:30:00</td>\n",
       "      <td>07:48:00</td>\n",
       "      <td>07:48:00</td>\n",
       "      <td>07:00:00</td>\n",
       "    </tr>\n",
       "  </tbody>\n",
       "</table>\n",
       "</div>"
      ],
      "text/plain": [
       "      user       min       max      mode      mean\n",
       "0  AAN0077  07:45:00  08:13:00  08:13:00  07:00:00\n",
       "1  AAW0103  07:00:00  07:18:00  07:15:00  07:00:00\n",
       "2  ACE0265  08:00:00  08:25:00  08:15:00  08:00:00\n",
       "3  ACL0394  09:00:00  16:52:37  09:15:00  09:00:00\n",
       "4  ADR0362  07:30:00  07:48:00  07:48:00  07:00:00"
      ]
     },
     "metadata": {},
     "output_type": "display_data"
    }
   ],
   "source": [
    "display(df_user_logon_stats.head())"
   ]
  },
  {
   "cell_type": "code",
   "execution_count": 70,
   "metadata": {
    "id": "rHH8qPWWjTJR"
   },
   "outputs": [],
   "source": [
    "## sklearn algorithms do not take dates as input parameters. \n",
    "## hence need to convert the time object into numerical values. \n",
    "# Function to convert datetime 'time' to time in seconds\n",
    "\n",
    "def dtt2timestamp(dtt):\n",
    "  time_in_sec = (dtt.hour*60 + dtt.minute) * 60 + dtt.second\n",
    "  return time_in_sec"
   ]
  },
  {
   "cell_type": "code",
   "execution_count": 71,
   "metadata": {
    "id": "NLE_dHZojuO-"
   },
   "outputs": [],
   "source": [
    "#user_logon_stats_sec\n",
    "df_user_logon_stats_sec = df_user_logon_stats"
   ]
  },
  {
   "cell_type": "code",
   "execution_count": 72,
   "metadata": {
    "id": "ZYxl4AMbj4Nw"
   },
   "outputs": [],
   "source": [
    "min_ts = [dtt2timestamp(dtt) for dtt in df_user_logon_stats_sec['min']]\n",
    "max_ts = [dtt2timestamp(dtt) for dtt in df_user_logon_stats_sec['max']]\n",
    "mode_ts = [dtt2timestamp(dtt) for dtt in df_user_logon_stats_sec['mode']]\n",
    "mean_ts = [dtt2timestamp(dtt) for dtt in df_user_logon_stats_sec['mean']]"
   ]
  },
  {
   "cell_type": "code",
   "execution_count": 73,
   "metadata": {
    "id": "mF89Jzhfkp9K"
   },
   "outputs": [],
   "source": [
    "df_user_logon_stats_sec['min_ts'] = min_ts\n",
    "df_user_logon_stats_sec['max_ts'] = max_ts\n",
    "df_user_logon_stats_sec['mode_ts'] = mode_ts\n",
    "df_user_logon_stats_sec['mean_ts'] = mean_ts"
   ]
  },
  {
   "cell_type": "code",
   "execution_count": 74,
   "metadata": {
    "id": "x9pa2dh2kzMz"
   },
   "outputs": [
    {
     "data": {
      "text/html": [
       "<div>\n",
       "<style scoped>\n",
       "    .dataframe tbody tr th:only-of-type {\n",
       "        vertical-align: middle;\n",
       "    }\n",
       "\n",
       "    .dataframe tbody tr th {\n",
       "        vertical-align: top;\n",
       "    }\n",
       "\n",
       "    .dataframe thead th {\n",
       "        text-align: right;\n",
       "    }\n",
       "</style>\n",
       "<table border=\"1\" class=\"dataframe\">\n",
       "  <thead>\n",
       "    <tr style=\"text-align: right;\">\n",
       "      <th></th>\n",
       "      <th>user</th>\n",
       "      <th>min_ts</th>\n",
       "      <th>max_ts</th>\n",
       "      <th>mode_ts</th>\n",
       "      <th>mean_ts</th>\n",
       "    </tr>\n",
       "  </thead>\n",
       "  <tbody>\n",
       "    <tr>\n",
       "      <th>0</th>\n",
       "      <td>AAN0077</td>\n",
       "      <td>27900</td>\n",
       "      <td>29580</td>\n",
       "      <td>29580</td>\n",
       "      <td>25200</td>\n",
       "    </tr>\n",
       "    <tr>\n",
       "      <th>1</th>\n",
       "      <td>AAW0103</td>\n",
       "      <td>25200</td>\n",
       "      <td>26280</td>\n",
       "      <td>26100</td>\n",
       "      <td>25200</td>\n",
       "    </tr>\n",
       "    <tr>\n",
       "      <th>2</th>\n",
       "      <td>ACE0265</td>\n",
       "      <td>28800</td>\n",
       "      <td>30300</td>\n",
       "      <td>29700</td>\n",
       "      <td>28800</td>\n",
       "    </tr>\n",
       "    <tr>\n",
       "      <th>3</th>\n",
       "      <td>ACL0394</td>\n",
       "      <td>32400</td>\n",
       "      <td>60757</td>\n",
       "      <td>33300</td>\n",
       "      <td>32400</td>\n",
       "    </tr>\n",
       "    <tr>\n",
       "      <th>4</th>\n",
       "      <td>ADR0362</td>\n",
       "      <td>27000</td>\n",
       "      <td>28080</td>\n",
       "      <td>28080</td>\n",
       "      <td>25200</td>\n",
       "    </tr>\n",
       "    <tr>\n",
       "      <th>...</th>\n",
       "      <td>...</td>\n",
       "      <td>...</td>\n",
       "      <td>...</td>\n",
       "      <td>...</td>\n",
       "      <td>...</td>\n",
       "    </tr>\n",
       "    <tr>\n",
       "      <th>225</th>\n",
       "      <td>XTM0246</td>\n",
       "      <td>27900</td>\n",
       "      <td>29520</td>\n",
       "      <td>29460</td>\n",
       "      <td>25200</td>\n",
       "    </tr>\n",
       "    <tr>\n",
       "      <th>226</th>\n",
       "      <td>YJT0368</td>\n",
       "      <td>27000</td>\n",
       "      <td>68459</td>\n",
       "      <td>27900</td>\n",
       "      <td>25200</td>\n",
       "    </tr>\n",
       "    <tr>\n",
       "      <th>227</th>\n",
       "      <td>YSB0779</td>\n",
       "      <td>27000</td>\n",
       "      <td>28020</td>\n",
       "      <td>27900</td>\n",
       "      <td>25200</td>\n",
       "    </tr>\n",
       "    <tr>\n",
       "      <th>228</th>\n",
       "      <td>ZBL0379</td>\n",
       "      <td>29700</td>\n",
       "      <td>52585</td>\n",
       "      <td>30600</td>\n",
       "      <td>36000</td>\n",
       "    </tr>\n",
       "    <tr>\n",
       "      <th>229</th>\n",
       "      <td>ZIF0269</td>\n",
       "      <td>25200</td>\n",
       "      <td>26760</td>\n",
       "      <td>26100</td>\n",
       "      <td>25200</td>\n",
       "    </tr>\n",
       "  </tbody>\n",
       "</table>\n",
       "<p>230 rows × 5 columns</p>\n",
       "</div>"
      ],
      "text/plain": [
       "        user  min_ts  max_ts  mode_ts  mean_ts\n",
       "0    AAN0077   27900   29580    29580    25200\n",
       "1    AAW0103   25200   26280    26100    25200\n",
       "2    ACE0265   28800   30300    29700    28800\n",
       "3    ACL0394   32400   60757    33300    32400\n",
       "4    ADR0362   27000   28080    28080    25200\n",
       "..       ...     ...     ...      ...      ...\n",
       "225  XTM0246   27900   29520    29460    25200\n",
       "226  YJT0368   27000   68459    27900    25200\n",
       "227  YSB0779   27000   28020    27900    25200\n",
       "228  ZBL0379   29700   52585    30600    36000\n",
       "229  ZIF0269   25200   26760    26100    25200\n",
       "\n",
       "[230 rows x 5 columns]"
      ]
     },
     "execution_count": 74,
     "metadata": {},
     "output_type": "execute_result"
    }
   ],
   "source": [
    "df_user_logon_stats_sec.drop(['min', 'max','mode','mean'], axis=1)"
   ]
  },
  {
   "cell_type": "code",
   "execution_count": 75,
   "metadata": {
    "colab": {
     "base_uri": "https://localhost:8080/",
     "height": 419
    },
    "id": "pvVC-j0pk49N",
    "outputId": "a7106760-5c48-453f-c439-8d24fda0a463"
   },
   "outputs": [
    {
     "data": {
      "text/html": [
       "<div>\n",
       "<style scoped>\n",
       "    .dataframe tbody tr th:only-of-type {\n",
       "        vertical-align: middle;\n",
       "    }\n",
       "\n",
       "    .dataframe tbody tr th {\n",
       "        vertical-align: top;\n",
       "    }\n",
       "\n",
       "    .dataframe thead th {\n",
       "        text-align: right;\n",
       "    }\n",
       "</style>\n",
       "<table border=\"1\" class=\"dataframe\">\n",
       "  <thead>\n",
       "    <tr style=\"text-align: right;\">\n",
       "      <th></th>\n",
       "      <th>user</th>\n",
       "      <th>min_ts</th>\n",
       "      <th>max_ts</th>\n",
       "      <th>mode_ts</th>\n",
       "      <th>mean_ts</th>\n",
       "    </tr>\n",
       "  </thead>\n",
       "  <tbody>\n",
       "    <tr>\n",
       "      <th>0</th>\n",
       "      <td>AAN0077</td>\n",
       "      <td>27900</td>\n",
       "      <td>29580</td>\n",
       "      <td>29580</td>\n",
       "      <td>25200</td>\n",
       "    </tr>\n",
       "    <tr>\n",
       "      <th>1</th>\n",
       "      <td>AAW0103</td>\n",
       "      <td>25200</td>\n",
       "      <td>26280</td>\n",
       "      <td>26100</td>\n",
       "      <td>25200</td>\n",
       "    </tr>\n",
       "    <tr>\n",
       "      <th>2</th>\n",
       "      <td>ACE0265</td>\n",
       "      <td>28800</td>\n",
       "      <td>30300</td>\n",
       "      <td>29700</td>\n",
       "      <td>28800</td>\n",
       "    </tr>\n",
       "    <tr>\n",
       "      <th>3</th>\n",
       "      <td>ACL0394</td>\n",
       "      <td>32400</td>\n",
       "      <td>60757</td>\n",
       "      <td>33300</td>\n",
       "      <td>32400</td>\n",
       "    </tr>\n",
       "    <tr>\n",
       "      <th>4</th>\n",
       "      <td>ADR0362</td>\n",
       "      <td>27000</td>\n",
       "      <td>28080</td>\n",
       "      <td>28080</td>\n",
       "      <td>25200</td>\n",
       "    </tr>\n",
       "    <tr>\n",
       "      <th>...</th>\n",
       "      <td>...</td>\n",
       "      <td>...</td>\n",
       "      <td>...</td>\n",
       "      <td>...</td>\n",
       "      <td>...</td>\n",
       "    </tr>\n",
       "    <tr>\n",
       "      <th>225</th>\n",
       "      <td>XTM0246</td>\n",
       "      <td>27900</td>\n",
       "      <td>29520</td>\n",
       "      <td>29460</td>\n",
       "      <td>25200</td>\n",
       "    </tr>\n",
       "    <tr>\n",
       "      <th>226</th>\n",
       "      <td>YJT0368</td>\n",
       "      <td>27000</td>\n",
       "      <td>68459</td>\n",
       "      <td>27900</td>\n",
       "      <td>25200</td>\n",
       "    </tr>\n",
       "    <tr>\n",
       "      <th>227</th>\n",
       "      <td>YSB0779</td>\n",
       "      <td>27000</td>\n",
       "      <td>28020</td>\n",
       "      <td>27900</td>\n",
       "      <td>25200</td>\n",
       "    </tr>\n",
       "    <tr>\n",
       "      <th>228</th>\n",
       "      <td>ZBL0379</td>\n",
       "      <td>29700</td>\n",
       "      <td>52585</td>\n",
       "      <td>30600</td>\n",
       "      <td>36000</td>\n",
       "    </tr>\n",
       "    <tr>\n",
       "      <th>229</th>\n",
       "      <td>ZIF0269</td>\n",
       "      <td>25200</td>\n",
       "      <td>26760</td>\n",
       "      <td>26100</td>\n",
       "      <td>25200</td>\n",
       "    </tr>\n",
       "  </tbody>\n",
       "</table>\n",
       "<p>230 rows × 5 columns</p>\n",
       "</div>"
      ],
      "text/plain": [
       "        user  min_ts  max_ts  mode_ts  mean_ts\n",
       "0    AAN0077   27900   29580    29580    25200\n",
       "1    AAW0103   25200   26280    26100    25200\n",
       "2    ACE0265   28800   30300    29700    28800\n",
       "3    ACL0394   32400   60757    33300    32400\n",
       "4    ADR0362   27000   28080    28080    25200\n",
       "..       ...     ...     ...      ...      ...\n",
       "225  XTM0246   27900   29520    29460    25200\n",
       "226  YJT0368   27000   68459    27900    25200\n",
       "227  YSB0779   27000   28020    27900    25200\n",
       "228  ZBL0379   29700   52585    30600    36000\n",
       "229  ZIF0269   25200   26760    26100    25200\n",
       "\n",
       "[230 rows x 5 columns]"
      ]
     },
     "execution_count": 75,
     "metadata": {},
     "output_type": "execute_result"
    }
   ],
   "source": [
    "df_user_logon_stats_sec.drop(['min','max','mode','mean'], axis=1)"
   ]
  },
  {
   "cell_type": "markdown",
   "metadata": {},
   "source": [
    "### Logoff"
   ]
  },
  {
   "cell_type": "code",
   "execution_count": 76,
   "metadata": {},
   "outputs": [
    {
     "data": {
      "text/html": [
       "<div>\n",
       "<style scoped>\n",
       "    .dataframe tbody tr th:only-of-type {\n",
       "        vertical-align: middle;\n",
       "    }\n",
       "\n",
       "    .dataframe tbody tr th {\n",
       "        vertical-align: top;\n",
       "    }\n",
       "\n",
       "    .dataframe thead th {\n",
       "        text-align: right;\n",
       "    }\n",
       "</style>\n",
       "<table border=\"1\" class=\"dataframe\">\n",
       "  <thead>\n",
       "    <tr style=\"text-align: right;\">\n",
       "      <th></th>\n",
       "      <th>user</th>\n",
       "      <th>min</th>\n",
       "      <th>max</th>\n",
       "      <th>mode</th>\n",
       "      <th>mean</th>\n",
       "    </tr>\n",
       "  </thead>\n",
       "  <tbody>\n",
       "    <tr>\n",
       "      <th>0</th>\n",
       "      <td>AAN0077</td>\n",
       "      <td>16:47:00</td>\n",
       "      <td>17:15:00</td>\n",
       "      <td>16:56:00</td>\n",
       "      <td>16:00:00</td>\n",
       "    </tr>\n",
       "    <tr>\n",
       "      <th>1</th>\n",
       "      <td>AAW0103</td>\n",
       "      <td>16:12:00</td>\n",
       "      <td>16:30:00</td>\n",
       "      <td>16:14:00</td>\n",
       "      <td>16:00:00</td>\n",
       "    </tr>\n",
       "    <tr>\n",
       "      <th>2</th>\n",
       "      <td>ACE0265</td>\n",
       "      <td>16:05:00</td>\n",
       "      <td>16:30:00</td>\n",
       "      <td>16:06:00</td>\n",
       "      <td>16:00:00</td>\n",
       "    </tr>\n",
       "    <tr>\n",
       "      <th>3</th>\n",
       "      <td>ACL0394</td>\n",
       "      <td>09:13:55</td>\n",
       "      <td>17:30:00</td>\n",
       "      <td>17:15:00</td>\n",
       "      <td>16:00:00</td>\n",
       "    </tr>\n",
       "    <tr>\n",
       "      <th>4</th>\n",
       "      <td>ADR0362</td>\n",
       "      <td>16:42:00</td>\n",
       "      <td>17:00:00</td>\n",
       "      <td>16:45:00</td>\n",
       "      <td>16:00:00</td>\n",
       "    </tr>\n",
       "  </tbody>\n",
       "</table>\n",
       "</div>"
      ],
      "text/plain": [
       "      user       min       max      mode      mean\n",
       "0  AAN0077  16:47:00  17:15:00  16:56:00  16:00:00\n",
       "1  AAW0103  16:12:00  16:30:00  16:14:00  16:00:00\n",
       "2  ACE0265  16:05:00  16:30:00  16:06:00  16:00:00\n",
       "3  ACL0394  09:13:55  17:30:00  17:15:00  16:00:00\n",
       "4  ADR0362  16:42:00  17:00:00  16:45:00  16:00:00"
      ]
     },
     "metadata": {},
     "output_type": "display_data"
    }
   ],
   "source": [
    "display(df_user_logoff_stats.head())"
   ]
  },
  {
   "cell_type": "code",
   "execution_count": 77,
   "metadata": {
    "id": "ifvL5-NClHIR"
   },
   "outputs": [],
   "source": [
    "# Make copy of user logoff stats\n",
    "df_user_logoff_stats_sec = df_user_logoff_stats"
   ]
  },
  {
   "cell_type": "code",
   "execution_count": 78,
   "metadata": {
    "id": "GN2B0tr2lUEM"
   },
   "outputs": [],
   "source": [
    "min_ts = [dtt2timestamp(dtt) for dtt in df_user_logoff_stats_sec['min']] \n",
    "max_ts = [dtt2timestamp(dtt) for dtt in df_user_logoff_stats_sec['max']]\n",
    "mode_ts = [dtt2timestamp(dtt) for dtt in df_user_logoff_stats_sec['mode']]\n",
    "mean_ts = [dtt2timestamp(dtt) for dtt in df_user_logoff_stats_sec['mean']]"
   ]
  },
  {
   "cell_type": "code",
   "execution_count": 79,
   "metadata": {
    "id": "fs92g2OJlayS"
   },
   "outputs": [],
   "source": [
    "df_user_logoff_stats_sec['min_ts'] = min_ts\n",
    "df_user_logoff_stats_sec['max_ts'] = max_ts\n",
    "df_user_logoff_stats_sec['mode_ts'] = mode_ts\n",
    "df_user_logoff_stats_sec['mean_ts'] = mean_ts"
   ]
  },
  {
   "cell_type": "code",
   "execution_count": 80,
   "metadata": {
    "colab": {
     "base_uri": "https://localhost:8080/",
     "height": 419
    },
    "id": "00Bl8qoVmQBl",
    "outputId": "5261a4f3-67dd-488e-cc01-b71feaa26eb7"
   },
   "outputs": [
    {
     "data": {
      "text/html": [
       "<div>\n",
       "<style scoped>\n",
       "    .dataframe tbody tr th:only-of-type {\n",
       "        vertical-align: middle;\n",
       "    }\n",
       "\n",
       "    .dataframe tbody tr th {\n",
       "        vertical-align: top;\n",
       "    }\n",
       "\n",
       "    .dataframe thead th {\n",
       "        text-align: right;\n",
       "    }\n",
       "</style>\n",
       "<table border=\"1\" class=\"dataframe\">\n",
       "  <thead>\n",
       "    <tr style=\"text-align: right;\">\n",
       "      <th></th>\n",
       "      <th>user</th>\n",
       "      <th>min_ts</th>\n",
       "      <th>max_ts</th>\n",
       "      <th>mode_ts</th>\n",
       "      <th>mean_ts</th>\n",
       "    </tr>\n",
       "  </thead>\n",
       "  <tbody>\n",
       "    <tr>\n",
       "      <th>0</th>\n",
       "      <td>AAN0077</td>\n",
       "      <td>60420</td>\n",
       "      <td>62100</td>\n",
       "      <td>60960</td>\n",
       "      <td>57600</td>\n",
       "    </tr>\n",
       "    <tr>\n",
       "      <th>1</th>\n",
       "      <td>AAW0103</td>\n",
       "      <td>58320</td>\n",
       "      <td>59400</td>\n",
       "      <td>58440</td>\n",
       "      <td>57600</td>\n",
       "    </tr>\n",
       "    <tr>\n",
       "      <th>2</th>\n",
       "      <td>ACE0265</td>\n",
       "      <td>57900</td>\n",
       "      <td>59400</td>\n",
       "      <td>57960</td>\n",
       "      <td>57600</td>\n",
       "    </tr>\n",
       "    <tr>\n",
       "      <th>3</th>\n",
       "      <td>ACL0394</td>\n",
       "      <td>33235</td>\n",
       "      <td>63000</td>\n",
       "      <td>62100</td>\n",
       "      <td>57600</td>\n",
       "    </tr>\n",
       "    <tr>\n",
       "      <th>4</th>\n",
       "      <td>ADR0362</td>\n",
       "      <td>60120</td>\n",
       "      <td>61200</td>\n",
       "      <td>60300</td>\n",
       "      <td>57600</td>\n",
       "    </tr>\n",
       "    <tr>\n",
       "      <th>...</th>\n",
       "      <td>...</td>\n",
       "      <td>...</td>\n",
       "      <td>...</td>\n",
       "      <td>...</td>\n",
       "      <td>...</td>\n",
       "    </tr>\n",
       "    <tr>\n",
       "      <th>225</th>\n",
       "      <td>XTM0246</td>\n",
       "      <td>60480</td>\n",
       "      <td>62100</td>\n",
       "      <td>61200</td>\n",
       "      <td>57600</td>\n",
       "    </tr>\n",
       "    <tr>\n",
       "      <th>226</th>\n",
       "      <td>YJT0368</td>\n",
       "      <td>27293</td>\n",
       "      <td>68732</td>\n",
       "      <td>60300</td>\n",
       "      <td>54000</td>\n",
       "    </tr>\n",
       "    <tr>\n",
       "      <th>227</th>\n",
       "      <td>YSB0779</td>\n",
       "      <td>60180</td>\n",
       "      <td>61200</td>\n",
       "      <td>60300</td>\n",
       "      <td>57600</td>\n",
       "    </tr>\n",
       "    <tr>\n",
       "      <th>228</th>\n",
       "      <td>ZBL0379</td>\n",
       "      <td>69420</td>\n",
       "      <td>71100</td>\n",
       "      <td>70200</td>\n",
       "      <td>68400</td>\n",
       "    </tr>\n",
       "    <tr>\n",
       "      <th>229</th>\n",
       "      <td>ZIF0269</td>\n",
       "      <td>57840</td>\n",
       "      <td>59400</td>\n",
       "      <td>57900</td>\n",
       "      <td>57600</td>\n",
       "    </tr>\n",
       "  </tbody>\n",
       "</table>\n",
       "<p>230 rows × 5 columns</p>\n",
       "</div>"
      ],
      "text/plain": [
       "        user  min_ts  max_ts  mode_ts  mean_ts\n",
       "0    AAN0077   60420   62100    60960    57600\n",
       "1    AAW0103   58320   59400    58440    57600\n",
       "2    ACE0265   57900   59400    57960    57600\n",
       "3    ACL0394   33235   63000    62100    57600\n",
       "4    ADR0362   60120   61200    60300    57600\n",
       "..       ...     ...     ...      ...      ...\n",
       "225  XTM0246   60480   62100    61200    57600\n",
       "226  YJT0368   27293   68732    60300    54000\n",
       "227  YSB0779   60180   61200    60300    57600\n",
       "228  ZBL0379   69420   71100    70200    68400\n",
       "229  ZIF0269   57840   59400    57900    57600\n",
       "\n",
       "[230 rows x 5 columns]"
      ]
     },
     "execution_count": 80,
     "metadata": {},
     "output_type": "execute_result"
    }
   ],
   "source": [
    "df_user_logoff_stats_sec.drop(['min', 'max','mode','mean'], axis=1)"
   ]
  },
  {
   "cell_type": "code",
   "execution_count": 81,
   "metadata": {
    "id": "SX_ib_9SmSpp"
   },
   "outputs": [
    {
     "data": {
      "text/html": [
       "<div>\n",
       "<style scoped>\n",
       "    .dataframe tbody tr th:only-of-type {\n",
       "        vertical-align: middle;\n",
       "    }\n",
       "\n",
       "    .dataframe tbody tr th {\n",
       "        vertical-align: top;\n",
       "    }\n",
       "\n",
       "    .dataframe thead th {\n",
       "        text-align: right;\n",
       "    }\n",
       "</style>\n",
       "<table border=\"1\" class=\"dataframe\">\n",
       "  <thead>\n",
       "    <tr style=\"text-align: right;\">\n",
       "      <th></th>\n",
       "      <th>user</th>\n",
       "      <th>on_min_ts</th>\n",
       "      <th>on_max_ts</th>\n",
       "      <th>on_mode_ts</th>\n",
       "      <th>on_mean_ts</th>\n",
       "      <th>off_min_ts</th>\n",
       "      <th>off_max_ts</th>\n",
       "      <th>off_mode_ts</th>\n",
       "      <th>off_mean_ts</th>\n",
       "    </tr>\n",
       "  </thead>\n",
       "  <tbody>\n",
       "    <tr>\n",
       "      <th>0</th>\n",
       "      <td>AAN0077</td>\n",
       "      <td>27900</td>\n",
       "      <td>29580</td>\n",
       "      <td>29580</td>\n",
       "      <td>25200</td>\n",
       "      <td>27900</td>\n",
       "      <td>29580</td>\n",
       "      <td>29580</td>\n",
       "      <td>25200</td>\n",
       "    </tr>\n",
       "    <tr>\n",
       "      <th>1</th>\n",
       "      <td>AAW0103</td>\n",
       "      <td>25200</td>\n",
       "      <td>26280</td>\n",
       "      <td>26100</td>\n",
       "      <td>25200</td>\n",
       "      <td>25200</td>\n",
       "      <td>26280</td>\n",
       "      <td>26100</td>\n",
       "      <td>25200</td>\n",
       "    </tr>\n",
       "    <tr>\n",
       "      <th>2</th>\n",
       "      <td>ACE0265</td>\n",
       "      <td>28800</td>\n",
       "      <td>30300</td>\n",
       "      <td>29700</td>\n",
       "      <td>28800</td>\n",
       "      <td>28800</td>\n",
       "      <td>30300</td>\n",
       "      <td>29700</td>\n",
       "      <td>28800</td>\n",
       "    </tr>\n",
       "    <tr>\n",
       "      <th>3</th>\n",
       "      <td>ACL0394</td>\n",
       "      <td>32400</td>\n",
       "      <td>60757</td>\n",
       "      <td>33300</td>\n",
       "      <td>32400</td>\n",
       "      <td>32400</td>\n",
       "      <td>60757</td>\n",
       "      <td>33300</td>\n",
       "      <td>32400</td>\n",
       "    </tr>\n",
       "    <tr>\n",
       "      <th>4</th>\n",
       "      <td>ADR0362</td>\n",
       "      <td>27000</td>\n",
       "      <td>28080</td>\n",
       "      <td>28080</td>\n",
       "      <td>25200</td>\n",
       "      <td>27000</td>\n",
       "      <td>28080</td>\n",
       "      <td>28080</td>\n",
       "      <td>25200</td>\n",
       "    </tr>\n",
       "  </tbody>\n",
       "</table>\n",
       "</div>"
      ],
      "text/plain": [
       "      user  on_min_ts  on_max_ts  on_mode_ts  on_mean_ts  off_min_ts  \\\n",
       "0  AAN0077      27900      29580       29580       25200       27900   \n",
       "1  AAW0103      25200      26280       26100       25200       25200   \n",
       "2  ACE0265      28800      30300       29700       28800       28800   \n",
       "3  ACL0394      32400      60757       33300       32400       32400   \n",
       "4  ADR0362      27000      28080       28080       25200       27000   \n",
       "\n",
       "   off_max_ts  off_mode_ts  off_mean_ts  \n",
       "0       29580        29580        25200  \n",
       "1       26280        26100        25200  \n",
       "2       30300        29700        28800  \n",
       "3       60757        33300        32400  \n",
       "4       28080        28080        25200  "
      ]
     },
     "metadata": {},
     "output_type": "display_data"
    },
    {
     "data": {
      "text/plain": [
       "(230, 9)"
      ]
     },
     "metadata": {},
     "output_type": "display_data"
    }
   ],
   "source": [
    "# combined logon/logoff data for IForest input\n",
    "\n",
    "df_log_on_off_stats = pd.DataFrame()\n",
    "\n",
    "df_log_on_off_stats['user'] = df_user_logon_stats_sec['user']\n",
    "\n",
    "df_log_on_off_stats['on_min_ts'] = df_user_logon_stats_sec['min_ts']\n",
    "df_log_on_off_stats['on_max_ts'] = df_user_logon_stats_sec['max_ts']\n",
    "df_log_on_off_stats['on_mode_ts'] = df_user_logon_stats_sec['mode_ts']\n",
    "df_log_on_off_stats['on_mean_ts'] = df_user_logon_stats['mean_ts']\n",
    "\n",
    "df_log_on_off_stats['off_min_ts'] = df_user_logon_stats_sec['min_ts']\n",
    "df_log_on_off_stats['off_max_ts'] = df_user_logon_stats_sec['max_ts']\n",
    "df_log_on_off_stats['off_mode_ts'] = df_user_logon_stats_sec['mode_ts']\n",
    "df_log_on_off_stats['off_mean_ts'] = df_user_logon_stats_sec['mean_ts']\n",
    "\n",
    "display(df_log_on_off_stats.head())\n",
    "display(df_log_on_off_stats.shape)"
   ]
  },
  {
   "cell_type": "markdown",
   "metadata": {
    "id": "qRZ0eHGhnTjo"
   },
   "source": [
    "#### Modeling logon/logoff relationship using Isolation Forests"
   ]
  },
  {
   "cell_type": "code",
   "execution_count": 82,
   "metadata": {
    "colab": {
     "base_uri": "https://localhost:8080/"
    },
    "id": "uNwVevJVnWw0",
    "outputId": "1768c63d-1169-4a72-da28-85215fae9727"
   },
   "outputs": [
    {
     "data": {
      "text/plain": [
       "matrix([[27900, 29580, 29580, ..., 29580, 29580, 25200],\n",
       "        [25200, 26280, 26100, ..., 26280, 26100, 25200],\n",
       "        [28800, 30300, 29700, ..., 30300, 29700, 28800],\n",
       "        ...,\n",
       "        [27000, 28020, 27900, ..., 28020, 27900, 25200],\n",
       "        [29700, 52585, 30600, ..., 52585, 30600, 36000],\n",
       "        [25200, 26760, 26100, ..., 26760, 26100, 25200]])"
      ]
     },
     "metadata": {},
     "output_type": "display_data"
    }
   ],
   "source": [
    "# input array\n",
    "log_stats = df_log_on_off_stats.drop(['user'], axis = 1)\n",
    "log_stats_matrix = np.matrix(log_stats)\n",
    "display(log_stats_matrix)"
   ]
  },
  {
   "cell_type": "code",
   "execution_count": 83,
   "metadata": {
    "colab": {
     "base_uri": "https://localhost:8080/"
    },
    "id": "R1nHKRQ9nzaD",
    "outputId": "6236cd8c-33b6-4820-d97a-eaff88c74f2b"
   },
   "outputs": [
    {
     "data": {
      "text/plain": [
       "array([0.06429753, 0.10757803, 0.16175284, 0.02565626, 0.12458772,\n",
       "       0.18747908, 0.18412649, 0.17802261, 0.1834251 , 0.0977283 ])"
      ]
     },
     "metadata": {},
     "output_type": "display_data"
    },
    {
     "data": {
      "text/plain": [
       "(230,)"
      ]
     },
     "metadata": {},
     "output_type": "display_data"
    }
   ],
   "source": [
    "forest = IsolationForest(bootstrap=False, contamination= 0.1 , max_features=1.0,\n",
    "        max_samples='auto', n_estimators=100, n_jobs=1, random_state=None,\n",
    "        verbose=0)\n",
    "forest.fit(log_stats_matrix)\n",
    "log_ascore = forest.decision_function(log_stats_matrix)\n",
    "display(log_ascore[:10])\n",
    "display(log_ascore.shape)"
   ]
  },
  {
   "cell_type": "code",
   "execution_count": 84,
   "metadata": {
    "colab": {
     "base_uri": "https://localhost:8080/"
    },
    "id": "kAUP6ou1n9kp",
    "outputId": "73b066d9-afd8-4d74-c4e0-0c3029693ab9"
   },
   "outputs": [
    {
     "data": {
      "text/html": [
       "<div>\n",
       "<style scoped>\n",
       "    .dataframe tbody tr th:only-of-type {\n",
       "        vertical-align: middle;\n",
       "    }\n",
       "\n",
       "    .dataframe tbody tr th {\n",
       "        vertical-align: top;\n",
       "    }\n",
       "\n",
       "    .dataframe thead th {\n",
       "        text-align: right;\n",
       "    }\n",
       "</style>\n",
       "<table border=\"1\" class=\"dataframe\">\n",
       "  <thead>\n",
       "    <tr style=\"text-align: right;\">\n",
       "      <th></th>\n",
       "      <th>user</th>\n",
       "      <th>ascore</th>\n",
       "    </tr>\n",
       "  </thead>\n",
       "  <tbody>\n",
       "    <tr>\n",
       "      <th>0</th>\n",
       "      <td>AAN0077</td>\n",
       "      <td>0.064298</td>\n",
       "    </tr>\n",
       "    <tr>\n",
       "      <th>1</th>\n",
       "      <td>AAW0103</td>\n",
       "      <td>0.107578</td>\n",
       "    </tr>\n",
       "    <tr>\n",
       "      <th>2</th>\n",
       "      <td>ACE0265</td>\n",
       "      <td>0.161753</td>\n",
       "    </tr>\n",
       "    <tr>\n",
       "      <th>3</th>\n",
       "      <td>ACL0394</td>\n",
       "      <td>0.025656</td>\n",
       "    </tr>\n",
       "    <tr>\n",
       "      <th>4</th>\n",
       "      <td>ADR0362</td>\n",
       "      <td>0.124588</td>\n",
       "    </tr>\n",
       "  </tbody>\n",
       "</table>\n",
       "</div>"
      ],
      "text/plain": [
       "      user    ascore\n",
       "0  AAN0077  0.064298\n",
       "1  AAW0103  0.107578\n",
       "2  ACE0265  0.161753\n",
       "3  ACL0394  0.025656\n",
       "4  ADR0362  0.124588"
      ]
     },
     "metadata": {},
     "output_type": "display_data"
    },
    {
     "data": {
      "text/plain": [
       "(230, 2)"
      ]
     },
     "metadata": {},
     "output_type": "display_data"
    }
   ],
   "source": [
    "df_user_log_result = pd.DataFrame()\n",
    "df_user_log_result['user'] = df_user_logoff_stats_sec['user']\n",
    "df_user_log_result['ascore'] = log_ascore\n",
    "display(df_user_log_result.head())\n",
    "display(df_user_log_result.shape)"
   ]
  },
  {
   "cell_type": "code",
   "execution_count": 85,
   "metadata": {
    "colab": {
     "base_uri": "https://localhost:8080/",
     "height": 762
    },
    "id": "Z6JSUpMjoPrm",
    "outputId": "f4fcb256-cef3-4e5f-dbee-156428147543"
   },
   "outputs": [
    {
     "data": {
      "text/html": [
       "<div>\n",
       "<style scoped>\n",
       "    .dataframe tbody tr th:only-of-type {\n",
       "        vertical-align: middle;\n",
       "    }\n",
       "\n",
       "    .dataframe tbody tr th {\n",
       "        vertical-align: top;\n",
       "    }\n",
       "\n",
       "    .dataframe thead th {\n",
       "        text-align: right;\n",
       "    }\n",
       "</style>\n",
       "<table border=\"1\" class=\"dataframe\">\n",
       "  <thead>\n",
       "    <tr style=\"text-align: right;\">\n",
       "      <th></th>\n",
       "      <th>user</th>\n",
       "      <th>ascore</th>\n",
       "    </tr>\n",
       "  </thead>\n",
       "  <tbody>\n",
       "    <tr>\n",
       "      <th>29</th>\n",
       "      <td>BKA0340</td>\n",
       "      <td>-0.047109</td>\n",
       "    </tr>\n",
       "    <tr>\n",
       "      <th>31</th>\n",
       "      <td>BMS0057</td>\n",
       "      <td>-0.015377</td>\n",
       "    </tr>\n",
       "    <tr>\n",
       "      <th>43</th>\n",
       "      <td>BZV0067</td>\n",
       "      <td>-0.017243</td>\n",
       "    </tr>\n",
       "    <tr>\n",
       "      <th>56</th>\n",
       "      <td>CQS0899</td>\n",
       "      <td>-0.129985</td>\n",
       "    </tr>\n",
       "    <tr>\n",
       "      <th>65</th>\n",
       "      <td>DJS0406</td>\n",
       "      <td>-0.068265</td>\n",
       "    </tr>\n",
       "  </tbody>\n",
       "</table>\n",
       "</div>"
      ],
      "text/plain": [
       "       user    ascore\n",
       "29  BKA0340 -0.047109\n",
       "31  BMS0057 -0.015377\n",
       "43  BZV0067 -0.017243\n",
       "56  CQS0899 -0.129985\n",
       "65  DJS0406 -0.068265"
      ]
     },
     "metadata": {},
     "output_type": "display_data"
    }
   ],
   "source": [
    "##OUTLIERS\n",
    "#user_log_result.sort_values('ascore')\n",
    "outliers_user = df_user_log_result.loc[df_user_log_result['ascore'] < 0]\n",
    "display(outliers_user.head())"
   ]
  },
  {
   "cell_type": "markdown",
   "metadata": {},
   "source": [
    "#### Model with removable device and file transfer stats as ip"
   ]
  },
  {
   "cell_type": "code",
   "execution_count": 86,
   "metadata": {},
   "outputs": [
    {
     "data": {
      "text/html": [
       "<div>\n",
       "<style scoped>\n",
       "    .dataframe tbody tr th:only-of-type {\n",
       "        vertical-align: middle;\n",
       "    }\n",
       "\n",
       "    .dataframe tbody tr th {\n",
       "        vertical-align: top;\n",
       "    }\n",
       "\n",
       "    .dataframe thead th {\n",
       "        text-align: right;\n",
       "    }\n",
       "</style>\n",
       "<table border=\"1\" class=\"dataframe\">\n",
       "  <thead>\n",
       "    <tr style=\"text-align: right;\">\n",
       "      <th></th>\n",
       "      <th>user</th>\n",
       "      <th>min</th>\n",
       "      <th>max</th>\n",
       "      <th>mode</th>\n",
       "      <th>mean</th>\n",
       "    </tr>\n",
       "  </thead>\n",
       "  <tbody>\n",
       "    <tr>\n",
       "      <th>0</th>\n",
       "      <td>AJQ0376</td>\n",
       "      <td>08:26:41</td>\n",
       "      <td>19:04:54</td>\n",
       "      <td>13:06:43</td>\n",
       "      <td>12:00:00</td>\n",
       "    </tr>\n",
       "    <tr>\n",
       "      <th>1</th>\n",
       "      <td>AJR0231</td>\n",
       "      <td>07:31:40</td>\n",
       "      <td>15:48:38</td>\n",
       "      <td>10:05:35</td>\n",
       "      <td>10:00:00</td>\n",
       "    </tr>\n",
       "    <tr>\n",
       "      <th>2</th>\n",
       "      <td>AOD0066</td>\n",
       "      <td>07:41:33</td>\n",
       "      <td>15:31:35</td>\n",
       "      <td>13:28:33</td>\n",
       "      <td>10:00:00</td>\n",
       "    </tr>\n",
       "    <tr>\n",
       "      <th>3</th>\n",
       "      <td>ARH0777</td>\n",
       "      <td>07:42:36</td>\n",
       "      <td>16:34:49</td>\n",
       "      <td>15:46:35</td>\n",
       "      <td>11:00:00</td>\n",
       "    </tr>\n",
       "    <tr>\n",
       "      <th>4</th>\n",
       "      <td>BCP0247</td>\n",
       "      <td>01:21:10</td>\n",
       "      <td>23:32:44</td>\n",
       "      <td>04:20:38</td>\n",
       "      <td>11:00:00</td>\n",
       "    </tr>\n",
       "  </tbody>\n",
       "</table>\n",
       "</div>"
      ],
      "text/plain": [
       "      user       min       max      mode      mean\n",
       "0  AJQ0376  08:26:41  19:04:54  13:06:43  12:00:00\n",
       "1  AJR0231  07:31:40  15:48:38  10:05:35  10:00:00\n",
       "2  AOD0066  07:41:33  15:31:35  13:28:33  10:00:00\n",
       "3  ARH0777  07:42:36  16:34:49  15:46:35  11:00:00\n",
       "4  BCP0247  01:21:10  23:32:44  04:20:38  11:00:00"
      ]
     },
     "metadata": {},
     "output_type": "display_data"
    }
   ],
   "source": [
    "display(df_device_conn_stats.head())"
   ]
  },
  {
   "cell_type": "code",
   "execution_count": 87,
   "metadata": {
    "id": "E1HKkFzzoWx3"
   },
   "outputs": [
    {
     "data": {
      "text/html": [
       "<div>\n",
       "<style scoped>\n",
       "    .dataframe tbody tr th:only-of-type {\n",
       "        vertical-align: middle;\n",
       "    }\n",
       "\n",
       "    .dataframe tbody tr th {\n",
       "        vertical-align: top;\n",
       "    }\n",
       "\n",
       "    .dataframe thead th {\n",
       "        text-align: right;\n",
       "    }\n",
       "</style>\n",
       "<table border=\"1\" class=\"dataframe\">\n",
       "  <thead>\n",
       "    <tr style=\"text-align: right;\">\n",
       "      <th></th>\n",
       "      <th>user</th>\n",
       "      <th>min_ts</th>\n",
       "      <th>max_ts</th>\n",
       "      <th>mode_ts</th>\n",
       "      <th>mean_ts</th>\n",
       "    </tr>\n",
       "  </thead>\n",
       "  <tbody>\n",
       "    <tr>\n",
       "      <th>0</th>\n",
       "      <td>AJQ0376</td>\n",
       "      <td>30401</td>\n",
       "      <td>68694</td>\n",
       "      <td>47203</td>\n",
       "      <td>43200</td>\n",
       "    </tr>\n",
       "    <tr>\n",
       "      <th>1</th>\n",
       "      <td>AJR0231</td>\n",
       "      <td>27100</td>\n",
       "      <td>56918</td>\n",
       "      <td>36335</td>\n",
       "      <td>36000</td>\n",
       "    </tr>\n",
       "    <tr>\n",
       "      <th>2</th>\n",
       "      <td>AOD0066</td>\n",
       "      <td>27693</td>\n",
       "      <td>55895</td>\n",
       "      <td>48513</td>\n",
       "      <td>36000</td>\n",
       "    </tr>\n",
       "    <tr>\n",
       "      <th>3</th>\n",
       "      <td>ARH0777</td>\n",
       "      <td>27756</td>\n",
       "      <td>59689</td>\n",
       "      <td>56795</td>\n",
       "      <td>39600</td>\n",
       "    </tr>\n",
       "    <tr>\n",
       "      <th>4</th>\n",
       "      <td>BCP0247</td>\n",
       "      <td>4870</td>\n",
       "      <td>84764</td>\n",
       "      <td>15638</td>\n",
       "      <td>39600</td>\n",
       "    </tr>\n",
       "  </tbody>\n",
       "</table>\n",
       "</div>"
      ],
      "text/plain": [
       "      user  min_ts  max_ts  mode_ts  mean_ts\n",
       "0  AJQ0376   30401   68694    47203    43200\n",
       "1  AJR0231   27100   56918    36335    36000\n",
       "2  AOD0066   27693   55895    48513    36000\n",
       "3  ARH0777   27756   59689    56795    39600\n",
       "4  BCP0247    4870   84764    15638    39600"
      ]
     },
     "metadata": {},
     "output_type": "display_data"
    },
    {
     "data": {
      "text/plain": [
       "(47, 5)"
      ]
     },
     "metadata": {},
     "output_type": "display_data"
    }
   ],
   "source": [
    "df_device_conn_stats_sec = df_device_conn_stats\n",
    "con_min_ts = [dtt2timestamp(dtt) for dtt in df_device_conn_stats_sec['min']]\n",
    "con_max_ts = [dtt2timestamp(dtt) for dtt in df_device_conn_stats_sec['max']]\n",
    "con_mode_ts = [dtt2timestamp(dtt) for dtt in df_device_conn_stats_sec['mode']]\n",
    "con_mean_ts = [dtt2timestamp(dtt) for dtt in df_device_conn_stats_sec['mean']]\n",
    "\n",
    "df_device_conn_stats_sec['min_ts'] = con_min_ts\n",
    "df_device_conn_stats_sec['max_ts'] = con_max_ts\n",
    "df_device_conn_stats_sec['mode_ts'] = con_mode_ts\n",
    "df_device_conn_stats_sec['mean_ts'] = con_mean_ts\n",
    "df_device_conn_stats_sec = df_device_conn_stats_sec.drop(['min', 'max','mode','mean'], axis=1)\n",
    "\n",
    "display(df_device_conn_stats_sec.head())\n",
    "display(df_device_conn_stats_sec.shape)"
   ]
  },
  {
   "cell_type": "markdown",
   "metadata": {},
   "source": [
    "### Device with disconnect Activity"
   ]
  },
  {
   "cell_type": "code",
   "execution_count": 88,
   "metadata": {},
   "outputs": [
    {
     "data": {
      "text/html": [
       "<div>\n",
       "<style scoped>\n",
       "    .dataframe tbody tr th:only-of-type {\n",
       "        vertical-align: middle;\n",
       "    }\n",
       "\n",
       "    .dataframe tbody tr th {\n",
       "        vertical-align: top;\n",
       "    }\n",
       "\n",
       "    .dataframe thead th {\n",
       "        text-align: right;\n",
       "    }\n",
       "</style>\n",
       "<table border=\"1\" class=\"dataframe\">\n",
       "  <thead>\n",
       "    <tr style=\"text-align: right;\">\n",
       "      <th></th>\n",
       "      <th>user</th>\n",
       "      <th>min</th>\n",
       "      <th>max</th>\n",
       "      <th>mode</th>\n",
       "      <th>mean</th>\n",
       "    </tr>\n",
       "  </thead>\n",
       "  <tbody>\n",
       "    <tr>\n",
       "      <th>0</th>\n",
       "      <td>AJQ0376</td>\n",
       "      <td>08:45:27</td>\n",
       "      <td>19:38:50</td>\n",
       "      <td>15:46:32</td>\n",
       "      <td>14:00:00</td>\n",
       "    </tr>\n",
       "    <tr>\n",
       "      <th>1</th>\n",
       "      <td>AJR0231</td>\n",
       "      <td>07:41:45</td>\n",
       "      <td>15:55:37</td>\n",
       "      <td>12:26:22</td>\n",
       "      <td>11:00:00</td>\n",
       "    </tr>\n",
       "    <tr>\n",
       "      <th>2</th>\n",
       "      <td>AOD0066</td>\n",
       "      <td>08:09:15</td>\n",
       "      <td>15:43:27</td>\n",
       "      <td>15:40:42</td>\n",
       "      <td>12:00:00</td>\n",
       "    </tr>\n",
       "    <tr>\n",
       "      <th>3</th>\n",
       "      <td>ARH0777</td>\n",
       "      <td>07:46:44</td>\n",
       "      <td>16:52:13</td>\n",
       "      <td>09:19:46</td>\n",
       "      <td>12:00:00</td>\n",
       "    </tr>\n",
       "    <tr>\n",
       "      <th>4</th>\n",
       "      <td>BCP0247</td>\n",
       "      <td>00:30:41</td>\n",
       "      <td>23:49:41</td>\n",
       "      <td>05:37:11</td>\n",
       "      <td>12:00:00</td>\n",
       "    </tr>\n",
       "  </tbody>\n",
       "</table>\n",
       "</div>"
      ],
      "text/plain": [
       "      user       min       max      mode      mean\n",
       "0  AJQ0376  08:45:27  19:38:50  15:46:32  14:00:00\n",
       "1  AJR0231  07:41:45  15:55:37  12:26:22  11:00:00\n",
       "2  AOD0066  08:09:15  15:43:27  15:40:42  12:00:00\n",
       "3  ARH0777  07:46:44  16:52:13  09:19:46  12:00:00\n",
       "4  BCP0247  00:30:41  23:49:41  05:37:11  12:00:00"
      ]
     },
     "metadata": {},
     "output_type": "display_data"
    }
   ],
   "source": [
    "display(df_device_disconn_stats.head())"
   ]
  },
  {
   "cell_type": "code",
   "execution_count": 89,
   "metadata": {
    "id": "uOwtUMGUoxv8"
   },
   "outputs": [
    {
     "data": {
      "text/html": [
       "<div>\n",
       "<style scoped>\n",
       "    .dataframe tbody tr th:only-of-type {\n",
       "        vertical-align: middle;\n",
       "    }\n",
       "\n",
       "    .dataframe tbody tr th {\n",
       "        vertical-align: top;\n",
       "    }\n",
       "\n",
       "    .dataframe thead th {\n",
       "        text-align: right;\n",
       "    }\n",
       "</style>\n",
       "<table border=\"1\" class=\"dataframe\">\n",
       "  <thead>\n",
       "    <tr style=\"text-align: right;\">\n",
       "      <th></th>\n",
       "      <th>user</th>\n",
       "      <th>min_ts</th>\n",
       "      <th>max_ts</th>\n",
       "      <th>mode_ts</th>\n",
       "      <th>mean_ts</th>\n",
       "    </tr>\n",
       "  </thead>\n",
       "  <tbody>\n",
       "    <tr>\n",
       "      <th>0</th>\n",
       "      <td>AJQ0376</td>\n",
       "      <td>30401</td>\n",
       "      <td>68694</td>\n",
       "      <td>47203</td>\n",
       "      <td>43200</td>\n",
       "    </tr>\n",
       "    <tr>\n",
       "      <th>1</th>\n",
       "      <td>AJR0231</td>\n",
       "      <td>27100</td>\n",
       "      <td>56918</td>\n",
       "      <td>36335</td>\n",
       "      <td>36000</td>\n",
       "    </tr>\n",
       "    <tr>\n",
       "      <th>2</th>\n",
       "      <td>AOD0066</td>\n",
       "      <td>27693</td>\n",
       "      <td>55895</td>\n",
       "      <td>48513</td>\n",
       "      <td>36000</td>\n",
       "    </tr>\n",
       "    <tr>\n",
       "      <th>3</th>\n",
       "      <td>ARH0777</td>\n",
       "      <td>27756</td>\n",
       "      <td>59689</td>\n",
       "      <td>56795</td>\n",
       "      <td>39600</td>\n",
       "    </tr>\n",
       "    <tr>\n",
       "      <th>4</th>\n",
       "      <td>BCP0247</td>\n",
       "      <td>4870</td>\n",
       "      <td>84764</td>\n",
       "      <td>15638</td>\n",
       "      <td>39600</td>\n",
       "    </tr>\n",
       "  </tbody>\n",
       "</table>\n",
       "</div>"
      ],
      "text/plain": [
       "      user  min_ts  max_ts  mode_ts  mean_ts\n",
       "0  AJQ0376   30401   68694    47203    43200\n",
       "1  AJR0231   27100   56918    36335    36000\n",
       "2  AOD0066   27693   55895    48513    36000\n",
       "3  ARH0777   27756   59689    56795    39600\n",
       "4  BCP0247    4870   84764    15638    39600"
      ]
     },
     "metadata": {},
     "output_type": "display_data"
    },
    {
     "data": {
      "text/plain": [
       "(47, 5)"
      ]
     },
     "metadata": {},
     "output_type": "display_data"
    }
   ],
   "source": [
    "df_device_disconn_stats_sec = df_device_conn_stats\n",
    "discon_min_ts = [dtt2timestamp(dtt) for dtt in df_device_disconn_stats_sec['min']]\n",
    "discon_max_ts = [dtt2timestamp(dtt) for dtt in df_device_disconn_stats_sec['max']]\n",
    "discon_mode_ts = [dtt2timestamp(dtt) for dtt in df_device_disconn_stats_sec['mode']]\n",
    "discon_mean_ts = [dtt2timestamp(dtt) for dtt in df_device_disconn_stats_sec['mean']]\n",
    "\n",
    "df_device_disconn_stats_sec['min_ts'] = discon_min_ts\n",
    "df_device_disconn_stats_sec['max_ts'] = discon_max_ts\n",
    "df_device_disconn_stats_sec['mode_ts'] = discon_mode_ts\n",
    "df_device_disconn_stats_sec['mean_ts'] = discon_mean_ts\n",
    "df_device_disconn_stats_sec = df_device_disconn_stats_sec.drop(['min', 'max','mode','mean'], axis=1)\n",
    "\n",
    "display(df_device_disconn_stats_sec.head())\n",
    "display(df_device_disconn_stats_sec.shape)"
   ]
  },
  {
   "cell_type": "markdown",
   "metadata": {},
   "source": [
    "#### Files and Device"
   ]
  },
  {
   "cell_type": "code",
   "execution_count": 90,
   "metadata": {
    "id": "Wen5i_JcpJIu"
   },
   "outputs": [],
   "source": [
    "# Combine all the removable media (device) parameters\n",
    "df_device_full = pd.DataFrame()\n",
    "df_device_full['user'] = df_device_conn_stats['user']"
   ]
  },
  {
   "cell_type": "code",
   "execution_count": 91,
   "metadata": {
    "id": "akDuC76Lp31p"
   },
   "outputs": [],
   "source": [
    "# connect stats\n",
    "df_device_full['con_min_ts'] = df_device_conn_stats_sec['min_ts']\n",
    "df_device_full['con_max_ts'] = df_device_conn_stats_sec['max_ts']\n",
    "df_device_full['con_mode_ts'] = df_device_conn_stats_sec['mode_ts']\n",
    "df_device_full['con_mean_ts'] = df_device_conn_stats_sec['mean_ts']\n",
    "\n",
    "# disconnect stats\n",
    "df_device_full['dcon_min_ts'] = df_device_disconn_stats_sec['min_ts']\n",
    "df_device_full['dcon_max_ts'] = df_device_disconn_stats_sec['max_ts']\n",
    "df_device_full['dcon_mode_ts'] = df_device_disconn_stats_sec['mode_ts']\n",
    "df_device_full['dcon_mean_ts'] = df_device_disconn_stats_sec['mean_ts']\n",
    "\n",
    "# files per day stats\n",
    "df_device_full['file_mode'] = df_files_stats_new['mode_trasfers_per_user']\n",
    "df_device_full['file_max'] = df_files_stats_new['max_transfers_per_user']"
   ]
  },
  {
   "cell_type": "code",
   "execution_count": 92,
   "metadata": {},
   "outputs": [
    {
     "data": {
      "text/html": [
       "<div>\n",
       "<style scoped>\n",
       "    .dataframe tbody tr th:only-of-type {\n",
       "        vertical-align: middle;\n",
       "    }\n",
       "\n",
       "    .dataframe tbody tr th {\n",
       "        vertical-align: top;\n",
       "    }\n",
       "\n",
       "    .dataframe thead th {\n",
       "        text-align: right;\n",
       "    }\n",
       "</style>\n",
       "<table border=\"1\" class=\"dataframe\">\n",
       "  <thead>\n",
       "    <tr style=\"text-align: right;\">\n",
       "      <th></th>\n",
       "      <th>user</th>\n",
       "      <th>con_min_ts</th>\n",
       "      <th>con_max_ts</th>\n",
       "      <th>con_mode_ts</th>\n",
       "      <th>con_mean_ts</th>\n",
       "      <th>dcon_min_ts</th>\n",
       "      <th>dcon_max_ts</th>\n",
       "      <th>dcon_mode_ts</th>\n",
       "      <th>dcon_mean_ts</th>\n",
       "      <th>file_mode</th>\n",
       "      <th>file_max</th>\n",
       "    </tr>\n",
       "  </thead>\n",
       "  <tbody>\n",
       "    <tr>\n",
       "      <th>0</th>\n",
       "      <td>AJQ0376</td>\n",
       "      <td>30401</td>\n",
       "      <td>68694</td>\n",
       "      <td>47203</td>\n",
       "      <td>43200</td>\n",
       "      <td>30401</td>\n",
       "      <td>68694</td>\n",
       "      <td>47203</td>\n",
       "      <td>43200</td>\n",
       "      <td>486</td>\n",
       "      <td>486</td>\n",
       "    </tr>\n",
       "    <tr>\n",
       "      <th>1</th>\n",
       "      <td>AJR0231</td>\n",
       "      <td>27100</td>\n",
       "      <td>56918</td>\n",
       "      <td>36335</td>\n",
       "      <td>36000</td>\n",
       "      <td>27100</td>\n",
       "      <td>56918</td>\n",
       "      <td>36335</td>\n",
       "      <td>36000</td>\n",
       "      <td>90</td>\n",
       "      <td>252</td>\n",
       "    </tr>\n",
       "    <tr>\n",
       "      <th>2</th>\n",
       "      <td>AOD0066</td>\n",
       "      <td>27693</td>\n",
       "      <td>55895</td>\n",
       "      <td>48513</td>\n",
       "      <td>36000</td>\n",
       "      <td>27693</td>\n",
       "      <td>55895</td>\n",
       "      <td>48513</td>\n",
       "      <td>36000</td>\n",
       "      <td>30</td>\n",
       "      <td>72</td>\n",
       "    </tr>\n",
       "    <tr>\n",
       "      <th>3</th>\n",
       "      <td>ARH0777</td>\n",
       "      <td>27756</td>\n",
       "      <td>59689</td>\n",
       "      <td>56795</td>\n",
       "      <td>39600</td>\n",
       "      <td>27756</td>\n",
       "      <td>59689</td>\n",
       "      <td>56795</td>\n",
       "      <td>39600</td>\n",
       "      <td>36</td>\n",
       "      <td>144</td>\n",
       "    </tr>\n",
       "    <tr>\n",
       "      <th>4</th>\n",
       "      <td>BCP0247</td>\n",
       "      <td>4870</td>\n",
       "      <td>84764</td>\n",
       "      <td>15638</td>\n",
       "      <td>39600</td>\n",
       "      <td>4870</td>\n",
       "      <td>84764</td>\n",
       "      <td>15638</td>\n",
       "      <td>39600</td>\n",
       "      <td>54</td>\n",
       "      <td>198</td>\n",
       "    </tr>\n",
       "  </tbody>\n",
       "</table>\n",
       "</div>"
      ],
      "text/plain": [
       "      user  con_min_ts  con_max_ts  con_mode_ts  con_mean_ts  dcon_min_ts  \\\n",
       "0  AJQ0376       30401       68694        47203        43200        30401   \n",
       "1  AJR0231       27100       56918        36335        36000        27100   \n",
       "2  AOD0066       27693       55895        48513        36000        27693   \n",
       "3  ARH0777       27756       59689        56795        39600        27756   \n",
       "4  BCP0247        4870       84764        15638        39600         4870   \n",
       "\n",
       "   dcon_max_ts  dcon_mode_ts  dcon_mean_ts  file_mode  file_max  \n",
       "0        68694         47203         43200        486       486  \n",
       "1        56918         36335         36000         90       252  \n",
       "2        55895         48513         36000         30        72  \n",
       "3        59689         56795         39600         36       144  \n",
       "4        84764         15638         39600         54       198  "
      ]
     },
     "metadata": {},
     "output_type": "display_data"
    },
    {
     "data": {
      "text/plain": [
       "(47, 11)"
      ]
     },
     "metadata": {},
     "output_type": "display_data"
    }
   ],
   "source": [
    "display(df_device_full.head())\n",
    "display(df_device_full.shape)"
   ]
  },
  {
   "cell_type": "markdown",
   "metadata": {},
   "source": [
    "### Model fitting"
   ]
  },
  {
   "cell_type": "code",
   "execution_count": 93,
   "metadata": {
    "colab": {
     "base_uri": "https://localhost:8080/"
    },
    "id": "LOWe3yHQqOKB",
    "outputId": "a3c3e3a4-bdf6-408d-af7f-7bf8ba7bfa0c"
   },
   "outputs": [
    {
     "data": {
      "text/plain": [
       "matrix([[30401, 68694, 47203, 43200, 30401, 68694, 47203, 43200,   486,\n",
       "           486],\n",
       "        [27100, 56918, 36335, 36000, 27100, 56918, 36335, 36000,    90,\n",
       "           252],\n",
       "        [27693, 55895, 48513, 36000, 27693, 55895, 48513, 36000,    30,\n",
       "            72],\n",
       "        [27756, 59689, 56795, 39600, 27756, 59689, 56795, 39600,    36,\n",
       "           144],\n",
       "        [ 4870, 84764, 15638, 39600,  4870, 84764, 15638, 39600,    54,\n",
       "           198],\n",
       "        [33007, 61926, 35672, 39600, 33007, 61926, 35672, 39600,    72,\n",
       "           234],\n",
       "        [ 1185, 76882, 51006, 43200,  1185, 76882, 51006, 43200,    36,\n",
       "           234],\n",
       "        [28882, 59022, 45455, 39600, 28882, 59022, 45455, 39600,   486,\n",
       "           486],\n",
       "        [16018, 83814, 51636, 39600, 16018, 83814, 51636, 39600,    36,\n",
       "           198],\n",
       "        [29154, 57723, 32112, 39600, 29154, 57723, 32112, 39600,    18,\n",
       "           198]])"
      ]
     },
     "metadata": {},
     "output_type": "display_data"
    }
   ],
   "source": [
    "device_full_matrix = df_device_full.drop(['user'],axis=1)\n",
    "device_params = np.matrix(device_full_matrix)\n",
    "display(device_params[:10])"
   ]
  },
  {
   "cell_type": "code",
   "execution_count": 94,
   "metadata": {
    "colab": {
     "base_uri": "https://localhost:8080/"
    },
    "id": "4HjCKrgbsUbu",
    "outputId": "99bc3e36-a329-473e-e96d-94b8ba94d9be"
   },
   "outputs": [
    {
     "data": {
      "text/plain": [
       "IsolationForest(contamination=0.1, n_jobs=1)"
      ]
     },
     "execution_count": 94,
     "metadata": {},
     "output_type": "execute_result"
    }
   ],
   "source": [
    "# fit the model\n",
    "forest = IsolationForest(bootstrap=False, contamination=0.1, max_features=1.0,\n",
    "        max_samples='auto', n_estimators=100, n_jobs=1, random_state=None,\n",
    "        verbose=0)\n",
    "forest.fit(device_params)"
   ]
  },
  {
   "cell_type": "code",
   "execution_count": 95,
   "metadata": {
    "colab": {
     "base_uri": "https://localhost:8080/"
    },
    "id": "YtlBxG8BtL3r",
    "outputId": "5d60f003-239a-4679-ff46-f00373a2f3d6"
   },
   "outputs": [
    {
     "data": {
      "text/plain": [
       "array([ 0.05045577,  0.12946497,  0.08106335,  0.11707078, -0.00507768,\n",
       "        0.13704776, -0.04337196,  0.1294389 ,  0.01440463,  0.1448018 ,\n",
       "        0.13015544,  0.12913384, -0.05583167,  0.15608999,  0.10805846,\n",
       "        0.10634816,  0.03039432,  0.12256401,  0.11776378,  0.14676423,\n",
       "        0.13229902,  0.12014491,  0.12420911,  0.12095629,  0.09894533,\n",
       "        0.15342006,  0.09654847,  0.13491246,  0.17560742,  0.04766778,\n",
       "        0.04730572,  0.03423874,  0.05518623,  0.12418911,  0.08824015,\n",
       "        0.04517293,  0.0912654 , -0.05879888,  0.1215149 ,  0.02197701,\n",
       "       -0.03949179,  0.08841034,  0.13716072,  0.12674057,  0.12516789,\n",
       "        0.09853136,  0.00338512])"
      ]
     },
     "metadata": {},
     "output_type": "display_data"
    }
   ],
   "source": [
    "## Anomaly Score\n",
    "\n",
    "dev_file_ascore = forest.decision_function(device_params)\n",
    "display(dev_file_ascore)"
   ]
  },
  {
   "cell_type": "code",
   "execution_count": 96,
   "metadata": {
    "colab": {
     "base_uri": "https://localhost:8080/",
     "height": 1000
    },
    "id": "ByDJGFjbtmGc",
    "outputId": "e8310ce5-042b-49a5-a5e6-4fd0beb7f51c"
   },
   "outputs": [
    {
     "data": {
      "text/html": [
       "<div>\n",
       "<style scoped>\n",
       "    .dataframe tbody tr th:only-of-type {\n",
       "        vertical-align: middle;\n",
       "    }\n",
       "\n",
       "    .dataframe tbody tr th {\n",
       "        vertical-align: top;\n",
       "    }\n",
       "\n",
       "    .dataframe thead th {\n",
       "        text-align: right;\n",
       "    }\n",
       "</style>\n",
       "<table border=\"1\" class=\"dataframe\">\n",
       "  <thead>\n",
       "    <tr style=\"text-align: right;\">\n",
       "      <th></th>\n",
       "      <th>user</th>\n",
       "      <th>ascore</th>\n",
       "    </tr>\n",
       "  </thead>\n",
       "  <tbody>\n",
       "    <tr>\n",
       "      <th>0</th>\n",
       "      <td>AJQ0376</td>\n",
       "      <td>0.050456</td>\n",
       "    </tr>\n",
       "    <tr>\n",
       "      <th>1</th>\n",
       "      <td>AJR0231</td>\n",
       "      <td>0.129465</td>\n",
       "    </tr>\n",
       "    <tr>\n",
       "      <th>2</th>\n",
       "      <td>AOD0066</td>\n",
       "      <td>0.081063</td>\n",
       "    </tr>\n",
       "    <tr>\n",
       "      <th>3</th>\n",
       "      <td>ARH0777</td>\n",
       "      <td>0.117071</td>\n",
       "    </tr>\n",
       "    <tr>\n",
       "      <th>4</th>\n",
       "      <td>BCP0247</td>\n",
       "      <td>-0.005078</td>\n",
       "    </tr>\n",
       "  </tbody>\n",
       "</table>\n",
       "</div>"
      ],
      "text/plain": [
       "      user    ascore\n",
       "0  AJQ0376  0.050456\n",
       "1  AJR0231  0.129465\n",
       "2  AOD0066  0.081063\n",
       "3  ARH0777  0.117071\n",
       "4  BCP0247 -0.005078"
      ]
     },
     "metadata": {},
     "output_type": "display_data"
    }
   ],
   "source": [
    "# Save the result\n",
    "df_device_file_full_result = pd.DataFrame()\n",
    "\n",
    "df_device_file_full_result['user'] = df_device_full['user']\n",
    "df_device_file_full_result['ascore'] = dev_file_ascore\n",
    "display(df_device_file_full_result.head())"
   ]
  },
  {
   "cell_type": "code",
   "execution_count": 97,
   "metadata": {
    "colab": {
     "base_uri": "https://localhost:8080/",
     "height": 204
    },
    "id": "IznVB2FLtpdo",
    "outputId": "4812c556-4a82-47bb-d3ac-e3104fd227bc"
   },
   "outputs": [
    {
     "data": {
      "text/html": [
       "<div>\n",
       "<style scoped>\n",
       "    .dataframe tbody tr th:only-of-type {\n",
       "        vertical-align: middle;\n",
       "    }\n",
       "\n",
       "    .dataframe tbody tr th {\n",
       "        vertical-align: top;\n",
       "    }\n",
       "\n",
       "    .dataframe thead th {\n",
       "        text-align: right;\n",
       "    }\n",
       "</style>\n",
       "<table border=\"1\" class=\"dataframe\">\n",
       "  <thead>\n",
       "    <tr style=\"text-align: right;\">\n",
       "      <th></th>\n",
       "      <th>user</th>\n",
       "      <th>ascore</th>\n",
       "    </tr>\n",
       "  </thead>\n",
       "  <tbody>\n",
       "    <tr>\n",
       "      <th>4</th>\n",
       "      <td>BCP0247</td>\n",
       "      <td>-0.005078</td>\n",
       "    </tr>\n",
       "    <tr>\n",
       "      <th>6</th>\n",
       "      <td>BMS0057</td>\n",
       "      <td>-0.043372</td>\n",
       "    </tr>\n",
       "    <tr>\n",
       "      <th>12</th>\n",
       "      <td>CSD0242</td>\n",
       "      <td>-0.055832</td>\n",
       "    </tr>\n",
       "    <tr>\n",
       "      <th>37</th>\n",
       "      <td>QLC0248</td>\n",
       "      <td>-0.058799</td>\n",
       "    </tr>\n",
       "    <tr>\n",
       "      <th>40</th>\n",
       "      <td>SBM0063</td>\n",
       "      <td>-0.039492</td>\n",
       "    </tr>\n",
       "  </tbody>\n",
       "</table>\n",
       "</div>"
      ],
      "text/plain": [
       "       user    ascore\n",
       "4   BCP0247 -0.005078\n",
       "6   BMS0057 -0.043372\n",
       "12  CSD0242 -0.055832\n",
       "37  QLC0248 -0.058799\n",
       "40  SBM0063 -0.039492"
      ]
     },
     "metadata": {},
     "output_type": "display_data"
    }
   ],
   "source": [
    "#device_file_full_result.sort_values('ascore')\n",
    "df_device_file_full_result_sorted = df_device_file_full_result.loc[df_device_file_full_result['ascore'] < 0] \n",
    "display(df_device_file_full_result_sorted)"
   ]
  },
  {
   "cell_type": "markdown",
   "metadata": {},
   "source": [
    "#### Anomaly detection with psychometric data"
   ]
  },
  {
   "cell_type": "code",
   "execution_count": 98,
   "metadata": {},
   "outputs": [
    {
     "data": {
      "text/html": [
       "<div>\n",
       "<style scoped>\n",
       "    .dataframe tbody tr th:only-of-type {\n",
       "        vertical-align: middle;\n",
       "    }\n",
       "\n",
       "    .dataframe tbody tr th {\n",
       "        vertical-align: top;\n",
       "    }\n",
       "\n",
       "    .dataframe thead th {\n",
       "        text-align: right;\n",
       "    }\n",
       "</style>\n",
       "<table border=\"1\" class=\"dataframe\">\n",
       "  <thead>\n",
       "    <tr style=\"text-align: right;\">\n",
       "      <th></th>\n",
       "      <th>employee_name</th>\n",
       "      <th>user_id</th>\n",
       "      <th>O</th>\n",
       "      <th>C</th>\n",
       "      <th>E</th>\n",
       "      <th>A</th>\n",
       "      <th>N</th>\n",
       "    </tr>\n",
       "  </thead>\n",
       "  <tbody>\n",
       "    <tr>\n",
       "      <th>0</th>\n",
       "      <td>Hayden Brennan Browning</td>\n",
       "      <td>HBB0090</td>\n",
       "      <td>41</td>\n",
       "      <td>18</td>\n",
       "      <td>18</td>\n",
       "      <td>44</td>\n",
       "      <td>36</td>\n",
       "    </tr>\n",
       "    <tr>\n",
       "      <th>1</th>\n",
       "      <td>Hayden Brennan Browning</td>\n",
       "      <td>HBB0090</td>\n",
       "      <td>41</td>\n",
       "      <td>18</td>\n",
       "      <td>18</td>\n",
       "      <td>44</td>\n",
       "      <td>36</td>\n",
       "    </tr>\n",
       "    <tr>\n",
       "      <th>2</th>\n",
       "      <td>Hayden Brennan Browning</td>\n",
       "      <td>HBB0090</td>\n",
       "      <td>41</td>\n",
       "      <td>18</td>\n",
       "      <td>18</td>\n",
       "      <td>44</td>\n",
       "      <td>36</td>\n",
       "    </tr>\n",
       "    <tr>\n",
       "      <th>3</th>\n",
       "      <td>Hayden Brennan Browning</td>\n",
       "      <td>HBB0090</td>\n",
       "      <td>41</td>\n",
       "      <td>18</td>\n",
       "      <td>18</td>\n",
       "      <td>44</td>\n",
       "      <td>36</td>\n",
       "    </tr>\n",
       "    <tr>\n",
       "      <th>4</th>\n",
       "      <td>Hayden Brennan Browning</td>\n",
       "      <td>HBB0090</td>\n",
       "      <td>41</td>\n",
       "      <td>18</td>\n",
       "      <td>18</td>\n",
       "      <td>44</td>\n",
       "      <td>36</td>\n",
       "    </tr>\n",
       "  </tbody>\n",
       "</table>\n",
       "</div>"
      ],
      "text/plain": [
       "             employee_name  user_id   O   C   E   A   N\n",
       "0  Hayden Brennan Browning  HBB0090  41  18  18  44  36\n",
       "1  Hayden Brennan Browning  HBB0090  41  18  18  44  36\n",
       "2  Hayden Brennan Browning  HBB0090  41  18  18  44  36\n",
       "3  Hayden Brennan Browning  HBB0090  41  18  18  44  36\n",
       "4  Hayden Brennan Browning  HBB0090  41  18  18  44  36"
      ]
     },
     "metadata": {},
     "output_type": "display_data"
    }
   ],
   "source": [
    "display(df_psychometric_users_clean.head())"
   ]
  },
  {
   "cell_type": "code",
   "execution_count": 99,
   "metadata": {
    "id": "vfjotkq8t4gt"
   },
   "outputs": [
    {
     "data": {
      "text/plain": [
       "matrix([[41, 18, 18, 44, 36],\n",
       "        [41, 18, 18, 44, 36],\n",
       "        [41, 18, 18, 44, 36],\n",
       "        ...,\n",
       "        [22, 17, 39, 34, 18],\n",
       "        [22, 17, 39, 34, 18],\n",
       "        [22, 17, 39, 34, 18]])"
      ]
     },
     "metadata": {},
     "output_type": "display_data"
    }
   ],
   "source": [
    "# fit the model\n",
    "# input array\n",
    "psychometric_matrix = df_psychometric_users_clean.drop(['user_id', 'employee_name'], axis = 1)\n",
    "psychometric_params = np.matrix(psychometric_matrix)\n",
    "display(psychometric_params)"
   ]
  },
  {
   "cell_type": "code",
   "execution_count": 100,
   "metadata": {
    "colab": {
     "base_uri": "https://localhost:8080/"
    },
    "id": "e64NduNPuEDN",
    "outputId": "c4d22dc4-a9f7-4274-8bfa-7690588cbddb"
   },
   "outputs": [
    {
     "data": {
      "text/plain": [
       "IsolationForest(contamination=0.1, n_jobs=1)"
      ]
     },
     "execution_count": 100,
     "metadata": {},
     "output_type": "execute_result"
    }
   ],
   "source": [
    "forest = IsolationForest(bootstrap=False, contamination=0.1, max_features=1.0,\n",
    "        max_samples='auto', n_estimators=100, n_jobs=1, random_state=None,\n",
    "        verbose=0)\n",
    "forest.fit(psychometric_params)"
   ]
  },
  {
   "cell_type": "code",
   "execution_count": 101,
   "metadata": {
    "colab": {
     "base_uri": "https://localhost:8080/"
    },
    "id": "vV6Myef4uNwX",
    "outputId": "ec88df57-0bc5-47bf-8adb-8a2764ec8dd6"
   },
   "outputs": [
    {
     "data": {
      "text/plain": [
       "array([0.03791625, 0.03791625, 0.03791625, 0.03791625, 0.03791625,\n",
       "       0.03791625, 0.03791625, 0.03791625, 0.03791625, 0.03791625])"
      ]
     },
     "metadata": {},
     "output_type": "display_data"
    }
   ],
   "source": [
    "# anomaly score\n",
    "psych_ascore = forest.decision_function(psychometric_params)\n",
    "display(psych_ascore[:10])"
   ]
  },
  {
   "cell_type": "code",
   "execution_count": 102,
   "metadata": {
    "colab": {
     "base_uri": "https://localhost:8080/",
     "height": 419
    },
    "id": "OrW7ZuzFuSdk",
    "outputId": "3b0ddc84-bcbb-4bb2-9fc4-6e27a44d91be"
   },
   "outputs": [
    {
     "data": {
      "text/html": [
       "<div>\n",
       "<style scoped>\n",
       "    .dataframe tbody tr th:only-of-type {\n",
       "        vertical-align: middle;\n",
       "    }\n",
       "\n",
       "    .dataframe tbody tr th {\n",
       "        vertical-align: top;\n",
       "    }\n",
       "\n",
       "    .dataframe thead th {\n",
       "        text-align: right;\n",
       "    }\n",
       "</style>\n",
       "<table border=\"1\" class=\"dataframe\">\n",
       "  <thead>\n",
       "    <tr style=\"text-align: right;\">\n",
       "      <th></th>\n",
       "      <th>user</th>\n",
       "      <th>ascore</th>\n",
       "    </tr>\n",
       "  </thead>\n",
       "  <tbody>\n",
       "    <tr>\n",
       "      <th>0</th>\n",
       "      <td>HBB0090</td>\n",
       "      <td>0.037916</td>\n",
       "    </tr>\n",
       "    <tr>\n",
       "      <th>1</th>\n",
       "      <td>HBB0090</td>\n",
       "      <td>0.037916</td>\n",
       "    </tr>\n",
       "    <tr>\n",
       "      <th>2</th>\n",
       "      <td>HBB0090</td>\n",
       "      <td>0.037916</td>\n",
       "    </tr>\n",
       "    <tr>\n",
       "      <th>3</th>\n",
       "      <td>HBB0090</td>\n",
       "      <td>0.037916</td>\n",
       "    </tr>\n",
       "    <tr>\n",
       "      <th>4</th>\n",
       "      <td>HBB0090</td>\n",
       "      <td>0.037916</td>\n",
       "    </tr>\n",
       "  </tbody>\n",
       "</table>\n",
       "</div>"
      ],
      "text/plain": [
       "      user    ascore\n",
       "0  HBB0090  0.037916\n",
       "1  HBB0090  0.037916\n",
       "2  HBB0090  0.037916\n",
       "3  HBB0090  0.037916\n",
       "4  HBB0090  0.037916"
      ]
     },
     "metadata": {},
     "output_type": "display_data"
    },
    {
     "data": {
      "text/plain": [
       "(3991, 2)"
      ]
     },
     "metadata": {},
     "output_type": "display_data"
    }
   ],
   "source": [
    "#psych_ascore.shape\n",
    "df_psychometric_result = pd.DataFrame()\n",
    "\n",
    "df_psychometric_result['user'] = df_psychometric_users_clean['user_id']\n",
    "df_psychometric_result['ascore'] = psych_ascore\n",
    "display(df_psychometric_result.head())\n",
    "display(df_psychometric_result.shape)"
   ]
  },
  {
   "cell_type": "code",
   "execution_count": 103,
   "metadata": {
    "colab": {
     "base_uri": "https://localhost:8080/",
     "height": 419
    },
    "id": "rs8lNxnFuV_i",
    "outputId": "2b96e70b-e362-4e8b-8b88-4767e8ebd7c2"
   },
   "outputs": [
    {
     "data": {
      "text/html": [
       "<div>\n",
       "<style scoped>\n",
       "    .dataframe tbody tr th:only-of-type {\n",
       "        vertical-align: middle;\n",
       "    }\n",
       "\n",
       "    .dataframe tbody tr th {\n",
       "        vertical-align: top;\n",
       "    }\n",
       "\n",
       "    .dataframe thead th {\n",
       "        text-align: right;\n",
       "    }\n",
       "</style>\n",
       "<table border=\"1\" class=\"dataframe\">\n",
       "  <thead>\n",
       "    <tr style=\"text-align: right;\">\n",
       "      <th></th>\n",
       "      <th>user</th>\n",
       "      <th>ascore</th>\n",
       "    </tr>\n",
       "  </thead>\n",
       "  <tbody>\n",
       "    <tr>\n",
       "      <th>203</th>\n",
       "      <td>JAB0249</td>\n",
       "      <td>-0.024824</td>\n",
       "    </tr>\n",
       "    <tr>\n",
       "      <th>204</th>\n",
       "      <td>JAB0249</td>\n",
       "      <td>-0.024824</td>\n",
       "    </tr>\n",
       "    <tr>\n",
       "      <th>205</th>\n",
       "      <td>JAB0249</td>\n",
       "      <td>-0.024824</td>\n",
       "    </tr>\n",
       "    <tr>\n",
       "      <th>206</th>\n",
       "      <td>JAB0249</td>\n",
       "      <td>-0.024824</td>\n",
       "    </tr>\n",
       "    <tr>\n",
       "      <th>207</th>\n",
       "      <td>JAB0249</td>\n",
       "      <td>-0.024824</td>\n",
       "    </tr>\n",
       "  </tbody>\n",
       "</table>\n",
       "</div>"
      ],
      "text/plain": [
       "        user    ascore\n",
       "203  JAB0249 -0.024824\n",
       "204  JAB0249 -0.024824\n",
       "205  JAB0249 -0.024824\n",
       "206  JAB0249 -0.024824\n",
       "207  JAB0249 -0.024824"
      ]
     },
     "metadata": {},
     "output_type": "display_data"
    },
    {
     "data": {
      "text/plain": [
       "(396, 2)"
      ]
     },
     "metadata": {},
     "output_type": "display_data"
    }
   ],
   "source": [
    "#OUTLIERS\n",
    "#psychometric_result.sort_values('ascore')\n",
    "df_psychometric_result_outlier = df_psychometric_result.loc[df_psychometric_result['ascore'] < 0]\n",
    "display(df_psychometric_result_outlier.head())\n",
    "display(df_psychometric_result_outlier.shape)"
   ]
  },
  {
   "cell_type": "markdown",
   "metadata": {
    "id": "HqqEJFHuuesd"
   },
   "source": [
    "#### Model with some of input features combined "
   ]
  },
  {
   "cell_type": "code",
   "execution_count": 104,
   "metadata": {
    "id": "sB2xHREhvzMD"
   },
   "outputs": [
    {
     "data": {
      "text/html": [
       "<div>\n",
       "<style scoped>\n",
       "    .dataframe tbody tr th:only-of-type {\n",
       "        vertical-align: middle;\n",
       "    }\n",
       "\n",
       "    .dataframe tbody tr th {\n",
       "        vertical-align: top;\n",
       "    }\n",
       "\n",
       "    .dataframe thead th {\n",
       "        text-align: right;\n",
       "    }\n",
       "</style>\n",
       "<table border=\"1\" class=\"dataframe\">\n",
       "  <thead>\n",
       "    <tr style=\"text-align: right;\">\n",
       "      <th></th>\n",
       "      <th>user</th>\n",
       "      <th>on_min_ts</th>\n",
       "      <th>on_max_ts</th>\n",
       "      <th>on_mode_ts</th>\n",
       "      <th>on_mean_ts</th>\n",
       "      <th>off_min_ts</th>\n",
       "      <th>off_max_ts</th>\n",
       "      <th>off_mode_ts</th>\n",
       "      <th>off_mean_ts</th>\n",
       "      <th>count</th>\n",
       "    </tr>\n",
       "  </thead>\n",
       "  <tbody>\n",
       "    <tr>\n",
       "      <th>0</th>\n",
       "      <td>AAN0077</td>\n",
       "      <td>27900</td>\n",
       "      <td>29580</td>\n",
       "      <td>29580</td>\n",
       "      <td>25200</td>\n",
       "      <td>27900</td>\n",
       "      <td>29580</td>\n",
       "      <td>29580</td>\n",
       "      <td>25200</td>\n",
       "      <td>1</td>\n",
       "    </tr>\n",
       "    <tr>\n",
       "      <th>1</th>\n",
       "      <td>AAW0103</td>\n",
       "      <td>25200</td>\n",
       "      <td>26280</td>\n",
       "      <td>26100</td>\n",
       "      <td>25200</td>\n",
       "      <td>25200</td>\n",
       "      <td>26280</td>\n",
       "      <td>26100</td>\n",
       "      <td>25200</td>\n",
       "      <td>1</td>\n",
       "    </tr>\n",
       "    <tr>\n",
       "      <th>2</th>\n",
       "      <td>ACE0265</td>\n",
       "      <td>28800</td>\n",
       "      <td>30300</td>\n",
       "      <td>29700</td>\n",
       "      <td>28800</td>\n",
       "      <td>28800</td>\n",
       "      <td>30300</td>\n",
       "      <td>29700</td>\n",
       "      <td>28800</td>\n",
       "      <td>1</td>\n",
       "    </tr>\n",
       "    <tr>\n",
       "      <th>3</th>\n",
       "      <td>ACL0394</td>\n",
       "      <td>32400</td>\n",
       "      <td>60757</td>\n",
       "      <td>33300</td>\n",
       "      <td>32400</td>\n",
       "      <td>32400</td>\n",
       "      <td>60757</td>\n",
       "      <td>33300</td>\n",
       "      <td>32400</td>\n",
       "      <td>2</td>\n",
       "    </tr>\n",
       "    <tr>\n",
       "      <th>4</th>\n",
       "      <td>ADR0362</td>\n",
       "      <td>27000</td>\n",
       "      <td>28080</td>\n",
       "      <td>28080</td>\n",
       "      <td>25200</td>\n",
       "      <td>27000</td>\n",
       "      <td>28080</td>\n",
       "      <td>28080</td>\n",
       "      <td>25200</td>\n",
       "      <td>1</td>\n",
       "    </tr>\n",
       "  </tbody>\n",
       "</table>\n",
       "</div>"
      ],
      "text/plain": [
       "      user  on_min_ts  on_max_ts  on_mode_ts  on_mean_ts  off_min_ts  \\\n",
       "0  AAN0077      27900      29580       29580       25200       27900   \n",
       "1  AAW0103      25200      26280       26100       25200       25200   \n",
       "2  ACE0265      28800      30300       29700       28800       28800   \n",
       "3  ACL0394      32400      60757       33300       32400       32400   \n",
       "4  ADR0362      27000      28080       28080       25200       27000   \n",
       "\n",
       "   off_max_ts  off_mode_ts  off_mean_ts  count  \n",
       "0       29580        29580        25200      1  \n",
       "1       26280        26100        25200      1  \n",
       "2       30300        29700        28800      1  \n",
       "3       60757        33300        32400      2  \n",
       "4       28080        28080        25200      1  "
      ]
     },
     "metadata": {},
     "output_type": "display_data"
    }
   ],
   "source": [
    "df = pd.merge(df_log_on_off_stats, df_user_pc, on='user')\n",
    "display(df.head())"
   ]
  },
  {
   "cell_type": "code",
   "execution_count": 105,
   "metadata": {
    "id": "hqA4F16Av_nr"
   },
   "outputs": [
    {
     "data": {
      "text/html": [
       "<div>\n",
       "<style scoped>\n",
       "    .dataframe tbody tr th:only-of-type {\n",
       "        vertical-align: middle;\n",
       "    }\n",
       "\n",
       "    .dataframe tbody tr th {\n",
       "        vertical-align: top;\n",
       "    }\n",
       "\n",
       "    .dataframe thead th {\n",
       "        text-align: right;\n",
       "    }\n",
       "</style>\n",
       "<table border=\"1\" class=\"dataframe\">\n",
       "  <thead>\n",
       "    <tr style=\"text-align: right;\">\n",
       "      <th></th>\n",
       "      <th>user</th>\n",
       "      <th>on_min_ts</th>\n",
       "      <th>on_max_ts</th>\n",
       "      <th>on_mode_ts</th>\n",
       "      <th>on_mean_ts</th>\n",
       "      <th>off_min_ts</th>\n",
       "      <th>off_max_ts</th>\n",
       "      <th>off_mode_ts</th>\n",
       "      <th>off_mean_ts</th>\n",
       "      <th>count</th>\n",
       "      <th>employee_name</th>\n",
       "      <th>user_id</th>\n",
       "      <th>O</th>\n",
       "      <th>C</th>\n",
       "      <th>E</th>\n",
       "      <th>A</th>\n",
       "      <th>N</th>\n",
       "    </tr>\n",
       "  </thead>\n",
       "  <tbody>\n",
       "    <tr>\n",
       "      <th>0</th>\n",
       "      <td>AAN0077</td>\n",
       "      <td>27900</td>\n",
       "      <td>29580</td>\n",
       "      <td>29580</td>\n",
       "      <td>25200</td>\n",
       "      <td>27900</td>\n",
       "      <td>29580</td>\n",
       "      <td>29580</td>\n",
       "      <td>25200</td>\n",
       "      <td>1</td>\n",
       "      <td>Allistair Akeem Nichols</td>\n",
       "      <td>AAN0077</td>\n",
       "      <td>42</td>\n",
       "      <td>15</td>\n",
       "      <td>32</td>\n",
       "      <td>22</td>\n",
       "      <td>29</td>\n",
       "    </tr>\n",
       "    <tr>\n",
       "      <th>1</th>\n",
       "      <td>AAW0103</td>\n",
       "      <td>25200</td>\n",
       "      <td>26280</td>\n",
       "      <td>26100</td>\n",
       "      <td>25200</td>\n",
       "      <td>25200</td>\n",
       "      <td>26280</td>\n",
       "      <td>26100</td>\n",
       "      <td>25200</td>\n",
       "      <td>1</td>\n",
       "      <td>Alexa Allegra Walton</td>\n",
       "      <td>AAW0103</td>\n",
       "      <td>39</td>\n",
       "      <td>42</td>\n",
       "      <td>47</td>\n",
       "      <td>39</td>\n",
       "      <td>28</td>\n",
       "    </tr>\n",
       "    <tr>\n",
       "      <th>2</th>\n",
       "      <td>ACE0265</td>\n",
       "      <td>28800</td>\n",
       "      <td>30300</td>\n",
       "      <td>29700</td>\n",
       "      <td>28800</td>\n",
       "      <td>28800</td>\n",
       "      <td>30300</td>\n",
       "      <td>29700</td>\n",
       "      <td>28800</td>\n",
       "      <td>1</td>\n",
       "      <td>Amos Carson Emerson</td>\n",
       "      <td>ACE0265</td>\n",
       "      <td>26</td>\n",
       "      <td>23</td>\n",
       "      <td>14</td>\n",
       "      <td>19</td>\n",
       "      <td>40</td>\n",
       "    </tr>\n",
       "    <tr>\n",
       "      <th>3</th>\n",
       "      <td>ACL0394</td>\n",
       "      <td>32400</td>\n",
       "      <td>60757</td>\n",
       "      <td>33300</td>\n",
       "      <td>32400</td>\n",
       "      <td>32400</td>\n",
       "      <td>60757</td>\n",
       "      <td>33300</td>\n",
       "      <td>32400</td>\n",
       "      <td>2</td>\n",
       "      <td>Adam Clark Lindsey</td>\n",
       "      <td>ACL0394</td>\n",
       "      <td>25</td>\n",
       "      <td>44</td>\n",
       "      <td>18</td>\n",
       "      <td>19</td>\n",
       "      <td>17</td>\n",
       "    </tr>\n",
       "    <tr>\n",
       "      <th>4</th>\n",
       "      <td>ADR0362</td>\n",
       "      <td>27000</td>\n",
       "      <td>28080</td>\n",
       "      <td>28080</td>\n",
       "      <td>25200</td>\n",
       "      <td>27000</td>\n",
       "      <td>28080</td>\n",
       "      <td>28080</td>\n",
       "      <td>25200</td>\n",
       "      <td>1</td>\n",
       "      <td>Amir Damian Rosario</td>\n",
       "      <td>ADR0362</td>\n",
       "      <td>32</td>\n",
       "      <td>42</td>\n",
       "      <td>35</td>\n",
       "      <td>38</td>\n",
       "      <td>26</td>\n",
       "    </tr>\n",
       "  </tbody>\n",
       "</table>\n",
       "</div>"
      ],
      "text/plain": [
       "      user  on_min_ts  on_max_ts  on_mode_ts  on_mean_ts  off_min_ts  \\\n",
       "0  AAN0077      27900      29580       29580       25200       27900   \n",
       "1  AAW0103      25200      26280       26100       25200       25200   \n",
       "2  ACE0265      28800      30300       29700       28800       28800   \n",
       "3  ACL0394      32400      60757       33300       32400       32400   \n",
       "4  ADR0362      27000      28080       28080       25200       27000   \n",
       "\n",
       "   off_max_ts  off_mode_ts  off_mean_ts  count            employee_name  \\\n",
       "0       29580        29580        25200      1  Allistair Akeem Nichols   \n",
       "1       26280        26100        25200      1     Alexa Allegra Walton   \n",
       "2       30300        29700        28800      1      Amos Carson Emerson   \n",
       "3       60757        33300        32400      2       Adam Clark Lindsey   \n",
       "4       28080        28080        25200      1      Amir Damian Rosario   \n",
       "\n",
       "   user_id   O   C   E   A   N  \n",
       "0  AAN0077  42  15  32  22  29  \n",
       "1  AAW0103  39  42  47  39  28  \n",
       "2  ACE0265  26  23  14  19  40  \n",
       "3  ACL0394  25  44  18  19  17  \n",
       "4  ADR0362  32  42  35  38  26  "
      ]
     },
     "metadata": {},
     "output_type": "display_data"
    },
    {
     "data": {
      "text/plain": [
       "(230, 17)"
      ]
     },
     "metadata": {},
     "output_type": "display_data"
    }
   ],
   "source": [
    "df_1 = pd.merge(df, df_psychometric, left_on = 'user', right_on = 'user_id')\n",
    "display(df_1.head())\n",
    "display(df_1.shape)"
   ]
  },
  {
   "cell_type": "code",
   "execution_count": 106,
   "metadata": {
    "id": "RBVsYhZByXpG"
   },
   "outputs": [
    {
     "data": {
      "text/html": [
       "<div>\n",
       "<style scoped>\n",
       "    .dataframe tbody tr th:only-of-type {\n",
       "        vertical-align: middle;\n",
       "    }\n",
       "\n",
       "    .dataframe tbody tr th {\n",
       "        vertical-align: top;\n",
       "    }\n",
       "\n",
       "    .dataframe thead th {\n",
       "        text-align: right;\n",
       "    }\n",
       "</style>\n",
       "<table border=\"1\" class=\"dataframe\">\n",
       "  <thead>\n",
       "    <tr style=\"text-align: right;\">\n",
       "      <th></th>\n",
       "      <th>user</th>\n",
       "      <th>on_min_ts</th>\n",
       "      <th>on_max_ts</th>\n",
       "      <th>on_mode_ts</th>\n",
       "      <th>on_mean_ts</th>\n",
       "      <th>off_min_ts</th>\n",
       "      <th>off_max_ts</th>\n",
       "      <th>off_mode_ts</th>\n",
       "      <th>off_mean_ts</th>\n",
       "      <th>count</th>\n",
       "      <th>O</th>\n",
       "      <th>C</th>\n",
       "      <th>E</th>\n",
       "      <th>A</th>\n",
       "      <th>N</th>\n",
       "    </tr>\n",
       "  </thead>\n",
       "  <tbody>\n",
       "    <tr>\n",
       "      <th>0</th>\n",
       "      <td>AAN0077</td>\n",
       "      <td>27900</td>\n",
       "      <td>29580</td>\n",
       "      <td>29580</td>\n",
       "      <td>25200</td>\n",
       "      <td>27900</td>\n",
       "      <td>29580</td>\n",
       "      <td>29580</td>\n",
       "      <td>25200</td>\n",
       "      <td>1</td>\n",
       "      <td>42</td>\n",
       "      <td>15</td>\n",
       "      <td>32</td>\n",
       "      <td>22</td>\n",
       "      <td>29</td>\n",
       "    </tr>\n",
       "    <tr>\n",
       "      <th>1</th>\n",
       "      <td>AAW0103</td>\n",
       "      <td>25200</td>\n",
       "      <td>26280</td>\n",
       "      <td>26100</td>\n",
       "      <td>25200</td>\n",
       "      <td>25200</td>\n",
       "      <td>26280</td>\n",
       "      <td>26100</td>\n",
       "      <td>25200</td>\n",
       "      <td>1</td>\n",
       "      <td>39</td>\n",
       "      <td>42</td>\n",
       "      <td>47</td>\n",
       "      <td>39</td>\n",
       "      <td>28</td>\n",
       "    </tr>\n",
       "    <tr>\n",
       "      <th>2</th>\n",
       "      <td>ACE0265</td>\n",
       "      <td>28800</td>\n",
       "      <td>30300</td>\n",
       "      <td>29700</td>\n",
       "      <td>28800</td>\n",
       "      <td>28800</td>\n",
       "      <td>30300</td>\n",
       "      <td>29700</td>\n",
       "      <td>28800</td>\n",
       "      <td>1</td>\n",
       "      <td>26</td>\n",
       "      <td>23</td>\n",
       "      <td>14</td>\n",
       "      <td>19</td>\n",
       "      <td>40</td>\n",
       "    </tr>\n",
       "    <tr>\n",
       "      <th>3</th>\n",
       "      <td>ACL0394</td>\n",
       "      <td>32400</td>\n",
       "      <td>60757</td>\n",
       "      <td>33300</td>\n",
       "      <td>32400</td>\n",
       "      <td>32400</td>\n",
       "      <td>60757</td>\n",
       "      <td>33300</td>\n",
       "      <td>32400</td>\n",
       "      <td>2</td>\n",
       "      <td>25</td>\n",
       "      <td>44</td>\n",
       "      <td>18</td>\n",
       "      <td>19</td>\n",
       "      <td>17</td>\n",
       "    </tr>\n",
       "    <tr>\n",
       "      <th>4</th>\n",
       "      <td>ADR0362</td>\n",
       "      <td>27000</td>\n",
       "      <td>28080</td>\n",
       "      <td>28080</td>\n",
       "      <td>25200</td>\n",
       "      <td>27000</td>\n",
       "      <td>28080</td>\n",
       "      <td>28080</td>\n",
       "      <td>25200</td>\n",
       "      <td>1</td>\n",
       "      <td>32</td>\n",
       "      <td>42</td>\n",
       "      <td>35</td>\n",
       "      <td>38</td>\n",
       "      <td>26</td>\n",
       "    </tr>\n",
       "  </tbody>\n",
       "</table>\n",
       "</div>"
      ],
      "text/plain": [
       "      user  on_min_ts  on_max_ts  on_mode_ts  on_mean_ts  off_min_ts  \\\n",
       "0  AAN0077      27900      29580       29580       25200       27900   \n",
       "1  AAW0103      25200      26280       26100       25200       25200   \n",
       "2  ACE0265      28800      30300       29700       28800       28800   \n",
       "3  ACL0394      32400      60757       33300       32400       32400   \n",
       "4  ADR0362      27000      28080       28080       25200       27000   \n",
       "\n",
       "   off_max_ts  off_mode_ts  off_mean_ts  count   O   C   E   A   N  \n",
       "0       29580        29580        25200      1  42  15  32  22  29  \n",
       "1       26280        26100        25200      1  39  42  47  39  28  \n",
       "2       30300        29700        28800      1  26  23  14  19  40  \n",
       "3       60757        33300        32400      2  25  44  18  19  17  \n",
       "4       28080        28080        25200      1  32  42  35  38  26  "
      ]
     },
     "metadata": {},
     "output_type": "display_data"
    },
    {
     "data": {
      "text/plain": [
       "(230, 15)"
      ]
     },
     "metadata": {},
     "output_type": "display_data"
    }
   ],
   "source": [
    "df_final = df_1.drop(['employee_name', 'user_id'], axis=1)\n",
    "display(df_final.head())\n",
    "display(df_final.shape)"
   ]
  },
  {
   "cell_type": "code",
   "execution_count": 107,
   "metadata": {
    "id": "TsqN8B6syimi"
   },
   "outputs": [],
   "source": [
    "# Make copy\n",
    "df_all_parameters = df_final"
   ]
  },
  {
   "cell_type": "code",
   "execution_count": 108,
   "metadata": {
    "id": "m8EvKveVyntR"
   },
   "outputs": [
    {
     "data": {
      "text/html": [
       "<div>\n",
       "<style scoped>\n",
       "    .dataframe tbody tr th:only-of-type {\n",
       "        vertical-align: middle;\n",
       "    }\n",
       "\n",
       "    .dataframe tbody tr th {\n",
       "        vertical-align: top;\n",
       "    }\n",
       "\n",
       "    .dataframe thead th {\n",
       "        text-align: right;\n",
       "    }\n",
       "</style>\n",
       "<table border=\"1\" class=\"dataframe\">\n",
       "  <thead>\n",
       "    <tr style=\"text-align: right;\">\n",
       "      <th></th>\n",
       "      <th>on_min_ts</th>\n",
       "      <th>on_max_ts</th>\n",
       "      <th>on_mode_ts</th>\n",
       "      <th>on_mean_ts</th>\n",
       "      <th>off_min_ts</th>\n",
       "      <th>off_max_ts</th>\n",
       "      <th>off_mode_ts</th>\n",
       "      <th>off_mean_ts</th>\n",
       "      <th>count</th>\n",
       "      <th>O</th>\n",
       "      <th>C</th>\n",
       "      <th>E</th>\n",
       "      <th>A</th>\n",
       "      <th>N</th>\n",
       "    </tr>\n",
       "  </thead>\n",
       "  <tbody>\n",
       "    <tr>\n",
       "      <th>0</th>\n",
       "      <td>27900</td>\n",
       "      <td>29580</td>\n",
       "      <td>29580</td>\n",
       "      <td>25200</td>\n",
       "      <td>27900</td>\n",
       "      <td>29580</td>\n",
       "      <td>29580</td>\n",
       "      <td>25200</td>\n",
       "      <td>1</td>\n",
       "      <td>42</td>\n",
       "      <td>15</td>\n",
       "      <td>32</td>\n",
       "      <td>22</td>\n",
       "      <td>29</td>\n",
       "    </tr>\n",
       "    <tr>\n",
       "      <th>1</th>\n",
       "      <td>25200</td>\n",
       "      <td>26280</td>\n",
       "      <td>26100</td>\n",
       "      <td>25200</td>\n",
       "      <td>25200</td>\n",
       "      <td>26280</td>\n",
       "      <td>26100</td>\n",
       "      <td>25200</td>\n",
       "      <td>1</td>\n",
       "      <td>39</td>\n",
       "      <td>42</td>\n",
       "      <td>47</td>\n",
       "      <td>39</td>\n",
       "      <td>28</td>\n",
       "    </tr>\n",
       "    <tr>\n",
       "      <th>2</th>\n",
       "      <td>28800</td>\n",
       "      <td>30300</td>\n",
       "      <td>29700</td>\n",
       "      <td>28800</td>\n",
       "      <td>28800</td>\n",
       "      <td>30300</td>\n",
       "      <td>29700</td>\n",
       "      <td>28800</td>\n",
       "      <td>1</td>\n",
       "      <td>26</td>\n",
       "      <td>23</td>\n",
       "      <td>14</td>\n",
       "      <td>19</td>\n",
       "      <td>40</td>\n",
       "    </tr>\n",
       "    <tr>\n",
       "      <th>3</th>\n",
       "      <td>32400</td>\n",
       "      <td>60757</td>\n",
       "      <td>33300</td>\n",
       "      <td>32400</td>\n",
       "      <td>32400</td>\n",
       "      <td>60757</td>\n",
       "      <td>33300</td>\n",
       "      <td>32400</td>\n",
       "      <td>2</td>\n",
       "      <td>25</td>\n",
       "      <td>44</td>\n",
       "      <td>18</td>\n",
       "      <td>19</td>\n",
       "      <td>17</td>\n",
       "    </tr>\n",
       "    <tr>\n",
       "      <th>4</th>\n",
       "      <td>27000</td>\n",
       "      <td>28080</td>\n",
       "      <td>28080</td>\n",
       "      <td>25200</td>\n",
       "      <td>27000</td>\n",
       "      <td>28080</td>\n",
       "      <td>28080</td>\n",
       "      <td>25200</td>\n",
       "      <td>1</td>\n",
       "      <td>32</td>\n",
       "      <td>42</td>\n",
       "      <td>35</td>\n",
       "      <td>38</td>\n",
       "      <td>26</td>\n",
       "    </tr>\n",
       "  </tbody>\n",
       "</table>\n",
       "</div>"
      ],
      "text/plain": [
       "   on_min_ts  on_max_ts  on_mode_ts  on_mean_ts  off_min_ts  off_max_ts  \\\n",
       "0      27900      29580       29580       25200       27900       29580   \n",
       "1      25200      26280       26100       25200       25200       26280   \n",
       "2      28800      30300       29700       28800       28800       30300   \n",
       "3      32400      60757       33300       32400       32400       60757   \n",
       "4      27000      28080       28080       25200       27000       28080   \n",
       "\n",
       "   off_mode_ts  off_mean_ts  count   O   C   E   A   N  \n",
       "0        29580        25200      1  42  15  32  22  29  \n",
       "1        26100        25200      1  39  42  47  39  28  \n",
       "2        29700        28800      1  26  23  14  19  40  \n",
       "3        33300        32400      2  25  44  18  19  17  \n",
       "4        28080        25200      1  32  42  35  38  26  "
      ]
     },
     "metadata": {},
     "output_type": "display_data"
    },
    {
     "data": {
      "text/plain": [
       "(230, 14)"
      ]
     },
     "metadata": {},
     "output_type": "display_data"
    }
   ],
   "source": [
    "# Model Fitting\n",
    "#input array\n",
    "df_all_parameters_input = df_all_parameters.drop(['user'], axis = 1)\n",
    "display(df_all_parameters_input.head())\n",
    "display(df_all_parameters_input.shape)"
   ]
  },
  {
   "cell_type": "code",
   "execution_count": 109,
   "metadata": {
    "colab": {
     "base_uri": "https://localhost:8080/"
    },
    "id": "tcx7VO2JziIK",
    "outputId": "a377ad66-64a3-42c5-b171-e119016a35e1"
   },
   "outputs": [
    {
     "data": {
      "text/plain": [
       "IsolationForest(contamination=0.1, n_jobs=1)"
      ]
     },
     "execution_count": 109,
     "metadata": {},
     "output_type": "execute_result"
    }
   ],
   "source": [
    "forest = IsolationForest(bootstrap=False, contamination=0.1, max_features=1.0,\n",
    "        max_samples='auto', n_estimators=100, n_jobs=1, random_state=None,\n",
    "        verbose=0)\n",
    "forest.fit(df_all_parameters_input)"
   ]
  },
  {
   "cell_type": "code",
   "execution_count": 110,
   "metadata": {
    "colab": {
     "base_uri": "https://localhost:8080/"
    },
    "id": "P4_ca2dvztK6",
    "outputId": "e9c3f700-d93c-433d-b428-4d33dda856d5"
   },
   "outputs": [
    {
     "data": {
      "text/plain": [
       "array([0.1211002 , 0.0474112 , 0.08492924, 0.01327198, 0.12352989,\n",
       "       0.15251494, 0.1319482 , 0.14427685, 0.15186496, 0.04217148])"
      ]
     },
     "metadata": {},
     "output_type": "display_data"
    }
   ],
   "source": [
    "#anomaly score\n",
    "all_parameters_ascore = forest.decision_function(df_all_parameters_input)\n",
    "display(all_parameters_ascore[:10])"
   ]
  },
  {
   "cell_type": "code",
   "execution_count": 111,
   "metadata": {
    "colab": {
     "base_uri": "https://localhost:8080/"
    },
    "id": "0J2Yg4qNzxeR",
    "outputId": "ad59668e-eb7b-4ca3-a3e5-efa298c2a0f4"
   },
   "outputs": [
    {
     "data": {
      "text/html": [
       "<div>\n",
       "<style scoped>\n",
       "    .dataframe tbody tr th:only-of-type {\n",
       "        vertical-align: middle;\n",
       "    }\n",
       "\n",
       "    .dataframe tbody tr th {\n",
       "        vertical-align: top;\n",
       "    }\n",
       "\n",
       "    .dataframe thead th {\n",
       "        text-align: right;\n",
       "    }\n",
       "</style>\n",
       "<table border=\"1\" class=\"dataframe\">\n",
       "  <thead>\n",
       "    <tr style=\"text-align: right;\">\n",
       "      <th></th>\n",
       "      <th>user</th>\n",
       "      <th>ascore</th>\n",
       "    </tr>\n",
       "  </thead>\n",
       "  <tbody>\n",
       "    <tr>\n",
       "      <th>0</th>\n",
       "      <td>AAN0077</td>\n",
       "      <td>0.121100</td>\n",
       "    </tr>\n",
       "    <tr>\n",
       "      <th>1</th>\n",
       "      <td>AAW0103</td>\n",
       "      <td>0.047411</td>\n",
       "    </tr>\n",
       "    <tr>\n",
       "      <th>2</th>\n",
       "      <td>ACE0265</td>\n",
       "      <td>0.084929</td>\n",
       "    </tr>\n",
       "    <tr>\n",
       "      <th>3</th>\n",
       "      <td>ACL0394</td>\n",
       "      <td>0.013272</td>\n",
       "    </tr>\n",
       "    <tr>\n",
       "      <th>4</th>\n",
       "      <td>ADR0362</td>\n",
       "      <td>0.123530</td>\n",
       "    </tr>\n",
       "  </tbody>\n",
       "</table>\n",
       "</div>"
      ],
      "text/plain": [
       "      user    ascore\n",
       "0  AAN0077  0.121100\n",
       "1  AAW0103  0.047411\n",
       "2  ACE0265  0.084929\n",
       "3  ACL0394  0.013272\n",
       "4  ADR0362  0.123530"
      ]
     },
     "metadata": {},
     "output_type": "display_data"
    }
   ],
   "source": [
    "#psych_ascore.shape\n",
    "df_all_parameters_result = pd.DataFrame()\n",
    "\n",
    "df_all_parameters_result['user'] = df_final['user']\n",
    "df_all_parameters_result['ascore'] = all_parameters_ascore\n",
    "display(df_all_parameters_result.head())"
   ]
  },
  {
   "cell_type": "code",
   "execution_count": 112,
   "metadata": {
    "colab": {
     "base_uri": "https://localhost:8080/",
     "height": 419
    },
    "id": "ovb2P5dLz5IJ",
    "outputId": "f21e9ea9-92f3-4842-c0f7-41f553df9bd1"
   },
   "outputs": [
    {
     "data": {
      "text/html": [
       "<div>\n",
       "<style scoped>\n",
       "    .dataframe tbody tr th:only-of-type {\n",
       "        vertical-align: middle;\n",
       "    }\n",
       "\n",
       "    .dataframe tbody tr th {\n",
       "        vertical-align: top;\n",
       "    }\n",
       "\n",
       "    .dataframe thead th {\n",
       "        text-align: right;\n",
       "    }\n",
       "</style>\n",
       "<table border=\"1\" class=\"dataframe\">\n",
       "  <thead>\n",
       "    <tr style=\"text-align: right;\">\n",
       "      <th></th>\n",
       "      <th>user</th>\n",
       "      <th>ascore</th>\n",
       "    </tr>\n",
       "  </thead>\n",
       "  <tbody>\n",
       "    <tr>\n",
       "      <th>13</th>\n",
       "      <td>ALC0100</td>\n",
       "      <td>-0.078069</td>\n",
       "    </tr>\n",
       "    <tr>\n",
       "      <th>24</th>\n",
       "      <td>BDS0396</td>\n",
       "      <td>-0.004842</td>\n",
       "    </tr>\n",
       "    <tr>\n",
       "      <th>29</th>\n",
       "      <td>BKA0340</td>\n",
       "      <td>-0.010540</td>\n",
       "    </tr>\n",
       "    <tr>\n",
       "      <th>31</th>\n",
       "      <td>BMS0057</td>\n",
       "      <td>-0.012355</td>\n",
       "    </tr>\n",
       "    <tr>\n",
       "      <th>56</th>\n",
       "      <td>CQS0899</td>\n",
       "      <td>-0.106887</td>\n",
       "    </tr>\n",
       "  </tbody>\n",
       "</table>\n",
       "</div>"
      ],
      "text/plain": [
       "       user    ascore\n",
       "13  ALC0100 -0.078069\n",
       "24  BDS0396 -0.004842\n",
       "29  BKA0340 -0.010540\n",
       "31  BMS0057 -0.012355\n",
       "56  CQS0899 -0.106887"
      ]
     },
     "metadata": {},
     "output_type": "display_data"
    },
    {
     "data": {
      "text/plain": [
       "(23, 2)"
      ]
     },
     "metadata": {},
     "output_type": "display_data"
    }
   ],
   "source": [
    "#OUTLIERS\n",
    "df_all_parameters_result_outlier = df_all_parameters_result.loc[df_all_parameters_result['ascore'] < 0]\n",
    "display(df_all_parameters_result_outlier.head())\n",
    "display(df_all_parameters_result_outlier.shape)"
   ]
  },
  {
   "cell_type": "markdown",
   "metadata": {
    "id": "fRy5d3t9z-FS"
   },
   "source": [
    "### Visualization"
   ]
  },
  {
   "cell_type": "code",
   "execution_count": 113,
   "metadata": {},
   "outputs": [],
   "source": [
    "import matplotlib.pyplot as plt\n",
    "import numpy as np\n",
    "import pandas as pd\n",
    "import seaborn as sns\n",
    "\n",
    "#%matplotlib inline"
   ]
  },
  {
   "cell_type": "code",
   "execution_count": 114,
   "metadata": {},
   "outputs": [
    {
     "data": {
      "image/png": "[encoded data removed]",
      "text/plain": [
       "<Figure size 1440x720 with 1 Axes>"
      ]
     },
     "metadata": {
      "needs_background": "light"
     },
     "output_type": "display_data"
    }
   ],
   "source": [
    "f, ax = plt.subplots(figsize = (20,10))\n",
    "x_col='user'\n",
    "y_col = 'ascore'\n",
    "sns.set_theme(style=\"darkgrid\")\n",
    "sns.pointplot(ax=ax,x=x_col,y=y_col,data=df_all_parameters_result,color='purple')\n",
    "sns.pointplot(ax=ax,x=x_col,y=y_col,data=df_user_log_result,color='grey')\n",
    "sns.pointplot(ax=ax,x=x_col,y=y_col,data=df_psychometric_result,color='brown')\n",
    "sns.pointplot(ax=ax,x=x_col,y=y_col,data=df_device_file_full_result,color='darkorange')\n",
    "\n",
    "ax.legend(handles=ax.lines[::len(df_all_parameters_result)+1], labels=[\"All\",\"Graph\",\"Logon/Logoff\",\"Psychometric\",\"Removable Media\"])\n",
    "#ax.set_xtickslabels(rotation = 45)\n",
    "ax.axhline(0, ls='-')\n",
    "ax.set_title('Anomaly score for different set of parameters ', size = 20)\n",
    "plt.rcParams[\"axes.labelsize\"] = 25\n",
    "plt.xticks(rotation = 45, fontsize = 10)\n",
    "plt.yticks(fontsize = 10)\n",
    "plt.show()"
   ]
  },
  {
   "cell_type": "code",
   "execution_count": 115,
   "metadata": {},
   "outputs": [
    {
     "data": {
      "image/png": "[encoded data removed]",
      "text/plain": [
       "<Figure size 1800x1080 with 1 Axes>"
      ]
     },
     "metadata": {},
     "output_type": "display_data"
    }
   ],
   "source": [
    "# file transfer per user\n",
    "f, ax = plt.subplots(figsize = (25,15))\n",
    "x_col='user'\n",
    "\n",
    "sns.pointplot(ax=ax,x=x_col,y='mode_trasfers_per_user',data=df_files_stats_new, color='orange')\n",
    "sns.pointplot(ax=ax,x=x_col,y='max_transfers_per_user',data=df_files_stats_new,color='blue')\n",
    "\n",
    "ax.legend(handles=ax.lines[::len(df_files_stats)+1], labels=[\"mode\", \"max\"], fontsize = 20)\n",
    "\n",
    "ax.set_title('File transfers per user', size = 30)\n",
    "plt.rcParams[\"axes.labelsize\"] = 25\n",
    "plt.ylabel(\"Number of files\")\n",
    "plt.xticks(rotation = 45, fontsize = 10)\n",
    "plt.yticks(fontsize = 10)\n",
    "# plt.legend(fontsize=20)\n",
    "plt.show()"
   ]
  },
  {
   "cell_type": "code",
   "execution_count": null,
   "metadata": {},
   "outputs": [],
   "source": []
  },
  {
   "cell_type": "code",
   "execution_count": 116,
   "metadata": {
    "colab": {
     "base_uri": "https://localhost:8080/",
     "height": 318
    },
    "id": "8VPYuMd0uvwm",
    "outputId": "9b108487-3769-456e-c622-c49d0de955a2"
   },
   "outputs": [
    {
     "data": {
      "text/plain": [
       "array([[<AxesSubplot:title={'center':'ascore'}>]], dtype=object)"
      ]
     },
     "execution_count": 116,
     "metadata": {},
     "output_type": "execute_result"
    },
    {
     "data": {
      "image/png": "[encoded data removed]",
      "text/plain": [
       "<Figure size 432x288 with 1 Axes>"
      ]
     },
     "metadata": {},
     "output_type": "display_data"
    }
   ],
   "source": [
    "df_user_log_result.hist(bins = 15)"
   ]
  },
  {
   "cell_type": "code",
   "execution_count": 117,
   "metadata": {
    "colab": {
     "base_uri": "https://localhost:8080/",
     "height": 318
    },
    "id": "whsrUChUu_62",
    "outputId": "e236312d-8e2c-43e3-d6bc-b3e36b7cfc6d"
   },
   "outputs": [
    {
     "data": {
      "text/plain": [
       "array([[<AxesSubplot:title={'center':'ascore'}>]], dtype=object)"
      ]
     },
     "execution_count": 117,
     "metadata": {},
     "output_type": "execute_result"
    },
    {
     "data": {
      "image/png": "[encoded data removed]",
      "text/plain": [
       "<Figure size 432x288 with 1 Axes>"
      ]
     },
     "metadata": {},
     "output_type": "display_data"
    }
   ],
   "source": [
    "df_device_file_full_result.hist(bins = 15)"
   ]
  },
  {
   "cell_type": "code",
   "execution_count": 118,
   "metadata": {
    "colab": {
     "base_uri": "https://localhost:8080/",
     "height": 318
    },
    "id": "No2GNIZevI60",
    "outputId": "ae20788b-f59a-4bbc-f540-43b7e28ea8ad"
   },
   "outputs": [
    {
     "data": {
      "text/plain": [
       "array([[<AxesSubplot:title={'center':'ascore'}>]], dtype=object)"
      ]
     },
     "execution_count": 118,
     "metadata": {},
     "output_type": "execute_result"
    },
    {
     "data": {
      "image/png": "[encoded data removed]",
      "text/plain": [
       "<Figure size 432x288 with 1 Axes>"
      ]
     },
     "metadata": {},
     "output_type": "display_data"
    }
   ],
   "source": [
    "df_psychometric_result.hist()"
   ]
  },
  {
   "cell_type": "code",
   "execution_count": 119,
   "metadata": {
    "colab": {
     "base_uri": "https://localhost:8080/",
     "height": 318
    },
    "id": "WxnOHx1_3KMz",
    "outputId": "aa8ac54e-399d-43a7-cbc6-86715c692041"
   },
   "outputs": [
    {
     "data": {
      "text/plain": [
       "array([[<AxesSubplot:title={'center':'ascore'}>]], dtype=object)"
      ]
     },
     "execution_count": 119,
     "metadata": {},
     "output_type": "execute_result"
    },
    {
     "data": {
      "image/png": "[encoded data removed]",
      "text/plain": [
       "<Figure size 432x288 with 1 Axes>"
      ]
     },
     "metadata": {},
     "output_type": "display_data"
    }
   ],
   "source": [
    "df_all_parameters_result.hist()"
   ]
  },
  {
   "cell_type": "code",
   "execution_count": 120,
   "metadata": {
    "colab": {
     "base_uri": "https://localhost:8080/",
     "height": 318
    },
    "id": "9l5qYulB3YDJ",
    "outputId": "6064abdb-98ef-41de-9379-f9bcfd1f356e"
   },
   "outputs": [
    {
     "data": {
      "text/plain": [
       "array([[<AxesSubplot:title={'center':'ascore'}>]], dtype=object)"
      ]
     },
     "execution_count": 120,
     "metadata": {},
     "output_type": "execute_result"
    },
    {
     "data": {
      "image/png": "[encoded data removed]",
      "text/plain": [
       "<Figure size 432x288 with 1 Axes>"
      ]
     },
     "metadata": {},
     "output_type": "display_data"
    }
   ],
   "source": [
    "## All parameters combined\n",
    "df_all_parameters_result.loc[df_all_parameters_result['ascore'] < 0].hist()"
   ]
  },
  {
   "cell_type": "code",
   "execution_count": 121,
   "metadata": {
    "colab": {
     "base_uri": "https://localhost:8080/"
    },
    "id": "efth97H04HMR",
    "outputId": "6d8c08f7-d4a4-429e-8438-b368386e6804"
   },
   "outputs": [
    {
     "data": {
      "text/html": [
       "<div>\n",
       "<style scoped>\n",
       "    .dataframe tbody tr th:only-of-type {\n",
       "        vertical-align: middle;\n",
       "    }\n",
       "\n",
       "    .dataframe tbody tr th {\n",
       "        vertical-align: top;\n",
       "    }\n",
       "\n",
       "    .dataframe thead th {\n",
       "        text-align: right;\n",
       "    }\n",
       "</style>\n",
       "<table border=\"1\" class=\"dataframe\">\n",
       "  <thead>\n",
       "    <tr style=\"text-align: right;\">\n",
       "      <th></th>\n",
       "      <th>user</th>\n",
       "      <th>ascore</th>\n",
       "    </tr>\n",
       "  </thead>\n",
       "  <tbody>\n",
       "    <tr>\n",
       "      <th>13</th>\n",
       "      <td>ALC0100</td>\n",
       "      <td>-0.078069</td>\n",
       "    </tr>\n",
       "    <tr>\n",
       "      <th>56</th>\n",
       "      <td>CQS0899</td>\n",
       "      <td>-0.106887</td>\n",
       "    </tr>\n",
       "    <tr>\n",
       "      <th>77</th>\n",
       "      <td>FED0275</td>\n",
       "      <td>-0.110557</td>\n",
       "    </tr>\n",
       "    <tr>\n",
       "      <th>147</th>\n",
       "      <td>LWB0078</td>\n",
       "      <td>-0.119642</td>\n",
       "    </tr>\n",
       "  </tbody>\n",
       "</table>\n",
       "</div>"
      ],
      "text/plain": [
       "        user    ascore\n",
       "13   ALC0100 -0.078069\n",
       "56   CQS0899 -0.106887\n",
       "77   FED0275 -0.110557\n",
       "147  LWB0078 -0.119642"
      ]
     },
     "metadata": {},
     "output_type": "display_data"
    }
   ],
   "source": [
    "df_threat_users_all_params = df_all_parameters_result.loc[df_all_parameters_result['ascore'] < -0.065]\n",
    "display(df_threat_users_all_params)"
   ]
  },
  {
   "cell_type": "code",
   "execution_count": 122,
   "metadata": {
    "colab": {
     "base_uri": "https://localhost:8080/",
     "height": 80
    },
    "id": "MiG6E3Qe4TW5",
    "outputId": "cb728622-632b-441f-aed8-8bd877859c26"
   },
   "outputs": [
    {
     "data": {
      "text/html": [
       "<div>\n",
       "<style scoped>\n",
       "    .dataframe tbody tr th:only-of-type {\n",
       "        vertical-align: middle;\n",
       "    }\n",
       "\n",
       "    .dataframe tbody tr th {\n",
       "        vertical-align: top;\n",
       "    }\n",
       "\n",
       "    .dataframe thead th {\n",
       "        text-align: right;\n",
       "    }\n",
       "</style>\n",
       "<table border=\"1\" class=\"dataframe\">\n",
       "  <thead>\n",
       "    <tr style=\"text-align: right;\">\n",
       "      <th></th>\n",
       "      <th>user</th>\n",
       "      <th>on_min_ts</th>\n",
       "      <th>on_max_ts</th>\n",
       "      <th>on_mode_ts</th>\n",
       "      <th>on_mean_ts</th>\n",
       "      <th>off_min_ts</th>\n",
       "      <th>off_max_ts</th>\n",
       "      <th>off_mode_ts</th>\n",
       "      <th>off_mean_ts</th>\n",
       "      <th>count</th>\n",
       "      <th>O</th>\n",
       "      <th>C</th>\n",
       "      <th>E</th>\n",
       "      <th>A</th>\n",
       "      <th>N</th>\n",
       "    </tr>\n",
       "  </thead>\n",
       "  <tbody>\n",
       "    <tr>\n",
       "      <th>13</th>\n",
       "      <td>ALC0100</td>\n",
       "      <td>25200</td>\n",
       "      <td>67486</td>\n",
       "      <td>26100</td>\n",
       "      <td>28800</td>\n",
       "      <td>25200</td>\n",
       "      <td>67486</td>\n",
       "      <td>26100</td>\n",
       "      <td>28800</td>\n",
       "      <td>34</td>\n",
       "      <td>11</td>\n",
       "      <td>38</td>\n",
       "      <td>14</td>\n",
       "      <td>48</td>\n",
       "      <td>28</td>\n",
       "    </tr>\n",
       "    <tr>\n",
       "      <th>56</th>\n",
       "      <td>CQS0899</td>\n",
       "      <td>606</td>\n",
       "      <td>85229</td>\n",
       "      <td>30600</td>\n",
       "      <td>36000</td>\n",
       "      <td>606</td>\n",
       "      <td>85229</td>\n",
       "      <td>30600</td>\n",
       "      <td>36000</td>\n",
       "      <td>27</td>\n",
       "      <td>41</td>\n",
       "      <td>38</td>\n",
       "      <td>41</td>\n",
       "      <td>24</td>\n",
       "      <td>36</td>\n",
       "    </tr>\n",
       "    <tr>\n",
       "      <th>77</th>\n",
       "      <td>FED0275</td>\n",
       "      <td>2462</td>\n",
       "      <td>81960</td>\n",
       "      <td>26640</td>\n",
       "      <td>28800</td>\n",
       "      <td>2462</td>\n",
       "      <td>81960</td>\n",
       "      <td>26640</td>\n",
       "      <td>28800</td>\n",
       "      <td>43</td>\n",
       "      <td>26</td>\n",
       "      <td>16</td>\n",
       "      <td>28</td>\n",
       "      <td>13</td>\n",
       "      <td>30</td>\n",
       "    </tr>\n",
       "    <tr>\n",
       "      <th>147</th>\n",
       "      <td>LWB0078</td>\n",
       "      <td>1104</td>\n",
       "      <td>86213</td>\n",
       "      <td>28920</td>\n",
       "      <td>28800</td>\n",
       "      <td>1104</td>\n",
       "      <td>86213</td>\n",
       "      <td>28920</td>\n",
       "      <td>28800</td>\n",
       "      <td>55</td>\n",
       "      <td>50</td>\n",
       "      <td>38</td>\n",
       "      <td>48</td>\n",
       "      <td>30</td>\n",
       "      <td>28</td>\n",
       "    </tr>\n",
       "  </tbody>\n",
       "</table>\n",
       "</div>"
      ],
      "text/plain": [
       "        user  on_min_ts  on_max_ts  on_mode_ts  on_mean_ts  off_min_ts  \\\n",
       "13   ALC0100      25200      67486       26100       28800       25200   \n",
       "56   CQS0899        606      85229       30600       36000         606   \n",
       "77   FED0275       2462      81960       26640       28800        2462   \n",
       "147  LWB0078       1104      86213       28920       28800        1104   \n",
       "\n",
       "     off_max_ts  off_mode_ts  off_mean_ts  count   O   C   E   A   N  \n",
       "13        67486        26100        28800     34  11  38  14  48  28  \n",
       "56        85229        30600        36000     27  41  38  41  24  36  \n",
       "77        81960        26640        28800     43  26  16  28  13  30  \n",
       "147       86213        28920        28800     55  50  38  48  30  28  "
      ]
     },
     "metadata": {},
     "output_type": "display_data"
    },
    {
     "data": {
      "text/plain": [
       "(4, 15)"
      ]
     },
     "metadata": {},
     "output_type": "display_data"
    }
   ],
   "source": [
    "df_all_parameters_result = df_all_parameters[df_all_parameters.user.isin(df_threat_users_all_params.user)]\n",
    "display(df_all_parameters_result.head())\n",
    "display(df_all_parameters_result.shape)"
   ]
  },
  {
   "cell_type": "code",
   "execution_count": 123,
   "metadata": {},
   "outputs": [
    {
     "data": {
      "text/plain": [
       "31950.0"
      ]
     },
     "metadata": {},
     "output_type": "display_data"
    }
   ],
   "source": [
    "display(df_all_parameters.on_max_ts.median())"
   ]
  },
  {
   "cell_type": "markdown",
   "metadata": {},
   "source": [
    "### Device and File"
   ]
  },
  {
   "cell_type": "code",
   "execution_count": 124,
   "metadata": {
    "colab": {
     "base_uri": "https://localhost:8080/",
     "height": 318
    },
    "id": "SfpZOhD-5iMQ",
    "outputId": "eace4a2b-32ba-4386-def7-43c677f79f4b"
   },
   "outputs": [
    {
     "data": {
      "text/plain": [
       "array([[<AxesSubplot:title={'center':'ascore'}>]], dtype=object)"
      ]
     },
     "execution_count": 124,
     "metadata": {},
     "output_type": "execute_result"
    },
    {
     "data": {
      "image/png": "[encoded data removed]",
      "text/plain": [
       "<Figure size 432x288 with 1 Axes>"
      ]
     },
     "metadata": {},
     "output_type": "display_data"
    }
   ],
   "source": [
    "df_device_file_full_result.loc[df_device_file_full_result['ascore'] < 0].hist()"
   ]
  },
  {
   "cell_type": "code",
   "execution_count": 125,
   "metadata": {
    "colab": {
     "base_uri": "https://localhost:8080/"
    },
    "id": "x8MWf2f55irQ",
    "outputId": "5ca0c5ca-b65b-4af0-9cce-bd3f669cae40"
   },
   "outputs": [
    {
     "data": {
      "text/html": [
       "<div>\n",
       "<style scoped>\n",
       "    .dataframe tbody tr th:only-of-type {\n",
       "        vertical-align: middle;\n",
       "    }\n",
       "\n",
       "    .dataframe tbody tr th {\n",
       "        vertical-align: top;\n",
       "    }\n",
       "\n",
       "    .dataframe thead th {\n",
       "        text-align: right;\n",
       "    }\n",
       "</style>\n",
       "<table border=\"1\" class=\"dataframe\">\n",
       "  <thead>\n",
       "    <tr style=\"text-align: right;\">\n",
       "      <th></th>\n",
       "      <th>user</th>\n",
       "      <th>ascore</th>\n",
       "    </tr>\n",
       "  </thead>\n",
       "  <tbody>\n",
       "    <tr>\n",
       "      <th>4</th>\n",
       "      <td>BCP0247</td>\n",
       "      <td>-0.005078</td>\n",
       "    </tr>\n",
       "    <tr>\n",
       "      <th>6</th>\n",
       "      <td>BMS0057</td>\n",
       "      <td>-0.043372</td>\n",
       "    </tr>\n",
       "    <tr>\n",
       "      <th>12</th>\n",
       "      <td>CSD0242</td>\n",
       "      <td>-0.055832</td>\n",
       "    </tr>\n",
       "    <tr>\n",
       "      <th>37</th>\n",
       "      <td>QLC0248</td>\n",
       "      <td>-0.058799</td>\n",
       "    </tr>\n",
       "    <tr>\n",
       "      <th>40</th>\n",
       "      <td>SBM0063</td>\n",
       "      <td>-0.039492</td>\n",
       "    </tr>\n",
       "  </tbody>\n",
       "</table>\n",
       "</div>"
      ],
      "text/plain": [
       "       user    ascore\n",
       "4   BCP0247 -0.005078\n",
       "6   BMS0057 -0.043372\n",
       "12  CSD0242 -0.055832\n",
       "37  QLC0248 -0.058799\n",
       "40  SBM0063 -0.039492"
      ]
     },
     "metadata": {},
     "output_type": "display_data"
    }
   ],
   "source": [
    "df_threat_users_device_file = df_device_file_full_result.loc[df_device_file_full_result['ascore'] <= -0]\n",
    "display(df_threat_users_device_file.head())"
   ]
  },
  {
   "cell_type": "code",
   "execution_count": 126,
   "metadata": {
    "colab": {
     "base_uri": "https://localhost:8080/",
     "height": 204
    },
    "id": "jCJmJ9Ht5jIA",
    "outputId": "90a3316a-99b6-4a18-8da7-8abb9cbcf5f6"
   },
   "outputs": [
    {
     "data": {
      "text/html": [
       "<div>\n",
       "<style scoped>\n",
       "    .dataframe tbody tr th:only-of-type {\n",
       "        vertical-align: middle;\n",
       "    }\n",
       "\n",
       "    .dataframe tbody tr th {\n",
       "        vertical-align: top;\n",
       "    }\n",
       "\n",
       "    .dataframe thead th {\n",
       "        text-align: right;\n",
       "    }\n",
       "</style>\n",
       "<table border=\"1\" class=\"dataframe\">\n",
       "  <thead>\n",
       "    <tr style=\"text-align: right;\">\n",
       "      <th></th>\n",
       "      <th>user</th>\n",
       "      <th>con_min_ts</th>\n",
       "      <th>con_max_ts</th>\n",
       "      <th>con_mode_ts</th>\n",
       "      <th>con_mean_ts</th>\n",
       "      <th>dcon_min_ts</th>\n",
       "      <th>dcon_max_ts</th>\n",
       "      <th>dcon_mode_ts</th>\n",
       "      <th>dcon_mean_ts</th>\n",
       "      <th>file_mode</th>\n",
       "      <th>file_max</th>\n",
       "    </tr>\n",
       "  </thead>\n",
       "  <tbody>\n",
       "    <tr>\n",
       "      <th>0</th>\n",
       "      <td>AJQ0376</td>\n",
       "      <td>30401</td>\n",
       "      <td>68694</td>\n",
       "      <td>47203</td>\n",
       "      <td>43200</td>\n",
       "      <td>30401</td>\n",
       "      <td>68694</td>\n",
       "      <td>47203</td>\n",
       "      <td>43200</td>\n",
       "      <td>486</td>\n",
       "      <td>486</td>\n",
       "    </tr>\n",
       "    <tr>\n",
       "      <th>1</th>\n",
       "      <td>AJR0231</td>\n",
       "      <td>27100</td>\n",
       "      <td>56918</td>\n",
       "      <td>36335</td>\n",
       "      <td>36000</td>\n",
       "      <td>27100</td>\n",
       "      <td>56918</td>\n",
       "      <td>36335</td>\n",
       "      <td>36000</td>\n",
       "      <td>90</td>\n",
       "      <td>252</td>\n",
       "    </tr>\n",
       "    <tr>\n",
       "      <th>2</th>\n",
       "      <td>AOD0066</td>\n",
       "      <td>27693</td>\n",
       "      <td>55895</td>\n",
       "      <td>48513</td>\n",
       "      <td>36000</td>\n",
       "      <td>27693</td>\n",
       "      <td>55895</td>\n",
       "      <td>48513</td>\n",
       "      <td>36000</td>\n",
       "      <td>30</td>\n",
       "      <td>72</td>\n",
       "    </tr>\n",
       "    <tr>\n",
       "      <th>3</th>\n",
       "      <td>ARH0777</td>\n",
       "      <td>27756</td>\n",
       "      <td>59689</td>\n",
       "      <td>56795</td>\n",
       "      <td>39600</td>\n",
       "      <td>27756</td>\n",
       "      <td>59689</td>\n",
       "      <td>56795</td>\n",
       "      <td>39600</td>\n",
       "      <td>36</td>\n",
       "      <td>144</td>\n",
       "    </tr>\n",
       "    <tr>\n",
       "      <th>4</th>\n",
       "      <td>BCP0247</td>\n",
       "      <td>4870</td>\n",
       "      <td>84764</td>\n",
       "      <td>15638</td>\n",
       "      <td>39600</td>\n",
       "      <td>4870</td>\n",
       "      <td>84764</td>\n",
       "      <td>15638</td>\n",
       "      <td>39600</td>\n",
       "      <td>54</td>\n",
       "      <td>198</td>\n",
       "    </tr>\n",
       "  </tbody>\n",
       "</table>\n",
       "</div>"
      ],
      "text/plain": [
       "      user  con_min_ts  con_max_ts  con_mode_ts  con_mean_ts  dcon_min_ts  \\\n",
       "0  AJQ0376       30401       68694        47203        43200        30401   \n",
       "1  AJR0231       27100       56918        36335        36000        27100   \n",
       "2  AOD0066       27693       55895        48513        36000        27693   \n",
       "3  ARH0777       27756       59689        56795        39600        27756   \n",
       "4  BCP0247        4870       84764        15638        39600         4870   \n",
       "\n",
       "   dcon_max_ts  dcon_mode_ts  dcon_mean_ts  file_mode  file_max  \n",
       "0        68694         47203         43200        486       486  \n",
       "1        56918         36335         36000         90       252  \n",
       "2        55895         48513         36000         30        72  \n",
       "3        59689         56795         39600         36       144  \n",
       "4        84764         15638         39600         54       198  "
      ]
     },
     "metadata": {},
     "output_type": "display_data"
    },
    {
     "name": "stdout",
     "output_type": "stream",
     "text": [
      "File Mode Mean: 170.27659574468086\n",
      "File Max Mean: 287.1489361702128\n"
     ]
    }
   ],
   "source": [
    "df_device_full_result = df_device_full[df_device_full.user.isin(df_threat_users_device_file.user)]\n",
    "display(df_device_full.head())\n",
    "print(f\"File Mode Mean: \"+ str(df_device_full.file_mode.mean()))\n",
    "print(f\"File Max Mean: \"+ str(df_device_full.file_max.mean()))"
   ]
  },
  {
   "cell_type": "markdown",
   "metadata": {},
   "source": [
    "### Logon and Logoff"
   ]
  },
  {
   "cell_type": "code",
   "execution_count": 127,
   "metadata": {
    "colab": {
     "base_uri": "https://localhost:8080/",
     "height": 318
    },
    "id": "wHUrO_iV5z5Y",
    "outputId": "f636b02f-b9a9-4fbd-a696-3ef755455efd"
   },
   "outputs": [
    {
     "data": {
      "text/plain": [
       "array([[<AxesSubplot:title={'center':'ascore'}>]], dtype=object)"
      ]
     },
     "execution_count": 127,
     "metadata": {},
     "output_type": "execute_result"
    },
    {
     "data": {
      "image/png": "[encoded data removed]",
      "text/plain": [
       "<Figure size 432x288 with 1 Axes>"
      ]
     },
     "metadata": {},
     "output_type": "display_data"
    }
   ],
   "source": [
    "df_user_log_result.loc[df_user_log_result['ascore'] < 0].hist()"
   ]
  },
  {
   "cell_type": "code",
   "execution_count": 128,
   "metadata": {
    "colab": {
     "base_uri": "https://localhost:8080/"
    },
    "id": "Kfmhtpxx50Sg",
    "outputId": "0ba55bfd-e960-4029-cf1f-defa4641f63b"
   },
   "outputs": [
    {
     "data": {
      "text/html": [
       "<div>\n",
       "<style scoped>\n",
       "    .dataframe tbody tr th:only-of-type {\n",
       "        vertical-align: middle;\n",
       "    }\n",
       "\n",
       "    .dataframe tbody tr th {\n",
       "        vertical-align: top;\n",
       "    }\n",
       "\n",
       "    .dataframe thead th {\n",
       "        text-align: right;\n",
       "    }\n",
       "</style>\n",
       "<table border=\"1\" class=\"dataframe\">\n",
       "  <thead>\n",
       "    <tr style=\"text-align: right;\">\n",
       "      <th></th>\n",
       "      <th>user</th>\n",
       "      <th>ascore</th>\n",
       "    </tr>\n",
       "  </thead>\n",
       "  <tbody>\n",
       "    <tr>\n",
       "      <th>29</th>\n",
       "      <td>BKA0340</td>\n",
       "      <td>-0.047109</td>\n",
       "    </tr>\n",
       "    <tr>\n",
       "      <th>56</th>\n",
       "      <td>CQS0899</td>\n",
       "      <td>-0.129985</td>\n",
       "    </tr>\n",
       "    <tr>\n",
       "      <th>65</th>\n",
       "      <td>DJS0406</td>\n",
       "      <td>-0.068265</td>\n",
       "    </tr>\n",
       "    <tr>\n",
       "      <th>77</th>\n",
       "      <td>FED0275</td>\n",
       "      <td>-0.106926</td>\n",
       "    </tr>\n",
       "    <tr>\n",
       "      <th>83</th>\n",
       "      <td>GFM0250</td>\n",
       "      <td>-0.046697</td>\n",
       "    </tr>\n",
       "    <tr>\n",
       "      <th>95</th>\n",
       "      <td>HML0060</td>\n",
       "      <td>-0.049432</td>\n",
       "    </tr>\n",
       "    <tr>\n",
       "      <th>144</th>\n",
       "      <td>LQD0409</td>\n",
       "      <td>-0.048270</td>\n",
       "    </tr>\n",
       "    <tr>\n",
       "      <th>147</th>\n",
       "      <td>LWB0078</td>\n",
       "      <td>-0.040457</td>\n",
       "    </tr>\n",
       "    <tr>\n",
       "      <th>178</th>\n",
       "      <td>RAW0533</td>\n",
       "      <td>-0.066616</td>\n",
       "    </tr>\n",
       "    <tr>\n",
       "      <th>180</th>\n",
       "      <td>RCG0105</td>\n",
       "      <td>-0.042001</td>\n",
       "    </tr>\n",
       "    <tr>\n",
       "      <th>214</th>\n",
       "      <td>VLB0069</td>\n",
       "      <td>-0.048602</td>\n",
       "    </tr>\n",
       "  </tbody>\n",
       "</table>\n",
       "</div>"
      ],
      "text/plain": [
       "        user    ascore\n",
       "29   BKA0340 -0.047109\n",
       "56   CQS0899 -0.129985\n",
       "65   DJS0406 -0.068265\n",
       "77   FED0275 -0.106926\n",
       "83   GFM0250 -0.046697\n",
       "95   HML0060 -0.049432\n",
       "144  LQD0409 -0.048270\n",
       "147  LWB0078 -0.040457\n",
       "178  RAW0533 -0.066616\n",
       "180  RCG0105 -0.042001\n",
       "214  VLB0069 -0.048602"
      ]
     },
     "metadata": {},
     "output_type": "display_data"
    },
    {
     "data": {
      "text/plain": [
       "(11, 2)"
      ]
     },
     "metadata": {},
     "output_type": "display_data"
    }
   ],
   "source": [
    "df_threat_users_log = df_user_log_result.loc[df_user_log_result['ascore'] <= -0.04]\n",
    "display(df_threat_users_log)\n",
    "display(df_threat_users_log.shape)"
   ]
  },
  {
   "cell_type": "code",
   "execution_count": 129,
   "metadata": {
    "colab": {
     "base_uri": "https://localhost:8080/",
     "height": 359
    },
    "id": "Gv8cbTvr50n3",
    "outputId": "56f71366-e611-4ea0-c681-efa894e91a93"
   },
   "outputs": [
    {
     "data": {
      "text/html": [
       "<div>\n",
       "<style scoped>\n",
       "    .dataframe tbody tr th:only-of-type {\n",
       "        vertical-align: middle;\n",
       "    }\n",
       "\n",
       "    .dataframe tbody tr th {\n",
       "        vertical-align: top;\n",
       "    }\n",
       "\n",
       "    .dataframe thead th {\n",
       "        text-align: right;\n",
       "    }\n",
       "</style>\n",
       "<table border=\"1\" class=\"dataframe\">\n",
       "  <thead>\n",
       "    <tr style=\"text-align: right;\">\n",
       "      <th></th>\n",
       "      <th>user</th>\n",
       "      <th>on_min_ts</th>\n",
       "      <th>on_max_ts</th>\n",
       "      <th>on_mode_ts</th>\n",
       "      <th>on_mean_ts</th>\n",
       "      <th>off_min_ts</th>\n",
       "      <th>off_max_ts</th>\n",
       "      <th>off_mode_ts</th>\n",
       "      <th>off_mean_ts</th>\n",
       "    </tr>\n",
       "  </thead>\n",
       "  <tbody>\n",
       "    <tr>\n",
       "      <th>29</th>\n",
       "      <td>BKA0340</td>\n",
       "      <td>32400</td>\n",
       "      <td>72158</td>\n",
       "      <td>33480</td>\n",
       "      <td>32400</td>\n",
       "      <td>32400</td>\n",
       "      <td>72158</td>\n",
       "      <td>33480</td>\n",
       "      <td>32400</td>\n",
       "    </tr>\n",
       "    <tr>\n",
       "      <th>56</th>\n",
       "      <td>CQS0899</td>\n",
       "      <td>606</td>\n",
       "      <td>85229</td>\n",
       "      <td>30600</td>\n",
       "      <td>36000</td>\n",
       "      <td>606</td>\n",
       "      <td>85229</td>\n",
       "      <td>30600</td>\n",
       "      <td>36000</td>\n",
       "    </tr>\n",
       "    <tr>\n",
       "      <th>65</th>\n",
       "      <td>DJS0406</td>\n",
       "      <td>32400</td>\n",
       "      <td>33960</td>\n",
       "      <td>33720</td>\n",
       "      <td>32400</td>\n",
       "      <td>32400</td>\n",
       "      <td>33960</td>\n",
       "      <td>33720</td>\n",
       "      <td>32400</td>\n",
       "    </tr>\n",
       "    <tr>\n",
       "      <th>77</th>\n",
       "      <td>FED0275</td>\n",
       "      <td>2462</td>\n",
       "      <td>81960</td>\n",
       "      <td>26640</td>\n",
       "      <td>28800</td>\n",
       "      <td>2462</td>\n",
       "      <td>81960</td>\n",
       "      <td>26640</td>\n",
       "      <td>28800</td>\n",
       "    </tr>\n",
       "    <tr>\n",
       "      <th>83</th>\n",
       "      <td>GFM0250</td>\n",
       "      <td>464</td>\n",
       "      <td>85232</td>\n",
       "      <td>28800</td>\n",
       "      <td>25200</td>\n",
       "      <td>464</td>\n",
       "      <td>85232</td>\n",
       "      <td>28800</td>\n",
       "      <td>25200</td>\n",
       "    </tr>\n",
       "    <tr>\n",
       "      <th>95</th>\n",
       "      <td>HML0060</td>\n",
       "      <td>2052</td>\n",
       "      <td>84931</td>\n",
       "      <td>27900</td>\n",
       "      <td>25200</td>\n",
       "      <td>2052</td>\n",
       "      <td>84931</td>\n",
       "      <td>27900</td>\n",
       "      <td>25200</td>\n",
       "    </tr>\n",
       "    <tr>\n",
       "      <th>144</th>\n",
       "      <td>LQD0409</td>\n",
       "      <td>32400</td>\n",
       "      <td>72791</td>\n",
       "      <td>33300</td>\n",
       "      <td>36000</td>\n",
       "      <td>32400</td>\n",
       "      <td>72791</td>\n",
       "      <td>33300</td>\n",
       "      <td>36000</td>\n",
       "    </tr>\n",
       "    <tr>\n",
       "      <th>147</th>\n",
       "      <td>LWB0078</td>\n",
       "      <td>1104</td>\n",
       "      <td>86213</td>\n",
       "      <td>28920</td>\n",
       "      <td>28800</td>\n",
       "      <td>1104</td>\n",
       "      <td>86213</td>\n",
       "      <td>28920</td>\n",
       "      <td>28800</td>\n",
       "    </tr>\n",
       "    <tr>\n",
       "      <th>178</th>\n",
       "      <td>RAW0533</td>\n",
       "      <td>1401</td>\n",
       "      <td>71230</td>\n",
       "      <td>27900</td>\n",
       "      <td>25200</td>\n",
       "      <td>1401</td>\n",
       "      <td>71230</td>\n",
       "      <td>27900</td>\n",
       "      <td>25200</td>\n",
       "    </tr>\n",
       "    <tr>\n",
       "      <th>180</th>\n",
       "      <td>RCG0105</td>\n",
       "      <td>25200</td>\n",
       "      <td>58840</td>\n",
       "      <td>26400</td>\n",
       "      <td>25200</td>\n",
       "      <td>25200</td>\n",
       "      <td>58840</td>\n",
       "      <td>26400</td>\n",
       "      <td>25200</td>\n",
       "    </tr>\n",
       "    <tr>\n",
       "      <th>214</th>\n",
       "      <td>VLB0069</td>\n",
       "      <td>2059</td>\n",
       "      <td>83319</td>\n",
       "      <td>28800</td>\n",
       "      <td>25200</td>\n",
       "      <td>2059</td>\n",
       "      <td>83319</td>\n",
       "      <td>28800</td>\n",
       "      <td>25200</td>\n",
       "    </tr>\n",
       "  </tbody>\n",
       "</table>\n",
       "</div>"
      ],
      "text/plain": [
       "        user  on_min_ts  on_max_ts  on_mode_ts  on_mean_ts  off_min_ts  \\\n",
       "29   BKA0340      32400      72158       33480       32400       32400   \n",
       "56   CQS0899        606      85229       30600       36000         606   \n",
       "65   DJS0406      32400      33960       33720       32400       32400   \n",
       "77   FED0275       2462      81960       26640       28800        2462   \n",
       "83   GFM0250        464      85232       28800       25200         464   \n",
       "95   HML0060       2052      84931       27900       25200        2052   \n",
       "144  LQD0409      32400      72791       33300       36000       32400   \n",
       "147  LWB0078       1104      86213       28920       28800        1104   \n",
       "178  RAW0533       1401      71230       27900       25200        1401   \n",
       "180  RCG0105      25200      58840       26400       25200       25200   \n",
       "214  VLB0069       2059      83319       28800       25200        2059   \n",
       "\n",
       "     off_max_ts  off_mode_ts  off_mean_ts  \n",
       "29        72158        33480        32400  \n",
       "56        85229        30600        36000  \n",
       "65        33960        33720        32400  \n",
       "77        81960        26640        28800  \n",
       "83        85232        28800        25200  \n",
       "95        84931        27900        25200  \n",
       "144       72791        33300        36000  \n",
       "147       86213        28920        28800  \n",
       "178       71230        27900        25200  \n",
       "180       58840        26400        25200  \n",
       "214       83319        28800        25200  "
      ]
     },
     "metadata": {},
     "output_type": "display_data"
    },
    {
     "name": "stdout",
     "output_type": "stream",
     "text": [
      "Max Mean:45270.821739130435\n",
      "Max ts Median:31950.0\n"
     ]
    }
   ],
   "source": [
    "display(df_log_on_off_stats[df_log_on_off_stats.user.isin(df_threat_users_log.user)])\n",
    "\n",
    "print(f'Max Mean:'+ str(df_log_on_off_stats.on_max_ts.mean()))\n",
    "print(f'Max ts Median:'+ str(df_log_on_off_stats.on_max_ts.median()))\n"
   ]
  },
  {
   "cell_type": "code",
   "execution_count": null,
   "metadata": {},
   "outputs": [],
   "source": []
  },
  {
   "cell_type": "code",
   "execution_count": 130,
   "metadata": {
    "colab": {
     "base_uri": "https://localhost:8080/",
     "height": 318
    },
    "id": "EI4J62A15jbh",
    "outputId": "553b2e07-b41a-4d06-c402-2b7e3fb8bd42"
   },
   "outputs": [
    {
     "data": {
      "text/plain": [
       "array([[<AxesSubplot:title={'center':'ascore'}>]], dtype=object)"
      ]
     },
     "execution_count": 130,
     "metadata": {},
     "output_type": "execute_result"
    },
    {
     "data": {
      "image/png": "[encoded data removed]",
      "text/plain": [
       "<Figure size 432x288 with 1 Axes>"
      ]
     },
     "metadata": {},
     "output_type": "display_data"
    }
   ],
   "source": [
    "#psychometric_users_clean\n",
    "df_psychometric_result.loc[df_psychometric_result['ascore'] < 0].hist()"
   ]
  },
  {
   "cell_type": "code",
   "execution_count": 131,
   "metadata": {
    "id": "2zb5sPjt6wGq"
   },
   "outputs": [
    {
     "data": {
      "text/html": [
       "<div>\n",
       "<style scoped>\n",
       "    .dataframe tbody tr th:only-of-type {\n",
       "        vertical-align: middle;\n",
       "    }\n",
       "\n",
       "    .dataframe tbody tr th {\n",
       "        vertical-align: top;\n",
       "    }\n",
       "\n",
       "    .dataframe thead th {\n",
       "        text-align: right;\n",
       "    }\n",
       "</style>\n",
       "<table border=\"1\" class=\"dataframe\">\n",
       "  <thead>\n",
       "    <tr style=\"text-align: right;\">\n",
       "      <th></th>\n",
       "      <th>user</th>\n",
       "      <th>ascore</th>\n",
       "    </tr>\n",
       "  </thead>\n",
       "  <tbody>\n",
       "    <tr>\n",
       "      <th>1167</th>\n",
       "      <td>ALC0100</td>\n",
       "      <td>-0.046415</td>\n",
       "    </tr>\n",
       "    <tr>\n",
       "      <th>1168</th>\n",
       "      <td>ALC0100</td>\n",
       "      <td>-0.046415</td>\n",
       "    </tr>\n",
       "    <tr>\n",
       "      <th>1169</th>\n",
       "      <td>ALC0100</td>\n",
       "      <td>-0.046415</td>\n",
       "    </tr>\n",
       "    <tr>\n",
       "      <th>1170</th>\n",
       "      <td>ALC0100</td>\n",
       "      <td>-0.046415</td>\n",
       "    </tr>\n",
       "    <tr>\n",
       "      <th>1171</th>\n",
       "      <td>ALC0100</td>\n",
       "      <td>-0.046415</td>\n",
       "    </tr>\n",
       "  </tbody>\n",
       "</table>\n",
       "</div>"
      ],
      "text/plain": [
       "         user    ascore\n",
       "1167  ALC0100 -0.046415\n",
       "1168  ALC0100 -0.046415\n",
       "1169  ALC0100 -0.046415\n",
       "1170  ALC0100 -0.046415\n",
       "1171  ALC0100 -0.046415"
      ]
     },
     "metadata": {},
     "output_type": "display_data"
    },
    {
     "data": {
      "text/plain": [
       "(54, 2)"
      ]
     },
     "metadata": {},
     "output_type": "display_data"
    }
   ],
   "source": [
    "df_threat_psycho = df_psychometric_result.loc[df_psychometric_result['ascore'] <= -0.04]\n",
    "display(df_threat_psycho.head())\n",
    "display(df_threat_psycho.shape)"
   ]
  },
  {
   "cell_type": "code",
   "execution_count": 132,
   "metadata": {
    "colab": {
     "base_uri": "https://localhost:8080/",
     "height": 1000
    },
    "id": "hunvxGO76wq4",
    "outputId": "a0222ecc-a9cd-4dde-dacf-37f60829ff1f"
   },
   "outputs": [
    {
     "data": {
      "text/html": [
       "<div>\n",
       "<style scoped>\n",
       "    .dataframe tbody tr th:only-of-type {\n",
       "        vertical-align: middle;\n",
       "    }\n",
       "\n",
       "    .dataframe tbody tr th {\n",
       "        vertical-align: top;\n",
       "    }\n",
       "\n",
       "    .dataframe thead th {\n",
       "        text-align: right;\n",
       "    }\n",
       "</style>\n",
       "<table border=\"1\" class=\"dataframe\">\n",
       "  <thead>\n",
       "    <tr style=\"text-align: right;\">\n",
       "      <th></th>\n",
       "      <th>employee_name</th>\n",
       "      <th>user_id</th>\n",
       "      <th>O</th>\n",
       "      <th>C</th>\n",
       "      <th>E</th>\n",
       "      <th>A</th>\n",
       "      <th>N</th>\n",
       "    </tr>\n",
       "  </thead>\n",
       "  <tbody>\n",
       "    <tr>\n",
       "      <th>1167</th>\n",
       "      <td>Arden Leo Chase</td>\n",
       "      <td>ALC0100</td>\n",
       "      <td>11</td>\n",
       "      <td>38</td>\n",
       "      <td>14</td>\n",
       "      <td>48</td>\n",
       "      <td>28</td>\n",
       "    </tr>\n",
       "    <tr>\n",
       "      <th>1168</th>\n",
       "      <td>Arden Leo Chase</td>\n",
       "      <td>ALC0100</td>\n",
       "      <td>11</td>\n",
       "      <td>38</td>\n",
       "      <td>14</td>\n",
       "      <td>48</td>\n",
       "      <td>28</td>\n",
       "    </tr>\n",
       "    <tr>\n",
       "      <th>1169</th>\n",
       "      <td>Arden Leo Chase</td>\n",
       "      <td>ALC0100</td>\n",
       "      <td>11</td>\n",
       "      <td>38</td>\n",
       "      <td>14</td>\n",
       "      <td>48</td>\n",
       "      <td>28</td>\n",
       "    </tr>\n",
       "    <tr>\n",
       "      <th>1170</th>\n",
       "      <td>Arden Leo Chase</td>\n",
       "      <td>ALC0100</td>\n",
       "      <td>11</td>\n",
       "      <td>38</td>\n",
       "      <td>14</td>\n",
       "      <td>48</td>\n",
       "      <td>28</td>\n",
       "    </tr>\n",
       "    <tr>\n",
       "      <th>1171</th>\n",
       "      <td>Arden Leo Chase</td>\n",
       "      <td>ALC0100</td>\n",
       "      <td>11</td>\n",
       "      <td>38</td>\n",
       "      <td>14</td>\n",
       "      <td>48</td>\n",
       "      <td>28</td>\n",
       "    </tr>\n",
       "  </tbody>\n",
       "</table>\n",
       "</div>"
      ],
      "text/plain": [
       "        employee_name  user_id   O   C   E   A   N\n",
       "1167  Arden Leo Chase  ALC0100  11  38  14  48  28\n",
       "1168  Arden Leo Chase  ALC0100  11  38  14  48  28\n",
       "1169  Arden Leo Chase  ALC0100  11  38  14  48  28\n",
       "1170  Arden Leo Chase  ALC0100  11  38  14  48  28\n",
       "1171  Arden Leo Chase  ALC0100  11  38  14  48  28"
      ]
     },
     "metadata": {},
     "output_type": "display_data"
    },
    {
     "data": {
      "text/plain": [
       "(54, 7)"
      ]
     },
     "metadata": {},
     "output_type": "display_data"
    }
   ],
   "source": [
    "df_psychometric_users_clean_result = df_psychometric_users_clean[df_psychometric_users_clean.user_id.isin(df_threat_psycho.user)]\n",
    "display(df_psychometric_users_clean_result.head())\n",
    "display(df_psychometric_users_clean_result.shape)"
   ]
  },
  {
   "cell_type": "code",
   "execution_count": 135,
   "metadata": {},
   "outputs": [
    {
     "data": {
      "text/plain": [
       "user           0\n",
       "on_min_ts      0\n",
       "on_max_ts      0\n",
       "on_mode_ts     0\n",
       "on_mean_ts     0\n",
       "off_min_ts     0\n",
       "off_max_ts     0\n",
       "off_mode_ts    0\n",
       "off_mean_ts    0\n",
       "count          0\n",
       "O              0\n",
       "C              0\n",
       "E              0\n",
       "A              0\n",
       "N              0\n",
       "dtype: int64"
      ]
     },
     "execution_count": 135,
     "metadata": {},
     "output_type": "execute_result"
    }
   ],
   "source": [
    "df_all_parameters.isna().sum()"
   ]
  },
  {
   "cell_type": "code",
   "execution_count": 136,
   "metadata": {},
   "outputs": [
    {
     "data": {
      "text/plain": [
       "Index(['user', 'on_min_ts', 'on_max_ts', 'on_mode_ts', 'on_mean_ts',\n",
       "       'off_min_ts', 'off_max_ts', 'off_mode_ts', 'off_mean_ts', 'count', 'O',\n",
       "       'C', 'E', 'A', 'N'],\n",
       "      dtype='object')"
      ]
     },
     "execution_count": 136,
     "metadata": {},
     "output_type": "execute_result"
    }
   ],
   "source": [
    "df_all_parameters.columns"
   ]
  },
  {
   "cell_type": "code",
   "execution_count": 137,
   "metadata": {
    "id": "aboWMRsR8r5R"
   },
   "outputs": [],
   "source": [
    "\n",
    "def anomaly_scatterplot(y,z, xlabtitle, ylabtitle):\n",
    "    x = df_all_parameters['user']\n",
    "    df = pd.concat([x, y, z], axis=1)\n",
    "    df_matrix = df.drop(['user'], axis = 1)\n",
    "    forest = IsolationForest(bootstrap=False, contamination=0.1, max_features=1.0,\n",
    "        max_samples='auto', n_estimators=100, n_jobs=1, random_state=None,\n",
    "        verbose=0)\n",
    "    forest.fit(df_matrix)\n",
    "    ascore = forest.decision_function(df_matrix)\n",
    "    result = pd.DataFrame()\n",
    "    result['user'] = x\n",
    "    result_full = pd.merge(result, df, on = 'user')\n",
    "    result_full['ascore'] = ascore\n",
    "    result_full['Anomaly'] = np.where(result_full['ascore'] > 0, 1, -1)\n",
    "    sns.set(rc={'figure.figsize':(12,10)})\n",
    "    plot = sns.scatterplot(data=result_full, x = y, y = z, s = 125, hue = result_full['Anomaly'], palette=['red','green'])\n",
    "    plt.xlabel(xlabtitle, fontsize = 18)\n",
    "    plt.ylabel(ylabtitle, fontsize = 18)\n",
    "    plt.legend(bbox_to_anchor=(1.01, 0.5),borderaxespad=0, title = \"Anomaly\" )\n",
    "    plt.title('Anomaly Scatterplot', fontsize=20)\n",
    "    plt.tight_layout()\n",
    "\n",
    "    \n",
    "\n",
    "    \n",
    "\n",
    "\n",
    "    return plot"
   ]
  },
  {
   "cell_type": "code",
   "execution_count": 138,
   "metadata": {
    "colab": {
     "base_uri": "https://localhost:8080/",
     "height": 306
    },
    "id": "ymEGM9EV81Ul",
    "outputId": "c9139b69-bb1e-4d8e-c92b-2ca45192eddc"
   },
   "outputs": [
    {
     "data": {
      "text/plain": [
       "<AxesSubplot:title={'center':'Anomaly Scatterplot'}, xlabel='Minimum Login Time (in sec)', ylabel='Minimum Logoff Time (in sec)'>"
      ]
     },
     "execution_count": 138,
     "metadata": {},
     "output_type": "execute_result"
    },
    {
     "data": {
      "image/png": "[encoded data removed]",
      "text/plain": [
       "<Figure size 864x720 with 1 Axes>"
      ]
     },
     "metadata": {},
     "output_type": "display_data"
    }
   ],
   "source": [
    "anomaly_scatterplot(df_all_parameters['on_min_ts'], df_all_parameters['off_min_ts'], 'Minimum Login Time (in sec)', 'Minimum Logoff Time (in sec)')"
   ]
  },
  {
   "cell_type": "code",
   "execution_count": null,
   "metadata": {},
   "outputs": [],
   "source": []
  },
  {
   "cell_type": "code",
   "execution_count": null,
   "metadata": {},
   "outputs": [],
   "source": []
  },
  {
   "cell_type": "code",
   "execution_count": null,
   "metadata": {},
   "outputs": [],
   "source": []
  },
  {
   "cell_type": "code",
   "execution_count": null,
   "metadata": {},
   "outputs": [],
   "source": []
  }
 ],
 "metadata": {
  "colab": {
   "collapsed_sections": [],
   "name": "insider_threat0.ipynb",
   "provenance": []
  },
  "kernelspec": {
   "display_name": "Python 3",
   "language": "python",
   "name": "python3"
  },
  "language_info": {
   "codemirror_mode": {
    "name": "ipython",
    "version": 3
   },
   "file_extension": ".py",
   "mimetype": "text/x-python",
   "name": "python",
   "nbconvert_exporter": "python",
   "pygments_lexer": "ipython3",
   "version": "3.9.2"
  }
 },
 "nbformat": 4,
 "nbformat_minor": 1
}
