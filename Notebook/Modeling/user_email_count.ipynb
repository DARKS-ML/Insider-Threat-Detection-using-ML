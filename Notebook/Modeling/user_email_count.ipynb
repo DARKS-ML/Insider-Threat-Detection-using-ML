{
  "nbformat": 4,
  "nbformat_minor": 0,
  "metadata": {
    "colab": {
      "name": "user_email_count.ipynb",
      "provenance": [],
      "collapsed_sections": []
    },
    "kernelspec": {
      "name": "python3",
      "display_name": "Python 3"
    },
    "language_info": {
      "name": "python"
    }
  },
  "cells": [
    {
      "cell_type": "code",
      "metadata": {
        "colab": {
          "base_uri": "https://localhost:8080/"
        },
        "id": "wtY9QA619l7G",
        "outputId": "8f970105-70d4-462b-ebe5-2e0a45925497"
      },
      "source": [
        "from google.colab import drive\n",
        "drive.mount('/content/gdrive')"
      ],
      "execution_count": null,
      "outputs": [
        {
          "output_type": "stream",
          "name": "stdout",
          "text": [
            "Mounted at /content/gdrive\n"
          ]
        }
      ]
    },
    {
      "cell_type": "code",
      "metadata": {
        "id": "cefBkyjJ96g8"
      },
      "source": [
        "import pandas as pd\n",
        "import numpy as np"
      ],
      "execution_count": null,
      "outputs": []
    },
    {
      "cell_type": "code",
      "metadata": {
        "id": "G2GunnhT-K-f"
      },
      "source": [
        "path = \"/content/gdrive/MyDrive/dataset/\""
      ],
      "execution_count": null,
      "outputs": []
    },
    {
      "cell_type": "code",
      "metadata": {
        "id": "aQgG6JDp-QJM"
      },
      "source": [
        "df_email1 = pd.read_csv(path + 'user_email_count.csv')\n",
        "df_email1.drop(df_email1.iloc[:, 0:1], inplace = True, axis = 1)\n"
      ],
      "execution_count": null,
      "outputs": []
    },
    {
      "cell_type": "code",
      "metadata": {
        "colab": {
          "base_uri": "https://localhost:8080/",
          "height": 408
        },
        "id": "EUNiXVDAI0TC",
        "outputId": "956e7cae-3160-460d-f0ec-6581df17e3e7"
      },
      "source": [
        "df_email1"
      ],
      "execution_count": null,
      "outputs": [
        {
          "output_type": "execute_result",
          "data": {
            "text/html": [
              "<div>\n",
              "<style scoped>\n",
              "    .dataframe tbody tr th:only-of-type {\n",
              "        vertical-align: middle;\n",
              "    }\n",
              "\n",
              "    .dataframe tbody tr th {\n",
              "        vertical-align: top;\n",
              "    }\n",
              "\n",
              "    .dataframe thead th {\n",
              "        text-align: right;\n",
              "    }\n",
              "</style>\n",
              "<table border=\"1\" class=\"dataframe\">\n",
              "  <thead>\n",
              "    <tr style=\"text-align: right;\">\n",
              "      <th></th>\n",
              "      <th>user</th>\n",
              "      <th>email</th>\n",
              "      <th>count</th>\n",
              "    </tr>\n",
              "  </thead>\n",
              "  <tbody>\n",
              "    <tr>\n",
              "      <th>0</th>\n",
              "      <td>AAB0754</td>\n",
              "      <td>dtaa.com</td>\n",
              "      <td>2100</td>\n",
              "    </tr>\n",
              "    <tr>\n",
              "      <th>1</th>\n",
              "      <td>AAB0754</td>\n",
              "      <td>aol.com</td>\n",
              "      <td>85</td>\n",
              "    </tr>\n",
              "    <tr>\n",
              "      <th>2</th>\n",
              "      <td>AAB0754</td>\n",
              "      <td>sbcglobal.net</td>\n",
              "      <td>74</td>\n",
              "    </tr>\n",
              "    <tr>\n",
              "      <th>3</th>\n",
              "      <td>AAB0754</td>\n",
              "      <td>cox.net</td>\n",
              "      <td>27</td>\n",
              "    </tr>\n",
              "    <tr>\n",
              "      <th>4</th>\n",
              "      <td>AAB0754</td>\n",
              "      <td>optonline.net</td>\n",
              "      <td>25</td>\n",
              "    </tr>\n",
              "    <tr>\n",
              "      <th>...</th>\n",
              "      <td>...</td>\n",
              "      <td>...</td>\n",
              "      <td>...</td>\n",
              "    </tr>\n",
              "    <tr>\n",
              "      <th>17949</th>\n",
              "      <td>ZXA0931</td>\n",
              "      <td>gmail.com</td>\n",
              "      <td>1</td>\n",
              "    </tr>\n",
              "    <tr>\n",
              "      <th>17950</th>\n",
              "      <td>ZXA0931</td>\n",
              "      <td>harris.com</td>\n",
              "      <td>1</td>\n",
              "    </tr>\n",
              "    <tr>\n",
              "      <th>17951</th>\n",
              "      <td>ZXA0931</td>\n",
              "      <td>juno.com</td>\n",
              "      <td>1</td>\n",
              "    </tr>\n",
              "    <tr>\n",
              "      <th>17952</th>\n",
              "      <td>ZXA0931</td>\n",
              "      <td>raytheon.com</td>\n",
              "      <td>1</td>\n",
              "    </tr>\n",
              "    <tr>\n",
              "      <th>17953</th>\n",
              "      <td>ZXA0931</td>\n",
              "      <td>yahoo.com</td>\n",
              "      <td>1</td>\n",
              "    </tr>\n",
              "  </tbody>\n",
              "</table>\n",
              "<p>17954 rows × 3 columns</p>\n",
              "</div>"
            ],
            "text/plain": [
              "          user          email  count\n",
              "0      AAB0754       dtaa.com   2100\n",
              "1      AAB0754        aol.com     85\n",
              "2      AAB0754  sbcglobal.net     74\n",
              "3      AAB0754        cox.net     27\n",
              "4      AAB0754  optonline.net     25\n",
              "...        ...            ...    ...\n",
              "17949  ZXA0931      gmail.com      1\n",
              "17950  ZXA0931     harris.com      1\n",
              "17951  ZXA0931       juno.com      1\n",
              "17952  ZXA0931   raytheon.com      1\n",
              "17953  ZXA0931      yahoo.com      1\n",
              "\n",
              "[17954 rows x 3 columns]"
            ]
          },
          "metadata": {},
          "execution_count": 71
        }
      ]
    },
    {
      "cell_type": "code",
      "metadata": {
        "id": "zYgo2o5d-Zb8"
      },
      "source": [
        "df_email = df_email1.copy()"
      ],
      "execution_count": null,
      "outputs": []
    },
    {
      "cell_type": "code",
      "metadata": {
        "colab": {
          "base_uri": "https://localhost:8080/"
        },
        "id": "7_2ZSR6U-05q",
        "outputId": "eb06cca2-a698-4ece-fcb9-636f15dce11c"
      },
      "source": [
        "df_email['email'].unique()"
      ],
      "execution_count": null,
      "outputs": [
        {
          "output_type": "execute_result",
          "data": {
            "text/plain": [
              "array(['dtaa.com', 'aol.com', 'sbcglobal.net', 'cox.net', 'optonline.net',\n",
              "       'charter.net', 'hp.com', 'hotmail.com', 'gmail.com', 'harris.com',\n",
              "       'boeing.com', 'juno.com', 'msn.com', 'raytheon.com', 'verizon.net',\n",
              "       'bellsouth.net', 'earthlink.net', 'comcast.net',\n",
              "       'northropgrumman.com', 'yahoo.com', 'netzero.com', 'lockheed.com'],\n",
              "      dtype=object)"
            ]
          },
          "metadata": {},
          "execution_count": 73
        }
      ]
    },
    {
      "cell_type": "code",
      "metadata": {
        "colab": {
          "base_uri": "https://localhost:8080/"
        },
        "id": "mKQ-03Q7-92z",
        "outputId": "e49e1c62-71fd-4e71-a17b-594fcc38e4d8"
      },
      "source": [
        "len(df_email['email'].unique())"
      ],
      "execution_count": null,
      "outputs": [
        {
          "output_type": "execute_result",
          "data": {
            "text/plain": [
              "22"
            ]
          },
          "metadata": {},
          "execution_count": 74
        }
      ]
    },
    {
      "cell_type": "code",
      "metadata": {
        "id": "L22IaT0w-bS4"
      },
      "source": [
        "df_encoded = pd.get_dummies(df_email, columns={'email'}, prefix='email',drop_first=True)"
      ],
      "execution_count": null,
      "outputs": []
    },
    {
      "cell_type": "code",
      "metadata": {
        "colab": {
          "base_uri": "https://localhost:8080/"
        },
        "id": "_rSnLj-ZIkIZ",
        "outputId": "e0575b8f-5d60-4cca-aa8e-328cc68e9f05"
      },
      "source": [
        "columns = df_encoded.columns\n",
        "columns"
      ],
      "execution_count": null,
      "outputs": [
        {
          "output_type": "execute_result",
          "data": {
            "text/plain": [
              "Index(['user', 'count', 'email_bellsouth.net', 'email_boeing.com',\n",
              "       'email_charter.net', 'email_comcast.net', 'email_cox.net',\n",
              "       'email_dtaa.com', 'email_earthlink.net', 'email_gmail.com',\n",
              "       'email_harris.com', 'email_hotmail.com', 'email_hp.com',\n",
              "       'email_juno.com', 'email_lockheed.com', 'email_msn.com',\n",
              "       'email_netzero.com', 'email_northropgrumman.com', 'email_optonline.net',\n",
              "       'email_raytheon.com', 'email_sbcglobal.net', 'email_verizon.net',\n",
              "       'email_yahoo.com'],\n",
              "      dtype='object')"
            ]
          },
          "metadata": {},
          "execution_count": 76
        }
      ]
    },
    {
      "cell_type": "code",
      "metadata": {
        "id": "tmPrAhRv_Ild"
      },
      "source": [
        "del df_email['email']"
      ],
      "execution_count": null,
      "outputs": []
    },
    {
      "cell_type": "code",
      "metadata": {
        "id": "cIO3ifE7GUU2"
      },
      "source": [
        "df_email[columns] = df_encoded\n"
      ],
      "execution_count": null,
      "outputs": []
    },
    {
      "cell_type": "code",
      "metadata": {
        "colab": {
          "base_uri": "https://localhost:8080/",
          "height": 428
        },
        "id": "wNCVJHykKFIJ",
        "outputId": "d8d4f331-bce5-43bd-bc55-f825e6843eef"
      },
      "source": [
        "df_email"
      ],
      "execution_count": null,
      "outputs": [
        {
          "output_type": "execute_result",
          "data": {
            "text/html": [
              "<div>\n",
              "<style scoped>\n",
              "    .dataframe tbody tr th:only-of-type {\n",
              "        vertical-align: middle;\n",
              "    }\n",
              "\n",
              "    .dataframe tbody tr th {\n",
              "        vertical-align: top;\n",
              "    }\n",
              "\n",
              "    .dataframe thead th {\n",
              "        text-align: right;\n",
              "    }\n",
              "</style>\n",
              "<table border=\"1\" class=\"dataframe\">\n",
              "  <thead>\n",
              "    <tr style=\"text-align: right;\">\n",
              "      <th></th>\n",
              "      <th>count</th>\n",
              "      <th>email_bellsouth.net</th>\n",
              "      <th>email_boeing.com</th>\n",
              "      <th>email_charter.net</th>\n",
              "      <th>email_comcast.net</th>\n",
              "      <th>email_cox.net</th>\n",
              "      <th>email_dtaa.com</th>\n",
              "      <th>email_earthlink.net</th>\n",
              "      <th>email_gmail.com</th>\n",
              "      <th>email_harris.com</th>\n",
              "      <th>email_hotmail.com</th>\n",
              "      <th>email_hp.com</th>\n",
              "      <th>email_juno.com</th>\n",
              "      <th>email_lockheed.com</th>\n",
              "      <th>email_msn.com</th>\n",
              "      <th>email_netzero.com</th>\n",
              "      <th>email_northropgrumman.com</th>\n",
              "      <th>email_optonline.net</th>\n",
              "      <th>email_raytheon.com</th>\n",
              "      <th>email_sbcglobal.net</th>\n",
              "      <th>email_verizon.net</th>\n",
              "      <th>email_yahoo.com</th>\n",
              "    </tr>\n",
              "  </thead>\n",
              "  <tbody>\n",
              "    <tr>\n",
              "      <th>0</th>\n",
              "      <td>2100</td>\n",
              "      <td>0</td>\n",
              "      <td>0</td>\n",
              "      <td>0</td>\n",
              "      <td>0</td>\n",
              "      <td>0</td>\n",
              "      <td>1</td>\n",
              "      <td>0</td>\n",
              "      <td>0</td>\n",
              "      <td>0</td>\n",
              "      <td>0</td>\n",
              "      <td>0</td>\n",
              "      <td>0</td>\n",
              "      <td>0</td>\n",
              "      <td>0</td>\n",
              "      <td>0</td>\n",
              "      <td>0</td>\n",
              "      <td>0</td>\n",
              "      <td>0</td>\n",
              "      <td>0</td>\n",
              "      <td>0</td>\n",
              "      <td>0</td>\n",
              "    </tr>\n",
              "    <tr>\n",
              "      <th>1</th>\n",
              "      <td>85</td>\n",
              "      <td>0</td>\n",
              "      <td>0</td>\n",
              "      <td>0</td>\n",
              "      <td>0</td>\n",
              "      <td>0</td>\n",
              "      <td>0</td>\n",
              "      <td>0</td>\n",
              "      <td>0</td>\n",
              "      <td>0</td>\n",
              "      <td>0</td>\n",
              "      <td>0</td>\n",
              "      <td>0</td>\n",
              "      <td>0</td>\n",
              "      <td>0</td>\n",
              "      <td>0</td>\n",
              "      <td>0</td>\n",
              "      <td>0</td>\n",
              "      <td>0</td>\n",
              "      <td>0</td>\n",
              "      <td>0</td>\n",
              "      <td>0</td>\n",
              "    </tr>\n",
              "    <tr>\n",
              "      <th>2</th>\n",
              "      <td>74</td>\n",
              "      <td>0</td>\n",
              "      <td>0</td>\n",
              "      <td>0</td>\n",
              "      <td>0</td>\n",
              "      <td>0</td>\n",
              "      <td>0</td>\n",
              "      <td>0</td>\n",
              "      <td>0</td>\n",
              "      <td>0</td>\n",
              "      <td>0</td>\n",
              "      <td>0</td>\n",
              "      <td>0</td>\n",
              "      <td>0</td>\n",
              "      <td>0</td>\n",
              "      <td>0</td>\n",
              "      <td>0</td>\n",
              "      <td>0</td>\n",
              "      <td>0</td>\n",
              "      <td>1</td>\n",
              "      <td>0</td>\n",
              "      <td>0</td>\n",
              "    </tr>\n",
              "    <tr>\n",
              "      <th>3</th>\n",
              "      <td>27</td>\n",
              "      <td>0</td>\n",
              "      <td>0</td>\n",
              "      <td>0</td>\n",
              "      <td>0</td>\n",
              "      <td>1</td>\n",
              "      <td>0</td>\n",
              "      <td>0</td>\n",
              "      <td>0</td>\n",
              "      <td>0</td>\n",
              "      <td>0</td>\n",
              "      <td>0</td>\n",
              "      <td>0</td>\n",
              "      <td>0</td>\n",
              "      <td>0</td>\n",
              "      <td>0</td>\n",
              "      <td>0</td>\n",
              "      <td>0</td>\n",
              "      <td>0</td>\n",
              "      <td>0</td>\n",
              "      <td>0</td>\n",
              "      <td>0</td>\n",
              "    </tr>\n",
              "    <tr>\n",
              "      <th>4</th>\n",
              "      <td>25</td>\n",
              "      <td>0</td>\n",
              "      <td>0</td>\n",
              "      <td>0</td>\n",
              "      <td>0</td>\n",
              "      <td>0</td>\n",
              "      <td>0</td>\n",
              "      <td>0</td>\n",
              "      <td>0</td>\n",
              "      <td>0</td>\n",
              "      <td>0</td>\n",
              "      <td>0</td>\n",
              "      <td>0</td>\n",
              "      <td>0</td>\n",
              "      <td>0</td>\n",
              "      <td>0</td>\n",
              "      <td>0</td>\n",
              "      <td>1</td>\n",
              "      <td>0</td>\n",
              "      <td>0</td>\n",
              "      <td>0</td>\n",
              "      <td>0</td>\n",
              "    </tr>\n",
              "    <tr>\n",
              "      <th>...</th>\n",
              "      <td>...</td>\n",
              "      <td>...</td>\n",
              "      <td>...</td>\n",
              "      <td>...</td>\n",
              "      <td>...</td>\n",
              "      <td>...</td>\n",
              "      <td>...</td>\n",
              "      <td>...</td>\n",
              "      <td>...</td>\n",
              "      <td>...</td>\n",
              "      <td>...</td>\n",
              "      <td>...</td>\n",
              "      <td>...</td>\n",
              "      <td>...</td>\n",
              "      <td>...</td>\n",
              "      <td>...</td>\n",
              "      <td>...</td>\n",
              "      <td>...</td>\n",
              "      <td>...</td>\n",
              "      <td>...</td>\n",
              "      <td>...</td>\n",
              "      <td>...</td>\n",
              "    </tr>\n",
              "    <tr>\n",
              "      <th>17949</th>\n",
              "      <td>1</td>\n",
              "      <td>0</td>\n",
              "      <td>0</td>\n",
              "      <td>0</td>\n",
              "      <td>0</td>\n",
              "      <td>0</td>\n",
              "      <td>0</td>\n",
              "      <td>0</td>\n",
              "      <td>1</td>\n",
              "      <td>0</td>\n",
              "      <td>0</td>\n",
              "      <td>0</td>\n",
              "      <td>0</td>\n",
              "      <td>0</td>\n",
              "      <td>0</td>\n",
              "      <td>0</td>\n",
              "      <td>0</td>\n",
              "      <td>0</td>\n",
              "      <td>0</td>\n",
              "      <td>0</td>\n",
              "      <td>0</td>\n",
              "      <td>0</td>\n",
              "    </tr>\n",
              "    <tr>\n",
              "      <th>17950</th>\n",
              "      <td>1</td>\n",
              "      <td>0</td>\n",
              "      <td>0</td>\n",
              "      <td>0</td>\n",
              "      <td>0</td>\n",
              "      <td>0</td>\n",
              "      <td>0</td>\n",
              "      <td>0</td>\n",
              "      <td>0</td>\n",
              "      <td>1</td>\n",
              "      <td>0</td>\n",
              "      <td>0</td>\n",
              "      <td>0</td>\n",
              "      <td>0</td>\n",
              "      <td>0</td>\n",
              "      <td>0</td>\n",
              "      <td>0</td>\n",
              "      <td>0</td>\n",
              "      <td>0</td>\n",
              "      <td>0</td>\n",
              "      <td>0</td>\n",
              "      <td>0</td>\n",
              "    </tr>\n",
              "    <tr>\n",
              "      <th>17951</th>\n",
              "      <td>1</td>\n",
              "      <td>0</td>\n",
              "      <td>0</td>\n",
              "      <td>0</td>\n",
              "      <td>0</td>\n",
              "      <td>0</td>\n",
              "      <td>0</td>\n",
              "      <td>0</td>\n",
              "      <td>0</td>\n",
              "      <td>0</td>\n",
              "      <td>0</td>\n",
              "      <td>0</td>\n",
              "      <td>1</td>\n",
              "      <td>0</td>\n",
              "      <td>0</td>\n",
              "      <td>0</td>\n",
              "      <td>0</td>\n",
              "      <td>0</td>\n",
              "      <td>0</td>\n",
              "      <td>0</td>\n",
              "      <td>0</td>\n",
              "      <td>0</td>\n",
              "    </tr>\n",
              "    <tr>\n",
              "      <th>17952</th>\n",
              "      <td>1</td>\n",
              "      <td>0</td>\n",
              "      <td>0</td>\n",
              "      <td>0</td>\n",
              "      <td>0</td>\n",
              "      <td>0</td>\n",
              "      <td>0</td>\n",
              "      <td>0</td>\n",
              "      <td>0</td>\n",
              "      <td>0</td>\n",
              "      <td>0</td>\n",
              "      <td>0</td>\n",
              "      <td>0</td>\n",
              "      <td>0</td>\n",
              "      <td>0</td>\n",
              "      <td>0</td>\n",
              "      <td>0</td>\n",
              "      <td>0</td>\n",
              "      <td>1</td>\n",
              "      <td>0</td>\n",
              "      <td>0</td>\n",
              "      <td>0</td>\n",
              "    </tr>\n",
              "    <tr>\n",
              "      <th>17953</th>\n",
              "      <td>1</td>\n",
              "      <td>0</td>\n",
              "      <td>0</td>\n",
              "      <td>0</td>\n",
              "      <td>0</td>\n",
              "      <td>0</td>\n",
              "      <td>0</td>\n",
              "      <td>0</td>\n",
              "      <td>0</td>\n",
              "      <td>0</td>\n",
              "      <td>0</td>\n",
              "      <td>0</td>\n",
              "      <td>0</td>\n",
              "      <td>0</td>\n",
              "      <td>0</td>\n",
              "      <td>0</td>\n",
              "      <td>0</td>\n",
              "      <td>0</td>\n",
              "      <td>0</td>\n",
              "      <td>0</td>\n",
              "      <td>0</td>\n",
              "      <td>1</td>\n",
              "    </tr>\n",
              "  </tbody>\n",
              "</table>\n",
              "<p>17954 rows × 22 columns</p>\n",
              "</div>"
            ],
            "text/plain": [
              "       count  email_bellsouth.net  ...  email_verizon.net  email_yahoo.com\n",
              "0       2100                    0  ...                  0                0\n",
              "1         85                    0  ...                  0                0\n",
              "2         74                    0  ...                  0                0\n",
              "3         27                    0  ...                  0                0\n",
              "4         25                    0  ...                  0                0\n",
              "...      ...                  ...  ...                ...              ...\n",
              "17949      1                    0  ...                  0                0\n",
              "17950      1                    0  ...                  0                0\n",
              "17951      1                    0  ...                  0                0\n",
              "17952      1                    0  ...                  0                0\n",
              "17953      1                    0  ...                  0                1\n",
              "\n",
              "[17954 rows x 22 columns]"
            ]
          },
          "metadata": {},
          "execution_count": 84
        }
      ]
    },
    {
      "cell_type": "code",
      "metadata": {
        "id": "nGNYAqZiKIU1"
      },
      "source": [
        "user_email_count_matrix = np.matrix(df_email)"
      ],
      "execution_count": null,
      "outputs": []
    },
    {
      "cell_type": "code",
      "metadata": {
        "id": "2BR8U_6_JUud"
      },
      "source": [
        "import matplotlib.pyplot as plt\n",
        "from sklearn.ensemble import IsolationForest"
      ],
      "execution_count": null,
      "outputs": []
    },
    {
      "cell_type": "code",
      "metadata": {
        "colab": {
          "base_uri": "https://localhost:8080/"
        },
        "id": "NbSEygk8J2QB",
        "outputId": "563ebd93-2dc9-46fb-f99d-ce62bfe0fe99"
      },
      "source": [
        "forest = IsolationForest(bootstrap=False, contamination= 0.1 , max_features=1.0,\n",
        "        max_samples='auto', n_estimators=100, n_jobs=1, random_state=0,\n",
        "        verbose=0)\n",
        "forest.fit(user_email_count_matrix)\n",
        "user_email_ascore = forest.decision_function(user_email_count_matrix)\n",
        "user_email_ascore[:10]"
      ],
      "execution_count": null,
      "outputs": [
        {
          "output_type": "execute_result",
          "data": {
            "text/plain": [
              "array([-0.00091651,  0.09098883,  0.02299133,  0.02574486,  0.00633603,\n",
              "        0.03362326,  0.01524831,  0.0170261 ,  0.00363109,  0.02685167])"
            ]
          },
          "metadata": {},
          "execution_count": 87
        }
      ]
    },
    {
      "cell_type": "code",
      "metadata": {
        "colab": {
          "base_uri": "https://localhost:8080/"
        },
        "id": "P3mTu60rKbli",
        "outputId": "cb8f8c93-b295-4f96-d607-fb5fe0c4ed25"
      },
      "source": [
        "df_user_email_result = pd.DataFrame()\n",
        "df_user_email_result['user_id'] = df_email1['user']\n",
        "df_user_email_result['ascore'] = user_email_ascore\n",
        "print(df_user_email_result)"
      ],
      "execution_count": null,
      "outputs": [
        {
          "output_type": "stream",
          "name": "stdout",
          "text": [
            "       user_id    ascore\n",
            "0      AAB0754 -0.000917\n",
            "1      AAB0754  0.090989\n",
            "2      AAB0754  0.022991\n",
            "3      AAB0754  0.025745\n",
            "4      AAB0754  0.006336\n",
            "...        ...       ...\n",
            "17949  ZXA0931  0.001190\n",
            "17950  ZXA0931  0.022969\n",
            "17951  ZXA0931  0.034535\n",
            "17952  ZXA0931  0.020676\n",
            "17953  ZXA0931  0.018590\n",
            "\n",
            "[17954 rows x 2 columns]\n"
          ]
        }
      ]
    },
    {
      "cell_type": "code",
      "metadata": {
        "colab": {
          "base_uri": "https://localhost:8080/",
          "height": 313
        },
        "id": "gU6r9M5kKyW7",
        "outputId": "893b819d-ca32-437c-9546-ee3a2c180b91"
      },
      "source": [
        "df_user_email_result.hist()"
      ],
      "execution_count": null,
      "outputs": [
        {
          "output_type": "execute_result",
          "data": {
            "text/plain": [
              "array([[<matplotlib.axes._subplots.AxesSubplot object at 0x7fe7b5ae7590>]],\n",
              "      dtype=object)"
            ]
          },
          "metadata": {},
          "execution_count": 89
        },
        {
          "output_type": "display_data",
          "data": {
            "image/png": "[encoded data removed]",
            "text/plain": [
              "<Figure size 432x288 with 1 Axes>"
            ]
          },
          "metadata": {
            "needs_background": "light"
          }
        }
      ]
    },
    {
      "cell_type": "code",
      "metadata": {
        "id": "DqBvu0NsK4Hr"
      },
      "source": [
        ""
      ],
      "execution_count": null,
      "outputs": []
    }
  ]
}