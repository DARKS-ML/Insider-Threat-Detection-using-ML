{
  "nbformat": 4,
  "nbformat_minor": 0,
  "metadata": {
    "colab": {
      "name": "insider_threat1.ipynb",
      "provenance": [],
      "collapsed_sections": []
    },
    "kernelspec": {
      "display_name": "Python 3",
      "name": "python3"
    },
    "language_info": {
      "name": "python"
    }
  },
  "cells": [
    {
      "cell_type": "code",
      "metadata": {
        "colab": {
          "base_uri": "https://localhost:8080/"
        },
        "id": "wij_6UxvaCgD",
        "outputId": "8d5bba45-0803-4b36-f674-762a9cb51260"
      },
      "source": [
        "from google.colab import drive\n",
        "drive.mount('/content/gdrive')\n"
      ],
      "execution_count": null,
      "outputs": [
        {
          "output_type": "stream",
          "name": "stdout",
          "text": [
            "Mounted at /content/gdrive\n"
          ]
        }
      ]
    },
    {
      "cell_type": "code",
      "metadata": {
        "id": "n9Cev7cmaFhr"
      },
      "source": [
        "import pandas as pd\n",
        "import numpy as np"
      ],
      "execution_count": null,
      "outputs": []
    },
    {
      "cell_type": "code",
      "metadata": {
        "id": "PcX_UU9igM7J"
      },
      "source": [
        "path = \"/content/gdrive/MyDrive/dataset/\""
      ],
      "execution_count": null,
      "outputs": []
    },
    {
      "cell_type": "code",
      "metadata": {
        "id": "xOTXUo0-arwM"
      },
      "source": [
        "df_users_full = pd.read_csv(path + \"users.csv\")\n",
        "df_users1 = df_users_full[[\"user_id\",\"functional_unit\",\"department\"]]\n",
        "df_users = df_users1[df_users1.functional_unit == \"2 - ResearchAndEngineering\"]\n",
        "df_users = df_users[(df_users.department != \"1 - Research\")]\n",
        "df_users = pd.DataFrame(df_users)"
      ],
      "execution_count": null,
      "outputs": []
    },
    {
      "cell_type": "code",
      "metadata": {
        "colab": {
          "base_uri": "https://localhost:8080/",
          "height": 408
        },
        "id": "yj40AovFedSI",
        "outputId": "c0194ec4-ac96-4186-f8ba-fb99fe5d3de6"
      },
      "source": [
        "df_users"
      ],
      "execution_count": null,
      "outputs": [
        {
          "output_type": "execute_result",
          "data": {
            "text/html": [
              "<div>\n",
              "<style scoped>\n",
              "    .dataframe tbody tr th:only-of-type {\n",
              "        vertical-align: middle;\n",
              "    }\n",
              "\n",
              "    .dataframe tbody tr th {\n",
              "        vertical-align: top;\n",
              "    }\n",
              "\n",
              "    .dataframe thead th {\n",
              "        text-align: right;\n",
              "    }\n",
              "</style>\n",
              "<table border=\"1\" class=\"dataframe\">\n",
              "  <thead>\n",
              "    <tr style=\"text-align: right;\">\n",
              "      <th></th>\n",
              "      <th>user_id</th>\n",
              "      <th>functional_unit</th>\n",
              "      <th>department</th>\n",
              "    </tr>\n",
              "  </thead>\n",
              "  <tbody>\n",
              "    <tr>\n",
              "      <th>8</th>\n",
              "      <td>HBB0090</td>\n",
              "      <td>2 - ResearchAndEngineering</td>\n",
              "      <td>3 - Engineering</td>\n",
              "    </tr>\n",
              "    <tr>\n",
              "      <th>10</th>\n",
              "      <td>QCF0390</td>\n",
              "      <td>2 - ResearchAndEngineering</td>\n",
              "      <td>3 - Engineering</td>\n",
              "    </tr>\n",
              "    <tr>\n",
              "      <th>11</th>\n",
              "      <td>JDD0087</td>\n",
              "      <td>2 - ResearchAndEngineering</td>\n",
              "      <td>3 - Engineering</td>\n",
              "    </tr>\n",
              "    <tr>\n",
              "      <th>12</th>\n",
              "      <td>AAN0077</td>\n",
              "      <td>2 - ResearchAndEngineering</td>\n",
              "      <td>3 - Engineering</td>\n",
              "    </tr>\n",
              "    <tr>\n",
              "      <th>13</th>\n",
              "      <td>GJP0098</td>\n",
              "      <td>2 - ResearchAndEngineering</td>\n",
              "      <td>3 - Engineering</td>\n",
              "    </tr>\n",
              "    <tr>\n",
              "      <th>...</th>\n",
              "      <td>...</td>\n",
              "      <td>...</td>\n",
              "      <td>...</td>\n",
              "    </tr>\n",
              "    <tr>\n",
              "      <th>17318</th>\n",
              "      <td>KRM0241</td>\n",
              "      <td>2 - ResearchAndEngineering</td>\n",
              "      <td>3 - Engineering</td>\n",
              "    </tr>\n",
              "    <tr>\n",
              "      <th>17320</th>\n",
              "      <td>ORC0907</td>\n",
              "      <td>2 - ResearchAndEngineering</td>\n",
              "      <td>2 - SoftwareManagement</td>\n",
              "    </tr>\n",
              "    <tr>\n",
              "      <th>17325</th>\n",
              "      <td>REM0274</td>\n",
              "      <td>2 - ResearchAndEngineering</td>\n",
              "      <td>3 - Engineering</td>\n",
              "    </tr>\n",
              "    <tr>\n",
              "      <th>17332</th>\n",
              "      <td>QKA0388</td>\n",
              "      <td>2 - ResearchAndEngineering</td>\n",
              "      <td>3 - Engineering</td>\n",
              "    </tr>\n",
              "    <tr>\n",
              "      <th>17333</th>\n",
              "      <td>GGK0375</td>\n",
              "      <td>2 - ResearchAndEngineering</td>\n",
              "      <td>3 - Engineering</td>\n",
              "    </tr>\n",
              "  </tbody>\n",
              "</table>\n",
              "<p>4027 rows × 3 columns</p>\n",
              "</div>"
            ],
            "text/plain": [
              "       user_id             functional_unit              department\n",
              "8      HBB0090  2 - ResearchAndEngineering         3 - Engineering\n",
              "10     QCF0390  2 - ResearchAndEngineering         3 - Engineering\n",
              "11     JDD0087  2 - ResearchAndEngineering         3 - Engineering\n",
              "12     AAN0077  2 - ResearchAndEngineering         3 - Engineering\n",
              "13     GJP0098  2 - ResearchAndEngineering         3 - Engineering\n",
              "...        ...                         ...                     ...\n",
              "17318  KRM0241  2 - ResearchAndEngineering         3 - Engineering\n",
              "17320  ORC0907  2 - ResearchAndEngineering  2 - SoftwareManagement\n",
              "17325  REM0274  2 - ResearchAndEngineering         3 - Engineering\n",
              "17332  QKA0388  2 - ResearchAndEngineering         3 - Engineering\n",
              "17333  GGK0375  2 - ResearchAndEngineering         3 - Engineering\n",
              "\n",
              "[4027 rows x 3 columns]"
            ]
          },
          "metadata": {},
          "execution_count": 6
        }
      ]
    },
    {
      "cell_type": "code",
      "metadata": {
        "colab": {
          "base_uri": "https://localhost:8080/"
        },
        "id": "eGo4DX9Gczki",
        "outputId": "b897d195-2a27-464d-e08f-472fbf6e6e74"
      },
      "source": [
        "df_users = df_users.dropna(axis = 0)\n",
        "df_users.info()"
      ],
      "execution_count": null,
      "outputs": [
        {
          "output_type": "stream",
          "name": "stdout",
          "text": [
            "<class 'pandas.core.frame.DataFrame'>\n",
            "Int64Index: 3991 entries, 8 to 17333\n",
            "Data columns (total 3 columns):\n",
            " #   Column           Non-Null Count  Dtype \n",
            "---  ------           --------------  ----- \n",
            " 0   user_id          3991 non-null   object\n",
            " 1   functional_unit  3991 non-null   object\n",
            " 2   department       3991 non-null   object\n",
            "dtypes: object(3)\n",
            "memory usage: 124.7+ KB\n"
          ]
        }
      ]
    },
    {
      "cell_type": "code",
      "metadata": {
        "id": "TU8PLfADepqY"
      },
      "source": [
        "df_device = pd.read_csv(path + \"device.csv\")"
      ],
      "execution_count": null,
      "outputs": []
    },
    {
      "cell_type": "code",
      "metadata": {
        "id": "lJekvpRShBh6"
      },
      "source": [
        "df_file = pd.read_csv(path + \"file.csv\")"
      ],
      "execution_count": null,
      "outputs": []
    },
    {
      "cell_type": "code",
      "metadata": {
        "id": "in4qMPtahbat"
      },
      "source": [
        "df_logon = pd.read_csv(path + \"logon.csv\")"
      ],
      "execution_count": null,
      "outputs": []
    },
    {
      "cell_type": "code",
      "metadata": {
        "id": "eobo2cJxhi7x"
      },
      "source": [
        "df_psychometric = pd.read_csv(path + \"psychometric.csv\")\n",
        "df_psychometric = df_psychometric[['employee_name','user_id','O','C','E', 'A', 'N']]"
      ],
      "execution_count": null,
      "outputs": []
    },
    {
      "cell_type": "code",
      "metadata": {
        "id": "Tgn9ocmgiLNY"
      },
      "source": [
        "df_users_clean = df_users.rename(columns= {'user_id':'user'}, inplace=False)"
      ],
      "execution_count": null,
      "outputs": []
    },
    {
      "cell_type": "code",
      "metadata": {
        "id": "FmP8jIxvjlLP"
      },
      "source": [
        "df_logon_users = pd.merge(df_logon, df_users_clean, on = 'user')\n",
        "df_logon_users_clean = df_logon_users.drop(columns=['functional_unit', 'department'])\n"
      ],
      "execution_count": null,
      "outputs": []
    },
    {
      "cell_type": "code",
      "metadata": {
        "id": "UrMWJ9HxkND6"
      },
      "source": [
        "df_device_users = pd.merge(df_device, df_users_clean, on='user')\n",
        "df_device_users_clean = df_device_users.drop(columns=['functional_unit','department'])"
      ],
      "execution_count": null,
      "outputs": []
    },
    {
      "cell_type": "code",
      "metadata": {
        "id": "ANzvOpCzld8Q"
      },
      "source": [
        "df_device_users = pd.merge(df_device, df_users_clean, on = 'user')\n",
        "df_device_users_clean = df_device_users.drop(columns = ['functional_unit', 'department'])\n"
      ],
      "execution_count": null,
      "outputs": []
    },
    {
      "cell_type": "code",
      "metadata": {
        "id": "Dxe2BR0Xl63k"
      },
      "source": [
        "df_file_users = pd.merge(df_file, df_users_clean, on = 'user')\n",
        "df_file_users_clean = df_file_users.drop(columns = ['functional_unit', 'department'])\n"
      ],
      "execution_count": null,
      "outputs": []
    },
    {
      "cell_type": "code",
      "metadata": {
        "id": "MDykw7I_mSgi"
      },
      "source": [
        "df_psychometric_users = pd.merge(df_psychometric, df_users, on = 'user_id')\n",
        "df_psychometric_users_clean = df_psychometric_users[['employee_name', 'user_id','O', 'C', 'E','A','N']]\n"
      ],
      "execution_count": null,
      "outputs": []
    },
    {
      "cell_type": "code",
      "metadata": {
        "id": "0hOB8qtTmjmm"
      },
      "source": [
        ""
      ],
      "execution_count": null,
      "outputs": []
    },
    {
      "cell_type": "code",
      "metadata": {
        "id": "bGx9ZX5wnlxv"
      },
      "source": [
        "df_logon_users_clean['date'] = pd.to_datetime(df_logon_users_clean['date'])"
      ],
      "execution_count": null,
      "outputs": []
    },
    {
      "cell_type": "code",
      "metadata": {
        "id": "nXDsqIadn6yv"
      },
      "source": [
        "df_logon_users_clean['time'] = df_logon_users_clean['date'].dt.time"
      ],
      "execution_count": null,
      "outputs": []
    },
    {
      "cell_type": "code",
      "metadata": {
        "id": "B84oChzUo4Zf"
      },
      "source": [
        "df_user_logon = df_logon_users_clean.loc[df_logon_users_clean['activity'] == 'Logon']"
      ],
      "execution_count": null,
      "outputs": []
    },
    {
      "cell_type": "code",
      "metadata": {
        "colab": {
          "base_uri": "https://localhost:8080/"
        },
        "id": "sxUhfabzpc_l",
        "outputId": "31927954-5245-4a08-958f-7364269a1589"
      },
      "source": [
        "df_user_logon['hour'] = pd.to_datetime(df_user_logon['date'], format='%H:%M').dt.hour"
      ],
      "execution_count": null,
      "outputs": [
        {
          "output_type": "stream",
          "name": "stderr",
          "text": [
            "/usr/local/lib/python3.7/dist-packages/ipykernel_launcher.py:1: SettingWithCopyWarning: \n",
            "A value is trying to be set on a copy of a slice from a DataFrame.\n",
            "Try using .loc[row_indexer,col_indexer] = value instead\n",
            "\n",
            "See the caveats in the documentation: https://pandas.pydata.org/pandas-docs/stable/user_guide/indexing.html#returning-a-view-versus-a-copy\n",
            "  \"\"\"Entry point for launching an IPython kernel.\n"
          ]
        }
      ]
    },
    {
      "cell_type": "code",
      "metadata": {
        "id": "zI1fT9aEp7sJ"
      },
      "source": [
        "df_user_logon_stats = df_user_logon.groupby('user')['time'].agg([min,max]).reset_index()"
      ],
      "execution_count": null,
      "outputs": []
    },
    {
      "cell_type": "code",
      "metadata": {
        "id": "0jGuY1JbtKfB"
      },
      "source": [
        "df_logon_mode = df_user_logon.groupby('user')['time'].agg(lambda x: x.value_counts().index[0]).reset_index()"
      ],
      "execution_count": null,
      "outputs": []
    },
    {
      "cell_type": "code",
      "metadata": {
        "id": "QmSRpebjM9De"
      },
      "source": [
        ""
      ],
      "execution_count": null,
      "outputs": []
    },
    {
      "cell_type": "code",
      "metadata": {
        "id": "3iCK4Py10H_a"
      },
      "source": [
        "df_logon_mean = df_user_logon.groupby('user')['hour'].mean().reset_index()\n",
        "df_logon_mean['hour'].dtype\n",
        "df_logon_mean['hour'] = pd.to_datetime(df_logon_mean['hour'], format='%H').dt.time\n"
      ],
      "execution_count": null,
      "outputs": []
    },
    {
      "cell_type": "code",
      "metadata": {
        "id": "ixgjK-gfzTEl"
      },
      "source": [
        "df_user_logon_stats['mode'] = df_logon_mode['time']\n",
        "df_user_logon_stats['mean'] = df_logon_mean['hour']"
      ],
      "execution_count": null,
      "outputs": []
    },
    {
      "cell_type": "code",
      "metadata": {
        "id": "DyRDg0k7xtdG"
      },
      "source": [
        ""
      ],
      "execution_count": null,
      "outputs": []
    },
    {
      "cell_type": "code",
      "metadata": {
        "id": "CXRtENnN090y"
      },
      "source": [
        "df_user_logoff = df_logon_users_clean.loc[df_logon_users_clean['activity'] == 'Logoff']"
      ],
      "execution_count": null,
      "outputs": []
    },
    {
      "cell_type": "code",
      "metadata": {
        "colab": {
          "base_uri": "https://localhost:8080/"
        },
        "id": "kl2eWWO13BzE",
        "outputId": "ac119353-92df-4dae-ce9f-0cf1434a164d"
      },
      "source": [
        "df_user_logoff['date'] = pd.to_datetime(df_user_logoff['date'])\n",
        "df_user_logoff['time'] = df_user_logoff['date'].dt.time"
      ],
      "execution_count": null,
      "outputs": [
        {
          "output_type": "stream",
          "name": "stderr",
          "text": [
            "/usr/local/lib/python3.7/dist-packages/ipykernel_launcher.py:1: SettingWithCopyWarning: \n",
            "A value is trying to be set on a copy of a slice from a DataFrame.\n",
            "Try using .loc[row_indexer,col_indexer] = value instead\n",
            "\n",
            "See the caveats in the documentation: https://pandas.pydata.org/pandas-docs/stable/user_guide/indexing.html#returning-a-view-versus-a-copy\n",
            "  \"\"\"Entry point for launching an IPython kernel.\n",
            "/usr/local/lib/python3.7/dist-packages/ipykernel_launcher.py:2: SettingWithCopyWarning: \n",
            "A value is trying to be set on a copy of a slice from a DataFrame.\n",
            "Try using .loc[row_indexer,col_indexer] = value instead\n",
            "\n",
            "See the caveats in the documentation: https://pandas.pydata.org/pandas-docs/stable/user_guide/indexing.html#returning-a-view-versus-a-copy\n",
            "  \n"
          ]
        }
      ]
    },
    {
      "cell_type": "code",
      "metadata": {
        "colab": {
          "base_uri": "https://localhost:8080/"
        },
        "id": "0jt5r6_O1QZW",
        "outputId": "568ecc07-dd86-46a4-f76c-377f5e8c259a"
      },
      "source": [
        "\n",
        "df_user_logoff['hour'] = pd.to_datetime(df_user_logoff['date'], format='%H:%M').dt.hour"
      ],
      "execution_count": null,
      "outputs": [
        {
          "output_type": "stream",
          "name": "stderr",
          "text": [
            "/usr/local/lib/python3.7/dist-packages/ipykernel_launcher.py:2: SettingWithCopyWarning: \n",
            "A value is trying to be set on a copy of a slice from a DataFrame.\n",
            "Try using .loc[row_indexer,col_indexer] = value instead\n",
            "\n",
            "See the caveats in the documentation: https://pandas.pydata.org/pandas-docs/stable/user_guide/indexing.html#returning-a-view-versus-a-copy\n",
            "  \n"
          ]
        }
      ]
    },
    {
      "cell_type": "code",
      "metadata": {
        "id": "Drb_zZGC1oNv"
      },
      "source": [
        "df_user_logoff_stats = df_user_logoff.groupby('user')['time'].agg([min,max]).reset_index()"
      ],
      "execution_count": null,
      "outputs": []
    },
    {
      "cell_type": "code",
      "metadata": {
        "colab": {
          "base_uri": "https://localhost:8080/",
          "height": 408
        },
        "id": "8LyVk1oa1aqJ",
        "outputId": "4248f7a6-e3ee-4d91-f358-958ac25118db"
      },
      "source": [
        "df_user_logoff.groupby('user')['time'].agg(pd.Series.mode).reset_index()"
      ],
      "execution_count": null,
      "outputs": [
        {
          "output_type": "execute_result",
          "data": {
            "text/html": [
              "<div>\n",
              "<style scoped>\n",
              "    .dataframe tbody tr th:only-of-type {\n",
              "        vertical-align: middle;\n",
              "    }\n",
              "\n",
              "    .dataframe tbody tr th {\n",
              "        vertical-align: top;\n",
              "    }\n",
              "\n",
              "    .dataframe thead th {\n",
              "        text-align: right;\n",
              "    }\n",
              "</style>\n",
              "<table border=\"1\" class=\"dataframe\">\n",
              "  <thead>\n",
              "    <tr style=\"text-align: right;\">\n",
              "      <th></th>\n",
              "      <th>user</th>\n",
              "      <th>time</th>\n",
              "    </tr>\n",
              "  </thead>\n",
              "  <tbody>\n",
              "    <tr>\n",
              "      <th>0</th>\n",
              "      <td>AAN0077</td>\n",
              "      <td>16:56:00</td>\n",
              "    </tr>\n",
              "    <tr>\n",
              "      <th>1</th>\n",
              "      <td>AAW0103</td>\n",
              "      <td>16:14:00</td>\n",
              "    </tr>\n",
              "    <tr>\n",
              "      <th>2</th>\n",
              "      <td>ACE0265</td>\n",
              "      <td>16:06:00</td>\n",
              "    </tr>\n",
              "    <tr>\n",
              "      <th>3</th>\n",
              "      <td>ACL0394</td>\n",
              "      <td>17:15:00</td>\n",
              "    </tr>\n",
              "    <tr>\n",
              "      <th>4</th>\n",
              "      <td>ADR0362</td>\n",
              "      <td>16:45:00</td>\n",
              "    </tr>\n",
              "    <tr>\n",
              "      <th>...</th>\n",
              "      <td>...</td>\n",
              "      <td>...</td>\n",
              "    </tr>\n",
              "    <tr>\n",
              "      <th>225</th>\n",
              "      <td>XTM0246</td>\n",
              "      <td>17:00:00</td>\n",
              "    </tr>\n",
              "    <tr>\n",
              "      <th>226</th>\n",
              "      <td>YJT0368</td>\n",
              "      <td>16:45:00</td>\n",
              "    </tr>\n",
              "    <tr>\n",
              "      <th>227</th>\n",
              "      <td>YSB0779</td>\n",
              "      <td>16:45:00</td>\n",
              "    </tr>\n",
              "    <tr>\n",
              "      <th>228</th>\n",
              "      <td>ZBL0379</td>\n",
              "      <td>19:30:00</td>\n",
              "    </tr>\n",
              "    <tr>\n",
              "      <th>229</th>\n",
              "      <td>ZIF0269</td>\n",
              "      <td>16:05:00</td>\n",
              "    </tr>\n",
              "  </tbody>\n",
              "</table>\n",
              "<p>230 rows × 2 columns</p>\n",
              "</div>"
            ],
            "text/plain": [
              "        user      time\n",
              "0    AAN0077  16:56:00\n",
              "1    AAW0103  16:14:00\n",
              "2    ACE0265  16:06:00\n",
              "3    ACL0394  17:15:00\n",
              "4    ADR0362  16:45:00\n",
              "..       ...       ...\n",
              "225  XTM0246  17:00:00\n",
              "226  YJT0368  16:45:00\n",
              "227  YSB0779  16:45:00\n",
              "228  ZBL0379  19:30:00\n",
              "229  ZIF0269  16:05:00\n",
              "\n",
              "[230 rows x 2 columns]"
            ]
          },
          "metadata": {},
          "execution_count": 30
        }
      ]
    },
    {
      "cell_type": "code",
      "metadata": {
        "id": "jZiXia-94xGH"
      },
      "source": [
        "df_logoff_mode = df_user_logoff.groupby('user')['time'].agg(lambda x: x.value_counts().index[0]).reset_index()"
      ],
      "execution_count": null,
      "outputs": []
    },
    {
      "cell_type": "code",
      "metadata": {
        "id": "mmY8MLkU4hEy"
      },
      "source": [
        "df_logoff_mean = df_user_logoff.groupby('user')['hour'].mean().reset_index()\n",
        "df_logoff_mean['hour'] = df_logoff_mean['hour'].astype(int)\n",
        "df_logoff_mean['hour'] = pd.to_datetime(df_logoff_mean['hour'], format='%H').dt.time\n"
      ],
      "execution_count": null,
      "outputs": []
    },
    {
      "cell_type": "code",
      "metadata": {
        "id": "O5sgWyir5stO"
      },
      "source": [
        "df_user_logoff_stats['mode'] = df_logoff_mode['time']\n",
        "df_user_logoff_stats['mean'] = df_logoff_mean['hour']"
      ],
      "execution_count": null,
      "outputs": []
    },
    {
      "cell_type": "code",
      "metadata": {
        "id": "YruLWKfU6QS6"
      },
      "source": [
        ""
      ],
      "execution_count": null,
      "outputs": []
    },
    {
      "cell_type": "code",
      "metadata": {
        "id": "EmyBAKEu6ccc"
      },
      "source": [
        "df_device_users_clean['time'] = pd.to_datetime(df_device_users_clean['date']).dt.time"
      ],
      "execution_count": null,
      "outputs": []
    },
    {
      "cell_type": "code",
      "metadata": {
        "id": "w7HH2UEDEusT"
      },
      "source": [
        "df_device_conn = df_device_users_clean.loc[df_device_users_clean['activity'] == 'Connect']\n",
        "df_device_disconn = df_device_users_clean.loc[df_device_users_clean['activity'] == 'Disconnect']\n"
      ],
      "execution_count": null,
      "outputs": []
    },
    {
      "cell_type": "code",
      "metadata": {
        "id": "pDo0AygbFk-T"
      },
      "source": [
        "df_device_conn_stats = df_device_conn.groupby('user')['time'].agg([min, max]).reset_index()"
      ],
      "execution_count": null,
      "outputs": []
    },
    {
      "cell_type": "code",
      "metadata": {
        "id": "9IXkVIHgF2iT"
      },
      "source": [
        "df_device_conn_stats_1 = df_device_conn.groupby('user')"
      ],
      "execution_count": null,
      "outputs": []
    },
    {
      "cell_type": "code",
      "metadata": {
        "id": "fQGY5MkTGIyG"
      },
      "source": [
        "df_conn_mode = df_device_conn.groupby('user')['time'].agg(lambda x: x.value_counts().index[0]).reset_index()"
      ],
      "execution_count": null,
      "outputs": []
    },
    {
      "cell_type": "code",
      "metadata": {
        "colab": {
          "base_uri": "https://localhost:8080/"
        },
        "id": "zxgMmpZ5GhV7",
        "outputId": "b7f3ad7c-e694-4b58-86a0-89e2462cc15d"
      },
      "source": [
        "df_device_conn['hour'] = pd.to_datetime(df_device_conn['date']).dt.hour"
      ],
      "execution_count": null,
      "outputs": [
        {
          "output_type": "stream",
          "name": "stderr",
          "text": [
            "/usr/local/lib/python3.7/dist-packages/ipykernel_launcher.py:1: SettingWithCopyWarning: \n",
            "A value is trying to be set on a copy of a slice from a DataFrame.\n",
            "Try using .loc[row_indexer,col_indexer] = value instead\n",
            "\n",
            "See the caveats in the documentation: https://pandas.pydata.org/pandas-docs/stable/user_guide/indexing.html#returning-a-view-versus-a-copy\n",
            "  \"\"\"Entry point for launching an IPython kernel.\n"
          ]
        }
      ]
    },
    {
      "cell_type": "code",
      "metadata": {
        "id": "73pQhz86GwYe"
      },
      "source": [
        "df_conn_mean = df_device_conn.groupby('user')['hour'].mean().reset_index()\n",
        "df_conn_mean['hour'] = df_conn_mean['hour'].astype(int)\n",
        "df_conn_mean['hour'] = pd.to_datetime(df_conn_mean['hour'],format=\"%H\").dt.time"
      ],
      "execution_count": null,
      "outputs": []
    },
    {
      "cell_type": "code",
      "metadata": {
        "id": "bT2HqZgFHZgg"
      },
      "source": [
        "df_device_conn_stats['mode'] = df_conn_mode['time']\n",
        "df_device_conn_stats['mean'] = df_conn_mean['hour']"
      ],
      "execution_count": null,
      "outputs": []
    },
    {
      "cell_type": "code",
      "metadata": {
        "id": "rtNHzgLjHrml"
      },
      "source": [
        ""
      ],
      "execution_count": null,
      "outputs": []
    },
    {
      "cell_type": "code",
      "metadata": {
        "id": "SfIGvVXcHvgH"
      },
      "source": [
        "df_device_disconn_stats = df_device_disconn.groupby('user')['time'].agg([min,max]).reset_index()"
      ],
      "execution_count": null,
      "outputs": []
    },
    {
      "cell_type": "code",
      "metadata": {
        "id": "uV4V2DK4IC2Q"
      },
      "source": [
        "df_dconn_mode = df_device_disconn.groupby('user')['time'].agg(lambda x: x.value_counts().index[0]).reset_index()\n",
        "\n"
      ],
      "execution_count": null,
      "outputs": []
    },
    {
      "cell_type": "code",
      "metadata": {
        "colab": {
          "base_uri": "https://localhost:8080/"
        },
        "id": "x7XYhgqQIMdl",
        "outputId": "c12a9f3a-f076-423e-c3f0-0e1ffe968b5a"
      },
      "source": [
        "df_device_disconn['hour'] = pd.to_datetime(df_device_disconn['date']).dt.hour\n"
      ],
      "execution_count": null,
      "outputs": [
        {
          "output_type": "stream",
          "name": "stderr",
          "text": [
            "/usr/local/lib/python3.7/dist-packages/ipykernel_launcher.py:1: SettingWithCopyWarning: \n",
            "A value is trying to be set on a copy of a slice from a DataFrame.\n",
            "Try using .loc[row_indexer,col_indexer] = value instead\n",
            "\n",
            "See the caveats in the documentation: https://pandas.pydata.org/pandas-docs/stable/user_guide/indexing.html#returning-a-view-versus-a-copy\n",
            "  \"\"\"Entry point for launching an IPython kernel.\n"
          ]
        }
      ]
    },
    {
      "cell_type": "code",
      "metadata": {
        "id": "kqT1HiLmIS70"
      },
      "source": [
        "df_dconn_mean = df_device_disconn.groupby('user')['hour'].mean().reset_index()\n",
        "df_dconn_mean['hour'] = df_dconn_mean['hour'].astype(int)\n",
        "df_dconn_mean['hour'] = pd.to_datetime(df_dconn_mean['hour'], format='%H').dt.time\n"
      ],
      "execution_count": null,
      "outputs": []
    },
    {
      "cell_type": "code",
      "metadata": {
        "colab": {
          "base_uri": "https://localhost:8080/",
          "height": 1000
        },
        "id": "546-RXFUi1zf",
        "outputId": "51bfb01a-2846-4b54-fb0e-828a091fef09"
      },
      "source": [
        "df_dconn_mean"
      ],
      "execution_count": null,
      "outputs": [
        {
          "output_type": "execute_result",
          "data": {
            "text/html": [
              "<div>\n",
              "<style scoped>\n",
              "    .dataframe tbody tr th:only-of-type {\n",
              "        vertical-align: middle;\n",
              "    }\n",
              "\n",
              "    .dataframe tbody tr th {\n",
              "        vertical-align: top;\n",
              "    }\n",
              "\n",
              "    .dataframe thead th {\n",
              "        text-align: right;\n",
              "    }\n",
              "</style>\n",
              "<table border=\"1\" class=\"dataframe\">\n",
              "  <thead>\n",
              "    <tr style=\"text-align: right;\">\n",
              "      <th></th>\n",
              "      <th>user</th>\n",
              "      <th>hour</th>\n",
              "    </tr>\n",
              "  </thead>\n",
              "  <tbody>\n",
              "    <tr>\n",
              "      <th>0</th>\n",
              "      <td>AJQ0376</td>\n",
              "      <td>14:00:00</td>\n",
              "    </tr>\n",
              "    <tr>\n",
              "      <th>1</th>\n",
              "      <td>AJR0231</td>\n",
              "      <td>11:00:00</td>\n",
              "    </tr>\n",
              "    <tr>\n",
              "      <th>2</th>\n",
              "      <td>AOD0066</td>\n",
              "      <td>12:00:00</td>\n",
              "    </tr>\n",
              "    <tr>\n",
              "      <th>3</th>\n",
              "      <td>ARH0777</td>\n",
              "      <td>12:00:00</td>\n",
              "    </tr>\n",
              "    <tr>\n",
              "      <th>4</th>\n",
              "      <td>BCP0247</td>\n",
              "      <td>12:00:00</td>\n",
              "    </tr>\n",
              "    <tr>\n",
              "      <th>5</th>\n",
              "      <td>BDS0396</td>\n",
              "      <td>13:00:00</td>\n",
              "    </tr>\n",
              "    <tr>\n",
              "      <th>6</th>\n",
              "      <td>BMS0057</td>\n",
              "      <td>15:00:00</td>\n",
              "    </tr>\n",
              "    <tr>\n",
              "      <th>7</th>\n",
              "      <td>BZK0095</td>\n",
              "      <td>11:00:00</td>\n",
              "    </tr>\n",
              "    <tr>\n",
              "      <th>8</th>\n",
              "      <td>CAE0080</td>\n",
              "      <td>12:00:00</td>\n",
              "    </tr>\n",
              "    <tr>\n",
              "      <th>9</th>\n",
              "      <td>CGH0088</td>\n",
              "      <td>12:00:00</td>\n",
              "    </tr>\n",
              "    <tr>\n",
              "      <th>10</th>\n",
              "      <td>CJG0059</td>\n",
              "      <td>11:00:00</td>\n",
              "    </tr>\n",
              "    <tr>\n",
              "      <th>11</th>\n",
              "      <td>CJV0236</td>\n",
              "      <td>12:00:00</td>\n",
              "    </tr>\n",
              "    <tr>\n",
              "      <th>12</th>\n",
              "      <td>CSD0242</td>\n",
              "      <td>12:00:00</td>\n",
              "    </tr>\n",
              "    <tr>\n",
              "      <th>13</th>\n",
              "      <td>DWC0525</td>\n",
              "      <td>13:00:00</td>\n",
              "    </tr>\n",
              "    <tr>\n",
              "      <th>14</th>\n",
              "      <td>FED0275</td>\n",
              "      <td>12:00:00</td>\n",
              "    </tr>\n",
              "    <tr>\n",
              "      <th>15</th>\n",
              "      <td>FKF0235</td>\n",
              "      <td>12:00:00</td>\n",
              "    </tr>\n",
              "    <tr>\n",
              "      <th>16</th>\n",
              "      <td>GGM0530</td>\n",
              "      <td>12:00:00</td>\n",
              "    </tr>\n",
              "    <tr>\n",
              "      <th>17</th>\n",
              "      <td>GJP0098</td>\n",
              "      <td>11:00:00</td>\n",
              "    </tr>\n",
              "    <tr>\n",
              "      <th>18</th>\n",
              "      <td>HBB0090</td>\n",
              "      <td>11:00:00</td>\n",
              "    </tr>\n",
              "    <tr>\n",
              "      <th>19</th>\n",
              "      <td>HNW0537</td>\n",
              "      <td>13:00:00</td>\n",
              "    </tr>\n",
              "    <tr>\n",
              "      <th>20</th>\n",
              "      <td>HOJ0260</td>\n",
              "      <td>11:00:00</td>\n",
              "    </tr>\n",
              "    <tr>\n",
              "      <th>21</th>\n",
              "      <td>IAF0403</td>\n",
              "      <td>13:00:00</td>\n",
              "    </tr>\n",
              "    <tr>\n",
              "      <th>22</th>\n",
              "      <td>IUM0065</td>\n",
              "      <td>11:00:00</td>\n",
              "    </tr>\n",
              "    <tr>\n",
              "      <th>23</th>\n",
              "      <td>JCE0258</td>\n",
              "      <td>12:00:00</td>\n",
              "    </tr>\n",
              "    <tr>\n",
              "      <th>24</th>\n",
              "      <td>JDD0087</td>\n",
              "      <td>13:00:00</td>\n",
              "    </tr>\n",
              "    <tr>\n",
              "      <th>25</th>\n",
              "      <td>JLI0073</td>\n",
              "      <td>12:00:00</td>\n",
              "    </tr>\n",
              "    <tr>\n",
              "      <th>26</th>\n",
              "      <td>JNW0252</td>\n",
              "      <td>13:00:00</td>\n",
              "    </tr>\n",
              "    <tr>\n",
              "      <th>27</th>\n",
              "      <td>JTB0079</td>\n",
              "      <td>12:00:00</td>\n",
              "    </tr>\n",
              "    <tr>\n",
              "      <th>28</th>\n",
              "      <td>LEF0786</td>\n",
              "      <td>12:00:00</td>\n",
              "    </tr>\n",
              "    <tr>\n",
              "      <th>29</th>\n",
              "      <td>LJW0776</td>\n",
              "      <td>12:00:00</td>\n",
              "    </tr>\n",
              "    <tr>\n",
              "      <th>30</th>\n",
              "      <td>LTB0107</td>\n",
              "      <td>12:00:00</td>\n",
              "    </tr>\n",
              "    <tr>\n",
              "      <th>31</th>\n",
              "      <td>LVL0958</td>\n",
              "      <td>13:00:00</td>\n",
              "    </tr>\n",
              "    <tr>\n",
              "      <th>32</th>\n",
              "      <td>LWB0078</td>\n",
              "      <td>12:00:00</td>\n",
              "    </tr>\n",
              "    <tr>\n",
              "      <th>33</th>\n",
              "      <td>MJH0083</td>\n",
              "      <td>13:00:00</td>\n",
              "    </tr>\n",
              "    <tr>\n",
              "      <th>34</th>\n",
              "      <td>MPM0410</td>\n",
              "      <td>13:00:00</td>\n",
              "    </tr>\n",
              "    <tr>\n",
              "      <th>35</th>\n",
              "      <td>MSB0359</td>\n",
              "      <td>12:00:00</td>\n",
              "    </tr>\n",
              "    <tr>\n",
              "      <th>36</th>\n",
              "      <td>ORC0907</td>\n",
              "      <td>13:00:00</td>\n",
              "    </tr>\n",
              "    <tr>\n",
              "      <th>37</th>\n",
              "      <td>QLC0248</td>\n",
              "      <td>13:00:00</td>\n",
              "    </tr>\n",
              "    <tr>\n",
              "      <th>38</th>\n",
              "      <td>RAW0533</td>\n",
              "      <td>13:00:00</td>\n",
              "    </tr>\n",
              "    <tr>\n",
              "      <th>39</th>\n",
              "      <td>REM0274</td>\n",
              "      <td>11:00:00</td>\n",
              "    </tr>\n",
              "    <tr>\n",
              "      <th>40</th>\n",
              "      <td>SBM0063</td>\n",
              "      <td>11:00:00</td>\n",
              "    </tr>\n",
              "    <tr>\n",
              "      <th>41</th>\n",
              "      <td>SHR0369</td>\n",
              "      <td>13:00:00</td>\n",
              "    </tr>\n",
              "    <tr>\n",
              "      <th>42</th>\n",
              "      <td>TOC0528</td>\n",
              "      <td>12:00:00</td>\n",
              "    </tr>\n",
              "    <tr>\n",
              "      <th>43</th>\n",
              "      <td>UMA0072</td>\n",
              "      <td>12:00:00</td>\n",
              "    </tr>\n",
              "    <tr>\n",
              "      <th>44</th>\n",
              "      <td>WMP0272</td>\n",
              "      <td>12:00:00</td>\n",
              "    </tr>\n",
              "    <tr>\n",
              "      <th>45</th>\n",
              "      <td>WXW0044</td>\n",
              "      <td>11:00:00</td>\n",
              "    </tr>\n",
              "    <tr>\n",
              "      <th>46</th>\n",
              "      <td>ZBL0379</td>\n",
              "      <td>14:00:00</td>\n",
              "    </tr>\n",
              "  </tbody>\n",
              "</table>\n",
              "</div>"
            ],
            "text/plain": [
              "       user      hour\n",
              "0   AJQ0376  14:00:00\n",
              "1   AJR0231  11:00:00\n",
              "2   AOD0066  12:00:00\n",
              "3   ARH0777  12:00:00\n",
              "4   BCP0247  12:00:00\n",
              "5   BDS0396  13:00:00\n",
              "6   BMS0057  15:00:00\n",
              "7   BZK0095  11:00:00\n",
              "8   CAE0080  12:00:00\n",
              "9   CGH0088  12:00:00\n",
              "10  CJG0059  11:00:00\n",
              "11  CJV0236  12:00:00\n",
              "12  CSD0242  12:00:00\n",
              "13  DWC0525  13:00:00\n",
              "14  FED0275  12:00:00\n",
              "15  FKF0235  12:00:00\n",
              "16  GGM0530  12:00:00\n",
              "17  GJP0098  11:00:00\n",
              "18  HBB0090  11:00:00\n",
              "19  HNW0537  13:00:00\n",
              "20  HOJ0260  11:00:00\n",
              "21  IAF0403  13:00:00\n",
              "22  IUM0065  11:00:00\n",
              "23  JCE0258  12:00:00\n",
              "24  JDD0087  13:00:00\n",
              "25  JLI0073  12:00:00\n",
              "26  JNW0252  13:00:00\n",
              "27  JTB0079  12:00:00\n",
              "28  LEF0786  12:00:00\n",
              "29  LJW0776  12:00:00\n",
              "30  LTB0107  12:00:00\n",
              "31  LVL0958  13:00:00\n",
              "32  LWB0078  12:00:00\n",
              "33  MJH0083  13:00:00\n",
              "34  MPM0410  13:00:00\n",
              "35  MSB0359  12:00:00\n",
              "36  ORC0907  13:00:00\n",
              "37  QLC0248  13:00:00\n",
              "38  RAW0533  13:00:00\n",
              "39  REM0274  11:00:00\n",
              "40  SBM0063  11:00:00\n",
              "41  SHR0369  13:00:00\n",
              "42  TOC0528  12:00:00\n",
              "43  UMA0072  12:00:00\n",
              "44  WMP0272  12:00:00\n",
              "45  WXW0044  11:00:00\n",
              "46  ZBL0379  14:00:00"
            ]
          },
          "metadata": {},
          "execution_count": 137
        }
      ]
    },
    {
      "cell_type": "code",
      "metadata": {
        "id": "i6JMKE4zId9F"
      },
      "source": [
        "df_device_disconn_stats['mode'] = df_dconn_mode['time']\n",
        "df_device_disconn_stats['mean'] = df_dconn_mean['hour']"
      ],
      "execution_count": null,
      "outputs": []
    },
    {
      "cell_type": "code",
      "metadata": {
        "id": "4TRrm0ymIlC5"
      },
      "source": [
        "df_file_users_clean['date2'] = pd.to_datetime(df_file_users_clean['date']).dt.date"
      ],
      "execution_count": null,
      "outputs": []
    },
    {
      "cell_type": "code",
      "metadata": {
        "id": "NWIUut9zJVWL"
      },
      "source": [
        ""
      ],
      "execution_count": null,
      "outputs": []
    },
    {
      "cell_type": "code",
      "metadata": {
        "id": "Pc0B1Eq4JZj5"
      },
      "source": [
        "df_files_per_day = df_file_users_clean.groupby(['user', 'date2']).size().reset_index()"
      ],
      "execution_count": null,
      "outputs": []
    },
    {
      "cell_type": "code",
      "metadata": {
        "id": "1U4cMT0PJzUh"
      },
      "source": [
        ""
      ],
      "execution_count": null,
      "outputs": []
    },
    {
      "cell_type": "code",
      "metadata": {
        "id": "YYsENT9rJ2ao"
      },
      "source": [
        "df_files_per_day.rename(columns={0:'transfers_per_day'}, inplace=True)\n"
      ],
      "execution_count": null,
      "outputs": []
    },
    {
      "cell_type": "code",
      "metadata": {
        "id": "MeKOnj-_Ks_l"
      },
      "source": [
        "df_files_max_per_day = df_files_per_day.groupby('user')['transfers_per_day'].agg(max).reset_index()\n",
        "df_files_max_per_day.rename(columns={'transfers_per_day': \"max_transfers_per_user\"}, inplace=True)"
      ],
      "execution_count": null,
      "outputs": []
    },
    {
      "cell_type": "code",
      "metadata": {
        "id": "W7cV_ieELNji"
      },
      "source": [
        "df_files_mode_per_day = df_files_per_day.groupby('user')['transfers_per_day'].agg(lambda x: x.value_counts().index[0]).reset_index()\n",
        "df_files_mode_per_day.rename(columns={'transfers_per_day': \"mode_transfers_per_user\"}, inplace=True)\n"
      ],
      "execution_count": null,
      "outputs": []
    },
    {
      "cell_type": "code",
      "metadata": {
        "id": "9PnW-5m1-Eiq",
        "colab": {
          "base_uri": "https://localhost:8080/",
          "height": 1000
        },
        "outputId": "a027e70d-daac-4b6f-9784-9fec766c821c"
      },
      "source": [
        "df_files_mode_per_day"
      ],
      "execution_count": null,
      "outputs": [
        {
          "output_type": "execute_result",
          "data": {
            "text/html": [
              "<div>\n",
              "<style scoped>\n",
              "    .dataframe tbody tr th:only-of-type {\n",
              "        vertical-align: middle;\n",
              "    }\n",
              "\n",
              "    .dataframe tbody tr th {\n",
              "        vertical-align: top;\n",
              "    }\n",
              "\n",
              "    .dataframe thead th {\n",
              "        text-align: right;\n",
              "    }\n",
              "</style>\n",
              "<table border=\"1\" class=\"dataframe\">\n",
              "  <thead>\n",
              "    <tr style=\"text-align: right;\">\n",
              "      <th></th>\n",
              "      <th>user</th>\n",
              "      <th>mode_transfers_per_user</th>\n",
              "    </tr>\n",
              "  </thead>\n",
              "  <tbody>\n",
              "    <tr>\n",
              "      <th>0</th>\n",
              "      <td>AJQ0376</td>\n",
              "      <td>486</td>\n",
              "    </tr>\n",
              "    <tr>\n",
              "      <th>1</th>\n",
              "      <td>AJR0231</td>\n",
              "      <td>90</td>\n",
              "    </tr>\n",
              "    <tr>\n",
              "      <th>2</th>\n",
              "      <td>AOD0066</td>\n",
              "      <td>30</td>\n",
              "    </tr>\n",
              "    <tr>\n",
              "      <th>3</th>\n",
              "      <td>ARH0777</td>\n",
              "      <td>36</td>\n",
              "    </tr>\n",
              "    <tr>\n",
              "      <th>4</th>\n",
              "      <td>BCP0247</td>\n",
              "      <td>72</td>\n",
              "    </tr>\n",
              "    <tr>\n",
              "      <th>5</th>\n",
              "      <td>BDS0396</td>\n",
              "      <td>72</td>\n",
              "    </tr>\n",
              "    <tr>\n",
              "      <th>6</th>\n",
              "      <td>BMS0057</td>\n",
              "      <td>36</td>\n",
              "    </tr>\n",
              "    <tr>\n",
              "      <th>7</th>\n",
              "      <td>BZK0095</td>\n",
              "      <td>486</td>\n",
              "    </tr>\n",
              "    <tr>\n",
              "      <th>8</th>\n",
              "      <td>CAE0080</td>\n",
              "      <td>36</td>\n",
              "    </tr>\n",
              "    <tr>\n",
              "      <th>9</th>\n",
              "      <td>CGH0088</td>\n",
              "      <td>18</td>\n",
              "    </tr>\n",
              "    <tr>\n",
              "      <th>10</th>\n",
              "      <td>CJG0059</td>\n",
              "      <td>36</td>\n",
              "    </tr>\n",
              "    <tr>\n",
              "      <th>11</th>\n",
              "      <td>CJV0236</td>\n",
              "      <td>360</td>\n",
              "    </tr>\n",
              "    <tr>\n",
              "      <th>12</th>\n",
              "      <td>CSD0242</td>\n",
              "      <td>486</td>\n",
              "    </tr>\n",
              "    <tr>\n",
              "      <th>13</th>\n",
              "      <td>DWC0525</td>\n",
              "      <td>18</td>\n",
              "    </tr>\n",
              "    <tr>\n",
              "      <th>14</th>\n",
              "      <td>FED0275</td>\n",
              "      <td>18</td>\n",
              "    </tr>\n",
              "    <tr>\n",
              "      <th>15</th>\n",
              "      <td>FKF0235</td>\n",
              "      <td>8</td>\n",
              "    </tr>\n",
              "    <tr>\n",
              "      <th>16</th>\n",
              "      <td>GGM0530</td>\n",
              "      <td>486</td>\n",
              "    </tr>\n",
              "    <tr>\n",
              "      <th>17</th>\n",
              "      <td>GJP0098</td>\n",
              "      <td>36</td>\n",
              "    </tr>\n",
              "    <tr>\n",
              "      <th>18</th>\n",
              "      <td>HBB0090</td>\n",
              "      <td>486</td>\n",
              "    </tr>\n",
              "    <tr>\n",
              "      <th>19</th>\n",
              "      <td>HNW0537</td>\n",
              "      <td>180</td>\n",
              "    </tr>\n",
              "    <tr>\n",
              "      <th>20</th>\n",
              "      <td>HOJ0260</td>\n",
              "      <td>486</td>\n",
              "    </tr>\n",
              "    <tr>\n",
              "      <th>21</th>\n",
              "      <td>IAF0403</td>\n",
              "      <td>90</td>\n",
              "    </tr>\n",
              "    <tr>\n",
              "      <th>22</th>\n",
              "      <td>IUM0065</td>\n",
              "      <td>36</td>\n",
              "    </tr>\n",
              "    <tr>\n",
              "      <th>23</th>\n",
              "      <td>JCE0258</td>\n",
              "      <td>45</td>\n",
              "    </tr>\n",
              "    <tr>\n",
              "      <th>24</th>\n",
              "      <td>JDD0087</td>\n",
              "      <td>18</td>\n",
              "    </tr>\n",
              "    <tr>\n",
              "      <th>25</th>\n",
              "      <td>JLI0073</td>\n",
              "      <td>72</td>\n",
              "    </tr>\n",
              "    <tr>\n",
              "      <th>26</th>\n",
              "      <td>JNW0252</td>\n",
              "      <td>108</td>\n",
              "    </tr>\n",
              "    <tr>\n",
              "      <th>27</th>\n",
              "      <td>JTB0079</td>\n",
              "      <td>162</td>\n",
              "    </tr>\n",
              "    <tr>\n",
              "      <th>28</th>\n",
              "      <td>LEF0786</td>\n",
              "      <td>90</td>\n",
              "    </tr>\n",
              "    <tr>\n",
              "      <th>29</th>\n",
              "      <td>LJW0776</td>\n",
              "      <td>36</td>\n",
              "    </tr>\n",
              "    <tr>\n",
              "      <th>30</th>\n",
              "      <td>LTB0107</td>\n",
              "      <td>486</td>\n",
              "    </tr>\n",
              "    <tr>\n",
              "      <th>31</th>\n",
              "      <td>LVL0958</td>\n",
              "      <td>486</td>\n",
              "    </tr>\n",
              "    <tr>\n",
              "      <th>32</th>\n",
              "      <td>LWB0078</td>\n",
              "      <td>36</td>\n",
              "    </tr>\n",
              "    <tr>\n",
              "      <th>33</th>\n",
              "      <td>MJH0083</td>\n",
              "      <td>90</td>\n",
              "    </tr>\n",
              "    <tr>\n",
              "      <th>34</th>\n",
              "      <td>MPM0410</td>\n",
              "      <td>108</td>\n",
              "    </tr>\n",
              "    <tr>\n",
              "      <th>35</th>\n",
              "      <td>MSB0359</td>\n",
              "      <td>72</td>\n",
              "    </tr>\n",
              "    <tr>\n",
              "      <th>36</th>\n",
              "      <td>ORC0907</td>\n",
              "      <td>126</td>\n",
              "    </tr>\n",
              "    <tr>\n",
              "      <th>37</th>\n",
              "      <td>QLC0248</td>\n",
              "      <td>486</td>\n",
              "    </tr>\n",
              "    <tr>\n",
              "      <th>38</th>\n",
              "      <td>RAW0533</td>\n",
              "      <td>18</td>\n",
              "    </tr>\n",
              "    <tr>\n",
              "      <th>39</th>\n",
              "      <td>REM0274</td>\n",
              "      <td>486</td>\n",
              "    </tr>\n",
              "    <tr>\n",
              "      <th>40</th>\n",
              "      <td>SBM0063</td>\n",
              "      <td>144</td>\n",
              "    </tr>\n",
              "    <tr>\n",
              "      <th>41</th>\n",
              "      <td>SHR0369</td>\n",
              "      <td>36</td>\n",
              "    </tr>\n",
              "    <tr>\n",
              "      <th>42</th>\n",
              "      <td>TOC0528</td>\n",
              "      <td>180</td>\n",
              "    </tr>\n",
              "    <tr>\n",
              "      <th>43</th>\n",
              "      <td>UMA0072</td>\n",
              "      <td>36</td>\n",
              "    </tr>\n",
              "    <tr>\n",
              "      <th>44</th>\n",
              "      <td>WMP0272</td>\n",
              "      <td>90</td>\n",
              "    </tr>\n",
              "    <tr>\n",
              "      <th>45</th>\n",
              "      <td>WXW0044</td>\n",
              "      <td>486</td>\n",
              "    </tr>\n",
              "    <tr>\n",
              "      <th>46</th>\n",
              "      <td>ZBL0379</td>\n",
              "      <td>72</td>\n",
              "    </tr>\n",
              "  </tbody>\n",
              "</table>\n",
              "</div>"
            ],
            "text/plain": [
              "       user  mode_transfers_per_user\n",
              "0   AJQ0376                      486\n",
              "1   AJR0231                       90\n",
              "2   AOD0066                       30\n",
              "3   ARH0777                       36\n",
              "4   BCP0247                       72\n",
              "5   BDS0396                       72\n",
              "6   BMS0057                       36\n",
              "7   BZK0095                      486\n",
              "8   CAE0080                       36\n",
              "9   CGH0088                       18\n",
              "10  CJG0059                       36\n",
              "11  CJV0236                      360\n",
              "12  CSD0242                      486\n",
              "13  DWC0525                       18\n",
              "14  FED0275                       18\n",
              "15  FKF0235                        8\n",
              "16  GGM0530                      486\n",
              "17  GJP0098                       36\n",
              "18  HBB0090                      486\n",
              "19  HNW0537                      180\n",
              "20  HOJ0260                      486\n",
              "21  IAF0403                       90\n",
              "22  IUM0065                       36\n",
              "23  JCE0258                       45\n",
              "24  JDD0087                       18\n",
              "25  JLI0073                       72\n",
              "26  JNW0252                      108\n",
              "27  JTB0079                      162\n",
              "28  LEF0786                       90\n",
              "29  LJW0776                       36\n",
              "30  LTB0107                      486\n",
              "31  LVL0958                      486\n",
              "32  LWB0078                       36\n",
              "33  MJH0083                       90\n",
              "34  MPM0410                      108\n",
              "35  MSB0359                       72\n",
              "36  ORC0907                      126\n",
              "37  QLC0248                      486\n",
              "38  RAW0533                       18\n",
              "39  REM0274                      486\n",
              "40  SBM0063                      144\n",
              "41  SHR0369                       36\n",
              "42  TOC0528                      180\n",
              "43  UMA0072                       36\n",
              "44  WMP0272                       90\n",
              "45  WXW0044                      486\n",
              "46  ZBL0379                       72"
            ]
          },
          "metadata": {},
          "execution_count": 52
        }
      ]
    },
    {
      "cell_type": "code",
      "metadata": {
        "id": "jzmjcEa4L2Ff"
      },
      "source": [
        "df_files_stats = df_files_mode_per_day"
      ],
      "execution_count": null,
      "outputs": []
    },
    {
      "cell_type": "code",
      "metadata": {
        "id": "p7zCA43gMG6C"
      },
      "source": [
        ""
      ],
      "execution_count": null,
      "outputs": []
    },
    {
      "cell_type": "code",
      "metadata": {
        "id": "3oVaUVh2MUbE"
      },
      "source": [
        "df_files_stats_new = pd.DataFrame()\n",
        "df_files_stats_new['user'] = df_files_stats['user']\n",
        "df_files_stats_new['mode_trasfers_per_user'] = df_files_stats['mode_transfers_per_user']\n",
        "df_files_stats_new['max_transfers_per_user'] = df_files_max_per_day['max_transfers_per_user']\n"
      ],
      "execution_count": null,
      "outputs": []
    },
    {
      "cell_type": "code",
      "metadata": {
        "id": "7Adb8paENU34"
      },
      "source": [
        "df_user_pc = df_logon_users_clean.groupby(['user','pc',]).agg(pc_visits_per_user_total = pd.NamedAgg(column = 'pc', aggfunc = 'count')).reset_index()\n",
        "df_user_pc['count'] = df_user_pc.groupby(['user'])['pc'].transform('nunique')\n",
        "df_user_pc = df_user_pc.drop(['pc', 'pc_visits_per_user_total'], axis=1)\n",
        "df_user_pc = df_user_pc.drop_duplicates()"
      ],
      "execution_count": null,
      "outputs": []
    },
    {
      "cell_type": "code",
      "metadata": {
        "colab": {
          "base_uri": "https://localhost:8080/",
          "height": 408
        },
        "id": "7x0LyTPcaC1t",
        "outputId": "d4b6916f-2c4d-4cf5-a1b7-21a01f18d8e0"
      },
      "source": [
        "df_user_pc"
      ],
      "execution_count": null,
      "outputs": [
        {
          "output_type": "execute_result",
          "data": {
            "text/html": [
              "<div>\n",
              "<style scoped>\n",
              "    .dataframe tbody tr th:only-of-type {\n",
              "        vertical-align: middle;\n",
              "    }\n",
              "\n",
              "    .dataframe tbody tr th {\n",
              "        vertical-align: top;\n",
              "    }\n",
              "\n",
              "    .dataframe thead th {\n",
              "        text-align: right;\n",
              "    }\n",
              "</style>\n",
              "<table border=\"1\" class=\"dataframe\">\n",
              "  <thead>\n",
              "    <tr style=\"text-align: right;\">\n",
              "      <th></th>\n",
              "      <th>user</th>\n",
              "      <th>count</th>\n",
              "    </tr>\n",
              "  </thead>\n",
              "  <tbody>\n",
              "    <tr>\n",
              "      <th>0</th>\n",
              "      <td>AAN0077</td>\n",
              "      <td>1</td>\n",
              "    </tr>\n",
              "    <tr>\n",
              "      <th>1</th>\n",
              "      <td>AAW0103</td>\n",
              "      <td>1</td>\n",
              "    </tr>\n",
              "    <tr>\n",
              "      <th>2</th>\n",
              "      <td>ACE0265</td>\n",
              "      <td>1</td>\n",
              "    </tr>\n",
              "    <tr>\n",
              "      <th>3</th>\n",
              "      <td>ACL0394</td>\n",
              "      <td>2</td>\n",
              "    </tr>\n",
              "    <tr>\n",
              "      <th>5</th>\n",
              "      <td>ADR0362</td>\n",
              "      <td>1</td>\n",
              "    </tr>\n",
              "    <tr>\n",
              "      <th>...</th>\n",
              "      <td>...</td>\n",
              "      <td>...</td>\n",
              "    </tr>\n",
              "    <tr>\n",
              "      <th>632</th>\n",
              "      <td>XTM0246</td>\n",
              "      <td>1</td>\n",
              "    </tr>\n",
              "    <tr>\n",
              "      <th>633</th>\n",
              "      <td>YJT0368</td>\n",
              "      <td>2</td>\n",
              "    </tr>\n",
              "    <tr>\n",
              "      <th>635</th>\n",
              "      <td>YSB0779</td>\n",
              "      <td>1</td>\n",
              "    </tr>\n",
              "    <tr>\n",
              "      <th>636</th>\n",
              "      <td>ZBL0379</td>\n",
              "      <td>1</td>\n",
              "    </tr>\n",
              "    <tr>\n",
              "      <th>637</th>\n",
              "      <td>ZIF0269</td>\n",
              "      <td>1</td>\n",
              "    </tr>\n",
              "  </tbody>\n",
              "</table>\n",
              "<p>230 rows × 2 columns</p>\n",
              "</div>"
            ],
            "text/plain": [
              "        user  count\n",
              "0    AAN0077      1\n",
              "1    AAW0103      1\n",
              "2    ACE0265      1\n",
              "3    ACL0394      2\n",
              "5    ADR0362      1\n",
              "..       ...    ...\n",
              "632  XTM0246      1\n",
              "633  YJT0368      2\n",
              "635  YSB0779      1\n",
              "636  ZBL0379      1\n",
              "637  ZIF0269      1\n",
              "\n",
              "[230 rows x 2 columns]"
            ]
          },
          "metadata": {},
          "execution_count": 56
        }
      ]
    },
    {
      "cell_type": "code",
      "metadata": {
        "id": "6c_Kvzy7OHGA"
      },
      "source": [
        "import matplotlib.pyplot as plt\n",
        "from sklearn.ensemble import IsolationForest"
      ],
      "execution_count": null,
      "outputs": []
    },
    {
      "cell_type": "code",
      "metadata": {
        "id": "YBGQCn6qgD39"
      },
      "source": [
        "df_user_pc_count = np.array(df_user_pc['count'])"
      ],
      "execution_count": null,
      "outputs": []
    },
    {
      "cell_type": "code",
      "metadata": {
        "id": "mfnylg3ZgOE5"
      },
      "source": [
        "df_user_pc_ct = df_user_pc_count.reshape(-1,1)"
      ],
      "execution_count": null,
      "outputs": []
    },
    {
      "cell_type": "code",
      "metadata": {
        "colab": {
          "base_uri": "https://localhost:8080/"
        },
        "id": "TzZe9KlALUgq",
        "outputId": "2a501543-e8ea-4917-dae4-1a8eabd76602"
      },
      "source": [
        "df_user_pc.columns"
      ],
      "execution_count": null,
      "outputs": [
        {
          "output_type": "execute_result",
          "data": {
            "text/plain": [
              "Index(['user', 'count'], dtype='object')"
            ]
          },
          "metadata": {},
          "execution_count": 60
        }
      ]
    },
    {
      "cell_type": "code",
      "metadata": {
        "colab": {
          "base_uri": "https://localhost:8080/"
        },
        "id": "E5WQPGDuhgAr",
        "outputId": "9593ecf6-a94c-454f-a6cc-6eede3bfb027"
      },
      "source": [
        "#user pc\n",
        "forest = IsolationForest(bootstrap=False, contamination=0.1,max_features=1.0,\n",
        "                         max_samples='auto',n_estimators=100, n_jobs=1, random_state=None,\n",
        "                         verbose=0)\n",
        "forest.fit(df_user_pc_ct)\n"
      ],
      "execution_count": null,
      "outputs": [
        {
          "output_type": "execute_result",
          "data": {
            "text/plain": [
              "IsolationForest(behaviour='deprecated', bootstrap=False, contamination=0.1,\n",
              "                max_features=1.0, max_samples='auto', n_estimators=100,\n",
              "                n_jobs=1, random_state=None, verbose=0, warm_start=False)"
            ]
          },
          "metadata": {},
          "execution_count": 61
        }
      ]
    },
    {
      "cell_type": "code",
      "metadata": {
        "id": "dqGC-D062i7J"
      },
      "source": [
        "import pickle \n",
        "with open('user_pc_ct.pkl','wb') as file :\n",
        "  pickle.dump(forest, file)"
      ],
      "execution_count": null,
      "outputs": []
    },
    {
      "cell_type": "code",
      "metadata": {
        "colab": {
          "base_uri": "https://localhost:8080/"
        },
        "id": "KAVGtzULiOVz",
        "outputId": "d7517faa-b20d-416e-95d3-e3ff30f5f140"
      },
      "source": [
        "graph_a_score = forest.decision_function(df_user_pc_ct)\n",
        "print(graph_a_score[1:10])"
      ],
      "execution_count": null,
      "outputs": [
        {
          "output_type": "stream",
          "name": "stdout",
          "text": [
            "[0.08620422 0.08620422 0.00292229 0.08620422 0.08620422 0.08620422\n",
            " 0.08620422 0.08620422 0.08620422]\n"
          ]
        }
      ]
    },
    {
      "cell_type": "code",
      "metadata": {
        "colab": {
          "base_uri": "https://localhost:8080/"
        },
        "id": "Pewg2cRzihdw",
        "outputId": "12dff654-363e-4cc4-c3a7-81070d868d4e"
      },
      "source": [
        "graph_result = pd.DataFrame()\n",
        "graph_result['user'] = df_user_pc['user']\n",
        "graph_result['ascore'] = graph_a_score\n",
        "print(graph_result)"
      ],
      "execution_count": null,
      "outputs": [
        {
          "output_type": "stream",
          "name": "stdout",
          "text": [
            "        user    ascore\n",
            "0    AAN0077  0.086204\n",
            "1    AAW0103  0.086204\n",
            "2    ACE0265  0.086204\n",
            "3    ACL0394  0.002922\n",
            "5    ADR0362  0.086204\n",
            "..       ...       ...\n",
            "632  XTM0246  0.086204\n",
            "633  YJT0368  0.002922\n",
            "635  YSB0779  0.086204\n",
            "636  ZBL0379  0.086204\n",
            "637  ZIF0269  0.086204\n",
            "\n",
            "[230 rows x 2 columns]\n"
          ]
        }
      ]
    },
    {
      "cell_type": "code",
      "metadata": {
        "colab": {
          "base_uri": "https://localhost:8080/"
        },
        "id": "s1fOe_9hi_iq",
        "outputId": "4528f25a-0688-49fc-cc1e-fb5afba19d54"
      },
      "source": [
        "outliers = graph_result.loc[graph_result['ascore'] < 0]\n",
        "print(outliers)"
      ],
      "execution_count": null,
      "outputs": [
        {
          "output_type": "stream",
          "name": "stdout",
          "text": [
            "        user    ascore\n",
            "14   AJR0231 -0.243979\n",
            "54   ALC0100 -0.163825\n",
            "96   ARH0777 -0.175101\n",
            "110  BGZ0902 -0.270585\n",
            "154  CGH0088 -0.175101\n",
            "167  CQS0899 -0.235983\n",
            "205  DNS0397 -0.231524\n",
            "218  EER0383 -0.182880\n",
            "254  FED0275 -0.269544\n",
            "401  LWB0078 -0.364549\n",
            "489  PYT0264 -0.212038\n",
            "580  WJP0386 -0.282661\n",
            "592  WMP0272 -0.191683\n"
          ]
        }
      ]
    },
    {
      "cell_type": "code",
      "metadata": {
        "id": "rHH8qPWWjTJR"
      },
      "source": [
        "def dtt2timestamp(dtt):\n",
        "  time_in_sec = (dtt.hour*60 + dtt.minute) * 60 + dtt.second\n",
        "  return time_in_sec"
      ],
      "execution_count": null,
      "outputs": []
    },
    {
      "cell_type": "code",
      "metadata": {
        "id": "NLE_dHZojuO-"
      },
      "source": [
        "df_user_logon_stats_sec = df_user_logon_stats\n"
      ],
      "execution_count": null,
      "outputs": []
    },
    {
      "cell_type": "code",
      "metadata": {
        "id": "KEgfSjhOkbbR"
      },
      "source": [
        ""
      ],
      "execution_count": null,
      "outputs": []
    },
    {
      "cell_type": "code",
      "metadata": {
        "id": "ZYxl4AMbj4Nw"
      },
      "source": [
        "min_ts = [dtt2timestamp(dtt) for dtt in df_user_logon_stats_sec['min']]\n",
        "max_ts = [dtt2timestamp(dtt) for dtt in df_user_logon_stats_sec['max']]\n",
        "mode_ts = [dtt2timestamp(dtt) for dtt in df_user_logon_stats_sec['mode']]\n",
        "mean_ts = [dtt2timestamp(dtt) for dtt in df_user_logon_stats_sec['mean']]"
      ],
      "execution_count": null,
      "outputs": []
    },
    {
      "cell_type": "code",
      "metadata": {
        "id": "mF89Jzhfkp9K"
      },
      "source": [
        "df_user_logon_stats_sec['min_ts'] = min_ts\n",
        "df_user_logon_stats_sec['max_ts'] = max_ts\n",
        "df_user_logon_stats_sec['mode_ts'] = mode_ts\n",
        "df_user_logon_stats_sec['mean_ts'] = mean_ts"
      ],
      "execution_count": null,
      "outputs": []
    },
    {
      "cell_type": "code",
      "metadata": {
        "id": "x9pa2dh2kzMz"
      },
      "source": [
        ""
      ],
      "execution_count": null,
      "outputs": []
    },
    {
      "cell_type": "code",
      "metadata": {
        "colab": {
          "base_uri": "https://localhost:8080/",
          "height": 408
        },
        "id": "pvVC-j0pk49N",
        "outputId": "5f7241a2-8a2d-4732-d450-cb55e38110cc"
      },
      "source": [
        "df_user_logon_stats_sec.drop(['min','max','mode','mean'], axis=1)"
      ],
      "execution_count": null,
      "outputs": [
        {
          "output_type": "execute_result",
          "data": {
            "text/html": [
              "<div>\n",
              "<style scoped>\n",
              "    .dataframe tbody tr th:only-of-type {\n",
              "        vertical-align: middle;\n",
              "    }\n",
              "\n",
              "    .dataframe tbody tr th {\n",
              "        vertical-align: top;\n",
              "    }\n",
              "\n",
              "    .dataframe thead th {\n",
              "        text-align: right;\n",
              "    }\n",
              "</style>\n",
              "<table border=\"1\" class=\"dataframe\">\n",
              "  <thead>\n",
              "    <tr style=\"text-align: right;\">\n",
              "      <th></th>\n",
              "      <th>user</th>\n",
              "      <th>min_ts</th>\n",
              "      <th>max_ts</th>\n",
              "      <th>mode_ts</th>\n",
              "      <th>mean_ts</th>\n",
              "    </tr>\n",
              "  </thead>\n",
              "  <tbody>\n",
              "    <tr>\n",
              "      <th>0</th>\n",
              "      <td>AAN0077</td>\n",
              "      <td>27900</td>\n",
              "      <td>29580</td>\n",
              "      <td>29580</td>\n",
              "      <td>25200</td>\n",
              "    </tr>\n",
              "    <tr>\n",
              "      <th>1</th>\n",
              "      <td>AAW0103</td>\n",
              "      <td>25200</td>\n",
              "      <td>26280</td>\n",
              "      <td>26100</td>\n",
              "      <td>25200</td>\n",
              "    </tr>\n",
              "    <tr>\n",
              "      <th>2</th>\n",
              "      <td>ACE0265</td>\n",
              "      <td>28800</td>\n",
              "      <td>30300</td>\n",
              "      <td>29700</td>\n",
              "      <td>28800</td>\n",
              "    </tr>\n",
              "    <tr>\n",
              "      <th>3</th>\n",
              "      <td>ACL0394</td>\n",
              "      <td>32400</td>\n",
              "      <td>60757</td>\n",
              "      <td>33300</td>\n",
              "      <td>32400</td>\n",
              "    </tr>\n",
              "    <tr>\n",
              "      <th>4</th>\n",
              "      <td>ADR0362</td>\n",
              "      <td>27000</td>\n",
              "      <td>28080</td>\n",
              "      <td>28080</td>\n",
              "      <td>25200</td>\n",
              "    </tr>\n",
              "    <tr>\n",
              "      <th>...</th>\n",
              "      <td>...</td>\n",
              "      <td>...</td>\n",
              "      <td>...</td>\n",
              "      <td>...</td>\n",
              "      <td>...</td>\n",
              "    </tr>\n",
              "    <tr>\n",
              "      <th>225</th>\n",
              "      <td>XTM0246</td>\n",
              "      <td>27900</td>\n",
              "      <td>29520</td>\n",
              "      <td>29460</td>\n",
              "      <td>25200</td>\n",
              "    </tr>\n",
              "    <tr>\n",
              "      <th>226</th>\n",
              "      <td>YJT0368</td>\n",
              "      <td>27000</td>\n",
              "      <td>68459</td>\n",
              "      <td>27900</td>\n",
              "      <td>25200</td>\n",
              "    </tr>\n",
              "    <tr>\n",
              "      <th>227</th>\n",
              "      <td>YSB0779</td>\n",
              "      <td>27000</td>\n",
              "      <td>28020</td>\n",
              "      <td>27900</td>\n",
              "      <td>25200</td>\n",
              "    </tr>\n",
              "    <tr>\n",
              "      <th>228</th>\n",
              "      <td>ZBL0379</td>\n",
              "      <td>29700</td>\n",
              "      <td>52585</td>\n",
              "      <td>30600</td>\n",
              "      <td>36000</td>\n",
              "    </tr>\n",
              "    <tr>\n",
              "      <th>229</th>\n",
              "      <td>ZIF0269</td>\n",
              "      <td>25200</td>\n",
              "      <td>26760</td>\n",
              "      <td>26100</td>\n",
              "      <td>25200</td>\n",
              "    </tr>\n",
              "  </tbody>\n",
              "</table>\n",
              "<p>230 rows × 5 columns</p>\n",
              "</div>"
            ],
            "text/plain": [
              "        user  min_ts  max_ts  mode_ts  mean_ts\n",
              "0    AAN0077   27900   29580    29580    25200\n",
              "1    AAW0103   25200   26280    26100    25200\n",
              "2    ACE0265   28800   30300    29700    28800\n",
              "3    ACL0394   32400   60757    33300    32400\n",
              "4    ADR0362   27000   28080    28080    25200\n",
              "..       ...     ...     ...      ...      ...\n",
              "225  XTM0246   27900   29520    29460    25200\n",
              "226  YJT0368   27000   68459    27900    25200\n",
              "227  YSB0779   27000   28020    27900    25200\n",
              "228  ZBL0379   29700   52585    30600    36000\n",
              "229  ZIF0269   25200   26760    26100    25200\n",
              "\n",
              "[230 rows x 5 columns]"
            ]
          },
          "metadata": {},
          "execution_count": 70
        }
      ]
    },
    {
      "cell_type": "code",
      "metadata": {
        "id": "ifvL5-NClHIR"
      },
      "source": [
        "df_user_logoff_stats_sec = df_user_logoff_stats\n"
      ],
      "execution_count": null,
      "outputs": []
    },
    {
      "cell_type": "code",
      "metadata": {
        "id": "Bf6_0MbYllVB"
      },
      "source": [
        ""
      ],
      "execution_count": null,
      "outputs": []
    },
    {
      "cell_type": "code",
      "metadata": {
        "id": "GN2B0tr2lUEM"
      },
      "source": [
        "min_ts = [dtt2timestamp(dtt) for dtt in df_user_logoff_stats_sec['min']] \n",
        "max_ts = [dtt2timestamp(dtt) for dtt in df_user_logoff_stats_sec['max']]\n",
        "mode_ts = [dtt2timestamp(dtt) for dtt in df_user_logoff_stats_sec['mode']]\n",
        "mean_ts = [dtt2timestamp(dtt) for dtt in df_user_logoff_stats_sec['mean']]"
      ],
      "execution_count": null,
      "outputs": []
    },
    {
      "cell_type": "code",
      "metadata": {
        "id": "fs92g2OJlayS"
      },
      "source": [
        "df_user_logoff_stats_sec['min_ts'] = min_ts\n",
        "df_user_logoff_stats_sec['max_ts'] = max_ts\n",
        "df_user_logoff_stats_sec['mode_ts'] = mode_ts\n",
        "df_user_logoff_stats_sec['mean_ts'] = mean_ts"
      ],
      "execution_count": null,
      "outputs": []
    },
    {
      "cell_type": "code",
      "metadata": {
        "colab": {
          "base_uri": "https://localhost:8080/",
          "height": 408
        },
        "id": "00Bl8qoVmQBl",
        "outputId": "525ef00e-afdf-45f8-d0e2-ed8d6a00958e"
      },
      "source": [
        "df_user_logoff_stats_sec.drop(['min', 'max','mode','mean'], axis=1)"
      ],
      "execution_count": null,
      "outputs": [
        {
          "output_type": "execute_result",
          "data": {
            "text/html": [
              "<div>\n",
              "<style scoped>\n",
              "    .dataframe tbody tr th:only-of-type {\n",
              "        vertical-align: middle;\n",
              "    }\n",
              "\n",
              "    .dataframe tbody tr th {\n",
              "        vertical-align: top;\n",
              "    }\n",
              "\n",
              "    .dataframe thead th {\n",
              "        text-align: right;\n",
              "    }\n",
              "</style>\n",
              "<table border=\"1\" class=\"dataframe\">\n",
              "  <thead>\n",
              "    <tr style=\"text-align: right;\">\n",
              "      <th></th>\n",
              "      <th>user</th>\n",
              "      <th>min_ts</th>\n",
              "      <th>max_ts</th>\n",
              "      <th>mode_ts</th>\n",
              "      <th>mean_ts</th>\n",
              "    </tr>\n",
              "  </thead>\n",
              "  <tbody>\n",
              "    <tr>\n",
              "      <th>0</th>\n",
              "      <td>AAN0077</td>\n",
              "      <td>60420</td>\n",
              "      <td>62100</td>\n",
              "      <td>60960</td>\n",
              "      <td>57600</td>\n",
              "    </tr>\n",
              "    <tr>\n",
              "      <th>1</th>\n",
              "      <td>AAW0103</td>\n",
              "      <td>58320</td>\n",
              "      <td>59400</td>\n",
              "      <td>58440</td>\n",
              "      <td>57600</td>\n",
              "    </tr>\n",
              "    <tr>\n",
              "      <th>2</th>\n",
              "      <td>ACE0265</td>\n",
              "      <td>57900</td>\n",
              "      <td>59400</td>\n",
              "      <td>57960</td>\n",
              "      <td>57600</td>\n",
              "    </tr>\n",
              "    <tr>\n",
              "      <th>3</th>\n",
              "      <td>ACL0394</td>\n",
              "      <td>33235</td>\n",
              "      <td>63000</td>\n",
              "      <td>62100</td>\n",
              "      <td>57600</td>\n",
              "    </tr>\n",
              "    <tr>\n",
              "      <th>4</th>\n",
              "      <td>ADR0362</td>\n",
              "      <td>60120</td>\n",
              "      <td>61200</td>\n",
              "      <td>60300</td>\n",
              "      <td>57600</td>\n",
              "    </tr>\n",
              "    <tr>\n",
              "      <th>...</th>\n",
              "      <td>...</td>\n",
              "      <td>...</td>\n",
              "      <td>...</td>\n",
              "      <td>...</td>\n",
              "      <td>...</td>\n",
              "    </tr>\n",
              "    <tr>\n",
              "      <th>225</th>\n",
              "      <td>XTM0246</td>\n",
              "      <td>60480</td>\n",
              "      <td>62100</td>\n",
              "      <td>61200</td>\n",
              "      <td>57600</td>\n",
              "    </tr>\n",
              "    <tr>\n",
              "      <th>226</th>\n",
              "      <td>YJT0368</td>\n",
              "      <td>27293</td>\n",
              "      <td>68732</td>\n",
              "      <td>60300</td>\n",
              "      <td>54000</td>\n",
              "    </tr>\n",
              "    <tr>\n",
              "      <th>227</th>\n",
              "      <td>YSB0779</td>\n",
              "      <td>60180</td>\n",
              "      <td>61200</td>\n",
              "      <td>60300</td>\n",
              "      <td>57600</td>\n",
              "    </tr>\n",
              "    <tr>\n",
              "      <th>228</th>\n",
              "      <td>ZBL0379</td>\n",
              "      <td>69420</td>\n",
              "      <td>71100</td>\n",
              "      <td>70200</td>\n",
              "      <td>68400</td>\n",
              "    </tr>\n",
              "    <tr>\n",
              "      <th>229</th>\n",
              "      <td>ZIF0269</td>\n",
              "      <td>57840</td>\n",
              "      <td>59400</td>\n",
              "      <td>57900</td>\n",
              "      <td>57600</td>\n",
              "    </tr>\n",
              "  </tbody>\n",
              "</table>\n",
              "<p>230 rows × 5 columns</p>\n",
              "</div>"
            ],
            "text/plain": [
              "        user  min_ts  max_ts  mode_ts  mean_ts\n",
              "0    AAN0077   60420   62100    60960    57600\n",
              "1    AAW0103   58320   59400    58440    57600\n",
              "2    ACE0265   57900   59400    57960    57600\n",
              "3    ACL0394   33235   63000    62100    57600\n",
              "4    ADR0362   60120   61200    60300    57600\n",
              "..       ...     ...     ...      ...      ...\n",
              "225  XTM0246   60480   62100    61200    57600\n",
              "226  YJT0368   27293   68732    60300    54000\n",
              "227  YSB0779   60180   61200    60300    57600\n",
              "228  ZBL0379   69420   71100    70200    68400\n",
              "229  ZIF0269   57840   59400    57900    57600\n",
              "\n",
              "[230 rows x 5 columns]"
            ]
          },
          "metadata": {},
          "execution_count": 74
        }
      ]
    },
    {
      "cell_type": "code",
      "metadata": {
        "id": "SX_ib_9SmSpp"
      },
      "source": [
        "df_log_on_off_stats = pd.DataFrame()\n",
        "\n",
        "df_log_on_off_stats['user'] = df_user_logon_stats_sec['user']\n",
        "df_log_on_off_stats['on_min_ts'] = df_user_logon_stats_sec['min_ts']\n",
        "df_log_on_off_stats['on_max_ts'] = df_user_logon_stats_sec['max_ts']\n",
        "df_log_on_off_stats['on_mode_ts'] = df_user_logon_stats_sec['mode_ts']\n",
        "df_log_on_off_stats['on_mean_ts'] = df_user_logon_stats_sec['mean_ts']\n",
        "df_log_on_off_stats['off_min_ts'] = df_user_logon_stats_sec['min_ts']\n",
        "df_log_on_off_stats['off_max_ts'] = df_user_logon_stats_sec['max_ts']\n",
        "df_log_on_off_stats['off_mode_ts'] = df_user_logon_stats_sec['mode_ts']\n",
        "df_log_on_off_stats['off_mean_ts'] = df_user_logon_stats_sec['mean_ts']"
      ],
      "execution_count": null,
      "outputs": []
    },
    {
      "cell_type": "code",
      "metadata": {
        "colab": {
          "base_uri": "https://localhost:8080/"
        },
        "id": "qRZ0eHGhnTjo",
        "outputId": "31c333e8-4e1f-4a4a-a737-3de881aa66e4"
      },
      "source": [
        "df_log_on_off_stats.dtypes"
      ],
      "execution_count": null,
      "outputs": [
        {
          "output_type": "execute_result",
          "data": {
            "text/plain": [
              "user           object\n",
              "on_min_ts       int64\n",
              "on_max_ts       int64\n",
              "on_mode_ts      int64\n",
              "on_mean_ts      int64\n",
              "off_min_ts      int64\n",
              "off_max_ts      int64\n",
              "off_mode_ts     int64\n",
              "off_mean_ts     int64\n",
              "dtype: object"
            ]
          },
          "metadata": {},
          "execution_count": 142
        }
      ]
    },
    {
      "cell_type": "code",
      "metadata": {
        "colab": {
          "base_uri": "https://localhost:8080/"
        },
        "id": "uNwVevJVnWw0",
        "outputId": "fc53ca97-6c50-453b-a521-aae9d63d76cb"
      },
      "source": [
        "log_stats = df_log_on_off_stats.drop(['user'], axis = 1)\n",
        "log_stats_matrix = np.matrix(log_stats)\n",
        "print(log_stats_matrix)"
      ],
      "execution_count": null,
      "outputs": [
        {
          "output_type": "stream",
          "name": "stdout",
          "text": [
            "[[27900 29580 29580 ... 29580 29580 25200]\n",
            " [25200 26280 26100 ... 26280 26100 25200]\n",
            " [28800 30300 29700 ... 30300 29700 28800]\n",
            " ...\n",
            " [27000 28020 27900 ... 28020 27900 25200]\n",
            " [29700 52585 30600 ... 52585 30600 36000]\n",
            " [25200 26760 26100 ... 26760 26100 25200]]\n"
          ]
        }
      ]
    },
    {
      "cell_type": "code",
      "metadata": {
        "colab": {
          "base_uri": "https://localhost:8080/"
        },
        "id": "N9lDES_NLF_b",
        "outputId": "fd528c1a-3756-41ab-8ba6-cfcda4da9959"
      },
      "source": [
        "df_log_on_off_stats.columns"
      ],
      "execution_count": null,
      "outputs": [
        {
          "output_type": "execute_result",
          "data": {
            "text/plain": [
              "Index(['user', 'on_min_ts', 'on_max_ts', 'on_mode_ts', 'on_mean_ts',\n",
              "       'off_min_ts', 'off_max_ts', 'off_mode_ts', 'off_mean_ts'],\n",
              "      dtype='object')"
            ]
          },
          "metadata": {},
          "execution_count": 77
        }
      ]
    },
    {
      "cell_type": "code",
      "metadata": {
        "colab": {
          "base_uri": "https://localhost:8080/"
        },
        "id": "R1nHKRQ9nzaD",
        "outputId": "5bb897b2-dedb-40d3-db60-250699e8c974"
      },
      "source": [
        "#logon\n",
        "forest = IsolationForest(bootstrap=False, contamination= 0.1 , max_features=1.0,\n",
        "        max_samples='auto', n_estimators=100, n_jobs=1, random_state=0,\n",
        "        verbose=0)\n",
        "forest.fit(log_stats_matrix)\n",
        "log_ascore = forest.decision_function(log_stats_matrix)\n",
        "log_ascore[:10]"
      ],
      "execution_count": null,
      "outputs": [
        {
          "output_type": "execute_result",
          "data": {
            "text/plain": [
              "array([0.04921569, 0.11186466, 0.16658077, 0.02533861, 0.15092186,\n",
              "       0.20002464, 0.19825164, 0.19052695, 0.19950451, 0.08330242])"
            ]
          },
          "metadata": {},
          "execution_count": 78
        }
      ]
    },
    {
      "cell_type": "code",
      "metadata": {
        "colab": {
          "base_uri": "https://localhost:8080/"
        },
        "id": "LRYVUCn7ieBH",
        "outputId": "c7ce1d6e-7f5f-4f79-e95a-d61cf20e508e"
      },
      "source": [
        "# counting the values\n",
        "df22 = pd.Series(forest.predict(log_stats_matrix))\n",
        "df22 = df22.map({1:0, -1:1})\n",
        "print(df22.value_counts())"
      ],
      "execution_count": null,
      "outputs": [
        {
          "output_type": "stream",
          "name": "stdout",
          "text": [
            "0    207\n",
            "1     23\n",
            "dtype: int64\n"
          ]
        }
      ]
    },
    {
      "cell_type": "code",
      "metadata": {
        "id": "Au2Q3iu114eB"
      },
      "source": [
        "import pickle \n",
        "with open('log_stats_matrix.pkl','wb') as file :\n",
        "  pickle.dump(forest, file)"
      ],
      "execution_count": null,
      "outputs": []
    },
    {
      "cell_type": "code",
      "metadata": {
        "colab": {
          "base_uri": "https://localhost:8080/"
        },
        "id": "kAUP6ou1n9kp",
        "outputId": "c8a95dac-d030-46e3-8af5-f82311ad887e"
      },
      "source": [
        "df_user_log_result = pd.DataFrame()\n",
        "df_user_log_result['user'] = df_user_logoff_stats_sec['user']\n",
        "df_user_log_result['ascore'] = log_ascore\n",
        "print(df_user_log_result)\n"
      ],
      "execution_count": null,
      "outputs": [
        {
          "output_type": "stream",
          "name": "stdout",
          "text": [
            "        user    ascore\n",
            "0    AAN0077  0.049216\n",
            "1    AAW0103  0.111865\n",
            "2    ACE0265  0.166581\n",
            "3    ACL0394  0.025339\n",
            "4    ADR0362  0.150922\n",
            "..       ...       ...\n",
            "225  XTM0246  0.085656\n",
            "226  YJT0368  0.040094\n",
            "227  YSB0779  0.198252\n",
            "228  ZBL0379  0.113442\n",
            "229  ZIF0269  0.097683\n",
            "\n",
            "[230 rows x 2 columns]\n"
          ]
        }
      ]
    },
    {
      "cell_type": "code",
      "metadata": {
        "colab": {
          "base_uri": "https://localhost:8080/",
          "height": 743
        },
        "id": "Z6JSUpMjoPrm",
        "outputId": "bb328657-8489-4b02-c0f3-516efac5e587"
      },
      "source": [
        "df_user_log_result.loc[df_user_log_result['ascore'] < 0]"
      ],
      "execution_count": null,
      "outputs": [
        {
          "output_type": "execute_result",
          "data": {
            "text/html": [
              "<div>\n",
              "<style scoped>\n",
              "    .dataframe tbody tr th:only-of-type {\n",
              "        vertical-align: middle;\n",
              "    }\n",
              "\n",
              "    .dataframe tbody tr th {\n",
              "        vertical-align: top;\n",
              "    }\n",
              "\n",
              "    .dataframe thead th {\n",
              "        text-align: right;\n",
              "    }\n",
              "</style>\n",
              "<table border=\"1\" class=\"dataframe\">\n",
              "  <thead>\n",
              "    <tr style=\"text-align: right;\">\n",
              "      <th></th>\n",
              "      <th>user</th>\n",
              "      <th>ascore</th>\n",
              "    </tr>\n",
              "  </thead>\n",
              "  <tbody>\n",
              "    <tr>\n",
              "      <th>14</th>\n",
              "      <td>AMR0656</td>\n",
              "      <td>-0.006770</td>\n",
              "    </tr>\n",
              "    <tr>\n",
              "      <th>29</th>\n",
              "      <td>BKA0340</td>\n",
              "      <td>-0.023313</td>\n",
              "    </tr>\n",
              "    <tr>\n",
              "      <th>31</th>\n",
              "      <td>BMS0057</td>\n",
              "      <td>-0.011798</td>\n",
              "    </tr>\n",
              "    <tr>\n",
              "      <th>43</th>\n",
              "      <td>BZV0067</td>\n",
              "      <td>-0.009860</td>\n",
              "    </tr>\n",
              "    <tr>\n",
              "      <th>56</th>\n",
              "      <td>CQS0899</td>\n",
              "      <td>-0.118650</td>\n",
              "    </tr>\n",
              "    <tr>\n",
              "      <th>65</th>\n",
              "      <td>DJS0406</td>\n",
              "      <td>-0.013355</td>\n",
              "    </tr>\n",
              "    <tr>\n",
              "      <th>73</th>\n",
              "      <td>EER0383</td>\n",
              "      <td>-0.014457</td>\n",
              "    </tr>\n",
              "    <tr>\n",
              "      <th>77</th>\n",
              "      <td>FED0275</td>\n",
              "      <td>-0.100801</td>\n",
              "    </tr>\n",
              "    <tr>\n",
              "      <th>83</th>\n",
              "      <td>GFM0250</td>\n",
              "      <td>-0.038631</td>\n",
              "    </tr>\n",
              "    <tr>\n",
              "      <th>86</th>\n",
              "      <td>GJP0098</td>\n",
              "      <td>-0.021151</td>\n",
              "    </tr>\n",
              "    <tr>\n",
              "      <th>95</th>\n",
              "      <td>HML0060</td>\n",
              "      <td>-0.035333</td>\n",
              "    </tr>\n",
              "    <tr>\n",
              "      <th>108</th>\n",
              "      <td>JDD0087</td>\n",
              "      <td>-0.000137</td>\n",
              "    </tr>\n",
              "    <tr>\n",
              "      <th>144</th>\n",
              "      <td>LQD0409</td>\n",
              "      <td>-0.030772</td>\n",
              "    </tr>\n",
              "    <tr>\n",
              "      <th>145</th>\n",
              "      <td>LTB0107</td>\n",
              "      <td>-0.039060</td>\n",
              "    </tr>\n",
              "    <tr>\n",
              "      <th>147</th>\n",
              "      <td>LWB0078</td>\n",
              "      <td>-0.034246</td>\n",
              "    </tr>\n",
              "    <tr>\n",
              "      <th>165</th>\n",
              "      <td>NST0254</td>\n",
              "      <td>-0.012268</td>\n",
              "    </tr>\n",
              "    <tr>\n",
              "      <th>178</th>\n",
              "      <td>RAW0533</td>\n",
              "      <td>-0.071614</td>\n",
              "    </tr>\n",
              "    <tr>\n",
              "      <th>180</th>\n",
              "      <td>RCG0105</td>\n",
              "      <td>-0.040896</td>\n",
              "    </tr>\n",
              "    <tr>\n",
              "      <th>201</th>\n",
              "      <td>TBD0276</td>\n",
              "      <td>-0.014412</td>\n",
              "    </tr>\n",
              "    <tr>\n",
              "      <th>210</th>\n",
              "      <td>UMA0072</td>\n",
              "      <td>-0.002815</td>\n",
              "    </tr>\n",
              "    <tr>\n",
              "      <th>214</th>\n",
              "      <td>VLB0069</td>\n",
              "      <td>-0.048681</td>\n",
              "    </tr>\n",
              "    <tr>\n",
              "      <th>220</th>\n",
              "      <td>WMP0272</td>\n",
              "      <td>-0.003845</td>\n",
              "    </tr>\n",
              "    <tr>\n",
              "      <th>223</th>\n",
              "      <td>XCR0407</td>\n",
              "      <td>-0.003527</td>\n",
              "    </tr>\n",
              "  </tbody>\n",
              "</table>\n",
              "</div>"
            ],
            "text/plain": [
              "        user    ascore\n",
              "14   AMR0656 -0.006770\n",
              "29   BKA0340 -0.023313\n",
              "31   BMS0057 -0.011798\n",
              "43   BZV0067 -0.009860\n",
              "56   CQS0899 -0.118650\n",
              "65   DJS0406 -0.013355\n",
              "73   EER0383 -0.014457\n",
              "77   FED0275 -0.100801\n",
              "83   GFM0250 -0.038631\n",
              "86   GJP0098 -0.021151\n",
              "95   HML0060 -0.035333\n",
              "108  JDD0087 -0.000137\n",
              "144  LQD0409 -0.030772\n",
              "145  LTB0107 -0.039060\n",
              "147  LWB0078 -0.034246\n",
              "165  NST0254 -0.012268\n",
              "178  RAW0533 -0.071614\n",
              "180  RCG0105 -0.040896\n",
              "201  TBD0276 -0.014412\n",
              "210  UMA0072 -0.002815\n",
              "214  VLB0069 -0.048681\n",
              "220  WMP0272 -0.003845\n",
              "223  XCR0407 -0.003527"
            ]
          },
          "metadata": {},
          "execution_count": 82
        }
      ]
    },
    {
      "cell_type": "code",
      "metadata": {
        "id": "E1HKkFzzoWx3"
      },
      "source": [
        "df_device_conn_stats_sec = df_device_conn_stats\n",
        "con_min_ts = [dtt2timestamp(dtt) for dtt in df_device_conn_stats_sec['min']]\n",
        "con_max_ts = [dtt2timestamp(dtt) for dtt in df_device_conn_stats_sec['max']]\n",
        "con_mode_ts = [dtt2timestamp(dtt) for dtt in df_device_conn_stats_sec['mode']]\n",
        "con_mean_ts = [dtt2timestamp(dtt) for dtt in df_device_conn_stats_sec['mean']]\n",
        "\n",
        "df_device_conn_stats_sec['min_ts'] = con_min_ts\n",
        "df_device_conn_stats_sec['max_ts'] = con_max_ts\n",
        "df_device_conn_stats_sec['mode_ts'] = con_mode_ts\n",
        "df_device_conn_stats_sec['mean_ts'] = con_mean_ts\n",
        "df_device_conn_stats_sec = df_device_conn_stats_sec.drop(['min', 'max','mode','mean'], axis=1)"
      ],
      "execution_count": null,
      "outputs": []
    },
    {
      "cell_type": "code",
      "metadata": {
        "id": "uOwtUMGUoxv8"
      },
      "source": [
        "df_device_disconn_stats_sec = df_device_conn_stats\n",
        "discon_min_ts = [dtt2timestamp(dtt) for dtt in df_device_disconn_stats_sec['min']]\n",
        "discon_max_ts = [dtt2timestamp(dtt) for dtt in df_device_disconn_stats_sec['max']]\n",
        "discon_mode_ts = [dtt2timestamp(dtt) for dtt in df_device_disconn_stats_sec['mode']]\n",
        "discon_mean_ts = [dtt2timestamp(dtt) for dtt in df_device_disconn_stats_sec['mean']]\n",
        "\n",
        "df_device_disconn_stats_sec['min_ts'] = discon_min_ts\n",
        "df_device_disconn_stats_sec['max_ts'] = discon_max_ts\n",
        "df_device_disconn_stats_sec['mode_ts'] = discon_mode_ts\n",
        "df_device_disconn_stats_sec['mean_ts'] = discon_mean_ts\n",
        "df_device_disconn_stats_sec = df_device_disconn_stats_sec.drop(['min', 'max','mode','mean'], axis=1)\n"
      ],
      "execution_count": null,
      "outputs": []
    },
    {
      "cell_type": "code",
      "metadata": {
        "id": "Wen5i_JcpJIu"
      },
      "source": [
        "df_device_full = pd.DataFrame()\n",
        "df_device_full['user'] = df_device_conn_stats['user']"
      ],
      "execution_count": null,
      "outputs": []
    },
    {
      "cell_type": "code",
      "metadata": {
        "id": "akDuC76Lp31p"
      },
      "source": [
        "df_device_full['con_min_ts'] = df_device_conn_stats_sec['min_ts']\n",
        "df_device_full['con_max_ts'] = df_device_conn_stats_sec['max_ts']\n",
        "df_device_full['con_mode_ts'] = df_device_conn_stats_sec['mode_ts']\n",
        "df_device_full['con_mean_ts'] = df_device_conn_stats_sec['mean_ts']\n",
        "\n",
        "# disconnect stats\n",
        "df_device_full['dcon_min_ts'] = df_device_disconn_stats_sec['min_ts']\n",
        "df_device_full['dcon_max_ts'] = df_device_disconn_stats_sec['max_ts']\n",
        "df_device_full['dcon_mode_ts'] = df_device_disconn_stats_sec['mode_ts']\n",
        "df_device_full['dcon_mean_ts'] = df_device_disconn_stats_sec['mean_ts']\n",
        "\n",
        "# files per day stats\n",
        "df_device_full['file_mode'] = df_files_stats_new['mode_trasfers_per_user']\n",
        "df_device_full['file_max'] = df_files_stats_new['max_transfers_per_user']"
      ],
      "execution_count": null,
      "outputs": []
    },
    {
      "cell_type": "code",
      "metadata": {
        "colab": {
          "base_uri": "https://localhost:8080/"
        },
        "id": "LOWe3yHQqOKB",
        "outputId": "6efb5d7c-8eb4-4033-b108-9a25cdc8a178"
      },
      "source": [
        "device_full_matrix = df_device_full.drop(['user'],axis=1)\n",
        "device_params = np.matrix(device_full_matrix)\n",
        "device_params[:10]"
      ],
      "execution_count": null,
      "outputs": [
        {
          "output_type": "execute_result",
          "data": {
            "text/plain": [
              "matrix([[30401, 68694, 51577, 43200, 30401, 68694, 51577, 43200,   486,\n",
              "           486],\n",
              "        [27100, 56918, 44725, 36000, 27100, 56918, 44725, 36000,    90,\n",
              "           252],\n",
              "        [27693, 55895, 29934, 36000, 27693, 55895, 29934, 36000,    30,\n",
              "            72],\n",
              "        [27756, 59689, 50168, 39600, 27756, 59689, 50168, 39600,    36,\n",
              "           144],\n",
              "        [ 4870, 84764, 56477, 39600,  4870, 84764, 56477, 39600,    72,\n",
              "           198],\n",
              "        [33007, 61926, 35672, 39600, 33007, 61926, 35672, 39600,    72,\n",
              "           234],\n",
              "        [ 1185, 76882, 34017, 43200,  1185, 76882, 34017, 43200,    36,\n",
              "           234],\n",
              "        [28882, 59022, 45455, 39600, 28882, 59022, 45455, 39600,   486,\n",
              "           486],\n",
              "        [16018, 83814, 30010, 39600, 16018, 83814, 30010, 39600,    36,\n",
              "           198],\n",
              "        [29154, 57723, 45511, 39600, 29154, 57723, 45511, 39600,    18,\n",
              "           198]])"
            ]
          },
          "metadata": {},
          "execution_count": 87
        }
      ]
    },
    {
      "cell_type": "code",
      "metadata": {
        "colab": {
          "base_uri": "https://localhost:8080/"
        },
        "id": "AQ6-N2pIK4ku",
        "outputId": "9b1c9c2c-3faa-4c70-8b6e-df5a6407c605"
      },
      "source": [
        "df_device_full.columns"
      ],
      "execution_count": null,
      "outputs": [
        {
          "output_type": "execute_result",
          "data": {
            "text/plain": [
              "Index(['user', 'con_min_ts', 'con_max_ts', 'con_mode_ts', 'con_mean_ts',\n",
              "       'dcon_min_ts', 'dcon_max_ts', 'dcon_mode_ts', 'dcon_mean_ts',\n",
              "       'file_mode', 'file_max'],\n",
              "      dtype='object')"
            ]
          },
          "metadata": {},
          "execution_count": 88
        }
      ]
    },
    {
      "cell_type": "code",
      "metadata": {
        "colab": {
          "base_uri": "https://localhost:8080/"
        },
        "id": "4HjCKrgbsUbu",
        "outputId": "6ca9a128-40e3-47bd-9d0f-019eb4a5e212"
      },
      "source": [
        "# device (-user)\n",
        "forest = IsolationForest(bootstrap=False, contamination=0.1, max_features=1.0,\n",
        "        max_samples='auto', n_estimators=100, n_jobs=1, random_state=None,\n",
        "        verbose=0)\n",
        "forest.fit(device_params)\n"
      ],
      "execution_count": null,
      "outputs": [
        {
          "output_type": "execute_result",
          "data": {
            "text/plain": [
              "IsolationForest(behaviour='deprecated', bootstrap=False, contamination=0.1,\n",
              "                max_features=1.0, max_samples='auto', n_estimators=100,\n",
              "                n_jobs=1, random_state=None, verbose=0, warm_start=False)"
            ]
          },
          "metadata": {},
          "execution_count": 89
        }
      ]
    },
    {
      "cell_type": "code",
      "metadata": {
        "id": "S6r3RY3a2Ae5"
      },
      "source": [
        "import pickle \n",
        "with open('device_params.pkl','wb') as file :\n",
        "  pickle.dump(forest, file)"
      ],
      "execution_count": null,
      "outputs": []
    },
    {
      "cell_type": "code",
      "metadata": {
        "colab": {
          "base_uri": "https://localhost:8080/"
        },
        "id": "YtlBxG8BtL3r",
        "outputId": "72c3b032-aaba-4cb4-c5ce-72ad7d1db73b"
      },
      "source": [
        "\n",
        "dev_file_ascore = forest.decision_function(device_params)\n",
        "print(dev_file_ascore)"
      ],
      "execution_count": null,
      "outputs": [
        {
          "output_type": "stream",
          "name": "stdout",
          "text": [
            "[ 0.02673123  0.10980254  0.01268584  0.13681151  0.00529513  0.10641493\n",
            " -0.03759447  0.11604134  0.02611081  0.13349316  0.10056817  0.11813033\n",
            " -0.07397283  0.13753013  0.09210589  0.02397751  0.05314191  0.08734098\n",
            "  0.11873575  0.13156404  0.10025925  0.09169139  0.11229966  0.10463195\n",
            "  0.08911698  0.13347208  0.10914855  0.13715697  0.15823379  0.01850776\n",
            "  0.0394023   0.05791709  0.03726523  0.11716326  0.06257074  0.03542374\n",
            "  0.0833494  -0.05817048  0.09519608  0.02285759 -0.05184364  0.07485204\n",
            "  0.13063189  0.12246247  0.10744678  0.06599504 -0.00794269]\n"
          ]
        }
      ]
    },
    {
      "cell_type": "code",
      "metadata": {
        "colab": {
          "base_uri": "https://localhost:8080/",
          "height": 1000
        },
        "id": "ByDJGFjbtmGc",
        "outputId": "6d762a19-6ca7-4ed2-f556-be4068b35e7a"
      },
      "source": [
        "df_device_file_full_result = pd.DataFrame()\n",
        "\n",
        "df_device_file_full_result['user'] = df_device_full['user']\n",
        "df_device_file_full_result['ascore'] = dev_file_ascore\n",
        "df_device_file_full_result"
      ],
      "execution_count": null,
      "outputs": [
        {
          "output_type": "execute_result",
          "data": {
            "text/html": [
              "<div>\n",
              "<style scoped>\n",
              "    .dataframe tbody tr th:only-of-type {\n",
              "        vertical-align: middle;\n",
              "    }\n",
              "\n",
              "    .dataframe tbody tr th {\n",
              "        vertical-align: top;\n",
              "    }\n",
              "\n",
              "    .dataframe thead th {\n",
              "        text-align: right;\n",
              "    }\n",
              "</style>\n",
              "<table border=\"1\" class=\"dataframe\">\n",
              "  <thead>\n",
              "    <tr style=\"text-align: right;\">\n",
              "      <th></th>\n",
              "      <th>user</th>\n",
              "      <th>ascore</th>\n",
              "    </tr>\n",
              "  </thead>\n",
              "  <tbody>\n",
              "    <tr>\n",
              "      <th>0</th>\n",
              "      <td>AJQ0376</td>\n",
              "      <td>0.026731</td>\n",
              "    </tr>\n",
              "    <tr>\n",
              "      <th>1</th>\n",
              "      <td>AJR0231</td>\n",
              "      <td>0.109803</td>\n",
              "    </tr>\n",
              "    <tr>\n",
              "      <th>2</th>\n",
              "      <td>AOD0066</td>\n",
              "      <td>0.012686</td>\n",
              "    </tr>\n",
              "    <tr>\n",
              "      <th>3</th>\n",
              "      <td>ARH0777</td>\n",
              "      <td>0.136812</td>\n",
              "    </tr>\n",
              "    <tr>\n",
              "      <th>4</th>\n",
              "      <td>BCP0247</td>\n",
              "      <td>0.005295</td>\n",
              "    </tr>\n",
              "    <tr>\n",
              "      <th>5</th>\n",
              "      <td>BDS0396</td>\n",
              "      <td>0.106415</td>\n",
              "    </tr>\n",
              "    <tr>\n",
              "      <th>6</th>\n",
              "      <td>BMS0057</td>\n",
              "      <td>-0.037594</td>\n",
              "    </tr>\n",
              "    <tr>\n",
              "      <th>7</th>\n",
              "      <td>BZK0095</td>\n",
              "      <td>0.116041</td>\n",
              "    </tr>\n",
              "    <tr>\n",
              "      <th>8</th>\n",
              "      <td>CAE0080</td>\n",
              "      <td>0.026111</td>\n",
              "    </tr>\n",
              "    <tr>\n",
              "      <th>9</th>\n",
              "      <td>CGH0088</td>\n",
              "      <td>0.133493</td>\n",
              "    </tr>\n",
              "    <tr>\n",
              "      <th>10</th>\n",
              "      <td>CJG0059</td>\n",
              "      <td>0.100568</td>\n",
              "    </tr>\n",
              "    <tr>\n",
              "      <th>11</th>\n",
              "      <td>CJV0236</td>\n",
              "      <td>0.118130</td>\n",
              "    </tr>\n",
              "    <tr>\n",
              "      <th>12</th>\n",
              "      <td>CSD0242</td>\n",
              "      <td>-0.073973</td>\n",
              "    </tr>\n",
              "    <tr>\n",
              "      <th>13</th>\n",
              "      <td>DWC0525</td>\n",
              "      <td>0.137530</td>\n",
              "    </tr>\n",
              "    <tr>\n",
              "      <th>14</th>\n",
              "      <td>FED0275</td>\n",
              "      <td>0.092106</td>\n",
              "    </tr>\n",
              "    <tr>\n",
              "      <th>15</th>\n",
              "      <td>FKF0235</td>\n",
              "      <td>0.023978</td>\n",
              "    </tr>\n",
              "    <tr>\n",
              "      <th>16</th>\n",
              "      <td>GGM0530</td>\n",
              "      <td>0.053142</td>\n",
              "    </tr>\n",
              "    <tr>\n",
              "      <th>17</th>\n",
              "      <td>GJP0098</td>\n",
              "      <td>0.087341</td>\n",
              "    </tr>\n",
              "    <tr>\n",
              "      <th>18</th>\n",
              "      <td>HBB0090</td>\n",
              "      <td>0.118736</td>\n",
              "    </tr>\n",
              "    <tr>\n",
              "      <th>19</th>\n",
              "      <td>HNW0537</td>\n",
              "      <td>0.131564</td>\n",
              "    </tr>\n",
              "    <tr>\n",
              "      <th>20</th>\n",
              "      <td>HOJ0260</td>\n",
              "      <td>0.100259</td>\n",
              "    </tr>\n",
              "    <tr>\n",
              "      <th>21</th>\n",
              "      <td>IAF0403</td>\n",
              "      <td>0.091691</td>\n",
              "    </tr>\n",
              "    <tr>\n",
              "      <th>22</th>\n",
              "      <td>IUM0065</td>\n",
              "      <td>0.112300</td>\n",
              "    </tr>\n",
              "    <tr>\n",
              "      <th>23</th>\n",
              "      <td>JCE0258</td>\n",
              "      <td>0.104632</td>\n",
              "    </tr>\n",
              "    <tr>\n",
              "      <th>24</th>\n",
              "      <td>JDD0087</td>\n",
              "      <td>0.089117</td>\n",
              "    </tr>\n",
              "    <tr>\n",
              "      <th>25</th>\n",
              "      <td>JLI0073</td>\n",
              "      <td>0.133472</td>\n",
              "    </tr>\n",
              "    <tr>\n",
              "      <th>26</th>\n",
              "      <td>JNW0252</td>\n",
              "      <td>0.109149</td>\n",
              "    </tr>\n",
              "    <tr>\n",
              "      <th>27</th>\n",
              "      <td>JTB0079</td>\n",
              "      <td>0.137157</td>\n",
              "    </tr>\n",
              "    <tr>\n",
              "      <th>28</th>\n",
              "      <td>LEF0786</td>\n",
              "      <td>0.158234</td>\n",
              "    </tr>\n",
              "    <tr>\n",
              "      <th>29</th>\n",
              "      <td>LJW0776</td>\n",
              "      <td>0.018508</td>\n",
              "    </tr>\n",
              "    <tr>\n",
              "      <th>30</th>\n",
              "      <td>LTB0107</td>\n",
              "      <td>0.039402</td>\n",
              "    </tr>\n",
              "    <tr>\n",
              "      <th>31</th>\n",
              "      <td>LVL0958</td>\n",
              "      <td>0.057917</td>\n",
              "    </tr>\n",
              "    <tr>\n",
              "      <th>32</th>\n",
              "      <td>LWB0078</td>\n",
              "      <td>0.037265</td>\n",
              "    </tr>\n",
              "    <tr>\n",
              "      <th>33</th>\n",
              "      <td>MJH0083</td>\n",
              "      <td>0.117163</td>\n",
              "    </tr>\n",
              "    <tr>\n",
              "      <th>34</th>\n",
              "      <td>MPM0410</td>\n",
              "      <td>0.062571</td>\n",
              "    </tr>\n",
              "    <tr>\n",
              "      <th>35</th>\n",
              "      <td>MSB0359</td>\n",
              "      <td>0.035424</td>\n",
              "    </tr>\n",
              "    <tr>\n",
              "      <th>36</th>\n",
              "      <td>ORC0907</td>\n",
              "      <td>0.083349</td>\n",
              "    </tr>\n",
              "    <tr>\n",
              "      <th>37</th>\n",
              "      <td>QLC0248</td>\n",
              "      <td>-0.058170</td>\n",
              "    </tr>\n",
              "    <tr>\n",
              "      <th>38</th>\n",
              "      <td>RAW0533</td>\n",
              "      <td>0.095196</td>\n",
              "    </tr>\n",
              "    <tr>\n",
              "      <th>39</th>\n",
              "      <td>REM0274</td>\n",
              "      <td>0.022858</td>\n",
              "    </tr>\n",
              "    <tr>\n",
              "      <th>40</th>\n",
              "      <td>SBM0063</td>\n",
              "      <td>-0.051844</td>\n",
              "    </tr>\n",
              "    <tr>\n",
              "      <th>41</th>\n",
              "      <td>SHR0369</td>\n",
              "      <td>0.074852</td>\n",
              "    </tr>\n",
              "    <tr>\n",
              "      <th>42</th>\n",
              "      <td>TOC0528</td>\n",
              "      <td>0.130632</td>\n",
              "    </tr>\n",
              "    <tr>\n",
              "      <th>43</th>\n",
              "      <td>UMA0072</td>\n",
              "      <td>0.122462</td>\n",
              "    </tr>\n",
              "    <tr>\n",
              "      <th>44</th>\n",
              "      <td>WMP0272</td>\n",
              "      <td>0.107447</td>\n",
              "    </tr>\n",
              "    <tr>\n",
              "      <th>45</th>\n",
              "      <td>WXW0044</td>\n",
              "      <td>0.065995</td>\n",
              "    </tr>\n",
              "    <tr>\n",
              "      <th>46</th>\n",
              "      <td>ZBL0379</td>\n",
              "      <td>-0.007943</td>\n",
              "    </tr>\n",
              "  </tbody>\n",
              "</table>\n",
              "</div>"
            ],
            "text/plain": [
              "       user    ascore\n",
              "0   AJQ0376  0.026731\n",
              "1   AJR0231  0.109803\n",
              "2   AOD0066  0.012686\n",
              "3   ARH0777  0.136812\n",
              "4   BCP0247  0.005295\n",
              "5   BDS0396  0.106415\n",
              "6   BMS0057 -0.037594\n",
              "7   BZK0095  0.116041\n",
              "8   CAE0080  0.026111\n",
              "9   CGH0088  0.133493\n",
              "10  CJG0059  0.100568\n",
              "11  CJV0236  0.118130\n",
              "12  CSD0242 -0.073973\n",
              "13  DWC0525  0.137530\n",
              "14  FED0275  0.092106\n",
              "15  FKF0235  0.023978\n",
              "16  GGM0530  0.053142\n",
              "17  GJP0098  0.087341\n",
              "18  HBB0090  0.118736\n",
              "19  HNW0537  0.131564\n",
              "20  HOJ0260  0.100259\n",
              "21  IAF0403  0.091691\n",
              "22  IUM0065  0.112300\n",
              "23  JCE0258  0.104632\n",
              "24  JDD0087  0.089117\n",
              "25  JLI0073  0.133472\n",
              "26  JNW0252  0.109149\n",
              "27  JTB0079  0.137157\n",
              "28  LEF0786  0.158234\n",
              "29  LJW0776  0.018508\n",
              "30  LTB0107  0.039402\n",
              "31  LVL0958  0.057917\n",
              "32  LWB0078  0.037265\n",
              "33  MJH0083  0.117163\n",
              "34  MPM0410  0.062571\n",
              "35  MSB0359  0.035424\n",
              "36  ORC0907  0.083349\n",
              "37  QLC0248 -0.058170\n",
              "38  RAW0533  0.095196\n",
              "39  REM0274  0.022858\n",
              "40  SBM0063 -0.051844\n",
              "41  SHR0369  0.074852\n",
              "42  TOC0528  0.130632\n",
              "43  UMA0072  0.122462\n",
              "44  WMP0272  0.107447\n",
              "45  WXW0044  0.065995\n",
              "46  ZBL0379 -0.007943"
            ]
          },
          "metadata": {},
          "execution_count": 92
        }
      ]
    },
    {
      "cell_type": "code",
      "metadata": {
        "colab": {
          "base_uri": "https://localhost:8080/",
          "height": 200
        },
        "id": "IznVB2FLtpdo",
        "outputId": "7cbdde21-8f32-4c77-9c29-41d7ca968a9d"
      },
      "source": [
        "df_device_file_full_result.loc[df_device_file_full_result['ascore'] < 0] "
      ],
      "execution_count": null,
      "outputs": [
        {
          "output_type": "execute_result",
          "data": {
            "text/html": [
              "<div>\n",
              "<style scoped>\n",
              "    .dataframe tbody tr th:only-of-type {\n",
              "        vertical-align: middle;\n",
              "    }\n",
              "\n",
              "    .dataframe tbody tr th {\n",
              "        vertical-align: top;\n",
              "    }\n",
              "\n",
              "    .dataframe thead th {\n",
              "        text-align: right;\n",
              "    }\n",
              "</style>\n",
              "<table border=\"1\" class=\"dataframe\">\n",
              "  <thead>\n",
              "    <tr style=\"text-align: right;\">\n",
              "      <th></th>\n",
              "      <th>user</th>\n",
              "      <th>ascore</th>\n",
              "    </tr>\n",
              "  </thead>\n",
              "  <tbody>\n",
              "    <tr>\n",
              "      <th>6</th>\n",
              "      <td>BMS0057</td>\n",
              "      <td>-0.037594</td>\n",
              "    </tr>\n",
              "    <tr>\n",
              "      <th>12</th>\n",
              "      <td>CSD0242</td>\n",
              "      <td>-0.073973</td>\n",
              "    </tr>\n",
              "    <tr>\n",
              "      <th>37</th>\n",
              "      <td>QLC0248</td>\n",
              "      <td>-0.058170</td>\n",
              "    </tr>\n",
              "    <tr>\n",
              "      <th>40</th>\n",
              "      <td>SBM0063</td>\n",
              "      <td>-0.051844</td>\n",
              "    </tr>\n",
              "    <tr>\n",
              "      <th>46</th>\n",
              "      <td>ZBL0379</td>\n",
              "      <td>-0.007943</td>\n",
              "    </tr>\n",
              "  </tbody>\n",
              "</table>\n",
              "</div>"
            ],
            "text/plain": [
              "       user    ascore\n",
              "6   BMS0057 -0.037594\n",
              "12  CSD0242 -0.073973\n",
              "37  QLC0248 -0.058170\n",
              "40  SBM0063 -0.051844\n",
              "46  ZBL0379 -0.007943"
            ]
          },
          "metadata": {},
          "execution_count": 93
        }
      ]
    },
    {
      "cell_type": "code",
      "metadata": {
        "id": "vfjotkq8t4gt"
      },
      "source": [
        "psychometric_matrix = df_psychometric_users_clean.drop(['user_id', 'employee_name'], axis = 1)\n",
        "psychometric_params = np.matrix(psychometric_matrix)"
      ],
      "execution_count": null,
      "outputs": []
    },
    {
      "cell_type": "code",
      "metadata": {
        "colab": {
          "base_uri": "https://localhost:8080/"
        },
        "id": "e64NduNPuEDN",
        "outputId": "4e1fb009-bdb4-4b91-f068-85cfa91370ed"
      },
      "source": [
        "# psycho ds \n",
        "forest = IsolationForest(bootstrap=False, contamination=0.1, max_features=1.0,\n",
        "        max_samples='auto', n_estimators=100, n_jobs=1, random_state=None,\n",
        "        verbose=0)\n",
        "forest.fit(psychometric_params)"
      ],
      "execution_count": null,
      "outputs": [
        {
          "output_type": "execute_result",
          "data": {
            "text/plain": [
              "IsolationForest(behaviour='deprecated', bootstrap=False, contamination=0.1,\n",
              "                max_features=1.0, max_samples='auto', n_estimators=100,\n",
              "                n_jobs=1, random_state=None, verbose=0, warm_start=False)"
            ]
          },
          "metadata": {},
          "execution_count": 95
        }
      ]
    },
    {
      "cell_type": "code",
      "metadata": {
        "id": "5Li2kLwd2KUv"
      },
      "source": [
        "import pickle \n",
        "with open('psychometric_params.pkl','wb') as file :\n",
        "  pickle.dump(forest, file)"
      ],
      "execution_count": null,
      "outputs": []
    },
    {
      "cell_type": "code",
      "metadata": {
        "colab": {
          "base_uri": "https://localhost:8080/"
        },
        "id": "vV6Myef4uNwX",
        "outputId": "f3d590b7-39ec-496f-8f4f-dc01e2fc9c36"
      },
      "source": [
        "psych_ascore = forest.decision_function(psychometric_params)\n",
        "psych_ascore[:10]"
      ],
      "execution_count": null,
      "outputs": [
        {
          "output_type": "execute_result",
          "data": {
            "text/plain": [
              "array([0.04387665, 0.04387665, 0.04387665, 0.04387665, 0.04387665,\n",
              "       0.04387665, 0.04387665, 0.04387665, 0.04387665, 0.04387665])"
            ]
          },
          "metadata": {},
          "execution_count": 97
        }
      ]
    },
    {
      "cell_type": "code",
      "metadata": {
        "colab": {
          "base_uri": "https://localhost:8080/",
          "height": 408
        },
        "id": "OrW7ZuzFuSdk",
        "outputId": "0a283f0b-0729-4fcb-9924-7a42fbba305c"
      },
      "source": [
        "df_psychometric_result = pd.DataFrame()\n",
        "\n",
        "df_psychometric_result['user'] = df_psychometric_users_clean['user_id']\n",
        "df_psychometric_result['ascore'] = psych_ascore\n",
        "df_psychometric_result"
      ],
      "execution_count": null,
      "outputs": [
        {
          "output_type": "execute_result",
          "data": {
            "text/html": [
              "<div>\n",
              "<style scoped>\n",
              "    .dataframe tbody tr th:only-of-type {\n",
              "        vertical-align: middle;\n",
              "    }\n",
              "\n",
              "    .dataframe tbody tr th {\n",
              "        vertical-align: top;\n",
              "    }\n",
              "\n",
              "    .dataframe thead th {\n",
              "        text-align: right;\n",
              "    }\n",
              "</style>\n",
              "<table border=\"1\" class=\"dataframe\">\n",
              "  <thead>\n",
              "    <tr style=\"text-align: right;\">\n",
              "      <th></th>\n",
              "      <th>user</th>\n",
              "      <th>ascore</th>\n",
              "    </tr>\n",
              "  </thead>\n",
              "  <tbody>\n",
              "    <tr>\n",
              "      <th>0</th>\n",
              "      <td>HBB0090</td>\n",
              "      <td>0.043877</td>\n",
              "    </tr>\n",
              "    <tr>\n",
              "      <th>1</th>\n",
              "      <td>HBB0090</td>\n",
              "      <td>0.043877</td>\n",
              "    </tr>\n",
              "    <tr>\n",
              "      <th>2</th>\n",
              "      <td>HBB0090</td>\n",
              "      <td>0.043877</td>\n",
              "    </tr>\n",
              "    <tr>\n",
              "      <th>3</th>\n",
              "      <td>HBB0090</td>\n",
              "      <td>0.043877</td>\n",
              "    </tr>\n",
              "    <tr>\n",
              "      <th>4</th>\n",
              "      <td>HBB0090</td>\n",
              "      <td>0.043877</td>\n",
              "    </tr>\n",
              "    <tr>\n",
              "      <th>...</th>\n",
              "      <td>...</td>\n",
              "      <td>...</td>\n",
              "    </tr>\n",
              "    <tr>\n",
              "      <th>3986</th>\n",
              "      <td>GGK0375</td>\n",
              "      <td>-0.003806</td>\n",
              "    </tr>\n",
              "    <tr>\n",
              "      <th>3987</th>\n",
              "      <td>GGK0375</td>\n",
              "      <td>-0.003806</td>\n",
              "    </tr>\n",
              "    <tr>\n",
              "      <th>3988</th>\n",
              "      <td>GGK0375</td>\n",
              "      <td>-0.003806</td>\n",
              "    </tr>\n",
              "    <tr>\n",
              "      <th>3989</th>\n",
              "      <td>GGK0375</td>\n",
              "      <td>-0.003806</td>\n",
              "    </tr>\n",
              "    <tr>\n",
              "      <th>3990</th>\n",
              "      <td>GGK0375</td>\n",
              "      <td>-0.003806</td>\n",
              "    </tr>\n",
              "  </tbody>\n",
              "</table>\n",
              "<p>3991 rows × 2 columns</p>\n",
              "</div>"
            ],
            "text/plain": [
              "         user    ascore\n",
              "0     HBB0090  0.043877\n",
              "1     HBB0090  0.043877\n",
              "2     HBB0090  0.043877\n",
              "3     HBB0090  0.043877\n",
              "4     HBB0090  0.043877\n",
              "...       ...       ...\n",
              "3986  GGK0375 -0.003806\n",
              "3987  GGK0375 -0.003806\n",
              "3988  GGK0375 -0.003806\n",
              "3989  GGK0375 -0.003806\n",
              "3990  GGK0375 -0.003806\n",
              "\n",
              "[3991 rows x 2 columns]"
            ]
          },
          "metadata": {},
          "execution_count": 98
        }
      ]
    },
    {
      "cell_type": "code",
      "metadata": {
        "colab": {
          "base_uri": "https://localhost:8080/",
          "height": 408
        },
        "id": "rs8lNxnFuV_i",
        "outputId": "c3122980-dbd9-418d-d601-7babb3779b39"
      },
      "source": [
        "df_psychometric_result.loc[df_psychometric_result['ascore'] < 0]"
      ],
      "execution_count": null,
      "outputs": [
        {
          "output_type": "execute_result",
          "data": {
            "text/html": [
              "<div>\n",
              "<style scoped>\n",
              "    .dataframe tbody tr th:only-of-type {\n",
              "        vertical-align: middle;\n",
              "    }\n",
              "\n",
              "    .dataframe tbody tr th {\n",
              "        vertical-align: top;\n",
              "    }\n",
              "\n",
              "    .dataframe thead th {\n",
              "        text-align: right;\n",
              "    }\n",
              "</style>\n",
              "<table border=\"1\" class=\"dataframe\">\n",
              "  <thead>\n",
              "    <tr style=\"text-align: right;\">\n",
              "      <th></th>\n",
              "      <th>user</th>\n",
              "      <th>ascore</th>\n",
              "    </tr>\n",
              "  </thead>\n",
              "  <tbody>\n",
              "    <tr>\n",
              "      <th>552</th>\n",
              "      <td>ACE0265</td>\n",
              "      <td>-0.009214</td>\n",
              "    </tr>\n",
              "    <tr>\n",
              "      <th>553</th>\n",
              "      <td>ACE0265</td>\n",
              "      <td>-0.009214</td>\n",
              "    </tr>\n",
              "    <tr>\n",
              "      <th>554</th>\n",
              "      <td>ACE0265</td>\n",
              "      <td>-0.009214</td>\n",
              "    </tr>\n",
              "    <tr>\n",
              "      <th>555</th>\n",
              "      <td>ACE0265</td>\n",
              "      <td>-0.009214</td>\n",
              "    </tr>\n",
              "    <tr>\n",
              "      <th>556</th>\n",
              "      <td>ACE0265</td>\n",
              "      <td>-0.009214</td>\n",
              "    </tr>\n",
              "    <tr>\n",
              "      <th>...</th>\n",
              "      <td>...</td>\n",
              "      <td>...</td>\n",
              "    </tr>\n",
              "    <tr>\n",
              "      <th>3986</th>\n",
              "      <td>GGK0375</td>\n",
              "      <td>-0.003806</td>\n",
              "    </tr>\n",
              "    <tr>\n",
              "      <th>3987</th>\n",
              "      <td>GGK0375</td>\n",
              "      <td>-0.003806</td>\n",
              "    </tr>\n",
              "    <tr>\n",
              "      <th>3988</th>\n",
              "      <td>GGK0375</td>\n",
              "      <td>-0.003806</td>\n",
              "    </tr>\n",
              "    <tr>\n",
              "      <th>3989</th>\n",
              "      <td>GGK0375</td>\n",
              "      <td>-0.003806</td>\n",
              "    </tr>\n",
              "    <tr>\n",
              "      <th>3990</th>\n",
              "      <td>GGK0375</td>\n",
              "      <td>-0.003806</td>\n",
              "    </tr>\n",
              "  </tbody>\n",
              "</table>\n",
              "<p>382 rows × 2 columns</p>\n",
              "</div>"
            ],
            "text/plain": [
              "         user    ascore\n",
              "552   ACE0265 -0.009214\n",
              "553   ACE0265 -0.009214\n",
              "554   ACE0265 -0.009214\n",
              "555   ACE0265 -0.009214\n",
              "556   ACE0265 -0.009214\n",
              "...       ...       ...\n",
              "3986  GGK0375 -0.003806\n",
              "3987  GGK0375 -0.003806\n",
              "3988  GGK0375 -0.003806\n",
              "3989  GGK0375 -0.003806\n",
              "3990  GGK0375 -0.003806\n",
              "\n",
              "[382 rows x 2 columns]"
            ]
          },
          "metadata": {},
          "execution_count": 99
        }
      ]
    },
    {
      "cell_type": "code",
      "metadata": {
        "id": "HqqEJFHuuesd"
      },
      "source": [
        ""
      ],
      "execution_count": null,
      "outputs": []
    },
    {
      "cell_type": "code",
      "metadata": {
        "id": "sB2xHREhvzMD"
      },
      "source": [
        "df = pd.merge(df_log_on_off_stats, df_user_pc, on='user')"
      ],
      "execution_count": null,
      "outputs": []
    },
    {
      "cell_type": "code",
      "metadata": {
        "id": "7UtfQo7ExJLG"
      },
      "source": [
        ""
      ],
      "execution_count": null,
      "outputs": []
    },
    {
      "cell_type": "code",
      "metadata": {
        "id": "hqA4F16Av_nr"
      },
      "source": [
        "df_1 = pd.merge(df, df_psychometric, left_on = 'user', right_on = 'user_id')"
      ],
      "execution_count": null,
      "outputs": []
    },
    {
      "cell_type": "code",
      "metadata": {
        "colab": {
          "base_uri": "https://localhost:8080/",
          "height": 200
        },
        "id": "MJftGvTbgluF",
        "outputId": "f153aa5e-c1e3-4d2c-97c6-5a341e033711"
      },
      "source": [
        "df_1.head()"
      ],
      "execution_count": null,
      "outputs": [
        {
          "output_type": "execute_result",
          "data": {
            "text/html": [
              "<div>\n",
              "<style scoped>\n",
              "    .dataframe tbody tr th:only-of-type {\n",
              "        vertical-align: middle;\n",
              "    }\n",
              "\n",
              "    .dataframe tbody tr th {\n",
              "        vertical-align: top;\n",
              "    }\n",
              "\n",
              "    .dataframe thead th {\n",
              "        text-align: right;\n",
              "    }\n",
              "</style>\n",
              "<table border=\"1\" class=\"dataframe\">\n",
              "  <thead>\n",
              "    <tr style=\"text-align: right;\">\n",
              "      <th></th>\n",
              "      <th>user</th>\n",
              "      <th>on_min_ts</th>\n",
              "      <th>on_max_ts</th>\n",
              "      <th>on_mode_ts</th>\n",
              "      <th>on_mean_ts</th>\n",
              "      <th>off_min_ts</th>\n",
              "      <th>off_max_ts</th>\n",
              "      <th>off_mode_ts</th>\n",
              "      <th>off_mean_ts</th>\n",
              "      <th>count</th>\n",
              "      <th>employee_name</th>\n",
              "      <th>user_id</th>\n",
              "      <th>O</th>\n",
              "      <th>C</th>\n",
              "      <th>E</th>\n",
              "      <th>A</th>\n",
              "      <th>N</th>\n",
              "    </tr>\n",
              "  </thead>\n",
              "  <tbody>\n",
              "    <tr>\n",
              "      <th>0</th>\n",
              "      <td>AAN0077</td>\n",
              "      <td>27900</td>\n",
              "      <td>29580</td>\n",
              "      <td>29580</td>\n",
              "      <td>25200</td>\n",
              "      <td>27900</td>\n",
              "      <td>29580</td>\n",
              "      <td>29580</td>\n",
              "      <td>25200</td>\n",
              "      <td>1</td>\n",
              "      <td>Allistair Akeem Nichols</td>\n",
              "      <td>AAN0077</td>\n",
              "      <td>42</td>\n",
              "      <td>15</td>\n",
              "      <td>32</td>\n",
              "      <td>22</td>\n",
              "      <td>29</td>\n",
              "    </tr>\n",
              "    <tr>\n",
              "      <th>1</th>\n",
              "      <td>AAW0103</td>\n",
              "      <td>25200</td>\n",
              "      <td>26280</td>\n",
              "      <td>26100</td>\n",
              "      <td>25200</td>\n",
              "      <td>25200</td>\n",
              "      <td>26280</td>\n",
              "      <td>26100</td>\n",
              "      <td>25200</td>\n",
              "      <td>1</td>\n",
              "      <td>Alexa Allegra Walton</td>\n",
              "      <td>AAW0103</td>\n",
              "      <td>39</td>\n",
              "      <td>42</td>\n",
              "      <td>47</td>\n",
              "      <td>39</td>\n",
              "      <td>28</td>\n",
              "    </tr>\n",
              "    <tr>\n",
              "      <th>2</th>\n",
              "      <td>ACE0265</td>\n",
              "      <td>28800</td>\n",
              "      <td>30300</td>\n",
              "      <td>29700</td>\n",
              "      <td>28800</td>\n",
              "      <td>28800</td>\n",
              "      <td>30300</td>\n",
              "      <td>29700</td>\n",
              "      <td>28800</td>\n",
              "      <td>1</td>\n",
              "      <td>Amos Carson Emerson</td>\n",
              "      <td>ACE0265</td>\n",
              "      <td>26</td>\n",
              "      <td>23</td>\n",
              "      <td>14</td>\n",
              "      <td>19</td>\n",
              "      <td>40</td>\n",
              "    </tr>\n",
              "    <tr>\n",
              "      <th>3</th>\n",
              "      <td>ACL0394</td>\n",
              "      <td>32400</td>\n",
              "      <td>60757</td>\n",
              "      <td>33300</td>\n",
              "      <td>32400</td>\n",
              "      <td>32400</td>\n",
              "      <td>60757</td>\n",
              "      <td>33300</td>\n",
              "      <td>32400</td>\n",
              "      <td>2</td>\n",
              "      <td>Adam Clark Lindsey</td>\n",
              "      <td>ACL0394</td>\n",
              "      <td>25</td>\n",
              "      <td>44</td>\n",
              "      <td>18</td>\n",
              "      <td>19</td>\n",
              "      <td>17</td>\n",
              "    </tr>\n",
              "    <tr>\n",
              "      <th>4</th>\n",
              "      <td>ADR0362</td>\n",
              "      <td>27000</td>\n",
              "      <td>28080</td>\n",
              "      <td>28080</td>\n",
              "      <td>25200</td>\n",
              "      <td>27000</td>\n",
              "      <td>28080</td>\n",
              "      <td>28080</td>\n",
              "      <td>25200</td>\n",
              "      <td>1</td>\n",
              "      <td>Amir Damian Rosario</td>\n",
              "      <td>ADR0362</td>\n",
              "      <td>32</td>\n",
              "      <td>42</td>\n",
              "      <td>35</td>\n",
              "      <td>38</td>\n",
              "      <td>26</td>\n",
              "    </tr>\n",
              "  </tbody>\n",
              "</table>\n",
              "</div>"
            ],
            "text/plain": [
              "      user  on_min_ts  on_max_ts  on_mode_ts  on_mean_ts  ...   O   C   E   A   N\n",
              "0  AAN0077      27900      29580       29580       25200  ...  42  15  32  22  29\n",
              "1  AAW0103      25200      26280       26100       25200  ...  39  42  47  39  28\n",
              "2  ACE0265      28800      30300       29700       28800  ...  26  23  14  19  40\n",
              "3  ACL0394      32400      60757       33300       32400  ...  25  44  18  19  17\n",
              "4  ADR0362      27000      28080       28080       25200  ...  32  42  35  38  26\n",
              "\n",
              "[5 rows x 17 columns]"
            ]
          },
          "metadata": {},
          "execution_count": 102
        }
      ]
    },
    {
      "cell_type": "code",
      "metadata": {
        "id": "RBVsYhZByXpG"
      },
      "source": [
        "df_final = df_1.drop(['employee_name', 'user_id'], axis=1)\n"
      ],
      "execution_count": null,
      "outputs": []
    },
    {
      "cell_type": "code",
      "metadata": {
        "id": "TsqN8B6syimi"
      },
      "source": [
        "df_all_parameters = df_final"
      ],
      "execution_count": null,
      "outputs": []
    },
    {
      "cell_type": "code",
      "metadata": {
        "id": "m8EvKveVyntR"
      },
      "source": [
        "df_all_parameters_input = df_all_parameters.drop(['user'], axis = 1)"
      ],
      "execution_count": null,
      "outputs": []
    },
    {
      "cell_type": "code",
      "metadata": {
        "colab": {
          "base_uri": "https://localhost:8080/"
        },
        "id": "rl8DnpY4y_vS",
        "outputId": "958bd428-a841-4efd-eb1a-441dd3f89b05"
      },
      "source": [
        "print(df_all_parameters_input)"
      ],
      "execution_count": null,
      "outputs": [
        {
          "output_type": "stream",
          "name": "stdout",
          "text": [
            "     on_min_ts  on_max_ts  on_mode_ts  on_mean_ts  ...   C   E   A   N\n",
            "0        27900      29580       29580       25200  ...  15  32  22  29\n",
            "1        25200      26280       26100       25200  ...  42  47  39  28\n",
            "2        28800      30300       29700       28800  ...  23  14  19  40\n",
            "3        32400      60757       33300       32400  ...  44  18  19  17\n",
            "4        27000      28080       28080       25200  ...  42  35  38  26\n",
            "..         ...        ...         ...         ...  ...  ..  ..  ..  ..\n",
            "225      27900      29520       29460       25200  ...  18  22  29  34\n",
            "226      27000      68459       27900       25200  ...  35  23  44  35\n",
            "227      27000      28020       27900       25200  ...  46  16  19  40\n",
            "228      29700      52585       30600       36000  ...  15  44  42  28\n",
            "229      25200      26760       26100       25200  ...  20  17  46  26\n",
            "\n",
            "[230 rows x 14 columns]\n"
          ]
        }
      ]
    },
    {
      "cell_type": "code",
      "metadata": {
        "colab": {
          "base_uri": "https://localhost:8080/"
        },
        "id": "tcx7VO2JziIK",
        "outputId": "61bdc3fb-641b-495a-890c-aa6bc44d63e0"
      },
      "source": [
        "# psycho logon ds\n",
        "forest = IsolationForest(bootstrap=False, contamination=0.1, max_features=1.0,\n",
        "        max_samples='auto', n_estimators=100, n_jobs=1, random_state=None,\n",
        "        verbose=0)\n",
        "forest.fit(df_all_parameters_input)"
      ],
      "execution_count": null,
      "outputs": [
        {
          "output_type": "execute_result",
          "data": {
            "text/plain": [
              "IsolationForest(behaviour='deprecated', bootstrap=False, contamination=0.1,\n",
              "                max_features=1.0, max_samples='auto', n_estimators=100,\n",
              "                n_jobs=1, random_state=None, verbose=0, warm_start=False)"
            ]
          },
          "metadata": {},
          "execution_count": 107
        }
      ]
    },
    {
      "cell_type": "code",
      "metadata": {
        "id": "QUVlE_eu2QfD"
      },
      "source": [
        "import pickle \n",
        "with open('all_parameters_input.pkl','wb') as file :\n",
        "  pickle.dump(forest, file)"
      ],
      "execution_count": null,
      "outputs": []
    },
    {
      "cell_type": "code",
      "metadata": {
        "colab": {
          "base_uri": "https://localhost:8080/"
        },
        "id": "P4_ca2dvztK6",
        "outputId": "ee853124-df28-461e-84ad-673d4ac97685"
      },
      "source": [
        "all_parameters_ascore = forest.decision_function(df_all_parameters_input)\n",
        "print(all_parameters_ascore[:10])"
      ],
      "execution_count": null,
      "outputs": [
        {
          "output_type": "stream",
          "name": "stdout",
          "text": [
            "[0.10695907 0.05961483 0.08872965 0.00710645 0.1141035  0.13204424\n",
            " 0.1056402  0.13827625 0.13906855 0.04300524]\n"
          ]
        }
      ]
    },
    {
      "cell_type": "code",
      "metadata": {
        "colab": {
          "base_uri": "https://localhost:8080/"
        },
        "id": "0J2Yg4qNzxeR",
        "outputId": "f968898d-1d82-453e-ce3f-7239dbf7f499"
      },
      "source": [
        "df_all_parameters_result = pd.DataFrame()\n",
        "\n",
        "df_all_parameters_result['user'] = df_final['user']\n",
        "df_all_parameters_result['ascore'] = all_parameters_ascore\n",
        "print(df_all_parameters_result)"
      ],
      "execution_count": null,
      "outputs": [
        {
          "output_type": "stream",
          "name": "stdout",
          "text": [
            "        user    ascore\n",
            "0    AAN0077  0.106959\n",
            "1    AAW0103  0.059615\n",
            "2    ACE0265  0.088730\n",
            "3    ACL0394  0.007106\n",
            "4    ADR0362  0.114103\n",
            "..       ...       ...\n",
            "225  XTM0246  0.069422\n",
            "226  YJT0368  0.027414\n",
            "227  YSB0779  0.101592\n",
            "228  ZBL0379  0.055533\n",
            "229  ZIF0269  0.049107\n",
            "\n",
            "[230 rows x 2 columns]\n"
          ]
        }
      ]
    },
    {
      "cell_type": "code",
      "metadata": {
        "colab": {
          "base_uri": "https://localhost:8080/",
          "height": 743
        },
        "id": "ovb2P5dLz5IJ",
        "outputId": "4975c0b2-8096-418b-c782-f17e15797f9f"
      },
      "source": [
        "df_all_parameters_result.loc[df_all_parameters_result['ascore'] < 0]"
      ],
      "execution_count": null,
      "outputs": [
        {
          "output_type": "execute_result",
          "data": {
            "text/html": [
              "<div>\n",
              "<style scoped>\n",
              "    .dataframe tbody tr th:only-of-type {\n",
              "        vertical-align: middle;\n",
              "    }\n",
              "\n",
              "    .dataframe tbody tr th {\n",
              "        vertical-align: top;\n",
              "    }\n",
              "\n",
              "    .dataframe thead th {\n",
              "        text-align: right;\n",
              "    }\n",
              "</style>\n",
              "<table border=\"1\" class=\"dataframe\">\n",
              "  <thead>\n",
              "    <tr style=\"text-align: right;\">\n",
              "      <th></th>\n",
              "      <th>user</th>\n",
              "      <th>ascore</th>\n",
              "    </tr>\n",
              "  </thead>\n",
              "  <tbody>\n",
              "    <tr>\n",
              "      <th>13</th>\n",
              "      <td>ALC0100</td>\n",
              "      <td>-0.060349</td>\n",
              "    </tr>\n",
              "    <tr>\n",
              "      <th>31</th>\n",
              "      <td>BMS0057</td>\n",
              "      <td>-0.024154</td>\n",
              "    </tr>\n",
              "    <tr>\n",
              "      <th>56</th>\n",
              "      <td>CQS0899</td>\n",
              "      <td>-0.098143</td>\n",
              "    </tr>\n",
              "    <tr>\n",
              "      <th>65</th>\n",
              "      <td>DJS0406</td>\n",
              "      <td>-0.004723</td>\n",
              "    </tr>\n",
              "    <tr>\n",
              "      <th>66</th>\n",
              "      <td>DNS0397</td>\n",
              "      <td>-0.008681</td>\n",
              "    </tr>\n",
              "    <tr>\n",
              "      <th>69</th>\n",
              "      <td>DYB0399</td>\n",
              "      <td>-0.024801</td>\n",
              "    </tr>\n",
              "    <tr>\n",
              "      <th>73</th>\n",
              "      <td>EER0383</td>\n",
              "      <td>-0.047381</td>\n",
              "    </tr>\n",
              "    <tr>\n",
              "      <th>77</th>\n",
              "      <td>FED0275</td>\n",
              "      <td>-0.118413</td>\n",
              "    </tr>\n",
              "    <tr>\n",
              "      <th>83</th>\n",
              "      <td>GFM0250</td>\n",
              "      <td>-0.059110</td>\n",
              "    </tr>\n",
              "    <tr>\n",
              "      <th>95</th>\n",
              "      <td>HML0060</td>\n",
              "      <td>-0.048392</td>\n",
              "    </tr>\n",
              "    <tr>\n",
              "      <th>99</th>\n",
              "      <td>HPL0787</td>\n",
              "      <td>-0.035855</td>\n",
              "    </tr>\n",
              "    <tr>\n",
              "      <th>140</th>\n",
              "      <td>LJW0776</td>\n",
              "      <td>-0.060729</td>\n",
              "    </tr>\n",
              "    <tr>\n",
              "      <th>144</th>\n",
              "      <td>LQD0409</td>\n",
              "      <td>-0.001030</td>\n",
              "    </tr>\n",
              "    <tr>\n",
              "      <th>147</th>\n",
              "      <td>LWB0078</td>\n",
              "      <td>-0.101970</td>\n",
              "    </tr>\n",
              "    <tr>\n",
              "      <th>157</th>\n",
              "      <td>MPM0410</td>\n",
              "      <td>-0.002335</td>\n",
              "    </tr>\n",
              "    <tr>\n",
              "      <th>160</th>\n",
              "      <td>MSB0359</td>\n",
              "      <td>-0.010400</td>\n",
              "    </tr>\n",
              "    <tr>\n",
              "      <th>172</th>\n",
              "      <td>PYT0264</td>\n",
              "      <td>-0.002610</td>\n",
              "    </tr>\n",
              "    <tr>\n",
              "      <th>178</th>\n",
              "      <td>RAW0533</td>\n",
              "      <td>-0.066473</td>\n",
              "    </tr>\n",
              "    <tr>\n",
              "      <th>191</th>\n",
              "      <td>SBM0063</td>\n",
              "      <td>-0.001121</td>\n",
              "    </tr>\n",
              "    <tr>\n",
              "      <th>194</th>\n",
              "      <td>SHR0369</td>\n",
              "      <td>-0.007463</td>\n",
              "    </tr>\n",
              "    <tr>\n",
              "      <th>214</th>\n",
              "      <td>VLB0069</td>\n",
              "      <td>-0.048929</td>\n",
              "    </tr>\n",
              "    <tr>\n",
              "      <th>219</th>\n",
              "      <td>WJP0386</td>\n",
              "      <td>-0.002143</td>\n",
              "    </tr>\n",
              "    <tr>\n",
              "      <th>220</th>\n",
              "      <td>WMP0272</td>\n",
              "      <td>-0.032791</td>\n",
              "    </tr>\n",
              "  </tbody>\n",
              "</table>\n",
              "</div>"
            ],
            "text/plain": [
              "        user    ascore\n",
              "13   ALC0100 -0.060349\n",
              "31   BMS0057 -0.024154\n",
              "56   CQS0899 -0.098143\n",
              "65   DJS0406 -0.004723\n",
              "66   DNS0397 -0.008681\n",
              "69   DYB0399 -0.024801\n",
              "73   EER0383 -0.047381\n",
              "77   FED0275 -0.118413\n",
              "83   GFM0250 -0.059110\n",
              "95   HML0060 -0.048392\n",
              "99   HPL0787 -0.035855\n",
              "140  LJW0776 -0.060729\n",
              "144  LQD0409 -0.001030\n",
              "147  LWB0078 -0.101970\n",
              "157  MPM0410 -0.002335\n",
              "160  MSB0359 -0.010400\n",
              "172  PYT0264 -0.002610\n",
              "178  RAW0533 -0.066473\n",
              "191  SBM0063 -0.001121\n",
              "194  SHR0369 -0.007463\n",
              "214  VLB0069 -0.048929\n",
              "219  WJP0386 -0.002143\n",
              "220  WMP0272 -0.032791"
            ]
          },
          "metadata": {},
          "execution_count": 111
        }
      ]
    },
    {
      "cell_type": "code",
      "metadata": {
        "id": "fRy5d3t9z-FS"
      },
      "source": [
        ""
      ],
      "execution_count": null,
      "outputs": []
    },
    {
      "cell_type": "code",
      "metadata": {
        "colab": {
          "base_uri": "https://localhost:8080/",
          "height": 200
        },
        "id": "C8KEbM8nzgPi",
        "outputId": "27cd8f11-1f1f-47f4-ce19-e8a8727bc6e2"
      },
      "source": [
        "df_user_log_result.head()"
      ],
      "execution_count": null,
      "outputs": [
        {
          "output_type": "execute_result",
          "data": {
            "text/html": [
              "<div>\n",
              "<style scoped>\n",
              "    .dataframe tbody tr th:only-of-type {\n",
              "        vertical-align: middle;\n",
              "    }\n",
              "\n",
              "    .dataframe tbody tr th {\n",
              "        vertical-align: top;\n",
              "    }\n",
              "\n",
              "    .dataframe thead th {\n",
              "        text-align: right;\n",
              "    }\n",
              "</style>\n",
              "<table border=\"1\" class=\"dataframe\">\n",
              "  <thead>\n",
              "    <tr style=\"text-align: right;\">\n",
              "      <th></th>\n",
              "      <th>user</th>\n",
              "      <th>ascore</th>\n",
              "    </tr>\n",
              "  </thead>\n",
              "  <tbody>\n",
              "    <tr>\n",
              "      <th>0</th>\n",
              "      <td>AAN0077</td>\n",
              "      <td>0.049216</td>\n",
              "    </tr>\n",
              "    <tr>\n",
              "      <th>1</th>\n",
              "      <td>AAW0103</td>\n",
              "      <td>0.111865</td>\n",
              "    </tr>\n",
              "    <tr>\n",
              "      <th>2</th>\n",
              "      <td>ACE0265</td>\n",
              "      <td>0.166581</td>\n",
              "    </tr>\n",
              "    <tr>\n",
              "      <th>3</th>\n",
              "      <td>ACL0394</td>\n",
              "      <td>0.025339</td>\n",
              "    </tr>\n",
              "    <tr>\n",
              "      <th>4</th>\n",
              "      <td>ADR0362</td>\n",
              "      <td>0.150922</td>\n",
              "    </tr>\n",
              "  </tbody>\n",
              "</table>\n",
              "</div>"
            ],
            "text/plain": [
              "      user    ascore\n",
              "0  AAN0077  0.049216\n",
              "1  AAW0103  0.111865\n",
              "2  ACE0265  0.166581\n",
              "3  ACL0394  0.025339\n",
              "4  ADR0362  0.150922"
            ]
          },
          "metadata": {},
          "execution_count": 112
        }
      ]
    },
    {
      "cell_type": "code",
      "metadata": {
        "colab": {
          "base_uri": "https://localhost:8080/",
          "height": 313
        },
        "id": "8VPYuMd0uvwm",
        "outputId": "3fd44007-f771-47f1-97a4-c287d332129b"
      },
      "source": [
        "df_user_log_result.hist()"
      ],
      "execution_count": null,
      "outputs": [
        {
          "output_type": "execute_result",
          "data": {
            "text/plain": [
              "array([[<matplotlib.axes._subplots.AxesSubplot object at 0x7fe2276a4c10>]],\n",
              "      dtype=object)"
            ]
          },
          "metadata": {},
          "execution_count": 113
        },
        {
          "output_type": "display_data",
          "data": {
            "image/png": "[encoded data removed]",
            "text/plain": [
              "<Figure size 432x288 with 1 Axes>"
            ]
          },
          "metadata": {
            "needs_background": "light"
          }
        }
      ]
    },
    {
      "cell_type": "code",
      "metadata": {
        "colab": {
          "base_uri": "https://localhost:8080/",
          "height": 200
        },
        "id": "M9aZLrErHAah",
        "outputId": "3144a713-29f1-48d5-c021-a9ae14e9289f"
      },
      "source": [
        "df_device_file_full_result.head()"
      ],
      "execution_count": null,
      "outputs": [
        {
          "output_type": "execute_result",
          "data": {
            "text/html": [
              "<div>\n",
              "<style scoped>\n",
              "    .dataframe tbody tr th:only-of-type {\n",
              "        vertical-align: middle;\n",
              "    }\n",
              "\n",
              "    .dataframe tbody tr th {\n",
              "        vertical-align: top;\n",
              "    }\n",
              "\n",
              "    .dataframe thead th {\n",
              "        text-align: right;\n",
              "    }\n",
              "</style>\n",
              "<table border=\"1\" class=\"dataframe\">\n",
              "  <thead>\n",
              "    <tr style=\"text-align: right;\">\n",
              "      <th></th>\n",
              "      <th>user</th>\n",
              "      <th>ascore</th>\n",
              "    </tr>\n",
              "  </thead>\n",
              "  <tbody>\n",
              "    <tr>\n",
              "      <th>0</th>\n",
              "      <td>AJQ0376</td>\n",
              "      <td>0.026731</td>\n",
              "    </tr>\n",
              "    <tr>\n",
              "      <th>1</th>\n",
              "      <td>AJR0231</td>\n",
              "      <td>0.109803</td>\n",
              "    </tr>\n",
              "    <tr>\n",
              "      <th>2</th>\n",
              "      <td>AOD0066</td>\n",
              "      <td>0.012686</td>\n",
              "    </tr>\n",
              "    <tr>\n",
              "      <th>3</th>\n",
              "      <td>ARH0777</td>\n",
              "      <td>0.136812</td>\n",
              "    </tr>\n",
              "    <tr>\n",
              "      <th>4</th>\n",
              "      <td>BCP0247</td>\n",
              "      <td>0.005295</td>\n",
              "    </tr>\n",
              "  </tbody>\n",
              "</table>\n",
              "</div>"
            ],
            "text/plain": [
              "      user    ascore\n",
              "0  AJQ0376  0.026731\n",
              "1  AJR0231  0.109803\n",
              "2  AOD0066  0.012686\n",
              "3  ARH0777  0.136812\n",
              "4  BCP0247  0.005295"
            ]
          },
          "metadata": {},
          "execution_count": 114
        }
      ]
    },
    {
      "cell_type": "code",
      "metadata": {
        "colab": {
          "base_uri": "https://localhost:8080/",
          "height": 313
        },
        "id": "whsrUChUu_62",
        "outputId": "7db3576a-d3c4-433a-8653-5d83d3277983"
      },
      "source": [
        "# df_device_file_full_result.hist(bins = 15)\n",
        "df_device_file_full_result.hist()"
      ],
      "execution_count": null,
      "outputs": [
        {
          "output_type": "execute_result",
          "data": {
            "text/plain": [
              "array([[<matplotlib.axes._subplots.AxesSubplot object at 0x7fe22714fad0>]],\n",
              "      dtype=object)"
            ]
          },
          "metadata": {},
          "execution_count": 115
        },
        {
          "output_type": "display_data",
          "data": {
            "image/png": "[encoded data removed]",
            "text/plain": [
              "<Figure size 432x288 with 1 Axes>"
            ]
          },
          "metadata": {
            "needs_background": "light"
          }
        }
      ]
    },
    {
      "cell_type": "code",
      "metadata": {
        "colab": {
          "base_uri": "https://localhost:8080/",
          "height": 200
        },
        "id": "UAAFPFyEHJeL",
        "outputId": "982cefdf-c622-4306-ac69-094e7410b4a0"
      },
      "source": [
        "df_psychometric_result.head()"
      ],
      "execution_count": null,
      "outputs": [
        {
          "output_type": "execute_result",
          "data": {
            "text/html": [
              "<div>\n",
              "<style scoped>\n",
              "    .dataframe tbody tr th:only-of-type {\n",
              "        vertical-align: middle;\n",
              "    }\n",
              "\n",
              "    .dataframe tbody tr th {\n",
              "        vertical-align: top;\n",
              "    }\n",
              "\n",
              "    .dataframe thead th {\n",
              "        text-align: right;\n",
              "    }\n",
              "</style>\n",
              "<table border=\"1\" class=\"dataframe\">\n",
              "  <thead>\n",
              "    <tr style=\"text-align: right;\">\n",
              "      <th></th>\n",
              "      <th>user</th>\n",
              "      <th>ascore</th>\n",
              "    </tr>\n",
              "  </thead>\n",
              "  <tbody>\n",
              "    <tr>\n",
              "      <th>0</th>\n",
              "      <td>HBB0090</td>\n",
              "      <td>0.043877</td>\n",
              "    </tr>\n",
              "    <tr>\n",
              "      <th>1</th>\n",
              "      <td>HBB0090</td>\n",
              "      <td>0.043877</td>\n",
              "    </tr>\n",
              "    <tr>\n",
              "      <th>2</th>\n",
              "      <td>HBB0090</td>\n",
              "      <td>0.043877</td>\n",
              "    </tr>\n",
              "    <tr>\n",
              "      <th>3</th>\n",
              "      <td>HBB0090</td>\n",
              "      <td>0.043877</td>\n",
              "    </tr>\n",
              "    <tr>\n",
              "      <th>4</th>\n",
              "      <td>HBB0090</td>\n",
              "      <td>0.043877</td>\n",
              "    </tr>\n",
              "  </tbody>\n",
              "</table>\n",
              "</div>"
            ],
            "text/plain": [
              "      user    ascore\n",
              "0  HBB0090  0.043877\n",
              "1  HBB0090  0.043877\n",
              "2  HBB0090  0.043877\n",
              "3  HBB0090  0.043877\n",
              "4  HBB0090  0.043877"
            ]
          },
          "metadata": {},
          "execution_count": 116
        }
      ]
    },
    {
      "cell_type": "code",
      "metadata": {
        "colab": {
          "base_uri": "https://localhost:8080/",
          "height": 313
        },
        "id": "No2GNIZevI60",
        "outputId": "015e9765-79dc-4ec2-e5fc-b60d2f4c768e"
      },
      "source": [
        "df_psychometric_result.hist()"
      ],
      "execution_count": null,
      "outputs": [
        {
          "output_type": "execute_result",
          "data": {
            "text/plain": [
              "array([[<matplotlib.axes._subplots.AxesSubplot object at 0x7fe2270d2310>]],\n",
              "      dtype=object)"
            ]
          },
          "metadata": {},
          "execution_count": 117
        },
        {
          "output_type": "display_data",
          "data": {
            "image/png": "[encoded data removed]",
            "text/plain": [
              "<Figure size 432x288 with 1 Axes>"
            ]
          },
          "metadata": {
            "needs_background": "light"
          }
        }
      ]
    },
    {
      "cell_type": "code",
      "metadata": {
        "colab": {
          "base_uri": "https://localhost:8080/",
          "height": 200
        },
        "id": "B43P_J8xHSzD",
        "outputId": "902b588d-eec8-4a18-a690-e7e6505e734b"
      },
      "source": [
        "df_all_parameters_result.head()"
      ],
      "execution_count": null,
      "outputs": [
        {
          "output_type": "execute_result",
          "data": {
            "text/html": [
              "<div>\n",
              "<style scoped>\n",
              "    .dataframe tbody tr th:only-of-type {\n",
              "        vertical-align: middle;\n",
              "    }\n",
              "\n",
              "    .dataframe tbody tr th {\n",
              "        vertical-align: top;\n",
              "    }\n",
              "\n",
              "    .dataframe thead th {\n",
              "        text-align: right;\n",
              "    }\n",
              "</style>\n",
              "<table border=\"1\" class=\"dataframe\">\n",
              "  <thead>\n",
              "    <tr style=\"text-align: right;\">\n",
              "      <th></th>\n",
              "      <th>user</th>\n",
              "      <th>ascore</th>\n",
              "    </tr>\n",
              "  </thead>\n",
              "  <tbody>\n",
              "    <tr>\n",
              "      <th>0</th>\n",
              "      <td>AAN0077</td>\n",
              "      <td>0.106959</td>\n",
              "    </tr>\n",
              "    <tr>\n",
              "      <th>1</th>\n",
              "      <td>AAW0103</td>\n",
              "      <td>0.059615</td>\n",
              "    </tr>\n",
              "    <tr>\n",
              "      <th>2</th>\n",
              "      <td>ACE0265</td>\n",
              "      <td>0.088730</td>\n",
              "    </tr>\n",
              "    <tr>\n",
              "      <th>3</th>\n",
              "      <td>ACL0394</td>\n",
              "      <td>0.007106</td>\n",
              "    </tr>\n",
              "    <tr>\n",
              "      <th>4</th>\n",
              "      <td>ADR0362</td>\n",
              "      <td>0.114103</td>\n",
              "    </tr>\n",
              "  </tbody>\n",
              "</table>\n",
              "</div>"
            ],
            "text/plain": [
              "      user    ascore\n",
              "0  AAN0077  0.106959\n",
              "1  AAW0103  0.059615\n",
              "2  ACE0265  0.088730\n",
              "3  ACL0394  0.007106\n",
              "4  ADR0362  0.114103"
            ]
          },
          "metadata": {},
          "execution_count": 118
        }
      ]
    },
    {
      "cell_type": "code",
      "metadata": {
        "colab": {
          "base_uri": "https://localhost:8080/",
          "height": 313
        },
        "id": "WxnOHx1_3KMz",
        "outputId": "71c9519b-740e-4c8b-c2a5-0f6482928a54"
      },
      "source": [
        "df_all_parameters_result.hist()"
      ],
      "execution_count": null,
      "outputs": [
        {
          "output_type": "execute_result",
          "data": {
            "text/plain": [
              "array([[<matplotlib.axes._subplots.AxesSubplot object at 0x7fe227065b10>]],\n",
              "      dtype=object)"
            ]
          },
          "metadata": {},
          "execution_count": 119
        },
        {
          "output_type": "display_data",
          "data": {
            "image/png": "[encoded data removed]",
            "text/plain": [
              "<Figure size 432x288 with 1 Axes>"
            ]
          },
          "metadata": {
            "needs_background": "light"
          }
        }
      ]
    },
    {
      "cell_type": "code",
      "metadata": {
        "colab": {
          "base_uri": "https://localhost:8080/",
          "height": 313
        },
        "id": "9l5qYulB3YDJ",
        "outputId": "1943ab9a-9c68-4292-85f4-bfb380b9e1dc"
      },
      "source": [
        "df_all_parameters_result.loc[df_all_parameters_result['ascore'] < 0].hist()"
      ],
      "execution_count": null,
      "outputs": [
        {
          "output_type": "execute_result",
          "data": {
            "text/plain": [
              "array([[<matplotlib.axes._subplots.AxesSubplot object at 0x7fe226fff9d0>]],\n",
              "      dtype=object)"
            ]
          },
          "metadata": {},
          "execution_count": 120
        },
        {
          "output_type": "display_data",
          "data": {
            "image/png": "[encoded data removed]",
            "text/plain": [
              "<Figure size 432x288 with 1 Axes>"
            ]
          },
          "metadata": {
            "needs_background": "light"
          }
        }
      ]
    },
    {
      "cell_type": "code",
      "metadata": {
        "colab": {
          "base_uri": "https://localhost:8080/"
        },
        "id": "efth97H04HMR",
        "outputId": "b622f35a-ddad-4cf4-b7c1-69e7625400ff"
      },
      "source": [
        "df_threat_users_all_params = df_all_parameters_result.loc[df_all_parameters_result['ascore'] < -0.065]\n",
        "print(df_threat_users_all_params)"
      ],
      "execution_count": null,
      "outputs": [
        {
          "output_type": "stream",
          "name": "stdout",
          "text": [
            "        user    ascore\n",
            "56   CQS0899 -0.098143\n",
            "77   FED0275 -0.118413\n",
            "147  LWB0078 -0.101970\n",
            "178  RAW0533 -0.066473\n"
          ]
        }
      ]
    },
    {
      "cell_type": "code",
      "metadata": {
        "colab": {
          "base_uri": "https://localhost:8080/",
          "height": 170
        },
        "id": "MiG6E3Qe4TW5",
        "outputId": "cb63c011-0418-42e4-951b-e58859108089"
      },
      "source": [
        "df_all_parameters[df_all_parameters.user.isin(df_threat_users_all_params.user)]"
      ],
      "execution_count": null,
      "outputs": [
        {
          "output_type": "execute_result",
          "data": {
            "text/html": [
              "<div>\n",
              "<style scoped>\n",
              "    .dataframe tbody tr th:only-of-type {\n",
              "        vertical-align: middle;\n",
              "    }\n",
              "\n",
              "    .dataframe tbody tr th {\n",
              "        vertical-align: top;\n",
              "    }\n",
              "\n",
              "    .dataframe thead th {\n",
              "        text-align: right;\n",
              "    }\n",
              "</style>\n",
              "<table border=\"1\" class=\"dataframe\">\n",
              "  <thead>\n",
              "    <tr style=\"text-align: right;\">\n",
              "      <th></th>\n",
              "      <th>user</th>\n",
              "      <th>on_min_ts</th>\n",
              "      <th>on_max_ts</th>\n",
              "      <th>on_mode_ts</th>\n",
              "      <th>on_mean_ts</th>\n",
              "      <th>off_min_ts</th>\n",
              "      <th>off_max_ts</th>\n",
              "      <th>off_mode_ts</th>\n",
              "      <th>off_mean_ts</th>\n",
              "      <th>count</th>\n",
              "      <th>O</th>\n",
              "      <th>C</th>\n",
              "      <th>E</th>\n",
              "      <th>A</th>\n",
              "      <th>N</th>\n",
              "    </tr>\n",
              "  </thead>\n",
              "  <tbody>\n",
              "    <tr>\n",
              "      <th>56</th>\n",
              "      <td>CQS0899</td>\n",
              "      <td>606</td>\n",
              "      <td>85229</td>\n",
              "      <td>30600</td>\n",
              "      <td>36000</td>\n",
              "      <td>606</td>\n",
              "      <td>85229</td>\n",
              "      <td>30600</td>\n",
              "      <td>36000</td>\n",
              "      <td>27</td>\n",
              "      <td>41</td>\n",
              "      <td>38</td>\n",
              "      <td>41</td>\n",
              "      <td>24</td>\n",
              "      <td>36</td>\n",
              "    </tr>\n",
              "    <tr>\n",
              "      <th>77</th>\n",
              "      <td>FED0275</td>\n",
              "      <td>2462</td>\n",
              "      <td>81960</td>\n",
              "      <td>26400</td>\n",
              "      <td>28800</td>\n",
              "      <td>2462</td>\n",
              "      <td>81960</td>\n",
              "      <td>26400</td>\n",
              "      <td>28800</td>\n",
              "      <td>43</td>\n",
              "      <td>26</td>\n",
              "      <td>16</td>\n",
              "      <td>28</td>\n",
              "      <td>13</td>\n",
              "      <td>30</td>\n",
              "    </tr>\n",
              "    <tr>\n",
              "      <th>147</th>\n",
              "      <td>LWB0078</td>\n",
              "      <td>1104</td>\n",
              "      <td>86213</td>\n",
              "      <td>28920</td>\n",
              "      <td>28800</td>\n",
              "      <td>1104</td>\n",
              "      <td>86213</td>\n",
              "      <td>28920</td>\n",
              "      <td>28800</td>\n",
              "      <td>55</td>\n",
              "      <td>50</td>\n",
              "      <td>38</td>\n",
              "      <td>48</td>\n",
              "      <td>30</td>\n",
              "      <td>28</td>\n",
              "    </tr>\n",
              "    <tr>\n",
              "      <th>178</th>\n",
              "      <td>RAW0533</td>\n",
              "      <td>1401</td>\n",
              "      <td>71230</td>\n",
              "      <td>27900</td>\n",
              "      <td>25200</td>\n",
              "      <td>1401</td>\n",
              "      <td>71230</td>\n",
              "      <td>27900</td>\n",
              "      <td>25200</td>\n",
              "      <td>2</td>\n",
              "      <td>38</td>\n",
              "      <td>21</td>\n",
              "      <td>18</td>\n",
              "      <td>20</td>\n",
              "      <td>36</td>\n",
              "    </tr>\n",
              "  </tbody>\n",
              "</table>\n",
              "</div>"
            ],
            "text/plain": [
              "        user  on_min_ts  on_max_ts  on_mode_ts  on_mean_ts  ...   O   C   E   A   N\n",
              "56   CQS0899        606      85229       30600       36000  ...  41  38  41  24  36\n",
              "77   FED0275       2462      81960       26400       28800  ...  26  16  28  13  30\n",
              "147  LWB0078       1104      86213       28920       28800  ...  50  38  48  30  28\n",
              "178  RAW0533       1401      71230       27900       25200  ...  38  21  18  20  36\n",
              "\n",
              "[4 rows x 15 columns]"
            ]
          },
          "metadata": {},
          "execution_count": 122
        }
      ]
    },
    {
      "cell_type": "code",
      "metadata": {
        "colab": {
          "base_uri": "https://localhost:8080/",
          "height": 200
        },
        "id": "Ia49ZZl2Hspz",
        "outputId": "fa2f97ec-d567-4b95-e22d-28cd7c921b00"
      },
      "source": [
        "df_device_file_full_result.head()"
      ],
      "execution_count": null,
      "outputs": [
        {
          "output_type": "execute_result",
          "data": {
            "text/html": [
              "<div>\n",
              "<style scoped>\n",
              "    .dataframe tbody tr th:only-of-type {\n",
              "        vertical-align: middle;\n",
              "    }\n",
              "\n",
              "    .dataframe tbody tr th {\n",
              "        vertical-align: top;\n",
              "    }\n",
              "\n",
              "    .dataframe thead th {\n",
              "        text-align: right;\n",
              "    }\n",
              "</style>\n",
              "<table border=\"1\" class=\"dataframe\">\n",
              "  <thead>\n",
              "    <tr style=\"text-align: right;\">\n",
              "      <th></th>\n",
              "      <th>user</th>\n",
              "      <th>ascore</th>\n",
              "    </tr>\n",
              "  </thead>\n",
              "  <tbody>\n",
              "    <tr>\n",
              "      <th>0</th>\n",
              "      <td>AJQ0376</td>\n",
              "      <td>0.026731</td>\n",
              "    </tr>\n",
              "    <tr>\n",
              "      <th>1</th>\n",
              "      <td>AJR0231</td>\n",
              "      <td>0.109803</td>\n",
              "    </tr>\n",
              "    <tr>\n",
              "      <th>2</th>\n",
              "      <td>AOD0066</td>\n",
              "      <td>0.012686</td>\n",
              "    </tr>\n",
              "    <tr>\n",
              "      <th>3</th>\n",
              "      <td>ARH0777</td>\n",
              "      <td>0.136812</td>\n",
              "    </tr>\n",
              "    <tr>\n",
              "      <th>4</th>\n",
              "      <td>BCP0247</td>\n",
              "      <td>0.005295</td>\n",
              "    </tr>\n",
              "  </tbody>\n",
              "</table>\n",
              "</div>"
            ],
            "text/plain": [
              "      user    ascore\n",
              "0  AJQ0376  0.026731\n",
              "1  AJR0231  0.109803\n",
              "2  AOD0066  0.012686\n",
              "3  ARH0777  0.136812\n",
              "4  BCP0247  0.005295"
            ]
          },
          "metadata": {},
          "execution_count": 123
        }
      ]
    },
    {
      "cell_type": "code",
      "metadata": {
        "colab": {
          "base_uri": "https://localhost:8080/",
          "height": 313
        },
        "id": "SfpZOhD-5iMQ",
        "outputId": "4548b7aa-5b10-4991-ce84-e5e0218a8f01"
      },
      "source": [
        "df_device_file_full_result.loc[df_device_file_full_result['ascore'] < 0].hist()"
      ],
      "execution_count": null,
      "outputs": [
        {
          "output_type": "execute_result",
          "data": {
            "text/plain": [
              "array([[<matplotlib.axes._subplots.AxesSubplot object at 0x7fe226f80210>]],\n",
              "      dtype=object)"
            ]
          },
          "metadata": {},
          "execution_count": 124
        },
        {
          "output_type": "display_data",
          "data": {
            "image/png": "[encoded data removed]",
            "text/plain": [
              "<Figure size 432x288 with 1 Axes>"
            ]
          },
          "metadata": {
            "needs_background": "light"
          }
        }
      ]
    },
    {
      "cell_type": "code",
      "metadata": {
        "colab": {
          "base_uri": "https://localhost:8080/"
        },
        "id": "x8MWf2f55irQ",
        "outputId": "aff30d0a-c7cf-4da1-b9d8-95fc3c325831"
      },
      "source": [
        "df_threat_users_device_file = df_device_file_full_result.loc[df_device_file_full_result['ascore'] <= 0]\n",
        "print(df_threat_users_device_file)"
      ],
      "execution_count": null,
      "outputs": [
        {
          "output_type": "stream",
          "name": "stdout",
          "text": [
            "       user    ascore\n",
            "6   BMS0057 -0.037594\n",
            "12  CSD0242 -0.073973\n",
            "37  QLC0248 -0.058170\n",
            "40  SBM0063 -0.051844\n",
            "46  ZBL0379 -0.007943\n"
          ]
        }
      ]
    },
    {
      "cell_type": "code",
      "metadata": {
        "colab": {
          "base_uri": "https://localhost:8080/",
          "height": 200
        },
        "id": "jCJmJ9Ht5jIA",
        "outputId": "1d4f48f0-6bb2-4b99-fd1c-89e0dbb46e16"
      },
      "source": [
        "df_device_full[df_device_full.user.isin(df_threat_users_device_file.user)]"
      ],
      "execution_count": null,
      "outputs": [
        {
          "output_type": "execute_result",
          "data": {
            "text/html": [
              "<div>\n",
              "<style scoped>\n",
              "    .dataframe tbody tr th:only-of-type {\n",
              "        vertical-align: middle;\n",
              "    }\n",
              "\n",
              "    .dataframe tbody tr th {\n",
              "        vertical-align: top;\n",
              "    }\n",
              "\n",
              "    .dataframe thead th {\n",
              "        text-align: right;\n",
              "    }\n",
              "</style>\n",
              "<table border=\"1\" class=\"dataframe\">\n",
              "  <thead>\n",
              "    <tr style=\"text-align: right;\">\n",
              "      <th></th>\n",
              "      <th>user</th>\n",
              "      <th>con_min_ts</th>\n",
              "      <th>con_max_ts</th>\n",
              "      <th>con_mode_ts</th>\n",
              "      <th>con_mean_ts</th>\n",
              "      <th>dcon_min_ts</th>\n",
              "      <th>dcon_max_ts</th>\n",
              "      <th>dcon_mode_ts</th>\n",
              "      <th>dcon_mean_ts</th>\n",
              "      <th>file_mode</th>\n",
              "      <th>file_max</th>\n",
              "    </tr>\n",
              "  </thead>\n",
              "  <tbody>\n",
              "    <tr>\n",
              "      <th>6</th>\n",
              "      <td>BMS0057</td>\n",
              "      <td>1185</td>\n",
              "      <td>76882</td>\n",
              "      <td>34017</td>\n",
              "      <td>43200</td>\n",
              "      <td>1185</td>\n",
              "      <td>76882</td>\n",
              "      <td>34017</td>\n",
              "      <td>43200</td>\n",
              "      <td>36</td>\n",
              "      <td>234</td>\n",
              "    </tr>\n",
              "    <tr>\n",
              "      <th>12</th>\n",
              "      <td>CSD0242</td>\n",
              "      <td>514</td>\n",
              "      <td>86209</td>\n",
              "      <td>55868</td>\n",
              "      <td>39600</td>\n",
              "      <td>514</td>\n",
              "      <td>86209</td>\n",
              "      <td>55868</td>\n",
              "      <td>39600</td>\n",
              "      <td>486</td>\n",
              "      <td>666</td>\n",
              "    </tr>\n",
              "    <tr>\n",
              "      <th>37</th>\n",
              "      <td>QLC0248</td>\n",
              "      <td>8753</td>\n",
              "      <td>83989</td>\n",
              "      <td>32223</td>\n",
              "      <td>43200</td>\n",
              "      <td>8753</td>\n",
              "      <td>83989</td>\n",
              "      <td>32223</td>\n",
              "      <td>43200</td>\n",
              "      <td>486</td>\n",
              "      <td>522</td>\n",
              "    </tr>\n",
              "    <tr>\n",
              "      <th>40</th>\n",
              "      <td>SBM0063</td>\n",
              "      <td>34</td>\n",
              "      <td>85234</td>\n",
              "      <td>48270</td>\n",
              "      <td>36000</td>\n",
              "      <td>34</td>\n",
              "      <td>85234</td>\n",
              "      <td>48270</td>\n",
              "      <td>36000</td>\n",
              "      <td>144</td>\n",
              "      <td>306</td>\n",
              "    </tr>\n",
              "    <tr>\n",
              "      <th>46</th>\n",
              "      <td>ZBL0379</td>\n",
              "      <td>30142</td>\n",
              "      <td>69372</td>\n",
              "      <td>52603</td>\n",
              "      <td>46800</td>\n",
              "      <td>30142</td>\n",
              "      <td>69372</td>\n",
              "      <td>52603</td>\n",
              "      <td>46800</td>\n",
              "      <td>72</td>\n",
              "      <td>252</td>\n",
              "    </tr>\n",
              "  </tbody>\n",
              "</table>\n",
              "</div>"
            ],
            "text/plain": [
              "       user  con_min_ts  con_max_ts  ...  dcon_mean_ts  file_mode  file_max\n",
              "6   BMS0057        1185       76882  ...         43200         36       234\n",
              "12  CSD0242         514       86209  ...         39600        486       666\n",
              "37  QLC0248        8753       83989  ...         43200        486       522\n",
              "40  SBM0063          34       85234  ...         36000        144       306\n",
              "46  ZBL0379       30142       69372  ...         46800         72       252\n",
              "\n",
              "[5 rows x 11 columns]"
            ]
          },
          "metadata": {},
          "execution_count": 126
        }
      ]
    },
    {
      "cell_type": "code",
      "metadata": {
        "colab": {
          "base_uri": "https://localhost:8080/",
          "height": 313
        },
        "id": "wHUrO_iV5z5Y",
        "outputId": "553127da-9b1d-4c62-dfea-c73f73066b72"
      },
      "source": [
        "df_user_log_result.head()\n",
        "df_user_log_result.loc[df_user_log_result['ascore'] < 0].hist()"
      ],
      "execution_count": null,
      "outputs": [
        {
          "output_type": "execute_result",
          "data": {
            "text/plain": [
              "array([[<matplotlib.axes._subplots.AxesSubplot object at 0x7fe226ee80d0>]],\n",
              "      dtype=object)"
            ]
          },
          "metadata": {},
          "execution_count": 127
        },
        {
          "output_type": "display_data",
          "data": {
            "image/png": "[encoded data removed]",
            "text/plain": [
              "<Figure size 432x288 with 1 Axes>"
            ]
          },
          "metadata": {
            "needs_background": "light"
          }
        }
      ]
    },
    {
      "cell_type": "code",
      "metadata": {
        "colab": {
          "base_uri": "https://localhost:8080/"
        },
        "id": "Kfmhtpxx50Sg",
        "outputId": "04d8074e-4982-4e71-af22-12ec1706fa93"
      },
      "source": [
        "df_threat_users_log = df_user_log_result.loc[df_user_log_result['ascore'] <= -0.04]\n",
        "print(df_threat_users_log)"
      ],
      "execution_count": null,
      "outputs": [
        {
          "output_type": "stream",
          "name": "stdout",
          "text": [
            "        user    ascore\n",
            "56   CQS0899 -0.118650\n",
            "77   FED0275 -0.100801\n",
            "178  RAW0533 -0.071614\n",
            "180  RCG0105 -0.040896\n",
            "214  VLB0069 -0.048681\n"
          ]
        }
      ]
    },
    {
      "cell_type": "code",
      "metadata": {
        "colab": {
          "base_uri": "https://localhost:8080/",
          "height": 200
        },
        "id": "Gv8cbTvr50n3",
        "outputId": "42832889-5e8c-4fcc-9d55-b99edcc1d2f6"
      },
      "source": [
        "df_log_on_off_stats[df_log_on_off_stats.user.isin(df_threat_users_log.user)]"
      ],
      "execution_count": null,
      "outputs": [
        {
          "output_type": "execute_result",
          "data": {
            "text/html": [
              "<div>\n",
              "<style scoped>\n",
              "    .dataframe tbody tr th:only-of-type {\n",
              "        vertical-align: middle;\n",
              "    }\n",
              "\n",
              "    .dataframe tbody tr th {\n",
              "        vertical-align: top;\n",
              "    }\n",
              "\n",
              "    .dataframe thead th {\n",
              "        text-align: right;\n",
              "    }\n",
              "</style>\n",
              "<table border=\"1\" class=\"dataframe\">\n",
              "  <thead>\n",
              "    <tr style=\"text-align: right;\">\n",
              "      <th></th>\n",
              "      <th>user</th>\n",
              "      <th>on_min_ts</th>\n",
              "      <th>on_max_ts</th>\n",
              "      <th>on_mode_ts</th>\n",
              "      <th>on_mean_ts</th>\n",
              "      <th>off_min_ts</th>\n",
              "      <th>off_max_ts</th>\n",
              "      <th>off_mode_ts</th>\n",
              "      <th>off_mean_ts</th>\n",
              "    </tr>\n",
              "  </thead>\n",
              "  <tbody>\n",
              "    <tr>\n",
              "      <th>56</th>\n",
              "      <td>CQS0899</td>\n",
              "      <td>606</td>\n",
              "      <td>85229</td>\n",
              "      <td>30600</td>\n",
              "      <td>36000</td>\n",
              "      <td>606</td>\n",
              "      <td>85229</td>\n",
              "      <td>30600</td>\n",
              "      <td>36000</td>\n",
              "    </tr>\n",
              "    <tr>\n",
              "      <th>77</th>\n",
              "      <td>FED0275</td>\n",
              "      <td>2462</td>\n",
              "      <td>81960</td>\n",
              "      <td>26400</td>\n",
              "      <td>28800</td>\n",
              "      <td>2462</td>\n",
              "      <td>81960</td>\n",
              "      <td>26400</td>\n",
              "      <td>28800</td>\n",
              "    </tr>\n",
              "    <tr>\n",
              "      <th>178</th>\n",
              "      <td>RAW0533</td>\n",
              "      <td>1401</td>\n",
              "      <td>71230</td>\n",
              "      <td>27900</td>\n",
              "      <td>25200</td>\n",
              "      <td>1401</td>\n",
              "      <td>71230</td>\n",
              "      <td>27900</td>\n",
              "      <td>25200</td>\n",
              "    </tr>\n",
              "    <tr>\n",
              "      <th>180</th>\n",
              "      <td>RCG0105</td>\n",
              "      <td>25200</td>\n",
              "      <td>58840</td>\n",
              "      <td>26400</td>\n",
              "      <td>25200</td>\n",
              "      <td>25200</td>\n",
              "      <td>58840</td>\n",
              "      <td>26400</td>\n",
              "      <td>25200</td>\n",
              "    </tr>\n",
              "    <tr>\n",
              "      <th>214</th>\n",
              "      <td>VLB0069</td>\n",
              "      <td>2059</td>\n",
              "      <td>83319</td>\n",
              "      <td>28800</td>\n",
              "      <td>25200</td>\n",
              "      <td>2059</td>\n",
              "      <td>83319</td>\n",
              "      <td>28800</td>\n",
              "      <td>25200</td>\n",
              "    </tr>\n",
              "  </tbody>\n",
              "</table>\n",
              "</div>"
            ],
            "text/plain": [
              "        user  on_min_ts  on_max_ts  ...  off_max_ts  off_mode_ts  off_mean_ts\n",
              "56   CQS0899        606      85229  ...       85229        30600        36000\n",
              "77   FED0275       2462      81960  ...       81960        26400        28800\n",
              "178  RAW0533       1401      71230  ...       71230        27900        25200\n",
              "180  RCG0105      25200      58840  ...       58840        26400        25200\n",
              "214  VLB0069       2059      83319  ...       83319        28800        25200\n",
              "\n",
              "[5 rows x 9 columns]"
            ]
          },
          "metadata": {},
          "execution_count": 129
        }
      ]
    },
    {
      "cell_type": "code",
      "metadata": {
        "colab": {
          "base_uri": "https://localhost:8080/",
          "height": 200
        },
        "id": "lfpzOHjmH-5m",
        "outputId": "bfba96b0-aa5b-4c0f-d792-0dc6bd57b6d8"
      },
      "source": [
        "df_psychometric_result.head()"
      ],
      "execution_count": null,
      "outputs": [
        {
          "output_type": "execute_result",
          "data": {
            "text/html": [
              "<div>\n",
              "<style scoped>\n",
              "    .dataframe tbody tr th:only-of-type {\n",
              "        vertical-align: middle;\n",
              "    }\n",
              "\n",
              "    .dataframe tbody tr th {\n",
              "        vertical-align: top;\n",
              "    }\n",
              "\n",
              "    .dataframe thead th {\n",
              "        text-align: right;\n",
              "    }\n",
              "</style>\n",
              "<table border=\"1\" class=\"dataframe\">\n",
              "  <thead>\n",
              "    <tr style=\"text-align: right;\">\n",
              "      <th></th>\n",
              "      <th>user</th>\n",
              "      <th>ascore</th>\n",
              "    </tr>\n",
              "  </thead>\n",
              "  <tbody>\n",
              "    <tr>\n",
              "      <th>0</th>\n",
              "      <td>HBB0090</td>\n",
              "      <td>0.043877</td>\n",
              "    </tr>\n",
              "    <tr>\n",
              "      <th>1</th>\n",
              "      <td>HBB0090</td>\n",
              "      <td>0.043877</td>\n",
              "    </tr>\n",
              "    <tr>\n",
              "      <th>2</th>\n",
              "      <td>HBB0090</td>\n",
              "      <td>0.043877</td>\n",
              "    </tr>\n",
              "    <tr>\n",
              "      <th>3</th>\n",
              "      <td>HBB0090</td>\n",
              "      <td>0.043877</td>\n",
              "    </tr>\n",
              "    <tr>\n",
              "      <th>4</th>\n",
              "      <td>HBB0090</td>\n",
              "      <td>0.043877</td>\n",
              "    </tr>\n",
              "  </tbody>\n",
              "</table>\n",
              "</div>"
            ],
            "text/plain": [
              "      user    ascore\n",
              "0  HBB0090  0.043877\n",
              "1  HBB0090  0.043877\n",
              "2  HBB0090  0.043877\n",
              "3  HBB0090  0.043877\n",
              "4  HBB0090  0.043877"
            ]
          },
          "metadata": {},
          "execution_count": 130
        }
      ]
    },
    {
      "cell_type": "code",
      "metadata": {
        "colab": {
          "base_uri": "https://localhost:8080/",
          "height": 313
        },
        "id": "EI4J62A15jbh",
        "outputId": "9bb6e3ff-8a6f-4d03-b902-c9341e69645e"
      },
      "source": [
        "df_psychometric_result.loc[df_psychometric_result['ascore'] < 0].hist()"
      ],
      "execution_count": null,
      "outputs": [
        {
          "output_type": "execute_result",
          "data": {
            "text/plain": [
              "array([[<matplotlib.axes._subplots.AxesSubplot object at 0x7fe226e0d690>]],\n",
              "      dtype=object)"
            ]
          },
          "metadata": {},
          "execution_count": 131
        },
        {
          "output_type": "display_data",
          "data": {
            "image/png": "[encoded data removed]",
            "text/plain": [
              "<Figure size 432x288 with 1 Axes>"
            ]
          },
          "metadata": {
            "needs_background": "light"
          }
        }
      ]
    },
    {
      "cell_type": "code",
      "metadata": {
        "id": "2zb5sPjt6wGq"
      },
      "source": [
        "df_threat_psycho = df_psychometric_result.loc[df_psychometric_result['ascore'] <= -0.04]\n"
      ],
      "execution_count": null,
      "outputs": []
    },
    {
      "cell_type": "code",
      "metadata": {
        "colab": {
          "base_uri": "https://localhost:8080/",
          "height": 408
        },
        "id": "hunvxGO76wq4",
        "outputId": "31811802-f0d9-4082-abd3-234a9c0a3873"
      },
      "source": [
        "df_psychometric_users_clean[df_psychometric_users_clean.user_id.isin(df_threat_psycho.user)]"
      ],
      "execution_count": null,
      "outputs": [
        {
          "output_type": "execute_result",
          "data": {
            "text/html": [
              "<div>\n",
              "<style scoped>\n",
              "    .dataframe tbody tr th:only-of-type {\n",
              "        vertical-align: middle;\n",
              "    }\n",
              "\n",
              "    .dataframe tbody tr th {\n",
              "        vertical-align: top;\n",
              "    }\n",
              "\n",
              "    .dataframe thead th {\n",
              "        text-align: right;\n",
              "    }\n",
              "</style>\n",
              "<table border=\"1\" class=\"dataframe\">\n",
              "  <thead>\n",
              "    <tr style=\"text-align: right;\">\n",
              "      <th></th>\n",
              "      <th>employee_name</th>\n",
              "      <th>user_id</th>\n",
              "      <th>O</th>\n",
              "      <th>C</th>\n",
              "      <th>E</th>\n",
              "      <th>A</th>\n",
              "      <th>N</th>\n",
              "    </tr>\n",
              "  </thead>\n",
              "  <tbody>\n",
              "    <tr>\n",
              "      <th>1167</th>\n",
              "      <td>Arden Leo Chase</td>\n",
              "      <td>ALC0100</td>\n",
              "      <td>11</td>\n",
              "      <td>38</td>\n",
              "      <td>14</td>\n",
              "      <td>48</td>\n",
              "      <td>28</td>\n",
              "    </tr>\n",
              "    <tr>\n",
              "      <th>1168</th>\n",
              "      <td>Arden Leo Chase</td>\n",
              "      <td>ALC0100</td>\n",
              "      <td>11</td>\n",
              "      <td>38</td>\n",
              "      <td>14</td>\n",
              "      <td>48</td>\n",
              "      <td>28</td>\n",
              "    </tr>\n",
              "    <tr>\n",
              "      <th>1169</th>\n",
              "      <td>Arden Leo Chase</td>\n",
              "      <td>ALC0100</td>\n",
              "      <td>11</td>\n",
              "      <td>38</td>\n",
              "      <td>14</td>\n",
              "      <td>48</td>\n",
              "      <td>28</td>\n",
              "    </tr>\n",
              "    <tr>\n",
              "      <th>1170</th>\n",
              "      <td>Arden Leo Chase</td>\n",
              "      <td>ALC0100</td>\n",
              "      <td>11</td>\n",
              "      <td>38</td>\n",
              "      <td>14</td>\n",
              "      <td>48</td>\n",
              "      <td>28</td>\n",
              "    </tr>\n",
              "    <tr>\n",
              "      <th>1171</th>\n",
              "      <td>Arden Leo Chase</td>\n",
              "      <td>ALC0100</td>\n",
              "      <td>11</td>\n",
              "      <td>38</td>\n",
              "      <td>14</td>\n",
              "      <td>48</td>\n",
              "      <td>28</td>\n",
              "    </tr>\n",
              "    <tr>\n",
              "      <th>...</th>\n",
              "      <td>...</td>\n",
              "      <td>...</td>\n",
              "      <td>...</td>\n",
              "      <td>...</td>\n",
              "      <td>...</td>\n",
              "      <td>...</td>\n",
              "      <td>...</td>\n",
              "    </tr>\n",
              "    <tr>\n",
              "      <th>3744</th>\n",
              "      <td>Brock Zeus Kim</td>\n",
              "      <td>BZK0095</td>\n",
              "      <td>33</td>\n",
              "      <td>13</td>\n",
              "      <td>30</td>\n",
              "      <td>47</td>\n",
              "      <td>40</td>\n",
              "    </tr>\n",
              "    <tr>\n",
              "      <th>3745</th>\n",
              "      <td>Brock Zeus Kim</td>\n",
              "      <td>BZK0095</td>\n",
              "      <td>33</td>\n",
              "      <td>13</td>\n",
              "      <td>30</td>\n",
              "      <td>47</td>\n",
              "      <td>40</td>\n",
              "    </tr>\n",
              "    <tr>\n",
              "      <th>3746</th>\n",
              "      <td>Brock Zeus Kim</td>\n",
              "      <td>BZK0095</td>\n",
              "      <td>33</td>\n",
              "      <td>13</td>\n",
              "      <td>30</td>\n",
              "      <td>47</td>\n",
              "      <td>40</td>\n",
              "    </tr>\n",
              "    <tr>\n",
              "      <th>3747</th>\n",
              "      <td>Brock Zeus Kim</td>\n",
              "      <td>BZK0095</td>\n",
              "      <td>33</td>\n",
              "      <td>13</td>\n",
              "      <td>30</td>\n",
              "      <td>47</td>\n",
              "      <td>40</td>\n",
              "    </tr>\n",
              "    <tr>\n",
              "      <th>3748</th>\n",
              "      <td>Brock Zeus Kim</td>\n",
              "      <td>BZK0095</td>\n",
              "      <td>33</td>\n",
              "      <td>13</td>\n",
              "      <td>30</td>\n",
              "      <td>47</td>\n",
              "      <td>40</td>\n",
              "    </tr>\n",
              "  </tbody>\n",
              "</table>\n",
              "<p>72 rows × 7 columns</p>\n",
              "</div>"
            ],
            "text/plain": [
              "        employee_name  user_id   O   C   E   A   N\n",
              "1167  Arden Leo Chase  ALC0100  11  38  14  48  28\n",
              "1168  Arden Leo Chase  ALC0100  11  38  14  48  28\n",
              "1169  Arden Leo Chase  ALC0100  11  38  14  48  28\n",
              "1170  Arden Leo Chase  ALC0100  11  38  14  48  28\n",
              "1171  Arden Leo Chase  ALC0100  11  38  14  48  28\n",
              "...               ...      ...  ..  ..  ..  ..  ..\n",
              "3744   Brock Zeus Kim  BZK0095  33  13  30  47  40\n",
              "3745   Brock Zeus Kim  BZK0095  33  13  30  47  40\n",
              "3746   Brock Zeus Kim  BZK0095  33  13  30  47  40\n",
              "3747   Brock Zeus Kim  BZK0095  33  13  30  47  40\n",
              "3748   Brock Zeus Kim  BZK0095  33  13  30  47  40\n",
              "\n",
              "[72 rows x 7 columns]"
            ]
          },
          "metadata": {},
          "execution_count": 133
        }
      ]
    },
    {
      "cell_type": "code",
      "metadata": {
        "id": "32LeexjN6xQA"
      },
      "source": [
        ""
      ],
      "execution_count": null,
      "outputs": []
    },
    {
      "cell_type": "code",
      "metadata": {
        "id": "jVK9S1JxvPfA"
      },
      "source": [
        "import matplotlib.pyplot as plt\n",
        "import numpy as np\n",
        "import pandas as pd\n",
        "import seaborn as sns"
      ],
      "execution_count": null,
      "outputs": []
    },
    {
      "cell_type": "code",
      "metadata": {
        "colab": {
          "base_uri": "https://localhost:8080/",
          "height": 660
        },
        "id": "EeW4MdzE0TMP",
        "outputId": "3e8ee05e-fef5-40b4-c62d-b4f9c11b50b4"
      },
      "source": [
        "f, ax = plt.subplots(figsize = (20,10))\n",
        "x_col='user'\n",
        "y_col = 'ascore'\n",
        "sns.set_theme(style=\"darkgrid\")\n",
        "sns.pointplot(ax=ax,x=x_col,y=y_col,data=df_all_parameters_result,color='purple')\n",
        "sns.pointplot(ax=ax,x=x_col,y=y_col,data=df_user_log_result,color='grey')\n",
        "sns.pointplot(ax=ax,x=x_col,y=y_col,data=df_psychometric_result,color='brown')\n",
        "sns.pointplot(ax=ax,x=x_col,y=y_col,data=df_device_file_full_result,color='darkorange')\n",
        "\n",
        "ax.legend(handles=ax.lines[::len(df_all_parameters_result)+1], labels=[\"All\",\"Logon/Logoff\",\"Psychometric\",\"Removable Media\"])\n",
        "#ax.set_xtickslabels(rotation = 45)\n",
        "ax.axhline(0, ls='-')\n",
        "ax.set_title('Anomaly score for different set of parameters ', size = 20)\n",
        "plt.rcParams[\"axes.labelsize\"] = 25\n",
        "plt.xticks(rotation = 45, fontsize = 10)\n",
        "plt.yticks(fontsize = 10)\n",
        "plt.show()"
      ],
      "execution_count": null,
      "outputs": [
        {
          "output_type": "display_data",
          "data": {
            "image/png": "[encoded data removed]",
            "text/plain": [
              "<Figure size 1440x720 with 1 Axes>"
            ]
          },
          "metadata": {
            "needs_background": "light"
          }
        }
      ]
    },
    {
      "cell_type": "code",
      "metadata": {
        "id": "X-B4FkUd0ipm",
        "colab": {
          "base_uri": "https://localhost:8080/",
          "height": 956
        },
        "outputId": "52ac9358-2cd1-4772-cd3a-17f472d94705"
      },
      "source": [
        "f, ax = plt.subplots(figsize = (25,15))\n",
        "x_col='user'\n",
        "\n",
        "sns.pointplot(ax=ax,x=x_col,y='mode_trasfers_per_user',data=df_files_stats_new, color='orange')\n",
        "sns.pointplot(ax=ax,x=x_col,y='max_transfers_per_user',data=df_files_stats_new,color='blue')\n",
        "\n",
        "ax.legend(handles=ax.lines[::len(df_files_stats)+1], labels=[\"mode\", \"max\"], fontsize = 20)\n",
        "\n",
        "ax.set_title('File transfers per user', size = 30)\n",
        "plt.rcParams[\"axes.labelsize\"] = 25\n",
        "plt.ylabel(\"Number of files\")\n",
        "plt.xticks(rotation = 45, fontsize = 10)\n",
        "plt.yticks(fontsize = 10)\n",
        "# plt.legend(fontsize=20)\n",
        "plt.show()"
      ],
      "execution_count": null,
      "outputs": [
        {
          "output_type": "display_data",
          "data": {
            "image/png": "[encoded data removed]",
            "text/plain": [
              "<Figure size 1800x1080 with 1 Axes>"
            ]
          },
          "metadata": {}
        }
      ]
    },
    {
      "cell_type": "code",
      "metadata": {
        "id": "oCkXxP-BNnl0"
      },
      "source": [
        ""
      ],
      "execution_count": null,
      "outputs": []
    }
  ]
}